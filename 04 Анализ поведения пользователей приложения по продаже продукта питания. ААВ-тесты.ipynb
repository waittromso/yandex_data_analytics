{
 "cells": [
  {
   "cell_type": "markdown",
   "metadata": {},
   "source": [
    "# Анализ поведения пользователей мобильного приложения"
   ]
  },
  {
   "cell_type": "markdown",
   "metadata": {},
   "source": [
    "**Цель проекта**\n",
    "\n",
    "Разобраться, как ведут себя пользователи мобильного приложения стартапа по продаже продуктов питания.\n",
    "\n",
    "Изучить воронку продаж, узнать, как пользователи доходят до покупки, сколько пользователей доходит до покупки, а сколько — «застревает» на различных шагах.\n",
    "\n",
    "Исследовать результаты A/A/B-эксперимента после изменения дизайнерами шрифтов в приложении.\n",
    "\n",
    "**Описание данных**\n",
    "\n",
    "Каждая запись в логе — это действие пользователя, или событие.\n",
    "\n",
    "EventName — название события;\n",
    "\n",
    "DeviceIDHash — уникальный идентификатор пользователя;\n",
    "\n",
    "EventTimestamp — время события;\n",
    "\n",
    "ExpId — номер эксперимента: 246 и 247 — контрольные группы, а 248 — экспериментальная."
   ]
  },
  {
   "cell_type": "markdown",
   "metadata": {},
   "source": [
    "## Откройте файл с данными и изучите общую информацию"
   ]
  },
  {
   "cell_type": "code",
   "execution_count": 1,
   "metadata": {},
   "outputs": [],
   "source": [
    "#импортируем необходимые библиотеки\n",
    "import pandas as pd\n",
    "import numpy as np\n",
    "import math as mth\n",
    "import seaborn as sns\n",
    "import matplotlib.pyplot as plt\n",
    "from scipy import stats as st\n",
    "\n",
    "pd.options.mode.chained_assignment = None  # default='warn'"
   ]
  },
  {
   "cell_type": "code",
   "execution_count": 2,
   "metadata": {},
   "outputs": [],
   "source": [
    "#загрузим данные\n",
    "logs = pd.read_csv('/datasets/logs_exp.csv', sep='\\t')"
   ]
  },
  {
   "cell_type": "code",
   "execution_count": 3,
   "metadata": {},
   "outputs": [
    {
     "name": "stdout",
     "output_type": "stream",
     "text": [
      "                      EventName         DeviceIDHash  EventTimestamp  ExpId\n",
      "0              MainScreenAppear  4575588528974610257      1564029816    246\n",
      "1              MainScreenAppear  7416695313311560658      1564053102    246\n",
      "2       PaymentScreenSuccessful  3518123091307005509      1564054127    248\n",
      "3              CartScreenAppear  3518123091307005509      1564054127    248\n",
      "4       PaymentScreenSuccessful  6217807653094995999      1564055322    248\n",
      "...                         ...                  ...             ...    ...\n",
      "244121         MainScreenAppear  4599628364049201812      1565212345    247\n",
      "244122         MainScreenAppear  5849806612437486590      1565212439    246\n",
      "244123         MainScreenAppear  5746969938801999050      1565212483    246\n",
      "244124         MainScreenAppear  5746969938801999050      1565212498    246\n",
      "244125       OffersScreenAppear  5746969938801999050      1565212517    246\n",
      "\n",
      "[244126 rows x 4 columns]\n"
     ]
    }
   ],
   "source": [
    "print(logs)"
   ]
  },
  {
   "cell_type": "code",
   "execution_count": 4,
   "metadata": {
    "scrolled": true
   },
   "outputs": [
    {
     "name": "stdout",
     "output_type": "stream",
     "text": [
      "<class 'pandas.core.frame.DataFrame'>\n",
      "RangeIndex: 244126 entries, 0 to 244125\n",
      "Data columns (total 4 columns):\n",
      " #   Column          Non-Null Count   Dtype \n",
      "---  ------          --------------   ----- \n",
      " 0   EventName       244126 non-null  object\n",
      " 1   DeviceIDHash    244126 non-null  int64 \n",
      " 2   EventTimestamp  244126 non-null  int64 \n",
      " 3   ExpId           244126 non-null  int64 \n",
      "dtypes: int64(3), object(1)\n",
      "memory usage: 7.5+ MB\n"
     ]
    }
   ],
   "source": [
    "logs.info()"
   ]
  },
  {
   "cell_type": "code",
   "execution_count": 5,
   "metadata": {},
   "outputs": [
    {
     "data": {
      "text/html": [
       "<div>\n",
       "<style scoped>\n",
       "    .dataframe tbody tr th:only-of-type {\n",
       "        vertical-align: middle;\n",
       "    }\n",
       "\n",
       "    .dataframe tbody tr th {\n",
       "        vertical-align: top;\n",
       "    }\n",
       "\n",
       "    .dataframe thead th {\n",
       "        text-align: right;\n",
       "    }\n",
       "</style>\n",
       "<table border=\"1\" class=\"dataframe\">\n",
       "  <thead>\n",
       "    <tr style=\"text-align: right;\">\n",
       "      <th></th>\n",
       "      <th>DeviceIDHash</th>\n",
       "      <th>EventTimestamp</th>\n",
       "      <th>ExpId</th>\n",
       "    </tr>\n",
       "  </thead>\n",
       "  <tbody>\n",
       "    <tr>\n",
       "      <th>count</th>\n",
       "      <td>2.441260e+05</td>\n",
       "      <td>2.441260e+05</td>\n",
       "      <td>244126.000000</td>\n",
       "    </tr>\n",
       "    <tr>\n",
       "      <th>mean</th>\n",
       "      <td>4.627568e+18</td>\n",
       "      <td>1.564914e+09</td>\n",
       "      <td>247.022296</td>\n",
       "    </tr>\n",
       "    <tr>\n",
       "      <th>std</th>\n",
       "      <td>2.642425e+18</td>\n",
       "      <td>1.771343e+05</td>\n",
       "      <td>0.824434</td>\n",
       "    </tr>\n",
       "    <tr>\n",
       "      <th>min</th>\n",
       "      <td>6.888747e+15</td>\n",
       "      <td>1.564030e+09</td>\n",
       "      <td>246.000000</td>\n",
       "    </tr>\n",
       "    <tr>\n",
       "      <th>25%</th>\n",
       "      <td>2.372212e+18</td>\n",
       "      <td>1.564757e+09</td>\n",
       "      <td>246.000000</td>\n",
       "    </tr>\n",
       "    <tr>\n",
       "      <th>50%</th>\n",
       "      <td>4.623192e+18</td>\n",
       "      <td>1.564919e+09</td>\n",
       "      <td>247.000000</td>\n",
       "    </tr>\n",
       "    <tr>\n",
       "      <th>75%</th>\n",
       "      <td>6.932517e+18</td>\n",
       "      <td>1.565075e+09</td>\n",
       "      <td>248.000000</td>\n",
       "    </tr>\n",
       "    <tr>\n",
       "      <th>max</th>\n",
       "      <td>9.222603e+18</td>\n",
       "      <td>1.565213e+09</td>\n",
       "      <td>248.000000</td>\n",
       "    </tr>\n",
       "  </tbody>\n",
       "</table>\n",
       "</div>"
      ],
      "text/plain": [
       "       DeviceIDHash  EventTimestamp          ExpId\n",
       "count  2.441260e+05    2.441260e+05  244126.000000\n",
       "mean   4.627568e+18    1.564914e+09     247.022296\n",
       "std    2.642425e+18    1.771343e+05       0.824434\n",
       "min    6.888747e+15    1.564030e+09     246.000000\n",
       "25%    2.372212e+18    1.564757e+09     246.000000\n",
       "50%    4.623192e+18    1.564919e+09     247.000000\n",
       "75%    6.932517e+18    1.565075e+09     248.000000\n",
       "max    9.222603e+18    1.565213e+09     248.000000"
      ]
     },
     "execution_count": 5,
     "metadata": {},
     "output_type": "execute_result"
    }
   ],
   "source": [
    "logs.describe()"
   ]
  },
  {
   "cell_type": "code",
   "execution_count": 6,
   "metadata": {},
   "outputs": [
    {
     "data": {
      "text/plain": [
       "EventName         0\n",
       "DeviceIDHash      0\n",
       "EventTimestamp    0\n",
       "ExpId             0\n",
       "dtype: int64"
      ]
     },
     "execution_count": 6,
     "metadata": {},
     "output_type": "execute_result"
    }
   ],
   "source": [
    "#проверим данные на наличие пропусков\n",
    "logs.isna().sum()"
   ]
  },
  {
   "cell_type": "markdown",
   "metadata": {},
   "source": [
    "пропусков в столбцах нет"
   ]
  },
  {
   "cell_type": "code",
   "execution_count": 7,
   "metadata": {},
   "outputs": [
    {
     "data": {
      "text/plain": [
       "413"
      ]
     },
     "execution_count": 7,
     "metadata": {},
     "output_type": "execute_result"
    }
   ],
   "source": [
    "#проверим данные на наличие явных дубликатов\n",
    "logs.duplicated().sum()"
   ]
  },
  {
   "cell_type": "code",
   "execution_count": 8,
   "metadata": {},
   "outputs": [],
   "source": [
    "#удалим дубликаты\n",
    "logs.drop_duplicates(inplace = True)"
   ]
  },
  {
   "cell_type": "markdown",
   "metadata": {},
   "source": [
    "## Подготовьте данные"
   ]
  },
  {
   "cell_type": "code",
   "execution_count": 9,
   "metadata": {},
   "outputs": [],
   "source": [
    "#заменим названия столбцов на более привычные\n",
    "logs.columns=['event_name', 'user_id', 'event_timestamp', 'exp_id']"
   ]
  },
  {
   "cell_type": "code",
   "execution_count": 10,
   "metadata": {},
   "outputs": [],
   "source": [
    "#изменим формат данных в столбце с датой\n",
    "logs['event_timestamp'] = logs['event_timestamp'].astype('datetime64[s]')"
   ]
  },
  {
   "cell_type": "code",
   "execution_count": 11,
   "metadata": {},
   "outputs": [],
   "source": [
    "#добавим столбец даты и времени, а также отдельный столбец дат\n",
    "logs['date_time'] = pd.to_datetime(logs['event_timestamp'], unit='s')\n",
    "logs['date'] = logs['date_time'].astype('datetime64[D]')"
   ]
  },
  {
   "cell_type": "markdown",
   "metadata": {},
   "source": [
    "## Изучите и проверьте данные"
   ]
  },
  {
   "cell_type": "code",
   "execution_count": 12,
   "metadata": {
    "scrolled": true
   },
   "outputs": [
    {
     "name": "stdout",
     "output_type": "stream",
     "text": [
      "['MainScreenAppear' 'PaymentScreenSuccessful' 'CartScreenAppear'\n",
      " 'OffersScreenAppear' 'Tutorial']\n",
      "всего уникальных типов событий в логе: 5\n"
     ]
    }
   ],
   "source": [
    "#узнаем уникальные типы событий\n",
    "print(logs['event_name'].unique())\n",
    "print('всего уникальных типов событий в логе:', len(logs['event_name'].unique()))"
   ]
  },
  {
   "cell_type": "code",
   "execution_count": 13,
   "metadata": {},
   "outputs": [
    {
     "name": "stdout",
     "output_type": "stream",
     "text": [
      "всего событий в логе: 243713\n"
     ]
    }
   ],
   "source": [
    "print('всего событий в логе:', len(logs['event_name']))"
   ]
  },
  {
   "cell_type": "code",
   "execution_count": 14,
   "metadata": {},
   "outputs": [
    {
     "name": "stdout",
     "output_type": "stream",
     "text": [
      "количество уникальных пользователей в логе: 7551\n"
     ]
    }
   ],
   "source": [
    "print('количество уникальных пользователей в логе:', len(logs['user_id'].unique()))"
   ]
  },
  {
   "cell_type": "code",
   "execution_count": 15,
   "metadata": {},
   "outputs": [
    {
     "name": "stdout",
     "output_type": "stream",
     "text": [
      "в среднем на пользователя приходится событий: 32\n"
     ]
    }
   ],
   "source": [
    "print('в среднем на пользователя приходится событий:', round(len(logs['event_name'])/len(logs['user_id'].unique())))"
   ]
  },
  {
   "cell_type": "code",
   "execution_count": 16,
   "metadata": {
    "scrolled": true
   },
   "outputs": [
    {
     "name": "stdout",
     "output_type": "stream",
     "text": [
      "2019-07-25 04:43:36\n",
      "2019-08-07 21:15:17\n",
      "13 days 16:31:41\n"
     ]
    }
   ],
   "source": [
    "#найдем минимальную и максимальную дату и период между датами\n",
    "date_min = logs['date_time'].min()\n",
    "print(date_min)\n",
    "date_max = logs['date_time'].max()\n",
    "print(date_max)\n",
    "diff = date_max - date_min\n",
    "print(diff)"
   ]
  },
  {
   "cell_type": "code",
   "execution_count": 17,
   "metadata": {},
   "outputs": [],
   "source": [
    "sns.set(rc={'figure.figsize':(15, 8)})"
   ]
  },
  {
   "cell_type": "code",
   "execution_count": 18,
   "metadata": {
    "scrolled": true
   },
   "outputs": [
    {
     "data": {
      "image/png": "[encoded data removed]",
      "text/plain": [
       "<Figure size 1080x576 with 1 Axes>"
      ]
     },
     "metadata": {},
     "output_type": "display_data"
    }
   ],
   "source": [
    "#построим гистограмму распределения по дате\n",
    "logs['date_time'].hist(bins=14*24)\n",
    "plt.xticks(rotation=45)\n",
    "plt.title('Гистограмма распределения по дате')\n",
    "plt.xlabel(\"Дата\")\n",
    "plt.ylabel(\"Частота\")\n",
    "plt.show()"
   ]
  },
  {
   "cell_type": "markdown",
   "metadata": {},
   "source": [
    "Согласно гистограмме, до 31 июля включительно данных почти нет. Поэтому имеет смысл оставить данные только с 1 августа. Избавимся от данных до 31 июля включительно."
   ]
  },
  {
   "cell_type": "code",
   "execution_count": 19,
   "metadata": {},
   "outputs": [],
   "source": [
    "logs = logs.loc[logs['date'] > '2019-07-31']"
   ]
  },
  {
   "cell_type": "code",
   "execution_count": 20,
   "metadata": {},
   "outputs": [
    {
     "name": "stdout",
     "output_type": "stream",
     "text": [
      "Всего событий в логе после удаления: 240887\n",
      "Количество уникальных пользователей приложения после удаления: 7534\n",
      "После удаления в среднем на пользователя приходится событий: 32\n"
     ]
    }
   ],
   "source": [
    "print('Всего событий в логе после удаления:', logs.shape[0])\n",
    "print('Количество уникальных пользователей приложения после удаления:', len(logs['user_id'].unique()))\n",
    "print('После удаления в среднем на пользователя приходится событий:', round(logs.shape[0]/len(logs['user_id'].unique())))"
   ]
  },
  {
   "cell_type": "code",
   "execution_count": 21,
   "metadata": {},
   "outputs": [
    {
     "name": "stdout",
     "output_type": "stream",
     "text": [
      "после очистки данных потеряли 1.16 % событий\n"
     ]
    }
   ],
   "source": [
    "#расчитаем % событий после удаления\n",
    "events_raw = 243713\n",
    "print('после очистки данных потеряли', round((events_raw - logs.shape[0])/events_raw*100,2), '% событий')"
   ]
  },
  {
   "cell_type": "code",
   "execution_count": 22,
   "metadata": {
    "scrolled": true
   },
   "outputs": [
    {
     "name": "stdout",
     "output_type": "stream",
     "text": [
      "после очистки данных потеряли 0.23 % пользователей\n"
     ]
    }
   ],
   "source": [
    "#расчитаем % пользователей после удаления\n",
    "users_raw = 7551\n",
    "print('после очистки данных потеряли', round((users_raw - len(logs['user_id'].unique()))/users_raw*100,2), '% пользователей')"
   ]
  },
  {
   "cell_type": "markdown",
   "metadata": {},
   "source": [
    "После удаления данных до 31 июля включительно потери составили около 3000 событий и 17 уникальных пользователей, число событий приходящихся в среднем на одного пользователя не изменилось (32 события на пользователя)."
   ]
  },
  {
   "cell_type": "code",
   "execution_count": 23,
   "metadata": {
    "scrolled": true
   },
   "outputs": [
    {
     "data": {
      "text/html": [
       "<div>\n",
       "<style scoped>\n",
       "    .dataframe tbody tr th:only-of-type {\n",
       "        vertical-align: middle;\n",
       "    }\n",
       "\n",
       "    .dataframe tbody tr th {\n",
       "        vertical-align: top;\n",
       "    }\n",
       "\n",
       "    .dataframe thead th {\n",
       "        text-align: right;\n",
       "    }\n",
       "</style>\n",
       "<table border=\"1\" class=\"dataframe\">\n",
       "  <thead>\n",
       "    <tr style=\"text-align: right;\">\n",
       "      <th></th>\n",
       "      <th>user_id</th>\n",
       "    </tr>\n",
       "    <tr>\n",
       "      <th>exp_id</th>\n",
       "      <th></th>\n",
       "    </tr>\n",
       "  </thead>\n",
       "  <tbody>\n",
       "    <tr>\n",
       "      <th>246</th>\n",
       "      <td>2484</td>\n",
       "    </tr>\n",
       "    <tr>\n",
       "      <th>247</th>\n",
       "      <td>2513</td>\n",
       "    </tr>\n",
       "    <tr>\n",
       "      <th>248</th>\n",
       "      <td>2537</td>\n",
       "    </tr>\n",
       "  </tbody>\n",
       "</table>\n",
       "</div>"
      ],
      "text/plain": [
       "        user_id\n",
       "exp_id         \n",
       "246        2484\n",
       "247        2513\n",
       "248        2537"
      ]
     },
     "execution_count": 23,
     "metadata": {},
     "output_type": "execute_result"
    }
   ],
   "source": [
    "#проверим, есть ли у нас пользователи из всех трех групп\n",
    "logs.groupby('exp_id').agg({'user_id': 'nunique'})"
   ]
  },
  {
   "cell_type": "code",
   "execution_count": 24,
   "metadata": {},
   "outputs": [
    {
     "data": {
      "text/plain": [
       "7534"
      ]
     },
     "execution_count": 24,
     "metadata": {},
     "output_type": "execute_result"
    }
   ],
   "source": [
    "logs.groupby('exp_id')['user_id'].nunique().sum()"
   ]
  },
  {
   "cell_type": "markdown",
   "metadata": {},
   "source": [
    "Пользователи из всех трёх экспериментальных групп есть. Пересечений в множествах нет, т.к. сумма количеств уникальных пользователей в трех группах совпадает с количеством уникальных пользователей, которое получилось у нас после удаления данных."
   ]
  },
  {
   "cell_type": "markdown",
   "metadata": {},
   "source": [
    "# Вывод 1"
   ]
  },
  {
   "cell_type": "markdown",
   "metadata": {},
   "source": [
    "После ознакомления с данными выяснилось, что данные представлены с 25 июля по 7 августа. Данные за первую неделю практически отсутствуют. Исходя из этого, были оставлены данные только за вторую неделю, с 1 августа включительно.\n",
    "\n",
    "Количество уникальных пользователей приложения после удаления составило 7534, в среднем на пользователя приходится 32 события.\n",
    "\n",
    "В данных есть пользователи всех трех экспериметальных групп, их число примерно равное в каждой группе, все пользователи в группах уникальные, т.е. нет пользователей, которые попали в несколько групп одновременно."
   ]
  },
  {
   "cell_type": "markdown",
   "metadata": {},
   "source": [
    "## Изучите воронку событий"
   ]
  },
  {
   "cell_type": "code",
   "execution_count": 25,
   "metadata": {},
   "outputs": [
    {
     "data": {
      "text/plain": [
       "array(['Tutorial', 'MainScreenAppear', 'OffersScreenAppear',\n",
       "       'CartScreenAppear', 'PaymentScreenSuccessful'], dtype=object)"
      ]
     },
     "execution_count": 25,
     "metadata": {},
     "output_type": "execute_result"
    }
   ],
   "source": [
    "#еще раз посмотрим, какие события есть в логах\n",
    "logs['event_name'].unique()"
   ]
  },
  {
   "cell_type": "code",
   "execution_count": 26,
   "metadata": {},
   "outputs": [
    {
     "data": {
      "text/html": [
       "<div>\n",
       "<style scoped>\n",
       "    .dataframe tbody tr th:only-of-type {\n",
       "        vertical-align: middle;\n",
       "    }\n",
       "\n",
       "    .dataframe tbody tr th {\n",
       "        vertical-align: top;\n",
       "    }\n",
       "\n",
       "    .dataframe thead th {\n",
       "        text-align: right;\n",
       "    }\n",
       "</style>\n",
       "<table border=\"1\" class=\"dataframe\">\n",
       "  <thead>\n",
       "    <tr style=\"text-align: right;\">\n",
       "      <th></th>\n",
       "      <th>event_name</th>\n",
       "      <th>count</th>\n",
       "    </tr>\n",
       "  </thead>\n",
       "  <tbody>\n",
       "    <tr>\n",
       "      <th>0</th>\n",
       "      <td>MainScreenAppear</td>\n",
       "      <td>117328</td>\n",
       "    </tr>\n",
       "    <tr>\n",
       "      <th>1</th>\n",
       "      <td>OffersScreenAppear</td>\n",
       "      <td>46333</td>\n",
       "    </tr>\n",
       "    <tr>\n",
       "      <th>2</th>\n",
       "      <td>CartScreenAppear</td>\n",
       "      <td>42303</td>\n",
       "    </tr>\n",
       "    <tr>\n",
       "      <th>3</th>\n",
       "      <td>PaymentScreenSuccessful</td>\n",
       "      <td>33918</td>\n",
       "    </tr>\n",
       "    <tr>\n",
       "      <th>4</th>\n",
       "      <td>Tutorial</td>\n",
       "      <td>1005</td>\n",
       "    </tr>\n",
       "  </tbody>\n",
       "</table>\n",
       "</div>"
      ],
      "text/plain": [
       "                event_name   count\n",
       "0         MainScreenAppear  117328\n",
       "1       OffersScreenAppear   46333\n",
       "2         CartScreenAppear   42303\n",
       "3  PaymentScreenSuccessful   33918\n",
       "4                 Tutorial    1005"
      ]
     },
     "execution_count": 26,
     "metadata": {},
     "output_type": "execute_result"
    }
   ],
   "source": [
    "#Посчитаем, сколько раз было совершено каждое событие, отсортируем по частоте\n",
    "events_cnt = logs['event_name'].value_counts().reset_index().rename(columns={'index':'event_name', 'event_name':'count'})\n",
    "events_cnt"
   ]
  },
  {
   "cell_type": "markdown",
   "metadata": {},
   "source": [
    "Имеем следующие события в порядке убывания по частоте:\n",
    "\n",
    "1. Появление главного экрана\n",
    "\n",
    "2. Появление экрана с продуктами\n",
    "\n",
    "3. Появление экрана с корзиной\n",
    "\n",
    "4. Появление экрана с успешной оплатой\n",
    "\n",
    "5. Обучение"
   ]
  },
  {
   "cell_type": "code",
   "execution_count": 27,
   "metadata": {},
   "outputs": [
    {
     "data": {
      "text/html": [
       "<div>\n",
       "<style scoped>\n",
       "    .dataframe tbody tr th:only-of-type {\n",
       "        vertical-align: middle;\n",
       "    }\n",
       "\n",
       "    .dataframe tbody tr th {\n",
       "        vertical-align: top;\n",
       "    }\n",
       "\n",
       "    .dataframe thead th {\n",
       "        text-align: right;\n",
       "    }\n",
       "</style>\n",
       "<table border=\"1\" class=\"dataframe\">\n",
       "  <thead>\n",
       "    <tr style=\"text-align: right;\">\n",
       "      <th></th>\n",
       "      <th>event_name</th>\n",
       "      <th>unique_users_cnt</th>\n",
       "    </tr>\n",
       "  </thead>\n",
       "  <tbody>\n",
       "    <tr>\n",
       "      <th>1</th>\n",
       "      <td>MainScreenAppear</td>\n",
       "      <td>7419</td>\n",
       "    </tr>\n",
       "    <tr>\n",
       "      <th>2</th>\n",
       "      <td>OffersScreenAppear</td>\n",
       "      <td>4593</td>\n",
       "    </tr>\n",
       "    <tr>\n",
       "      <th>0</th>\n",
       "      <td>CartScreenAppear</td>\n",
       "      <td>3734</td>\n",
       "    </tr>\n",
       "    <tr>\n",
       "      <th>3</th>\n",
       "      <td>PaymentScreenSuccessful</td>\n",
       "      <td>3539</td>\n",
       "    </tr>\n",
       "    <tr>\n",
       "      <th>4</th>\n",
       "      <td>Tutorial</td>\n",
       "      <td>840</td>\n",
       "    </tr>\n",
       "  </tbody>\n",
       "</table>\n",
       "</div>"
      ],
      "text/plain": [
       "                event_name  unique_users_cnt\n",
       "1         MainScreenAppear              7419\n",
       "2       OffersScreenAppear              4593\n",
       "0         CartScreenAppear              3734\n",
       "3  PaymentScreenSuccessful              3539\n",
       "4                 Tutorial               840"
      ]
     },
     "execution_count": 27,
     "metadata": {},
     "output_type": "execute_result"
    }
   ],
   "source": [
    "#посмотрим, сколько уникальных пользователей совершали каждое из событий\n",
    "event_to_event = logs.groupby('event_name')['user_id'].nunique().reset_index().sort_values(by='user_id', ascending=False).rename(columns={'user_id':'unique_users_cnt'})\n",
    "event_to_event"
   ]
  },
  {
   "cell_type": "code",
   "execution_count": 28,
   "metadata": {},
   "outputs": [
    {
     "data": {
      "text/html": [
       "<div>\n",
       "<style scoped>\n",
       "    .dataframe tbody tr th:only-of-type {\n",
       "        vertical-align: middle;\n",
       "    }\n",
       "\n",
       "    .dataframe tbody tr th {\n",
       "        vertical-align: top;\n",
       "    }\n",
       "\n",
       "    .dataframe thead th {\n",
       "        text-align: right;\n",
       "    }\n",
       "</style>\n",
       "<table border=\"1\" class=\"dataframe\">\n",
       "  <thead>\n",
       "    <tr style=\"text-align: right;\">\n",
       "      <th></th>\n",
       "      <th>user_id</th>\n",
       "      <th>event_name</th>\n",
       "    </tr>\n",
       "  </thead>\n",
       "  <tbody>\n",
       "    <tr>\n",
       "      <th>0</th>\n",
       "      <td>6888746892508752</td>\n",
       "      <td>1</td>\n",
       "    </tr>\n",
       "    <tr>\n",
       "      <th>1</th>\n",
       "      <td>6909561520679493</td>\n",
       "      <td>4</td>\n",
       "    </tr>\n",
       "    <tr>\n",
       "      <th>2</th>\n",
       "      <td>6922444491712477</td>\n",
       "      <td>4</td>\n",
       "    </tr>\n",
       "    <tr>\n",
       "      <th>3</th>\n",
       "      <td>7435777799948366</td>\n",
       "      <td>1</td>\n",
       "    </tr>\n",
       "    <tr>\n",
       "      <th>4</th>\n",
       "      <td>7702139951469979</td>\n",
       "      <td>4</td>\n",
       "    </tr>\n",
       "    <tr>\n",
       "      <th>...</th>\n",
       "      <td>...</td>\n",
       "      <td>...</td>\n",
       "    </tr>\n",
       "    <tr>\n",
       "      <th>7529</th>\n",
       "      <td>9217594193087726423</td>\n",
       "      <td>3</td>\n",
       "    </tr>\n",
       "    <tr>\n",
       "      <th>7530</th>\n",
       "      <td>9219463515465815368</td>\n",
       "      <td>4</td>\n",
       "    </tr>\n",
       "    <tr>\n",
       "      <th>7531</th>\n",
       "      <td>9220879493065341500</td>\n",
       "      <td>3</td>\n",
       "    </tr>\n",
       "    <tr>\n",
       "      <th>7532</th>\n",
       "      <td>9221926045299980007</td>\n",
       "      <td>1</td>\n",
       "    </tr>\n",
       "    <tr>\n",
       "      <th>7533</th>\n",
       "      <td>9222603179720523844</td>\n",
       "      <td>1</td>\n",
       "    </tr>\n",
       "  </tbody>\n",
       "</table>\n",
       "<p>7534 rows × 2 columns</p>\n",
       "</div>"
      ],
      "text/plain": [
       "                  user_id  event_name\n",
       "0        6888746892508752           1\n",
       "1        6909561520679493           4\n",
       "2        6922444491712477           4\n",
       "3        7435777799948366           1\n",
       "4        7702139951469979           4\n",
       "...                   ...         ...\n",
       "7529  9217594193087726423           3\n",
       "7530  9219463515465815368           4\n",
       "7531  9220879493065341500           3\n",
       "7532  9221926045299980007           1\n",
       "7533  9222603179720523844           1\n",
       "\n",
       "[7534 rows x 2 columns]"
      ]
     },
     "execution_count": 28,
     "metadata": {},
     "output_type": "execute_result"
    }
   ],
   "source": [
    "#посчитаем, сколько пришлось уникальных событий на каждого пользователя\n",
    "unique_events_by_user = logs.groupby('user_id')['event_name'].nunique().reset_index()\n",
    "unique_events_by_user"
   ]
  },
  {
   "cell_type": "code",
   "execution_count": 29,
   "metadata": {},
   "outputs": [
    {
     "name": "stdout",
     "output_type": "stream",
     "text": [
      "Доля пользователей, совершивших одно событие: 0.36\n"
     ]
    }
   ],
   "source": [
    "#посмотрим на долю пользователей, за которыми только одно событие\n",
    "one_event_users_cnt = unique_events_by_user[unique_events_by_user['event_name'] == 1]['user_id'].count()\n",
    "one_event_users_ratio = round(one_event_users_cnt/logs['user_id'].nunique(),2)\n",
    "print('Доля пользователей, совершивших одно событие:', one_event_users_ratio)"
   ]
  },
  {
   "cell_type": "code",
   "execution_count": 30,
   "metadata": {
    "scrolled": true
   },
   "outputs": [
    {
     "data": {
      "text/html": [
       "<div>\n",
       "<style scoped>\n",
       "    .dataframe tbody tr th:only-of-type {\n",
       "        vertical-align: middle;\n",
       "    }\n",
       "\n",
       "    .dataframe tbody tr th {\n",
       "        vertical-align: top;\n",
       "    }\n",
       "\n",
       "    .dataframe thead th {\n",
       "        text-align: right;\n",
       "    }\n",
       "</style>\n",
       "<table border=\"1\" class=\"dataframe\">\n",
       "  <thead>\n",
       "    <tr style=\"text-align: right;\">\n",
       "      <th></th>\n",
       "      <th>event_name</th>\n",
       "      <th>unique_users_cnt</th>\n",
       "      <th>unique_share</th>\n",
       "    </tr>\n",
       "  </thead>\n",
       "  <tbody>\n",
       "    <tr>\n",
       "      <th>1</th>\n",
       "      <td>MainScreenAppear</td>\n",
       "      <td>7419</td>\n",
       "      <td>0.98</td>\n",
       "    </tr>\n",
       "    <tr>\n",
       "      <th>2</th>\n",
       "      <td>OffersScreenAppear</td>\n",
       "      <td>4593</td>\n",
       "      <td>0.61</td>\n",
       "    </tr>\n",
       "    <tr>\n",
       "      <th>0</th>\n",
       "      <td>CartScreenAppear</td>\n",
       "      <td>3734</td>\n",
       "      <td>0.50</td>\n",
       "    </tr>\n",
       "    <tr>\n",
       "      <th>3</th>\n",
       "      <td>PaymentScreenSuccessful</td>\n",
       "      <td>3539</td>\n",
       "      <td>0.47</td>\n",
       "    </tr>\n",
       "    <tr>\n",
       "      <th>4</th>\n",
       "      <td>Tutorial</td>\n",
       "      <td>840</td>\n",
       "      <td>0.11</td>\n",
       "    </tr>\n",
       "  </tbody>\n",
       "</table>\n",
       "</div>"
      ],
      "text/plain": [
       "                event_name  unique_users_cnt  unique_share\n",
       "1         MainScreenAppear              7419          0.98\n",
       "2       OffersScreenAppear              4593          0.61\n",
       "0         CartScreenAppear              3734          0.50\n",
       "3  PaymentScreenSuccessful              3539          0.47\n",
       "4                 Tutorial               840          0.11"
      ]
     },
     "execution_count": 30,
     "metadata": {},
     "output_type": "execute_result"
    }
   ],
   "source": [
    "event_to_event['unique_share'] = round(event_to_event['unique_users_cnt']/len(logs['user_id'].unique()),2)\n",
    "event_to_event"
   ]
  },
  {
   "cell_type": "markdown",
   "metadata": {},
   "source": [
    "В числе типов событий присутствует обучение. В то же время это событие самое малочисленное по частоте. Логично предположить, что обучение должно предшествовать всем остальным событиям по хронологии, т.к. предназначено оно для ознакомления с приложением на начальном этапе. \n",
    "\n",
    "Такжим образом, мы не можем оставить событие обучение для построения воронки, т.к. оно должно идти первым, но в то же время оно самое малочисленное (получится странная воронка).\n",
    "\n",
    "Думаю, что в проектировании учета событий допущена ошибка, т.к. либо на событии 'обучение' нужно учитывать и тех, кто его прошел, и тех, кто его пропустил, понадеявшись на понятный интерфейс. Тогда мы бы могли понять, сколько пользователей отваливаются, в принципе столкнувшись с возможностью обучения. Либо это событие в принципе не стоит учитывать.\n"
   ]
  },
  {
   "cell_type": "code",
   "execution_count": 31,
   "metadata": {},
   "outputs": [
    {
     "data": {
      "text/html": [
       "<div>\n",
       "<style scoped>\n",
       "    .dataframe tbody tr th:only-of-type {\n",
       "        vertical-align: middle;\n",
       "    }\n",
       "\n",
       "    .dataframe tbody tr th {\n",
       "        vertical-align: top;\n",
       "    }\n",
       "\n",
       "    .dataframe thead th {\n",
       "        text-align: right;\n",
       "    }\n",
       "</style>\n",
       "<table border=\"1\" class=\"dataframe\">\n",
       "  <thead>\n",
       "    <tr style=\"text-align: right;\">\n",
       "      <th></th>\n",
       "      <th>event_name</th>\n",
       "      <th>unique_users_cnt</th>\n",
       "      <th>unique_share</th>\n",
       "    </tr>\n",
       "  </thead>\n",
       "  <tbody>\n",
       "    <tr>\n",
       "      <th>1</th>\n",
       "      <td>MainScreenAppear</td>\n",
       "      <td>7419</td>\n",
       "      <td>0.98</td>\n",
       "    </tr>\n",
       "    <tr>\n",
       "      <th>2</th>\n",
       "      <td>OffersScreenAppear</td>\n",
       "      <td>4593</td>\n",
       "      <td>0.61</td>\n",
       "    </tr>\n",
       "    <tr>\n",
       "      <th>0</th>\n",
       "      <td>CartScreenAppear</td>\n",
       "      <td>3734</td>\n",
       "      <td>0.50</td>\n",
       "    </tr>\n",
       "    <tr>\n",
       "      <th>3</th>\n",
       "      <td>PaymentScreenSuccessful</td>\n",
       "      <td>3539</td>\n",
       "      <td>0.47</td>\n",
       "    </tr>\n",
       "  </tbody>\n",
       "</table>\n",
       "</div>"
      ],
      "text/plain": [
       "                event_name  unique_users_cnt  unique_share\n",
       "1         MainScreenAppear              7419          0.98\n",
       "2       OffersScreenAppear              4593          0.61\n",
       "0         CartScreenAppear              3734          0.50\n",
       "3  PaymentScreenSuccessful              3539          0.47"
      ]
     },
     "execution_count": 31,
     "metadata": {},
     "output_type": "execute_result"
    }
   ],
   "source": [
    "#уберем из данных событие 'обучение'\n",
    "event_to_event = event_to_event[:4]\n",
    "event_to_event"
   ]
  },
  {
   "cell_type": "code",
   "execution_count": 32,
   "metadata": {},
   "outputs": [
    {
     "data": {
      "text/html": [
       "<div>\n",
       "<style scoped>\n",
       "    .dataframe tbody tr th:only-of-type {\n",
       "        vertical-align: middle;\n",
       "    }\n",
       "\n",
       "    .dataframe tbody tr th {\n",
       "        vertical-align: top;\n",
       "    }\n",
       "\n",
       "    .dataframe thead th {\n",
       "        text-align: right;\n",
       "    }\n",
       "</style>\n",
       "<table border=\"1\" class=\"dataframe\">\n",
       "  <thead>\n",
       "    <tr style=\"text-align: right;\">\n",
       "      <th></th>\n",
       "      <th>event_name</th>\n",
       "      <th>unique_users_cnt</th>\n",
       "      <th>unique_share</th>\n",
       "      <th>conversion</th>\n",
       "    </tr>\n",
       "  </thead>\n",
       "  <tbody>\n",
       "    <tr>\n",
       "      <th>1</th>\n",
       "      <td>MainScreenAppear</td>\n",
       "      <td>7419</td>\n",
       "      <td>0.98</td>\n",
       "      <td>1.00</td>\n",
       "    </tr>\n",
       "    <tr>\n",
       "      <th>2</th>\n",
       "      <td>OffersScreenAppear</td>\n",
       "      <td>4593</td>\n",
       "      <td>0.61</td>\n",
       "      <td>0.62</td>\n",
       "    </tr>\n",
       "    <tr>\n",
       "      <th>0</th>\n",
       "      <td>CartScreenAppear</td>\n",
       "      <td>3734</td>\n",
       "      <td>0.50</td>\n",
       "      <td>0.50</td>\n",
       "    </tr>\n",
       "    <tr>\n",
       "      <th>3</th>\n",
       "      <td>PaymentScreenSuccessful</td>\n",
       "      <td>3539</td>\n",
       "      <td>0.47</td>\n",
       "      <td>0.48</td>\n",
       "    </tr>\n",
       "  </tbody>\n",
       "</table>\n",
       "</div>"
      ],
      "text/plain": [
       "                event_name  unique_users_cnt  unique_share  conversion\n",
       "1         MainScreenAppear              7419          0.98        1.00\n",
       "2       OffersScreenAppear              4593          0.61        0.62\n",
       "0         CartScreenAppear              3734          0.50        0.50\n",
       "3  PaymentScreenSuccessful              3539          0.47        0.48"
      ]
     },
     "execution_count": 32,
     "metadata": {},
     "output_type": "execute_result"
    }
   ],
   "source": [
    "#посчитаем конверсию\n",
    "event_to_event['conversion'] = round(event_to_event['unique_users_cnt'] / event_to_event.iloc[0,1], 2)\n",
    "event_to_event"
   ]
  },
  {
   "cell_type": "code",
   "execution_count": 33,
   "metadata": {},
   "outputs": [
    {
     "data": {
      "text/html": [
       "<div>\n",
       "<style scoped>\n",
       "    .dataframe tbody tr th:only-of-type {\n",
       "        vertical-align: middle;\n",
       "    }\n",
       "\n",
       "    .dataframe tbody tr th {\n",
       "        vertical-align: top;\n",
       "    }\n",
       "\n",
       "    .dataframe thead th {\n",
       "        text-align: right;\n",
       "    }\n",
       "</style>\n",
       "<table border=\"1\" class=\"dataframe\">\n",
       "  <thead>\n",
       "    <tr style=\"text-align: right;\">\n",
       "      <th></th>\n",
       "      <th>event_name</th>\n",
       "      <th>unique_users_cnt</th>\n",
       "      <th>unique_share</th>\n",
       "      <th>conversion</th>\n",
       "      <th>event_to_event_conversion</th>\n",
       "    </tr>\n",
       "  </thead>\n",
       "  <tbody>\n",
       "    <tr>\n",
       "      <th>1</th>\n",
       "      <td>MainScreenAppear</td>\n",
       "      <td>7419</td>\n",
       "      <td>0.98</td>\n",
       "      <td>1.00</td>\n",
       "      <td>1</td>\n",
       "    </tr>\n",
       "    <tr>\n",
       "      <th>2</th>\n",
       "      <td>OffersScreenAppear</td>\n",
       "      <td>4593</td>\n",
       "      <td>0.61</td>\n",
       "      <td>0.62</td>\n",
       "      <td>0.62</td>\n",
       "    </tr>\n",
       "    <tr>\n",
       "      <th>0</th>\n",
       "      <td>CartScreenAppear</td>\n",
       "      <td>3734</td>\n",
       "      <td>0.50</td>\n",
       "      <td>0.50</td>\n",
       "      <td>0.81</td>\n",
       "    </tr>\n",
       "    <tr>\n",
       "      <th>3</th>\n",
       "      <td>PaymentScreenSuccessful</td>\n",
       "      <td>3539</td>\n",
       "      <td>0.47</td>\n",
       "      <td>0.48</td>\n",
       "      <td>0.95</td>\n",
       "    </tr>\n",
       "  </tbody>\n",
       "</table>\n",
       "</div>"
      ],
      "text/plain": [
       "                event_name  unique_users_cnt  unique_share  conversion  \\\n",
       "1         MainScreenAppear              7419          0.98        1.00   \n",
       "2       OffersScreenAppear              4593          0.61        0.62   \n",
       "0         CartScreenAppear              3734          0.50        0.50   \n",
       "3  PaymentScreenSuccessful              3539          0.47        0.48   \n",
       "\n",
       "  event_to_event_conversion  \n",
       "1                         1  \n",
       "2                      0.62  \n",
       "0                      0.81  \n",
       "3                      0.95  "
      ]
     },
     "execution_count": 33,
     "metadata": {},
     "output_type": "execute_result"
    }
   ],
   "source": [
    "#добавим поэтапную конверсию\n",
    "event_to_event['event_to_event_conversion'] = None\n",
    "event_to_event.iloc[0,4] = 1\n",
    "event_to_event.iloc[1,4] = round(event_to_event.iloc[1,1] / event_to_event.iloc[0,1], 2)\n",
    "event_to_event.iloc[2,4] = round(event_to_event.iloc[2,1] / event_to_event.iloc[1,1], 2)\n",
    "event_to_event.iloc[3,4] = round(event_to_event.iloc[3,1] / event_to_event.iloc[2,1], 2)\n",
    "event_to_event"
   ]
  },
  {
   "cell_type": "markdown",
   "metadata": {},
   "source": [
    "Больше всего пользователей теряется после первого шага (38% пользователей не дошли до показа экрана с предложениями).\n",
    "\n",
    "До последнего шага (появления экрана с успешной оплатой) доходят 48% пользователей."
   ]
  },
  {
   "cell_type": "markdown",
   "metadata": {},
   "source": [
    "# Вывод 2"
   ]
  },
  {
   "cell_type": "markdown",
   "metadata": {},
   "source": [
    "В данных есть события 5 типов. Отсортированные по убыванию частоты события выглядят следующим образом:\n",
    "\n",
    "1. Появление главного экрана\n",
    "\n",
    "2. Появление экрана с продуктами\n",
    "\n",
    "3. Появление экрана с корзиной\n",
    "\n",
    "4. Появление экрана с успешной оплатой\n",
    "\n",
    "5. Обучение\n",
    "\n",
    "Т.к. событие обучение должно быть первым по хронологии встречи с пользователем, однако является самым малочисленным по частоте, принято решение не оставлять его для построения воронки.\n",
    "\n",
    "Если не брать в расчет шаг с обучением, то остальные события выстраиваются по этапам логично: сначала пользователь встречается с главным экраном, затем видит предложения, экран с корзино и экран с успешной оплатой.\n",
    "\n",
    "После построения воронки можно сделать следующие выводы:\n",
    "\n",
    "1. Больше всего пользователей теряется после первого шага (38% пользователей не дошли до показа экрана с предложениями). Чем дальше по воронке, тем меньше пользователей теряется. Возможно проблема низкой конверсии на первом шаге в том, что неочевидно, как перейти к ознакомлению с ассортиментом (неудобное меню, незаметная кнопка). \n",
    "\n",
    "2. До последнего шага (появления экрана с успешной оплатой) доходят 48% пользователей.\n",
    "\n",
    "3. 5% пользователей теряется между этапами появление экрана с корзиной и появление экрана с успешной оплатой, что может говорить о возможном наличии технических проблем с оплатой.\n",
    "\n",
    "\n"
   ]
  },
  {
   "cell_type": "markdown",
   "metadata": {},
   "source": [
    "## Изучите результаты эксперимента"
   ]
  },
  {
   "cell_type": "code",
   "execution_count": 34,
   "metadata": {},
   "outputs": [
    {
     "data": {
      "text/html": [
       "<div>\n",
       "<style scoped>\n",
       "    .dataframe tbody tr th:only-of-type {\n",
       "        vertical-align: middle;\n",
       "    }\n",
       "\n",
       "    .dataframe tbody tr th {\n",
       "        vertical-align: top;\n",
       "    }\n",
       "\n",
       "    .dataframe thead th {\n",
       "        text-align: right;\n",
       "    }\n",
       "</style>\n",
       "<table border=\"1\" class=\"dataframe\">\n",
       "  <thead>\n",
       "    <tr style=\"text-align: right;\">\n",
       "      <th></th>\n",
       "      <th>event_name</th>\n",
       "      <th>user_id</th>\n",
       "      <th>event_timestamp</th>\n",
       "      <th>exp_id</th>\n",
       "      <th>date_time</th>\n",
       "      <th>date</th>\n",
       "      <th>group</th>\n",
       "    </tr>\n",
       "  </thead>\n",
       "  <tbody>\n",
       "    <tr>\n",
       "      <th>2828</th>\n",
       "      <td>Tutorial</td>\n",
       "      <td>3737462046622621720</td>\n",
       "      <td>2019-08-01 00:07:28</td>\n",
       "      <td>246</td>\n",
       "      <td>2019-08-01 00:07:28</td>\n",
       "      <td>2019-08-01</td>\n",
       "      <td>A1</td>\n",
       "    </tr>\n",
       "    <tr>\n",
       "      <th>2829</th>\n",
       "      <td>MainScreenAppear</td>\n",
       "      <td>3737462046622621720</td>\n",
       "      <td>2019-08-01 00:08:00</td>\n",
       "      <td>246</td>\n",
       "      <td>2019-08-01 00:08:00</td>\n",
       "      <td>2019-08-01</td>\n",
       "      <td>A1</td>\n",
       "    </tr>\n",
       "    <tr>\n",
       "      <th>2830</th>\n",
       "      <td>MainScreenAppear</td>\n",
       "      <td>3737462046622621720</td>\n",
       "      <td>2019-08-01 00:08:55</td>\n",
       "      <td>246</td>\n",
       "      <td>2019-08-01 00:08:55</td>\n",
       "      <td>2019-08-01</td>\n",
       "      <td>A1</td>\n",
       "    </tr>\n",
       "    <tr>\n",
       "      <th>2831</th>\n",
       "      <td>OffersScreenAppear</td>\n",
       "      <td>3737462046622621720</td>\n",
       "      <td>2019-08-01 00:08:58</td>\n",
       "      <td>246</td>\n",
       "      <td>2019-08-01 00:08:58</td>\n",
       "      <td>2019-08-01</td>\n",
       "      <td>A1</td>\n",
       "    </tr>\n",
       "    <tr>\n",
       "      <th>2832</th>\n",
       "      <td>MainScreenAppear</td>\n",
       "      <td>1433840883824088890</td>\n",
       "      <td>2019-08-01 00:08:59</td>\n",
       "      <td>247</td>\n",
       "      <td>2019-08-01 00:08:59</td>\n",
       "      <td>2019-08-01</td>\n",
       "      <td>A2</td>\n",
       "    </tr>\n",
       "    <tr>\n",
       "      <th>...</th>\n",
       "      <td>...</td>\n",
       "      <td>...</td>\n",
       "      <td>...</td>\n",
       "      <td>...</td>\n",
       "      <td>...</td>\n",
       "      <td>...</td>\n",
       "      <td>...</td>\n",
       "    </tr>\n",
       "    <tr>\n",
       "      <th>244121</th>\n",
       "      <td>MainScreenAppear</td>\n",
       "      <td>4599628364049201812</td>\n",
       "      <td>2019-08-07 21:12:25</td>\n",
       "      <td>247</td>\n",
       "      <td>2019-08-07 21:12:25</td>\n",
       "      <td>2019-08-07</td>\n",
       "      <td>A2</td>\n",
       "    </tr>\n",
       "    <tr>\n",
       "      <th>244122</th>\n",
       "      <td>MainScreenAppear</td>\n",
       "      <td>5849806612437486590</td>\n",
       "      <td>2019-08-07 21:13:59</td>\n",
       "      <td>246</td>\n",
       "      <td>2019-08-07 21:13:59</td>\n",
       "      <td>2019-08-07</td>\n",
       "      <td>A1</td>\n",
       "    </tr>\n",
       "    <tr>\n",
       "      <th>244123</th>\n",
       "      <td>MainScreenAppear</td>\n",
       "      <td>5746969938801999050</td>\n",
       "      <td>2019-08-07 21:14:43</td>\n",
       "      <td>246</td>\n",
       "      <td>2019-08-07 21:14:43</td>\n",
       "      <td>2019-08-07</td>\n",
       "      <td>A1</td>\n",
       "    </tr>\n",
       "    <tr>\n",
       "      <th>244124</th>\n",
       "      <td>MainScreenAppear</td>\n",
       "      <td>5746969938801999050</td>\n",
       "      <td>2019-08-07 21:14:58</td>\n",
       "      <td>246</td>\n",
       "      <td>2019-08-07 21:14:58</td>\n",
       "      <td>2019-08-07</td>\n",
       "      <td>A1</td>\n",
       "    </tr>\n",
       "    <tr>\n",
       "      <th>244125</th>\n",
       "      <td>OffersScreenAppear</td>\n",
       "      <td>5746969938801999050</td>\n",
       "      <td>2019-08-07 21:15:17</td>\n",
       "      <td>246</td>\n",
       "      <td>2019-08-07 21:15:17</td>\n",
       "      <td>2019-08-07</td>\n",
       "      <td>A1</td>\n",
       "    </tr>\n",
       "  </tbody>\n",
       "</table>\n",
       "<p>240887 rows × 7 columns</p>\n",
       "</div>"
      ],
      "text/plain": [
       "                event_name              user_id     event_timestamp  exp_id  \\\n",
       "2828              Tutorial  3737462046622621720 2019-08-01 00:07:28     246   \n",
       "2829      MainScreenAppear  3737462046622621720 2019-08-01 00:08:00     246   \n",
       "2830      MainScreenAppear  3737462046622621720 2019-08-01 00:08:55     246   \n",
       "2831    OffersScreenAppear  3737462046622621720 2019-08-01 00:08:58     246   \n",
       "2832      MainScreenAppear  1433840883824088890 2019-08-01 00:08:59     247   \n",
       "...                    ...                  ...                 ...     ...   \n",
       "244121    MainScreenAppear  4599628364049201812 2019-08-07 21:12:25     247   \n",
       "244122    MainScreenAppear  5849806612437486590 2019-08-07 21:13:59     246   \n",
       "244123    MainScreenAppear  5746969938801999050 2019-08-07 21:14:43     246   \n",
       "244124    MainScreenAppear  5746969938801999050 2019-08-07 21:14:58     246   \n",
       "244125  OffersScreenAppear  5746969938801999050 2019-08-07 21:15:17     246   \n",
       "\n",
       "                 date_time       date group  \n",
       "2828   2019-08-01 00:07:28 2019-08-01    A1  \n",
       "2829   2019-08-01 00:08:00 2019-08-01    A1  \n",
       "2830   2019-08-01 00:08:55 2019-08-01    A1  \n",
       "2831   2019-08-01 00:08:58 2019-08-01    A1  \n",
       "2832   2019-08-01 00:08:59 2019-08-01    A2  \n",
       "...                    ...        ...   ...  \n",
       "244121 2019-08-07 21:12:25 2019-08-07    A2  \n",
       "244122 2019-08-07 21:13:59 2019-08-07    A1  \n",
       "244123 2019-08-07 21:14:43 2019-08-07    A1  \n",
       "244124 2019-08-07 21:14:58 2019-08-07    A1  \n",
       "244125 2019-08-07 21:15:17 2019-08-07    A1  \n",
       "\n",
       "[240887 rows x 7 columns]"
      ]
     },
     "execution_count": 34,
     "metadata": {},
     "output_type": "execute_result"
    }
   ],
   "source": [
    "#переименуем группы в соответствии с названиями групп тестирования - A1, A2 и B\n",
    "logs['group'] = logs['exp_id'].replace(246, 'A1')\n",
    "logs['group'] = logs['group'].replace(247, 'A2')\n",
    "logs['group'] = logs['group'].replace(248, 'B')\n",
    "logs"
   ]
  },
  {
   "cell_type": "code",
   "execution_count": 35,
   "metadata": {
    "scrolled": false
   },
   "outputs": [
    {
     "data": {
      "text/html": [
       "<div>\n",
       "<style scoped>\n",
       "    .dataframe tbody tr th:only-of-type {\n",
       "        vertical-align: middle;\n",
       "    }\n",
       "\n",
       "    .dataframe tbody tr th {\n",
       "        vertical-align: top;\n",
       "    }\n",
       "\n",
       "    .dataframe thead th {\n",
       "        text-align: right;\n",
       "    }\n",
       "</style>\n",
       "<table border=\"1\" class=\"dataframe\">\n",
       "  <thead>\n",
       "    <tr style=\"text-align: right;\">\n",
       "      <th></th>\n",
       "      <th>group</th>\n",
       "      <th>user_id</th>\n",
       "    </tr>\n",
       "  </thead>\n",
       "  <tbody>\n",
       "    <tr>\n",
       "      <th>0</th>\n",
       "      <td>A1</td>\n",
       "      <td>2484</td>\n",
       "    </tr>\n",
       "    <tr>\n",
       "      <th>1</th>\n",
       "      <td>A2</td>\n",
       "      <td>2513</td>\n",
       "    </tr>\n",
       "    <tr>\n",
       "      <th>2</th>\n",
       "      <td>B</td>\n",
       "      <td>2537</td>\n",
       "    </tr>\n",
       "  </tbody>\n",
       "</table>\n",
       "</div>"
      ],
      "text/plain": [
       "  group  user_id\n",
       "0    A1     2484\n",
       "1    A2     2513\n",
       "2     B     2537"
      ]
     },
     "execution_count": 35,
     "metadata": {},
     "output_type": "execute_result"
    }
   ],
   "source": [
    "#еще раз посмотрим, сколько пользователей в каждой группе\n",
    "users_cnt = logs.groupby('group').agg({'user_id': 'nunique'}).reset_index()\n",
    "users_cnt"
   ]
  },
  {
   "cell_type": "markdown",
   "metadata": {},
   "source": [
    "Во всех трех группах примерно одинаковое количество пользователей - около 2500 человек."
   ]
  },
  {
   "cell_type": "code",
   "execution_count": 36,
   "metadata": {},
   "outputs": [
    {
     "name": "stdout",
     "output_type": "stream",
     "text": [
      "1.15\n"
     ]
    }
   ],
   "source": [
    "#узнаем различие между контрольными группами\n",
    "A1toA2 = round(100 - users_cnt.iloc[0,1]/users_cnt.iloc[1,1]*100, 2)\n",
    "print(A1toA2)"
   ]
  },
  {
   "cell_type": "markdown",
   "metadata": {},
   "source": [
    "Как мы выяснили ранее, пересечений в пользователях между группами нет, численно группы А1 и А2 различаются на 1.15%, в идеале различие не должно превышать 1%, но наблюдаемое различие не критичное, поэтому делаем вывод, что данные подходят для тестирования."
   ]
  },
  {
   "cell_type": "code",
   "execution_count": 37,
   "metadata": {},
   "outputs": [
    {
     "data": {
      "text/html": [
       "<div>\n",
       "<style scoped>\n",
       "    .dataframe tbody tr th:only-of-type {\n",
       "        vertical-align: middle;\n",
       "    }\n",
       "\n",
       "    .dataframe tbody tr th {\n",
       "        vertical-align: top;\n",
       "    }\n",
       "\n",
       "    .dataframe thead th {\n",
       "        text-align: right;\n",
       "    }\n",
       "</style>\n",
       "<table border=\"1\" class=\"dataframe\">\n",
       "  <thead>\n",
       "    <tr style=\"text-align: right;\">\n",
       "      <th></th>\n",
       "      <th>group</th>\n",
       "      <th>user_id</th>\n",
       "    </tr>\n",
       "  </thead>\n",
       "  <tbody>\n",
       "    <tr>\n",
       "      <th>0</th>\n",
       "      <td>A1</td>\n",
       "      <td>2484</td>\n",
       "    </tr>\n",
       "    <tr>\n",
       "      <th>1</th>\n",
       "      <td>A2</td>\n",
       "      <td>2513</td>\n",
       "    </tr>\n",
       "    <tr>\n",
       "      <th>2</th>\n",
       "      <td>B</td>\n",
       "      <td>2537</td>\n",
       "    </tr>\n",
       "    <tr>\n",
       "      <th>3</th>\n",
       "      <td>A1+A2</td>\n",
       "      <td>4997</td>\n",
       "    </tr>\n",
       "  </tbody>\n",
       "</table>\n",
       "</div>"
      ],
      "text/plain": [
       "   group  user_id\n",
       "0     A1     2484\n",
       "1     A2     2513\n",
       "2      B     2537\n",
       "3  A1+A2     4997"
      ]
     },
     "execution_count": 37,
     "metadata": {},
     "output_type": "execute_result"
    }
   ],
   "source": [
    "#добавим строку для общей группы A1+A2\n",
    "users_cnt.loc[3] = ['A1+A2', users_cnt.iloc[0,1] + users_cnt.iloc[1,1]]\n",
    "users_cnt"
   ]
  },
  {
   "cell_type": "code",
   "execution_count": 38,
   "metadata": {},
   "outputs": [
    {
     "data": {
      "text/html": [
       "<div>\n",
       "<style scoped>\n",
       "    .dataframe tbody tr th:only-of-type {\n",
       "        vertical-align: middle;\n",
       "    }\n",
       "\n",
       "    .dataframe tbody tr th {\n",
       "        vertical-align: top;\n",
       "    }\n",
       "\n",
       "    .dataframe thead th {\n",
       "        text-align: right;\n",
       "    }\n",
       "</style>\n",
       "<table border=\"1\" class=\"dataframe\">\n",
       "  <thead>\n",
       "    <tr style=\"text-align: right;\">\n",
       "      <th></th>\n",
       "      <th>user_id</th>\n",
       "    </tr>\n",
       "    <tr>\n",
       "      <th>group</th>\n",
       "      <th></th>\n",
       "    </tr>\n",
       "  </thead>\n",
       "  <tbody>\n",
       "    <tr>\n",
       "      <th>A1</th>\n",
       "      <td>2484</td>\n",
       "    </tr>\n",
       "    <tr>\n",
       "      <th>A2</th>\n",
       "      <td>2513</td>\n",
       "    </tr>\n",
       "    <tr>\n",
       "      <th>B</th>\n",
       "      <td>2537</td>\n",
       "    </tr>\n",
       "    <tr>\n",
       "      <th>A1+A2</th>\n",
       "      <td>4997</td>\n",
       "    </tr>\n",
       "  </tbody>\n",
       "</table>\n",
       "</div>"
      ],
      "text/plain": [
       "       user_id\n",
       "group         \n",
       "A1        2484\n",
       "A2        2513\n",
       "B         2537\n",
       "A1+A2     4997"
      ]
     },
     "execution_count": 38,
     "metadata": {},
     "output_type": "execute_result"
    }
   ],
   "source": [
    "#сделаем индексами названия групп\n",
    "users_cnt = users_cnt.set_index(users_cnt.columns[0])\n",
    "users_cnt"
   ]
  },
  {
   "cell_type": "code",
   "execution_count": 39,
   "metadata": {},
   "outputs": [
    {
     "data": {
      "text/html": [
       "<div>\n",
       "<style scoped>\n",
       "    .dataframe tbody tr th:only-of-type {\n",
       "        vertical-align: middle;\n",
       "    }\n",
       "\n",
       "    .dataframe tbody tr th {\n",
       "        vertical-align: top;\n",
       "    }\n",
       "\n",
       "    .dataframe thead th {\n",
       "        text-align: right;\n",
       "    }\n",
       "</style>\n",
       "<table border=\"1\" class=\"dataframe\">\n",
       "  <thead>\n",
       "    <tr style=\"text-align: right;\">\n",
       "      <th>group</th>\n",
       "      <th>A1</th>\n",
       "      <th>A2</th>\n",
       "      <th>B</th>\n",
       "      <th>A1+A2</th>\n",
       "    </tr>\n",
       "    <tr>\n",
       "      <th>event_name</th>\n",
       "      <th></th>\n",
       "      <th></th>\n",
       "      <th></th>\n",
       "      <th></th>\n",
       "    </tr>\n",
       "  </thead>\n",
       "  <tbody>\n",
       "    <tr>\n",
       "      <th>MainScreenAppear</th>\n",
       "      <td>2450</td>\n",
       "      <td>2476</td>\n",
       "      <td>2493</td>\n",
       "      <td>4926</td>\n",
       "    </tr>\n",
       "    <tr>\n",
       "      <th>OffersScreenAppear</th>\n",
       "      <td>1542</td>\n",
       "      <td>1520</td>\n",
       "      <td>1531</td>\n",
       "      <td>3062</td>\n",
       "    </tr>\n",
       "    <tr>\n",
       "      <th>CartScreenAppear</th>\n",
       "      <td>1266</td>\n",
       "      <td>1238</td>\n",
       "      <td>1230</td>\n",
       "      <td>2504</td>\n",
       "    </tr>\n",
       "    <tr>\n",
       "      <th>PaymentScreenSuccessful</th>\n",
       "      <td>1200</td>\n",
       "      <td>1158</td>\n",
       "      <td>1181</td>\n",
       "      <td>2358</td>\n",
       "    </tr>\n",
       "  </tbody>\n",
       "</table>\n",
       "</div>"
      ],
      "text/plain": [
       "group                      A1    A2     B  A1+A2\n",
       "event_name                                      \n",
       "MainScreenAppear         2450  2476  2493   4926\n",
       "OffersScreenAppear       1542  1520  1531   3062\n",
       "CartScreenAppear         1266  1238  1230   2504\n",
       "PaymentScreenSuccessful  1200  1158  1181   2358"
      ]
     },
     "execution_count": 39,
     "metadata": {},
     "output_type": "execute_result"
    }
   ],
   "source": [
    "#получим таблицу с числом пользователей по каждому событию кроме обучения в разреще групп, а также добавим общую группу для групп A1 и А2\n",
    "funnels = logs.pivot_table(index='event_name', columns='group',values='user_id',aggfunc='nunique')\\\n",
    "                       .sort_values('A1',ascending=False)\n",
    "funnels['A1+A2'] = funnels['A1'] + funnels['A2']\n",
    "funnels.drop(['Tutorial'], inplace=True)\n",
    "funnels"
   ]
  },
  {
   "cell_type": "markdown",
   "metadata": {},
   "source": [
    "Проведем A/A-тест о равенствве конверсий между группами для всех 4 событий.\n",
    "\n",
    "Для проверки гипотезы о равенстве конверсий между группами воспользуется z-критерием c поправкой Бонферрони, так как тест является множественным. Всего будет проведено 16 сравнений (4 группы, 4 события).\n",
    "\n",
    "Сформулируем гипотезы:\n",
    "\n",
    "H0 - доли уникальных посетителей, побывавших на этапе воронки, одинаковы.\n",
    "H1 - между долями уникальных посетителей, побывавших на этапе воронки, есть значимая разница."
   ]
  },
  {
   "cell_type": "code",
   "execution_count": 40,
   "metadata": {},
   "outputs": [],
   "source": [
    "alpha = 0.05 \n",
    "\n",
    "def z_test(group1, group2, event, alpha): \n",
    "    p1_event = funnels.loc[event, group1]\n",
    "    p2_event = funnels.loc[event, group2] \n",
    "    p1_users = users_cnt.loc[group1, 'user_id'] \n",
    "    p2_users = users_cnt.loc[group2, 'user_id'] \n",
    "    p1 = p1_event / p1_users \n",
    "    p2 = p2_event / p2_users \n",
    "    difference = p1 - p2\n",
    "    p_combined = (p1_event + p2_event) / (p1_users + p2_users) \n",
    "    z_value = difference / mth.sqrt(p_combined * (1 - p_combined) * (1 / p1_users + 1 / p2_users))\n",
    "    distr = st.norm(0, 1)\n",
    "    p_value = (1 - distr.cdf(abs(z_value))) * 2\n",
    "    bonferroni_alpha = alpha / 16\n",
    "    \n",
    "    print('Тест для групп {} и {}, событие: {}, p-value: {p_value:.2f}'.format(group1, group2, event, p_value=p_value))\n",
    "    if (p_value < bonferroni_alpha):\n",
    "        print(\"Отвергаем нулевую гипотезу\")\n",
    "    else:\n",
    "        print(\"Не получилось отвергнуть нулевую гипотезу\")"
   ]
  },
  {
   "cell_type": "code",
   "execution_count": 41,
   "metadata": {},
   "outputs": [
    {
     "name": "stdout",
     "output_type": "stream",
     "text": [
      "Тест для групп A1 и A2, событие: MainScreenAppear, p-value: 0.76\n",
      "Не получилось отвергнуть нулевую гипотезу\n",
      "\n",
      "Тест для групп A1 и A2, событие: OffersScreenAppear, p-value: 0.25\n",
      "Не получилось отвергнуть нулевую гипотезу\n",
      "\n",
      "Тест для групп A1 и A2, событие: CartScreenAppear, p-value: 0.23\n",
      "Не получилось отвергнуть нулевую гипотезу\n",
      "\n",
      "Тест для групп A1 и A2, событие: PaymentScreenSuccessful, p-value: 0.11\n",
      "Не получилось отвергнуть нулевую гипотезу\n",
      "\n"
     ]
    }
   ],
   "source": [
    "for event in funnels.index:\n",
    "    z_test('A1', 'A2', event, 0.05)\n",
    "    print()"
   ]
  },
  {
   "cell_type": "markdown",
   "metadata": {
    "scrolled": true
   },
   "source": [
    "По результатам A/A-теста нельзя сделать вывод о различии конверсий между контрольными группами А1 и А2 по всем 4 событиям."
   ]
  },
  {
   "cell_type": "markdown",
   "metadata": {},
   "source": [
    "Проведем А/B-тест, поочередно сравним конверсии группы B c группами А1, А2 и объединенной группой B для всех 4 событий.\n",
    "\n",
    "Сформулируем гипотезы:\n",
    "\n",
    "Гипотеза H0: Конверсия пользователей в обеих группах равна\n",
    "\n",
    "Гипотеза H1: Конверсия пользователей в обеих группах не равна"
   ]
  },
  {
   "cell_type": "code",
   "execution_count": 42,
   "metadata": {},
   "outputs": [
    {
     "name": "stdout",
     "output_type": "stream",
     "text": [
      "Тест для групп A1 и B, событие: MainScreenAppear, p-value: 0.29\n",
      "Не получилось отвергнуть нулевую гипотезу\n",
      "\n",
      "Тест для групп A1 и B, событие: OffersScreenAppear, p-value: 0.21\n",
      "Не получилось отвергнуть нулевую гипотезу\n",
      "\n",
      "Тест для групп A1 и B, событие: CartScreenAppear, p-value: 0.08\n",
      "Не получилось отвергнуть нулевую гипотезу\n",
      "\n",
      "Тест для групп A1 и B, событие: PaymentScreenSuccessful, p-value: 0.21\n",
      "Не получилось отвергнуть нулевую гипотезу\n",
      "\n"
     ]
    }
   ],
   "source": [
    "#группы А1 и В\n",
    "for event in funnels.index:\n",
    "    z_test('A1', 'B', event, 0.05)\n",
    "    print()"
   ]
  },
  {
   "cell_type": "markdown",
   "metadata": {},
   "source": [
    "Нельзя сделать вывод о различии конверсий между группами А1 и B по всем 4 событиям."
   ]
  },
  {
   "cell_type": "code",
   "execution_count": 43,
   "metadata": {},
   "outputs": [
    {
     "name": "stdout",
     "output_type": "stream",
     "text": [
      "Тест для групп A2 и B, событие: MainScreenAppear, p-value: 0.46\n",
      "Не получилось отвергнуть нулевую гипотезу\n",
      "\n",
      "Тест для групп A2 и B, событие: OffersScreenAppear, p-value: 0.92\n",
      "Не получилось отвергнуть нулевую гипотезу\n",
      "\n",
      "Тест для групп A2 и B, событие: CartScreenAppear, p-value: 0.58\n",
      "Не получилось отвергнуть нулевую гипотезу\n",
      "\n",
      "Тест для групп A2 и B, событие: PaymentScreenSuccessful, p-value: 0.74\n",
      "Не получилось отвергнуть нулевую гипотезу\n",
      "\n"
     ]
    }
   ],
   "source": [
    "#группы А2 и В\n",
    "for event in funnels.index:\n",
    "    z_test('A2', 'B', event, 0.05)\n",
    "    print()"
   ]
  },
  {
   "cell_type": "markdown",
   "metadata": {},
   "source": [
    "Нельзя сделать вывод о различии конверсий между группами А2 и B по всем 4 событиям."
   ]
  },
  {
   "cell_type": "code",
   "execution_count": 44,
   "metadata": {},
   "outputs": [
    {
     "name": "stdout",
     "output_type": "stream",
     "text": [
      "Тест для групп A1+A2 и B, событие: MainScreenAppear, p-value: 0.29\n",
      "Не получилось отвергнуть нулевую гипотезу\n",
      "\n",
      "Тест для групп A1+A2 и B, событие: OffersScreenAppear, p-value: 0.43\n",
      "Не получилось отвергнуть нулевую гипотезу\n",
      "\n",
      "Тест для групп A1+A2 и B, событие: CartScreenAppear, p-value: 0.18\n",
      "Не получилось отвергнуть нулевую гипотезу\n",
      "\n",
      "Тест для групп A1+A2 и B, событие: PaymentScreenSuccessful, p-value: 0.60\n",
      "Не получилось отвергнуть нулевую гипотезу\n",
      "\n"
     ]
    }
   ],
   "source": [
    "#группы A1+А2 и В\n",
    "for event in funnels.index:\n",
    "    z_test('A1+A2', 'B', event, 0.05)\n",
    "    print()"
   ]
  },
  {
   "cell_type": "markdown",
   "metadata": {},
   "source": [
    "Нельзя сделать вывод о различии конверсий между группами А1+А2 и B по всем 4 событиям."
   ]
  },
  {
   "cell_type": "markdown",
   "metadata": {},
   "source": [
    "# Вывод 3"
   ]
  },
  {
   "cell_type": "markdown",
   "metadata": {},
   "source": [
    "Исходя из тестов, пока изменение шрифтов никак не повлияло на пользователей.\n",
    "\n",
    "В этой связи можно сделать 2 вывода, исходя из целеполагания изменения шрифтов.\n",
    "\n",
    "1. Если шрифты менялись целенаправленно, и менялись только они, чтобы, например, сделать заметнее раздел с ассортиментом для перехода в него с основной страницы и т.д., то есть для повышения конверсий на разных этапах, то пока это не дало эффекта.\n",
    "\n",
    "2. Если шрифты меняются в рамках комплексного проекта по улучшению интерфейса приложения, и начали по какой-то причине именно с них, тогда, возможно, при условии что проект предполагает еще ряд этапов после изменения шрифтов, итог может быть успешным. Пока, по крайней мере, хуже не стало. А последующие этапы проекта + замена шрифтов, возможно, дадут кумулятивный положительный эффект.\n",
    "\n",
    "Всего было сделано 16 проверок статистических гипотез, был выбран уровень значимости в 5% с поправкой Бонферрони, т.к. тест был множественным."
   ]
  }
 ],
 "metadata": {
  "ExecuteTimeLog": [
   {
    "duration": 1405,
    "start_time": "2022-11-15T12:13:53.455Z"
   },
   {
    "duration": 518,
    "start_time": "2022-11-15T12:14:53.378Z"
   },
   {
    "duration": 8,
    "start_time": "2022-11-15T12:15:01.304Z"
   },
   {
    "duration": 165,
    "start_time": "2022-11-15T12:15:31.123Z"
   },
   {
    "duration": 6,
    "start_time": "2022-11-15T12:15:42.446Z"
   },
   {
    "duration": 23,
    "start_time": "2022-11-15T12:16:03.719Z"
   },
   {
    "duration": 16,
    "start_time": "2022-11-15T12:19:38.131Z"
   },
   {
    "duration": 48,
    "start_time": "2022-11-15T13:44:38.477Z"
   },
   {
    "duration": 1358,
    "start_time": "2022-11-15T13:44:42.183Z"
   },
   {
    "duration": 498,
    "start_time": "2022-11-15T13:44:43.543Z"
   },
   {
    "duration": 10,
    "start_time": "2022-11-15T13:44:44.042Z"
   },
   {
    "duration": 30,
    "start_time": "2022-11-15T13:44:44.054Z"
   },
   {
    "duration": 16,
    "start_time": "2022-11-15T13:44:44.086Z"
   },
   {
    "duration": 71,
    "start_time": "2022-11-15T13:44:44.104Z"
   },
   {
    "duration": 76,
    "start_time": "2022-11-15T13:46:18.191Z"
   },
   {
    "duration": 63,
    "start_time": "2022-11-15T13:50:38.039Z"
   },
   {
    "duration": 38,
    "start_time": "2022-11-15T13:51:35.399Z"
   },
   {
    "duration": 3,
    "start_time": "2022-11-15T13:52:53.858Z"
   },
   {
    "duration": 3,
    "start_time": "2022-11-15T13:53:48.524Z"
   },
   {
    "duration": 22,
    "start_time": "2022-11-15T13:55:10.672Z"
   },
   {
    "duration": 25,
    "start_time": "2022-11-15T13:56:37.037Z"
   },
   {
    "duration": 8,
    "start_time": "2022-11-15T13:57:12.201Z"
   },
   {
    "duration": 18,
    "start_time": "2022-11-15T14:08:06.629Z"
   },
   {
    "duration": 43,
    "start_time": "2022-11-15T14:08:32.706Z"
   },
   {
    "duration": 32,
    "start_time": "2022-11-15T14:08:36.823Z"
   },
   {
    "duration": 32,
    "start_time": "2022-11-15T14:08:46.295Z"
   },
   {
    "duration": 99,
    "start_time": "2022-11-15T14:09:45.489Z"
   },
   {
    "duration": 35,
    "start_time": "2022-11-15T14:10:02.806Z"
   },
   {
    "duration": 34,
    "start_time": "2022-11-15T14:10:18.637Z"
   },
   {
    "duration": 32,
    "start_time": "2022-11-15T14:10:51.008Z"
   },
   {
    "duration": 3,
    "start_time": "2022-11-15T14:11:39.809Z"
   },
   {
    "duration": 3,
    "start_time": "2022-11-15T14:11:44.223Z"
   },
   {
    "duration": 6,
    "start_time": "2022-11-15T14:12:48.698Z"
   },
   {
    "duration": 5,
    "start_time": "2022-11-15T14:14:15.737Z"
   },
   {
    "duration": 98,
    "start_time": "2022-11-15T14:14:36.001Z"
   },
   {
    "duration": 50,
    "start_time": "2022-11-15T14:14:48.272Z"
   },
   {
    "duration": 7,
    "start_time": "2022-11-15T14:15:16.394Z"
   },
   {
    "duration": 59,
    "start_time": "2022-11-15T14:15:31.617Z"
   },
   {
    "duration": 54,
    "start_time": "2022-11-15T14:15:36.481Z"
   },
   {
    "duration": 52,
    "start_time": "2022-11-15T14:15:43.625Z"
   },
   {
    "duration": 62,
    "start_time": "2022-11-15T14:15:57.064Z"
   },
   {
    "duration": 50,
    "start_time": "2022-11-15T14:16:01.566Z"
   },
   {
    "duration": 56,
    "start_time": "2022-11-15T14:16:11.505Z"
   },
   {
    "duration": 7,
    "start_time": "2022-11-15T14:16:16.752Z"
   },
   {
    "duration": 5,
    "start_time": "2022-11-15T14:17:52.707Z"
   },
   {
    "duration": 5,
    "start_time": "2022-11-15T14:18:45.170Z"
   },
   {
    "duration": 6,
    "start_time": "2022-11-15T14:18:55.138Z"
   },
   {
    "duration": 6,
    "start_time": "2022-11-15T14:19:19.805Z"
   },
   {
    "duration": 6,
    "start_time": "2022-11-15T14:19:45.675Z"
   },
   {
    "duration": 1312,
    "start_time": "2022-11-15T14:23:29.541Z"
   },
   {
    "duration": 4,
    "start_time": "2022-11-15T14:24:43.498Z"
   },
   {
    "duration": 176,
    "start_time": "2022-11-15T14:24:43.504Z"
   },
   {
    "duration": 6,
    "start_time": "2022-11-15T14:24:43.682Z"
   },
   {
    "duration": 22,
    "start_time": "2022-11-15T14:24:43.690Z"
   },
   {
    "duration": 46,
    "start_time": "2022-11-15T14:24:43.714Z"
   },
   {
    "duration": 14,
    "start_time": "2022-11-15T14:24:43.762Z"
   },
   {
    "duration": 69,
    "start_time": "2022-11-15T14:24:43.778Z"
   },
   {
    "duration": 58,
    "start_time": "2022-11-15T14:24:43.849Z"
   },
   {
    "duration": 3,
    "start_time": "2022-11-15T14:24:43.910Z"
   },
   {
    "duration": 37,
    "start_time": "2022-11-15T14:24:43.914Z"
   },
   {
    "duration": 1177,
    "start_time": "2022-11-15T14:24:43.953Z"
   },
   {
    "duration": 0,
    "start_time": "2022-11-15T14:24:45.132Z"
   },
   {
    "duration": 0,
    "start_time": "2022-11-15T14:24:45.133Z"
   },
   {
    "duration": 0,
    "start_time": "2022-11-15T14:24:45.135Z"
   },
   {
    "duration": 0,
    "start_time": "2022-11-15T14:24:45.136Z"
   },
   {
    "duration": 0,
    "start_time": "2022-11-15T14:24:45.137Z"
   },
   {
    "duration": 0,
    "start_time": "2022-11-15T14:24:45.138Z"
   },
   {
    "duration": 3,
    "start_time": "2022-11-15T14:25:07.254Z"
   },
   {
    "duration": 163,
    "start_time": "2022-11-15T14:25:07.259Z"
   },
   {
    "duration": 6,
    "start_time": "2022-11-15T14:25:07.424Z"
   },
   {
    "duration": 32,
    "start_time": "2022-11-15T14:25:07.435Z"
   },
   {
    "duration": 44,
    "start_time": "2022-11-15T14:25:07.469Z"
   },
   {
    "duration": 15,
    "start_time": "2022-11-15T14:25:07.515Z"
   },
   {
    "duration": 67,
    "start_time": "2022-11-15T14:25:07.532Z"
   },
   {
    "duration": 64,
    "start_time": "2022-11-15T14:25:07.601Z"
   },
   {
    "duration": 3,
    "start_time": "2022-11-15T14:25:07.666Z"
   },
   {
    "duration": 27,
    "start_time": "2022-11-15T14:25:07.671Z"
   },
   {
    "duration": 971,
    "start_time": "2022-11-15T14:25:07.700Z"
   },
   {
    "duration": 0,
    "start_time": "2022-11-15T14:25:08.673Z"
   },
   {
    "duration": 0,
    "start_time": "2022-11-15T14:25:08.674Z"
   },
   {
    "duration": 0,
    "start_time": "2022-11-15T14:25:08.675Z"
   },
   {
    "duration": 0,
    "start_time": "2022-11-15T14:25:08.677Z"
   },
   {
    "duration": 0,
    "start_time": "2022-11-15T14:25:08.678Z"
   },
   {
    "duration": 0,
    "start_time": "2022-11-15T14:25:08.679Z"
   },
   {
    "duration": 263,
    "start_time": "2022-11-15T14:25:11.841Z"
   },
   {
    "duration": 4,
    "start_time": "2022-11-15T14:25:54.765Z"
   },
   {
    "duration": 160,
    "start_time": "2022-11-15T14:25:54.770Z"
   },
   {
    "duration": 8,
    "start_time": "2022-11-15T14:25:54.932Z"
   },
   {
    "duration": 35,
    "start_time": "2022-11-15T14:25:54.945Z"
   },
   {
    "duration": 30,
    "start_time": "2022-11-15T14:25:54.982Z"
   },
   {
    "duration": 30,
    "start_time": "2022-11-15T14:25:55.014Z"
   },
   {
    "duration": 55,
    "start_time": "2022-11-15T14:25:55.046Z"
   },
   {
    "duration": 74,
    "start_time": "2022-11-15T14:25:55.103Z"
   },
   {
    "duration": 3,
    "start_time": "2022-11-15T14:25:55.179Z"
   },
   {
    "duration": 35,
    "start_time": "2022-11-15T14:25:55.184Z"
   },
   {
    "duration": 33,
    "start_time": "2022-11-15T14:25:55.220Z"
   },
   {
    "duration": 30,
    "start_time": "2022-11-15T14:25:55.255Z"
   },
   {
    "duration": 3,
    "start_time": "2022-11-15T14:25:55.287Z"
   },
   {
    "duration": 10,
    "start_time": "2022-11-15T14:25:55.291Z"
   },
   {
    "duration": 35,
    "start_time": "2022-11-15T14:25:55.303Z"
   },
   {
    "duration": 1173,
    "start_time": "2022-11-15T14:25:55.340Z"
   },
   {
    "duration": 0,
    "start_time": "2022-11-15T14:25:56.515Z"
   },
   {
    "duration": 3,
    "start_time": "2022-11-15T14:26:21.309Z"
   },
   {
    "duration": 182,
    "start_time": "2022-11-15T14:26:21.314Z"
   },
   {
    "duration": 7,
    "start_time": "2022-11-15T14:26:21.498Z"
   },
   {
    "duration": 45,
    "start_time": "2022-11-15T14:26:21.506Z"
   },
   {
    "duration": 48,
    "start_time": "2022-11-15T14:26:21.553Z"
   },
   {
    "duration": 15,
    "start_time": "2022-11-15T14:26:21.603Z"
   },
   {
    "duration": 62,
    "start_time": "2022-11-15T14:26:21.620Z"
   },
   {
    "duration": 67,
    "start_time": "2022-11-15T14:26:21.684Z"
   },
   {
    "duration": 3,
    "start_time": "2022-11-15T14:26:21.753Z"
   },
   {
    "duration": 31,
    "start_time": "2022-11-15T14:26:21.758Z"
   },
   {
    "duration": 904,
    "start_time": "2022-11-15T14:26:21.791Z"
   },
   {
    "duration": 0,
    "start_time": "2022-11-15T14:26:22.698Z"
   },
   {
    "duration": 0,
    "start_time": "2022-11-15T14:26:22.699Z"
   },
   {
    "duration": 0,
    "start_time": "2022-11-15T14:26:22.701Z"
   },
   {
    "duration": 0,
    "start_time": "2022-11-15T14:26:22.702Z"
   },
   {
    "duration": 0,
    "start_time": "2022-11-15T14:26:22.703Z"
   },
   {
    "duration": 0,
    "start_time": "2022-11-15T14:26:22.704Z"
   },
   {
    "duration": 80,
    "start_time": "2022-11-15T14:26:33.779Z"
   },
   {
    "duration": 5,
    "start_time": "2022-11-15T14:26:40.041Z"
   },
   {
    "duration": 176,
    "start_time": "2022-11-15T14:26:51.839Z"
   },
   {
    "duration": 4,
    "start_time": "2022-11-15T14:27:20.864Z"
   },
   {
    "duration": 319,
    "start_time": "2022-11-15T14:27:24.940Z"
   },
   {
    "duration": 3,
    "start_time": "2022-11-15T14:27:44.416Z"
   },
   {
    "duration": 295,
    "start_time": "2022-11-15T14:29:26.725Z"
   },
   {
    "duration": 277,
    "start_time": "2022-11-15T14:30:05.877Z"
   },
   {
    "duration": 278,
    "start_time": "2022-11-15T14:30:39.307Z"
   },
   {
    "duration": 265,
    "start_time": "2022-11-15T14:31:26.095Z"
   },
   {
    "duration": 14,
    "start_time": "2022-11-15T14:33:49.303Z"
   },
   {
    "duration": 11,
    "start_time": "2022-11-15T14:34:43.166Z"
   },
   {
    "duration": 7,
    "start_time": "2022-11-15T14:34:44.819Z"
   },
   {
    "duration": 7,
    "start_time": "2022-11-15T14:35:17.172Z"
   },
   {
    "duration": 9,
    "start_time": "2022-11-15T14:37:26.717Z"
   },
   {
    "duration": 58,
    "start_time": "2022-11-15T14:37:44.825Z"
   },
   {
    "duration": 8,
    "start_time": "2022-11-15T14:37:51.481Z"
   },
   {
    "duration": 3,
    "start_time": "2022-11-15T14:38:45.309Z"
   },
   {
    "duration": 170,
    "start_time": "2022-11-15T14:38:45.314Z"
   },
   {
    "duration": 6,
    "start_time": "2022-11-15T14:38:45.486Z"
   },
   {
    "duration": 81,
    "start_time": "2022-11-15T14:38:45.494Z"
   },
   {
    "duration": 38,
    "start_time": "2022-11-15T14:38:45.577Z"
   },
   {
    "duration": 15,
    "start_time": "2022-11-15T14:38:45.617Z"
   },
   {
    "duration": 54,
    "start_time": "2022-11-15T14:38:45.634Z"
   },
   {
    "duration": 59,
    "start_time": "2022-11-15T14:38:45.690Z"
   },
   {
    "duration": 3,
    "start_time": "2022-11-15T14:38:45.751Z"
   },
   {
    "duration": 27,
    "start_time": "2022-11-15T14:38:45.756Z"
   },
   {
    "duration": 26,
    "start_time": "2022-11-15T14:38:45.786Z"
   },
   {
    "duration": 47,
    "start_time": "2022-11-15T14:38:45.814Z"
   },
   {
    "duration": 4,
    "start_time": "2022-11-15T14:38:45.863Z"
   },
   {
    "duration": 27,
    "start_time": "2022-11-15T14:38:45.869Z"
   },
   {
    "duration": 7,
    "start_time": "2022-11-15T14:38:45.898Z"
   },
   {
    "duration": 19,
    "start_time": "2022-11-15T14:38:45.906Z"
   },
   {
    "duration": 11,
    "start_time": "2022-11-15T14:38:45.926Z"
   },
   {
    "duration": 306,
    "start_time": "2022-11-15T14:38:45.939Z"
   },
   {
    "duration": 13,
    "start_time": "2022-11-15T14:38:46.246Z"
   },
   {
    "duration": 8,
    "start_time": "2022-11-15T14:38:46.261Z"
   },
   {
    "duration": 13,
    "start_time": "2022-11-15T14:42:28.733Z"
   },
   {
    "duration": 227,
    "start_time": "2022-11-15T14:42:50.222Z"
   },
   {
    "duration": 192,
    "start_time": "2022-11-15T14:43:17.098Z"
   },
   {
    "duration": 4,
    "start_time": "2022-11-15T14:43:21.391Z"
   },
   {
    "duration": 168,
    "start_time": "2022-11-15T14:43:21.397Z"
   },
   {
    "duration": 7,
    "start_time": "2022-11-15T14:43:21.567Z"
   },
   {
    "duration": 22,
    "start_time": "2022-11-15T14:43:21.576Z"
   },
   {
    "duration": 53,
    "start_time": "2022-11-15T14:43:21.600Z"
   },
   {
    "duration": 23,
    "start_time": "2022-11-15T14:43:21.654Z"
   },
   {
    "duration": 69,
    "start_time": "2022-11-15T14:43:21.679Z"
   },
   {
    "duration": 61,
    "start_time": "2022-11-15T14:43:21.749Z"
   },
   {
    "duration": 3,
    "start_time": "2022-11-15T14:43:21.812Z"
   },
   {
    "duration": 24,
    "start_time": "2022-11-15T14:43:21.835Z"
   },
   {
    "duration": 26,
    "start_time": "2022-11-15T14:43:21.861Z"
   },
   {
    "duration": 54,
    "start_time": "2022-11-15T14:43:21.888Z"
   },
   {
    "duration": 4,
    "start_time": "2022-11-15T14:43:21.944Z"
   },
   {
    "duration": 7,
    "start_time": "2022-11-15T14:43:21.950Z"
   },
   {
    "duration": 9,
    "start_time": "2022-11-15T14:43:21.959Z"
   },
   {
    "duration": 11,
    "start_time": "2022-11-15T14:43:21.970Z"
   },
   {
    "duration": 6,
    "start_time": "2022-11-15T14:43:21.982Z"
   },
   {
    "duration": 320,
    "start_time": "2022-11-15T14:43:21.989Z"
   },
   {
    "duration": 29,
    "start_time": "2022-11-15T14:43:22.311Z"
   },
   {
    "duration": 10,
    "start_time": "2022-11-15T14:43:22.343Z"
   },
   {
    "duration": 12,
    "start_time": "2022-11-15T14:43:22.354Z"
   },
   {
    "duration": 33,
    "start_time": "2022-11-15T14:43:31.654Z"
   },
   {
    "duration": 197,
    "start_time": "2022-11-15T14:43:49.188Z"
   },
   {
    "duration": 3,
    "start_time": "2022-11-15T14:43:55.368Z"
   },
   {
    "duration": 191,
    "start_time": "2022-11-15T14:43:55.373Z"
   },
   {
    "duration": 6,
    "start_time": "2022-11-15T14:43:55.566Z"
   },
   {
    "duration": 38,
    "start_time": "2022-11-15T14:43:55.573Z"
   },
   {
    "duration": 54,
    "start_time": "2022-11-15T14:43:55.613Z"
   },
   {
    "duration": 16,
    "start_time": "2022-11-15T14:43:55.669Z"
   },
   {
    "duration": 63,
    "start_time": "2022-11-15T14:43:55.686Z"
   },
   {
    "duration": 59,
    "start_time": "2022-11-15T14:43:55.751Z"
   },
   {
    "duration": 3,
    "start_time": "2022-11-15T14:43:55.812Z"
   },
   {
    "duration": 37,
    "start_time": "2022-11-15T14:43:55.816Z"
   },
   {
    "duration": 105,
    "start_time": "2022-11-15T14:43:55.855Z"
   },
   {
    "duration": 34,
    "start_time": "2022-11-15T14:43:55.962Z"
   },
   {
    "duration": 3,
    "start_time": "2022-11-15T14:43:55.998Z"
   },
   {
    "duration": 11,
    "start_time": "2022-11-15T14:43:56.004Z"
   },
   {
    "duration": 22,
    "start_time": "2022-11-15T14:43:56.017Z"
   },
   {
    "duration": 23,
    "start_time": "2022-11-15T14:43:56.041Z"
   },
   {
    "duration": 10,
    "start_time": "2022-11-15T14:43:56.066Z"
   },
   {
    "duration": 283,
    "start_time": "2022-11-15T14:43:56.078Z"
   },
   {
    "duration": 13,
    "start_time": "2022-11-15T14:43:56.363Z"
   },
   {
    "duration": 13,
    "start_time": "2022-11-15T14:43:56.378Z"
   },
   {
    "duration": 11,
    "start_time": "2022-11-15T14:43:56.393Z"
   },
   {
    "duration": 33,
    "start_time": "2022-11-15T14:44:03.515Z"
   },
   {
    "duration": 33,
    "start_time": "2022-11-15T14:45:48.519Z"
   },
   {
    "duration": 32,
    "start_time": "2022-11-15T14:46:17.109Z"
   },
   {
    "duration": 31,
    "start_time": "2022-11-15T17:43:20.036Z"
   },
   {
    "duration": 17,
    "start_time": "2022-11-15T17:45:29.669Z"
   },
   {
    "duration": 698,
    "start_time": "2022-11-15T17:46:32.056Z"
   },
   {
    "duration": 22,
    "start_time": "2022-11-15T17:47:00.625Z"
   },
   {
    "duration": 27,
    "start_time": "2022-11-15T17:47:19.417Z"
   },
   {
    "duration": 25,
    "start_time": "2022-11-15T17:47:45.578Z"
   },
   {
    "duration": 30,
    "start_time": "2022-11-15T17:48:48.777Z"
   },
   {
    "duration": 30,
    "start_time": "2022-11-15T17:50:22.312Z"
   },
   {
    "duration": 27,
    "start_time": "2022-11-15T17:51:46.453Z"
   },
   {
    "duration": 44,
    "start_time": "2022-11-15T18:03:17.367Z"
   },
   {
    "duration": 51,
    "start_time": "2022-11-15T18:03:36.688Z"
   },
   {
    "duration": 70,
    "start_time": "2022-11-15T18:03:42.553Z"
   },
   {
    "duration": 50,
    "start_time": "2022-11-15T18:03:48.605Z"
   },
   {
    "duration": 46,
    "start_time": "2022-11-15T18:04:20.494Z"
   },
   {
    "duration": 52,
    "start_time": "2022-11-15T18:04:27.954Z"
   },
   {
    "duration": 52,
    "start_time": "2022-11-15T18:05:00.105Z"
   },
   {
    "duration": 53,
    "start_time": "2022-11-15T18:09:18.062Z"
   },
   {
    "duration": 55,
    "start_time": "2022-11-15T18:09:41.326Z"
   },
   {
    "duration": 6,
    "start_time": "2022-11-15T18:14:16.155Z"
   },
   {
    "duration": 4,
    "start_time": "2022-11-15T18:14:23.300Z"
   },
   {
    "duration": 7,
    "start_time": "2022-11-15T18:15:25.082Z"
   },
   {
    "duration": 8,
    "start_time": "2022-11-15T18:15:38.343Z"
   },
   {
    "duration": 53,
    "start_time": "2022-11-15T18:16:23.475Z"
   },
   {
    "duration": 46,
    "start_time": "2022-11-15T18:16:31.604Z"
   },
   {
    "duration": 9,
    "start_time": "2022-11-15T18:16:45.426Z"
   },
   {
    "duration": 12,
    "start_time": "2022-11-15T18:17:06.664Z"
   },
   {
    "duration": 8,
    "start_time": "2022-11-15T18:17:16.290Z"
   },
   {
    "duration": 49,
    "start_time": "2022-11-15T21:31:50.440Z"
   },
   {
    "duration": 5,
    "start_time": "2022-11-15T21:32:14.421Z"
   },
   {
    "duration": 1242,
    "start_time": "2022-11-15T21:32:27.073Z"
   },
   {
    "duration": 507,
    "start_time": "2022-11-15T21:32:28.318Z"
   },
   {
    "duration": 7,
    "start_time": "2022-11-15T21:32:28.827Z"
   },
   {
    "duration": 24,
    "start_time": "2022-11-15T21:32:28.836Z"
   },
   {
    "duration": 44,
    "start_time": "2022-11-15T21:32:28.862Z"
   },
   {
    "duration": 20,
    "start_time": "2022-11-15T21:32:28.907Z"
   },
   {
    "duration": 60,
    "start_time": "2022-11-15T21:32:28.928Z"
   },
   {
    "duration": 82,
    "start_time": "2022-11-15T21:32:28.989Z"
   },
   {
    "duration": 2,
    "start_time": "2022-11-15T21:32:29.073Z"
   },
   {
    "duration": 25,
    "start_time": "2022-11-15T21:32:29.078Z"
   },
   {
    "duration": 33,
    "start_time": "2022-11-15T21:32:29.105Z"
   },
   {
    "duration": 30,
    "start_time": "2022-11-15T21:32:29.139Z"
   },
   {
    "duration": 3,
    "start_time": "2022-11-15T21:32:29.170Z"
   },
   {
    "duration": 9,
    "start_time": "2022-11-15T21:32:29.175Z"
   },
   {
    "duration": 8,
    "start_time": "2022-11-15T21:32:29.185Z"
   },
   {
    "duration": 27,
    "start_time": "2022-11-15T21:32:29.195Z"
   },
   {
    "duration": 3,
    "start_time": "2022-11-15T21:32:29.224Z"
   },
   {
    "duration": 341,
    "start_time": "2022-11-15T21:32:29.228Z"
   },
   {
    "duration": 15,
    "start_time": "2022-11-15T21:32:29.570Z"
   },
   {
    "duration": 8,
    "start_time": "2022-11-15T21:32:29.586Z"
   },
   {
    "duration": 45,
    "start_time": "2022-11-15T21:32:29.596Z"
   },
   {
    "duration": 29,
    "start_time": "2022-11-15T21:32:29.643Z"
   },
   {
    "duration": 17,
    "start_time": "2022-11-15T21:32:29.673Z"
   },
   {
    "duration": 44,
    "start_time": "2022-11-15T21:32:29.691Z"
   },
   {
    "duration": 51,
    "start_time": "2022-11-15T21:32:29.737Z"
   },
   {
    "duration": 67,
    "start_time": "2022-11-15T21:32:29.789Z"
   },
   {
    "duration": 8,
    "start_time": "2022-11-15T21:32:29.858Z"
   },
   {
    "duration": 1058,
    "start_time": "2022-11-15T21:32:29.869Z"
   },
   {
    "duration": 1218,
    "start_time": "2022-11-15T21:33:40.233Z"
   },
   {
    "duration": 20,
    "start_time": "2022-11-15T21:34:24.933Z"
   },
   {
    "duration": 24,
    "start_time": "2022-11-15T21:34:44.237Z"
   },
   {
    "duration": 23,
    "start_time": "2022-11-15T21:34:59.840Z"
   },
   {
    "duration": 21,
    "start_time": "2022-11-15T21:36:08.034Z"
   },
   {
    "duration": 28,
    "start_time": "2022-11-15T21:36:25.779Z"
   },
   {
    "duration": 23,
    "start_time": "2022-11-15T21:36:44.294Z"
   },
   {
    "duration": 22,
    "start_time": "2022-11-15T21:36:52.070Z"
   },
   {
    "duration": 22,
    "start_time": "2022-11-15T21:37:06.019Z"
   },
   {
    "duration": 24,
    "start_time": "2022-11-15T21:37:34.118Z"
   },
   {
    "duration": 43,
    "start_time": "2022-11-16T10:33:04.560Z"
   },
   {
    "duration": 1109,
    "start_time": "2022-11-16T10:33:10.985Z"
   },
   {
    "duration": 724,
    "start_time": "2022-11-16T10:33:12.096Z"
   },
   {
    "duration": 7,
    "start_time": "2022-11-16T10:33:12.821Z"
   },
   {
    "duration": 18,
    "start_time": "2022-11-16T10:33:12.830Z"
   },
   {
    "duration": 40,
    "start_time": "2022-11-16T10:33:12.849Z"
   },
   {
    "duration": 11,
    "start_time": "2022-11-16T10:33:12.890Z"
   },
   {
    "duration": 67,
    "start_time": "2022-11-16T10:33:12.902Z"
   },
   {
    "duration": 59,
    "start_time": "2022-11-16T10:33:12.971Z"
   },
   {
    "duration": 3,
    "start_time": "2022-11-16T10:33:13.031Z"
   },
   {
    "duration": 35,
    "start_time": "2022-11-16T10:33:13.036Z"
   },
   {
    "duration": 20,
    "start_time": "2022-11-16T10:33:13.073Z"
   },
   {
    "duration": 27,
    "start_time": "2022-11-16T10:33:13.094Z"
   },
   {
    "duration": 2,
    "start_time": "2022-11-16T10:33:13.122Z"
   },
   {
    "duration": 6,
    "start_time": "2022-11-16T10:33:13.126Z"
   },
   {
    "duration": 5,
    "start_time": "2022-11-16T10:33:13.151Z"
   },
   {
    "duration": 11,
    "start_time": "2022-11-16T10:33:13.157Z"
   },
   {
    "duration": 8,
    "start_time": "2022-11-16T10:33:13.169Z"
   },
   {
    "duration": 303,
    "start_time": "2022-11-16T10:33:13.178Z"
   },
   {
    "duration": 14,
    "start_time": "2022-11-16T10:33:13.482Z"
   },
   {
    "duration": 7,
    "start_time": "2022-11-16T10:33:13.497Z"
   },
   {
    "duration": 28,
    "start_time": "2022-11-16T10:33:13.505Z"
   },
   {
    "duration": 39,
    "start_time": "2022-11-16T10:33:13.534Z"
   },
   {
    "duration": 16,
    "start_time": "2022-11-16T10:33:13.574Z"
   },
   {
    "duration": 23,
    "start_time": "2022-11-16T10:33:13.591Z"
   },
   {
    "duration": 63,
    "start_time": "2022-11-16T10:33:13.615Z"
   },
   {
    "duration": 48,
    "start_time": "2022-11-16T10:33:13.679Z"
   },
   {
    "duration": 8,
    "start_time": "2022-11-16T10:33:13.728Z"
   },
   {
    "duration": 4,
    "start_time": "2022-11-16T10:33:13.751Z"
   },
   {
    "duration": 3,
    "start_time": "2022-11-16T10:33:23.784Z"
   },
   {
    "duration": 6,
    "start_time": "2022-11-16T10:33:30.867Z"
   },
   {
    "duration": 7,
    "start_time": "2022-11-16T10:33:57.602Z"
   },
   {
    "duration": 6,
    "start_time": "2022-11-16T10:35:13.477Z"
   },
   {
    "duration": 6,
    "start_time": "2022-11-16T10:35:33.393Z"
   },
   {
    "duration": 7,
    "start_time": "2022-11-16T10:35:46.809Z"
   },
   {
    "duration": 6,
    "start_time": "2022-11-16T10:36:37.602Z"
   },
   {
    "duration": 2,
    "start_time": "2022-11-16T10:36:44.725Z"
   },
   {
    "duration": 128,
    "start_time": "2022-11-16T10:36:44.729Z"
   },
   {
    "duration": 6,
    "start_time": "2022-11-16T10:36:44.858Z"
   },
   {
    "duration": 18,
    "start_time": "2022-11-16T10:36:44.865Z"
   },
   {
    "duration": 26,
    "start_time": "2022-11-16T10:36:44.884Z"
   },
   {
    "duration": 12,
    "start_time": "2022-11-16T10:36:44.911Z"
   },
   {
    "duration": 65,
    "start_time": "2022-11-16T10:36:44.924Z"
   },
   {
    "duration": 45,
    "start_time": "2022-11-16T10:36:44.990Z"
   },
   {
    "duration": 3,
    "start_time": "2022-11-16T10:36:45.037Z"
   },
   {
    "duration": 30,
    "start_time": "2022-11-16T10:36:45.041Z"
   },
   {
    "duration": 20,
    "start_time": "2022-11-16T10:36:45.072Z"
   },
   {
    "duration": 26,
    "start_time": "2022-11-16T10:36:45.093Z"
   },
   {
    "duration": 3,
    "start_time": "2022-11-16T10:36:45.121Z"
   },
   {
    "duration": 27,
    "start_time": "2022-11-16T10:36:45.125Z"
   },
   {
    "duration": 5,
    "start_time": "2022-11-16T10:36:45.153Z"
   },
   {
    "duration": 6,
    "start_time": "2022-11-16T10:36:45.160Z"
   },
   {
    "duration": 3,
    "start_time": "2022-11-16T10:36:45.167Z"
   },
   {
    "duration": 252,
    "start_time": "2022-11-16T10:36:45.171Z"
   },
   {
    "duration": 11,
    "start_time": "2022-11-16T10:36:45.424Z"
   },
   {
    "duration": 17,
    "start_time": "2022-11-16T10:36:45.437Z"
   },
   {
    "duration": 27,
    "start_time": "2022-11-16T10:36:45.456Z"
   },
   {
    "duration": 25,
    "start_time": "2022-11-16T10:36:45.484Z"
   },
   {
    "duration": 16,
    "start_time": "2022-11-16T10:36:45.510Z"
   },
   {
    "duration": 38,
    "start_time": "2022-11-16T10:36:45.528Z"
   },
   {
    "duration": 48,
    "start_time": "2022-11-16T10:36:45.568Z"
   },
   {
    "duration": 63,
    "start_time": "2022-11-16T10:36:45.617Z"
   },
   {
    "duration": 7,
    "start_time": "2022-11-16T10:36:45.681Z"
   },
   {
    "duration": 6,
    "start_time": "2022-11-16T10:36:45.689Z"
   },
   {
    "duration": 4,
    "start_time": "2022-11-16T10:41:31.095Z"
   },
   {
    "duration": 4,
    "start_time": "2022-11-16T10:42:16.878Z"
   },
   {
    "duration": 6,
    "start_time": "2022-11-16T10:42:58.039Z"
   },
   {
    "duration": 7,
    "start_time": "2022-11-16T10:43:41.729Z"
   },
   {
    "duration": 1124,
    "start_time": "2022-11-16T10:44:34.329Z"
   },
   {
    "duration": 3,
    "start_time": "2022-11-16T10:44:49.821Z"
   },
   {
    "duration": 1144,
    "start_time": "2022-11-16T10:44:54.274Z"
   },
   {
    "duration": 1314,
    "start_time": "2022-11-16T10:44:59.925Z"
   },
   {
    "duration": 4,
    "start_time": "2022-11-16T10:45:39.852Z"
   },
   {
    "duration": 140,
    "start_time": "2022-11-16T10:45:39.858Z"
   },
   {
    "duration": 7,
    "start_time": "2022-11-16T10:45:40.000Z"
   },
   {
    "duration": 24,
    "start_time": "2022-11-16T10:45:40.008Z"
   },
   {
    "duration": 29,
    "start_time": "2022-11-16T10:45:40.033Z"
   },
   {
    "duration": 11,
    "start_time": "2022-11-16T10:45:40.063Z"
   },
   {
    "duration": 49,
    "start_time": "2022-11-16T10:45:40.076Z"
   },
   {
    "duration": 56,
    "start_time": "2022-11-16T10:45:40.127Z"
   },
   {
    "duration": 2,
    "start_time": "2022-11-16T10:45:40.186Z"
   },
   {
    "duration": 22,
    "start_time": "2022-11-16T10:45:40.189Z"
   },
   {
    "duration": 22,
    "start_time": "2022-11-16T10:45:40.212Z"
   },
   {
    "duration": 37,
    "start_time": "2022-11-16T10:45:40.235Z"
   },
   {
    "duration": 3,
    "start_time": "2022-11-16T10:45:40.273Z"
   },
   {
    "duration": 7,
    "start_time": "2022-11-16T10:45:40.277Z"
   },
   {
    "duration": 7,
    "start_time": "2022-11-16T10:45:40.285Z"
   },
   {
    "duration": 6,
    "start_time": "2022-11-16T10:45:40.293Z"
   },
   {
    "duration": 5,
    "start_time": "2022-11-16T10:45:40.300Z"
   },
   {
    "duration": 254,
    "start_time": "2022-11-16T10:45:40.306Z"
   },
   {
    "duration": 12,
    "start_time": "2022-11-16T10:45:40.561Z"
   },
   {
    "duration": 6,
    "start_time": "2022-11-16T10:45:40.575Z"
   },
   {
    "duration": 27,
    "start_time": "2022-11-16T10:45:40.583Z"
   },
   {
    "duration": 47,
    "start_time": "2022-11-16T10:45:40.612Z"
   },
   {
    "duration": 15,
    "start_time": "2022-11-16T10:45:40.661Z"
   },
   {
    "duration": 21,
    "start_time": "2022-11-16T10:45:40.678Z"
   },
   {
    "duration": 70,
    "start_time": "2022-11-16T10:45:40.700Z"
   },
   {
    "duration": 48,
    "start_time": "2022-11-16T10:45:40.771Z"
   },
   {
    "duration": 7,
    "start_time": "2022-11-16T10:45:40.821Z"
   },
   {
    "duration": 23,
    "start_time": "2022-11-16T10:45:40.829Z"
   },
   {
    "duration": 6,
    "start_time": "2022-11-16T10:45:44.453Z"
   },
   {
    "duration": 3,
    "start_time": "2022-11-16T10:47:09.110Z"
   },
   {
    "duration": 3,
    "start_time": "2022-11-16T10:47:17.829Z"
   },
   {
    "duration": 128,
    "start_time": "2022-11-16T10:47:17.834Z"
   },
   {
    "duration": 5,
    "start_time": "2022-11-16T10:47:17.963Z"
   },
   {
    "duration": 18,
    "start_time": "2022-11-16T10:47:17.970Z"
   },
   {
    "duration": 26,
    "start_time": "2022-11-16T10:47:17.990Z"
   },
   {
    "duration": 11,
    "start_time": "2022-11-16T10:47:18.018Z"
   },
   {
    "duration": 58,
    "start_time": "2022-11-16T10:47:18.030Z"
   },
   {
    "duration": 43,
    "start_time": "2022-11-16T10:47:18.089Z"
   },
   {
    "duration": 2,
    "start_time": "2022-11-16T10:47:18.134Z"
   },
   {
    "duration": 34,
    "start_time": "2022-11-16T10:47:18.137Z"
   },
   {
    "duration": 19,
    "start_time": "2022-11-16T10:47:18.173Z"
   },
   {
    "duration": 27,
    "start_time": "2022-11-16T10:47:18.194Z"
   },
   {
    "duration": 3,
    "start_time": "2022-11-16T10:47:18.223Z"
   },
   {
    "duration": 6,
    "start_time": "2022-11-16T10:47:18.227Z"
   },
   {
    "duration": 4,
    "start_time": "2022-11-16T10:47:18.251Z"
   },
   {
    "duration": 13,
    "start_time": "2022-11-16T10:47:18.257Z"
   },
   {
    "duration": 5,
    "start_time": "2022-11-16T10:47:18.271Z"
   },
   {
    "duration": 240,
    "start_time": "2022-11-16T10:47:18.277Z"
   },
   {
    "duration": 11,
    "start_time": "2022-11-16T10:47:18.519Z"
   },
   {
    "duration": 8,
    "start_time": "2022-11-16T10:47:18.531Z"
   },
   {
    "duration": 28,
    "start_time": "2022-11-16T10:47:18.552Z"
   },
   {
    "duration": 24,
    "start_time": "2022-11-16T10:47:18.581Z"
   },
   {
    "duration": 15,
    "start_time": "2022-11-16T10:47:18.606Z"
   },
   {
    "duration": 38,
    "start_time": "2022-11-16T10:47:18.622Z"
   },
   {
    "duration": 51,
    "start_time": "2022-11-16T10:47:18.662Z"
   },
   {
    "duration": 51,
    "start_time": "2022-11-16T10:47:18.714Z"
   },
   {
    "duration": 6,
    "start_time": "2022-11-16T10:47:18.767Z"
   },
   {
    "duration": 5,
    "start_time": "2022-11-16T10:47:18.775Z"
   },
   {
    "duration": 11,
    "start_time": "2022-11-16T10:47:18.781Z"
   },
   {
    "duration": 7,
    "start_time": "2022-11-16T10:47:23.013Z"
   },
   {
    "duration": 10,
    "start_time": "2022-11-16T10:47:34.324Z"
   },
   {
    "duration": 11,
    "start_time": "2022-11-16T10:47:52.179Z"
   },
   {
    "duration": 10,
    "start_time": "2022-11-16T10:51:38.331Z"
   },
   {
    "duration": 11,
    "start_time": "2022-11-16T10:53:36.305Z"
   },
   {
    "duration": 10,
    "start_time": "2022-11-16T10:53:51.557Z"
   },
   {
    "duration": 3,
    "start_time": "2022-11-16T10:54:05.986Z"
   },
   {
    "duration": 129,
    "start_time": "2022-11-16T10:54:05.992Z"
   },
   {
    "duration": 5,
    "start_time": "2022-11-16T10:54:06.123Z"
   },
   {
    "duration": 23,
    "start_time": "2022-11-16T10:54:06.130Z"
   },
   {
    "duration": 25,
    "start_time": "2022-11-16T10:54:06.154Z"
   },
   {
    "duration": 10,
    "start_time": "2022-11-16T10:54:06.181Z"
   },
   {
    "duration": 42,
    "start_time": "2022-11-16T10:54:06.192Z"
   },
   {
    "duration": 44,
    "start_time": "2022-11-16T10:54:06.251Z"
   },
   {
    "duration": 2,
    "start_time": "2022-11-16T10:54:06.297Z"
   },
   {
    "duration": 21,
    "start_time": "2022-11-16T10:54:06.301Z"
   },
   {
    "duration": 87,
    "start_time": "2022-11-16T10:54:06.323Z"
   },
   {
    "duration": 28,
    "start_time": "2022-11-16T10:54:06.411Z"
   },
   {
    "duration": 11,
    "start_time": "2022-11-16T10:54:06.441Z"
   },
   {
    "duration": 5,
    "start_time": "2022-11-16T10:54:06.453Z"
   },
   {
    "duration": 4,
    "start_time": "2022-11-16T10:54:06.460Z"
   },
   {
    "duration": 5,
    "start_time": "2022-11-16T10:54:06.465Z"
   },
   {
    "duration": 5,
    "start_time": "2022-11-16T10:54:06.471Z"
   },
   {
    "duration": 253,
    "start_time": "2022-11-16T10:54:06.477Z"
   },
   {
    "duration": 11,
    "start_time": "2022-11-16T10:54:06.732Z"
   },
   {
    "duration": 14,
    "start_time": "2022-11-16T10:54:06.744Z"
   },
   {
    "duration": 29,
    "start_time": "2022-11-16T10:54:06.759Z"
   },
   {
    "duration": 24,
    "start_time": "2022-11-16T10:54:06.789Z"
   },
   {
    "duration": 14,
    "start_time": "2022-11-16T10:54:06.815Z"
   },
   {
    "duration": 38,
    "start_time": "2022-11-16T10:54:06.831Z"
   },
   {
    "duration": 46,
    "start_time": "2022-11-16T10:54:06.870Z"
   },
   {
    "duration": 59,
    "start_time": "2022-11-16T10:54:06.917Z"
   },
   {
    "duration": 7,
    "start_time": "2022-11-16T10:54:06.978Z"
   },
   {
    "duration": 5,
    "start_time": "2022-11-16T10:54:06.986Z"
   },
   {
    "duration": 11,
    "start_time": "2022-11-16T10:54:09.943Z"
   },
   {
    "duration": 3,
    "start_time": "2022-11-16T10:57:11.252Z"
   },
   {
    "duration": 7,
    "start_time": "2022-11-16T10:57:22.655Z"
   },
   {
    "duration": 7,
    "start_time": "2022-11-16T11:01:35.772Z"
   },
   {
    "duration": 11,
    "start_time": "2022-11-16T11:01:43.107Z"
   },
   {
    "duration": 11,
    "start_time": "2022-11-16T11:02:14.006Z"
   },
   {
    "duration": 11,
    "start_time": "2022-11-16T11:02:30.266Z"
   },
   {
    "duration": 2,
    "start_time": "2022-11-16T11:02:43.531Z"
   },
   {
    "duration": 125,
    "start_time": "2022-11-16T11:02:43.535Z"
   },
   {
    "duration": 5,
    "start_time": "2022-11-16T11:02:43.662Z"
   },
   {
    "duration": 16,
    "start_time": "2022-11-16T11:02:43.669Z"
   },
   {
    "duration": 33,
    "start_time": "2022-11-16T11:02:43.686Z"
   },
   {
    "duration": 11,
    "start_time": "2022-11-16T11:02:43.721Z"
   },
   {
    "duration": 50,
    "start_time": "2022-11-16T11:02:43.733Z"
   },
   {
    "duration": 42,
    "start_time": "2022-11-16T11:02:43.784Z"
   },
   {
    "duration": 2,
    "start_time": "2022-11-16T11:02:43.828Z"
   },
   {
    "duration": 32,
    "start_time": "2022-11-16T11:02:43.831Z"
   },
   {
    "duration": 19,
    "start_time": "2022-11-16T11:02:43.864Z"
   },
   {
    "duration": 27,
    "start_time": "2022-11-16T11:02:43.884Z"
   },
   {
    "duration": 3,
    "start_time": "2022-11-16T11:02:43.913Z"
   },
   {
    "duration": 7,
    "start_time": "2022-11-16T11:02:43.917Z"
   },
   {
    "duration": 26,
    "start_time": "2022-11-16T11:02:43.926Z"
   },
   {
    "duration": 4,
    "start_time": "2022-11-16T11:02:43.954Z"
   },
   {
    "duration": 5,
    "start_time": "2022-11-16T11:02:43.959Z"
   },
   {
    "duration": 250,
    "start_time": "2022-11-16T11:02:43.966Z"
   },
   {
    "duration": 12,
    "start_time": "2022-11-16T11:02:44.218Z"
   },
   {
    "duration": 20,
    "start_time": "2022-11-16T11:02:44.232Z"
   },
   {
    "duration": 37,
    "start_time": "2022-11-16T11:02:44.253Z"
   },
   {
    "duration": 25,
    "start_time": "2022-11-16T11:02:44.291Z"
   },
   {
    "duration": 15,
    "start_time": "2022-11-16T11:02:44.317Z"
   },
   {
    "duration": 20,
    "start_time": "2022-11-16T11:02:44.351Z"
   },
   {
    "duration": 57,
    "start_time": "2022-11-16T11:02:44.372Z"
   },
   {
    "duration": 47,
    "start_time": "2022-11-16T11:02:44.430Z"
   },
   {
    "duration": 7,
    "start_time": "2022-11-16T11:02:44.478Z"
   },
   {
    "duration": 8,
    "start_time": "2022-11-16T11:02:44.486Z"
   },
   {
    "duration": 8,
    "start_time": "2022-11-16T11:02:44.495Z"
   },
   {
    "duration": 10,
    "start_time": "2022-11-16T11:02:47.259Z"
   },
   {
    "duration": 12,
    "start_time": "2022-11-16T11:03:25.891Z"
   },
   {
    "duration": 8,
    "start_time": "2022-11-16T11:04:15.352Z"
   },
   {
    "duration": 10,
    "start_time": "2022-11-16T11:04:33.194Z"
   },
   {
    "duration": 3,
    "start_time": "2022-11-16T11:04:39.245Z"
   },
   {
    "duration": 129,
    "start_time": "2022-11-16T11:04:39.249Z"
   },
   {
    "duration": 6,
    "start_time": "2022-11-16T11:04:39.379Z"
   },
   {
    "duration": 17,
    "start_time": "2022-11-16T11:04:39.387Z"
   },
   {
    "duration": 27,
    "start_time": "2022-11-16T11:04:39.406Z"
   },
   {
    "duration": 20,
    "start_time": "2022-11-16T11:04:39.435Z"
   },
   {
    "duration": 48,
    "start_time": "2022-11-16T11:04:39.457Z"
   },
   {
    "duration": 46,
    "start_time": "2022-11-16T11:04:39.506Z"
   },
   {
    "duration": 2,
    "start_time": "2022-11-16T11:04:39.554Z"
   },
   {
    "duration": 22,
    "start_time": "2022-11-16T11:04:39.557Z"
   },
   {
    "duration": 20,
    "start_time": "2022-11-16T11:04:39.581Z"
   },
   {
    "duration": 27,
    "start_time": "2022-11-16T11:04:39.602Z"
   },
   {
    "duration": 3,
    "start_time": "2022-11-16T11:04:39.630Z"
   },
   {
    "duration": 5,
    "start_time": "2022-11-16T11:04:39.651Z"
   },
   {
    "duration": 6,
    "start_time": "2022-11-16T11:04:39.657Z"
   },
   {
    "duration": 9,
    "start_time": "2022-11-16T11:04:39.664Z"
   },
   {
    "duration": 3,
    "start_time": "2022-11-16T11:04:39.674Z"
   },
   {
    "duration": 246,
    "start_time": "2022-11-16T11:04:39.678Z"
   },
   {
    "duration": 12,
    "start_time": "2022-11-16T11:04:39.925Z"
   },
   {
    "duration": 16,
    "start_time": "2022-11-16T11:04:39.938Z"
   },
   {
    "duration": 27,
    "start_time": "2022-11-16T11:04:39.955Z"
   },
   {
    "duration": 24,
    "start_time": "2022-11-16T11:04:39.983Z"
   },
   {
    "duration": 15,
    "start_time": "2022-11-16T11:04:40.008Z"
   },
   {
    "duration": 39,
    "start_time": "2022-11-16T11:04:40.024Z"
   },
   {
    "duration": 44,
    "start_time": "2022-11-16T11:04:40.064Z"
   },
   {
    "duration": 66,
    "start_time": "2022-11-16T11:04:40.110Z"
   },
   {
    "duration": 8,
    "start_time": "2022-11-16T11:04:40.178Z"
   },
   {
    "duration": 7,
    "start_time": "2022-11-16T11:04:40.187Z"
   },
   {
    "duration": 7,
    "start_time": "2022-11-16T11:04:40.196Z"
   },
   {
    "duration": 11,
    "start_time": "2022-11-16T11:04:40.205Z"
   },
   {
    "duration": 27,
    "start_time": "2022-11-16T12:11:17.285Z"
   },
   {
    "duration": 3,
    "start_time": "2022-11-16T12:13:53.459Z"
   },
   {
    "duration": 16,
    "start_time": "2022-11-16T12:15:27.464Z"
   },
   {
    "duration": 25,
    "start_time": "2022-11-16T12:16:07.100Z"
   },
   {
    "duration": 35,
    "start_time": "2022-11-16T12:16:14.660Z"
   },
   {
    "duration": 41,
    "start_time": "2022-11-16T12:16:51.427Z"
   },
   {
    "duration": 35,
    "start_time": "2022-11-16T12:17:07.033Z"
   },
   {
    "duration": 3,
    "start_time": "2022-11-16T12:23:00.895Z"
   },
   {
    "duration": 3,
    "start_time": "2022-11-16T12:23:08.833Z"
   },
   {
    "duration": 3,
    "start_time": "2022-11-16T12:23:16.475Z"
   },
   {
    "duration": 7,
    "start_time": "2022-11-16T12:23:46.927Z"
   },
   {
    "duration": 45,
    "start_time": "2022-11-16T12:24:14.661Z"
   },
   {
    "duration": 30,
    "start_time": "2022-11-16T12:25:41.024Z"
   },
   {
    "duration": 49,
    "start_time": "2022-11-16T12:26:59.395Z"
   },
   {
    "duration": 31,
    "start_time": "2022-11-16T12:27:33.610Z"
   },
   {
    "duration": 32,
    "start_time": "2022-11-16T12:27:48.321Z"
   },
   {
    "duration": 33,
    "start_time": "2022-11-16T12:28:43.779Z"
   },
   {
    "duration": 30,
    "start_time": "2022-11-16T12:28:51.492Z"
   },
   {
    "duration": 28,
    "start_time": "2022-11-16T12:32:55.622Z"
   },
   {
    "duration": 36,
    "start_time": "2022-11-16T12:33:45.111Z"
   },
   {
    "duration": 1182,
    "start_time": "2022-11-16T12:34:10.135Z"
   },
   {
    "duration": 5,
    "start_time": "2022-11-16T12:34:25.669Z"
   },
   {
    "duration": 140,
    "start_time": "2022-11-16T12:34:25.676Z"
   },
   {
    "duration": 7,
    "start_time": "2022-11-16T12:34:25.817Z"
   },
   {
    "duration": 35,
    "start_time": "2022-11-16T12:34:25.827Z"
   },
   {
    "duration": 31,
    "start_time": "2022-11-16T12:34:25.864Z"
   },
   {
    "duration": 14,
    "start_time": "2022-11-16T12:34:25.896Z"
   },
   {
    "duration": 59,
    "start_time": "2022-11-16T12:34:25.911Z"
   },
   {
    "duration": 55,
    "start_time": "2022-11-16T12:34:25.971Z"
   },
   {
    "duration": 2,
    "start_time": "2022-11-16T12:34:26.028Z"
   },
   {
    "duration": 35,
    "start_time": "2022-11-16T12:34:26.032Z"
   },
   {
    "duration": 23,
    "start_time": "2022-11-16T12:34:26.069Z"
   },
   {
    "duration": 28,
    "start_time": "2022-11-16T12:34:26.094Z"
   },
   {
    "duration": 3,
    "start_time": "2022-11-16T12:34:26.123Z"
   },
   {
    "duration": 29,
    "start_time": "2022-11-16T12:34:26.128Z"
   },
   {
    "duration": 6,
    "start_time": "2022-11-16T12:34:26.158Z"
   },
   {
    "duration": 7,
    "start_time": "2022-11-16T12:34:26.166Z"
   },
   {
    "duration": 4,
    "start_time": "2022-11-16T12:34:26.174Z"
   },
   {
    "duration": 279,
    "start_time": "2022-11-16T12:34:26.179Z"
   },
   {
    "duration": 15,
    "start_time": "2022-11-16T12:34:26.460Z"
   },
   {
    "duration": 8,
    "start_time": "2022-11-16T12:34:26.477Z"
   },
   {
    "duration": 39,
    "start_time": "2022-11-16T12:34:26.487Z"
   },
   {
    "duration": 44,
    "start_time": "2022-11-16T12:34:26.527Z"
   },
   {
    "duration": 22,
    "start_time": "2022-11-16T12:34:26.573Z"
   },
   {
    "duration": 35,
    "start_time": "2022-11-16T12:34:26.597Z"
   },
   {
    "duration": 85,
    "start_time": "2022-11-16T12:34:26.634Z"
   },
   {
    "duration": 60,
    "start_time": "2022-11-16T12:34:26.721Z"
   },
   {
    "duration": 8,
    "start_time": "2022-11-16T12:34:26.782Z"
   },
   {
    "duration": 17,
    "start_time": "2022-11-16T12:34:26.792Z"
   },
   {
    "duration": 15,
    "start_time": "2022-11-16T12:34:26.810Z"
   },
   {
    "duration": 12,
    "start_time": "2022-11-16T12:34:26.826Z"
   },
   {
    "duration": 50,
    "start_time": "2022-11-16T12:34:26.839Z"
   },
   {
    "duration": 38,
    "start_time": "2022-11-16T12:34:26.891Z"
   },
   {
    "duration": 1238,
    "start_time": "2022-11-16T12:34:26.930Z"
   },
   {
    "duration": 1326,
    "start_time": "2022-11-16T12:35:37.728Z"
   },
   {
    "duration": 39,
    "start_time": "2022-11-16T12:37:08.341Z"
   },
   {
    "duration": 46,
    "start_time": "2022-11-16T12:37:40.124Z"
   },
   {
    "duration": 42,
    "start_time": "2022-11-16T12:37:50.438Z"
   },
   {
    "duration": 320,
    "start_time": "2022-11-16T12:39:05.373Z"
   },
   {
    "duration": 33,
    "start_time": "2022-11-16T12:40:42.311Z"
   },
   {
    "duration": 37,
    "start_time": "2022-11-16T12:40:49.704Z"
   },
   {
    "duration": 342,
    "start_time": "2022-11-16T12:41:01.476Z"
   },
   {
    "duration": 316,
    "start_time": "2022-11-16T12:42:53.864Z"
   },
   {
    "duration": 330,
    "start_time": "2022-11-16T12:43:08.715Z"
   },
   {
    "duration": 466,
    "start_time": "2022-11-16T12:43:27.682Z"
   },
   {
    "duration": 36,
    "start_time": "2022-11-16T12:43:59.425Z"
   },
   {
    "duration": 1270,
    "start_time": "2022-11-16T12:44:34.819Z"
   },
   {
    "duration": 69,
    "start_time": "2022-11-16T12:45:10.412Z"
   },
   {
    "duration": 40,
    "start_time": "2022-11-16T12:45:22.062Z"
   },
   {
    "duration": 39,
    "start_time": "2022-11-16T12:45:34.912Z"
   },
   {
    "duration": 1136,
    "start_time": "2022-11-16T12:45:41.496Z"
   },
   {
    "duration": 1131,
    "start_time": "2022-11-16T12:46:04.676Z"
   },
   {
    "duration": 8,
    "start_time": "2022-11-16T12:47:01.180Z"
   },
   {
    "duration": 1190,
    "start_time": "2022-11-16T12:47:21.343Z"
   },
   {
    "duration": 1983,
    "start_time": "2022-11-16T12:48:15.132Z"
   },
   {
    "duration": 38,
    "start_time": "2022-11-16T12:48:41.458Z"
   },
   {
    "duration": 1145,
    "start_time": "2022-11-16T12:48:54.427Z"
   },
   {
    "duration": 46,
    "start_time": "2022-11-16T12:51:12.399Z"
   },
   {
    "duration": 37,
    "start_time": "2022-11-16T12:51:19.748Z"
   },
   {
    "duration": 1153,
    "start_time": "2022-11-16T12:56:52.476Z"
   },
   {
    "duration": 38,
    "start_time": "2022-11-16T12:57:54.987Z"
   },
   {
    "duration": 38,
    "start_time": "2022-11-16T12:58:11.639Z"
   },
   {
    "duration": 39,
    "start_time": "2022-11-16T12:58:32.215Z"
   },
   {
    "duration": 37,
    "start_time": "2022-11-16T12:58:54.137Z"
   },
   {
    "duration": 36,
    "start_time": "2022-11-16T12:59:04.290Z"
   },
   {
    "duration": 11,
    "start_time": "2022-11-16T12:59:56.372Z"
   },
   {
    "duration": 11,
    "start_time": "2022-11-16T13:00:10.510Z"
   },
   {
    "duration": 1282,
    "start_time": "2022-11-16T13:00:23.493Z"
   },
   {
    "duration": 11,
    "start_time": "2022-11-16T13:00:39.780Z"
   },
   {
    "duration": 3,
    "start_time": "2022-11-16T13:02:22.666Z"
   },
   {
    "duration": 134,
    "start_time": "2022-11-16T13:02:22.670Z"
   },
   {
    "duration": 6,
    "start_time": "2022-11-16T13:02:22.805Z"
   },
   {
    "duration": 37,
    "start_time": "2022-11-16T13:02:22.813Z"
   },
   {
    "duration": 47,
    "start_time": "2022-11-16T13:02:22.852Z"
   },
   {
    "duration": 14,
    "start_time": "2022-11-16T13:02:22.900Z"
   },
   {
    "duration": 65,
    "start_time": "2022-11-16T13:02:22.916Z"
   },
   {
    "duration": 58,
    "start_time": "2022-11-16T13:02:22.982Z"
   },
   {
    "duration": 2,
    "start_time": "2022-11-16T13:02:23.053Z"
   },
   {
    "duration": 27,
    "start_time": "2022-11-16T13:02:23.057Z"
   },
   {
    "duration": 25,
    "start_time": "2022-11-16T13:02:23.086Z"
   },
   {
    "duration": 51,
    "start_time": "2022-11-16T13:02:23.112Z"
   },
   {
    "duration": 4,
    "start_time": "2022-11-16T13:02:23.165Z"
   },
   {
    "duration": 8,
    "start_time": "2022-11-16T13:02:23.171Z"
   },
   {
    "duration": 6,
    "start_time": "2022-11-16T13:02:23.180Z"
   },
   {
    "duration": 31,
    "start_time": "2022-11-16T13:02:23.188Z"
   },
   {
    "duration": 10,
    "start_time": "2022-11-16T13:02:23.221Z"
   },
   {
    "duration": 294,
    "start_time": "2022-11-16T13:02:23.233Z"
   },
   {
    "duration": 24,
    "start_time": "2022-11-16T13:02:23.528Z"
   },
   {
    "duration": 8,
    "start_time": "2022-11-16T13:02:23.554Z"
   },
   {
    "duration": 44,
    "start_time": "2022-11-16T13:02:23.563Z"
   },
   {
    "duration": 29,
    "start_time": "2022-11-16T13:02:23.609Z"
   },
   {
    "duration": 27,
    "start_time": "2022-11-16T13:02:23.640Z"
   },
   {
    "duration": 40,
    "start_time": "2022-11-16T13:02:23.670Z"
   },
   {
    "duration": 58,
    "start_time": "2022-11-16T13:02:23.711Z"
   },
   {
    "duration": 52,
    "start_time": "2022-11-16T13:02:23.770Z"
   },
   {
    "duration": 8,
    "start_time": "2022-11-16T13:02:23.824Z"
   },
   {
    "duration": 20,
    "start_time": "2022-11-16T13:02:23.833Z"
   },
   {
    "duration": 12,
    "start_time": "2022-11-16T13:02:23.855Z"
   },
   {
    "duration": 24,
    "start_time": "2022-11-16T13:02:23.869Z"
   },
   {
    "duration": 45,
    "start_time": "2022-11-16T13:02:23.895Z"
   },
   {
    "duration": 49,
    "start_time": "2022-11-16T13:02:23.941Z"
   },
   {
    "duration": 43,
    "start_time": "2022-11-16T13:04:04.559Z"
   },
   {
    "duration": 38,
    "start_time": "2022-11-16T13:04:11.413Z"
   },
   {
    "duration": 36,
    "start_time": "2022-11-16T13:04:53.562Z"
   },
   {
    "duration": 37,
    "start_time": "2022-11-16T13:05:01.917Z"
   },
   {
    "duration": 39,
    "start_time": "2022-11-16T13:05:44.765Z"
   },
   {
    "duration": 40,
    "start_time": "2022-11-16T13:06:20.026Z"
   },
   {
    "duration": 39,
    "start_time": "2022-11-16T13:06:43.101Z"
   },
   {
    "duration": 40,
    "start_time": "2022-11-16T13:06:52.551Z"
   },
   {
    "duration": 39,
    "start_time": "2022-11-16T13:07:01.174Z"
   },
   {
    "duration": 47,
    "start_time": "2022-11-16T13:07:42.431Z"
   },
   {
    "duration": 4,
    "start_time": "2022-11-16T13:08:44.359Z"
   },
   {
    "duration": 5,
    "start_time": "2022-11-16T13:10:43.053Z"
   },
   {
    "duration": 5,
    "start_time": "2022-11-16T13:10:54.062Z"
   },
   {
    "duration": 10,
    "start_time": "2022-11-16T13:24:40.243Z"
   },
   {
    "duration": 78,
    "start_time": "2022-11-16T13:25:34.515Z"
   },
   {
    "duration": 69,
    "start_time": "2022-11-16T13:26:06.455Z"
   },
   {
    "duration": 68,
    "start_time": "2022-11-16T13:29:55.137Z"
   },
   {
    "duration": 39,
    "start_time": "2022-11-16T13:38:48.730Z"
   },
   {
    "duration": 5,
    "start_time": "2022-11-16T13:39:01.675Z"
   },
   {
    "duration": 72,
    "start_time": "2022-11-16T13:39:07.396Z"
   },
   {
    "duration": 4,
    "start_time": "2022-11-16T13:40:45.463Z"
   },
   {
    "duration": 6,
    "start_time": "2022-11-16T13:42:13.220Z"
   },
   {
    "duration": 6,
    "start_time": "2022-11-16T13:42:21.210Z"
   },
   {
    "duration": 7,
    "start_time": "2022-11-16T13:43:09.714Z"
   },
   {
    "duration": 7,
    "start_time": "2022-11-16T13:43:53.736Z"
   },
   {
    "duration": 824,
    "start_time": "2022-11-16T13:44:04.338Z"
   },
   {
    "duration": 3,
    "start_time": "2022-11-16T13:45:16.223Z"
   },
   {
    "duration": 142,
    "start_time": "2022-11-16T13:45:16.228Z"
   },
   {
    "duration": 5,
    "start_time": "2022-11-16T13:45:16.372Z"
   },
   {
    "duration": 21,
    "start_time": "2022-11-16T13:45:16.378Z"
   },
   {
    "duration": 33,
    "start_time": "2022-11-16T13:45:16.401Z"
   },
   {
    "duration": 27,
    "start_time": "2022-11-16T13:45:16.436Z"
   },
   {
    "duration": 51,
    "start_time": "2022-11-16T13:45:16.465Z"
   },
   {
    "duration": 71,
    "start_time": "2022-11-16T13:45:16.518Z"
   },
   {
    "duration": 2,
    "start_time": "2022-11-16T13:45:16.591Z"
   },
   {
    "duration": 27,
    "start_time": "2022-11-16T13:45:16.595Z"
   },
   {
    "duration": 100,
    "start_time": "2022-11-16T13:45:16.624Z"
   },
   {
    "duration": 38,
    "start_time": "2022-11-16T13:45:16.725Z"
   },
   {
    "duration": 3,
    "start_time": "2022-11-16T13:45:16.765Z"
   },
   {
    "duration": 11,
    "start_time": "2022-11-16T13:45:16.769Z"
   },
   {
    "duration": 6,
    "start_time": "2022-11-16T13:45:16.781Z"
   },
   {
    "duration": 10,
    "start_time": "2022-11-16T13:45:16.788Z"
   },
   {
    "duration": 3,
    "start_time": "2022-11-16T13:45:16.799Z"
   },
   {
    "duration": 272,
    "start_time": "2022-11-16T13:45:16.803Z"
   },
   {
    "duration": 15,
    "start_time": "2022-11-16T13:45:17.076Z"
   },
   {
    "duration": 7,
    "start_time": "2022-11-16T13:45:17.092Z"
   },
   {
    "duration": 33,
    "start_time": "2022-11-16T13:45:17.100Z"
   },
   {
    "duration": 39,
    "start_time": "2022-11-16T13:45:17.134Z"
   },
   {
    "duration": 14,
    "start_time": "2022-11-16T13:45:17.175Z"
   },
   {
    "duration": 23,
    "start_time": "2022-11-16T13:45:17.190Z"
   },
   {
    "duration": 67,
    "start_time": "2022-11-16T13:45:17.215Z"
   },
   {
    "duration": 48,
    "start_time": "2022-11-16T13:45:17.284Z"
   },
   {
    "duration": 19,
    "start_time": "2022-11-16T13:45:17.333Z"
   },
   {
    "duration": 6,
    "start_time": "2022-11-16T13:45:17.354Z"
   },
   {
    "duration": 9,
    "start_time": "2022-11-16T13:45:17.363Z"
   },
   {
    "duration": 13,
    "start_time": "2022-11-16T13:45:17.373Z"
   },
   {
    "duration": 40,
    "start_time": "2022-11-16T13:45:17.387Z"
   },
   {
    "duration": 52,
    "start_time": "2022-11-16T13:45:17.428Z"
   },
   {
    "duration": 5,
    "start_time": "2022-11-16T13:45:17.482Z"
   },
   {
    "duration": 10,
    "start_time": "2022-11-16T13:45:17.488Z"
   },
   {
    "duration": 102,
    "start_time": "2022-11-16T13:45:17.500Z"
   },
   {
    "duration": 5,
    "start_time": "2022-11-16T13:45:17.603Z"
   },
   {
    "duration": 871,
    "start_time": "2022-11-16T13:45:17.609Z"
   },
   {
    "duration": 913,
    "start_time": "2022-11-16T13:48:57.956Z"
   },
   {
    "duration": 3,
    "start_time": "2022-11-16T13:49:31.562Z"
   },
   {
    "duration": 144,
    "start_time": "2022-11-16T13:49:31.567Z"
   },
   {
    "duration": 6,
    "start_time": "2022-11-16T13:49:31.713Z"
   },
   {
    "duration": 23,
    "start_time": "2022-11-16T13:49:31.720Z"
   },
   {
    "duration": 30,
    "start_time": "2022-11-16T13:49:31.751Z"
   },
   {
    "duration": 11,
    "start_time": "2022-11-16T13:49:31.783Z"
   },
   {
    "duration": 57,
    "start_time": "2022-11-16T13:49:31.796Z"
   },
   {
    "duration": 50,
    "start_time": "2022-11-16T13:49:31.854Z"
   },
   {
    "duration": 2,
    "start_time": "2022-11-16T13:49:31.906Z"
   },
   {
    "duration": 32,
    "start_time": "2022-11-16T13:49:31.910Z"
   },
   {
    "duration": 22,
    "start_time": "2022-11-16T13:49:31.944Z"
   },
   {
    "duration": 26,
    "start_time": "2022-11-16T13:49:31.967Z"
   },
   {
    "duration": 3,
    "start_time": "2022-11-16T13:49:31.994Z"
   },
   {
    "duration": 13,
    "start_time": "2022-11-16T13:49:31.998Z"
   },
   {
    "duration": 7,
    "start_time": "2022-11-16T13:49:32.012Z"
   },
   {
    "duration": 8,
    "start_time": "2022-11-16T13:49:32.020Z"
   },
   {
    "duration": 6,
    "start_time": "2022-11-16T13:49:32.029Z"
   },
   {
    "duration": 256,
    "start_time": "2022-11-16T13:49:32.052Z"
   },
   {
    "duration": 14,
    "start_time": "2022-11-16T13:49:32.310Z"
   },
   {
    "duration": 8,
    "start_time": "2022-11-16T13:49:32.326Z"
   },
   {
    "duration": 39,
    "start_time": "2022-11-16T13:49:32.335Z"
   },
   {
    "duration": 26,
    "start_time": "2022-11-16T13:49:32.375Z"
   },
   {
    "duration": 29,
    "start_time": "2022-11-16T13:49:32.402Z"
   },
   {
    "duration": 44,
    "start_time": "2022-11-16T13:49:32.433Z"
   },
   {
    "duration": 63,
    "start_time": "2022-11-16T13:49:32.479Z"
   },
   {
    "duration": 60,
    "start_time": "2022-11-16T13:49:32.544Z"
   },
   {
    "duration": 10,
    "start_time": "2022-11-16T13:49:32.606Z"
   },
   {
    "duration": 13,
    "start_time": "2022-11-16T13:49:32.618Z"
   },
   {
    "duration": 21,
    "start_time": "2022-11-16T13:49:32.634Z"
   },
   {
    "duration": 15,
    "start_time": "2022-11-16T13:49:32.656Z"
   },
   {
    "duration": 46,
    "start_time": "2022-11-16T13:49:32.672Z"
   },
   {
    "duration": 44,
    "start_time": "2022-11-16T13:49:32.719Z"
   },
   {
    "duration": 6,
    "start_time": "2022-11-16T13:49:32.764Z"
   },
   {
    "duration": 13,
    "start_time": "2022-11-16T13:49:32.771Z"
   },
   {
    "duration": 86,
    "start_time": "2022-11-16T13:49:32.785Z"
   },
   {
    "duration": 4,
    "start_time": "2022-11-16T13:49:32.873Z"
   },
   {
    "duration": 799,
    "start_time": "2022-11-16T13:49:32.879Z"
   },
   {
    "duration": 832,
    "start_time": "2022-11-16T13:49:47.642Z"
   },
   {
    "duration": 8,
    "start_time": "2022-11-16T13:54:36.672Z"
   },
   {
    "duration": 956,
    "start_time": "2022-11-16T13:55:01.255Z"
   },
   {
    "duration": 924,
    "start_time": "2022-11-16T13:56:25.899Z"
   },
   {
    "duration": 1070,
    "start_time": "2022-11-16T13:57:10.196Z"
   },
   {
    "duration": 842,
    "start_time": "2022-11-16T13:57:17.293Z"
   },
   {
    "duration": 3,
    "start_time": "2022-11-16T14:02:03.273Z"
   },
   {
    "duration": 131,
    "start_time": "2022-11-16T14:02:03.278Z"
   },
   {
    "duration": 6,
    "start_time": "2022-11-16T14:02:03.410Z"
   },
   {
    "duration": 18,
    "start_time": "2022-11-16T14:02:03.418Z"
   },
   {
    "duration": 38,
    "start_time": "2022-11-16T14:02:03.437Z"
   },
   {
    "duration": 11,
    "start_time": "2022-11-16T14:02:03.476Z"
   },
   {
    "duration": 49,
    "start_time": "2022-11-16T14:02:03.488Z"
   },
   {
    "duration": 68,
    "start_time": "2022-11-16T14:02:03.539Z"
   },
   {
    "duration": 3,
    "start_time": "2022-11-16T14:02:03.609Z"
   },
   {
    "duration": 28,
    "start_time": "2022-11-16T14:02:03.614Z"
   },
   {
    "duration": 21,
    "start_time": "2022-11-16T14:02:03.643Z"
   },
   {
    "duration": 27,
    "start_time": "2022-11-16T14:02:03.666Z"
   },
   {
    "duration": 3,
    "start_time": "2022-11-16T14:02:03.695Z"
   },
   {
    "duration": 13,
    "start_time": "2022-11-16T14:02:03.699Z"
   },
   {
    "duration": 8,
    "start_time": "2022-11-16T14:02:03.713Z"
   },
   {
    "duration": 6,
    "start_time": "2022-11-16T14:02:03.723Z"
   },
   {
    "duration": 8,
    "start_time": "2022-11-16T14:02:03.731Z"
   },
   {
    "duration": 243,
    "start_time": "2022-11-16T14:02:03.740Z"
   },
   {
    "duration": 14,
    "start_time": "2022-11-16T14:02:03.984Z"
   },
   {
    "duration": 7,
    "start_time": "2022-11-16T14:02:03.999Z"
   },
   {
    "duration": 33,
    "start_time": "2022-11-16T14:02:04.007Z"
   },
   {
    "duration": 24,
    "start_time": "2022-11-16T14:02:04.052Z"
   },
   {
    "duration": 14,
    "start_time": "2022-11-16T14:02:04.078Z"
   },
   {
    "duration": 20,
    "start_time": "2022-11-16T14:02:04.094Z"
   },
   {
    "duration": 65,
    "start_time": "2022-11-16T14:02:04.115Z"
   },
   {
    "duration": 51,
    "start_time": "2022-11-16T14:02:04.181Z"
   },
   {
    "duration": 18,
    "start_time": "2022-11-16T14:02:04.234Z"
   },
   {
    "duration": 6,
    "start_time": "2022-11-16T14:02:04.253Z"
   },
   {
    "duration": 10,
    "start_time": "2022-11-16T14:02:04.260Z"
   },
   {
    "duration": 10,
    "start_time": "2022-11-16T14:02:04.271Z"
   },
   {
    "duration": 40,
    "start_time": "2022-11-16T14:02:04.283Z"
   },
   {
    "duration": 60,
    "start_time": "2022-11-16T14:02:04.325Z"
   },
   {
    "duration": 5,
    "start_time": "2022-11-16T14:02:04.386Z"
   },
   {
    "duration": 30,
    "start_time": "2022-11-16T14:02:04.392Z"
   },
   {
    "duration": 82,
    "start_time": "2022-11-16T14:02:04.423Z"
   },
   {
    "duration": 5,
    "start_time": "2022-11-16T14:02:04.507Z"
   },
   {
    "duration": 814,
    "start_time": "2022-11-16T14:02:04.514Z"
   },
   {
    "duration": 4,
    "start_time": "2022-11-16T14:03:31.973Z"
   },
   {
    "duration": 803,
    "start_time": "2022-11-16T14:03:36.873Z"
   },
   {
    "duration": 5,
    "start_time": "2022-11-16T14:04:34.236Z"
   },
   {
    "duration": 12,
    "start_time": "2022-11-16T14:04:37.436Z"
   },
   {
    "duration": 12,
    "start_time": "2022-11-16T14:05:30.787Z"
   },
   {
    "duration": 10,
    "start_time": "2022-11-16T14:05:42.908Z"
   },
   {
    "duration": 4,
    "start_time": "2022-11-16T14:05:59.036Z"
   },
   {
    "duration": 133,
    "start_time": "2022-11-16T14:05:59.041Z"
   },
   {
    "duration": 6,
    "start_time": "2022-11-16T14:05:59.175Z"
   },
   {
    "duration": 21,
    "start_time": "2022-11-16T14:05:59.182Z"
   },
   {
    "duration": 42,
    "start_time": "2022-11-16T14:05:59.204Z"
   },
   {
    "duration": 11,
    "start_time": "2022-11-16T14:05:59.248Z"
   },
   {
    "duration": 54,
    "start_time": "2022-11-16T14:05:59.260Z"
   },
   {
    "duration": 57,
    "start_time": "2022-11-16T14:05:59.316Z"
   },
   {
    "duration": 2,
    "start_time": "2022-11-16T14:05:59.376Z"
   },
   {
    "duration": 24,
    "start_time": "2022-11-16T14:05:59.379Z"
   },
   {
    "duration": 21,
    "start_time": "2022-11-16T14:05:59.405Z"
   },
   {
    "duration": 34,
    "start_time": "2022-11-16T14:05:59.427Z"
   },
   {
    "duration": 3,
    "start_time": "2022-11-16T14:05:59.462Z"
   },
   {
    "duration": 6,
    "start_time": "2022-11-16T14:05:59.467Z"
   },
   {
    "duration": 9,
    "start_time": "2022-11-16T14:05:59.475Z"
   },
   {
    "duration": 9,
    "start_time": "2022-11-16T14:05:59.486Z"
   },
   {
    "duration": 7,
    "start_time": "2022-11-16T14:05:59.496Z"
   },
   {
    "duration": 269,
    "start_time": "2022-11-16T14:05:59.504Z"
   },
   {
    "duration": 15,
    "start_time": "2022-11-16T14:05:59.775Z"
   },
   {
    "duration": 7,
    "start_time": "2022-11-16T14:05:59.792Z"
   },
   {
    "duration": 34,
    "start_time": "2022-11-16T14:05:59.800Z"
   },
   {
    "duration": 39,
    "start_time": "2022-11-16T14:05:59.835Z"
   },
   {
    "duration": 15,
    "start_time": "2022-11-16T14:05:59.876Z"
   },
   {
    "duration": 22,
    "start_time": "2022-11-16T14:05:59.893Z"
   },
   {
    "duration": 65,
    "start_time": "2022-11-16T14:05:59.917Z"
   },
   {
    "duration": 48,
    "start_time": "2022-11-16T14:05:59.984Z"
   },
   {
    "duration": 18,
    "start_time": "2022-11-16T14:06:00.034Z"
   },
   {
    "duration": 16,
    "start_time": "2022-11-16T14:06:00.053Z"
   },
   {
    "duration": 26,
    "start_time": "2022-11-16T14:06:00.070Z"
   },
   {
    "duration": 12,
    "start_time": "2022-11-16T14:06:00.097Z"
   },
   {
    "duration": 47,
    "start_time": "2022-11-16T14:06:00.111Z"
   },
   {
    "duration": 38,
    "start_time": "2022-11-16T14:06:00.159Z"
   },
   {
    "duration": 5,
    "start_time": "2022-11-16T14:06:00.199Z"
   },
   {
    "duration": 30,
    "start_time": "2022-11-16T14:06:00.205Z"
   },
   {
    "duration": 108,
    "start_time": "2022-11-16T14:06:00.237Z"
   },
   {
    "duration": 4,
    "start_time": "2022-11-16T14:06:00.347Z"
   },
   {
    "duration": 908,
    "start_time": "2022-11-16T14:06:00.353Z"
   },
   {
    "duration": 81,
    "start_time": "2022-11-16T14:06:48.979Z"
   },
   {
    "duration": 74,
    "start_time": "2022-11-16T14:07:10.846Z"
   },
   {
    "duration": 80,
    "start_time": "2022-11-16T14:07:16.930Z"
   },
   {
    "duration": 5,
    "start_time": "2022-11-16T14:08:03.987Z"
   },
   {
    "duration": 832,
    "start_time": "2022-11-16T14:08:19.404Z"
   },
   {
    "duration": 8,
    "start_time": "2022-11-16T14:09:27.175Z"
   },
   {
    "duration": 901,
    "start_time": "2022-11-16T14:09:35.545Z"
   },
   {
    "duration": 38,
    "start_time": "2022-11-16T14:11:40.171Z"
   },
   {
    "duration": 7,
    "start_time": "2022-11-16T14:11:46.488Z"
   },
   {
    "duration": 5,
    "start_time": "2022-11-16T14:55:45.199Z"
   },
   {
    "duration": 7,
    "start_time": "2022-11-16T14:55:56.846Z"
   },
   {
    "duration": 8,
    "start_time": "2022-11-16T15:08:12.077Z"
   },
   {
    "duration": 8,
    "start_time": "2022-11-16T15:09:54.435Z"
   },
   {
    "duration": 73,
    "start_time": "2022-11-16T15:10:18.383Z"
   },
   {
    "duration": 1166,
    "start_time": "2022-11-16T15:10:44.947Z"
   },
   {
    "duration": 1196,
    "start_time": "2022-11-16T15:11:20.343Z"
   },
   {
    "duration": 1124,
    "start_time": "2022-11-16T15:12:03.151Z"
   },
   {
    "duration": 69,
    "start_time": "2022-11-16T15:12:32.307Z"
   },
   {
    "duration": 10,
    "start_time": "2022-11-16T15:12:57.416Z"
   },
   {
    "duration": 10,
    "start_time": "2022-11-16T15:13:21.931Z"
   },
   {
    "duration": 3,
    "start_time": "2022-11-16T15:13:37.165Z"
   },
   {
    "duration": 132,
    "start_time": "2022-11-16T15:13:37.170Z"
   },
   {
    "duration": 5,
    "start_time": "2022-11-16T15:13:37.304Z"
   },
   {
    "duration": 20,
    "start_time": "2022-11-16T15:13:37.310Z"
   },
   {
    "duration": 44,
    "start_time": "2022-11-16T15:13:37.331Z"
   },
   {
    "duration": 12,
    "start_time": "2022-11-16T15:13:37.376Z"
   },
   {
    "duration": 47,
    "start_time": "2022-11-16T15:13:37.389Z"
   },
   {
    "duration": 61,
    "start_time": "2022-11-16T15:13:37.437Z"
   },
   {
    "duration": 2,
    "start_time": "2022-11-16T15:13:37.500Z"
   },
   {
    "duration": 39,
    "start_time": "2022-11-16T15:13:37.503Z"
   },
   {
    "duration": 20,
    "start_time": "2022-11-16T15:13:37.544Z"
   },
   {
    "duration": 44,
    "start_time": "2022-11-16T15:13:37.566Z"
   },
   {
    "duration": 3,
    "start_time": "2022-11-16T15:13:37.612Z"
   },
   {
    "duration": 8,
    "start_time": "2022-11-16T15:13:37.616Z"
   },
   {
    "duration": 6,
    "start_time": "2022-11-16T15:13:37.626Z"
   },
   {
    "duration": 15,
    "start_time": "2022-11-16T15:13:37.633Z"
   },
   {
    "duration": 7,
    "start_time": "2022-11-16T15:13:37.653Z"
   },
   {
    "duration": 262,
    "start_time": "2022-11-16T15:13:37.661Z"
   },
   {
    "duration": 14,
    "start_time": "2022-11-16T15:13:37.924Z"
   },
   {
    "duration": 19,
    "start_time": "2022-11-16T15:13:37.939Z"
   },
   {
    "duration": 31,
    "start_time": "2022-11-16T15:13:37.960Z"
   },
   {
    "duration": 26,
    "start_time": "2022-11-16T15:13:37.993Z"
   },
   {
    "duration": 34,
    "start_time": "2022-11-16T15:13:38.020Z"
   },
   {
    "duration": 20,
    "start_time": "2022-11-16T15:13:38.056Z"
   },
   {
    "duration": 48,
    "start_time": "2022-11-16T15:13:38.078Z"
   },
   {
    "duration": 66,
    "start_time": "2022-11-16T15:13:38.127Z"
   },
   {
    "duration": 10,
    "start_time": "2022-11-16T15:13:38.195Z"
   },
   {
    "duration": 14,
    "start_time": "2022-11-16T15:13:38.206Z"
   },
   {
    "duration": 14,
    "start_time": "2022-11-16T15:13:38.223Z"
   },
   {
    "duration": 18,
    "start_time": "2022-11-16T15:13:38.238Z"
   },
   {
    "duration": 43,
    "start_time": "2022-11-16T15:13:38.257Z"
   },
   {
    "duration": 36,
    "start_time": "2022-11-16T15:13:38.302Z"
   },
   {
    "duration": 1134,
    "start_time": "2022-11-16T15:13:38.339Z"
   },
   {
    "duration": 0,
    "start_time": "2022-11-16T15:13:39.474Z"
   },
   {
    "duration": 0,
    "start_time": "2022-11-16T15:13:39.475Z"
   },
   {
    "duration": 0,
    "start_time": "2022-11-16T15:13:39.476Z"
   },
   {
    "duration": 0,
    "start_time": "2022-11-16T15:13:39.477Z"
   },
   {
    "duration": 0,
    "start_time": "2022-11-16T15:13:39.478Z"
   },
   {
    "duration": 0,
    "start_time": "2022-11-16T15:13:39.479Z"
   },
   {
    "duration": 0,
    "start_time": "2022-11-16T15:13:39.480Z"
   },
   {
    "duration": 0,
    "start_time": "2022-11-16T15:13:39.481Z"
   },
   {
    "duration": 3,
    "start_time": "2022-11-16T15:15:46.383Z"
   },
   {
    "duration": 128,
    "start_time": "2022-11-16T15:15:46.388Z"
   },
   {
    "duration": 6,
    "start_time": "2022-11-16T15:15:46.517Z"
   },
   {
    "duration": 18,
    "start_time": "2022-11-16T15:15:46.524Z"
   },
   {
    "duration": 27,
    "start_time": "2022-11-16T15:15:46.553Z"
   },
   {
    "duration": 11,
    "start_time": "2022-11-16T15:15:46.581Z"
   },
   {
    "duration": 60,
    "start_time": "2022-11-16T15:15:46.593Z"
   },
   {
    "duration": 48,
    "start_time": "2022-11-16T15:15:46.654Z"
   },
   {
    "duration": 2,
    "start_time": "2022-11-16T15:15:46.704Z"
   },
   {
    "duration": 25,
    "start_time": "2022-11-16T15:15:46.707Z"
   },
   {
    "duration": 96,
    "start_time": "2022-11-16T15:15:46.733Z"
   },
   {
    "duration": 32,
    "start_time": "2022-11-16T15:15:46.831Z"
   },
   {
    "duration": 3,
    "start_time": "2022-11-16T15:15:46.865Z"
   },
   {
    "duration": 7,
    "start_time": "2022-11-16T15:15:46.870Z"
   },
   {
    "duration": 7,
    "start_time": "2022-11-16T15:15:46.878Z"
   },
   {
    "duration": 6,
    "start_time": "2022-11-16T15:15:46.886Z"
   },
   {
    "duration": 5,
    "start_time": "2022-11-16T15:15:46.893Z"
   },
   {
    "duration": 253,
    "start_time": "2022-11-16T15:15:46.899Z"
   },
   {
    "duration": 14,
    "start_time": "2022-11-16T15:15:47.154Z"
   },
   {
    "duration": 10,
    "start_time": "2022-11-16T15:15:47.169Z"
   },
   {
    "duration": 40,
    "start_time": "2022-11-16T15:15:47.180Z"
   },
   {
    "duration": 32,
    "start_time": "2022-11-16T15:15:47.221Z"
   },
   {
    "duration": 14,
    "start_time": "2022-11-16T15:15:47.254Z"
   },
   {
    "duration": 31,
    "start_time": "2022-11-16T15:15:47.270Z"
   },
   {
    "duration": 50,
    "start_time": "2022-11-16T15:15:47.303Z"
   },
   {
    "duration": 49,
    "start_time": "2022-11-16T15:15:47.355Z"
   },
   {
    "duration": 8,
    "start_time": "2022-11-16T15:15:47.405Z"
   },
   {
    "duration": 10,
    "start_time": "2022-11-16T15:15:47.414Z"
   },
   {
    "duration": 18,
    "start_time": "2022-11-16T15:15:47.425Z"
   },
   {
    "duration": 12,
    "start_time": "2022-11-16T15:15:47.452Z"
   },
   {
    "duration": 44,
    "start_time": "2022-11-16T15:15:47.465Z"
   },
   {
    "duration": 43,
    "start_time": "2022-11-16T15:15:47.511Z"
   },
   {
    "duration": 1197,
    "start_time": "2022-11-16T15:15:47.555Z"
   },
   {
    "duration": 0,
    "start_time": "2022-11-16T15:15:48.754Z"
   },
   {
    "duration": 0,
    "start_time": "2022-11-16T15:15:48.755Z"
   },
   {
    "duration": 0,
    "start_time": "2022-11-16T15:15:48.756Z"
   },
   {
    "duration": 0,
    "start_time": "2022-11-16T15:15:48.757Z"
   },
   {
    "duration": 0,
    "start_time": "2022-11-16T15:15:48.758Z"
   },
   {
    "duration": 0,
    "start_time": "2022-11-16T15:15:48.758Z"
   },
   {
    "duration": 0,
    "start_time": "2022-11-16T15:15:48.759Z"
   },
   {
    "duration": 0,
    "start_time": "2022-11-16T15:15:48.760Z"
   },
   {
    "duration": 49,
    "start_time": "2022-11-16T15:17:09.344Z"
   },
   {
    "duration": 5,
    "start_time": "2022-11-16T15:17:15.225Z"
   },
   {
    "duration": 8,
    "start_time": "2022-11-16T15:17:20.291Z"
   },
   {
    "duration": 75,
    "start_time": "2022-11-16T15:17:23.640Z"
   },
   {
    "duration": 966,
    "start_time": "2022-11-16T15:17:29.801Z"
   },
   {
    "duration": 37,
    "start_time": "2022-11-16T15:18:02.193Z"
   },
   {
    "duration": 1164,
    "start_time": "2022-11-16T15:18:24.072Z"
   },
   {
    "duration": 14,
    "start_time": "2022-11-16T15:18:32.421Z"
   },
   {
    "duration": 10,
    "start_time": "2022-11-16T15:18:59.835Z"
   },
   {
    "duration": 11,
    "start_time": "2022-11-16T15:23:26.632Z"
   },
   {
    "duration": 11,
    "start_time": "2022-11-16T15:23:36.377Z"
   },
   {
    "duration": 9,
    "start_time": "2022-11-16T15:24:55.699Z"
   },
   {
    "duration": 39,
    "start_time": "2022-11-16T15:25:52.280Z"
   },
   {
    "duration": 9,
    "start_time": "2022-11-16T15:25:57.094Z"
   },
   {
    "duration": 7,
    "start_time": "2022-11-16T15:26:30.134Z"
   },
   {
    "duration": 8,
    "start_time": "2022-11-16T15:26:39.384Z"
   },
   {
    "duration": 7,
    "start_time": "2022-11-16T15:26:46.387Z"
   },
   {
    "duration": 9,
    "start_time": "2022-11-16T15:26:50.312Z"
   },
   {
    "duration": 8,
    "start_time": "2022-11-16T15:26:53.687Z"
   },
   {
    "duration": 8,
    "start_time": "2022-11-16T15:28:43.584Z"
   },
   {
    "duration": 1225,
    "start_time": "2022-11-16T15:29:09.341Z"
   },
   {
    "duration": 37,
    "start_time": "2022-11-16T15:29:50.728Z"
   },
   {
    "duration": 7,
    "start_time": "2022-11-16T15:29:55.642Z"
   },
   {
    "duration": 9,
    "start_time": "2022-11-16T15:30:11.583Z"
   },
   {
    "duration": 12,
    "start_time": "2022-11-16T15:31:29.700Z"
   },
   {
    "duration": 8,
    "start_time": "2022-11-16T15:31:39.144Z"
   },
   {
    "duration": 7,
    "start_time": "2022-11-16T15:31:54.057Z"
   },
   {
    "duration": 4,
    "start_time": "2022-11-16T15:35:47.671Z"
   },
   {
    "duration": 69,
    "start_time": "2022-11-16T15:36:09.403Z"
   },
   {
    "duration": 73,
    "start_time": "2022-11-16T15:36:45.582Z"
   },
   {
    "duration": 4,
    "start_time": "2022-11-16T15:36:59.762Z"
   },
   {
    "duration": 5,
    "start_time": "2022-11-16T15:37:44.271Z"
   },
   {
    "duration": 4,
    "start_time": "2022-11-16T15:38:11.036Z"
   },
   {
    "duration": 9,
    "start_time": "2022-11-16T17:09:54.238Z"
   },
   {
    "duration": 1234,
    "start_time": "2022-11-16T17:09:57.655Z"
   },
   {
    "duration": 1006,
    "start_time": "2022-11-16T17:09:58.892Z"
   },
   {
    "duration": 8,
    "start_time": "2022-11-16T17:09:59.899Z"
   },
   {
    "duration": 18,
    "start_time": "2022-11-16T17:09:59.910Z"
   },
   {
    "duration": 45,
    "start_time": "2022-11-16T17:09:59.929Z"
   },
   {
    "duration": 12,
    "start_time": "2022-11-16T17:09:59.976Z"
   },
   {
    "duration": 74,
    "start_time": "2022-11-16T17:09:59.990Z"
   },
   {
    "duration": 69,
    "start_time": "2022-11-16T17:10:00.065Z"
   },
   {
    "duration": 2,
    "start_time": "2022-11-16T17:10:00.136Z"
   },
   {
    "duration": 42,
    "start_time": "2022-11-16T17:10:00.141Z"
   },
   {
    "duration": 22,
    "start_time": "2022-11-16T17:10:00.185Z"
   },
   {
    "duration": 33,
    "start_time": "2022-11-16T17:10:00.213Z"
   },
   {
    "duration": 18,
    "start_time": "2022-11-16T17:10:00.247Z"
   },
   {
    "duration": 33,
    "start_time": "2022-11-16T17:10:00.267Z"
   },
   {
    "duration": 43,
    "start_time": "2022-11-16T17:10:00.302Z"
   },
   {
    "duration": 29,
    "start_time": "2022-11-16T17:10:00.348Z"
   },
   {
    "duration": 52,
    "start_time": "2022-11-16T17:10:00.379Z"
   },
   {
    "duration": 409,
    "start_time": "2022-11-16T17:10:00.433Z"
   },
   {
    "duration": 16,
    "start_time": "2022-11-16T17:10:00.844Z"
   },
   {
    "duration": 12,
    "start_time": "2022-11-16T17:10:00.862Z"
   },
   {
    "duration": 44,
    "start_time": "2022-11-16T17:10:00.875Z"
   },
   {
    "duration": 31,
    "start_time": "2022-11-16T17:10:00.921Z"
   },
   {
    "duration": 18,
    "start_time": "2022-11-16T17:10:00.954Z"
   },
   {
    "duration": 45,
    "start_time": "2022-11-16T17:10:00.975Z"
   },
   {
    "duration": 53,
    "start_time": "2022-11-16T17:10:01.022Z"
   },
   {
    "duration": 69,
    "start_time": "2022-11-16T17:10:01.077Z"
   },
   {
    "duration": 9,
    "start_time": "2022-11-16T17:10:01.148Z"
   },
   {
    "duration": 6,
    "start_time": "2022-11-16T17:10:01.160Z"
   },
   {
    "duration": 18,
    "start_time": "2022-11-16T17:10:01.167Z"
   },
   {
    "duration": 27,
    "start_time": "2022-11-16T17:10:01.187Z"
   },
   {
    "duration": 46,
    "start_time": "2022-11-16T17:10:01.215Z"
   },
   {
    "duration": 59,
    "start_time": "2022-11-16T17:10:01.262Z"
   },
   {
    "duration": 3,
    "start_time": "2022-11-16T17:10:01.323Z"
   },
   {
    "duration": 12,
    "start_time": "2022-11-16T17:10:01.328Z"
   },
   {
    "duration": 9,
    "start_time": "2022-11-16T17:10:01.342Z"
   },
   {
    "duration": 109,
    "start_time": "2022-11-16T17:10:01.353Z"
   },
   {
    "duration": 4,
    "start_time": "2022-11-16T17:10:01.464Z"
   },
   {
    "duration": 18,
    "start_time": "2022-11-16T17:10:01.470Z"
   },
   {
    "duration": 76,
    "start_time": "2022-11-16T17:10:01.489Z"
   },
   {
    "duration": 0,
    "start_time": "2022-11-16T17:10:01.567Z"
   },
   {
    "duration": 0,
    "start_time": "2022-11-16T17:10:01.568Z"
   },
   {
    "duration": 0,
    "start_time": "2022-11-16T17:10:01.569Z"
   },
   {
    "duration": 3,
    "start_time": "2022-11-16T17:10:29.395Z"
   },
   {
    "duration": 156,
    "start_time": "2022-11-16T17:10:29.400Z"
   },
   {
    "duration": 7,
    "start_time": "2022-11-16T17:10:29.558Z"
   },
   {
    "duration": 19,
    "start_time": "2022-11-16T17:10:29.567Z"
   },
   {
    "duration": 51,
    "start_time": "2022-11-16T17:10:29.587Z"
   },
   {
    "duration": 12,
    "start_time": "2022-11-16T17:10:29.640Z"
   },
   {
    "duration": 61,
    "start_time": "2022-11-16T17:10:29.654Z"
   },
   {
    "duration": 48,
    "start_time": "2022-11-16T17:10:29.716Z"
   },
   {
    "duration": 3,
    "start_time": "2022-11-16T17:10:29.766Z"
   },
   {
    "duration": 23,
    "start_time": "2022-11-16T17:10:29.771Z"
   },
   {
    "duration": 37,
    "start_time": "2022-11-16T17:10:29.796Z"
   },
   {
    "duration": 35,
    "start_time": "2022-11-16T17:10:29.834Z"
   },
   {
    "duration": 4,
    "start_time": "2022-11-16T17:10:29.870Z"
   },
   {
    "duration": 8,
    "start_time": "2022-11-16T17:10:29.877Z"
   },
   {
    "duration": 7,
    "start_time": "2022-11-16T17:10:29.913Z"
   },
   {
    "duration": 7,
    "start_time": "2022-11-16T17:10:29.922Z"
   },
   {
    "duration": 4,
    "start_time": "2022-11-16T17:10:29.931Z"
   },
   {
    "duration": 329,
    "start_time": "2022-11-16T17:10:29.937Z"
   },
   {
    "duration": 17,
    "start_time": "2022-11-16T17:10:30.268Z"
   },
   {
    "duration": 26,
    "start_time": "2022-11-16T17:10:30.287Z"
   },
   {
    "duration": 81,
    "start_time": "2022-11-16T17:10:30.315Z"
   },
   {
    "duration": 44,
    "start_time": "2022-11-16T17:10:30.399Z"
   },
   {
    "duration": 32,
    "start_time": "2022-11-16T17:10:30.446Z"
   },
   {
    "duration": 58,
    "start_time": "2022-11-16T17:10:30.483Z"
   },
   {
    "duration": 99,
    "start_time": "2022-11-16T17:10:30.543Z"
   },
   {
    "duration": 54,
    "start_time": "2022-11-16T17:10:30.644Z"
   },
   {
    "duration": 23,
    "start_time": "2022-11-16T17:10:30.699Z"
   },
   {
    "duration": 18,
    "start_time": "2022-11-16T17:10:30.723Z"
   },
   {
    "duration": 62,
    "start_time": "2022-11-16T17:10:30.743Z"
   },
   {
    "duration": 34,
    "start_time": "2022-11-16T17:10:30.807Z"
   },
   {
    "duration": 48,
    "start_time": "2022-11-16T17:10:30.845Z"
   },
   {
    "duration": 61,
    "start_time": "2022-11-16T17:10:30.895Z"
   },
   {
    "duration": 5,
    "start_time": "2022-11-16T17:10:30.958Z"
   },
   {
    "duration": 22,
    "start_time": "2022-11-16T17:10:30.965Z"
   },
   {
    "duration": 10,
    "start_time": "2022-11-16T17:10:30.989Z"
   },
   {
    "duration": 109,
    "start_time": "2022-11-16T17:10:31.001Z"
   },
   {
    "duration": 7,
    "start_time": "2022-11-16T17:10:31.112Z"
   },
   {
    "duration": 26,
    "start_time": "2022-11-16T17:10:31.121Z"
   },
   {
    "duration": 14,
    "start_time": "2022-11-16T17:10:31.149Z"
   },
   {
    "duration": 13,
    "start_time": "2022-11-16T17:10:31.165Z"
   },
   {
    "duration": 9,
    "start_time": "2022-11-16T17:10:31.180Z"
   },
   {
    "duration": 10,
    "start_time": "2022-11-16T19:46:05.028Z"
   },
   {
    "duration": 1285,
    "start_time": "2022-11-16T19:46:08.373Z"
   },
   {
    "duration": 644,
    "start_time": "2022-11-16T19:46:09.660Z"
   },
   {
    "duration": 8,
    "start_time": "2022-11-16T19:46:10.305Z"
   },
   {
    "duration": 25,
    "start_time": "2022-11-16T19:46:10.315Z"
   },
   {
    "duration": 49,
    "start_time": "2022-11-16T19:46:10.342Z"
   },
   {
    "duration": 15,
    "start_time": "2022-11-16T19:46:10.393Z"
   },
   {
    "duration": 77,
    "start_time": "2022-11-16T19:46:10.410Z"
   },
   {
    "duration": 69,
    "start_time": "2022-11-16T19:46:10.488Z"
   },
   {
    "duration": 3,
    "start_time": "2022-11-16T19:46:10.558Z"
   },
   {
    "duration": 29,
    "start_time": "2022-11-16T19:46:10.562Z"
   },
   {
    "duration": 23,
    "start_time": "2022-11-16T19:46:10.593Z"
   },
   {
    "duration": 49,
    "start_time": "2022-11-16T19:46:10.618Z"
   },
   {
    "duration": 4,
    "start_time": "2022-11-16T19:46:10.669Z"
   },
   {
    "duration": 6,
    "start_time": "2022-11-16T19:46:10.675Z"
   },
   {
    "duration": 5,
    "start_time": "2022-11-16T19:46:10.683Z"
   },
   {
    "duration": 6,
    "start_time": "2022-11-16T19:46:10.690Z"
   },
   {
    "duration": 6,
    "start_time": "2022-11-16T19:46:10.698Z"
   },
   {
    "duration": 399,
    "start_time": "2022-11-16T19:46:10.706Z"
   },
   {
    "duration": 15,
    "start_time": "2022-11-16T19:46:11.107Z"
   },
   {
    "duration": 10,
    "start_time": "2022-11-16T19:46:11.123Z"
   },
   {
    "duration": 51,
    "start_time": "2022-11-16T19:46:11.134Z"
   },
   {
    "duration": 39,
    "start_time": "2022-11-16T19:46:11.188Z"
   },
   {
    "duration": 35,
    "start_time": "2022-11-16T19:46:11.228Z"
   },
   {
    "duration": 27,
    "start_time": "2022-11-16T19:46:11.265Z"
   },
   {
    "duration": 77,
    "start_time": "2022-11-16T19:46:11.294Z"
   },
   {
    "duration": 61,
    "start_time": "2022-11-16T19:46:11.373Z"
   },
   {
    "duration": 25,
    "start_time": "2022-11-16T19:46:11.436Z"
   },
   {
    "duration": 11,
    "start_time": "2022-11-16T19:46:11.463Z"
   },
   {
    "duration": 15,
    "start_time": "2022-11-16T19:46:11.476Z"
   },
   {
    "duration": 15,
    "start_time": "2022-11-16T19:46:11.493Z"
   },
   {
    "duration": 63,
    "start_time": "2022-11-16T19:46:11.509Z"
   },
   {
    "duration": 44,
    "start_time": "2022-11-16T19:46:11.573Z"
   },
   {
    "duration": 3,
    "start_time": "2022-11-16T19:46:11.619Z"
   },
   {
    "duration": 32,
    "start_time": "2022-11-16T19:46:11.624Z"
   },
   {
    "duration": 7,
    "start_time": "2022-11-16T19:46:11.657Z"
   },
   {
    "duration": 102,
    "start_time": "2022-11-16T19:46:11.666Z"
   },
   {
    "duration": 6,
    "start_time": "2022-11-16T19:46:11.770Z"
   },
   {
    "duration": 14,
    "start_time": "2022-11-16T19:46:11.777Z"
   },
   {
    "duration": 9,
    "start_time": "2022-11-16T19:46:11.792Z"
   },
   {
    "duration": 11,
    "start_time": "2022-11-16T19:46:11.802Z"
   },
   {
    "duration": 8,
    "start_time": "2022-11-16T19:46:11.816Z"
   },
   {
    "duration": 3,
    "start_time": "2022-11-16T20:08:27.027Z"
   },
   {
    "duration": 165,
    "start_time": "2022-11-16T20:08:27.032Z"
   },
   {
    "duration": 7,
    "start_time": "2022-11-16T20:08:27.198Z"
   },
   {
    "duration": 23,
    "start_time": "2022-11-16T20:08:27.206Z"
   },
   {
    "duration": 51,
    "start_time": "2022-11-16T20:08:27.230Z"
   },
   {
    "duration": 15,
    "start_time": "2022-11-16T20:08:27.282Z"
   },
   {
    "duration": 71,
    "start_time": "2022-11-16T20:08:27.299Z"
   },
   {
    "duration": 54,
    "start_time": "2022-11-16T20:08:27.372Z"
   },
   {
    "duration": 3,
    "start_time": "2022-11-16T20:08:27.430Z"
   },
   {
    "duration": 38,
    "start_time": "2022-11-16T20:08:27.434Z"
   },
   {
    "duration": 24,
    "start_time": "2022-11-16T20:08:27.474Z"
   },
   {
    "duration": 31,
    "start_time": "2022-11-16T20:08:27.500Z"
   },
   {
    "duration": 4,
    "start_time": "2022-11-16T20:08:27.555Z"
   },
   {
    "duration": 8,
    "start_time": "2022-11-16T20:08:27.561Z"
   },
   {
    "duration": 6,
    "start_time": "2022-11-16T20:08:27.570Z"
   },
   {
    "duration": 6,
    "start_time": "2022-11-16T20:08:27.578Z"
   },
   {
    "duration": 3,
    "start_time": "2022-11-16T20:08:27.586Z"
   },
   {
    "duration": 313,
    "start_time": "2022-11-16T20:08:27.590Z"
   },
   {
    "duration": 15,
    "start_time": "2022-11-16T20:08:27.905Z"
   },
   {
    "duration": 8,
    "start_time": "2022-11-16T20:08:27.921Z"
   },
   {
    "duration": 51,
    "start_time": "2022-11-16T20:08:27.931Z"
   },
   {
    "duration": 28,
    "start_time": "2022-11-16T20:08:27.984Z"
   },
   {
    "duration": 17,
    "start_time": "2022-11-16T20:08:28.014Z"
   },
   {
    "duration": 44,
    "start_time": "2022-11-16T20:08:28.033Z"
   },
   {
    "duration": 57,
    "start_time": "2022-11-16T20:08:28.079Z"
   },
   {
    "duration": 70,
    "start_time": "2022-11-16T20:08:28.138Z"
   },
   {
    "duration": 8,
    "start_time": "2022-11-16T20:08:28.210Z"
   },
   {
    "duration": 7,
    "start_time": "2022-11-16T20:08:28.219Z"
   },
   {
    "duration": 31,
    "start_time": "2022-11-16T20:08:28.227Z"
   },
   {
    "duration": 15,
    "start_time": "2022-11-16T20:08:28.259Z"
   },
   {
    "duration": 47,
    "start_time": "2022-11-16T20:08:28.275Z"
   },
   {
    "duration": 59,
    "start_time": "2022-11-16T20:08:28.324Z"
   },
   {
    "duration": 3,
    "start_time": "2022-11-16T20:08:28.385Z"
   },
   {
    "duration": 13,
    "start_time": "2022-11-16T20:08:28.390Z"
   },
   {
    "duration": 10,
    "start_time": "2022-11-16T20:08:28.405Z"
   },
   {
    "duration": 114,
    "start_time": "2022-11-16T20:08:28.417Z"
   },
   {
    "duration": 5,
    "start_time": "2022-11-16T20:08:28.533Z"
   },
   {
    "duration": 21,
    "start_time": "2022-11-16T20:08:28.540Z"
   },
   {
    "duration": 12,
    "start_time": "2022-11-16T20:08:28.563Z"
   },
   {
    "duration": 10,
    "start_time": "2022-11-16T20:08:28.577Z"
   },
   {
    "duration": 11,
    "start_time": "2022-11-16T20:08:28.589Z"
   },
   {
    "duration": 58,
    "start_time": "2022-11-16T21:42:39.185Z"
   },
   {
    "duration": 1135,
    "start_time": "2022-11-16T22:30:38.303Z"
   },
   {
    "duration": 140,
    "start_time": "2022-11-16T22:30:39.439Z"
   },
   {
    "duration": 8,
    "start_time": "2022-11-16T22:30:39.580Z"
   },
   {
    "duration": 21,
    "start_time": "2022-11-16T22:30:39.590Z"
   },
   {
    "duration": 49,
    "start_time": "2022-11-16T22:30:39.612Z"
   },
   {
    "duration": 13,
    "start_time": "2022-11-16T22:30:39.662Z"
   },
   {
    "duration": 79,
    "start_time": "2022-11-16T22:30:39.676Z"
   },
   {
    "duration": 74,
    "start_time": "2022-11-16T22:30:39.756Z"
   },
   {
    "duration": 3,
    "start_time": "2022-11-16T22:30:39.831Z"
   },
   {
    "duration": 27,
    "start_time": "2022-11-16T22:30:39.836Z"
   },
   {
    "duration": 24,
    "start_time": "2022-11-16T22:30:39.864Z"
   },
   {
    "duration": 48,
    "start_time": "2022-11-16T22:30:39.889Z"
   },
   {
    "duration": 3,
    "start_time": "2022-11-16T22:30:39.938Z"
   },
   {
    "duration": 7,
    "start_time": "2022-11-16T22:30:39.943Z"
   },
   {
    "duration": 12,
    "start_time": "2022-11-16T22:30:39.951Z"
   },
   {
    "duration": 5,
    "start_time": "2022-11-16T22:30:39.965Z"
   },
   {
    "duration": 5,
    "start_time": "2022-11-16T22:30:39.971Z"
   },
   {
    "duration": 356,
    "start_time": "2022-11-16T22:30:39.978Z"
   },
   {
    "duration": 15,
    "start_time": "2022-11-16T22:30:40.336Z"
   },
   {
    "duration": 8,
    "start_time": "2022-11-16T22:30:40.353Z"
   },
   {
    "duration": 30,
    "start_time": "2022-11-16T22:30:40.362Z"
   },
   {
    "duration": 51,
    "start_time": "2022-11-16T22:30:40.394Z"
   },
   {
    "duration": 16,
    "start_time": "2022-11-16T22:30:40.446Z"
   },
   {
    "duration": 23,
    "start_time": "2022-11-16T22:30:40.464Z"
   },
   {
    "duration": 68,
    "start_time": "2022-11-16T22:30:40.489Z"
   },
   {
    "duration": 64,
    "start_time": "2022-11-16T22:30:40.559Z"
   },
   {
    "duration": 9,
    "start_time": "2022-11-16T22:30:40.625Z"
   },
   {
    "duration": 6,
    "start_time": "2022-11-16T22:30:40.638Z"
   },
   {
    "duration": 10,
    "start_time": "2022-11-16T22:30:40.646Z"
   },
   {
    "duration": 21,
    "start_time": "2022-11-16T22:30:40.658Z"
   },
   {
    "duration": 66,
    "start_time": "2022-11-16T22:30:40.681Z"
   },
   {
    "duration": 45,
    "start_time": "2022-11-16T22:30:40.749Z"
   },
   {
    "duration": 4,
    "start_time": "2022-11-16T22:30:40.796Z"
   },
   {
    "duration": 29,
    "start_time": "2022-11-16T22:30:40.802Z"
   },
   {
    "duration": 8,
    "start_time": "2022-11-16T22:30:40.833Z"
   },
   {
    "duration": 104,
    "start_time": "2022-11-16T22:30:40.843Z"
   },
   {
    "duration": 6,
    "start_time": "2022-11-16T22:30:40.949Z"
   },
   {
    "duration": 11,
    "start_time": "2022-11-16T22:30:40.956Z"
   },
   {
    "duration": 8,
    "start_time": "2022-11-16T22:30:40.969Z"
   },
   {
    "duration": 11,
    "start_time": "2022-11-16T22:30:40.979Z"
   },
   {
    "duration": 34,
    "start_time": "2022-11-16T22:30:40.992Z"
   },
   {
    "duration": 50,
    "start_time": "2022-11-17T14:01:33.572Z"
   },
   {
    "duration": 1254,
    "start_time": "2022-11-17T14:01:42.156Z"
   },
   {
    "duration": 669,
    "start_time": "2022-11-17T14:01:43.412Z"
   },
   {
    "duration": 9,
    "start_time": "2022-11-17T14:01:44.082Z"
   },
   {
    "duration": 25,
    "start_time": "2022-11-17T14:01:44.093Z"
   },
   {
    "duration": 46,
    "start_time": "2022-11-17T14:01:44.119Z"
   },
   {
    "duration": 13,
    "start_time": "2022-11-17T14:01:44.166Z"
   },
   {
    "duration": 73,
    "start_time": "2022-11-17T14:01:44.181Z"
   },
   {
    "duration": 79,
    "start_time": "2022-11-17T14:01:44.256Z"
   },
   {
    "duration": 3,
    "start_time": "2022-11-17T14:01:44.336Z"
   },
   {
    "duration": 26,
    "start_time": "2022-11-17T14:01:44.342Z"
   },
   {
    "duration": 31,
    "start_time": "2022-11-17T14:01:44.370Z"
   },
   {
    "duration": 32,
    "start_time": "2022-11-17T14:01:44.403Z"
   },
   {
    "duration": 3,
    "start_time": "2022-11-17T14:01:44.437Z"
   },
   {
    "duration": 13,
    "start_time": "2022-11-17T14:01:44.442Z"
   },
   {
    "duration": 8,
    "start_time": "2022-11-17T14:01:44.456Z"
   },
   {
    "duration": 11,
    "start_time": "2022-11-17T14:01:44.465Z"
   },
   {
    "duration": 9,
    "start_time": "2022-11-17T14:01:44.497Z"
   },
   {
    "duration": 365,
    "start_time": "2022-11-17T14:01:44.507Z"
   },
   {
    "duration": 22,
    "start_time": "2022-11-17T14:01:44.874Z"
   },
   {
    "duration": 8,
    "start_time": "2022-11-17T14:01:44.898Z"
   },
   {
    "duration": 34,
    "start_time": "2022-11-17T14:01:44.907Z"
   },
   {
    "duration": 54,
    "start_time": "2022-11-17T14:01:44.942Z"
   },
   {
    "duration": 17,
    "start_time": "2022-11-17T14:01:44.998Z"
   },
   {
    "duration": 34,
    "start_time": "2022-11-17T14:01:45.016Z"
   },
   {
    "duration": 64,
    "start_time": "2022-11-17T14:01:45.052Z"
   },
   {
    "duration": 64,
    "start_time": "2022-11-17T14:01:45.118Z"
   },
   {
    "duration": 10,
    "start_time": "2022-11-17T14:01:45.196Z"
   },
   {
    "duration": 6,
    "start_time": "2022-11-17T14:01:45.210Z"
   },
   {
    "duration": 16,
    "start_time": "2022-11-17T14:01:45.218Z"
   },
   {
    "duration": 17,
    "start_time": "2022-11-17T14:01:45.235Z"
   },
   {
    "duration": 56,
    "start_time": "2022-11-17T14:01:45.254Z"
   },
   {
    "duration": 43,
    "start_time": "2022-11-17T14:01:45.312Z"
   },
   {
    "duration": 4,
    "start_time": "2022-11-17T14:01:45.357Z"
   },
   {
    "duration": 34,
    "start_time": "2022-11-17T14:01:45.362Z"
   },
   {
    "duration": 12,
    "start_time": "2022-11-17T14:01:45.398Z"
   },
   {
    "duration": 101,
    "start_time": "2022-11-17T14:01:45.411Z"
   },
   {
    "duration": 6,
    "start_time": "2022-11-17T14:01:45.514Z"
   },
   {
    "duration": 19,
    "start_time": "2022-11-17T14:01:45.522Z"
   },
   {
    "duration": 11,
    "start_time": "2022-11-17T14:01:45.543Z"
   },
   {
    "duration": 41,
    "start_time": "2022-11-17T14:01:45.556Z"
   },
   {
    "duration": 21,
    "start_time": "2022-11-17T14:01:45.598Z"
   },
   {
    "duration": 289,
    "start_time": "2022-11-17T14:02:25.665Z"
   },
   {
    "duration": 1154,
    "start_time": "2022-11-17T14:03:56.266Z"
   },
   {
    "duration": 145,
    "start_time": "2022-11-17T14:03:57.422Z"
   },
   {
    "duration": 7,
    "start_time": "2022-11-17T14:03:57.569Z"
   },
   {
    "duration": 30,
    "start_time": "2022-11-17T14:03:57.578Z"
   },
   {
    "duration": 44,
    "start_time": "2022-11-17T14:03:57.609Z"
   },
   {
    "duration": 13,
    "start_time": "2022-11-17T14:03:57.654Z"
   },
   {
    "duration": 75,
    "start_time": "2022-11-17T14:03:57.669Z"
   },
   {
    "duration": 72,
    "start_time": "2022-11-17T14:03:57.746Z"
   },
   {
    "duration": 3,
    "start_time": "2022-11-17T14:03:57.820Z"
   },
   {
    "duration": 39,
    "start_time": "2022-11-17T14:03:57.826Z"
   },
   {
    "duration": 24,
    "start_time": "2022-11-17T14:03:57.867Z"
   },
   {
    "duration": 39,
    "start_time": "2022-11-17T14:03:57.895Z"
   },
   {
    "duration": 4,
    "start_time": "2022-11-17T14:03:57.936Z"
   },
   {
    "duration": 7,
    "start_time": "2022-11-17T14:03:57.942Z"
   },
   {
    "duration": 12,
    "start_time": "2022-11-17T14:03:57.951Z"
   },
   {
    "duration": 6,
    "start_time": "2022-11-17T14:03:57.965Z"
   },
   {
    "duration": 4,
    "start_time": "2022-11-17T14:03:57.996Z"
   },
   {
    "duration": 369,
    "start_time": "2022-11-17T14:03:58.002Z"
   },
   {
    "duration": 26,
    "start_time": "2022-11-17T14:03:58.373Z"
   },
   {
    "duration": 8,
    "start_time": "2022-11-17T14:03:58.401Z"
   },
   {
    "duration": 35,
    "start_time": "2022-11-17T14:03:58.411Z"
   },
   {
    "duration": 28,
    "start_time": "2022-11-17T14:03:58.448Z"
   },
   {
    "duration": 18,
    "start_time": "2022-11-17T14:03:58.497Z"
   },
   {
    "duration": 25,
    "start_time": "2022-11-17T14:03:58.516Z"
   },
   {
    "duration": 69,
    "start_time": "2022-11-17T14:03:58.543Z"
   },
   {
    "duration": 58,
    "start_time": "2022-11-17T14:03:58.614Z"
   },
   {
    "duration": 26,
    "start_time": "2022-11-17T14:03:58.673Z"
   },
   {
    "duration": 7,
    "start_time": "2022-11-17T14:03:58.702Z"
   },
   {
    "duration": 10,
    "start_time": "2022-11-17T14:03:58.711Z"
   },
   {
    "duration": 13,
    "start_time": "2022-11-17T14:03:58.723Z"
   },
   {
    "duration": 68,
    "start_time": "2022-11-17T14:03:58.737Z"
   },
   {
    "duration": 43,
    "start_time": "2022-11-17T14:03:58.807Z"
   },
   {
    "duration": 4,
    "start_time": "2022-11-17T14:03:58.852Z"
   },
   {
    "duration": 46,
    "start_time": "2022-11-17T14:03:58.858Z"
   },
   {
    "duration": 34,
    "start_time": "2022-11-17T14:03:58.906Z"
   },
   {
    "duration": 105,
    "start_time": "2022-11-17T14:03:58.941Z"
   },
   {
    "duration": 4,
    "start_time": "2022-11-17T14:03:59.048Z"
   },
   {
    "duration": 39,
    "start_time": "2022-11-17T14:03:59.054Z"
   },
   {
    "duration": 43,
    "start_time": "2022-11-17T14:03:59.095Z"
   },
   {
    "duration": 31,
    "start_time": "2022-11-17T14:03:59.139Z"
   },
   {
    "duration": 25,
    "start_time": "2022-11-17T14:03:59.171Z"
   },
   {
    "duration": 292,
    "start_time": "2022-11-17T14:09:31.841Z"
   },
   {
    "duration": 714,
    "start_time": "2022-11-17T14:11:05.300Z"
   },
   {
    "duration": 4,
    "start_time": "2022-11-17T14:20:43.672Z"
   },
   {
    "duration": 4,
    "start_time": "2022-11-17T14:21:18.876Z"
   },
   {
    "duration": 4,
    "start_time": "2022-11-17T14:21:42.520Z"
   },
   {
    "duration": 45,
    "start_time": "2022-11-17T14:25:10.529Z"
   },
   {
    "duration": 54,
    "start_time": "2022-11-17T14:25:46.681Z"
   },
   {
    "duration": 42,
    "start_time": "2022-11-17T14:26:52.475Z"
   },
   {
    "duration": 47,
    "start_time": "2022-11-17T14:27:29.505Z"
   },
   {
    "duration": 4,
    "start_time": "2022-11-17T14:27:41.840Z"
   },
   {
    "duration": 6,
    "start_time": "2022-11-17T14:28:47.044Z"
   },
   {
    "duration": 6,
    "start_time": "2022-11-17T14:29:20.743Z"
   },
   {
    "duration": 7,
    "start_time": "2022-11-17T14:30:55.094Z"
   },
   {
    "duration": 10,
    "start_time": "2022-11-17T14:31:06.222Z"
   },
   {
    "duration": 4,
    "start_time": "2022-11-17T14:31:50.580Z"
   },
   {
    "duration": 6,
    "start_time": "2022-11-17T14:32:09.274Z"
   },
   {
    "duration": 81,
    "start_time": "2022-11-20T22:07:31.675Z"
   },
   {
    "duration": 71,
    "start_time": "2022-11-20T22:07:45.140Z"
   },
   {
    "duration": 41,
    "start_time": "2022-11-20T22:09:04.520Z"
   },
   {
    "duration": 1316,
    "start_time": "2022-11-20T22:09:12.125Z"
   },
   {
    "duration": 710,
    "start_time": "2022-11-20T22:09:13.444Z"
   },
   {
    "duration": 8,
    "start_time": "2022-11-20T22:09:14.156Z"
   },
   {
    "duration": 19,
    "start_time": "2022-11-20T22:09:14.166Z"
   },
   {
    "duration": 48,
    "start_time": "2022-11-20T22:09:14.186Z"
   },
   {
    "duration": 14,
    "start_time": "2022-11-20T22:09:14.258Z"
   },
   {
    "duration": 65,
    "start_time": "2022-11-20T22:09:14.274Z"
   },
   {
    "duration": 74,
    "start_time": "2022-11-20T22:09:14.341Z"
   },
   {
    "duration": 3,
    "start_time": "2022-11-20T22:09:14.416Z"
   },
   {
    "duration": 37,
    "start_time": "2022-11-20T22:09:14.421Z"
   },
   {
    "duration": 22,
    "start_time": "2022-11-20T22:09:14.460Z"
   },
   {
    "duration": 28,
    "start_time": "2022-11-20T22:09:14.484Z"
   },
   {
    "duration": 3,
    "start_time": "2022-11-20T22:09:14.514Z"
   },
   {
    "duration": 6,
    "start_time": "2022-11-20T22:09:14.519Z"
   },
   {
    "duration": 30,
    "start_time": "2022-11-20T22:09:14.526Z"
   },
   {
    "duration": 6,
    "start_time": "2022-11-20T22:09:14.557Z"
   },
   {
    "duration": 4,
    "start_time": "2022-11-20T22:09:14.565Z"
   },
   {
    "duration": 754,
    "start_time": "2022-11-20T22:09:14.570Z"
   },
   {
    "duration": 16,
    "start_time": "2022-11-20T22:09:15.326Z"
   },
   {
    "duration": 7,
    "start_time": "2022-11-20T22:09:15.352Z"
   },
   {
    "duration": 9,
    "start_time": "2022-11-20T22:09:15.360Z"
   },
   {
    "duration": 8,
    "start_time": "2022-11-20T22:09:15.371Z"
   },
   {
    "duration": 34,
    "start_time": "2022-11-20T22:09:15.380Z"
   },
   {
    "duration": 48,
    "start_time": "2022-11-20T22:09:15.416Z"
   },
   {
    "duration": 18,
    "start_time": "2022-11-20T22:09:15.466Z"
   },
   {
    "duration": 27,
    "start_time": "2022-11-20T22:09:15.486Z"
   },
   {
    "duration": 68,
    "start_time": "2022-11-20T22:09:15.514Z"
   },
   {
    "duration": 51,
    "start_time": "2022-11-20T22:09:15.586Z"
   },
   {
    "duration": 21,
    "start_time": "2022-11-20T22:09:15.639Z"
   },
   {
    "duration": 6,
    "start_time": "2022-11-20T22:09:15.661Z"
   },
   {
    "duration": 7,
    "start_time": "2022-11-20T22:09:15.668Z"
   },
   {
    "duration": 11,
    "start_time": "2022-11-20T22:09:15.677Z"
   },
   {
    "duration": 15,
    "start_time": "2022-11-20T22:09:15.689Z"
   },
   {
    "duration": 64,
    "start_time": "2022-11-20T22:09:15.705Z"
   },
   {
    "duration": 40,
    "start_time": "2022-11-20T22:09:15.771Z"
   },
   {
    "duration": 4,
    "start_time": "2022-11-20T22:09:15.812Z"
   },
   {
    "duration": 12,
    "start_time": "2022-11-20T22:09:15.817Z"
   },
   {
    "duration": 27,
    "start_time": "2022-11-20T22:09:15.830Z"
   },
   {
    "duration": 94,
    "start_time": "2022-11-20T22:09:15.859Z"
   },
   {
    "duration": 5,
    "start_time": "2022-11-20T22:09:15.954Z"
   },
   {
    "duration": 20,
    "start_time": "2022-11-20T22:09:15.961Z"
   },
   {
    "duration": 24,
    "start_time": "2022-11-20T22:09:15.982Z"
   },
   {
    "duration": 12,
    "start_time": "2022-11-20T22:09:16.007Z"
   },
   {
    "duration": 8,
    "start_time": "2022-11-20T22:09:16.020Z"
   },
   {
    "duration": 11,
    "start_time": "2022-11-20T22:09:45.771Z"
   },
   {
    "duration": 12,
    "start_time": "2022-11-20T22:10:10.825Z"
   },
   {
    "duration": 81,
    "start_time": "2022-11-20T22:12:11.791Z"
   },
   {
    "duration": 1120,
    "start_time": "2022-11-20T22:29:49.536Z"
   },
   {
    "duration": 144,
    "start_time": "2022-11-20T22:29:50.658Z"
   },
   {
    "duration": 7,
    "start_time": "2022-11-20T22:29:50.803Z"
   },
   {
    "duration": 23,
    "start_time": "2022-11-20T22:29:50.812Z"
   },
   {
    "duration": 53,
    "start_time": "2022-11-20T22:29:50.837Z"
   },
   {
    "duration": 12,
    "start_time": "2022-11-20T22:29:50.892Z"
   },
   {
    "duration": 76,
    "start_time": "2022-11-20T22:29:50.906Z"
   },
   {
    "duration": 74,
    "start_time": "2022-11-20T22:29:50.983Z"
   },
   {
    "duration": 3,
    "start_time": "2022-11-20T22:29:51.059Z"
   },
   {
    "duration": 25,
    "start_time": "2022-11-20T22:29:51.064Z"
   },
   {
    "duration": 22,
    "start_time": "2022-11-20T22:29:51.091Z"
   },
   {
    "duration": 47,
    "start_time": "2022-11-20T22:29:51.114Z"
   },
   {
    "duration": 3,
    "start_time": "2022-11-20T22:29:51.163Z"
   },
   {
    "duration": 8,
    "start_time": "2022-11-20T22:29:51.167Z"
   },
   {
    "duration": 6,
    "start_time": "2022-11-20T22:29:51.176Z"
   },
   {
    "duration": 11,
    "start_time": "2022-11-20T22:29:51.183Z"
   },
   {
    "duration": 6,
    "start_time": "2022-11-20T22:29:51.196Z"
   },
   {
    "duration": 737,
    "start_time": "2022-11-20T22:29:51.203Z"
   },
   {
    "duration": 22,
    "start_time": "2022-11-20T22:29:51.942Z"
   },
   {
    "duration": 9,
    "start_time": "2022-11-20T22:29:51.966Z"
   },
   {
    "duration": 3,
    "start_time": "2022-11-20T22:29:51.977Z"
   },
   {
    "duration": 21,
    "start_time": "2022-11-20T22:29:51.982Z"
   },
   {
    "duration": 38,
    "start_time": "2022-11-20T22:29:52.004Z"
   },
   {
    "duration": 29,
    "start_time": "2022-11-20T22:29:52.052Z"
   },
   {
    "duration": 17,
    "start_time": "2022-11-20T22:29:52.083Z"
   },
   {
    "duration": 23,
    "start_time": "2022-11-20T22:29:52.102Z"
   },
   {
    "duration": 81,
    "start_time": "2022-11-20T22:29:52.127Z"
   },
   {
    "duration": 55,
    "start_time": "2022-11-20T22:29:52.211Z"
   },
   {
    "duration": 9,
    "start_time": "2022-11-20T22:29:52.267Z"
   },
   {
    "duration": 11,
    "start_time": "2022-11-20T22:29:52.278Z"
   },
   {
    "duration": 20,
    "start_time": "2022-11-20T22:29:52.290Z"
   },
   {
    "duration": 11,
    "start_time": "2022-11-20T22:29:52.312Z"
   },
   {
    "duration": 30,
    "start_time": "2022-11-20T22:29:52.325Z"
   },
   {
    "duration": 62,
    "start_time": "2022-11-20T22:29:52.357Z"
   },
   {
    "duration": 61,
    "start_time": "2022-11-20T22:29:52.422Z"
   },
   {
    "duration": 5,
    "start_time": "2022-11-20T22:29:52.485Z"
   },
   {
    "duration": 20,
    "start_time": "2022-11-20T22:29:52.491Z"
   },
   {
    "duration": 12,
    "start_time": "2022-11-20T22:29:52.513Z"
   },
   {
    "duration": 126,
    "start_time": "2022-11-20T22:29:52.527Z"
   },
   {
    "duration": 5,
    "start_time": "2022-11-20T22:29:52.654Z"
   },
   {
    "duration": 16,
    "start_time": "2022-11-20T22:29:52.661Z"
   },
   {
    "duration": 9,
    "start_time": "2022-11-20T22:29:52.679Z"
   },
   {
    "duration": 10,
    "start_time": "2022-11-20T22:29:52.690Z"
   },
   {
    "duration": 10,
    "start_time": "2022-11-20T22:29:52.701Z"
   },
   {
    "duration": 12,
    "start_time": "2022-11-20T22:30:54.722Z"
   },
   {
    "duration": 12,
    "start_time": "2022-11-20T22:32:48.276Z"
   },
   {
    "duration": 10,
    "start_time": "2022-11-20T22:34:57.363Z"
   },
   {
    "duration": 1133,
    "start_time": "2022-11-20T22:35:32.621Z"
   },
   {
    "duration": 146,
    "start_time": "2022-11-20T22:35:33.756Z"
   },
   {
    "duration": 8,
    "start_time": "2022-11-20T22:35:33.903Z"
   },
   {
    "duration": 20,
    "start_time": "2022-11-20T22:35:33.913Z"
   },
   {
    "duration": 58,
    "start_time": "2022-11-20T22:35:33.934Z"
   },
   {
    "duration": 13,
    "start_time": "2022-11-20T22:35:33.993Z"
   },
   {
    "duration": 76,
    "start_time": "2022-11-20T22:35:34.008Z"
   },
   {
    "duration": 69,
    "start_time": "2022-11-20T22:35:34.086Z"
   },
   {
    "duration": 3,
    "start_time": "2022-11-20T22:35:34.156Z"
   },
   {
    "duration": 26,
    "start_time": "2022-11-20T22:35:34.161Z"
   },
   {
    "duration": 22,
    "start_time": "2022-11-20T22:35:34.189Z"
   },
   {
    "duration": 49,
    "start_time": "2022-11-20T22:35:34.212Z"
   },
   {
    "duration": 4,
    "start_time": "2022-11-20T22:35:34.263Z"
   },
   {
    "duration": 8,
    "start_time": "2022-11-20T22:35:34.270Z"
   },
   {
    "duration": 9,
    "start_time": "2022-11-20T22:35:34.280Z"
   },
   {
    "duration": 8,
    "start_time": "2022-11-20T22:35:34.291Z"
   },
   {
    "duration": 4,
    "start_time": "2022-11-20T22:35:34.300Z"
   },
   {
    "duration": 740,
    "start_time": "2022-11-20T22:35:34.306Z"
   },
   {
    "duration": 18,
    "start_time": "2022-11-20T22:35:35.048Z"
   },
   {
    "duration": 7,
    "start_time": "2022-11-20T22:35:35.068Z"
   },
   {
    "duration": 3,
    "start_time": "2022-11-20T22:35:35.077Z"
   },
   {
    "duration": 11,
    "start_time": "2022-11-20T22:35:35.082Z"
   },
   {
    "duration": 35,
    "start_time": "2022-11-20T22:35:35.094Z"
   },
   {
    "duration": 47,
    "start_time": "2022-11-20T22:35:35.131Z"
   },
   {
    "duration": 17,
    "start_time": "2022-11-20T22:35:35.179Z"
   },
   {
    "duration": 23,
    "start_time": "2022-11-20T22:35:35.198Z"
   },
   {
    "duration": 73,
    "start_time": "2022-11-20T22:35:35.223Z"
   },
   {
    "duration": 65,
    "start_time": "2022-11-20T22:35:35.297Z"
   },
   {
    "duration": 9,
    "start_time": "2022-11-20T22:35:35.364Z"
   },
   {
    "duration": 31,
    "start_time": "2022-11-20T22:35:35.374Z"
   },
   {
    "duration": 7,
    "start_time": "2022-11-20T22:35:35.407Z"
   },
   {
    "duration": 23,
    "start_time": "2022-11-20T22:35:35.416Z"
   },
   {
    "duration": 22,
    "start_time": "2022-11-20T22:35:35.440Z"
   },
   {
    "duration": 56,
    "start_time": "2022-11-20T22:35:35.463Z"
   },
   {
    "duration": 40,
    "start_time": "2022-11-20T22:35:35.521Z"
   },
   {
    "duration": 4,
    "start_time": "2022-11-20T22:35:35.562Z"
   },
   {
    "duration": 15,
    "start_time": "2022-11-20T22:35:35.567Z"
   },
   {
    "duration": 10,
    "start_time": "2022-11-20T22:35:35.583Z"
   },
   {
    "duration": 99,
    "start_time": "2022-11-20T22:35:35.594Z"
   },
   {
    "duration": 5,
    "start_time": "2022-11-20T22:35:35.695Z"
   },
   {
    "duration": 15,
    "start_time": "2022-11-20T22:35:35.704Z"
   },
   {
    "duration": 13,
    "start_time": "2022-11-20T22:35:35.721Z"
   },
   {
    "duration": 23,
    "start_time": "2022-11-20T22:35:35.736Z"
   },
   {
    "duration": 14,
    "start_time": "2022-11-20T22:35:35.760Z"
   },
   {
    "duration": 74,
    "start_time": "2022-11-20T22:39:27.527Z"
   }
  ],
  "kernelspec": {
   "display_name": "Python 3 (ipykernel)",
   "language": "python",
   "name": "python3"
  },
  "language_info": {
   "codemirror_mode": {
    "name": "ipython",
    "version": 3
   },
   "file_extension": ".py",
   "mimetype": "text/x-python",
   "name": "python",
   "nbconvert_exporter": "python",
   "pygments_lexer": "ipython3",
   "version": "3.9.13"
  },
  "toc": {
   "base_numbering": 1,
   "nav_menu": {},
   "number_sections": true,
   "sideBar": true,
   "skip_h1_title": true,
   "title_cell": "Table of Contents",
   "title_sidebar": "Contents",
   "toc_cell": false,
   "toc_position": {
    "height": "calc(100% - 180px)",
    "left": "10px",
    "top": "150px",
    "width": "197.25px"
   },
   "toc_section_display": true,
   "toc_window_display": true
  }
 },
 "nbformat": 4,
 "nbformat_minor": 2
}
