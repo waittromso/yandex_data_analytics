{
 "cells": [
  {
   "cell_type": "markdown",
   "id": "c81daeeb",
   "metadata": {
    "deletable": false,
    "id": "c81daeeb"
   },
   "source": [
    "# Исследование надежности заемщиков\n"
   ]
  },
  {
   "cell_type": "markdown",
   "id": "744d7639",
   "metadata": {
    "deletable": false,
    "id": "744d7639"
   },
   "source": [
    "## Откройте таблицу и изучите общую информацию о данных"
   ]
  },
  {
   "cell_type": "markdown",
   "id": "e7a14c31",
   "metadata": {
    "deletable": false,
    "id": "e7a14c31"
   },
   "source": [
    "**Задание 1. Импортируйте библиотеку pandas. Считайте данные из csv-файла в датафрейм и сохраните в переменную `data`. Путь к файлу:**\n",
    "\n",
    "`/datasets/data.csv`"
   ]
  },
  {
   "cell_type": "code",
   "execution_count": 2,
   "id": "7bcf75c9",
   "metadata": {
    "deletable": false,
    "id": "7bcf75c9"
   },
   "outputs": [],
   "source": [
    "import pandas as pd\n",
    "\n",
    "try:\n",
    "    data = pd.read_csv('/datasets/data.csv')\n",
    "except:\n",
    "    data = pd.read_csv('https://code.s3.yandex.net/datasets/data.csv')"
   ]
  },
  {
   "cell_type": "markdown",
   "id": "b8038fe3",
   "metadata": {
    "deletable": false,
    "id": "b8038fe3"
   },
   "source": [
    "**Задание 2. Выведите первые 20 строчек датафрейма `data` на экран.**"
   ]
  },
  {
   "cell_type": "code",
   "execution_count": 3,
   "id": "2a7cab99",
   "metadata": {
    "deletable": false,
    "id": "2a7cab99",
    "outputId": "1a8f3ef2-d323-4ec2-ddf7-89670b5944c4"
   },
   "outputs": [
    {
     "data": {
      "text/html": [
       "<div>\n",
       "<style scoped>\n",
       "    .dataframe tbody tr th:only-of-type {\n",
       "        vertical-align: middle;\n",
       "    }\n",
       "\n",
       "    .dataframe tbody tr th {\n",
       "        vertical-align: top;\n",
       "    }\n",
       "\n",
       "    .dataframe thead th {\n",
       "        text-align: right;\n",
       "    }\n",
       "</style>\n",
       "<table border=\"1\" class=\"dataframe\">\n",
       "  <thead>\n",
       "    <tr style=\"text-align: right;\">\n",
       "      <th></th>\n",
       "      <th>children</th>\n",
       "      <th>days_employed</th>\n",
       "      <th>dob_years</th>\n",
       "      <th>education</th>\n",
       "      <th>education_id</th>\n",
       "      <th>family_status</th>\n",
       "      <th>family_status_id</th>\n",
       "      <th>gender</th>\n",
       "      <th>income_type</th>\n",
       "      <th>debt</th>\n",
       "      <th>total_income</th>\n",
       "      <th>purpose</th>\n",
       "    </tr>\n",
       "  </thead>\n",
       "  <tbody>\n",
       "    <tr>\n",
       "      <th>0</th>\n",
       "      <td>1</td>\n",
       "      <td>-8437.673028</td>\n",
       "      <td>42</td>\n",
       "      <td>высшее</td>\n",
       "      <td>0</td>\n",
       "      <td>женат / замужем</td>\n",
       "      <td>0</td>\n",
       "      <td>F</td>\n",
       "      <td>сотрудник</td>\n",
       "      <td>0</td>\n",
       "      <td>253875.639453</td>\n",
       "      <td>покупка жилья</td>\n",
       "    </tr>\n",
       "    <tr>\n",
       "      <th>1</th>\n",
       "      <td>1</td>\n",
       "      <td>-4024.803754</td>\n",
       "      <td>36</td>\n",
       "      <td>среднее</td>\n",
       "      <td>1</td>\n",
       "      <td>женат / замужем</td>\n",
       "      <td>0</td>\n",
       "      <td>F</td>\n",
       "      <td>сотрудник</td>\n",
       "      <td>0</td>\n",
       "      <td>112080.014102</td>\n",
       "      <td>приобретение автомобиля</td>\n",
       "    </tr>\n",
       "    <tr>\n",
       "      <th>2</th>\n",
       "      <td>0</td>\n",
       "      <td>-5623.422610</td>\n",
       "      <td>33</td>\n",
       "      <td>Среднее</td>\n",
       "      <td>1</td>\n",
       "      <td>женат / замужем</td>\n",
       "      <td>0</td>\n",
       "      <td>M</td>\n",
       "      <td>сотрудник</td>\n",
       "      <td>0</td>\n",
       "      <td>145885.952297</td>\n",
       "      <td>покупка жилья</td>\n",
       "    </tr>\n",
       "    <tr>\n",
       "      <th>3</th>\n",
       "      <td>3</td>\n",
       "      <td>-4124.747207</td>\n",
       "      <td>32</td>\n",
       "      <td>среднее</td>\n",
       "      <td>1</td>\n",
       "      <td>женат / замужем</td>\n",
       "      <td>0</td>\n",
       "      <td>M</td>\n",
       "      <td>сотрудник</td>\n",
       "      <td>0</td>\n",
       "      <td>267628.550329</td>\n",
       "      <td>дополнительное образование</td>\n",
       "    </tr>\n",
       "    <tr>\n",
       "      <th>4</th>\n",
       "      <td>0</td>\n",
       "      <td>340266.072047</td>\n",
       "      <td>53</td>\n",
       "      <td>среднее</td>\n",
       "      <td>1</td>\n",
       "      <td>гражданский брак</td>\n",
       "      <td>1</td>\n",
       "      <td>F</td>\n",
       "      <td>пенсионер</td>\n",
       "      <td>0</td>\n",
       "      <td>158616.077870</td>\n",
       "      <td>сыграть свадьбу</td>\n",
       "    </tr>\n",
       "    <tr>\n",
       "      <th>5</th>\n",
       "      <td>0</td>\n",
       "      <td>-926.185831</td>\n",
       "      <td>27</td>\n",
       "      <td>высшее</td>\n",
       "      <td>0</td>\n",
       "      <td>гражданский брак</td>\n",
       "      <td>1</td>\n",
       "      <td>M</td>\n",
       "      <td>компаньон</td>\n",
       "      <td>0</td>\n",
       "      <td>255763.565419</td>\n",
       "      <td>покупка жилья</td>\n",
       "    </tr>\n",
       "    <tr>\n",
       "      <th>6</th>\n",
       "      <td>0</td>\n",
       "      <td>-2879.202052</td>\n",
       "      <td>43</td>\n",
       "      <td>высшее</td>\n",
       "      <td>0</td>\n",
       "      <td>женат / замужем</td>\n",
       "      <td>0</td>\n",
       "      <td>F</td>\n",
       "      <td>компаньон</td>\n",
       "      <td>0</td>\n",
       "      <td>240525.971920</td>\n",
       "      <td>операции с жильем</td>\n",
       "    </tr>\n",
       "    <tr>\n",
       "      <th>7</th>\n",
       "      <td>0</td>\n",
       "      <td>-152.779569</td>\n",
       "      <td>50</td>\n",
       "      <td>СРЕДНЕЕ</td>\n",
       "      <td>1</td>\n",
       "      <td>женат / замужем</td>\n",
       "      <td>0</td>\n",
       "      <td>M</td>\n",
       "      <td>сотрудник</td>\n",
       "      <td>0</td>\n",
       "      <td>135823.934197</td>\n",
       "      <td>образование</td>\n",
       "    </tr>\n",
       "    <tr>\n",
       "      <th>8</th>\n",
       "      <td>2</td>\n",
       "      <td>-6929.865299</td>\n",
       "      <td>35</td>\n",
       "      <td>ВЫСШЕЕ</td>\n",
       "      <td>0</td>\n",
       "      <td>гражданский брак</td>\n",
       "      <td>1</td>\n",
       "      <td>F</td>\n",
       "      <td>сотрудник</td>\n",
       "      <td>0</td>\n",
       "      <td>95856.832424</td>\n",
       "      <td>на проведение свадьбы</td>\n",
       "    </tr>\n",
       "    <tr>\n",
       "      <th>9</th>\n",
       "      <td>0</td>\n",
       "      <td>-2188.756445</td>\n",
       "      <td>41</td>\n",
       "      <td>среднее</td>\n",
       "      <td>1</td>\n",
       "      <td>женат / замужем</td>\n",
       "      <td>0</td>\n",
       "      <td>M</td>\n",
       "      <td>сотрудник</td>\n",
       "      <td>0</td>\n",
       "      <td>144425.938277</td>\n",
       "      <td>покупка жилья для семьи</td>\n",
       "    </tr>\n",
       "    <tr>\n",
       "      <th>10</th>\n",
       "      <td>2</td>\n",
       "      <td>-4171.483647</td>\n",
       "      <td>36</td>\n",
       "      <td>высшее</td>\n",
       "      <td>0</td>\n",
       "      <td>женат / замужем</td>\n",
       "      <td>0</td>\n",
       "      <td>M</td>\n",
       "      <td>компаньон</td>\n",
       "      <td>0</td>\n",
       "      <td>113943.491460</td>\n",
       "      <td>покупка недвижимости</td>\n",
       "    </tr>\n",
       "    <tr>\n",
       "      <th>11</th>\n",
       "      <td>0</td>\n",
       "      <td>-792.701887</td>\n",
       "      <td>40</td>\n",
       "      <td>среднее</td>\n",
       "      <td>1</td>\n",
       "      <td>женат / замужем</td>\n",
       "      <td>0</td>\n",
       "      <td>F</td>\n",
       "      <td>сотрудник</td>\n",
       "      <td>0</td>\n",
       "      <td>77069.234271</td>\n",
       "      <td>покупка коммерческой недвижимости</td>\n",
       "    </tr>\n",
       "    <tr>\n",
       "      <th>12</th>\n",
       "      <td>0</td>\n",
       "      <td>NaN</td>\n",
       "      <td>65</td>\n",
       "      <td>среднее</td>\n",
       "      <td>1</td>\n",
       "      <td>гражданский брак</td>\n",
       "      <td>1</td>\n",
       "      <td>M</td>\n",
       "      <td>пенсионер</td>\n",
       "      <td>0</td>\n",
       "      <td>NaN</td>\n",
       "      <td>сыграть свадьбу</td>\n",
       "    </tr>\n",
       "    <tr>\n",
       "      <th>13</th>\n",
       "      <td>0</td>\n",
       "      <td>-1846.641941</td>\n",
       "      <td>54</td>\n",
       "      <td>неоконченное высшее</td>\n",
       "      <td>2</td>\n",
       "      <td>женат / замужем</td>\n",
       "      <td>0</td>\n",
       "      <td>F</td>\n",
       "      <td>сотрудник</td>\n",
       "      <td>0</td>\n",
       "      <td>130458.228857</td>\n",
       "      <td>приобретение автомобиля</td>\n",
       "    </tr>\n",
       "    <tr>\n",
       "      <th>14</th>\n",
       "      <td>0</td>\n",
       "      <td>-1844.956182</td>\n",
       "      <td>56</td>\n",
       "      <td>высшее</td>\n",
       "      <td>0</td>\n",
       "      <td>гражданский брак</td>\n",
       "      <td>1</td>\n",
       "      <td>F</td>\n",
       "      <td>компаньон</td>\n",
       "      <td>1</td>\n",
       "      <td>165127.911772</td>\n",
       "      <td>покупка жилой недвижимости</td>\n",
       "    </tr>\n",
       "    <tr>\n",
       "      <th>15</th>\n",
       "      <td>1</td>\n",
       "      <td>-972.364419</td>\n",
       "      <td>26</td>\n",
       "      <td>среднее</td>\n",
       "      <td>1</td>\n",
       "      <td>женат / замужем</td>\n",
       "      <td>0</td>\n",
       "      <td>F</td>\n",
       "      <td>сотрудник</td>\n",
       "      <td>0</td>\n",
       "      <td>116820.904450</td>\n",
       "      <td>строительство собственной недвижимости</td>\n",
       "    </tr>\n",
       "    <tr>\n",
       "      <th>16</th>\n",
       "      <td>0</td>\n",
       "      <td>-1719.934226</td>\n",
       "      <td>35</td>\n",
       "      <td>среднее</td>\n",
       "      <td>1</td>\n",
       "      <td>женат / замужем</td>\n",
       "      <td>0</td>\n",
       "      <td>F</td>\n",
       "      <td>сотрудник</td>\n",
       "      <td>0</td>\n",
       "      <td>289202.704229</td>\n",
       "      <td>недвижимость</td>\n",
       "    </tr>\n",
       "    <tr>\n",
       "      <th>17</th>\n",
       "      <td>0</td>\n",
       "      <td>-2369.999720</td>\n",
       "      <td>33</td>\n",
       "      <td>высшее</td>\n",
       "      <td>0</td>\n",
       "      <td>гражданский брак</td>\n",
       "      <td>1</td>\n",
       "      <td>M</td>\n",
       "      <td>сотрудник</td>\n",
       "      <td>0</td>\n",
       "      <td>90410.586745</td>\n",
       "      <td>строительство недвижимости</td>\n",
       "    </tr>\n",
       "    <tr>\n",
       "      <th>18</th>\n",
       "      <td>0</td>\n",
       "      <td>400281.136913</td>\n",
       "      <td>53</td>\n",
       "      <td>среднее</td>\n",
       "      <td>1</td>\n",
       "      <td>вдовец / вдова</td>\n",
       "      <td>2</td>\n",
       "      <td>F</td>\n",
       "      <td>пенсионер</td>\n",
       "      <td>0</td>\n",
       "      <td>56823.777243</td>\n",
       "      <td>на покупку подержанного автомобиля</td>\n",
       "    </tr>\n",
       "    <tr>\n",
       "      <th>19</th>\n",
       "      <td>0</td>\n",
       "      <td>-10038.818549</td>\n",
       "      <td>48</td>\n",
       "      <td>СРЕДНЕЕ</td>\n",
       "      <td>1</td>\n",
       "      <td>в разводе</td>\n",
       "      <td>3</td>\n",
       "      <td>F</td>\n",
       "      <td>сотрудник</td>\n",
       "      <td>0</td>\n",
       "      <td>242831.107982</td>\n",
       "      <td>на покупку своего автомобиля</td>\n",
       "    </tr>\n",
       "  </tbody>\n",
       "</table>\n",
       "</div>"
      ],
      "text/plain": [
       "    children  days_employed  dob_years            education  education_id  \\\n",
       "0          1   -8437.673028         42               высшее             0   \n",
       "1          1   -4024.803754         36              среднее             1   \n",
       "2          0   -5623.422610         33              Среднее             1   \n",
       "3          3   -4124.747207         32              среднее             1   \n",
       "4          0  340266.072047         53              среднее             1   \n",
       "5          0    -926.185831         27               высшее             0   \n",
       "6          0   -2879.202052         43               высшее             0   \n",
       "7          0    -152.779569         50              СРЕДНЕЕ             1   \n",
       "8          2   -6929.865299         35               ВЫСШЕЕ             0   \n",
       "9          0   -2188.756445         41              среднее             1   \n",
       "10         2   -4171.483647         36               высшее             0   \n",
       "11         0    -792.701887         40              среднее             1   \n",
       "12         0            NaN         65              среднее             1   \n",
       "13         0   -1846.641941         54  неоконченное высшее             2   \n",
       "14         0   -1844.956182         56               высшее             0   \n",
       "15         1    -972.364419         26              среднее             1   \n",
       "16         0   -1719.934226         35              среднее             1   \n",
       "17         0   -2369.999720         33               высшее             0   \n",
       "18         0  400281.136913         53              среднее             1   \n",
       "19         0  -10038.818549         48              СРЕДНЕЕ             1   \n",
       "\n",
       "       family_status  family_status_id gender income_type  debt  \\\n",
       "0    женат / замужем                 0      F   сотрудник     0   \n",
       "1    женат / замужем                 0      F   сотрудник     0   \n",
       "2    женат / замужем                 0      M   сотрудник     0   \n",
       "3    женат / замужем                 0      M   сотрудник     0   \n",
       "4   гражданский брак                 1      F   пенсионер     0   \n",
       "5   гражданский брак                 1      M   компаньон     0   \n",
       "6    женат / замужем                 0      F   компаньон     0   \n",
       "7    женат / замужем                 0      M   сотрудник     0   \n",
       "8   гражданский брак                 1      F   сотрудник     0   \n",
       "9    женат / замужем                 0      M   сотрудник     0   \n",
       "10   женат / замужем                 0      M   компаньон     0   \n",
       "11   женат / замужем                 0      F   сотрудник     0   \n",
       "12  гражданский брак                 1      M   пенсионер     0   \n",
       "13   женат / замужем                 0      F   сотрудник     0   \n",
       "14  гражданский брак                 1      F   компаньон     1   \n",
       "15   женат / замужем                 0      F   сотрудник     0   \n",
       "16   женат / замужем                 0      F   сотрудник     0   \n",
       "17  гражданский брак                 1      M   сотрудник     0   \n",
       "18    вдовец / вдова                 2      F   пенсионер     0   \n",
       "19         в разводе                 3      F   сотрудник     0   \n",
       "\n",
       "     total_income                                 purpose  \n",
       "0   253875.639453                           покупка жилья  \n",
       "1   112080.014102                 приобретение автомобиля  \n",
       "2   145885.952297                           покупка жилья  \n",
       "3   267628.550329              дополнительное образование  \n",
       "4   158616.077870                         сыграть свадьбу  \n",
       "5   255763.565419                           покупка жилья  \n",
       "6   240525.971920                       операции с жильем  \n",
       "7   135823.934197                             образование  \n",
       "8    95856.832424                   на проведение свадьбы  \n",
       "9   144425.938277                 покупка жилья для семьи  \n",
       "10  113943.491460                    покупка недвижимости  \n",
       "11   77069.234271       покупка коммерческой недвижимости  \n",
       "12            NaN                         сыграть свадьбу  \n",
       "13  130458.228857                 приобретение автомобиля  \n",
       "14  165127.911772              покупка жилой недвижимости  \n",
       "15  116820.904450  строительство собственной недвижимости  \n",
       "16  289202.704229                            недвижимость  \n",
       "17   90410.586745              строительство недвижимости  \n",
       "18   56823.777243      на покупку подержанного автомобиля  \n",
       "19  242831.107982            на покупку своего автомобиля  "
      ]
     },
     "execution_count": 3,
     "metadata": {},
     "output_type": "execute_result"
    }
   ],
   "source": [
    "data.head(20)"
   ]
  },
  {
   "cell_type": "markdown",
   "id": "1c12e233",
   "metadata": {
    "deletable": false,
    "id": "1c12e233"
   },
   "source": [
    "**Задание 3. Выведите основную информацию о датафрейме с помощью метода `info()`.**"
   ]
  },
  {
   "cell_type": "code",
   "execution_count": 4,
   "id": "2b757bca",
   "metadata": {
    "deletable": false,
    "id": "2b757bca",
    "outputId": "15376089-8dad-46c9-b520-c05248d43158"
   },
   "outputs": [
    {
     "name": "stdout",
     "output_type": "stream",
     "text": [
      "<class 'pandas.core.frame.DataFrame'>\n",
      "RangeIndex: 21525 entries, 0 to 21524\n",
      "Data columns (total 12 columns):\n",
      " #   Column            Non-Null Count  Dtype  \n",
      "---  ------            --------------  -----  \n",
      " 0   children          21525 non-null  int64  \n",
      " 1   days_employed     19351 non-null  float64\n",
      " 2   dob_years         21525 non-null  int64  \n",
      " 3   education         21525 non-null  object \n",
      " 4   education_id      21525 non-null  int64  \n",
      " 5   family_status     21525 non-null  object \n",
      " 6   family_status_id  21525 non-null  int64  \n",
      " 7   gender            21525 non-null  object \n",
      " 8   income_type       21525 non-null  object \n",
      " 9   debt              21525 non-null  int64  \n",
      " 10  total_income      19351 non-null  float64\n",
      " 11  purpose           21525 non-null  object \n",
      "dtypes: float64(2), int64(5), object(5)\n",
      "memory usage: 2.0+ MB\n"
     ]
    }
   ],
   "source": [
    "data.info()"
   ]
  },
  {
   "cell_type": "markdown",
   "id": "333ec665",
   "metadata": {
    "deletable": false,
    "id": "333ec665"
   },
   "source": [
    "## Предобработка данных"
   ]
  },
  {
   "cell_type": "markdown",
   "id": "02d92d53",
   "metadata": {
    "deletable": false,
    "id": "02d92d53"
   },
   "source": [
    "### Удаление пропусков"
   ]
  },
  {
   "cell_type": "markdown",
   "id": "cd84967c",
   "metadata": {
    "deletable": false,
    "id": "cd84967c"
   },
   "source": [
    "**Задание 4. Выведите количество пропущенных значений для каждого столбца. Используйте комбинацию двух методов.**"
   ]
  },
  {
   "cell_type": "code",
   "execution_count": 5,
   "id": "7f9b2309",
   "metadata": {
    "deletable": false,
    "id": "7f9b2309",
    "outputId": "81f4d817-781c-465c-ed15-91ce4446810d"
   },
   "outputs": [
    {
     "data": {
      "text/plain": [
       "children               0\n",
       "days_employed       2174\n",
       "dob_years              0\n",
       "education              0\n",
       "education_id           0\n",
       "family_status          0\n",
       "family_status_id       0\n",
       "gender                 0\n",
       "income_type            0\n",
       "debt                   0\n",
       "total_income        2174\n",
       "purpose                0\n",
       "dtype: int64"
      ]
     },
     "execution_count": 5,
     "metadata": {},
     "output_type": "execute_result"
    }
   ],
   "source": [
    "data.isna().sum()"
   ]
  },
  {
   "cell_type": "markdown",
   "id": "db86e27b",
   "metadata": {
    "deletable": false,
    "id": "db86e27b"
   },
   "source": [
    "**Задание 5. В двух столбцах есть пропущенные значения. Один из них — `days_employed`. Пропуски в этом столбце вы обработаете на следующем этапе. Другой столбец с пропущенными значениями — `total_income` — хранит данные о доходах. На сумму дохода сильнее всего влияет тип занятости, поэтому заполнить пропуски в этом столбце нужно медианным значением по каждому типу из столбца `income_type`. Например, у человека с типом занятости `сотрудник` пропуск в столбце `total_income` должен быть заполнен медианным доходом среди всех записей с тем же типом.**"
   ]
  },
  {
   "cell_type": "code",
   "execution_count": 6,
   "id": "42006a93",
   "metadata": {
    "deletable": false,
    "id": "42006a93"
   },
   "outputs": [],
   "source": [
    "for t in data['income_type'].unique():\n",
    "    data.loc[(data['income_type'] == t) & (data['total_income'].isna()), 'total_income'] = \\\n",
    "    data.loc[(data['income_type'] == t), 'total_income'].median()"
   ]
  },
  {
   "cell_type": "markdown",
   "id": "89da5ece",
   "metadata": {
    "deletable": false,
    "id": "89da5ece"
   },
   "source": [
    "### Обработка аномальных значений"
   ]
  },
  {
   "cell_type": "markdown",
   "id": "57964554",
   "metadata": {
    "deletable": false,
    "id": "57964554"
   },
   "source": [
    "**Задание 6. В данных могут встречаться артефакты (аномалии) — значения, которые не отражают действительность и появились по какой-то ошибке. таким артефактом будет отрицательное количество дней трудового стажа в столбце `days_employed`. Для реальных данных это нормально. Обработайте значения в этом столбце: замените все отрицательные значения положительными с помощью метода `abs()`.**"
   ]
  },
  {
   "cell_type": "code",
   "execution_count": 7,
   "id": "f6f055bf",
   "metadata": {
    "deletable": false,
    "id": "f6f055bf"
   },
   "outputs": [],
   "source": [
    "data['days_employed'] = data['days_employed'].abs()"
   ]
  },
  {
   "cell_type": "markdown",
   "id": "6107dd2f",
   "metadata": {
    "deletable": false,
    "id": "6107dd2f"
   },
   "source": [
    "**Задание 7. Для каждого типа занятости выведите медианное значение трудового стажа `days_employed` в днях.**"
   ]
  },
  {
   "cell_type": "code",
   "execution_count": 8,
   "id": "85a5faf6",
   "metadata": {
    "deletable": false,
    "id": "85a5faf6",
    "outputId": "801ef80e-522b-4668-f34e-565af7432bcf"
   },
   "outputs": [
    {
     "data": {
      "text/plain": [
       "income_type\n",
       "безработный        366413.652744\n",
       "в декрете            3296.759962\n",
       "госслужащий          2689.368353\n",
       "компаньон            1547.382223\n",
       "пенсионер          365213.306266\n",
       "предприниматель       520.848083\n",
       "сотрудник            1574.202821\n",
       "студент               578.751554\n",
       "Name: days_employed, dtype: float64"
      ]
     },
     "execution_count": 8,
     "metadata": {},
     "output_type": "execute_result"
    }
   ],
   "source": [
    "data.groupby('income_type')['days_employed'].agg('median')"
   ]
  },
  {
   "cell_type": "markdown",
   "id": "38d1a030",
   "metadata": {
    "deletable": false,
    "id": "38d1a030"
   },
   "source": [
    "У двух типов (безработные и пенсионеры) получатся аномально большие значения. Исправить такие значения сложно, поэтому оставьте их как есть. Тем более этот столбец не понадобится вам для исследования."
   ]
  },
  {
   "cell_type": "markdown",
   "id": "d8a9f147",
   "metadata": {
    "deletable": false,
    "id": "d8a9f147"
   },
   "source": [
    "**Задание 8. Выведите перечень уникальных значений столбца `children`.**"
   ]
  },
  {
   "cell_type": "code",
   "execution_count": 9,
   "id": "ef5056eb",
   "metadata": {
    "deletable": false,
    "id": "ef5056eb",
    "outputId": "6975b15c-7f95-4697-d16d-a0c79b657b03"
   },
   "outputs": [
    {
     "data": {
      "text/plain": [
       "array([ 1,  0,  3,  2, -1,  4, 20,  5])"
      ]
     },
     "execution_count": 9,
     "metadata": {},
     "output_type": "execute_result"
    }
   ],
   "source": [
    "data['children'].unique()"
   ]
  },
  {
   "cell_type": "markdown",
   "id": "40b9ebf2",
   "metadata": {
    "deletable": false,
    "id": "40b9ebf2"
   },
   "source": [
    "**Задание 9. В столбце `children` есть два аномальных значения. Удалите строки, в которых встречаются такие аномальные значения из датафрейма `data`.**"
   ]
  },
  {
   "cell_type": "code",
   "execution_count": 10,
   "id": "3ff9801d",
   "metadata": {
    "deletable": false,
    "id": "3ff9801d"
   },
   "outputs": [],
   "source": [
    "data = data[(data['children'] != -1) & (data['children'] != 20)]"
   ]
  },
  {
   "cell_type": "markdown",
   "id": "bbc4d0ce",
   "metadata": {
    "deletable": false,
    "id": "bbc4d0ce"
   },
   "source": [
    "**Задание 10. Ещё раз выведите перечень уникальных значений столбца `children`, чтобы убедиться, что артефакты удалены.**"
   ]
  },
  {
   "cell_type": "code",
   "execution_count": 11,
   "id": "ad4fa8b7",
   "metadata": {
    "deletable": false,
    "id": "ad4fa8b7",
    "outputId": "b2097101-d49d-44d9-901b-32a65c9463d1"
   },
   "outputs": [
    {
     "data": {
      "text/plain": [
       "array([1, 0, 3, 2, 4, 5])"
      ]
     },
     "execution_count": 11,
     "metadata": {},
     "output_type": "execute_result"
    }
   ],
   "source": [
    "data['children'].unique()"
   ]
  },
  {
   "cell_type": "markdown",
   "id": "75440b63",
   "metadata": {
    "deletable": false,
    "id": "75440b63"
   },
   "source": [
    "### Удаление пропусков (продолжение)"
   ]
  },
  {
   "cell_type": "markdown",
   "id": "f4ea573f",
   "metadata": {
    "deletable": false,
    "id": "f4ea573f"
   },
   "source": [
    "**Задание 11. Заполните пропуски в столбце `days_employed` медианными значениями по каждого типа занятости `income_type`.**"
   ]
  },
  {
   "cell_type": "code",
   "execution_count": 12,
   "id": "af6b1a7e",
   "metadata": {
    "deletable": false,
    "id": "af6b1a7e"
   },
   "outputs": [],
   "source": [
    "for t in data['income_type'].unique():\n",
    "    data.loc[(data['income_type'] == t) & (data['days_employed'].isna()), 'days_employed'] = \\\n",
    "    data.loc[(data['income_type'] == t), 'days_employed'].median()"
   ]
  },
  {
   "cell_type": "markdown",
   "id": "2753f40d",
   "metadata": {
    "deletable": false,
    "id": "2753f40d"
   },
   "source": [
    "**Задание 12. Убедитесь, что все пропуски заполнены. Проверьте себя и ещё раз выведите количество пропущенных значений для каждого столбца с помощью двух методов.**"
   ]
  },
  {
   "cell_type": "code",
   "execution_count": 13,
   "id": "55f78bc2",
   "metadata": {
    "deletable": false,
    "id": "55f78bc2",
    "outputId": "8da1e4e1-358e-4e87-98c9-f261bce0a7b2"
   },
   "outputs": [
    {
     "data": {
      "text/plain": [
       "children            0\n",
       "days_employed       0\n",
       "dob_years           0\n",
       "education           0\n",
       "education_id        0\n",
       "family_status       0\n",
       "family_status_id    0\n",
       "gender              0\n",
       "income_type         0\n",
       "debt                0\n",
       "total_income        0\n",
       "purpose             0\n",
       "dtype: int64"
      ]
     },
     "execution_count": 13,
     "metadata": {},
     "output_type": "execute_result"
    }
   ],
   "source": [
    "data.isna().sum()"
   ]
  },
  {
   "cell_type": "markdown",
   "id": "ddc81e43",
   "metadata": {
    "deletable": false,
    "id": "ddc81e43"
   },
   "source": [
    "### Изменение типов данных"
   ]
  },
  {
   "cell_type": "markdown",
   "id": "42d19d24",
   "metadata": {
    "deletable": false,
    "id": "42d19d24"
   },
   "source": [
    "**Задание 13. Замените вещественный тип данных в столбце `total_income` на целочисленный с помощью метода `astype()`.**"
   ]
  },
  {
   "cell_type": "code",
   "execution_count": 14,
   "id": "920b65ad",
   "metadata": {
    "deletable": false,
    "id": "920b65ad"
   },
   "outputs": [],
   "source": [
    "data['total_income'] = data['total_income'].astype(int)"
   ]
  },
  {
   "cell_type": "markdown",
   "id": "80c420ba",
   "metadata": {
    "deletable": false,
    "id": "80c420ba"
   },
   "source": [
    "### Обработка дубликатов"
   ]
  },
  {
   "cell_type": "markdown",
   "id": "dc587695",
   "metadata": {
    "deletable": false,
    "id": "dc587695"
   },
   "source": [
    "**Задание 14. Выведите на экран количество строк-дубликатов в данных. Если такие строки присутствуют, удалите их.**"
   ]
  },
  {
   "cell_type": "code",
   "execution_count": 15,
   "id": "3ee445e4",
   "metadata": {
    "deletable": false,
    "id": "3ee445e4",
    "outputId": "9684deba-1934-42d1-99e1-cda61740f822"
   },
   "outputs": [
    {
     "data": {
      "text/plain": [
       "54"
      ]
     },
     "execution_count": 15,
     "metadata": {},
     "output_type": "execute_result"
    }
   ],
   "source": [
    "data.duplicated().sum()"
   ]
  },
  {
   "cell_type": "code",
   "execution_count": 16,
   "id": "8575fe05",
   "metadata": {
    "deletable": false,
    "id": "8575fe05"
   },
   "outputs": [],
   "source": [
    "data = data.drop_duplicates()"
   ]
  },
  {
   "cell_type": "markdown",
   "id": "9771a76c",
   "metadata": {
    "deletable": false,
    "id": "9771a76c"
   },
   "source": [
    "**Задание 15. Обработайте неявные дубликаты в столбце `education`. В этом столбце есть одни и те же значения, но записанные по-разному: с использованием заглавных и строчных букв. Приведите их к нижнему регистру. Проверьте остальные столбцы.**"
   ]
  },
  {
   "cell_type": "code",
   "execution_count": 17,
   "id": "a9f8e2bf",
   "metadata": {
    "deletable": false,
    "id": "a9f8e2bf"
   },
   "outputs": [],
   "source": [
    "data['education'] = data['education'].str.lower()"
   ]
  },
  {
   "cell_type": "markdown",
   "id": "9904cf55",
   "metadata": {
    "deletable": false,
    "id": "9904cf55"
   },
   "source": [
    "### Категоризация данных"
   ]
  },
  {
   "cell_type": "markdown",
   "id": "72fcc8a2",
   "metadata": {
    "deletable": false,
    "id": "72fcc8a2"
   },
   "source": [
    "**Задание 16. На основании диапазонов, указанных ниже, создайте в датафрейме `data` столбец `total_income_category` с категориями:**\n",
    "\n",
    "- 0–30000 — `'E'`;\n",
    "- 30001–50000 — `'D'`;\n",
    "- 50001–200000 — `'C'`;\n",
    "- 200001–1000000 — `'B'`;\n",
    "- 1000001 и выше — `'A'`.\n",
    "\n",
    "\n",
    "**Например, кредитополучателю с доходом 25000 нужно назначить категорию `'E'`, а клиенту, получающему 235000, — `'B'`. Используйте собственную функцию с именем `categorize_income()` и метод `apply()`.**"
   ]
  },
  {
   "cell_type": "code",
   "execution_count": 18,
   "id": "e1771346",
   "metadata": {
    "deletable": false,
    "id": "e1771346"
   },
   "outputs": [],
   "source": [
    "def categorize_income(income):\n",
    "    try:\n",
    "        if 0 <= income <= 30000:\n",
    "            return 'E'\n",
    "        elif 30001 <= income <= 50000:\n",
    "            return 'D'\n",
    "        elif 50001 <= income <= 200000:\n",
    "            return 'C'\n",
    "        elif 200001 <= income <= 1000000:\n",
    "            return 'B'\n",
    "        elif income >= 1000001:\n",
    "            return 'A'\n",
    "    except:\n",
    "        pass"
   ]
  },
  {
   "cell_type": "code",
   "execution_count": 19,
   "id": "d5f3586d",
   "metadata": {
    "deletable": false,
    "id": "d5f3586d"
   },
   "outputs": [],
   "source": [
    "data['total_income_category'] = data['total_income'].apply(categorize_income)"
   ]
  },
  {
   "cell_type": "markdown",
   "id": "dde49b5c",
   "metadata": {
    "deletable": false,
    "id": "dde49b5c"
   },
   "source": [
    "**Задание 17. Выведите на экран перечень уникальных целей взятия кредита из столбца `purpose`.**"
   ]
  },
  {
   "cell_type": "code",
   "execution_count": 20,
   "id": "f67ce9b3",
   "metadata": {
    "deletable": false,
    "id": "f67ce9b3",
    "outputId": "673c12d9-7d7e-4ae0-9812-c622c89dd244"
   },
   "outputs": [
    {
     "data": {
      "text/plain": [
       "array(['покупка жилья', 'приобретение автомобиля',\n",
       "       'дополнительное образование', 'сыграть свадьбу',\n",
       "       'операции с жильем', 'образование', 'на проведение свадьбы',\n",
       "       'покупка жилья для семьи', 'покупка недвижимости',\n",
       "       'покупка коммерческой недвижимости', 'покупка жилой недвижимости',\n",
       "       'строительство собственной недвижимости', 'недвижимость',\n",
       "       'строительство недвижимости', 'на покупку подержанного автомобиля',\n",
       "       'на покупку своего автомобиля',\n",
       "       'операции с коммерческой недвижимостью',\n",
       "       'строительство жилой недвижимости', 'жилье',\n",
       "       'операции со своей недвижимостью', 'автомобили',\n",
       "       'заняться образованием', 'сделка с подержанным автомобилем',\n",
       "       'получение образования', 'автомобиль', 'свадьба',\n",
       "       'получение дополнительного образования', 'покупка своего жилья',\n",
       "       'операции с недвижимостью', 'получение высшего образования',\n",
       "       'свой автомобиль', 'сделка с автомобилем',\n",
       "       'профильное образование', 'высшее образование',\n",
       "       'покупка жилья для сдачи', 'на покупку автомобиля', 'ремонт жилью',\n",
       "       'заняться высшим образованием'], dtype=object)"
      ]
     },
     "execution_count": 20,
     "metadata": {},
     "output_type": "execute_result"
    }
   ],
   "source": [
    "data['purpose'].unique()"
   ]
  },
  {
   "cell_type": "markdown",
   "id": "85d0aef0",
   "metadata": {
    "deletable": false,
    "id": "85d0aef0"
   },
   "source": [
    "**Задание 18. Создайте функцию, которая на основании данных из столбца `purpose` сформирует новый столбец `purpose_category`, в который войдут следующие категории:**\n",
    "\n",
    "- `'операции с автомобилем'`,\n",
    "- `'операции с недвижимостью'`,\n",
    "- `'проведение свадьбы'`,\n",
    "- `'получение образования'`.\n",
    "\n",
    "**Например, если в столбце `purpose` находится подстрока `'на покупку автомобиля'`, то в столбце `purpose_category` должна появиться строка `'операции с автомобилем'`.**\n",
    "\n",
    "**Используйте собственную функцию с именем `categorize_purpose()` и метод `apply()`. Изучите данные в столбце `purpose` и определите, какие подстроки помогут вам правильно определить категорию.**"
   ]
  },
  {
   "cell_type": "code",
   "execution_count": 21,
   "id": "e149fab4",
   "metadata": {
    "deletable": false,
    "id": "e149fab4"
   },
   "outputs": [],
   "source": [
    "def categorize_purpose(row):\n",
    "    try:\n",
    "        if 'автом' in row:\n",
    "            return 'операции с автомобилем'\n",
    "        elif 'жил' in row or 'недвиж' in row:\n",
    "            return 'операции с недвижимостью'\n",
    "        elif 'свад' in row:\n",
    "            return 'проведение свадьбы'\n",
    "        elif 'образов' in row:\n",
    "            return 'получение образования'\n",
    "    except:\n",
    "        return 'нет категории'"
   ]
  },
  {
   "cell_type": "code",
   "execution_count": 22,
   "id": "bf36e69b",
   "metadata": {
    "deletable": false,
    "id": "bf36e69b"
   },
   "outputs": [
    {
     "name": "stdout",
     "output_type": "stream",
     "text": [
      "       children  days_employed  dob_years education  education_id  \\\n",
      "0             1    8437.673028         42    высшее             0   \n",
      "1             1    4024.803754         36   среднее             1   \n",
      "2             0    5623.422610         33   среднее             1   \n",
      "3             3    4124.747207         32   среднее             1   \n",
      "4             0  340266.072047         53   среднее             1   \n",
      "...         ...            ...        ...       ...           ...   \n",
      "21520         1    4529.316663         43   среднее             1   \n",
      "21521         0  343937.404131         67   среднее             1   \n",
      "21522         1    2113.346888         38   среднее             1   \n",
      "21523         3    3112.481705         38   среднее             1   \n",
      "21524         2    1984.507589         40   среднее             1   \n",
      "\n",
      "          family_status  family_status_id gender income_type  debt  \\\n",
      "0       женат / замужем                 0      F   сотрудник     0   \n",
      "1       женат / замужем                 0      F   сотрудник     0   \n",
      "2       женат / замужем                 0      M   сотрудник     0   \n",
      "3       женат / замужем                 0      M   сотрудник     0   \n",
      "4      гражданский брак                 1      F   пенсионер     0   \n",
      "...                 ...               ...    ...         ...   ...   \n",
      "21520  гражданский брак                 1      F   компаньон     0   \n",
      "21521   женат / замужем                 0      F   пенсионер     0   \n",
      "21522  гражданский брак                 1      M   сотрудник     1   \n",
      "21523   женат / замужем                 0      M   сотрудник     1   \n",
      "21524   женат / замужем                 0      F   сотрудник     0   \n",
      "\n",
      "       total_income                       purpose total_income_category  \\\n",
      "0            253875                 покупка жилья                     B   \n",
      "1            112080       приобретение автомобиля                     C   \n",
      "2            145885                 покупка жилья                     C   \n",
      "3            267628    дополнительное образование                     B   \n",
      "4            158616               сыграть свадьбу                     C   \n",
      "...             ...                           ...                   ...   \n",
      "21520        224791             операции с жильем                     B   \n",
      "21521        155999          сделка с автомобилем                     C   \n",
      "21522         89672                  недвижимость                     C   \n",
      "21523        244093  на покупку своего автомобиля                     B   \n",
      "21524         82047         на покупку автомобиля                     C   \n",
      "\n",
      "               purpose_category  \n",
      "0      операции с недвижимостью  \n",
      "1        операции с автомобилем  \n",
      "2      операции с недвижимостью  \n",
      "3         получение образования  \n",
      "4            проведение свадьбы  \n",
      "...                         ...  \n",
      "21520  операции с недвижимостью  \n",
      "21521    операции с автомобилем  \n",
      "21522  операции с недвижимостью  \n",
      "21523    операции с автомобилем  \n",
      "21524    операции с автомобилем  \n",
      "\n",
      "[21348 rows x 14 columns]\n"
     ]
    }
   ],
   "source": [
    "data['purpose_category'] = data['purpose'].apply(categorize_purpose)\n",
    "print(data)"
   ]
  },
  {
   "cell_type": "markdown",
   "id": "09b242bf",
   "metadata": {
    "deletable": false,
    "editable": false,
    "id": "09b242bf"
   },
   "source": [
    "## Исследуйте данные и ответьте на вопросы"
   ]
  },
  {
   "cell_type": "markdown",
   "id": "c5d66278",
   "metadata": {
    "deletable": false,
    "editable": false,
    "id": "c5d66278"
   },
   "source": [
    "**Задание 19. Есть ли зависимость между количеством детей и возвратом кредита в срок?**"
   ]
  },
  {
   "cell_type": "code",
   "execution_count": 23,
   "id": "ab3c115f",
   "metadata": {
    "id": "2cacfc4a"
   },
   "outputs": [
    {
     "name": "stdout",
     "output_type": "stream",
     "text": [
      "          count_children  sum_children  mean_debt\n",
      "children                                         \n",
      "4                     41             4   0.097561\n",
      "2                   2052           194   0.094542\n",
      "1                   4809           444   0.092327\n",
      "3                    330            27   0.081818\n",
      "0                  14107          1063   0.075353\n",
      "5                      9             0   0.000000\n"
     ]
    }
   ],
   "source": [
    "#children_to_debt = pd.DataFrame()\n",
    "#children_to_debt['count_children'] = data.groupby('children')['debt'].count()\n",
    "#children_to_debt['sum_children'] = data.groupby('children')['debt'].sum()\n",
    "#children_to_debt['mean_debt'] = data.groupby('children')['debt'].mean()\n",
    "#print(children_to_debt.sort_values('mean_debt', ascending=False))\n",
    "\n",
    "\n",
    "data_pivot = data.pivot_table(index = 'children', values = 'debt', aggfunc=['count', 'sum', 'mean'])\n",
    "data_pivot.columns = ['count_children', 'sum_children', 'mean_debt']\n",
    "#data_pivot.info()\n",
    "#data_pivot.sort_values('mean_debt', ascending=False) не работает\n",
    "d = data_pivot\n",
    "print(d.sort_values('mean_debt', ascending=False))"
   ]
  },
  {
   "cell_type": "markdown",
   "id": "3a6b99ec",
   "metadata": {
    "deletable": false,
    "id": "3a6b99ec"
   },
   "source": [
    "**Вывод:** Люди без детей возвращают кредит в срок в среднем чаще, чем люди с детьми.\n",
    "Четкой зависимости между количеством детей и возвратом кредита в срок нет из-за группы заемщиков с количеством детей, равным 3, иначе можно было бы сделать вывод, что чем больше детей у заемщика, тем с большей вероятностью он просрочит выплату по кредиту.\n"
   ]
  },
  {
   "cell_type": "code",
   "execution_count": 24,
   "id": "1c8d7eef",
   "metadata": {},
   "outputs": [
    {
     "data": {
      "text/html": [
       "<div>\n",
       "<style scoped>\n",
       "    .dataframe tbody tr th:only-of-type {\n",
       "        vertical-align: middle;\n",
       "    }\n",
       "\n",
       "    .dataframe tbody tr th {\n",
       "        vertical-align: top;\n",
       "    }\n",
       "\n",
       "    .dataframe thead tr th {\n",
       "        text-align: left;\n",
       "    }\n",
       "\n",
       "    .dataframe thead tr:last-of-type th {\n",
       "        text-align: right;\n",
       "    }\n",
       "</style>\n",
       "<table border=\"1\" class=\"dataframe\">\n",
       "  <thead>\n",
       "    <tr>\n",
       "      <th></th>\n",
       "      <th>count</th>\n",
       "      <th>sum</th>\n",
       "      <th>mean</th>\n",
       "    </tr>\n",
       "    <tr>\n",
       "      <th></th>\n",
       "      <th>debt</th>\n",
       "      <th>debt</th>\n",
       "      <th>debt</th>\n",
       "    </tr>\n",
       "    <tr>\n",
       "      <th>children</th>\n",
       "      <th></th>\n",
       "      <th></th>\n",
       "      <th></th>\n",
       "    </tr>\n",
       "  </thead>\n",
       "  <tbody>\n",
       "    <tr>\n",
       "      <th>4</th>\n",
       "      <td>41</td>\n",
       "      <td>4</td>\n",
       "      <td>0.097561</td>\n",
       "    </tr>\n",
       "    <tr>\n",
       "      <th>2</th>\n",
       "      <td>2052</td>\n",
       "      <td>194</td>\n",
       "      <td>0.094542</td>\n",
       "    </tr>\n",
       "    <tr>\n",
       "      <th>1</th>\n",
       "      <td>4809</td>\n",
       "      <td>444</td>\n",
       "      <td>0.092327</td>\n",
       "    </tr>\n",
       "    <tr>\n",
       "      <th>3</th>\n",
       "      <td>330</td>\n",
       "      <td>27</td>\n",
       "      <td>0.081818</td>\n",
       "    </tr>\n",
       "    <tr>\n",
       "      <th>0</th>\n",
       "      <td>14107</td>\n",
       "      <td>1063</td>\n",
       "      <td>0.075353</td>\n",
       "    </tr>\n",
       "    <tr>\n",
       "      <th>5</th>\n",
       "      <td>9</td>\n",
       "      <td>0</td>\n",
       "      <td>0.000000</td>\n",
       "    </tr>\n",
       "  </tbody>\n",
       "</table>\n",
       "</div>"
      ],
      "text/plain": [
       "          count   sum      mean\n",
       "           debt  debt      debt\n",
       "children                       \n",
       "4            41     4  0.097561\n",
       "2          2052   194  0.094542\n",
       "1          4809   444  0.092327\n",
       "3           330    27  0.081818\n",
       "0         14107  1063  0.075353\n",
       "5             9     0  0.000000"
      ]
     },
     "execution_count": 24,
     "metadata": {},
     "output_type": "execute_result"
    }
   ],
   "source": [
    "data.pivot_table(index = 'children', values = 'debt', aggfunc=['count', 'sum', 'mean']).sort_values(by=('mean', 'debt'), ascending=False)"
   ]
  },
  {
   "cell_type": "code",
   "execution_count": 25,
   "id": "d603dffe",
   "metadata": {},
   "outputs": [
    {
     "data": {
      "text/plain": [
       "<AxesSubplot:title={'center':'Зависимость возврата кредита от количества детей'}, xlabel='children', ylabel='mean_debt'>"
      ]
     },
     "execution_count": 25,
     "metadata": {},
     "output_type": "execute_result"
    },
    {
     "data": {
      "image/png": "[encoded data removed]",
      "text/plain": [
       "<Figure size 432x288 with 1 Axes>"
      ]
     },
     "metadata": {
      "needs_background": "light"
     },
     "output_type": "display_data"
    }
   ],
   "source": [
    "d.reset_index().plot(x='children', y='mean_debt', kind='scatter', title = 'Зависимость возврата кредита от количества детей') "
   ]
  },
  {
   "cell_type": "markdown",
   "id": "97be82ca",
   "metadata": {
    "deletable": false,
    "editable": false,
    "id": "97be82ca"
   },
   "source": [
    "**Задание 20. Есть ли зависимость между семейным положением и возвратом кредита в срок?**"
   ]
  },
  {
   "cell_type": "code",
   "execution_count": 26,
   "id": "dc3f7ee8",
   "metadata": {
    "id": "dc3f7ee8"
   },
   "outputs": [
    {
     "name": "stdout",
     "output_type": "stream",
     "text": [
      "                       count_family_status  sum_family_status  mean_debt\n",
      "family_status                                                           \n",
      "Не женат / не замужем                 2796                273   0.097639\n",
      "гражданский брак                      4146                385   0.092861\n",
      "женат / замужем                      12266                927   0.075575\n",
      "в разводе                             1189                 84   0.070648\n",
      "вдовец / вдова                         951                 63   0.066246\n"
     ]
    }
   ],
   "source": [
    "family_status_to_debt = pd.DataFrame()\n",
    "family_status_to_debt['count_family_status'] = data.groupby('family_status')['debt'].count()\n",
    "family_status_to_debt['sum_family_status'] = data.groupby('family_status')['debt'].sum()\n",
    "family_status_to_debt['mean_debt'] = data.groupby('family_status')['debt'].mean()\n",
    "print(family_status_to_debt.sort_values('mean_debt', ascending=False))"
   ]
  },
  {
   "cell_type": "markdown",
   "id": "1cef7837",
   "metadata": {
    "deletable": false,
    "id": "1cef7837"
   },
   "source": [
    "**Вывод:** Зависимость между семейным положением и возвратом кредита в срок есть.\n",
    "Не бывшие в браке люди или люди живущие в гражданском браке в среднем имеют просрочки по кредиту чаще других групп, люди состоящие в браке в среднем имеют просрочки по кредиту реже, еще реже имеют просрочки те, кто был в браке, но в настоящее время развелся или овдовел."
   ]
  },
  {
   "cell_type": "markdown",
   "id": "1e8b2fca",
   "metadata": {
    "deletable": false,
    "editable": false,
    "id": "1e8b2fca"
   },
   "source": [
    "**Задание 21. Есть ли зависимость между уровнем дохода и возвратом кредита в срок?**"
   ]
  },
  {
   "cell_type": "code",
   "execution_count": 27,
   "id": "cd7e3720",
   "metadata": {
    "id": "cd7e3720"
   },
   "outputs": [
    {
     "name": "stdout",
     "output_type": "stream",
     "text": [
      "                       count_total_income  sum_total_income  mean_debt\n",
      "total_income_category                                                 \n",
      "E                                      22                 2   0.090909\n",
      "C                                   15938              1353   0.084891\n",
      "A                                      25                 2   0.080000\n",
      "B                                    5014               354   0.070602\n",
      "D                                     349                21   0.060172\n"
     ]
    }
   ],
   "source": [
    "total_income_to_debt = pd.DataFrame()\n",
    "total_income_to_debt['count_total_income'] = data.groupby('total_income_category')['debt'].count()\n",
    "total_income_to_debt['sum_total_income'] = data.groupby('total_income_category')['debt'].sum()\n",
    "total_income_to_debt['mean_debt'] = data.groupby('total_income_category')['debt'].mean()\n",
    "print(total_income_to_debt.sort_values('mean_debt',ascending=False))"
   ]
  },
  {
   "cell_type": "markdown",
   "id": "e8593def",
   "metadata": {
    "deletable": false,
    "id": "e8593def"
   },
   "source": [
    "**Вывод:** \n",
    "\n",
    "Для групп заемщиков с уровнями дохода E (до 30000) и А (от 1000000) выборка не репрезентативна, поэтому выводы по ним делать не будем.\n",
    "    \n",
    "Заемщики с небольшим уровнем дохода D (от 30000 до 50000) более ответственно относятся к погашению кредитов и имеют просрочки реже, чем заемщики со среднием уровнем дохода С (от 50000 до 200000).\n",
    "    \n",
    "Также заемщики в выоским уровнем дохода В (от 200000 до 1000000) более ответственны, чем заемщики со средним уровнем дохода С.\n",
    "    \n",
    "То есть можно сделать вывод, что заемщики со средним уровнем дохода С (50000 - 200000) - самая безответственная категория."
   ]
  },
  {
   "cell_type": "markdown",
   "id": "99ecbd1f",
   "metadata": {
    "deletable": false,
    "editable": false,
    "id": "99ecbd1f"
   },
   "source": [
    "**Задание 22. Как разные цели кредита влияют на его возврат в срок?**"
   ]
  },
  {
   "cell_type": "code",
   "execution_count": 28,
   "id": "2b687290",
   "metadata": {
    "id": "2b687290"
   },
   "outputs": [
    {
     "name": "stdout",
     "output_type": "stream",
     "text": [
      "                          count_purpose  sum_purpose  mean_debt\n",
      "purpose_category                                               \n",
      "операции с автомобилем             4281          400   0.093436\n",
      "получение образования              3989          369   0.092504\n",
      "проведение свадьбы                 2324          183   0.078744\n",
      "операции с недвижимостью          10754          780   0.072531\n"
     ]
    }
   ],
   "source": [
    "purpose_to_debt = pd.DataFrame()\n",
    "purpose_to_debt['count_purpose'] = data.groupby('purpose_category')['debt'].count()\n",
    "purpose_to_debt['sum_purpose'] = data.groupby('purpose_category')['debt'].sum()\n",
    "purpose_to_debt['mean_debt'] = data.groupby('purpose_category')['debt'].mean()\n",
    "print(purpose_to_debt.sort_values('mean_debt',ascending=False))"
   ]
  },
  {
   "cell_type": "markdown",
   "id": "b4bb2ce6",
   "metadata": {
    "deletable": false,
    "id": "b4bb2ce6"
   },
   "source": [
    "**Вывод:** Чаще всего просрочки по кредиту имеют заемщики с целями кредита, связанным с операциями с автомобилем и получением образования. Заемщики с целью кредита - проведение свадьбы - имеют просрочку по кредиту в среднем реже, еще реже просрочка по кредитам у заемщиков с целью кредита - операции с недвижимостью. "
   ]
  },
  {
   "cell_type": "markdown",
   "id": "09c3ac4c",
   "metadata": {
    "deletable": false,
    "editable": false,
    "id": "09c3ac4c"
   },
   "source": [
    "**Задание 23. Приведите возможные причины появления пропусков в исходных данных.**"
   ]
  },
  {
   "cell_type": "markdown",
   "id": "9da2ceda",
   "metadata": {
    "deletable": false,
    "id": "9da2ceda"
   },
   "source": [
    "*Ответ:* Заемщик не указал о себе какие-нибудь сведения умышленно или неумышленно, или автоматизированная система сбора информации дала сбой."
   ]
  },
  {
   "cell_type": "markdown",
   "id": "7b0487d6",
   "metadata": {
    "deletable": false,
    "editable": false,
    "id": "7b0487d6"
   },
   "source": [
    "**Задание 24. Объясните, почему заполнить пропуски медианным значением — лучшее решение для количественных переменных.**"
   ]
  },
  {
   "cell_type": "markdown",
   "id": "7ecf2b8e",
   "metadata": {
    "deletable": false,
    "id": "7ecf2b8e"
   },
   "source": [
    "*Ответ:* Медиана проедпочтительнее, т.к среднее значение некорректно характеризует данные, когда некоторые значения сильно выделяются среди большинства."
   ]
  },
  {
   "cell_type": "markdown",
   "id": "6db5255a",
   "metadata": {
    "deletable": false,
    "editable": false,
    "id": "6db5255a"
   },
   "source": [
    "## Общий вывод."
   ]
  },
  {
   "cell_type": "markdown",
   "id": "bad65432",
   "metadata": {
    "id": "bad65432"
   },
   "source": [
    "Бездетные заемщики реже просрачивают оплату по кредиту, чем заемщики с детьми.\n",
    "Люди, состоящие в браке, реже допусткают просрочки, чем холостые или живущие в гражданском браке. Люди, бывшие в браке, имеют просрочки еще реже, чем люди состоящие в браке в данный момент.\n",
    "Чаще всего просрочки по кредиту имеют заемщики с целями кредита, связанным с операциями с автомобилем и получением образования."
   ]
  },
  {
   "cell_type": "code",
   "execution_count": null,
   "id": "6846264f",
   "metadata": {},
   "outputs": [],
   "source": []
  }
 ],
 "metadata": {
  "ExecuteTimeLog": [
   {
    "duration": 621,
    "start_time": "2022-08-01T11:58:14.792Z"
   },
   {
    "duration": 28,
    "start_time": "2022-08-01T11:58:15.417Z"
   },
   {
    "duration": 17,
    "start_time": "2022-08-01T11:58:15.446Z"
   },
   {
    "duration": 11,
    "start_time": "2022-08-01T11:58:15.466Z"
   },
   {
    "duration": 56,
    "start_time": "2022-08-01T11:58:15.478Z"
   },
   {
    "duration": 4,
    "start_time": "2022-08-01T11:58:15.536Z"
   },
   {
    "duration": 14,
    "start_time": "2022-08-01T11:58:15.541Z"
   },
   {
    "duration": 5,
    "start_time": "2022-08-01T11:58:15.557Z"
   },
   {
    "duration": 8,
    "start_time": "2022-08-01T11:58:15.563Z"
   },
   {
    "duration": 4,
    "start_time": "2022-08-01T11:58:15.576Z"
   },
   {
    "duration": 36,
    "start_time": "2022-08-01T11:58:15.604Z"
   },
   {
    "duration": 10,
    "start_time": "2022-08-01T11:58:15.642Z"
   },
   {
    "duration": 4,
    "start_time": "2022-08-01T11:58:15.654Z"
   },
   {
    "duration": 25,
    "start_time": "2022-08-01T11:58:15.660Z"
   },
   {
    "duration": 34,
    "start_time": "2022-08-01T11:58:15.687Z"
   },
   {
    "duration": 12,
    "start_time": "2022-08-01T11:58:15.723Z"
   },
   {
    "duration": 7,
    "start_time": "2022-08-01T11:58:15.737Z"
   },
   {
    "duration": 16,
    "start_time": "2022-08-01T11:58:15.745Z"
   },
   {
    "duration": 12,
    "start_time": "2022-08-01T11:58:15.762Z"
   },
   {
    "duration": 4,
    "start_time": "2022-08-01T11:58:15.776Z"
   },
   {
    "duration": 9,
    "start_time": "2022-08-01T11:58:15.805Z"
   },
   {
    "duration": 5,
    "start_time": "2022-08-01T11:58:15.816Z"
   },
   {
    "duration": 5,
    "start_time": "2022-08-01T11:58:15.823Z"
   },
   {
    "duration": 8,
    "start_time": "2022-08-01T11:58:15.830Z"
   },
   {
    "duration": 7,
    "start_time": "2022-08-01T11:58:15.840Z"
   },
   {
    "duration": 8,
    "start_time": "2022-08-01T12:07:49.907Z"
   },
   {
    "duration": 19,
    "start_time": "2022-08-01T12:08:01.869Z"
   },
   {
    "duration": 6,
    "start_time": "2022-08-01T12:16:16.147Z"
   },
   {
    "duration": 6,
    "start_time": "2022-08-01T12:17:53.878Z"
   },
   {
    "duration": 85,
    "start_time": "2022-08-01T12:18:07.157Z"
   },
   {
    "duration": 6,
    "start_time": "2022-08-01T12:18:12.072Z"
   },
   {
    "duration": 6,
    "start_time": "2022-08-01T12:23:48.106Z"
   },
   {
    "duration": 1114,
    "start_time": "2022-08-01T12:25:52.269Z"
   },
   {
    "duration": 16,
    "start_time": "2022-08-01T12:26:03.748Z"
   },
   {
    "duration": 18,
    "start_time": "2022-08-01T12:32:06.474Z"
   },
   {
    "duration": 942,
    "start_time": "2022-08-01T12:32:32.236Z"
   },
   {
    "duration": 14,
    "start_time": "2022-08-01T12:33:56.628Z"
   },
   {
    "duration": 11,
    "start_time": "2022-08-01T12:34:01.512Z"
   },
   {
    "duration": 12,
    "start_time": "2022-08-01T12:34:06.334Z"
   },
   {
    "duration": 11,
    "start_time": "2022-08-01T12:34:38.363Z"
   },
   {
    "duration": 13,
    "start_time": "2022-08-01T12:35:34.005Z"
   },
   {
    "duration": 6,
    "start_time": "2022-08-01T12:45:17.210Z"
   },
   {
    "duration": 943,
    "start_time": "2022-08-01T12:49:22.468Z"
   },
   {
    "duration": 11,
    "start_time": "2022-08-01T13:02:04.458Z"
   },
   {
    "duration": 12,
    "start_time": "2022-08-01T13:04:28.606Z"
   },
   {
    "duration": 13,
    "start_time": "2022-08-01T13:04:56.513Z"
   },
   {
    "duration": 13,
    "start_time": "2022-08-01T13:05:07.162Z"
   },
   {
    "duration": 13,
    "start_time": "2022-08-01T13:15:07.197Z"
   },
   {
    "duration": 12,
    "start_time": "2022-08-01T13:16:37.416Z"
   },
   {
    "duration": 13,
    "start_time": "2022-08-01T13:17:17.673Z"
   },
   {
    "duration": 1405,
    "start_time": "2022-08-01T13:36:40.902Z"
   },
   {
    "duration": 154,
    "start_time": "2022-08-01T13:37:22.314Z"
   },
   {
    "duration": 1285,
    "start_time": "2022-08-01T13:38:05.218Z"
   },
   {
    "duration": 1502,
    "start_time": "2022-08-01T13:38:59.002Z"
   },
   {
    "duration": 23,
    "start_time": "2022-08-01T13:41:13.248Z"
   },
   {
    "duration": 20,
    "start_time": "2022-08-01T13:41:25.984Z"
   },
   {
    "duration": 20,
    "start_time": "2022-08-01T13:41:45.488Z"
   },
   {
    "duration": 28,
    "start_time": "2022-08-01T13:42:46.064Z"
   },
   {
    "duration": 19,
    "start_time": "2022-08-01T13:43:25.801Z"
   },
   {
    "duration": 17,
    "start_time": "2022-08-01T13:49:50.609Z"
   },
   {
    "duration": 25,
    "start_time": "2022-08-01T13:50:02.689Z"
   },
   {
    "duration": 21,
    "start_time": "2022-08-01T13:50:17.613Z"
   },
   {
    "duration": 18,
    "start_time": "2022-08-01T13:50:37.729Z"
   },
   {
    "duration": 12,
    "start_time": "2022-08-01T13:51:45.699Z"
   },
   {
    "duration": 19,
    "start_time": "2022-08-01T14:02:02.446Z"
   },
   {
    "duration": 23,
    "start_time": "2022-08-01T14:02:49.951Z"
   },
   {
    "duration": 16,
    "start_time": "2022-08-01T14:04:14.804Z"
   },
   {
    "duration": 17,
    "start_time": "2022-08-01T14:22:30.065Z"
   },
   {
    "duration": 18,
    "start_time": "2022-08-01T14:43:54.831Z"
   },
   {
    "duration": 46,
    "start_time": "2022-08-02T21:41:42.894Z"
   },
   {
    "duration": 7,
    "start_time": "2022-08-02T21:42:04.125Z"
   },
   {
    "duration": 507,
    "start_time": "2022-08-02T21:42:36.529Z"
   },
   {
    "duration": 19,
    "start_time": "2022-08-02T21:42:37.038Z"
   },
   {
    "duration": 13,
    "start_time": "2022-08-02T21:42:37.058Z"
   },
   {
    "duration": 8,
    "start_time": "2022-08-02T21:42:37.072Z"
   },
   {
    "duration": 30,
    "start_time": "2022-08-02T21:42:37.081Z"
   },
   {
    "duration": 3,
    "start_time": "2022-08-02T21:42:37.113Z"
   },
   {
    "duration": 19,
    "start_time": "2022-08-02T21:42:37.117Z"
   },
   {
    "duration": 4,
    "start_time": "2022-08-02T21:42:37.152Z"
   },
   {
    "duration": 9,
    "start_time": "2022-08-02T21:42:37.158Z"
   },
   {
    "duration": 4,
    "start_time": "2022-08-02T21:42:37.169Z"
   },
   {
    "duration": 36,
    "start_time": "2022-08-02T21:42:37.174Z"
   },
   {
    "duration": 8,
    "start_time": "2022-08-02T21:42:37.212Z"
   },
   {
    "duration": 3,
    "start_time": "2022-08-02T21:42:37.222Z"
   },
   {
    "duration": 37,
    "start_time": "2022-08-02T21:42:37.226Z"
   },
   {
    "duration": 15,
    "start_time": "2022-08-02T21:42:37.265Z"
   },
   {
    "duration": 10,
    "start_time": "2022-08-02T21:42:37.281Z"
   },
   {
    "duration": 5,
    "start_time": "2022-08-02T21:42:37.293Z"
   },
   {
    "duration": 16,
    "start_time": "2022-08-02T21:42:37.299Z"
   },
   {
    "duration": 8,
    "start_time": "2022-08-02T21:42:37.316Z"
   },
   {
    "duration": 27,
    "start_time": "2022-08-02T21:42:37.325Z"
   },
   {
    "duration": 22,
    "start_time": "2022-08-02T21:42:37.354Z"
   },
   {
    "duration": 163,
    "start_time": "2022-08-02T21:42:37.378Z"
   },
   {
    "duration": 0,
    "start_time": "2022-08-02T21:42:37.542Z"
   },
   {
    "duration": 0,
    "start_time": "2022-08-02T21:42:37.544Z"
   },
   {
    "duration": 0,
    "start_time": "2022-08-02T21:42:37.552Z"
   },
   {
    "duration": 105,
    "start_time": "2022-08-02T21:43:06.226Z"
   },
   {
    "duration": 21,
    "start_time": "2022-08-02T21:43:42.548Z"
   },
   {
    "duration": 20,
    "start_time": "2022-08-02T21:44:11.283Z"
   },
   {
    "duration": 24,
    "start_time": "2022-08-02T21:45:44.560Z"
   },
   {
    "duration": 26,
    "start_time": "2022-08-02T21:46:07.138Z"
   },
   {
    "duration": 21,
    "start_time": "2022-08-02T21:47:23.656Z"
   },
   {
    "duration": 20,
    "start_time": "2022-08-02T21:50:15.164Z"
   },
   {
    "duration": 25,
    "start_time": "2022-08-02T21:52:14.431Z"
   },
   {
    "duration": 14,
    "start_time": "2022-08-02T21:53:01.567Z"
   },
   {
    "duration": 27,
    "start_time": "2022-08-02T21:53:33.237Z"
   },
   {
    "duration": 23,
    "start_time": "2022-08-02T21:53:58.665Z"
   },
   {
    "duration": 396,
    "start_time": "2022-08-02T21:54:05.598Z"
   },
   {
    "duration": 24,
    "start_time": "2022-08-02T21:54:05.997Z"
   },
   {
    "duration": 17,
    "start_time": "2022-08-02T21:54:06.023Z"
   },
   {
    "duration": 16,
    "start_time": "2022-08-02T21:54:06.043Z"
   },
   {
    "duration": 39,
    "start_time": "2022-08-02T21:54:06.061Z"
   },
   {
    "duration": 4,
    "start_time": "2022-08-02T21:54:06.102Z"
   },
   {
    "duration": 18,
    "start_time": "2022-08-02T21:54:06.109Z"
   },
   {
    "duration": 10,
    "start_time": "2022-08-02T21:54:06.129Z"
   },
   {
    "duration": 10,
    "start_time": "2022-08-02T21:54:06.152Z"
   },
   {
    "duration": 10,
    "start_time": "2022-08-02T21:54:06.165Z"
   },
   {
    "duration": 37,
    "start_time": "2022-08-02T21:54:06.177Z"
   },
   {
    "duration": 10,
    "start_time": "2022-08-02T21:54:06.216Z"
   },
   {
    "duration": 26,
    "start_time": "2022-08-02T21:54:06.227Z"
   },
   {
    "duration": 17,
    "start_time": "2022-08-02T21:54:06.255Z"
   },
   {
    "duration": 14,
    "start_time": "2022-08-02T21:54:06.274Z"
   },
   {
    "duration": 10,
    "start_time": "2022-08-02T21:54:06.290Z"
   },
   {
    "duration": 3,
    "start_time": "2022-08-02T21:54:06.301Z"
   },
   {
    "duration": 10,
    "start_time": "2022-08-02T21:54:06.306Z"
   },
   {
    "duration": 5,
    "start_time": "2022-08-02T21:54:06.317Z"
   },
   {
    "duration": 30,
    "start_time": "2022-08-02T21:54:06.323Z"
   },
   {
    "duration": 17,
    "start_time": "2022-08-02T21:54:06.355Z"
   },
   {
    "duration": 24,
    "start_time": "2022-08-02T21:54:06.373Z"
   },
   {
    "duration": 14,
    "start_time": "2022-08-02T21:54:06.398Z"
   },
   {
    "duration": 12,
    "start_time": "2022-08-02T21:54:06.413Z"
   },
   {
    "duration": 37,
    "start_time": "2022-08-02T21:54:06.426Z"
   },
   {
    "duration": 20,
    "start_time": "2022-08-02T22:02:12.260Z"
   },
   {
    "duration": 21,
    "start_time": "2022-08-02T22:02:27.446Z"
   },
   {
    "duration": 1216,
    "start_time": "2022-08-02T22:08:36.050Z"
   },
   {
    "duration": 25,
    "start_time": "2022-08-02T22:08:51.428Z"
   },
   {
    "duration": 30,
    "start_time": "2022-08-02T22:09:02.889Z"
   },
   {
    "duration": 27,
    "start_time": "2022-08-02T22:09:58.512Z"
   },
   {
    "duration": 101,
    "start_time": "2022-08-02T22:10:22.298Z"
   },
   {
    "duration": 403,
    "start_time": "2022-08-02T22:10:46.089Z"
   },
   {
    "duration": 20,
    "start_time": "2022-08-02T22:10:46.494Z"
   },
   {
    "duration": 18,
    "start_time": "2022-08-02T22:10:46.516Z"
   },
   {
    "duration": 18,
    "start_time": "2022-08-02T22:10:46.536Z"
   },
   {
    "duration": 39,
    "start_time": "2022-08-02T22:10:46.556Z"
   },
   {
    "duration": 3,
    "start_time": "2022-08-02T22:10:46.597Z"
   },
   {
    "duration": 9,
    "start_time": "2022-08-02T22:10:46.601Z"
   },
   {
    "duration": 3,
    "start_time": "2022-08-02T22:10:46.611Z"
   },
   {
    "duration": 6,
    "start_time": "2022-08-02T22:10:46.616Z"
   },
   {
    "duration": 5,
    "start_time": "2022-08-02T22:10:46.624Z"
   },
   {
    "duration": 43,
    "start_time": "2022-08-02T22:10:46.630Z"
   },
   {
    "duration": 9,
    "start_time": "2022-08-02T22:10:46.674Z"
   },
   {
    "duration": 3,
    "start_time": "2022-08-02T22:10:46.685Z"
   },
   {
    "duration": 19,
    "start_time": "2022-08-02T22:10:46.690Z"
   },
   {
    "duration": 15,
    "start_time": "2022-08-02T22:10:46.711Z"
   },
   {
    "duration": 32,
    "start_time": "2022-08-02T22:10:46.728Z"
   },
   {
    "duration": 3,
    "start_time": "2022-08-02T22:10:46.762Z"
   },
   {
    "duration": 11,
    "start_time": "2022-08-02T22:10:46.767Z"
   },
   {
    "duration": 7,
    "start_time": "2022-08-02T22:10:46.780Z"
   },
   {
    "duration": 3,
    "start_time": "2022-08-02T22:10:46.789Z"
   },
   {
    "duration": 16,
    "start_time": "2022-08-02T22:10:46.793Z"
   },
   {
    "duration": 75,
    "start_time": "2022-08-02T22:10:46.811Z"
   },
   {
    "duration": 0,
    "start_time": "2022-08-02T22:10:46.888Z"
   },
   {
    "duration": 0,
    "start_time": "2022-08-02T22:10:46.890Z"
   },
   {
    "duration": 0,
    "start_time": "2022-08-02T22:10:46.891Z"
   },
   {
    "duration": 92,
    "start_time": "2022-08-02T22:11:15.596Z"
   },
   {
    "duration": 469,
    "start_time": "2022-08-02T22:11:22.224Z"
   },
   {
    "duration": 20,
    "start_time": "2022-08-02T22:11:22.697Z"
   },
   {
    "duration": 14,
    "start_time": "2022-08-02T22:11:22.718Z"
   },
   {
    "duration": 21,
    "start_time": "2022-08-02T22:11:22.734Z"
   },
   {
    "duration": 30,
    "start_time": "2022-08-02T22:11:22.756Z"
   },
   {
    "duration": 3,
    "start_time": "2022-08-02T22:11:22.788Z"
   },
   {
    "duration": 11,
    "start_time": "2022-08-02T22:11:22.792Z"
   },
   {
    "duration": 4,
    "start_time": "2022-08-02T22:11:22.804Z"
   },
   {
    "duration": 7,
    "start_time": "2022-08-02T22:11:22.810Z"
   },
   {
    "duration": 3,
    "start_time": "2022-08-02T22:11:22.819Z"
   },
   {
    "duration": 56,
    "start_time": "2022-08-02T22:11:22.824Z"
   },
   {
    "duration": 8,
    "start_time": "2022-08-02T22:11:22.882Z"
   },
   {
    "duration": 4,
    "start_time": "2022-08-02T22:11:22.893Z"
   },
   {
    "duration": 19,
    "start_time": "2022-08-02T22:11:22.898Z"
   },
   {
    "duration": 34,
    "start_time": "2022-08-02T22:11:22.918Z"
   },
   {
    "duration": 10,
    "start_time": "2022-08-02T22:11:22.953Z"
   },
   {
    "duration": 3,
    "start_time": "2022-08-02T22:11:22.965Z"
   },
   {
    "duration": 13,
    "start_time": "2022-08-02T22:11:22.969Z"
   },
   {
    "duration": 8,
    "start_time": "2022-08-02T22:11:22.983Z"
   },
   {
    "duration": 3,
    "start_time": "2022-08-02T22:11:22.992Z"
   },
   {
    "duration": 21,
    "start_time": "2022-08-02T22:11:22.996Z"
   },
   {
    "duration": 74,
    "start_time": "2022-08-02T22:11:23.018Z"
   },
   {
    "duration": 0,
    "start_time": "2022-08-02T22:11:23.094Z"
   },
   {
    "duration": 0,
    "start_time": "2022-08-02T22:11:23.095Z"
   },
   {
    "duration": 0,
    "start_time": "2022-08-02T22:11:23.096Z"
   },
   {
    "duration": 79,
    "start_time": "2022-08-02T22:12:03.894Z"
   },
   {
    "duration": 26,
    "start_time": "2022-08-02T22:12:17.583Z"
   },
   {
    "duration": 75,
    "start_time": "2022-08-02T22:13:54.145Z"
   },
   {
    "duration": 1257,
    "start_time": "2022-08-02T22:14:14.920Z"
   },
   {
    "duration": 20,
    "start_time": "2022-08-02T22:14:31.334Z"
   },
   {
    "duration": 7,
    "start_time": "2022-08-02T22:16:28.112Z"
   },
   {
    "duration": 22,
    "start_time": "2022-08-02T22:16:47.124Z"
   },
   {
    "duration": 21,
    "start_time": "2022-08-02T22:23:19.965Z"
   },
   {
    "duration": 25,
    "start_time": "2022-08-02T22:24:13.541Z"
   },
   {
    "duration": 22,
    "start_time": "2022-08-02T22:24:29.527Z"
   },
   {
    "duration": 27,
    "start_time": "2022-08-02T22:27:50.599Z"
   },
   {
    "duration": 21,
    "start_time": "2022-08-02T22:28:08.628Z"
   },
   {
    "duration": 21,
    "start_time": "2022-08-02T22:32:26.157Z"
   },
   {
    "duration": 26,
    "start_time": "2022-08-02T22:39:12.326Z"
   },
   {
    "duration": 21,
    "start_time": "2022-08-02T22:39:31.417Z"
   },
   {
    "duration": 920,
    "start_time": "2022-08-02T22:59:42.241Z"
   },
   {
    "duration": 146,
    "start_time": "2022-08-02T22:59:52.537Z"
   },
   {
    "duration": 26,
    "start_time": "2022-08-02T23:05:49.304Z"
   },
   {
    "duration": 20,
    "start_time": "2022-08-02T23:06:15.133Z"
   },
   {
    "duration": 14,
    "start_time": "2022-08-02T23:10:51.544Z"
   },
   {
    "duration": 15,
    "start_time": "2022-08-02T23:18:24.909Z"
   },
   {
    "duration": 91,
    "start_time": "2022-08-02T23:26:03.431Z"
   },
   {
    "duration": 73,
    "start_time": "2022-08-02T23:26:08.398Z"
   },
   {
    "duration": 73,
    "start_time": "2022-08-02T23:26:12.366Z"
   },
   {
    "duration": 73,
    "start_time": "2022-08-02T23:26:38.535Z"
   },
   {
    "duration": 78,
    "start_time": "2022-08-02T23:27:17.667Z"
   },
   {
    "duration": 416,
    "start_time": "2022-08-02T23:27:23.782Z"
   },
   {
    "duration": 20,
    "start_time": "2022-08-02T23:27:24.200Z"
   },
   {
    "duration": 13,
    "start_time": "2022-08-02T23:27:24.221Z"
   },
   {
    "duration": 18,
    "start_time": "2022-08-02T23:27:24.235Z"
   },
   {
    "duration": 28,
    "start_time": "2022-08-02T23:27:24.254Z"
   },
   {
    "duration": 3,
    "start_time": "2022-08-02T23:27:24.283Z"
   },
   {
    "duration": 9,
    "start_time": "2022-08-02T23:27:24.287Z"
   },
   {
    "duration": 3,
    "start_time": "2022-08-02T23:27:24.297Z"
   },
   {
    "duration": 7,
    "start_time": "2022-08-02T23:27:24.302Z"
   },
   {
    "duration": 4,
    "start_time": "2022-08-02T23:27:24.311Z"
   },
   {
    "duration": 52,
    "start_time": "2022-08-02T23:27:24.316Z"
   },
   {
    "duration": 8,
    "start_time": "2022-08-02T23:27:24.369Z"
   },
   {
    "duration": 5,
    "start_time": "2022-08-02T23:27:24.379Z"
   },
   {
    "duration": 16,
    "start_time": "2022-08-02T23:27:24.386Z"
   },
   {
    "duration": 14,
    "start_time": "2022-08-02T23:27:24.403Z"
   },
   {
    "duration": 9,
    "start_time": "2022-08-02T23:27:24.418Z"
   },
   {
    "duration": 26,
    "start_time": "2022-08-02T23:27:24.429Z"
   },
   {
    "duration": 11,
    "start_time": "2022-08-02T23:27:24.456Z"
   },
   {
    "duration": 9,
    "start_time": "2022-08-02T23:27:24.469Z"
   },
   {
    "duration": 4,
    "start_time": "2022-08-02T23:27:24.479Z"
   },
   {
    "duration": 17,
    "start_time": "2022-08-02T23:27:24.484Z"
   },
   {
    "duration": 24,
    "start_time": "2022-08-02T23:27:24.502Z"
   },
   {
    "duration": 31,
    "start_time": "2022-08-02T23:27:24.527Z"
   },
   {
    "duration": 11,
    "start_time": "2022-08-02T23:27:24.560Z"
   },
   {
    "duration": 70,
    "start_time": "2022-08-02T23:27:24.573Z"
   },
   {
    "duration": 0,
    "start_time": "2022-08-02T23:27:24.645Z"
   },
   {
    "duration": 70,
    "start_time": "2022-08-02T23:28:20.335Z"
   },
   {
    "duration": 76,
    "start_time": "2022-08-02T23:28:48.435Z"
   },
   {
    "duration": 79,
    "start_time": "2022-08-02T23:29:15.456Z"
   },
   {
    "duration": 732,
    "start_time": "2022-08-03T02:22:24.539Z"
   },
   {
    "duration": 22,
    "start_time": "2022-08-03T02:22:25.273Z"
   },
   {
    "duration": 38,
    "start_time": "2022-08-03T02:22:25.297Z"
   },
   {
    "duration": 9,
    "start_time": "2022-08-03T02:22:25.337Z"
   },
   {
    "duration": 36,
    "start_time": "2022-08-03T02:22:25.348Z"
   },
   {
    "duration": 3,
    "start_time": "2022-08-03T02:22:25.386Z"
   },
   {
    "duration": 35,
    "start_time": "2022-08-03T02:22:25.391Z"
   },
   {
    "duration": 5,
    "start_time": "2022-08-03T02:22:25.427Z"
   },
   {
    "duration": 8,
    "start_time": "2022-08-03T02:22:25.433Z"
   },
   {
    "duration": 5,
    "start_time": "2022-08-03T02:22:25.444Z"
   },
   {
    "duration": 32,
    "start_time": "2022-08-03T02:22:25.450Z"
   },
   {
    "duration": 9,
    "start_time": "2022-08-03T02:22:25.483Z"
   },
   {
    "duration": 36,
    "start_time": "2022-08-03T02:22:25.493Z"
   },
   {
    "duration": 19,
    "start_time": "2022-08-03T02:22:25.531Z"
   },
   {
    "duration": 18,
    "start_time": "2022-08-03T02:22:25.552Z"
   },
   {
    "duration": 11,
    "start_time": "2022-08-03T02:22:25.571Z"
   },
   {
    "duration": 7,
    "start_time": "2022-08-03T02:22:25.583Z"
   },
   {
    "duration": 52,
    "start_time": "2022-08-03T02:22:25.592Z"
   },
   {
    "duration": 18,
    "start_time": "2022-08-03T02:22:25.645Z"
   },
   {
    "duration": 59,
    "start_time": "2022-08-03T02:22:25.664Z"
   },
   {
    "duration": 53,
    "start_time": "2022-08-03T02:22:25.725Z"
   },
   {
    "duration": 62,
    "start_time": "2022-08-03T02:22:25.780Z"
   },
   {
    "duration": 95,
    "start_time": "2022-08-03T02:22:30.076Z"
   },
   {
    "duration": 38,
    "start_time": "2022-08-03T02:22:49.286Z"
   },
   {
    "duration": 24,
    "start_time": "2022-08-03T02:22:56.647Z"
   },
   {
    "duration": 24,
    "start_time": "2022-08-03T02:23:27.525Z"
   },
   {
    "duration": 24,
    "start_time": "2022-08-03T02:23:40.825Z"
   },
   {
    "duration": 7,
    "start_time": "2022-08-03T02:27:07.222Z"
   },
   {
    "duration": 33,
    "start_time": "2022-08-03T02:28:07.829Z"
   },
   {
    "duration": 37,
    "start_time": "2022-08-03T02:28:39.385Z"
   },
   {
    "duration": 31,
    "start_time": "2022-08-03T02:28:54.014Z"
   },
   {
    "duration": 28,
    "start_time": "2022-08-03T02:29:21.117Z"
   },
   {
    "duration": 2437,
    "start_time": "2022-08-03T02:37:09.926Z"
   },
   {
    "duration": 8,
    "start_time": "2022-08-03T02:37:26.244Z"
   },
   {
    "duration": 8,
    "start_time": "2022-08-03T02:38:17.079Z"
   },
   {
    "duration": 1502,
    "start_time": "2022-08-03T02:39:23.634Z"
   },
   {
    "duration": 8,
    "start_time": "2022-08-03T02:39:49.222Z"
   },
   {
    "duration": 143,
    "start_time": "2022-08-03T02:40:08.182Z"
   },
   {
    "duration": 140,
    "start_time": "2022-08-03T02:40:55.885Z"
   },
   {
    "duration": 201,
    "start_time": "2022-08-03T02:41:11.537Z"
   },
   {
    "duration": 135,
    "start_time": "2022-08-03T02:41:18.622Z"
   },
   {
    "duration": 87,
    "start_time": "2022-08-03T02:42:52.445Z"
   },
   {
    "duration": 16,
    "start_time": "2022-08-03T02:42:52.534Z"
   },
   {
    "duration": 17,
    "start_time": "2022-08-03T02:42:52.552Z"
   },
   {
    "duration": 9,
    "start_time": "2022-08-03T02:42:52.571Z"
   },
   {
    "duration": 59,
    "start_time": "2022-08-03T02:42:52.582Z"
   },
   {
    "duration": 3,
    "start_time": "2022-08-03T02:42:52.643Z"
   },
   {
    "duration": 11,
    "start_time": "2022-08-03T02:42:52.648Z"
   },
   {
    "duration": 4,
    "start_time": "2022-08-03T02:42:52.661Z"
   },
   {
    "duration": 6,
    "start_time": "2022-08-03T02:42:52.666Z"
   },
   {
    "duration": 5,
    "start_time": "2022-08-03T02:42:52.673Z"
   },
   {
    "duration": 55,
    "start_time": "2022-08-03T02:42:52.679Z"
   },
   {
    "duration": 9,
    "start_time": "2022-08-03T02:42:52.736Z"
   },
   {
    "duration": 3,
    "start_time": "2022-08-03T02:42:52.747Z"
   },
   {
    "duration": 17,
    "start_time": "2022-08-03T02:42:52.753Z"
   },
   {
    "duration": 54,
    "start_time": "2022-08-03T02:42:52.772Z"
   },
   {
    "duration": 12,
    "start_time": "2022-08-03T02:42:52.828Z"
   },
   {
    "duration": 6,
    "start_time": "2022-08-03T02:42:52.841Z"
   },
   {
    "duration": 11,
    "start_time": "2022-08-03T02:42:52.849Z"
   },
   {
    "duration": 10,
    "start_time": "2022-08-03T02:42:52.861Z"
   },
   {
    "duration": 3,
    "start_time": "2022-08-03T02:42:52.873Z"
   },
   {
    "duration": 47,
    "start_time": "2022-08-03T02:42:52.878Z"
   },
   {
    "duration": 26,
    "start_time": "2022-08-03T02:42:52.930Z"
   },
   {
    "duration": 25,
    "start_time": "2022-08-03T02:42:52.958Z"
   },
   {
    "duration": 153,
    "start_time": "2022-08-03T02:42:52.985Z"
   },
   {
    "duration": 16,
    "start_time": "2022-08-03T02:42:53.140Z"
   },
   {
    "duration": 14,
    "start_time": "2022-08-03T02:42:53.157Z"
   },
   {
    "duration": 48,
    "start_time": "2022-08-03T02:42:53.173Z"
   },
   {
    "duration": 47,
    "start_time": "2022-09-06T18:37:21.360Z"
   },
   {
    "duration": 620,
    "start_time": "2022-09-06T18:37:26.630Z"
   },
   {
    "duration": 20,
    "start_time": "2022-09-06T18:37:27.252Z"
   },
   {
    "duration": 22,
    "start_time": "2022-09-06T18:37:27.273Z"
   },
   {
    "duration": 9,
    "start_time": "2022-09-06T18:37:27.297Z"
   },
   {
    "duration": 30,
    "start_time": "2022-09-06T18:37:27.307Z"
   },
   {
    "duration": 3,
    "start_time": "2022-09-06T18:37:27.338Z"
   },
   {
    "duration": 10,
    "start_time": "2022-09-06T18:37:27.342Z"
   },
   {
    "duration": 6,
    "start_time": "2022-09-06T18:37:27.354Z"
   },
   {
    "duration": 10,
    "start_time": "2022-09-06T18:37:27.361Z"
   },
   {
    "duration": 21,
    "start_time": "2022-09-06T18:37:27.373Z"
   },
   {
    "duration": 33,
    "start_time": "2022-09-06T18:37:27.396Z"
   },
   {
    "duration": 8,
    "start_time": "2022-09-06T18:37:27.431Z"
   },
   {
    "duration": 3,
    "start_time": "2022-09-06T18:37:27.440Z"
   },
   {
    "duration": 19,
    "start_time": "2022-09-06T18:37:27.444Z"
   },
   {
    "duration": 13,
    "start_time": "2022-09-06T18:37:27.464Z"
   },
   {
    "duration": 13,
    "start_time": "2022-09-06T18:37:27.495Z"
   },
   {
    "duration": 10,
    "start_time": "2022-09-06T18:37:27.510Z"
   },
   {
    "duration": 22,
    "start_time": "2022-09-06T18:37:27.521Z"
   },
   {
    "duration": 9,
    "start_time": "2022-09-06T18:37:27.545Z"
   },
   {
    "duration": 3,
    "start_time": "2022-09-06T18:37:27.556Z"
   },
   {
    "duration": 19,
    "start_time": "2022-09-06T18:37:27.560Z"
   },
   {
    "duration": 26,
    "start_time": "2022-09-06T18:37:27.580Z"
   },
   {
    "duration": 22,
    "start_time": "2022-09-06T18:37:27.607Z"
   },
   {
    "duration": 371,
    "start_time": "2022-09-06T18:37:27.630Z"
   },
   {
    "duration": 17,
    "start_time": "2022-09-06T18:37:28.002Z"
   },
   {
    "duration": 13,
    "start_time": "2022-09-06T18:37:28.021Z"
   },
   {
    "duration": 18,
    "start_time": "2022-09-06T18:37:28.036Z"
   }
  ],
  "colab": {
   "name": "dpp_template_part2.ipynb",
   "provenance": []
  },
  "kernelspec": {
   "display_name": "Python 3 (ipykernel)",
   "language": "python",
   "name": "python3"
  },
  "language_info": {
   "codemirror_mode": {
    "name": "ipython",
    "version": 3
   },
   "file_extension": ".py",
   "mimetype": "text/x-python",
   "name": "python",
   "nbconvert_exporter": "python",
   "pygments_lexer": "ipython3",
   "version": "3.9.13"
  },
  "toc": {
   "base_numbering": 1,
   "nav_menu": {},
   "number_sections": true,
   "sideBar": true,
   "skip_h1_title": true,
   "title_cell": "Table of Contents",
   "title_sidebar": "Contents",
   "toc_cell": false,
   "toc_position": {},
   "toc_section_display": true,
   "toc_window_display": false
  }
 },
 "nbformat": 4,
 "nbformat_minor": 5
}
