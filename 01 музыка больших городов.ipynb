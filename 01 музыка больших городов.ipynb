{
 "cells": [
  {
   "cell_type": "markdown",
   "metadata": {
    "deletable": false,
    "editable": false,
    "id": "E0vqbgi9ay0H"
   },
   "source": [
    "# Яндекс Музыка"
   ]
  },
  {
   "cell_type": "markdown",
   "metadata": {
    "deletable": false,
    "editable": false,
    "id": "VUC88oWjTJw2"
   },
   "source": [
    "Сравнение Москвы и Петербурга окружено мифами. Например:\n",
    " * Москва — мегаполис, подчинённый жёсткому ритму рабочей недели;\n",
    " * Петербург — культурная столица, со своими вкусами.\n",
    "\n",
    "На данных Яндекс Музыки вы сравните поведение пользователей двух столиц.\n",
    "\n",
    "**Цель исследования** — проверьте три гипотезы:\n",
    "1. Активность пользователей зависит от дня недели. Причём в Москве и Петербурге это проявляется по-разному.\n",
    "2. В понедельник утром в Москве преобладают одни жанры, а в Петербурге — другие. Так же и вечером пятницы преобладают разные жанры — в зависимости от города. \n",
    "3. Москва и Петербург предпочитают разные жанры музыки. В Москве чаще слушают поп-музыку, в Петербурге — русский рэп.\n",
    "\n",
    "**Ход исследования**\n",
    "\n",
    "Данные о поведении пользователей вы получите из файла `yandex_music_project.csv`. О качестве данных ничего не известно. Поэтому перед проверкой гипотез понадобится обзор данных. \n",
    "\n",
    "Вы проверите данные на ошибки и оцените их влияние на исследование. Затем, на этапе предобработки вы поищете возможность исправить самые критичные ошибки данных.\n",
    " \n",
    "Таким образом, исследование пройдёт в три этапа:\n",
    " 1. Обзор данных.\n",
    " 2. Предобработка данных.\n",
    " 3. Проверка гипотез.\n",
    "\n"
   ]
  },
  {
   "cell_type": "markdown",
   "metadata": {
    "deletable": false,
    "editable": false,
    "id": "Ml1hmfXC_Zcs"
   },
   "source": [
    "## Обзор данных\n",
    "\n",
    "Составьте первое представление о данных Яндекс Музыки.\n",
    "\n",
    "\n"
   ]
  },
  {
   "cell_type": "markdown",
   "metadata": {
    "deletable": false,
    "editable": false,
    "id": "57eAOGIz_Zcs",
    "tags": [
     "start_task"
    ]
   },
   "source": [
    "**Задание 1**\n",
    "\n",
    "Основной инструмент аналитика — `pandas`. Импортируйте эту библиотеку."
   ]
  },
  {
   "cell_type": "code",
   "execution_count": 1,
   "metadata": {
    "deletable": false,
    "id": "AXN7PHPN_Zcs"
   },
   "outputs": [],
   "source": [
    "import pandas as pd # импорт библиотеки pandas"
   ]
  },
  {
   "cell_type": "markdown",
   "metadata": {
    "deletable": false,
    "editable": false,
    "id": "SG23P8tt_Zcs",
    "tags": [
     "start_task"
    ]
   },
   "source": [
    "**Задание 2**\n",
    "\n",
    "Прочитайте файл `yandex_music_project.csv` из папки `/datasets` и сохраните его в переменной `df`:"
   ]
  },
  {
   "cell_type": "code",
   "execution_count": 2,
   "metadata": {
    "deletable": false,
    "id": "fFVu7vqh_Zct"
   },
   "outputs": [],
   "source": [
    "df = pd.read_csv('/datasets/yandex_music_project.csv') # чтение файла с данными и сохранение в df"
   ]
  },
  {
   "cell_type": "markdown",
   "metadata": {
    "deletable": false,
    "editable": false,
    "id": "rDoOMd3uTqnZ",
    "tags": [
     "start_task"
    ]
   },
   "source": [
    "**Задание 3**\n",
    "\n",
    "\n",
    "Выведите на экран первые десять строк таблицы:"
   ]
  },
  {
   "cell_type": "code",
   "execution_count": 3,
   "metadata": {
    "deletable": false,
    "id": "oWTVX3gW_Zct"
   },
   "outputs": [
    {
     "name": "stdout",
     "output_type": "stream",
     "text": [
      "     userID                        Track            artist   genre  \\\n",
      "0  FFB692EC            Kamigata To Boots  The Mass Missile    rock   \n",
      "1  55204538  Delayed Because of Accident  Andreas Rönnberg    rock   \n",
      "2    20EC38            Funiculì funiculà       Mario Lanza     pop   \n",
      "3  A3DD03C9        Dragons in the Sunset        Fire + Ice    folk   \n",
      "4  E2DC1FAE                  Soul People        Space Echo   dance   \n",
      "5  842029A1                    Преданная         IMPERVTOR  rusrap   \n",
      "6  4CB90AA5                         True      Roman Messer   dance   \n",
      "7  F03E1C1F             Feeling This Way   Polina Griffith   dance   \n",
      "8  8FA1D3BE     И вновь продолжается бой               NaN  ruspop   \n",
      "9  E772D5C0                    Pessimist               NaN   dance   \n",
      "\n",
      "             City        time        Day  \n",
      "0  Saint-Petersburg  20:28:33  Wednesday  \n",
      "1            Moscow  14:07:09     Friday  \n",
      "2  Saint-Petersburg  20:58:07  Wednesday  \n",
      "3  Saint-Petersburg  08:37:09     Monday  \n",
      "4            Moscow  08:34:34     Monday  \n",
      "5  Saint-Petersburg  13:09:41     Friday  \n",
      "6            Moscow  13:00:07  Wednesday  \n",
      "7            Moscow  20:47:49  Wednesday  \n",
      "8            Moscow  09:17:40     Friday  \n",
      "9  Saint-Petersburg  21:20:49  Wednesday  \n"
     ]
    }
   ],
   "source": [
    "print(df.head(10)) # получение первых 10 строк таблицы df"
   ]
  },
  {
   "cell_type": "markdown",
   "metadata": {
    "deletable": false,
    "editable": false,
    "id": "EO73Kwic_Zct",
    "tags": [
     "start_task"
    ]
   },
   "source": [
    "**Задание 4**\n",
    "\n",
    "\n",
    "Одной командой получить общую информацию о таблице c помощью метода `info()`:"
   ]
  },
  {
   "cell_type": "code",
   "execution_count": 4,
   "metadata": {
    "deletable": false,
    "id": "DSf2kIb-_Zct"
   },
   "outputs": [
    {
     "name": "stdout",
     "output_type": "stream",
     "text": [
      "<class 'pandas.core.frame.DataFrame'>\n",
      "RangeIndex: 65079 entries, 0 to 65078\n",
      "Data columns (total 7 columns):\n",
      " #   Column    Non-Null Count  Dtype \n",
      "---  ------    --------------  ----- \n",
      " 0     userID  65079 non-null  object\n",
      " 1   Track     63848 non-null  object\n",
      " 2   artist    57876 non-null  object\n",
      " 3   genre     63881 non-null  object\n",
      " 4     City    65079 non-null  object\n",
      " 5   time      65079 non-null  object\n",
      " 6   Day       65079 non-null  object\n",
      "dtypes: object(7)\n",
      "memory usage: 3.5+ MB\n"
     ]
    }
   ],
   "source": [
    "df.info() # получение общей информации о данных в таблице df"
   ]
  },
  {
   "cell_type": "markdown",
   "metadata": {
    "deletable": false,
    "editable": false,
    "id": "TaQ2Iwbr_Zct"
   },
   "source": [
    "Итак, в таблице семь столбцов. Тип данных во всех столбцах — `object`.\n",
    "\n",
    "Согласно документации к данным:\n",
    "* `userID` — идентификатор пользователя;\n",
    "* `Track` — название трека;  \n",
    "* `artist` — имя исполнителя;\n",
    "* `genre` — название жанра;\n",
    "* `City` — город пользователя;\n",
    "* `time` — время начала прослушивания;\n",
    "* `Day` — день недели.\n",
    "\n",
    "Количество значений в столбцах различается. Значит, в данных есть пропущенные значения."
   ]
  },
  {
   "cell_type": "markdown",
   "metadata": {
    "deletable": false,
    "editable": false,
    "id": "rAfziTBDmf2h",
    "tags": [
     "start_task"
    ]
   },
   "source": [
    "**Задание 5**\n",
    "\n",
    "**Вопрос со свободной формой ответа**\n",
    "\n",
    "В названиях колонок видны нарушения стиля:\n",
    "* Строчные буквы сочетаются с прописными.\n",
    "* Встречаются пробелы.\n",
    "\n",
    "Какое третье нарушение?"
   ]
  },
  {
   "cell_type": "code",
   "execution_count": 5,
   "metadata": {
    "id": "jD8EXEIvmf2h"
   },
   "outputs": [],
   "source": [
    "# Названия столбцов с большой буквы."
   ]
  },
  {
   "cell_type": "markdown",
   "metadata": {
    "deletable": false,
    "editable": false,
    "id": "MCB6-dXG_Zct"
   },
   "source": [
    "**Выводы**\n",
    "\n",
    "В каждой строке таблицы — данные о прослушанном треке. Часть колонок описывает саму композицию: название, исполнителя и жанр. Остальные данные рассказывают о пользователе: из какого он города, когда он слушал музыку. \n",
    "\n",
    "Предварительно можно утверждать, что данных достаточно для проверки гипотез. Но встречаются пропуски в данных, а в названиях колонок — расхождения с хорошим стилем.\n",
    "\n",
    "Чтобы двигаться дальше, нужно устранить проблемы в данных."
   ]
  },
  {
   "cell_type": "markdown",
   "metadata": {
    "deletable": false,
    "editable": false,
    "id": "SjYF6Ub9_Zct"
   },
   "source": [
    "## Предобработка данных\n",
    "Исправьте стиль в заголовках столбцов, исключите пропуски. Затем проверьте данные на дубликаты."
   ]
  },
  {
   "cell_type": "markdown",
   "metadata": {
    "deletable": false,
    "editable": false,
    "id": "dIaKXr29_Zct",
    "tags": [
     "start_task"
    ]
   },
   "source": [
    "### Стиль заголовков\n",
    "\n",
    "**Задание 6**\n",
    "\n",
    "Выведите на экран названия столбцов:"
   ]
  },
  {
   "cell_type": "code",
   "execution_count": 6,
   "metadata": {
    "deletable": false,
    "id": "oKOTdF_Q_Zct"
   },
   "outputs": [
    {
     "data": {
      "text/plain": [
       "Index(['  userID', 'Track', 'artist', 'genre', '  City  ', 'time', 'Day'], dtype='object')"
      ]
     },
     "execution_count": 6,
     "metadata": {},
     "output_type": "execute_result"
    }
   ],
   "source": [
    "df.columns # перечень названий столбцов таблицы df"
   ]
  },
  {
   "cell_type": "markdown",
   "metadata": {
    "deletable": false,
    "editable": false,
    "id": "zj5534cv_Zct",
    "tags": [
     "start_task"
    ]
   },
   "source": [
    "**Задание 7**\n",
    "\n",
    "\n",
    "Приведите названия в соответствие с хорошим стилем:\n",
    "* несколько слов в названии запишите в «змеином_регистре»,\n",
    "* все символы сделайте строчными,\n",
    "* устраните пробелы.\n",
    "\n",
    "Для этого переименуйте колонки так:\n",
    "* `'  userID'` → `'user_id'`;\n",
    "* `'Track'` → `'track'`;\n",
    "* `'  City  '` → `'city'`;\n",
    "* `'Day'` → `'day'`."
   ]
  },
  {
   "cell_type": "code",
   "execution_count": 7,
   "metadata": {
    "deletable": false,
    "id": "ISlFqs5y_Zct"
   },
   "outputs": [],
   "source": [
    "df = df.rename(columns={'  userID':'user_id', 'Track':'track', '  City  ':'city','Day':'day'}) # переименование столбцов"
   ]
  },
  {
   "cell_type": "markdown",
   "metadata": {
    "deletable": false,
    "editable": false,
    "id": "1dqbh00J_Zct",
    "tags": [
     "start_task"
    ]
   },
   "source": [
    "**Задание 8**\n",
    "\n",
    "\n",
    "Проверьте результат. Для этого ещё раз выведите на экран названия столбцов:"
   ]
  },
  {
   "cell_type": "code",
   "execution_count": 8,
   "metadata": {
    "deletable": false,
    "id": "d4NOAmTW_Zct"
   },
   "outputs": [
    {
     "data": {
      "text/plain": [
       "Index(['user_id', 'track', 'artist', 'genre', 'city', 'time', 'day'], dtype='object')"
      ]
     },
     "execution_count": 8,
     "metadata": {},
     "output_type": "execute_result"
    }
   ],
   "source": [
    "df.columns # проверка результатов - перечень названий столбцов"
   ]
  },
  {
   "cell_type": "markdown",
   "metadata": {
    "deletable": false,
    "editable": false,
    "id": "5ISfbcfY_Zct",
    "tags": [
     "start_task"
    ]
   },
   "source": [
    "### Пропуски значений\n",
    "\n",
    "**Задание 9**\n",
    "\n",
    "Сначала посчитайте, сколько в таблице пропущенных значений. Для этого достаточно двух методов `pandas`:"
   ]
  },
  {
   "cell_type": "code",
   "execution_count": 9,
   "metadata": {
    "deletable": false,
    "id": "RskX29qr_Zct"
   },
   "outputs": [
    {
     "data": {
      "text/plain": [
       "user_id       0\n",
       "track      1231\n",
       "artist     7203\n",
       "genre      1198\n",
       "city          0\n",
       "time          0\n",
       "day           0\n",
       "dtype: int64"
      ]
     },
     "execution_count": 9,
     "metadata": {},
     "output_type": "execute_result"
    }
   ],
   "source": [
    "df.isna().sum()# подсчёт пропусков"
   ]
  },
  {
   "cell_type": "markdown",
   "metadata": {
    "deletable": false,
    "editable": false,
    "id": "qubhgnlO_Zct"
   },
   "source": [
    "Не все пропущенные значения влияют на исследование. Так в `track` и `artist` пропуски не важны для вашей работы. Достаточно заменить их явными обозначениями.\n",
    "\n",
    "Но пропуски в `genre` могут помешать сравнению музыкальных вкусов в Москве и Санкт-Петербурге. На практике было бы правильно установить причину пропусков и восстановить данные. Такой возможности нет в учебном проекте. Придётся:\n",
    "* заполнить и эти пропуски явными обозначениями;\n",
    "* оценить, насколько они повредят расчётам. "
   ]
  },
  {
   "cell_type": "markdown",
   "metadata": {
    "deletable": false,
    "editable": false,
    "id": "fSv2laPA_Zct",
    "tags": [
     "start_task"
    ]
   },
   "source": [
    "**Задание 10**\n",
    "\n",
    "Замените пропущенные значения в столбцах `track`, `artist` и `genre` на строку `'unknown'`. Для этого создайте список `columns_to_replace`, переберите его элементы циклом `for` и для каждого столбца выполните замену пропущенных значений:"
   ]
  },
  {
   "cell_type": "code",
   "execution_count": 10,
   "metadata": {
    "deletable": false,
    "id": "KplB5qWs_Zct"
   },
   "outputs": [],
   "source": [
    "df['track'] = df['track'].fillna('unknown')\n",
    "df['artist'] = df['artist'].fillna('unknown')\n",
    "df['genre'] = df['genre'].fillna('unknown')"
   ]
  },
  {
   "cell_type": "markdown",
   "metadata": {
    "deletable": false,
    "editable": false,
    "id": "Ilsm-MZo_Zct",
    "tags": [
     "start_task"
    ]
   },
   "source": [
    "**Задание 11**\n",
    "\n",
    "Убедитесь, что в таблице не осталось пропусков. Для этого ещё раз посчитайте пропущенные значения."
   ]
  },
  {
   "cell_type": "code",
   "execution_count": 11,
   "metadata": {
    "deletable": false,
    "id": "Tq4nYRX4_Zct"
   },
   "outputs": [
    {
     "data": {
      "text/plain": [
       "user_id    0\n",
       "track      0\n",
       "artist     0\n",
       "genre      0\n",
       "city       0\n",
       "time       0\n",
       "day        0\n",
       "dtype: int64"
      ]
     },
     "execution_count": 11,
     "metadata": {},
     "output_type": "execute_result"
    }
   ],
   "source": [
    "df.isnull().sum()# подсчёт пропусков"
   ]
  },
  {
   "cell_type": "markdown",
   "metadata": {
    "deletable": false,
    "editable": false,
    "id": "BWKRtBJ3_Zct",
    "tags": [
     "start_task"
    ]
   },
   "source": [
    "### Дубликаты\n",
    "\n",
    "**Задание 12**\n",
    "\n",
    "Посчитайте явные дубликаты в таблице одной командой:"
   ]
  },
  {
   "cell_type": "code",
   "execution_count": 12,
   "metadata": {
    "deletable": false,
    "id": "36eES_S0_Zct"
   },
   "outputs": [
    {
     "data": {
      "text/plain": [
       "3826"
      ]
     },
     "execution_count": 12,
     "metadata": {},
     "output_type": "execute_result"
    }
   ],
   "source": [
    "df.duplicated().sum()# подсчёт явных дубликатов"
   ]
  },
  {
   "cell_type": "markdown",
   "metadata": {
    "deletable": false,
    "editable": false,
    "id": "Ot25h6XR_Zct",
    "tags": [
     "start_task"
    ]
   },
   "source": [
    "**Задание 13**\n",
    "\n",
    "Вызовите специальный метод `pandas`, чтобы удалить явные дубликаты:"
   ]
  },
  {
   "cell_type": "code",
   "execution_count": 13,
   "metadata": {
    "deletable": false,
    "id": "exFHq6tt_Zct"
   },
   "outputs": [],
   "source": [
    "df=df.drop_duplicates().reset_index(drop=True) # удаление явных дубликатов"
   ]
  },
  {
   "cell_type": "markdown",
   "metadata": {
    "deletable": false,
    "editable": false,
    "id": "Im2YwBEG_Zct",
    "tags": [
     "start_task"
    ]
   },
   "source": [
    "**Задание 14**\n",
    "\n",
    "Ещё раз посчитайте явные дубликаты в таблице — убедитесь, что полностью от них избавились:"
   ]
  },
  {
   "cell_type": "code",
   "execution_count": 14,
   "metadata": {
    "deletable": false,
    "id": "-8PuNWQ0_Zct"
   },
   "outputs": [
    {
     "data": {
      "text/plain": [
       "0"
      ]
     },
     "execution_count": 14,
     "metadata": {},
     "output_type": "execute_result"
    }
   ],
   "source": [
    "df.duplicated().sum() # проверка на отсутствие дубликатов"
   ]
  },
  {
   "cell_type": "markdown",
   "metadata": {
    "deletable": false,
    "editable": false,
    "id": "QlFBsxAr_Zct"
   },
   "source": [
    "Теперь избавьтесь от неявных дубликатов в колонке `genre`. Например, название одного и того же жанра может быть записано немного по-разному. Такие ошибки тоже повлияют на результат исследования."
   ]
  },
  {
   "cell_type": "markdown",
   "metadata": {
    "deletable": false,
    "editable": false,
    "id": "eSjWwsOh_Zct",
    "tags": [
     "start_task"
    ]
   },
   "source": [
    "**Задание 15**\n",
    "\n",
    "Выведите на экран список уникальных названий жанров, отсортированный в алфавитном порядке. Для этого:\n",
    "1. извлеките нужный столбец датафрейма; \n",
    "2. примените к нему метод сортировки;\n",
    "3. для отсортированного столбца вызовите метод, который вернёт уникальные значения из столбца."
   ]
  },
  {
   "cell_type": "code",
   "execution_count": 15,
   "metadata": {
    "deletable": false,
    "id": "JIUcqzZN_Zct"
   },
   "outputs": [
    {
     "data": {
      "text/plain": [
       "array(['acid', 'acoustic', 'action', 'adult', 'africa', 'afrikaans',\n",
       "       'alternative', 'alternativepunk', 'ambient', 'americana',\n",
       "       'animated', 'anime', 'arabesk', 'arabic', 'arena',\n",
       "       'argentinetango', 'art', 'audiobook', 'author', 'avantgarde',\n",
       "       'axé', 'baile', 'balkan', 'beats', 'bigroom', 'black', 'bluegrass',\n",
       "       'blues', 'bollywood', 'bossa', 'brazilian', 'breakbeat', 'breaks',\n",
       "       'broadway', 'cantautori', 'cantopop', 'canzone', 'caribbean',\n",
       "       'caucasian', 'celtic', 'chamber', 'chanson', 'children', 'chill',\n",
       "       'chinese', 'choral', 'christian', 'christmas', 'classical',\n",
       "       'classicmetal', 'club', 'colombian', 'comedy', 'conjazz',\n",
       "       'contemporary', 'country', 'cuban', 'dance', 'dancehall',\n",
       "       'dancepop', 'dark', 'death', 'deep', 'deutschrock', 'deutschspr',\n",
       "       'dirty', 'disco', 'dnb', 'documentary', 'downbeat', 'downtempo',\n",
       "       'drum', 'dub', 'dubstep', 'eastern', 'easy', 'electronic',\n",
       "       'electropop', 'emo', 'entehno', 'epicmetal', 'estrada', 'ethnic',\n",
       "       'eurofolk', 'european', 'experimental', 'extrememetal', 'fado',\n",
       "       'fairytail', 'film', 'fitness', 'flamenco', 'folk', 'folklore',\n",
       "       'folkmetal', 'folkrock', 'folktronica', 'forró', 'frankreich',\n",
       "       'französisch', 'french', 'funk', 'future', 'gangsta', 'garage',\n",
       "       'german', 'ghazal', 'gitarre', 'glitch', 'gospel', 'gothic',\n",
       "       'grime', 'grunge', 'gypsy', 'handsup', \"hard'n'heavy\", 'hardcore',\n",
       "       'hardstyle', 'hardtechno', 'hip', 'hip-hop', 'hiphop',\n",
       "       'historisch', 'holiday', 'hop', 'horror', 'house', 'hymn', 'idm',\n",
       "       'independent', 'indian', 'indie', 'indipop', 'industrial',\n",
       "       'inspirational', 'instrumental', 'international', 'irish', 'jam',\n",
       "       'japanese', 'jazz', 'jewish', 'jpop', 'jungle', 'k-pop',\n",
       "       'karadeniz', 'karaoke', 'kayokyoku', 'korean', 'laiko', 'latin',\n",
       "       'latino', 'leftfield', 'local', 'lounge', 'loungeelectronic',\n",
       "       'lovers', 'malaysian', 'mandopop', 'marschmusik', 'meditative',\n",
       "       'mediterranean', 'melodic', 'metal', 'metalcore', 'mexican',\n",
       "       'middle', 'minimal', 'miscellaneous', 'modern', 'mood', 'mpb',\n",
       "       'muslim', 'native', 'neoklassik', 'neue', 'new', 'newage',\n",
       "       'newwave', 'nu', 'nujazz', 'numetal', 'oceania', 'old', 'opera',\n",
       "       'orchestral', 'other', 'piano', 'podcasts', 'pop', 'popdance',\n",
       "       'popelectronic', 'popeurodance', 'poprussian', 'post',\n",
       "       'posthardcore', 'postrock', 'power', 'progmetal', 'progressive',\n",
       "       'psychedelic', 'punjabi', 'punk', 'quebecois', 'ragga', 'ram',\n",
       "       'rancheras', 'rap', 'rave', 'reggae', 'reggaeton', 'regional',\n",
       "       'relax', 'religious', 'retro', 'rhythm', 'rnb', 'rnr', 'rock',\n",
       "       'rockabilly', 'rockalternative', 'rockindie', 'rockother',\n",
       "       'romance', 'roots', 'ruspop', 'rusrap', 'rusrock', 'russian',\n",
       "       'salsa', 'samba', 'scenic', 'schlager', 'self', 'sertanejo',\n",
       "       'shanson', 'shoegazing', 'showtunes', 'singer', 'ska', 'skarock',\n",
       "       'slow', 'smooth', 'soft', 'soul', 'soulful', 'sound', 'soundtrack',\n",
       "       'southern', 'specialty', 'speech', 'spiritual', 'sport',\n",
       "       'stonerrock', 'surf', 'swing', 'synthpop', 'synthrock',\n",
       "       'sängerportrait', 'tango', 'tanzorchester', 'taraftar', 'tatar',\n",
       "       'tech', 'techno', 'teen', 'thrash', 'top', 'traditional',\n",
       "       'tradjazz', 'trance', 'tribal', 'trip', 'triphop', 'tropical',\n",
       "       'türk', 'türkçe', 'ukrrock', 'unknown', 'urban', 'uzbek',\n",
       "       'variété', 'vi', 'videogame', 'vocal', 'western', 'world',\n",
       "       'worldbeat', 'ïîï', 'электроника'], dtype=object)"
      ]
     },
     "execution_count": 15,
     "metadata": {},
     "output_type": "execute_result"
    }
   ],
   "source": [
    "genres_list=df['genre'].sort_values()\n",
    "genres_list.unique() # Просмотр уникальных названий жанров"
   ]
  },
  {
   "cell_type": "markdown",
   "metadata": {
    "deletable": false,
    "editable": false,
    "id": "qej-Qmuo_Zct",
    "tags": [
     "start_task"
    ]
   },
   "source": [
    "**Задание 16**\n",
    "\n",
    "Просмотрите список и найдите неявные дубликаты названия `hiphop`. Это могут быть названия с ошибками или альтернативные названия того же жанра.\n",
    "\n",
    "Вы увидите следующие неявные дубликаты:\n",
    "* *hip*,\n",
    "* *hop*,\n",
    "* *hip-hop*.\n",
    "\n",
    "Чтобы очистить от них таблицу используйте метод `replace()` с двумя аргументами: списком строк-дубликатов (включащий *hip*, *hop* и *hip-hop*) и строкой с правильным значением. Вам нужно исправить колонку `genre` в таблице `df`: заменить каждое значение из списка дубликатов на верное. Вместо `hip`, `hop` и `hip-hop` в таблице должно быть значение `hiphop`:"
   ]
  },
  {
   "cell_type": "code",
   "execution_count": 16,
   "metadata": {
    "deletable": false,
    "id": "ErNDkmns_Zct"
   },
   "outputs": [],
   "source": [
    "duplicates=['hip','hop','hip-hop']\n",
    "df['genre'] = df['genre'].replace(duplicates, 'hiphop')\n",
    "\n"
   ]
  },
  {
   "cell_type": "markdown",
   "metadata": {
    "deletable": false,
    "editable": false,
    "id": "zQKF16_RG15m",
    "tags": [
     "start_task"
    ]
   },
   "source": [
    "**Задание 17**\n",
    "\n",
    "Проверьте, что заменили неправильные названия:\n",
    "\n",
    "*   hip,\n",
    "*   hop,\n",
    "*   hip-hop.\n",
    "\n",
    "Выведите отсортированный список уникальных значений столбца `genre`:"
   ]
  },
  {
   "cell_type": "code",
   "execution_count": 17,
   "metadata": {
    "deletable": false,
    "id": "wvixALnFG15m"
   },
   "outputs": [
    {
     "data": {
      "text/plain": [
       "array(['acid', 'acoustic', 'action', 'adult', 'africa', 'afrikaans',\n",
       "       'alternative', 'alternativepunk', 'ambient', 'americana',\n",
       "       'animated', 'anime', 'arabesk', 'arabic', 'arena',\n",
       "       'argentinetango', 'art', 'audiobook', 'author', 'avantgarde',\n",
       "       'axé', 'baile', 'balkan', 'beats', 'bigroom', 'black', 'bluegrass',\n",
       "       'blues', 'bollywood', 'bossa', 'brazilian', 'breakbeat', 'breaks',\n",
       "       'broadway', 'cantautori', 'cantopop', 'canzone', 'caribbean',\n",
       "       'caucasian', 'celtic', 'chamber', 'chanson', 'children', 'chill',\n",
       "       'chinese', 'choral', 'christian', 'christmas', 'classical',\n",
       "       'classicmetal', 'club', 'colombian', 'comedy', 'conjazz',\n",
       "       'contemporary', 'country', 'cuban', 'dance', 'dancehall',\n",
       "       'dancepop', 'dark', 'death', 'deep', 'deutschrock', 'deutschspr',\n",
       "       'dirty', 'disco', 'dnb', 'documentary', 'downbeat', 'downtempo',\n",
       "       'drum', 'dub', 'dubstep', 'eastern', 'easy', 'electronic',\n",
       "       'electropop', 'emo', 'entehno', 'epicmetal', 'estrada', 'ethnic',\n",
       "       'eurofolk', 'european', 'experimental', 'extrememetal', 'fado',\n",
       "       'fairytail', 'film', 'fitness', 'flamenco', 'folk', 'folklore',\n",
       "       'folkmetal', 'folkrock', 'folktronica', 'forró', 'frankreich',\n",
       "       'französisch', 'french', 'funk', 'future', 'gangsta', 'garage',\n",
       "       'german', 'ghazal', 'gitarre', 'glitch', 'gospel', 'gothic',\n",
       "       'grime', 'grunge', 'gypsy', 'handsup', \"hard'n'heavy\", 'hardcore',\n",
       "       'hardstyle', 'hardtechno', 'hiphop', 'historisch', 'holiday',\n",
       "       'horror', 'house', 'hymn', 'idm', 'independent', 'indian', 'indie',\n",
       "       'indipop', 'industrial', 'inspirational', 'instrumental',\n",
       "       'international', 'irish', 'jam', 'japanese', 'jazz', 'jewish',\n",
       "       'jpop', 'jungle', 'k-pop', 'karadeniz', 'karaoke', 'kayokyoku',\n",
       "       'korean', 'laiko', 'latin', 'latino', 'leftfield', 'local',\n",
       "       'lounge', 'loungeelectronic', 'lovers', 'malaysian', 'mandopop',\n",
       "       'marschmusik', 'meditative', 'mediterranean', 'melodic', 'metal',\n",
       "       'metalcore', 'mexican', 'middle', 'minimal', 'miscellaneous',\n",
       "       'modern', 'mood', 'mpb', 'muslim', 'native', 'neoklassik', 'neue',\n",
       "       'new', 'newage', 'newwave', 'nu', 'nujazz', 'numetal', 'oceania',\n",
       "       'old', 'opera', 'orchestral', 'other', 'piano', 'podcasts', 'pop',\n",
       "       'popdance', 'popelectronic', 'popeurodance', 'poprussian', 'post',\n",
       "       'posthardcore', 'postrock', 'power', 'progmetal', 'progressive',\n",
       "       'psychedelic', 'punjabi', 'punk', 'quebecois', 'ragga', 'ram',\n",
       "       'rancheras', 'rap', 'rave', 'reggae', 'reggaeton', 'regional',\n",
       "       'relax', 'religious', 'retro', 'rhythm', 'rnb', 'rnr', 'rock',\n",
       "       'rockabilly', 'rockalternative', 'rockindie', 'rockother',\n",
       "       'romance', 'roots', 'ruspop', 'rusrap', 'rusrock', 'russian',\n",
       "       'salsa', 'samba', 'scenic', 'schlager', 'self', 'sertanejo',\n",
       "       'shanson', 'shoegazing', 'showtunes', 'singer', 'ska', 'skarock',\n",
       "       'slow', 'smooth', 'soft', 'soul', 'soulful', 'sound', 'soundtrack',\n",
       "       'southern', 'specialty', 'speech', 'spiritual', 'sport',\n",
       "       'stonerrock', 'surf', 'swing', 'synthpop', 'synthrock',\n",
       "       'sängerportrait', 'tango', 'tanzorchester', 'taraftar', 'tatar',\n",
       "       'tech', 'techno', 'teen', 'thrash', 'top', 'traditional',\n",
       "       'tradjazz', 'trance', 'tribal', 'trip', 'triphop', 'tropical',\n",
       "       'türk', 'türkçe', 'ukrrock', 'unknown', 'urban', 'uzbek',\n",
       "       'variété', 'vi', 'videogame', 'vocal', 'western', 'world',\n",
       "       'worldbeat', 'ïîï', 'электроника'], dtype=object)"
      ]
     },
     "execution_count": 17,
     "metadata": {},
     "output_type": "execute_result"
    }
   ],
   "source": [
    "genres_list=df['genre'].sort_values()\n",
    "genres_list.unique() # Проверка на неявные дубликаты"
   ]
  },
  {
   "cell_type": "markdown",
   "metadata": {
    "deletable": false,
    "editable": false,
    "id": "jz6a9-7HQUDd"
   },
   "source": [
    "**Выводы**\n",
    "\n",
    "Предобработка обнаружила три проблемы в данных:\n",
    "\n",
    "- нарушения в стиле заголовков,\n",
    "- пропущенные значения,\n",
    "- дубликаты — явные и неявные.\n",
    "\n",
    "Вы исправили заголовки, чтобы упростить работу с таблицей. Без дубликатов исследование станет более точным.\n",
    "\n",
    "Пропущенные значения вы заменили на `'unknown'`. Ещё предстоит увидеть, не повредят ли исследованию пропуски в колонке `genre`.\n",
    "\n",
    "Теперь можно перейти к проверке гипотез. "
   ]
  },
  {
   "cell_type": "markdown",
   "metadata": {
    "deletable": false,
    "editable": false,
    "id": "WttZHXH0SqKk"
   },
   "source": [
    "## Проверка гипотез"
   ]
  },
  {
   "cell_type": "markdown",
   "metadata": {
    "deletable": false,
    "editable": false,
    "id": "Im936VVi_Zcu"
   },
   "source": [
    "### Сравнение поведения пользователей двух столиц"
   ]
  },
  {
   "cell_type": "markdown",
   "metadata": {
    "deletable": false,
    "editable": false,
    "id": "nwt_MuaL_Zcu"
   },
   "source": [
    "Первая гипотеза утверждает, что пользователи по-разному слушают музыку в Москве и Санкт-Петербурге. Проверьте это предположение по данным о трёх днях недели — понедельнике, среде и пятнице. Для этого:\n",
    "\n",
    "* Разделите пользователей Москвы и Санкт-Петербурга.\n",
    "* Сравните, сколько треков послушала каждая группа пользователей в понедельник, среду и пятницу.\n"
   ]
  },
  {
   "cell_type": "markdown",
   "metadata": {
    "deletable": false,
    "editable": false,
    "id": "8Dw_YMmT_Zcu",
    "tags": [
     "start_task"
    ]
   },
   "source": [
    "**Задание 18**\n",
    "\n",
    "Для тренировки сначала выполните каждый из расчётов по отдельности. \n",
    "\n",
    "Оцените активность пользователей в каждом городе. Сгруппируйте данные по городу и посчитайте прослушивания в каждой группе.\n",
    "\n"
   ]
  },
  {
   "cell_type": "code",
   "execution_count": 18,
   "metadata": {
    "deletable": false,
    "id": "0_Qs96oh_Zcu"
   },
   "outputs": [
    {
     "data": {
      "text/plain": [
       "city\n",
       "Moscow              42741\n",
       "Saint-Petersburg    18512\n",
       "Name: city, dtype: int64"
      ]
     },
     "execution_count": 18,
     "metadata": {},
     "output_type": "execute_result"
    }
   ],
   "source": [
    "df.groupby('city')['city'].count()# Подсчёт прослушиваний в каждом городе"
   ]
  },
  {
   "cell_type": "markdown",
   "metadata": {
    "deletable": false,
    "editable": false,
    "id": "dzli3w8o_Zcu",
    "tags": [
     "start_task"
    ]
   },
   "source": [
    "В Москве прослушиваний больше, чем в Петербурге. Из этого не следует, что московские пользователи чаще слушают музыку. Просто самих пользователей в Москве больше.\n",
    "\n",
    "**Задание 19**\n",
    "\n",
    "Теперь сгруппируйте данные по дню недели и посчитайте прослушивания в понедельник, среду и пятницу. Учтите, что в данных есть информация о прослушиваниях только за эти дни.\n"
   ]
  },
  {
   "cell_type": "code",
   "execution_count": 19,
   "metadata": {
    "deletable": false,
    "id": "uZMKjiJz_Zcu"
   },
   "outputs": [
    {
     "data": {
      "text/plain": [
       "day\n",
       "Friday       21840\n",
       "Monday       21354\n",
       "Wednesday    18059\n",
       "Name: day, dtype: int64"
      ]
     },
     "execution_count": 19,
     "metadata": {},
     "output_type": "execute_result"
    }
   ],
   "source": [
    "df.groupby('day')['day'].count()# Подсчёт прослушиваний в каждый из трёх дней"
   ]
  },
  {
   "cell_type": "markdown",
   "metadata": {
    "deletable": false,
    "editable": false,
    "id": "cC2tNrlL_Zcu"
   },
   "source": [
    "В среднем пользователи из двух городов менее активны по средам. Но картина может измениться, если рассмотреть каждый город в отдельности."
   ]
  },
  {
   "cell_type": "markdown",
   "metadata": {
    "deletable": false,
    "editable": false,
    "id": "POzs8bGa_Zcu",
    "tags": [
     "start_task"
    ]
   },
   "source": [
    "**Задание 20**\n",
    "\n",
    "\n",
    "Вы видели, как работает группировка по городу и по дням недели. Теперь напишите функцию, которая объединит два эти расчёта.\n",
    "\n",
    "Создайте функцию `number_tracks()`, которая посчитает прослушивания для заданного дня и города. Ей понадобятся два параметра:\n",
    "* день недели,\n",
    "* название города.\n",
    "\n",
    "В функции сохраните в переменную строки исходной таблицы, у которых значение:\n",
    "  * в колонке `day` равно параметру `day`,\n",
    "  * в колонке `city` равно параметру `city`.\n",
    "\n",
    "Для этого примените последовательную фильтрацию с логической индексацией (или сложные логические выражения в одну строку, если вы уже знакомы с ними).\n",
    "\n",
    "Затем посчитайте значения в столбце `user_id` получившейся таблицы. Результат сохраните в новую переменную. Верните эту переменную из функции."
   ]
  },
  {
   "cell_type": "code",
   "execution_count": 20,
   "metadata": {
    "deletable": false,
    "id": "Nz3GdQB1_Zcu"
   },
   "outputs": [],
   "source": [
    "def number_tracks(day, city):\n",
    "    track_list=df[(df['day']==day) & (df['city']==city)]\n",
    "    track_list_count = track_list['user_id'].count() \n",
    "    return track_list_count\n"
   ]
  },
  {
   "cell_type": "markdown",
   "metadata": {
    "deletable": false,
    "editable": false,
    "id": "ytf7xFrFJQ2r",
    "tags": [
     "start_task"
    ]
   },
   "source": [
    "**Задание 21**\n",
    "\n",
    "Вызовите `number_tracks()` шесть раз, меняя значение параметров — так, чтобы получить данные для каждого города в каждый из трёх дней."
   ]
  },
  {
   "cell_type": "code",
   "execution_count": 21,
   "metadata": {
    "deletable": false,
    "id": "rJcRATNQ_Zcu"
   },
   "outputs": [
    {
     "data": {
      "text/plain": [
       "15740"
      ]
     },
     "execution_count": 21,
     "metadata": {},
     "output_type": "execute_result"
    }
   ],
   "source": [
    "number_tracks('Monday','Moscow')# количество прослушиваний в Москве по понедельникам"
   ]
  },
  {
   "cell_type": "code",
   "execution_count": 22,
   "metadata": {
    "deletable": false,
    "id": "hq_ncZ5T_Zcu"
   },
   "outputs": [
    {
     "data": {
      "text/plain": [
       "5614"
      ]
     },
     "execution_count": 22,
     "metadata": {},
     "output_type": "execute_result"
    }
   ],
   "source": [
    "number_tracks('Monday', 'Saint-Petersburg')# количество прослушиваний в Санкт-Петербурге по понедельникам"
   ]
  },
  {
   "cell_type": "code",
   "execution_count": 23,
   "metadata": {
    "deletable": false,
    "id": "_NTy2VPU_Zcu"
   },
   "outputs": [
    {
     "data": {
      "text/plain": [
       "11056"
      ]
     },
     "execution_count": 23,
     "metadata": {},
     "output_type": "execute_result"
    }
   ],
   "source": [
    "number_tracks('Wednesday', 'Moscow')# количество прослушиваний в Москве по средам"
   ]
  },
  {
   "cell_type": "code",
   "execution_count": 24,
   "metadata": {
    "deletable": false,
    "id": "j2y3TAwo_Zcu"
   },
   "outputs": [
    {
     "data": {
      "text/plain": [
       "7003"
      ]
     },
     "execution_count": 24,
     "metadata": {},
     "output_type": "execute_result"
    }
   ],
   "source": [
    "number_tracks('Wednesday', 'Saint-Petersburg')# количество прослушиваний в Санкт-Петербурге по средам"
   ]
  },
  {
   "cell_type": "code",
   "execution_count": 25,
   "metadata": {
    "deletable": false,
    "id": "vYDw5u_K_Zcu"
   },
   "outputs": [
    {
     "data": {
      "text/plain": [
       "15945"
      ]
     },
     "execution_count": 25,
     "metadata": {},
     "output_type": "execute_result"
    }
   ],
   "source": [
    "number_tracks('Friday', 'Moscow')# количество прослушиваний в Москве по пятницам"
   ]
  },
  {
   "cell_type": "code",
   "execution_count": 26,
   "metadata": {
    "deletable": false,
    "id": "8_yzFtW3_Zcu"
   },
   "outputs": [
    {
     "data": {
      "text/plain": [
       "5895"
      ]
     },
     "execution_count": 26,
     "metadata": {},
     "output_type": "execute_result"
    }
   ],
   "source": [
    "number_tracks('Friday', 'Saint-Petersburg')# количество прослушиваний в Санкт-Петербурге по пятницам"
   ]
  },
  {
   "cell_type": "markdown",
   "metadata": {
    "deletable": false,
    "editable": false,
    "id": "7QXffbO-_Zcu",
    "tags": [
     "start_task"
    ]
   },
   "source": [
    "**Задание 22**\n",
    "\n",
    "Создайте c помощью конструктора `pd.DataFrame` таблицу, где\n",
    "* названия колонок — `['city', 'monday', 'wednesday', 'friday']`;\n",
    "* данные — результаты, которые вы получили с помощью `number_tracks`."
   ]
  },
  {
   "cell_type": "code",
   "execution_count": 27,
   "metadata": {
    "deletable": false,
    "id": "APAcLpOr_Zcu"
   },
   "outputs": [],
   "source": [
    "data = [['Moscow', 15347, 10865, 15680],\n",
    "       ['Saint-Petersburg', 5519, 6913, 5802]]\n",
    "columns = ['city','monday','wednesday','friday']\n",
    "table = pd.DataFrame(data = data, columns = columns) # Таблица с результатами"
   ]
  },
  {
   "cell_type": "markdown",
   "metadata": {
    "deletable": false,
    "editable": false,
    "id": "-EgPIHYu_Zcu"
   },
   "source": [
    "**Выводы**\n",
    "\n",
    "Данные показывают разницу поведения пользователей:\n",
    "\n",
    "- В Москве пик прослушиваний приходится на понедельник и пятницу, а в среду заметен спад.\n",
    "- В Петербурге, наоборот, больше слушают музыку по средам. Активность в понедельник и пятницу здесь почти в равной мере уступает среде.\n",
    "\n",
    "Значит, данные говорят в пользу первой гипотезы."
   ]
  },
  {
   "cell_type": "markdown",
   "metadata": {
    "deletable": false,
    "editable": false,
    "id": "atZAxtq4_Zcu"
   },
   "source": [
    "### Музыка в начале и в конце недели"
   ]
  },
  {
   "cell_type": "markdown",
   "metadata": {
    "deletable": false,
    "editable": false,
    "id": "eXrQqXFH_Zcu"
   },
   "source": [
    "Согласно второй гипотезе, утром в понедельник в Москве преобладают одни жанры, а в Петербурге — другие. Так же и вечером пятницы преобладают разные жанры — в зависимости от города."
   ]
  },
  {
   "cell_type": "markdown",
   "metadata": {
    "deletable": false,
    "editable": false,
    "id": "S8UcW6Hw_Zcu",
    "tags": [
     "start_task"
    ]
   },
   "source": [
    "**Задание 23**\n",
    "\n",
    "Сохраните таблицы с данными в две переменные:\n",
    "* по Москве — в `moscow_general`;\n",
    "* по Санкт-Петербургу — в `spb_general`."
   ]
  },
  {
   "cell_type": "code",
   "execution_count": 28,
   "metadata": {
    "deletable": false,
    "id": "qeaFfM_P_Zcu"
   },
   "outputs": [],
   "source": [
    "moscow_general = df[df['city'] == 'Moscow'] # получение таблицы moscow_general из тех строк таблицы df, \n",
    "# для которых значение в столбце 'city' равно 'Moscow'\n"
   ]
  },
  {
   "cell_type": "code",
   "execution_count": 29,
   "metadata": {
    "deletable": false,
    "id": "ORaVRKto_Zcu"
   },
   "outputs": [],
   "source": [
    "spb_general=df[df['city']=='Saint-Petersburg'] # получение таблицы spb_general из тех строк таблицы df,\n",
    "# для которых значение в столбце 'city' равно 'Saint-Petersburg'\n"
   ]
  },
  {
   "cell_type": "markdown",
   "metadata": {
    "deletable": false,
    "editable": false,
    "id": "MEJV-CX2_Zcu",
    "tags": [
     "start_task"
    ]
   },
   "source": [
    "**Задание 24**\n",
    "\n",
    "Создайте функцию `genre_weekday()` с четырьмя параметрами:\n",
    "* таблица (датафрейм) с данными,\n",
    "* день недели,\n",
    "* начальная временная метка в формате 'hh:mm', \n",
    "* последняя временная метка в формате 'hh:mm'.\n",
    "\n",
    "Функция должна вернуть информацию о топ-10 жанров тех треков, которые прослушивали в указанный день, в промежутке между двумя отметками времени."
   ]
  },
  {
   "cell_type": "code",
   "execution_count": 30,
   "metadata": {
    "deletable": false,
    "id": "laJT9BYl_Zcu"
   },
   "outputs": [],
   "source": [
    "# Объявление функции genre_weekday() с параметрами table, day, time1, time2,\n",
    "# которая возвращает информацию о самых популярных жанрах в указанный день в\n",
    "# заданное время:\n",
    "# 1) в переменную genre_df сохраняются те строки переданного датафрейма table, для\n",
    "#    которых одновременно:\n",
    "#    - значение в столбце day равно значению аргумента day\n",
    "#    - значение в столбце time больше значения аргумента time1\n",
    "#    - значение в столбце time меньше значения аргумента time2\n",
    "#    Используйте последовательную фильтрацию с помощью логической индексации.\n",
    "# 2) сгруппировать датафрейм genre_df по столбцу genre, взять один из его\n",
    "#    столбцов и посчитать методом count() количество записей для каждого из\n",
    "#    присутствующих жанров, получившийся Series записать в переменную\n",
    "#    genre_df_count\n",
    "# 3) отсортировать genre_df_count по убыванию встречаемости и сохранить\n",
    "#    в переменную genre_df_sorted\n",
    "# 4) вернуть Series из 10 первых значений genre_df_sorted, это будут топ-10\n",
    "#    популярных жанров (в указанный день, в заданное время)\n",
    "\n",
    "def genre_weekday(table, day, time1, time2):\n",
    "    genre_df=table[(table['day']==day) & (table['time']>time1)& (table['time']<=time2)]\n",
    "    genre_of_count = genre_df.groupby('genre')['genre'].count()\n",
    "    genre_of_sorted = genre_of_count.sort_values(ascending = False).head(10)\n",
    "    return genre_of_sorted[:10]"
   ]
  },
  {
   "cell_type": "markdown",
   "metadata": {
    "deletable": false,
    "editable": false,
    "id": "la2s2_PF_Zcu",
    "tags": [
     "start_task"
    ]
   },
   "source": [
    "**Задание 25**\n",
    "\n",
    "\n",
    "Cравните результаты функции `genre_weekday()` для Москвы и Санкт-Петербурга в понедельник утром (с 7:00 до 11:00) и в пятницу вечером (с 17:00 до 23:00):"
   ]
  },
  {
   "cell_type": "code",
   "execution_count": 31,
   "metadata": {
    "deletable": false,
    "id": "yz7itPUQ_Zcu"
   },
   "outputs": [],
   "source": [
    "genre_weekday(moscow_general, 'Monday', '07:00', '11:00')# вызов функции для утра понедельника в Москве (вместо df — таблица moscow_general)\n",
    "# объекты, хранящие время, являются строками и сравниваются как строки\n",
    "# пример вызова: genre_weekday(moscow_general, 'Monday', '07:00', '11:00')"
   ]
  },
  {
   "cell_type": "code",
   "execution_count": 32,
   "metadata": {
    "deletable": false,
    "id": "kwUcHPdy_Zcu"
   },
   "outputs": [],
   "source": [
    "genre_weekday(spb_general, 'Monday', '07:00', '11:00')# вызов функции для утра понедельника в Петербурге (вместо df — таблица spb_general)"
   ]
  },
  {
   "cell_type": "code",
   "execution_count": 33,
   "metadata": {
    "deletable": false,
    "id": "EzXVRE1o_Zcu"
   },
   "outputs": [],
   "source": [
    "genre_weekday(moscow_general, 'Friday', '17:00', '23:00')# вызов функции для вечера пятницы в Москве"
   ]
  },
  {
   "cell_type": "code",
   "execution_count": 34,
   "metadata": {
    "deletable": false,
    "id": "JZaEKu5v_Zcu"
   },
   "outputs": [],
   "source": [
    "genre_weekday(spb_general, 'Friday', '17:00', '23:00')# вызов функции для вечера пятницы в Петербурге"
   ]
  },
  {
   "cell_type": "markdown",
   "metadata": {
    "deletable": false,
    "editable": false,
    "id": "wrCe4MNX_Zcu"
   },
   "source": [
    "**Выводы**\n",
    "\n",
    "Если сравнить топ-10 жанров в понедельник утром, можно сделать такие выводы:\n",
    "\n",
    "1. В Москве и Петербурге слушают похожую музыку. Единственное отличие — в московский рейтинг вошёл жанр “world”, а в петербургский — джаз и классика.\n",
    "\n",
    "2. В Москве пропущенных значений оказалось так много, что значение `'unknown'` заняло десятое место среди самых популярных жанров. Значит, пропущенные значения занимают существенную долю в данных и угрожают достоверности исследования.\n",
    "\n",
    "Вечер пятницы не меняет эту картину. Некоторые жанры поднимаются немного выше, другие спускаются, но в целом топ-10 остаётся тем же самым.\n",
    "\n",
    "Таким образом, вторая гипотеза подтвердилась лишь частично:\n",
    "* Пользователи слушают похожую музыку в начале недели и в конце.\n",
    "* Разница между Москвой и Петербургом не слишком выражена. В Москве чаще слушают русскую популярную музыку, в Петербурге — джаз.\n",
    "\n",
    "Однако пропуски в данных ставят под сомнение этот результат. В Москве их так много, что рейтинг топ-10 мог бы выглядеть иначе, если бы не утерянные  данные о жанрах."
   ]
  },
  {
   "cell_type": "markdown",
   "metadata": {
    "deletable": false,
    "editable": false,
    "id": "JolODAqr_Zcu"
   },
   "source": [
    "### Жанровые предпочтения в Москве и Петербурге\n",
    "\n",
    "Гипотеза: Петербург — столица рэпа, музыку этого жанра там слушают чаще, чем в Москве.  А Москва — город контрастов, в котором, тем не менее, преобладает поп-музыка."
   ]
  },
  {
   "cell_type": "markdown",
   "metadata": {
    "deletable": false,
    "editable": false,
    "id": "DlegSvaT_Zcu",
    "tags": [
     "start_task"
    ]
   },
   "source": [
    "**Задание 26**\n",
    "\n",
    "Сгруппируйте таблицу `moscow_general` по жанру и посчитайте прослушивания треков каждого жанра методом `count()`. Затем отсортируйте результат в порядке убывания и сохраните его в таблице `moscow_genres`."
   ]
  },
  {
   "cell_type": "code",
   "execution_count": 35,
   "metadata": {
    "deletable": false,
    "id": "r19lIPke_Zcu"
   },
   "outputs": [],
   "source": [
    "m=moscow_general.groupby('genre')['genre'].count()\n",
    "moscow_genres=m.sort_values(ascending=False)\n",
    "# одной строкой: группировка таблицы moscow_general по столбцу 'genre', \n",
    "# подсчёт числа значений 'genre' в этой группировке методом count(), \n",
    "# сортировка получившегося Series в порядке убывания и сохранение в moscow_genres"
   ]
  },
  {
   "cell_type": "markdown",
   "metadata": {
    "deletable": false,
    "editable": false,
    "id": "6kMuomxTiIr8",
    "tags": [
     "start_task"
    ]
   },
   "source": [
    "**Задание 27**\n",
    "\n",
    "Выведите на экран первые десять строк `moscow_genres`:"
   ]
  },
  {
   "cell_type": "code",
   "execution_count": 36,
   "metadata": {
    "deletable": false,
    "id": "WhCSooF8_Zcv"
   },
   "outputs": [],
   "source": [
    "moscow_genres.head(10) # просмотр первых 10 строк moscow_genres"
   ]
  },
  {
   "cell_type": "markdown",
   "metadata": {
    "deletable": false,
    "editable": false,
    "id": "cnPG2vnN_Zcv",
    "tags": [
     "start_task"
    ]
   },
   "source": [
    "**Задание 28**\n",
    "\n",
    "\n",
    "Теперь повторите то же и для Петербурга.\n",
    "\n",
    "Сгруппируйте таблицу `spb_general` по жанру. Посчитайте прослушивания треков каждого жанра. Результат отсортируйте в порядке убывания и сохраните в таблице `spb_genres`:\n"
   ]
  },
  {
   "cell_type": "code",
   "execution_count": 37,
   "metadata": {
    "deletable": false,
    "id": "gluLIpE7_Zcv"
   },
   "outputs": [],
   "source": [
    "s=spb_general.groupby('genre')['genre'].count()\n",
    "spb_genres=s.sort_values(ascending=False)# одной строкой: группировка таблицы spb_general по столбцу 'genre', \n",
    "# подсчёт числа значений 'genre' в этой группировке методом count(), \n",
    "# сортировка получившегося Series в порядке убывания и сохранение в spb_genres"
   ]
  },
  {
   "cell_type": "markdown",
   "metadata": {
    "deletable": false,
    "editable": false,
    "id": "5Doha_ODgyQ8",
    "tags": [
     "start_task"
    ]
   },
   "source": [
    "**Задание 29**\n",
    "\n",
    "Выведите на экран первые десять строк `spb_genres`:"
   ]
  },
  {
   "cell_type": "code",
   "execution_count": 38,
   "metadata": {
    "deletable": false,
    "id": "uaGJHjVU_Zcv"
   },
   "outputs": [],
   "source": [
    "spb_genres.head(10) # просмотр первых 10 строк spb_genres"
   ]
  },
  {
   "cell_type": "markdown",
   "metadata": {
    "deletable": false,
    "editable": false,
    "id": "RY51YJYu_Zcv"
   },
   "source": [
    "**Выводы**"
   ]
  },
  {
   "cell_type": "markdown",
   "metadata": {
    "deletable": false,
    "editable": false,
    "id": "nVhnJEm__Zcv"
   },
   "source": [
    "Гипотеза частично подтвердилась:\n",
    "* Поп-музыка — самый популярный жанр в Москве, как и предполагала гипотеза. Более того, в топ-10 жанров встречается близкий жанр — русская популярная музыка.\n",
    "* Вопреки ожиданиям, рэп одинаково популярен в Москве и Петербурге. \n"
   ]
  },
  {
   "cell_type": "markdown",
   "metadata": {
    "deletable": false,
    "editable": false,
    "id": "ykKQ0N65_Zcv"
   },
   "source": [
    "## Итоги исследования"
   ]
  },
  {
   "cell_type": "markdown",
   "metadata": {
    "deletable": false,
    "editable": false,
    "id": "tjUwbHb3_Zcv"
   },
   "source": [
    "Вы проверили три гипотезы и установили:\n",
    "\n",
    "1. День недели по-разному влияет на активность пользователей в Москве и Петербурге. \n",
    "\n",
    "Первая гипотеза полностью подтвердилась.\n",
    "\n",
    "2. Музыкальные предпочтения не сильно меняются в течение недели — будь то Москва или Петербург. Небольшие различия заметны в начале недели, по понедельникам:\n",
    "* в Москве слушают музыку жанра “world”,\n",
    "* в Петербурге — джаз и классику.\n",
    "\n",
    "Таким образом, вторая гипотеза подтвердилась лишь отчасти. Этот результат мог оказаться иным, если бы не пропуски в данных.\n",
    "\n",
    "3. Во вкусах пользователей Москвы и Петербурга больше общего чем различий. Вопреки ожиданиям, предпочтения жанров в Петербурге напоминают московские.\n",
    "\n",
    "Третья гипотеза не подтвердилась. Если различия в предпочтениях и существуют, на основной массе пользователей они незаметны.\n",
    "\n",
    "**На практике исследования содержат проверки статистических гипотез.**\n",
    "Из данных одного сервиса не всегда можно сделать вывод о всех жителях города.\n",
    "Проверки статистических гипотез покажут, насколько они достоверны, исходя из имеющихся данных. \n",
    "С методами проверок гипотез вы ещё познакомитесь в следующих темах."
   ]
  }
 ],
 "metadata": {
  "ExecuteTimeLog": [
   {
    "duration": 427,
    "start_time": "2022-07-18T21:03:23.219Z"
   },
   {
    "duration": 50,
    "start_time": "2022-07-18T21:04:46.324Z"
   },
   {
    "duration": 58,
    "start_time": "2022-07-18T21:05:42.240Z"
   },
   {
    "duration": 7,
    "start_time": "2022-07-18T21:12:42.932Z"
   },
   {
    "duration": 8,
    "start_time": "2022-07-18T21:12:54.462Z"
   },
   {
    "duration": 404,
    "start_time": "2022-07-18T21:13:13.837Z"
   },
   {
    "duration": 217,
    "start_time": "2022-07-18T21:13:14.243Z"
   },
   {
    "duration": 8,
    "start_time": "2022-07-18T21:13:14.464Z"
   },
   {
    "duration": 31,
    "start_time": "2022-07-18T21:13:14.473Z"
   },
   {
    "duration": 2,
    "start_time": "2022-07-18T21:13:14.506Z"
   },
   {
    "duration": 5,
    "start_time": "2022-07-18T21:13:14.509Z"
   },
   {
    "duration": 5,
    "start_time": "2022-07-18T21:13:14.515Z"
   },
   {
    "duration": 6,
    "start_time": "2022-07-18T21:13:14.521Z"
   },
   {
    "duration": 4,
    "start_time": "2022-07-18T21:13:14.529Z"
   },
   {
    "duration": 12,
    "start_time": "2022-07-18T21:13:14.534Z"
   },
   {
    "duration": 8,
    "start_time": "2022-07-18T21:13:14.548Z"
   },
   {
    "duration": 6,
    "start_time": "2022-07-18T21:13:14.557Z"
   },
   {
    "duration": 4,
    "start_time": "2022-07-18T21:13:14.565Z"
   },
   {
    "duration": 5,
    "start_time": "2022-07-18T21:13:14.570Z"
   },
   {
    "duration": 14,
    "start_time": "2022-07-18T21:13:14.576Z"
   },
   {
    "duration": 6,
    "start_time": "2022-07-18T21:13:14.592Z"
   },
   {
    "duration": 6,
    "start_time": "2022-07-18T21:13:14.600Z"
   },
   {
    "duration": 10,
    "start_time": "2022-07-18T21:13:14.608Z"
   },
   {
    "duration": 8,
    "start_time": "2022-07-18T21:13:14.619Z"
   },
   {
    "duration": 5,
    "start_time": "2022-07-18T21:13:14.628Z"
   },
   {
    "duration": 8,
    "start_time": "2022-07-18T21:13:14.634Z"
   },
   {
    "duration": 4,
    "start_time": "2022-07-18T21:13:14.643Z"
   },
   {
    "duration": 4,
    "start_time": "2022-07-18T21:13:14.649Z"
   },
   {
    "duration": 6,
    "start_time": "2022-07-18T21:13:14.654Z"
   },
   {
    "duration": 10,
    "start_time": "2022-07-18T21:13:14.661Z"
   },
   {
    "duration": 9,
    "start_time": "2022-07-18T21:13:14.673Z"
   },
   {
    "duration": 4,
    "start_time": "2022-07-18T21:13:14.686Z"
   },
   {
    "duration": 6,
    "start_time": "2022-07-18T21:13:14.691Z"
   },
   {
    "duration": 5,
    "start_time": "2022-07-18T21:13:14.698Z"
   },
   {
    "duration": 55,
    "start_time": "2022-07-18T21:13:14.705Z"
   },
   {
    "duration": 0,
    "start_time": "2022-07-18T21:13:14.762Z"
   },
   {
    "duration": 0,
    "start_time": "2022-07-18T21:13:14.763Z"
   },
   {
    "duration": 0,
    "start_time": "2022-07-18T21:13:14.764Z"
   },
   {
    "duration": 0,
    "start_time": "2022-07-18T21:13:14.765Z"
   },
   {
    "duration": 0,
    "start_time": "2022-07-18T21:13:14.766Z"
   },
   {
    "duration": 0,
    "start_time": "2022-07-18T21:13:14.768Z"
   },
   {
    "duration": 0,
    "start_time": "2022-07-18T21:13:14.769Z"
   },
   {
    "duration": 1,
    "start_time": "2022-07-18T21:13:14.769Z"
   },
   {
    "duration": 8,
    "start_time": "2022-07-18T21:19:54.720Z"
   },
   {
    "duration": 3,
    "start_time": "2022-07-18T21:20:59.382Z"
   },
   {
    "duration": 3,
    "start_time": "2022-07-18T21:21:13.808Z"
   },
   {
    "duration": 4,
    "start_time": "2022-07-18T21:26:10.290Z"
   },
   {
    "duration": 14,
    "start_time": "2022-07-18T21:28:32.219Z"
   },
   {
    "duration": 4,
    "start_time": "2022-07-18T21:29:00.969Z"
   },
   {
    "duration": 27,
    "start_time": "2022-07-18T21:30:02.912Z"
   },
   {
    "duration": 78,
    "start_time": "2022-07-18T21:38:26.796Z"
   },
   {
    "duration": 400,
    "start_time": "2022-07-18T21:38:51.560Z"
   },
   {
    "duration": 172,
    "start_time": "2022-07-18T21:38:51.962Z"
   },
   {
    "duration": 23,
    "start_time": "2022-07-18T21:38:52.136Z"
   },
   {
    "duration": 39,
    "start_time": "2022-07-18T21:38:52.162Z"
   },
   {
    "duration": 2,
    "start_time": "2022-07-18T21:38:52.203Z"
   },
   {
    "duration": 16,
    "start_time": "2022-07-18T21:38:52.207Z"
   },
   {
    "duration": 18,
    "start_time": "2022-07-18T21:38:52.224Z"
   },
   {
    "duration": 23,
    "start_time": "2022-07-18T21:38:52.243Z"
   },
   {
    "duration": 27,
    "start_time": "2022-07-18T21:38:52.269Z"
   },
   {
    "duration": 17,
    "start_time": "2022-07-18T21:38:52.299Z"
   },
   {
    "duration": 30,
    "start_time": "2022-07-18T21:38:52.318Z"
   },
   {
    "duration": 77,
    "start_time": "2022-07-18T21:38:52.350Z"
   },
   {
    "duration": 82,
    "start_time": "2022-07-18T21:38:52.429Z"
   },
   {
    "duration": 74,
    "start_time": "2022-07-18T21:38:52.513Z"
   },
   {
    "duration": 2,
    "start_time": "2022-07-18T21:38:52.589Z"
   },
   {
    "duration": 9,
    "start_time": "2022-07-18T21:38:52.592Z"
   },
   {
    "duration": 5,
    "start_time": "2022-07-18T21:38:52.602Z"
   },
   {
    "duration": 9,
    "start_time": "2022-07-18T21:38:52.608Z"
   },
   {
    "duration": 7,
    "start_time": "2022-07-18T21:38:52.618Z"
   },
   {
    "duration": 6,
    "start_time": "2022-07-18T21:38:52.627Z"
   },
   {
    "duration": 11,
    "start_time": "2022-07-18T21:38:52.634Z"
   },
   {
    "duration": 19,
    "start_time": "2022-07-18T21:38:52.646Z"
   },
   {
    "duration": 7,
    "start_time": "2022-07-18T21:38:52.666Z"
   },
   {
    "duration": 6,
    "start_time": "2022-07-18T21:38:52.674Z"
   },
   {
    "duration": 8,
    "start_time": "2022-07-18T21:38:52.681Z"
   },
   {
    "duration": 5,
    "start_time": "2022-07-18T21:38:52.691Z"
   },
   {
    "duration": 6,
    "start_time": "2022-07-18T21:38:52.697Z"
   },
   {
    "duration": 2,
    "start_time": "2022-07-18T21:38:52.707Z"
   },
   {
    "duration": 5,
    "start_time": "2022-07-18T21:38:52.711Z"
   },
   {
    "duration": 59,
    "start_time": "2022-07-18T21:38:52.717Z"
   },
   {
    "duration": 0,
    "start_time": "2022-07-18T21:38:52.777Z"
   },
   {
    "duration": 0,
    "start_time": "2022-07-18T21:38:52.778Z"
   },
   {
    "duration": 0,
    "start_time": "2022-07-18T21:38:52.780Z"
   },
   {
    "duration": 0,
    "start_time": "2022-07-18T21:38:52.781Z"
   },
   {
    "duration": 0,
    "start_time": "2022-07-18T21:38:52.782Z"
   },
   {
    "duration": 0,
    "start_time": "2022-07-18T21:38:52.783Z"
   },
   {
    "duration": 0,
    "start_time": "2022-07-18T21:38:52.785Z"
   },
   {
    "duration": 0,
    "start_time": "2022-07-18T21:38:52.786Z"
   },
   {
    "duration": 6,
    "start_time": "2022-07-18T21:42:11.356Z"
   },
   {
    "duration": 5,
    "start_time": "2022-07-18T21:42:18.831Z"
   },
   {
    "duration": 417,
    "start_time": "2022-07-18T21:42:33.757Z"
   },
   {
    "duration": 180,
    "start_time": "2022-07-18T21:42:34.176Z"
   },
   {
    "duration": 8,
    "start_time": "2022-07-18T21:42:34.358Z"
   },
   {
    "duration": 33,
    "start_time": "2022-07-18T21:42:34.368Z"
   },
   {
    "duration": 20,
    "start_time": "2022-07-18T21:42:34.403Z"
   },
   {
    "duration": 38,
    "start_time": "2022-07-18T21:42:34.425Z"
   },
   {
    "duration": 21,
    "start_time": "2022-07-18T21:42:34.465Z"
   },
   {
    "duration": 8,
    "start_time": "2022-07-18T21:42:34.487Z"
   },
   {
    "duration": 28,
    "start_time": "2022-07-18T21:42:34.497Z"
   },
   {
    "duration": 32,
    "start_time": "2022-07-18T21:42:34.527Z"
   },
   {
    "duration": 26,
    "start_time": "2022-07-18T21:42:34.561Z"
   },
   {
    "duration": 77,
    "start_time": "2022-07-18T21:42:34.589Z"
   },
   {
    "duration": 90,
    "start_time": "2022-07-18T21:42:34.669Z"
   },
   {
    "duration": 63,
    "start_time": "2022-07-18T21:42:34.762Z"
   },
   {
    "duration": 28,
    "start_time": "2022-07-18T21:42:34.827Z"
   },
   {
    "duration": 3,
    "start_time": "2022-07-18T21:42:34.857Z"
   },
   {
    "duration": 12,
    "start_time": "2022-07-18T21:42:34.861Z"
   },
   {
    "duration": 6,
    "start_time": "2022-07-18T21:42:34.874Z"
   },
   {
    "duration": 7,
    "start_time": "2022-07-18T21:42:34.881Z"
   },
   {
    "duration": 6,
    "start_time": "2022-07-18T21:42:34.890Z"
   },
   {
    "duration": 9,
    "start_time": "2022-07-18T21:42:34.898Z"
   },
   {
    "duration": 9,
    "start_time": "2022-07-18T21:42:34.908Z"
   },
   {
    "duration": 7,
    "start_time": "2022-07-18T21:42:34.918Z"
   },
   {
    "duration": 7,
    "start_time": "2022-07-18T21:42:34.927Z"
   },
   {
    "duration": 9,
    "start_time": "2022-07-18T21:42:34.935Z"
   },
   {
    "duration": 19,
    "start_time": "2022-07-18T21:42:34.945Z"
   },
   {
    "duration": 5,
    "start_time": "2022-07-18T21:42:34.966Z"
   },
   {
    "duration": 6,
    "start_time": "2022-07-18T21:42:34.972Z"
   },
   {
    "duration": 5,
    "start_time": "2022-07-18T21:42:34.979Z"
   },
   {
    "duration": 49,
    "start_time": "2022-07-18T21:42:34.986Z"
   },
   {
    "duration": 0,
    "start_time": "2022-07-18T21:42:35.036Z"
   },
   {
    "duration": 1,
    "start_time": "2022-07-18T21:42:35.037Z"
   },
   {
    "duration": 0,
    "start_time": "2022-07-18T21:42:35.039Z"
   },
   {
    "duration": 0,
    "start_time": "2022-07-18T21:42:35.040Z"
   },
   {
    "duration": 0,
    "start_time": "2022-07-18T21:42:35.041Z"
   },
   {
    "duration": 0,
    "start_time": "2022-07-18T21:42:35.042Z"
   },
   {
    "duration": 0,
    "start_time": "2022-07-18T21:42:35.043Z"
   },
   {
    "duration": 0,
    "start_time": "2022-07-18T21:42:35.044Z"
   },
   {
    "duration": 65,
    "start_time": "2022-07-18T21:46:11.651Z"
   },
   {
    "duration": 388,
    "start_time": "2022-07-18T21:46:26.409Z"
   },
   {
    "duration": 173,
    "start_time": "2022-07-18T21:46:26.800Z"
   },
   {
    "duration": 8,
    "start_time": "2022-07-18T21:46:26.975Z"
   },
   {
    "duration": 35,
    "start_time": "2022-07-18T21:46:26.984Z"
   },
   {
    "duration": 3,
    "start_time": "2022-07-18T21:46:27.021Z"
   },
   {
    "duration": 23,
    "start_time": "2022-07-18T21:46:27.025Z"
   },
   {
    "duration": 21,
    "start_time": "2022-07-18T21:46:27.050Z"
   },
   {
    "duration": 8,
    "start_time": "2022-07-18T21:46:27.072Z"
   },
   {
    "duration": 28,
    "start_time": "2022-07-18T21:46:27.082Z"
   },
   {
    "duration": 37,
    "start_time": "2022-07-18T21:46:27.113Z"
   },
   {
    "duration": 25,
    "start_time": "2022-07-18T21:46:27.152Z"
   },
   {
    "duration": 81,
    "start_time": "2022-07-18T21:46:27.179Z"
   },
   {
    "duration": 90,
    "start_time": "2022-07-18T21:46:27.262Z"
   },
   {
    "duration": 61,
    "start_time": "2022-07-18T21:46:27.354Z"
   },
   {
    "duration": 58,
    "start_time": "2022-07-18T21:46:27.416Z"
   },
   {
    "duration": 79,
    "start_time": "2022-07-18T21:46:27.475Z"
   },
   {
    "duration": 0,
    "start_time": "2022-07-18T21:46:27.557Z"
   },
   {
    "duration": 0,
    "start_time": "2022-07-18T21:46:27.559Z"
   },
   {
    "duration": 0,
    "start_time": "2022-07-18T21:46:27.560Z"
   },
   {
    "duration": 0,
    "start_time": "2022-07-18T21:46:27.561Z"
   },
   {
    "duration": 0,
    "start_time": "2022-07-18T21:46:27.562Z"
   },
   {
    "duration": 0,
    "start_time": "2022-07-18T21:46:27.563Z"
   },
   {
    "duration": 0,
    "start_time": "2022-07-18T21:46:27.564Z"
   },
   {
    "duration": 0,
    "start_time": "2022-07-18T21:46:27.564Z"
   },
   {
    "duration": 0,
    "start_time": "2022-07-18T21:46:27.565Z"
   },
   {
    "duration": 0,
    "start_time": "2022-07-18T21:46:27.566Z"
   },
   {
    "duration": 0,
    "start_time": "2022-07-18T21:46:27.567Z"
   },
   {
    "duration": 0,
    "start_time": "2022-07-18T21:46:27.568Z"
   },
   {
    "duration": 1,
    "start_time": "2022-07-18T21:46:27.569Z"
   },
   {
    "duration": 0,
    "start_time": "2022-07-18T21:46:27.571Z"
   },
   {
    "duration": 0,
    "start_time": "2022-07-18T21:46:27.572Z"
   },
   {
    "duration": 0,
    "start_time": "2022-07-18T21:46:27.573Z"
   },
   {
    "duration": 0,
    "start_time": "2022-07-18T21:46:27.574Z"
   },
   {
    "duration": 0,
    "start_time": "2022-07-18T21:46:27.575Z"
   },
   {
    "duration": 0,
    "start_time": "2022-07-18T21:46:27.576Z"
   },
   {
    "duration": 0,
    "start_time": "2022-07-18T21:46:27.577Z"
   },
   {
    "duration": 0,
    "start_time": "2022-07-18T21:46:27.578Z"
   },
   {
    "duration": 0,
    "start_time": "2022-07-18T21:46:27.579Z"
   },
   {
    "duration": 7,
    "start_time": "2022-07-18T21:46:50.913Z"
   },
   {
    "duration": 11,
    "start_time": "2022-07-18T22:18:21.713Z"
   },
   {
    "duration": 13,
    "start_time": "2022-07-19T08:06:45.618Z"
   },
   {
    "duration": 4,
    "start_time": "2022-07-19T08:06:59.741Z"
   },
   {
    "duration": 41,
    "start_time": "2022-07-19T08:07:58.576Z"
   },
   {
    "duration": 7,
    "start_time": "2022-07-19T08:08:16.539Z"
   },
   {
    "duration": 6,
    "start_time": "2022-07-19T08:08:55.769Z"
   },
   {
    "duration": 7,
    "start_time": "2022-07-19T08:09:09.683Z"
   },
   {
    "duration": 8,
    "start_time": "2022-07-19T08:09:27.174Z"
   },
   {
    "duration": 3,
    "start_time": "2022-07-19T08:09:28.814Z"
   },
   {
    "duration": 3,
    "start_time": "2022-07-19T08:09:30.878Z"
   },
   {
    "duration": 8,
    "start_time": "2022-07-19T08:09:53.208Z"
   },
   {
    "duration": 6,
    "start_time": "2022-07-19T08:10:00.396Z"
   },
   {
    "duration": 6,
    "start_time": "2022-07-19T08:15:10.669Z"
   },
   {
    "duration": 419,
    "start_time": "2022-07-19T08:15:28.871Z"
   },
   {
    "duration": 282,
    "start_time": "2022-07-19T08:15:29.293Z"
   },
   {
    "duration": 8,
    "start_time": "2022-07-19T08:15:29.577Z"
   },
   {
    "duration": 50,
    "start_time": "2022-07-19T08:15:29.586Z"
   },
   {
    "duration": 20,
    "start_time": "2022-07-19T08:15:29.639Z"
   },
   {
    "duration": 33,
    "start_time": "2022-07-19T08:15:29.661Z"
   },
   {
    "duration": 41,
    "start_time": "2022-07-19T08:15:29.696Z"
   },
   {
    "duration": 37,
    "start_time": "2022-07-19T08:15:29.739Z"
   },
   {
    "duration": 37,
    "start_time": "2022-07-19T08:15:29.778Z"
   },
   {
    "duration": 29,
    "start_time": "2022-07-19T08:15:29.817Z"
   },
   {
    "duration": 45,
    "start_time": "2022-07-19T08:15:29.847Z"
   },
   {
    "duration": 78,
    "start_time": "2022-07-19T08:15:29.894Z"
   },
   {
    "duration": 91,
    "start_time": "2022-07-19T08:15:29.974Z"
   },
   {
    "duration": 76,
    "start_time": "2022-07-19T08:15:30.068Z"
   },
   {
    "duration": 35,
    "start_time": "2022-07-19T08:15:30.146Z"
   },
   {
    "duration": 11,
    "start_time": "2022-07-19T08:15:30.182Z"
   },
   {
    "duration": 55,
    "start_time": "2022-07-19T08:15:30.195Z"
   },
   {
    "duration": 11,
    "start_time": "2022-07-19T08:15:30.251Z"
   },
   {
    "duration": 11,
    "start_time": "2022-07-19T08:15:30.264Z"
   },
   {
    "duration": 15,
    "start_time": "2022-07-19T08:15:30.276Z"
   },
   {
    "duration": 35,
    "start_time": "2022-07-19T08:15:30.293Z"
   },
   {
    "duration": 42,
    "start_time": "2022-07-19T08:15:30.329Z"
   },
   {
    "duration": 31,
    "start_time": "2022-07-19T08:15:30.372Z"
   },
   {
    "duration": 36,
    "start_time": "2022-07-19T08:15:30.405Z"
   },
   {
    "duration": 30,
    "start_time": "2022-07-19T08:15:30.443Z"
   },
   {
    "duration": 28,
    "start_time": "2022-07-19T08:15:30.474Z"
   },
   {
    "duration": 26,
    "start_time": "2022-07-19T08:15:30.504Z"
   },
   {
    "duration": 40,
    "start_time": "2022-07-19T08:15:30.535Z"
   },
   {
    "duration": 17,
    "start_time": "2022-07-19T08:15:30.577Z"
   },
   {
    "duration": 64,
    "start_time": "2022-07-19T08:15:30.596Z"
   },
   {
    "duration": 0,
    "start_time": "2022-07-19T08:15:30.662Z"
   },
   {
    "duration": 0,
    "start_time": "2022-07-19T08:15:30.665Z"
   },
   {
    "duration": 0,
    "start_time": "2022-07-19T08:15:30.666Z"
   },
   {
    "duration": 0,
    "start_time": "2022-07-19T08:15:30.668Z"
   },
   {
    "duration": 1,
    "start_time": "2022-07-19T08:15:30.669Z"
   },
   {
    "duration": 0,
    "start_time": "2022-07-19T08:15:30.671Z"
   },
   {
    "duration": 0,
    "start_time": "2022-07-19T08:15:30.673Z"
   },
   {
    "duration": 0,
    "start_time": "2022-07-19T08:15:30.674Z"
   },
   {
    "duration": 18,
    "start_time": "2022-07-19T08:15:47.181Z"
   },
   {
    "duration": 4,
    "start_time": "2022-07-19T08:26:56.841Z"
   },
   {
    "duration": 388,
    "start_time": "2022-07-19T08:27:05.058Z"
   },
   {
    "duration": 196,
    "start_time": "2022-07-19T08:27:05.448Z"
   },
   {
    "duration": 8,
    "start_time": "2022-07-19T08:27:05.646Z"
   },
   {
    "duration": 36,
    "start_time": "2022-07-19T08:27:05.656Z"
   },
   {
    "duration": 3,
    "start_time": "2022-07-19T08:27:05.694Z"
   },
   {
    "duration": 11,
    "start_time": "2022-07-19T08:27:05.698Z"
   },
   {
    "duration": 14,
    "start_time": "2022-07-19T08:27:05.723Z"
   },
   {
    "duration": 13,
    "start_time": "2022-07-19T08:27:05.738Z"
   },
   {
    "duration": 40,
    "start_time": "2022-07-19T08:27:05.752Z"
   },
   {
    "duration": 20,
    "start_time": "2022-07-19T08:27:05.795Z"
   },
   {
    "duration": 28,
    "start_time": "2022-07-19T08:27:05.817Z"
   },
   {
    "duration": 82,
    "start_time": "2022-07-19T08:27:05.848Z"
   },
   {
    "duration": 106,
    "start_time": "2022-07-19T08:27:05.932Z"
   },
   {
    "duration": 75,
    "start_time": "2022-07-19T08:27:06.040Z"
   },
   {
    "duration": 49,
    "start_time": "2022-07-19T08:27:06.124Z"
   },
   {
    "duration": 10,
    "start_time": "2022-07-19T08:27:06.175Z"
   },
   {
    "duration": 53,
    "start_time": "2022-07-19T08:27:06.187Z"
   },
   {
    "duration": 12,
    "start_time": "2022-07-19T08:27:06.242Z"
   },
   {
    "duration": 11,
    "start_time": "2022-07-19T08:27:06.256Z"
   },
   {
    "duration": 8,
    "start_time": "2022-07-19T08:27:06.269Z"
   },
   {
    "duration": 20,
    "start_time": "2022-07-19T08:27:06.279Z"
   },
   {
    "duration": 34,
    "start_time": "2022-07-19T08:27:06.301Z"
   },
   {
    "duration": 15,
    "start_time": "2022-07-19T08:27:06.337Z"
   },
   {
    "duration": 15,
    "start_time": "2022-07-19T08:27:06.354Z"
   },
   {
    "duration": 17,
    "start_time": "2022-07-19T08:27:06.371Z"
   },
   {
    "duration": 14,
    "start_time": "2022-07-19T08:27:06.422Z"
   },
   {
    "duration": 5,
    "start_time": "2022-07-19T08:27:06.438Z"
   },
   {
    "duration": 21,
    "start_time": "2022-07-19T08:27:06.447Z"
   },
   {
    "duration": 13,
    "start_time": "2022-07-19T08:27:06.470Z"
   },
   {
    "duration": 10,
    "start_time": "2022-07-19T08:27:06.485Z"
   },
   {
    "duration": 11,
    "start_time": "2022-07-19T08:27:06.497Z"
   },
   {
    "duration": 15,
    "start_time": "2022-07-19T08:27:06.509Z"
   },
   {
    "duration": 5,
    "start_time": "2022-07-19T08:27:06.525Z"
   },
   {
    "duration": 5,
    "start_time": "2022-07-19T08:27:06.531Z"
   },
   {
    "duration": 9,
    "start_time": "2022-07-19T08:27:06.538Z"
   },
   {
    "duration": 5,
    "start_time": "2022-07-19T08:27:06.548Z"
   },
   {
    "duration": 6,
    "start_time": "2022-07-19T08:27:06.555Z"
   },
   {
    "duration": 6,
    "start_time": "2022-07-19T08:27:06.563Z"
   }
  ],
  "colab": {
   "collapsed_sections": [
    "E0vqbgi9ay0H",
    "VUC88oWjTJw2"
   ],
   "name": "automatization_template_upd4.ipynb",
   "provenance": []
  },
  "kernelspec": {
   "display_name": "Python 3 (ipykernel)",
   "language": "python",
   "name": "python3"
  },
  "language_info": {
   "codemirror_mode": {
    "name": "ipython",
    "version": 3
   },
   "file_extension": ".py",
   "mimetype": "text/x-python",
   "name": "python",
   "nbconvert_exporter": "python",
   "pygments_lexer": "ipython3",
   "version": "3.9.5"
  },
  "toc": {
   "base_numbering": 1,
   "nav_menu": {
    "height": "215px",
    "width": "403px"
   },
   "number_sections": true,
   "sideBar": true,
   "skip_h1_title": true,
   "title_cell": "Table of Contents",
   "title_sidebar": "Contents",
   "toc_cell": false,
   "toc_position": {
    "height": "calc(100% - 180px)",
    "left": "10px",
    "top": "150px",
    "width": "285.825px"
   },
   "toc_section_display": true,
   "toc_window_display": false
  }
 },
 "nbformat": 4,
 "nbformat_minor": 1
}
