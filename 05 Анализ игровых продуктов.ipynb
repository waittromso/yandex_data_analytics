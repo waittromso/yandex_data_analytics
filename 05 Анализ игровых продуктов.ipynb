{
 "cells": [
  {
   "cell_type": "markdown",
   "metadata": {},
   "source": [
    "<b>Описание проекта</b>\n",
    "\n",
    "Вы работаете в интернет-магазине «Стримчик», который продаёт по всему миру компьютерные игры. Из открытых источников доступны исторические данные о продажах игр, оценки пользователей и экспертов, жанры и платформы (например, Xbox или PlayStation).\n",
    "\n",
    "<b>Цель исследования</b> - выявить определяющие успешность игры закономерности, что позволит сделать ставку на потенциально популярный продукт и спланировать рекламные кампании. \n",
    "\n",
    "<b>Описание данных</b>\n",
    "    \n",
    "Name — название игры\n",
    "    \n",
    "Platform — платформа\n",
    "    \n",
    "Year_of_Release — год выпуска\n",
    "\n",
    "Genre — жанр игры\n",
    "\n",
    "NA_sales — продажи в Северной Америке (миллионы долларов)\n",
    "\n",
    "EU_sales — продажи в Европе (миллионы долларов)\n",
    "\n",
    "JP_sales — продажи в Японии (миллионы долларов)\n",
    "\n",
    "Other_sales — продажи в других странах (миллионы долларов)\n",
    "\n",
    "Critic_Score — оценка критиков (максимум 100)\n",
    "\n",
    "User_Score — оценка пользователей (максимум 10)\n",
    "\n",
    "Rating — рейтинг от организации ESRB (англ. Entertainment Software Rating Board). Эта ассоциация определяет рейтинг компьютерных игр и присваивает им подходящую возрастную категорию."
   ]
  },
  {
   "cell_type": "markdown",
   "metadata": {},
   "source": [
    "## Изучите общую информацию"
   ]
  },
  {
   "cell_type": "code",
   "execution_count": 1,
   "metadata": {},
   "outputs": [],
   "source": [
    "#импортируем нужные библиотеки\n",
    "import pandas as pd\n",
    "import matplotlib.pyplot as plt\n",
    "import plotly.express as px\n",
    "import seaborn as sns\n",
    "\n",
    "import numpy as np\n",
    "from scipy import stats as st"
   ]
  },
  {
   "cell_type": "code",
   "execution_count": 2,
   "metadata": {},
   "outputs": [
    {
     "data": {
      "text/html": [
       "<div>\n",
       "<style scoped>\n",
       "    .dataframe tbody tr th:only-of-type {\n",
       "        vertical-align: middle;\n",
       "    }\n",
       "\n",
       "    .dataframe tbody tr th {\n",
       "        vertical-align: top;\n",
       "    }\n",
       "\n",
       "    .dataframe thead th {\n",
       "        text-align: right;\n",
       "    }\n",
       "</style>\n",
       "<table border=\"1\" class=\"dataframe\">\n",
       "  <thead>\n",
       "    <tr style=\"text-align: right;\">\n",
       "      <th></th>\n",
       "      <th>Name</th>\n",
       "      <th>Platform</th>\n",
       "      <th>Year_of_Release</th>\n",
       "      <th>Genre</th>\n",
       "      <th>NA_sales</th>\n",
       "      <th>EU_sales</th>\n",
       "      <th>JP_sales</th>\n",
       "      <th>Other_sales</th>\n",
       "      <th>Critic_Score</th>\n",
       "      <th>User_Score</th>\n",
       "      <th>Rating</th>\n",
       "    </tr>\n",
       "  </thead>\n",
       "  <tbody>\n",
       "    <tr>\n",
       "      <th>0</th>\n",
       "      <td>Wii Sports</td>\n",
       "      <td>Wii</td>\n",
       "      <td>2006.0</td>\n",
       "      <td>Sports</td>\n",
       "      <td>41.36</td>\n",
       "      <td>28.96</td>\n",
       "      <td>3.77</td>\n",
       "      <td>8.45</td>\n",
       "      <td>76.0</td>\n",
       "      <td>8</td>\n",
       "      <td>E</td>\n",
       "    </tr>\n",
       "    <tr>\n",
       "      <th>1</th>\n",
       "      <td>Super Mario Bros.</td>\n",
       "      <td>NES</td>\n",
       "      <td>1985.0</td>\n",
       "      <td>Platform</td>\n",
       "      <td>29.08</td>\n",
       "      <td>3.58</td>\n",
       "      <td>6.81</td>\n",
       "      <td>0.77</td>\n",
       "      <td>NaN</td>\n",
       "      <td>NaN</td>\n",
       "      <td>NaN</td>\n",
       "    </tr>\n",
       "    <tr>\n",
       "      <th>2</th>\n",
       "      <td>Mario Kart Wii</td>\n",
       "      <td>Wii</td>\n",
       "      <td>2008.0</td>\n",
       "      <td>Racing</td>\n",
       "      <td>15.68</td>\n",
       "      <td>12.76</td>\n",
       "      <td>3.79</td>\n",
       "      <td>3.29</td>\n",
       "      <td>82.0</td>\n",
       "      <td>8.3</td>\n",
       "      <td>E</td>\n",
       "    </tr>\n",
       "    <tr>\n",
       "      <th>3</th>\n",
       "      <td>Wii Sports Resort</td>\n",
       "      <td>Wii</td>\n",
       "      <td>2009.0</td>\n",
       "      <td>Sports</td>\n",
       "      <td>15.61</td>\n",
       "      <td>10.93</td>\n",
       "      <td>3.28</td>\n",
       "      <td>2.95</td>\n",
       "      <td>80.0</td>\n",
       "      <td>8</td>\n",
       "      <td>E</td>\n",
       "    </tr>\n",
       "    <tr>\n",
       "      <th>4</th>\n",
       "      <td>Pokemon Red/Pokemon Blue</td>\n",
       "      <td>GB</td>\n",
       "      <td>1996.0</td>\n",
       "      <td>Role-Playing</td>\n",
       "      <td>11.27</td>\n",
       "      <td>8.89</td>\n",
       "      <td>10.22</td>\n",
       "      <td>1.00</td>\n",
       "      <td>NaN</td>\n",
       "      <td>NaN</td>\n",
       "      <td>NaN</td>\n",
       "    </tr>\n",
       "    <tr>\n",
       "      <th>5</th>\n",
       "      <td>Tetris</td>\n",
       "      <td>GB</td>\n",
       "      <td>1989.0</td>\n",
       "      <td>Puzzle</td>\n",
       "      <td>23.20</td>\n",
       "      <td>2.26</td>\n",
       "      <td>4.22</td>\n",
       "      <td>0.58</td>\n",
       "      <td>NaN</td>\n",
       "      <td>NaN</td>\n",
       "      <td>NaN</td>\n",
       "    </tr>\n",
       "    <tr>\n",
       "      <th>6</th>\n",
       "      <td>New Super Mario Bros.</td>\n",
       "      <td>DS</td>\n",
       "      <td>2006.0</td>\n",
       "      <td>Platform</td>\n",
       "      <td>11.28</td>\n",
       "      <td>9.14</td>\n",
       "      <td>6.50</td>\n",
       "      <td>2.88</td>\n",
       "      <td>89.0</td>\n",
       "      <td>8.5</td>\n",
       "      <td>E</td>\n",
       "    </tr>\n",
       "    <tr>\n",
       "      <th>7</th>\n",
       "      <td>Wii Play</td>\n",
       "      <td>Wii</td>\n",
       "      <td>2006.0</td>\n",
       "      <td>Misc</td>\n",
       "      <td>13.96</td>\n",
       "      <td>9.18</td>\n",
       "      <td>2.93</td>\n",
       "      <td>2.84</td>\n",
       "      <td>58.0</td>\n",
       "      <td>6.6</td>\n",
       "      <td>E</td>\n",
       "    </tr>\n",
       "    <tr>\n",
       "      <th>8</th>\n",
       "      <td>New Super Mario Bros. Wii</td>\n",
       "      <td>Wii</td>\n",
       "      <td>2009.0</td>\n",
       "      <td>Platform</td>\n",
       "      <td>14.44</td>\n",
       "      <td>6.94</td>\n",
       "      <td>4.70</td>\n",
       "      <td>2.24</td>\n",
       "      <td>87.0</td>\n",
       "      <td>8.4</td>\n",
       "      <td>E</td>\n",
       "    </tr>\n",
       "    <tr>\n",
       "      <th>9</th>\n",
       "      <td>Duck Hunt</td>\n",
       "      <td>NES</td>\n",
       "      <td>1984.0</td>\n",
       "      <td>Shooter</td>\n",
       "      <td>26.93</td>\n",
       "      <td>0.63</td>\n",
       "      <td>0.28</td>\n",
       "      <td>0.47</td>\n",
       "      <td>NaN</td>\n",
       "      <td>NaN</td>\n",
       "      <td>NaN</td>\n",
       "    </tr>\n",
       "  </tbody>\n",
       "</table>\n",
       "</div>"
      ],
      "text/plain": [
       "                        Name Platform  Year_of_Release         Genre  \\\n",
       "0                 Wii Sports      Wii           2006.0        Sports   \n",
       "1          Super Mario Bros.      NES           1985.0      Platform   \n",
       "2             Mario Kart Wii      Wii           2008.0        Racing   \n",
       "3          Wii Sports Resort      Wii           2009.0        Sports   \n",
       "4   Pokemon Red/Pokemon Blue       GB           1996.0  Role-Playing   \n",
       "5                     Tetris       GB           1989.0        Puzzle   \n",
       "6      New Super Mario Bros.       DS           2006.0      Platform   \n",
       "7                   Wii Play      Wii           2006.0          Misc   \n",
       "8  New Super Mario Bros. Wii      Wii           2009.0      Platform   \n",
       "9                  Duck Hunt      NES           1984.0       Shooter   \n",
       "\n",
       "   NA_sales  EU_sales  JP_sales  Other_sales  Critic_Score User_Score Rating  \n",
       "0     41.36     28.96      3.77         8.45          76.0          8      E  \n",
       "1     29.08      3.58      6.81         0.77           NaN        NaN    NaN  \n",
       "2     15.68     12.76      3.79         3.29          82.0        8.3      E  \n",
       "3     15.61     10.93      3.28         2.95          80.0          8      E  \n",
       "4     11.27      8.89     10.22         1.00           NaN        NaN    NaN  \n",
       "5     23.20      2.26      4.22         0.58           NaN        NaN    NaN  \n",
       "6     11.28      9.14      6.50         2.88          89.0        8.5      E  \n",
       "7     13.96      9.18      2.93         2.84          58.0        6.6      E  \n",
       "8     14.44      6.94      4.70         2.24          87.0        8.4      E  \n",
       "9     26.93      0.63      0.28         0.47           NaN        NaN    NaN  "
      ]
     },
     "execution_count": 2,
     "metadata": {},
     "output_type": "execute_result"
    }
   ],
   "source": [
    "#сохраним датасет в переменную games\n",
    "games = pd.read_csv('/datasets/games.csv')\n",
    "games.head(10)"
   ]
  },
  {
   "cell_type": "code",
   "execution_count": 3,
   "metadata": {},
   "outputs": [
    {
     "name": "stdout",
     "output_type": "stream",
     "text": [
      "<class 'pandas.core.frame.DataFrame'>\n",
      "RangeIndex: 16715 entries, 0 to 16714\n",
      "Data columns (total 11 columns):\n",
      " #   Column           Non-Null Count  Dtype  \n",
      "---  ------           --------------  -----  \n",
      " 0   Name             16713 non-null  object \n",
      " 1   Platform         16715 non-null  object \n",
      " 2   Year_of_Release  16446 non-null  float64\n",
      " 3   Genre            16713 non-null  object \n",
      " 4   NA_sales         16715 non-null  float64\n",
      " 5   EU_sales         16715 non-null  float64\n",
      " 6   JP_sales         16715 non-null  float64\n",
      " 7   Other_sales      16715 non-null  float64\n",
      " 8   Critic_Score     8137 non-null   float64\n",
      " 9   User_Score       10014 non-null  object \n",
      " 10  Rating           9949 non-null   object \n",
      "dtypes: float64(6), object(5)\n",
      "memory usage: 1.4+ MB\n"
     ]
    }
   ],
   "source": [
    "games.info()"
   ]
  },
  {
   "cell_type": "code",
   "execution_count": 4,
   "metadata": {},
   "outputs": [
    {
     "data": {
      "text/html": [
       "<div>\n",
       "<style scoped>\n",
       "    .dataframe tbody tr th:only-of-type {\n",
       "        vertical-align: middle;\n",
       "    }\n",
       "\n",
       "    .dataframe tbody tr th {\n",
       "        vertical-align: top;\n",
       "    }\n",
       "\n",
       "    .dataframe thead th {\n",
       "        text-align: right;\n",
       "    }\n",
       "</style>\n",
       "<table border=\"1\" class=\"dataframe\">\n",
       "  <thead>\n",
       "    <tr style=\"text-align: right;\">\n",
       "      <th></th>\n",
       "      <th>Year_of_Release</th>\n",
       "      <th>NA_sales</th>\n",
       "      <th>EU_sales</th>\n",
       "      <th>JP_sales</th>\n",
       "      <th>Other_sales</th>\n",
       "      <th>Critic_Score</th>\n",
       "    </tr>\n",
       "  </thead>\n",
       "  <tbody>\n",
       "    <tr>\n",
       "      <th>count</th>\n",
       "      <td>16446.000000</td>\n",
       "      <td>16715.000000</td>\n",
       "      <td>16715.000000</td>\n",
       "      <td>16715.000000</td>\n",
       "      <td>16715.000000</td>\n",
       "      <td>8137.000000</td>\n",
       "    </tr>\n",
       "    <tr>\n",
       "      <th>mean</th>\n",
       "      <td>2006.484616</td>\n",
       "      <td>0.263377</td>\n",
       "      <td>0.145060</td>\n",
       "      <td>0.077617</td>\n",
       "      <td>0.047342</td>\n",
       "      <td>68.967679</td>\n",
       "    </tr>\n",
       "    <tr>\n",
       "      <th>std</th>\n",
       "      <td>5.877050</td>\n",
       "      <td>0.813604</td>\n",
       "      <td>0.503339</td>\n",
       "      <td>0.308853</td>\n",
       "      <td>0.186731</td>\n",
       "      <td>13.938165</td>\n",
       "    </tr>\n",
       "    <tr>\n",
       "      <th>min</th>\n",
       "      <td>1980.000000</td>\n",
       "      <td>0.000000</td>\n",
       "      <td>0.000000</td>\n",
       "      <td>0.000000</td>\n",
       "      <td>0.000000</td>\n",
       "      <td>13.000000</td>\n",
       "    </tr>\n",
       "    <tr>\n",
       "      <th>25%</th>\n",
       "      <td>2003.000000</td>\n",
       "      <td>0.000000</td>\n",
       "      <td>0.000000</td>\n",
       "      <td>0.000000</td>\n",
       "      <td>0.000000</td>\n",
       "      <td>60.000000</td>\n",
       "    </tr>\n",
       "    <tr>\n",
       "      <th>50%</th>\n",
       "      <td>2007.000000</td>\n",
       "      <td>0.080000</td>\n",
       "      <td>0.020000</td>\n",
       "      <td>0.000000</td>\n",
       "      <td>0.010000</td>\n",
       "      <td>71.000000</td>\n",
       "    </tr>\n",
       "    <tr>\n",
       "      <th>75%</th>\n",
       "      <td>2010.000000</td>\n",
       "      <td>0.240000</td>\n",
       "      <td>0.110000</td>\n",
       "      <td>0.040000</td>\n",
       "      <td>0.030000</td>\n",
       "      <td>79.000000</td>\n",
       "    </tr>\n",
       "    <tr>\n",
       "      <th>max</th>\n",
       "      <td>2016.000000</td>\n",
       "      <td>41.360000</td>\n",
       "      <td>28.960000</td>\n",
       "      <td>10.220000</td>\n",
       "      <td>10.570000</td>\n",
       "      <td>98.000000</td>\n",
       "    </tr>\n",
       "  </tbody>\n",
       "</table>\n",
       "</div>"
      ],
      "text/plain": [
       "       Year_of_Release      NA_sales      EU_sales      JP_sales  \\\n",
       "count     16446.000000  16715.000000  16715.000000  16715.000000   \n",
       "mean       2006.484616      0.263377      0.145060      0.077617   \n",
       "std           5.877050      0.813604      0.503339      0.308853   \n",
       "min        1980.000000      0.000000      0.000000      0.000000   \n",
       "25%        2003.000000      0.000000      0.000000      0.000000   \n",
       "50%        2007.000000      0.080000      0.020000      0.000000   \n",
       "75%        2010.000000      0.240000      0.110000      0.040000   \n",
       "max        2016.000000     41.360000     28.960000     10.220000   \n",
       "\n",
       "        Other_sales  Critic_Score  \n",
       "count  16715.000000   8137.000000  \n",
       "mean       0.047342     68.967679  \n",
       "std        0.186731     13.938165  \n",
       "min        0.000000     13.000000  \n",
       "25%        0.000000     60.000000  \n",
       "50%        0.010000     71.000000  \n",
       "75%        0.030000     79.000000  \n",
       "max       10.570000     98.000000  "
      ]
     },
     "execution_count": 4,
     "metadata": {},
     "output_type": "execute_result"
    }
   ],
   "source": [
    "games.describe()"
   ]
  },
  {
   "cell_type": "code",
   "execution_count": 5,
   "metadata": {},
   "outputs": [
    {
     "name": "stdout",
     "output_type": "stream",
     "text": [
      "0\n"
     ]
    }
   ],
   "source": [
    "#проверим на явные дубликаты\n",
    "print(games.duplicated().sum())"
   ]
  },
  {
   "cell_type": "code",
   "execution_count": 6,
   "metadata": {},
   "outputs": [
    {
     "data": {
      "text/html": [
       "<div>\n",
       "<style scoped>\n",
       "    .dataframe tbody tr th:only-of-type {\n",
       "        vertical-align: middle;\n",
       "    }\n",
       "\n",
       "    .dataframe tbody tr th {\n",
       "        vertical-align: top;\n",
       "    }\n",
       "\n",
       "    .dataframe thead th {\n",
       "        text-align: right;\n",
       "    }\n",
       "</style>\n",
       "<table border=\"1\" class=\"dataframe\">\n",
       "  <thead>\n",
       "    <tr style=\"text-align: right;\">\n",
       "      <th></th>\n",
       "      <th>Name</th>\n",
       "      <th>Platform</th>\n",
       "      <th>Year_of_Release</th>\n",
       "      <th>Genre</th>\n",
       "      <th>NA_sales</th>\n",
       "      <th>EU_sales</th>\n",
       "      <th>JP_sales</th>\n",
       "      <th>Other_sales</th>\n",
       "      <th>Critic_Score</th>\n",
       "      <th>User_Score</th>\n",
       "      <th>Rating</th>\n",
       "    </tr>\n",
       "  </thead>\n",
       "  <tbody>\n",
       "    <tr>\n",
       "      <th>1591</th>\n",
       "      <td>Need for Speed: Most Wanted</td>\n",
       "      <td>X360</td>\n",
       "      <td>2005.0</td>\n",
       "      <td>Racing</td>\n",
       "      <td>1.0</td>\n",
       "      <td>0.13</td>\n",
       "      <td>0.02</td>\n",
       "      <td>0.10</td>\n",
       "      <td>83.0</td>\n",
       "      <td>8.5</td>\n",
       "      <td>T</td>\n",
       "    </tr>\n",
       "    <tr>\n",
       "      <th>4127</th>\n",
       "      <td>Sonic the Hedgehog</td>\n",
       "      <td>PS3</td>\n",
       "      <td>NaN</td>\n",
       "      <td>Platform</td>\n",
       "      <td>0.0</td>\n",
       "      <td>0.48</td>\n",
       "      <td>0.00</td>\n",
       "      <td>0.00</td>\n",
       "      <td>43.0</td>\n",
       "      <td>4.1</td>\n",
       "      <td>E10+</td>\n",
       "    </tr>\n",
       "    <tr>\n",
       "      <th>11715</th>\n",
       "      <td>Need for Speed: Most Wanted</td>\n",
       "      <td>PC</td>\n",
       "      <td>2012.0</td>\n",
       "      <td>Racing</td>\n",
       "      <td>0.0</td>\n",
       "      <td>0.06</td>\n",
       "      <td>0.00</td>\n",
       "      <td>0.02</td>\n",
       "      <td>82.0</td>\n",
       "      <td>8.5</td>\n",
       "      <td>T</td>\n",
       "    </tr>\n",
       "    <tr>\n",
       "      <th>14244</th>\n",
       "      <td>NaN</td>\n",
       "      <td>GEN</td>\n",
       "      <td>1993.0</td>\n",
       "      <td>NaN</td>\n",
       "      <td>0.0</td>\n",
       "      <td>0.00</td>\n",
       "      <td>0.03</td>\n",
       "      <td>0.00</td>\n",
       "      <td>NaN</td>\n",
       "      <td>NaN</td>\n",
       "      <td>NaN</td>\n",
       "    </tr>\n",
       "    <tr>\n",
       "      <th>16230</th>\n",
       "      <td>Madden NFL 13</td>\n",
       "      <td>PS3</td>\n",
       "      <td>2012.0</td>\n",
       "      <td>Sports</td>\n",
       "      <td>0.0</td>\n",
       "      <td>0.01</td>\n",
       "      <td>0.00</td>\n",
       "      <td>0.00</td>\n",
       "      <td>83.0</td>\n",
       "      <td>5.5</td>\n",
       "      <td>E</td>\n",
       "    </tr>\n",
       "  </tbody>\n",
       "</table>\n",
       "</div>"
      ],
      "text/plain": [
       "                              Name Platform  Year_of_Release     Genre  \\\n",
       "1591   Need for Speed: Most Wanted     X360           2005.0    Racing   \n",
       "4127            Sonic the Hedgehog      PS3              NaN  Platform   \n",
       "11715  Need for Speed: Most Wanted       PC           2012.0    Racing   \n",
       "14244                          NaN      GEN           1993.0       NaN   \n",
       "16230                Madden NFL 13      PS3           2012.0    Sports   \n",
       "\n",
       "       NA_sales  EU_sales  JP_sales  Other_sales  Critic_Score User_Score  \\\n",
       "1591        1.0      0.13      0.02         0.10          83.0        8.5   \n",
       "4127        0.0      0.48      0.00         0.00          43.0        4.1   \n",
       "11715       0.0      0.06      0.00         0.02          82.0        8.5   \n",
       "14244       0.0      0.00      0.03         0.00           NaN        NaN   \n",
       "16230       0.0      0.01      0.00         0.00          83.0        5.5   \n",
       "\n",
       "      Rating  \n",
       "1591       T  \n",
       "4127    E10+  \n",
       "11715      T  \n",
       "14244    NaN  \n",
       "16230      E  "
      ]
     },
     "execution_count": 6,
     "metadata": {},
     "output_type": "execute_result"
    }
   ],
   "source": [
    "games[games.duplicated(subset=['Name','Platform'])]"
   ]
  },
  {
   "cell_type": "code",
   "execution_count": 7,
   "metadata": {},
   "outputs": [
    {
     "name": "stdout",
     "output_type": "stream",
     "text": [
      "                             Name Platform  Year_of_Release   Genre  NA_sales  \\\n",
      "1190  Need for Speed: Most Wanted     X360           2012.0  Racing      0.62   \n",
      "1591  Need for Speed: Most Wanted     X360           2005.0  Racing      1.00   \n",
      "\n",
      "      EU_sales  JP_sales  Other_sales  Critic_Score User_Score Rating  \n",
      "1190      0.78      0.01         0.15          83.0        8.5      T  \n",
      "1591      0.13      0.02         0.10          83.0        8.5      T  \n",
      "                              Name Platform  Year_of_Release   Genre  \\\n",
      "5972   Need for Speed: Most Wanted       PC           2005.0  Racing   \n",
      "11715  Need for Speed: Most Wanted       PC           2012.0  Racing   \n",
      "\n",
      "       NA_sales  EU_sales  JP_sales  Other_sales  Critic_Score User_Score  \\\n",
      "5972       0.02      0.23       0.0         0.04          82.0        8.5   \n",
      "11715      0.00      0.06       0.0         0.02          82.0        8.5   \n",
      "\n",
      "      Rating  \n",
      "5972       T  \n",
      "11715      T  \n",
      "                    Name Platform  Year_of_Release     Genre  NA_sales  \\\n",
      "1745  Sonic the Hedgehog      PS3           2006.0  Platform      0.41   \n",
      "4127  Sonic the Hedgehog      PS3              NaN  Platform      0.00   \n",
      "\n",
      "      EU_sales  JP_sales  Other_sales  Critic_Score User_Score Rating  \n",
      "1745      0.06      0.04         0.66          43.0        4.1   E10+  \n",
      "4127      0.48      0.00         0.00          43.0        4.1   E10+  \n",
      "                Name Platform  Year_of_Release   Genre  NA_sales  EU_sales  \\\n",
      "604    Madden NFL 13      PS3           2012.0  Sports      2.11      0.22   \n",
      "16230  Madden NFL 13      PS3           2012.0  Sports      0.00      0.01   \n",
      "\n",
      "       JP_sales  Other_sales  Critic_Score User_Score Rating  \n",
      "604         0.0         0.23          83.0        5.5      E  \n",
      "16230       0.0         0.00          83.0        5.5      E  \n"
     ]
    }
   ],
   "source": [
    "print(games.query('Name == \"Need for Speed: Most Wanted\" and Platform == \"X360\"'))\n",
    "print(games.query('Name == \"Need for Speed: Most Wanted\" and Platform == \"PC\"'))\n",
    "print(games.query('Name == \"Sonic the Hedgehog\" and Platform == \"PS3\"'))\n",
    "print(games.query('Name == \"Madden NFL 13\" and Platform == \"PS3\"'))"
   ]
  },
  {
   "cell_type": "code",
   "execution_count": 8,
   "metadata": {},
   "outputs": [],
   "source": [
    "games.drop(games.index[[4127, 16230]], inplace=True)"
   ]
  },
  {
   "cell_type": "markdown",
   "metadata": {},
   "source": [
    "Выше найдены 4 дубликата по связке название-платформа.\n",
    "В случае с обоими Need for Speed, возможно, это переиздания, т.к. годы релиза и продажи не совпадают.\n",
    "В случае с Madden NFL и Sonic похоже на дубликат, думаю, можно удалить.\n",
    "Строки с пропусками в названии и жанре мы удаляли ниже."
   ]
  },
  {
   "cell_type": "code",
   "execution_count": 9,
   "metadata": {},
   "outputs": [
    {
     "data": {
      "text/plain": [
       "Platform              0\n",
       "NA_sales              0\n",
       "EU_sales              0\n",
       "JP_sales              0\n",
       "Other_sales           0\n",
       "Name                  2\n",
       "Genre                 2\n",
       "Year_of_Release     268\n",
       "User_Score         6701\n",
       "Rating             6766\n",
       "Critic_Score       8578\n",
       "dtype: int64"
      ]
     },
     "execution_count": 9,
     "metadata": {},
     "output_type": "execute_result"
    }
   ],
   "source": [
    "#узнаем количество пропусков в столбцах\n",
    "games.isnull().sum().sort_values()"
   ]
  },
  {
   "cell_type": "markdown",
   "metadata": {},
   "source": [
    "## Подготовьте данные"
   ]
  },
  {
   "cell_type": "code",
   "execution_count": 10,
   "metadata": {},
   "outputs": [],
   "source": [
    "#приведем названия столбцов к нижнему регистру\n",
    "games.columns=games.columns.str.lower()"
   ]
  },
  {
   "cell_type": "code",
   "execution_count": 11,
   "metadata": {
    "scrolled": true
   },
   "outputs": [
    {
     "name": "stdout",
     "output_type": "stream",
     "text": [
      "1.6035421528151739\n"
     ]
    }
   ],
   "source": [
    "#узнаем процент пропусков в столбце с датой выхода игры\n",
    "print(len(games[games['year_of_release'].isna()])*100/len(games))\n",
    "#удалим строки с пропусками в столбце с датой выхода игры, т.к. их немного - 1.6%, но они нужны для анализа\n",
    "games.dropna(subset=['year_of_release'],inplace=True)"
   ]
  },
  {
   "cell_type": "code",
   "execution_count": 12,
   "metadata": {},
   "outputs": [],
   "source": [
    "#проверим пропуски в столбце с названием\n",
    "games.loc[games['name'].isna()]\n",
    "#пропуски в столбце с названием совпадают с пропусками в столбце с жанром, удалим обе строки\n",
    "games.dropna(subset=['name'],inplace=True)"
   ]
  },
  {
   "cell_type": "code",
   "execution_count": 13,
   "metadata": {},
   "outputs": [
    {
     "name": "stdout",
     "output_type": "stream",
     "text": [
      "<class 'pandas.core.frame.DataFrame'>\n",
      "Int64Index: 16443 entries, 0 to 16714\n",
      "Data columns (total 11 columns):\n",
      " #   Column           Non-Null Count  Dtype  \n",
      "---  ------           --------------  -----  \n",
      " 0   name             16443 non-null  object \n",
      " 1   platform         16443 non-null  object \n",
      " 2   year_of_release  16443 non-null  float64\n",
      " 3   genre            16443 non-null  object \n",
      " 4   na_sales         16443 non-null  float64\n",
      " 5   eu_sales         16443 non-null  float64\n",
      " 6   jp_sales         16443 non-null  float64\n",
      " 7   other_sales      16443 non-null  float64\n",
      " 8   critic_score     7982 non-null   float64\n",
      " 9   user_score       9838 non-null   object \n",
      " 10  rating           9767 non-null   object \n",
      "dtypes: float64(6), object(5)\n",
      "memory usage: 1.5+ MB\n"
     ]
    }
   ],
   "source": [
    "#пропуски остались в столбцах с оценками критиков и игроков, а также с рейтингом игры\n",
    "games.info()"
   ]
  },
  {
   "cell_type": "code",
   "execution_count": 14,
   "metadata": {},
   "outputs": [
    {
     "data": {
      "text/plain": [
       "array([76., nan, 82., 80., 89., 58., 87., 91., 61., 97., 95., 77., 88.,\n",
       "       83., 94., 93., 85., 86., 98., 96., 90., 84., 73., 74., 78., 92.,\n",
       "       71., 72., 68., 62., 49., 67., 81., 66., 56., 79., 70., 59., 64.,\n",
       "       75., 60., 63., 69., 50., 25., 42., 44., 55., 48., 57., 29., 47.,\n",
       "       65., 54., 20., 53., 37., 38., 33., 52., 30., 32., 43., 45., 51.,\n",
       "       40., 46., 39., 34., 41., 36., 31., 27., 35., 26., 19., 28., 23.,\n",
       "       24., 21., 17., 13.])"
      ]
     },
     "execution_count": 14,
     "metadata": {},
     "output_type": "execute_result"
    }
   ],
   "source": [
    "games['critic_score'].unique()"
   ]
  },
  {
   "cell_type": "code",
   "execution_count": 15,
   "metadata": {},
   "outputs": [
    {
     "data": {
      "text/plain": [
       "array(['8', nan, '8.3', '8.5', '6.6', '8.4', '8.6', '7.7', '6.3', '7.4',\n",
       "       '8.2', '9', '7.9', '8.1', '8.7', '7.1', '3.4', '5.3', '4.8', '3.2',\n",
       "       '8.9', '6.4', '7.8', '7.5', '2.6', '7.2', '9.2', '7', '7.3', '4.3',\n",
       "       '7.6', '5.7', '5', '9.1', '6.5', 'tbd', '8.8', '6.9', '9.4', '6.8',\n",
       "       '6.1', '6.7', '5.4', '4', '4.9', '4.5', '9.3', '6.2', '4.2', '6',\n",
       "       '3.7', '4.1', '5.8', '5.6', '5.5', '4.4', '4.6', '5.9', '3.9',\n",
       "       '3.1', '2.9', '5.2', '3.3', '4.7', '5.1', '3.5', '2.5', '1.9', '3',\n",
       "       '2.7', '2.2', '2', '9.5', '2.1', '3.6', '2.8', '1.8', '3.8', '0',\n",
       "       '1.6', '9.6', '2.4', '1.7', '1.1', '0.3', '1.5', '0.7', '1.2',\n",
       "       '2.3', '0.5', '1.3', '0.2', '0.6', '1.4', '0.9', '1', '9.7'],\n",
       "      dtype=object)"
      ]
     },
     "execution_count": 15,
     "metadata": {},
     "output_type": "execute_result"
    }
   ],
   "source": [
    "games['user_score'].unique()"
   ]
  },
  {
   "cell_type": "code",
   "execution_count": 16,
   "metadata": {},
   "outputs": [
    {
     "data": {
      "text/plain": [
       "array(['E', nan, 'M', 'T', 'E10+', 'K-A', 'AO', 'EC', 'RP'], dtype=object)"
      ]
     },
     "execution_count": 16,
     "metadata": {},
     "output_type": "execute_result"
    }
   ],
   "source": [
    "games['rating'].unique()"
   ]
  },
  {
   "cell_type": "markdown",
   "metadata": {},
   "source": [
    "В столбце user_rating значение tbd означает, что оценка еще не присвоена.\n",
    "В столбце rating значение RP означает, что рейтинг также еще только предстоит определить.\n",
    "Заменим данные значения в обоих столбцах на пропуски, так как значения tbd и RP по смыслу и соответствуют пропускам. "
   ]
  },
  {
   "cell_type": "code",
   "execution_count": 17,
   "metadata": {},
   "outputs": [],
   "source": [
    "#заменим значения tbd в столбце user_score на пропуски\n",
    "games.loc[games['user_score']=='tbd','user_score'] = np.nan"
   ]
  },
  {
   "cell_type": "code",
   "execution_count": 18,
   "metadata": {},
   "outputs": [],
   "source": [
    "#заменим значения RP в столбце rating на пропуски\n",
    "games.loc[games['rating']=='RP','rating'] = np.nan"
   ]
  },
  {
   "cell_type": "code",
   "execution_count": 19,
   "metadata": {},
   "outputs": [],
   "source": [
    "#заменим пропуски в столбце рейтинг на undefined\n",
    "games['rating'] = games['rating'].fillna('undefined')"
   ]
  },
  {
   "cell_type": "markdown",
   "metadata": {},
   "source": [
    "Заменим пропуски в столбце rating на undefined, ниже в разделе о портретах пользователей сможем увидеть информацию о том, сколько продаж в денежном выражении приходится на игры без возрастного рейтинга в разрезе регионов.\n",
    "\n",
    "Надеюсь, включение в undefined игр с рейтингом RP все же не является ошибкой, с другой стороны на момент анализа игра могла быть с рейтингом RP, а через месяц ей бы уже определили возрастной рейтинг, а мы ее уже добавили в undefined.\n"
   ]
  },
  {
   "cell_type": "code",
   "execution_count": 20,
   "metadata": {},
   "outputs": [],
   "source": [
    "#переведем годы выпуска в целочисленный формат\n",
    "games['year_of_release'] = games['year_of_release'].astype('int')"
   ]
  },
  {
   "cell_type": "code",
   "execution_count": 21,
   "metadata": {},
   "outputs": [],
   "source": [
    "#оценки пользователей домножим на 10 \n",
    "games['user_score'] = games['user_score'].astype('float')\n",
    "games['user_score'] = games['user_score']*10"
   ]
  },
  {
   "cell_type": "code",
   "execution_count": 22,
   "metadata": {},
   "outputs": [],
   "source": [
    "#добавим столбец с сумарными продажами \n",
    "games['total_sales'] = games['na_sales'] + games['eu_sales'] + games['jp_sales'] + games['other_sales']"
   ]
  },
  {
   "cell_type": "code",
   "execution_count": 23,
   "metadata": {},
   "outputs": [
    {
     "data": {
      "text/html": [
       "<div>\n",
       "<style scoped>\n",
       "    .dataframe tbody tr th:only-of-type {\n",
       "        vertical-align: middle;\n",
       "    }\n",
       "\n",
       "    .dataframe tbody tr th {\n",
       "        vertical-align: top;\n",
       "    }\n",
       "\n",
       "    .dataframe thead th {\n",
       "        text-align: right;\n",
       "    }\n",
       "</style>\n",
       "<table border=\"1\" class=\"dataframe\">\n",
       "  <thead>\n",
       "    <tr style=\"text-align: right;\">\n",
       "      <th></th>\n",
       "      <th>name</th>\n",
       "      <th>platform</th>\n",
       "      <th>year_of_release</th>\n",
       "      <th>genre</th>\n",
       "      <th>na_sales</th>\n",
       "      <th>eu_sales</th>\n",
       "      <th>jp_sales</th>\n",
       "      <th>other_sales</th>\n",
       "      <th>critic_score</th>\n",
       "      <th>user_score</th>\n",
       "      <th>rating</th>\n",
       "      <th>total_sales</th>\n",
       "    </tr>\n",
       "  </thead>\n",
       "  <tbody>\n",
       "    <tr>\n",
       "      <th>0</th>\n",
       "      <td>Wii Sports</td>\n",
       "      <td>Wii</td>\n",
       "      <td>2006</td>\n",
       "      <td>Sports</td>\n",
       "      <td>41.36</td>\n",
       "      <td>28.96</td>\n",
       "      <td>3.77</td>\n",
       "      <td>8.45</td>\n",
       "      <td>76.0</td>\n",
       "      <td>80.0</td>\n",
       "      <td>E</td>\n",
       "      <td>82.54</td>\n",
       "    </tr>\n",
       "    <tr>\n",
       "      <th>1</th>\n",
       "      <td>Super Mario Bros.</td>\n",
       "      <td>NES</td>\n",
       "      <td>1985</td>\n",
       "      <td>Platform</td>\n",
       "      <td>29.08</td>\n",
       "      <td>3.58</td>\n",
       "      <td>6.81</td>\n",
       "      <td>0.77</td>\n",
       "      <td>NaN</td>\n",
       "      <td>NaN</td>\n",
       "      <td>undefined</td>\n",
       "      <td>40.24</td>\n",
       "    </tr>\n",
       "    <tr>\n",
       "      <th>2</th>\n",
       "      <td>Mario Kart Wii</td>\n",
       "      <td>Wii</td>\n",
       "      <td>2008</td>\n",
       "      <td>Racing</td>\n",
       "      <td>15.68</td>\n",
       "      <td>12.76</td>\n",
       "      <td>3.79</td>\n",
       "      <td>3.29</td>\n",
       "      <td>82.0</td>\n",
       "      <td>83.0</td>\n",
       "      <td>E</td>\n",
       "      <td>35.52</td>\n",
       "    </tr>\n",
       "    <tr>\n",
       "      <th>3</th>\n",
       "      <td>Wii Sports Resort</td>\n",
       "      <td>Wii</td>\n",
       "      <td>2009</td>\n",
       "      <td>Sports</td>\n",
       "      <td>15.61</td>\n",
       "      <td>10.93</td>\n",
       "      <td>3.28</td>\n",
       "      <td>2.95</td>\n",
       "      <td>80.0</td>\n",
       "      <td>80.0</td>\n",
       "      <td>E</td>\n",
       "      <td>32.77</td>\n",
       "    </tr>\n",
       "    <tr>\n",
       "      <th>4</th>\n",
       "      <td>Pokemon Red/Pokemon Blue</td>\n",
       "      <td>GB</td>\n",
       "      <td>1996</td>\n",
       "      <td>Role-Playing</td>\n",
       "      <td>11.27</td>\n",
       "      <td>8.89</td>\n",
       "      <td>10.22</td>\n",
       "      <td>1.00</td>\n",
       "      <td>NaN</td>\n",
       "      <td>NaN</td>\n",
       "      <td>undefined</td>\n",
       "      <td>31.38</td>\n",
       "    </tr>\n",
       "  </tbody>\n",
       "</table>\n",
       "</div>"
      ],
      "text/plain": [
       "                       name platform  year_of_release         genre  na_sales  \\\n",
       "0                Wii Sports      Wii             2006        Sports     41.36   \n",
       "1         Super Mario Bros.      NES             1985      Platform     29.08   \n",
       "2            Mario Kart Wii      Wii             2008        Racing     15.68   \n",
       "3         Wii Sports Resort      Wii             2009        Sports     15.61   \n",
       "4  Pokemon Red/Pokemon Blue       GB             1996  Role-Playing     11.27   \n",
       "\n",
       "   eu_sales  jp_sales  other_sales  critic_score  user_score     rating  \\\n",
       "0     28.96      3.77         8.45          76.0        80.0          E   \n",
       "1      3.58      6.81         0.77           NaN         NaN  undefined   \n",
       "2     12.76      3.79         3.29          82.0        83.0          E   \n",
       "3     10.93      3.28         2.95          80.0        80.0          E   \n",
       "4      8.89     10.22         1.00           NaN         NaN  undefined   \n",
       "\n",
       "   total_sales  \n",
       "0        82.54  \n",
       "1        40.24  \n",
       "2        35.52  \n",
       "3        32.77  \n",
       "4        31.38  "
      ]
     },
     "execution_count": 23,
     "metadata": {},
     "output_type": "execute_result"
    }
   ],
   "source": [
    "games.head()"
   ]
  },
  {
   "cell_type": "markdown",
   "metadata": {},
   "source": [
    "## Проведите исследовательский анализ данных"
   ]
  },
  {
   "cell_type": "code",
   "execution_count": 24,
   "metadata": {},
   "outputs": [
    {
     "name": "stdout",
     "output_type": "stream",
     "text": [
      "                 name\n",
      "year_of_release      \n",
      "1980                9\n",
      "1981               46\n",
      "1982               36\n",
      "1983               17\n",
      "1984               14\n",
      "1985               14\n",
      "1986               21\n",
      "1987               16\n",
      "1988               15\n",
      "1989               17\n",
      "1990               16\n",
      "1991               41\n",
      "1992               43\n",
      "1993               60\n",
      "1994              121\n",
      "1995              219\n",
      "1996              263\n",
      "1997              289\n",
      "1998              379\n",
      "1999              338\n",
      "2000              350\n",
      "2001              482\n",
      "2002              829\n",
      "2003              775\n",
      "2004              762\n",
      "2005              939\n",
      "2006             1006\n",
      "2007             1197\n",
      "2008             1427\n",
      "2009             1426\n",
      "2010             1255\n",
      "2011             1136\n",
      "2012              652\n",
      "2013              544\n",
      "2014              581\n",
      "2015              606\n",
      "2016              502\n"
     ]
    }
   ],
   "source": [
    "games_by_year = games.groupby('year_of_release')[['name']].count()\n",
    "print(games_by_year)"
   ]
  },
  {
   "cell_type": "code",
   "execution_count": 25,
   "metadata": {
    "scrolled": true
   },
   "outputs": [
    {
     "data": {
      "text/plain": [
       "Text(0, 0.5, 'Игр выпущено')"
      ]
     },
     "execution_count": 25,
     "metadata": {},
     "output_type": "execute_result"
    },
    {
     "data": {
      "image/png": "[encoded data removed]",
      "text/plain": [
       "<Figure size 720x360 with 1 Axes>"
      ]
     },
     "metadata": {
      "needs_background": "light"
     },
     "output_type": "display_data"
    }
   ],
   "source": [
    "#построим гистограмму распределения выпуска игр по годам\n",
    "games['year_of_release'].plot(kind='hist', bins=40, figsize = [10,5]).legend()\n",
    "plt.xlabel('Год')\n",
    "plt.ylabel('Игр выпущено')"
   ]
  },
  {
   "cell_type": "code",
   "execution_count": 26,
   "metadata": {},
   "outputs": [
    {
     "name": "stdout",
     "output_type": "stream",
     "text": [
      "                 total_sales\n",
      "year_of_release             \n",
      "1980                   11.38\n",
      "1981                   35.68\n",
      "1982                   28.88\n",
      "1983                   16.80\n",
      "1984                   50.35\n",
      "1985                   53.95\n",
      "1986                   37.08\n",
      "1987                   21.70\n",
      "1988                   47.21\n",
      "1989                   73.45\n",
      "1990                   49.37\n",
      "1991                   32.23\n",
      "1992                   76.16\n",
      "1993                   45.99\n",
      "1994                   79.23\n",
      "1995                   88.12\n",
      "1996                  199.15\n",
      "1997                  201.07\n",
      "1998                  256.31\n",
      "1999                  251.11\n",
      "2000                  201.66\n",
      "2001                  331.46\n",
      "2002                  394.97\n",
      "2003                  357.54\n",
      "2004                  418.68\n",
      "2005                  457.82\n",
      "2006                  517.71\n",
      "2007                  604.75\n",
      "2008                  671.50\n",
      "2009                  658.82\n",
      "2010                  590.13\n",
      "2011                  507.58\n",
      "2012                  355.83\n",
      "2013                  361.24\n",
      "2014                  331.53\n",
      "2015                  267.98\n",
      "2016                  129.94\n"
     ]
    }
   ],
   "source": [
    "sales_by_year = games.groupby('year_of_release')[['total_sales']].sum()\n",
    "print(sales_by_year)"
   ]
  },
  {
   "cell_type": "code",
   "execution_count": 27,
   "metadata": {},
   "outputs": [
    {
     "data": {
      "text/plain": [
       "Text(0, 0.5, 'Количество проданных копий, млн')"
      ]
     },
     "execution_count": 27,
     "metadata": {},
     "output_type": "execute_result"
    },
    {
     "data": {
      "image/png": "[encoded data removed]",
      "text/plain": [
       "<Figure size 432x288 with 1 Axes>"
      ]
     },
     "metadata": {
      "needs_background": "light"
     },
     "output_type": "display_data"
    }
   ],
   "source": [
    "#построим график глобальных продаж игр по годам\n",
    "sales_by_year.plot()\n",
    "plt.xlabel('Год')\n",
    "plt.ylabel('Количество проданных копий, млн')"
   ]
  },
  {
   "cell_type": "markdown",
   "metadata": {},
   "source": [
    "Заметно появление компьютерных игр в 1980-е, стремительный рост в 1990-е с расптростанением персональных компьютеров, продолжение роста в 2000-е, пик - в 2008-2009 гг, затем спад, скорее всего из-за кризиса и высокой конкуренции с мобильными платформами.\n",
    "\n",
    "Для дальнейшего прогноза на 2017 год есть смысл опираться на данные 2010-2016 годы, после окончания стадии роста глобального рынка компьютерных игр."
   ]
  },
  {
   "cell_type": "code",
   "execution_count": 28,
   "metadata": {},
   "outputs": [
    {
     "name": "stdout",
     "output_type": "stream",
     "text": [
      "   platform  year_of_release  total_sales\n",
      "0       3DS             2011        63.20\n",
      "1       3DS             2012        51.36\n",
      "2       3DS             2013        56.57\n",
      "3       3DS             2014        43.76\n",
      "4       3DS             2015        27.78\n",
      "..      ...              ...          ...\n",
      "60     X360             2016         1.52\n",
      "61     XOne             2013        18.96\n",
      "62     XOne             2014        54.07\n",
      "63     XOne             2015        60.14\n",
      "64     XOne             2016        26.15\n",
      "\n",
      "[65 rows x 3 columns]\n"
     ]
    }
   ],
   "source": [
    "#отфильтруем датасет, где для анализа останутся только годы с 2010 по 2016, запишем в новую переменную\n",
    "games_2010_2016 = games[(games['year_of_release']<2017)&(games['year_of_release']>2009)]\n",
    "sales_by_platform_2010_2016 = games_2010_2016.pivot_table(index = ['platform', 'year_of_release'], values = 'total_sales', aggfunc = 'sum').reset_index()\n",
    "print(sales_by_platform_2010_2016)"
   ]
  },
  {
   "cell_type": "markdown",
   "metadata": {},
   "source": []
  },
  {
   "cell_type": "code",
   "execution_count": 29,
   "metadata": {
    "scrolled": true
   },
   "outputs": [
    {
     "name": "stdout",
     "output_type": "stream",
     "text": [
      "   platform  total_sales\n",
      "4       PS3       587.73\n",
      "10     X360       550.41\n",
      "5       PS4       314.14\n",
      "0       3DS       257.81\n",
      "8       Wii       222.97\n",
      "11     XOne       159.32\n",
      "1        DS       123.75\n",
      "2        PC       121.96\n",
      "9      WiiU        82.19\n",
      "6       PSP        64.05\n",
      "7       PSV        53.81\n",
      "3       PS2         6.09\n"
     ]
    }
   ],
   "source": [
    "#узнаем топ-платформ по продажам игр в 2010-2016 годы\n",
    "total_sales_by_platform_2010_2016 = sales_by_platform_2010_2016.groupby(by='platform')['total_sales'].sum().reset_index()\n",
    "total_sales_by_platform_2010_2016.sort_values(by='total_sales', ascending = False, inplace = True)\n",
    "top_platforms = total_sales_by_platform_2010_2016.sort_values(by='total_sales', ascending = False)['platform'].to_list()\n",
    "print(total_sales_by_platform_2010_2016)"
   ]
  },
  {
   "cell_type": "code",
   "execution_count": 30,
   "metadata": {},
   "outputs": [
    {
     "data": {
      "text/plain": [
       "<AxesSubplot:xlabel='platform', ylabel='total_sales'>"
      ]
     },
     "execution_count": 30,
     "metadata": {},
     "output_type": "execute_result"
    },
    {
     "data": {
      "image/png": "[encoded data removed]",
      "text/plain": [
       "<Figure size 1080x595.44 with 1 Axes>"
      ]
     },
     "metadata": {},
     "output_type": "display_data"
    }
   ],
   "source": [
    "sns.set(rc={'figure.figsize':(15,8.27)})\n",
    "sns.barplot(x=total_sales_by_platform_2010_2016['platform'], y=total_sales_by_platform_2010_2016['total_sales'])"
   ]
  },
  {
   "cell_type": "markdown",
   "metadata": {},
   "source": [
    "По продажам игр, вышедших за период 2010-2016 гг., в очевидных лидерах платфоры PS3 и X360. \n",
    "\n",
    "Информации из данного графика недостаточно, т.к. некоторые платформы, продажи по которым в 2010-2016 гг были невысокими, могли быть на стадии становления/развития, а некоторые платформы-лидеры по продажам за этот период могли к 2016 году наоборот терять популярность.\n",
    "\n",
    "Далее нужно посмтреть на какой стадии жизненного цикла на данный момент находтся каждая платформ, по которым происходили продажи игр в 2010-2016 гг. (@top_platforms). Для этого возьмем период с 2000 по 2016 гг."
   ]
  },
  {
   "cell_type": "code",
   "execution_count": 31,
   "metadata": {
    "scrolled": false
   },
   "outputs": [
    {
     "name": "stdout",
     "output_type": "stream",
     "text": [
      "                total_sales                                                  \\\n",
      "platform                3DS     DS     PC     PS2  PS3  PS4   PSP  PSV  Wii   \n",
      "year_of_release                                                               \n",
      "2000                    0.0   0.00   4.66   39.17  0.0  0.0  0.00  0.0  0.0   \n",
      "2001                    0.0   0.00   5.47  166.43  0.0  0.0  0.00  0.0  0.0   \n",
      "2002                    0.0   0.00   8.57  205.38  0.0  0.0  0.00  0.0  0.0   \n",
      "2003                    0.0   0.00   8.84  184.31  0.0  0.0  0.00  0.0  0.0   \n",
      "2004                    0.0  17.27  10.39  211.81  0.0  0.0  7.06  0.0  0.0   \n",
      "\n",
      "                                \n",
      "platform        WiiU X360 XOne  \n",
      "year_of_release                 \n",
      "2000             0.0  0.0  0.0  \n",
      "2001             0.0  0.0  0.0  \n",
      "2002             0.0  0.0  0.0  \n",
      "2003             0.0  0.0  0.0  \n",
      "2004             0.0  0.0  0.0  \n"
     ]
    }
   ],
   "source": [
    "#сделаем сводную таблицу для продаж игр за каждый год с 2000 по 2016 для выбранных платформ\n",
    "games_2000_2016 = games.query('year_of_release > 1999 and year_of_release < 2017 and platform in @top_platforms')\n",
    "sales_by_platform_2000_2016 = games_2000_2016.pivot_table(index=['year_of_release'],\n",
    "                                       values=['total_sales'],\n",
    "                                       columns='platform',\n",
    "                                       aggfunc='sum',\n",
    "                                       fill_value=0)\n",
    "print(sales_by_platform_2000_2016.head())"
   ]
  },
  {
   "cell_type": "code",
   "execution_count": 32,
   "metadata": {},
   "outputs": [],
   "source": [
    "sales_by_platform_2000_2016.columns = ['3DS','DS','PC','PS2','PS3','PS4','PSP','PSV','Wii','WiiU','X360','XOne']"
   ]
  },
  {
   "cell_type": "code",
   "execution_count": 33,
   "metadata": {
    "scrolled": false
   },
   "outputs": [
    {
     "data": {
      "image/png": "[encoded data removed]",
      "text/plain": [
       "<Figure size 1152x864 with 12 Axes>"
      ]
     },
     "metadata": {},
     "output_type": "display_data"
    }
   ],
   "source": [
    "#построим графики продаж игр по каждой из выбранных платформ за период 2000-2016 гг.\n",
    "\n",
    "nrows = 4  \n",
    "ncols = 3  \n",
    "c = 1  \n",
    "\n",
    "fig = plt.figure(figsize=(16,12))\n",
    "fig.suptitle('Число проданных копий с 2000 по 2016 на выбранных платформах')\n",
    "fig.tight_layout(pad = 4.0)\n",
    "for i in top_platforms:\n",
    "    plt.subplot(nrows, ncols, c)\n",
    "    plt.title(i)\n",
    "    sales_by_platform_2000_2016[i].plot.area()\n",
    "    plt.xlabel('Год')\n",
    "    plt.ylabel('млн. копий')\n",
    "    plt.xticks(np.arange(min(sales_by_platform_2000_2016.index), max(sales_by_platform_2000_2016.index)+1, 3.0))\n",
    "    plt.yticks(np.arange(0, 201, 50))\n",
    "    c = c+1\n",
    "fig.tight_layout(pad = 3.0)\n"
   ]
  },
  {
   "cell_type": "markdown",
   "metadata": {},
   "source": [
    "Из графиков за 2000-2016 годы по 12 платформам, продажи по которым имели место в период с 2010 по 2016 годы, можно сделать следующие выводы:\n",
    "1. В целом, на примере таких популярных платформ как PS3, X360, DS и PS2, жизненный цикл платформы можно оценить примерно в 10 лет.\n",
    "2. Несмотря на то, что из графика продаж по платформам за период с 2010 по 2016 годы было очевидно лидерство PS3 и X360, графики выше демонстрируют, что данные платформы к 2016 году находятся в конце своего жизненного цикла.\n",
    "3. Следует ориентироваться на платформы PS4 и XOne, появившиеся в 2012 году, также потенциал еще есть у платформы 3DS, появившейся в 2010 году.\n",
    "\n",
    "Далее для анализа берем только период 2010-2016 гг."
   ]
  },
  {
   "cell_type": "code",
   "execution_count": 34,
   "metadata": {},
   "outputs": [
    {
     "data": {
      "image/png": "[encoded data removed]",
      "text/plain": [
       "<Figure size 1080x595.44 with 1 Axes>"
      ]
     },
     "metadata": {},
     "output_type": "display_data"
    }
   ],
   "source": [
    "#построим ящик с усами для платформ, продажи по которым были в период с 2010 по 2016 гг\n",
    "sns.set(rc={'figure.figsize':(15,8.27)})\n",
    "sns.boxplot(data=games_2010_2016, x='platform', y='total_sales', showfliers = False)\n",
    "plt.xlabel('Платформы')\n",
    "plt.ylabel('Продано копий')\n",
    "plt.show()"
   ]
  },
  {
   "cell_type": "markdown",
   "metadata": {},
   "source": [
    "Из графика видно, что медиана продаж для игр на платформе XOne выше, чем на PS4. В то же время распределение для PS4 имеет скос вправо, что говорит о наличии большего числа игр-блокбастеров на PS4, чем на Xone."
   ]
  },
  {
   "cell_type": "code",
   "execution_count": 35,
   "metadata": {},
   "outputs": [
    {
     "data": {
      "image/png": "[encoded data removed]",
      "text/plain": [
       "<Figure size 1080x648 with 1 Axes>"
      ]
     },
     "metadata": {},
     "output_type": "display_data"
    }
   ],
   "source": [
    "sns.set(rc={'figure.figsize':(15,9)})\n",
    "sns.boxplot(data=games_2010_2016, x='platform', y='total_sales', showfliers = True)\n",
    "plt.xlabel('Платформы')\n",
    "plt.ylabel('Продажи')\n",
    "plt.show()"
   ]
  },
  {
   "cell_type": "markdown",
   "metadata": {},
   "source": [
    "Из графика с выбросами видно, что самые хитовые игры за данный период были выпущены на платформах X360 и PS3, но не забываем, что жизненный цикл данных платформ к 2016 г. походит к концу.\n",
    "    \n",
    "Что касается платформ, на которые мы решили ориентироваться (PS4, XOne и 3DS), то здесь можно отметить, что на платформе 3DS выходило много игр-хитов, игр с продажами более 10 млн копий, даже больше, чем у платформы PS4.\n",
    "\n",
    "Сравнивая популярные в Америке и Европе PS4 и XOne, можно сказать, что игры с продажами более 10 млн копий есть только у PS4, игры с продажами более 5 млн копий есть у обеих платформ, но у PS4 их больше."
   ]
  },
  {
   "cell_type": "code",
   "execution_count": 36,
   "metadata": {},
   "outputs": [],
   "source": [
    "#выберем для период 2010-2016 гг игры на платформе PS4\n",
    "ps4_data = games_2010_2016.query('platform == \"PS4\" and critic_score > 0 and user_score > 0')"
   ]
  },
  {
   "cell_type": "code",
   "execution_count": 37,
   "metadata": {},
   "outputs": [
    {
     "data": {
      "image/png": "[encoded data removed]",
      "text/plain": [
       "<Figure size 1080x648 with 1 Axes>"
      ]
     },
     "metadata": {},
     "output_type": "display_data"
    }
   ],
   "source": [
    "#построим диаграмму рассеивания\n",
    "sns.scatterplot(data=ps4_data, x='total_sales', y='critic_score', alpha=0.6)\n",
    "sns.scatterplot(data=ps4_data, x='total_sales', y='user_score', alpha=0.6)\n",
    "plt.xlabel('Продажи')\n",
    "plt.ylabel('Оценки')\n",
    "plt.legend(['Критики', 'Пользователи'])\n",
    "plt.show()"
   ]
  },
  {
   "cell_type": "code",
   "execution_count": 38,
   "metadata": {},
   "outputs": [],
   "source": [
    "#выберем игры с продажами менее 1 млн копий\n",
    "ps4_data_less_1_mln = ps4_data.query('total_sales < 1')"
   ]
  },
  {
   "cell_type": "code",
   "execution_count": 39,
   "metadata": {},
   "outputs": [
    {
     "data": {
      "image/png": "[encoded data removed]",
      "text/plain": [
       "<Figure size 1080x648 with 1 Axes>"
      ]
     },
     "metadata": {},
     "output_type": "display_data"
    }
   ],
   "source": [
    "sns.scatterplot(data=ps4_data_less_1_mln, x='total_sales', y='critic_score')\n",
    "sns.scatterplot(data=ps4_data_less_1_mln, x='total_sales', y='user_score')\n",
    "plt.xlabel('Продажи')\n",
    "plt.ylabel('Оценки')\n",
    "plt.legend(['Критики', 'Пользователи'])\n",
    "plt.show()"
   ]
  },
  {
   "cell_type": "code",
   "execution_count": 40,
   "metadata": {},
   "outputs": [],
   "source": [
    "#выберем игры с продажами более 1 млн копий\n",
    "ps4_data_more_1_mln = ps4_data.query('total_sales > 1')"
   ]
  },
  {
   "cell_type": "code",
   "execution_count": 41,
   "metadata": {},
   "outputs": [
    {
     "data": {
      "image/png": "[encoded data removed]",
      "text/plain": [
       "<Figure size 1080x648 with 1 Axes>"
      ]
     },
     "metadata": {},
     "output_type": "display_data"
    }
   ],
   "source": [
    "sns.scatterplot(data=ps4_data_more_1_mln, x='total_sales', y='critic_score')\n",
    "sns.scatterplot(data=ps4_data_more_1_mln, x='total_sales', y='user_score')\n",
    "plt.xlabel('Продажи')\n",
    "plt.ylabel('Оценки')\n",
    "plt.legend(['Критики', 'Пользователи'])\n",
    "plt.show()"
   ]
  },
  {
   "cell_type": "code",
   "execution_count": 42,
   "metadata": {},
   "outputs": [
    {
     "data": {
      "text/html": [
       "<div>\n",
       "<style scoped>\n",
       "    .dataframe tbody tr th:only-of-type {\n",
       "        vertical-align: middle;\n",
       "    }\n",
       "\n",
       "    .dataframe tbody tr th {\n",
       "        vertical-align: top;\n",
       "    }\n",
       "\n",
       "    .dataframe thead th {\n",
       "        text-align: right;\n",
       "    }\n",
       "</style>\n",
       "<table border=\"1\" class=\"dataframe\">\n",
       "  <thead>\n",
       "    <tr style=\"text-align: right;\">\n",
       "      <th></th>\n",
       "      <th>user_score</th>\n",
       "      <th>critic_score</th>\n",
       "      <th>total_sales</th>\n",
       "    </tr>\n",
       "  </thead>\n",
       "  <tbody>\n",
       "    <tr>\n",
       "      <th>user_score</th>\n",
       "      <td>1.000000</td>\n",
       "      <td>0.557654</td>\n",
       "      <td>-0.033625</td>\n",
       "    </tr>\n",
       "    <tr>\n",
       "      <th>critic_score</th>\n",
       "      <td>0.557654</td>\n",
       "      <td>1.000000</td>\n",
       "      <td>0.405895</td>\n",
       "    </tr>\n",
       "    <tr>\n",
       "      <th>total_sales</th>\n",
       "      <td>-0.033625</td>\n",
       "      <td>0.405895</td>\n",
       "      <td>1.000000</td>\n",
       "    </tr>\n",
       "  </tbody>\n",
       "</table>\n",
       "</div>"
      ],
      "text/plain": [
       "              user_score  critic_score  total_sales\n",
       "user_score      1.000000      0.557654    -0.033625\n",
       "critic_score    0.557654      1.000000     0.405895\n",
       "total_sales    -0.033625      0.405895     1.000000"
      ]
     },
     "execution_count": 42,
     "metadata": {},
     "output_type": "execute_result"
    }
   ],
   "source": [
    "#посторим матрицу корреляции оценок и продаж для PS4\n",
    "ps4_data[['user_score', 'critic_score', 'total_sales']].corr()"
   ]
  },
  {
   "cell_type": "code",
   "execution_count": 43,
   "metadata": {},
   "outputs": [
    {
     "data": {
      "text/html": [
       "<div>\n",
       "<style scoped>\n",
       "    .dataframe tbody tr th:only-of-type {\n",
       "        vertical-align: middle;\n",
       "    }\n",
       "\n",
       "    .dataframe tbody tr th {\n",
       "        vertical-align: top;\n",
       "    }\n",
       "\n",
       "    .dataframe thead th {\n",
       "        text-align: right;\n",
       "    }\n",
       "</style>\n",
       "<table border=\"1\" class=\"dataframe\">\n",
       "  <thead>\n",
       "    <tr style=\"text-align: right;\">\n",
       "      <th></th>\n",
       "      <th>user_score</th>\n",
       "      <th>critic_score</th>\n",
       "      <th>total_sales</th>\n",
       "    </tr>\n",
       "  </thead>\n",
       "  <tbody>\n",
       "    <tr>\n",
       "      <th>user_score</th>\n",
       "      <td>1.000000</td>\n",
       "      <td>0.637252</td>\n",
       "      <td>-0.015898</td>\n",
       "    </tr>\n",
       "    <tr>\n",
       "      <th>critic_score</th>\n",
       "      <td>0.637252</td>\n",
       "      <td>1.000000</td>\n",
       "      <td>0.308644</td>\n",
       "    </tr>\n",
       "    <tr>\n",
       "      <th>total_sales</th>\n",
       "      <td>-0.015898</td>\n",
       "      <td>0.308644</td>\n",
       "      <td>1.000000</td>\n",
       "    </tr>\n",
       "  </tbody>\n",
       "</table>\n",
       "</div>"
      ],
      "text/plain": [
       "              user_score  critic_score  total_sales\n",
       "user_score      1.000000      0.637252    -0.015898\n",
       "critic_score    0.637252      1.000000     0.308644\n",
       "total_sales    -0.015898      0.308644     1.000000"
      ]
     },
     "execution_count": 43,
     "metadata": {},
     "output_type": "execute_result"
    }
   ],
   "source": [
    "#посторим матрицу корреляции оценок и продаж для PS4 для игра менее чем с 1 млн проданных копий\n",
    "ps4_data_less_1_mln[['user_score', 'critic_score', 'total_sales']].corr()"
   ]
  },
  {
   "cell_type": "code",
   "execution_count": 44,
   "metadata": {
    "scrolled": true
   },
   "outputs": [
    {
     "data": {
      "text/html": [
       "<div>\n",
       "<style scoped>\n",
       "    .dataframe tbody tr th:only-of-type {\n",
       "        vertical-align: middle;\n",
       "    }\n",
       "\n",
       "    .dataframe tbody tr th {\n",
       "        vertical-align: top;\n",
       "    }\n",
       "\n",
       "    .dataframe thead th {\n",
       "        text-align: right;\n",
       "    }\n",
       "</style>\n",
       "<table border=\"1\" class=\"dataframe\">\n",
       "  <thead>\n",
       "    <tr style=\"text-align: right;\">\n",
       "      <th></th>\n",
       "      <th>user_score</th>\n",
       "      <th>critic_score</th>\n",
       "      <th>total_sales</th>\n",
       "    </tr>\n",
       "  </thead>\n",
       "  <tbody>\n",
       "    <tr>\n",
       "      <th>user_score</th>\n",
       "      <td>1.000000</td>\n",
       "      <td>0.427860</td>\n",
       "      <td>-0.123617</td>\n",
       "    </tr>\n",
       "    <tr>\n",
       "      <th>critic_score</th>\n",
       "      <td>0.427860</td>\n",
       "      <td>1.000000</td>\n",
       "      <td>0.400709</td>\n",
       "    </tr>\n",
       "    <tr>\n",
       "      <th>total_sales</th>\n",
       "      <td>-0.123617</td>\n",
       "      <td>0.400709</td>\n",
       "      <td>1.000000</td>\n",
       "    </tr>\n",
       "  </tbody>\n",
       "</table>\n",
       "</div>"
      ],
      "text/plain": [
       "              user_score  critic_score  total_sales\n",
       "user_score      1.000000      0.427860    -0.123617\n",
       "critic_score    0.427860      1.000000     0.400709\n",
       "total_sales    -0.123617      0.400709     1.000000"
      ]
     },
     "execution_count": 44,
     "metadata": {},
     "output_type": "execute_result"
    }
   ],
   "source": [
    "#посторим матрицу корреляции оценок и продаж для PS4 для игра более чем с 1 млн проданных копий\n",
    "ps4_data_more_1_mln[['user_score', 'critic_score', 'total_sales']].corr()"
   ]
  },
  {
   "cell_type": "code",
   "execution_count": 45,
   "metadata": {},
   "outputs": [
    {
     "data": {
      "text/html": [
       "<div>\n",
       "<style scoped>\n",
       "    .dataframe tbody tr th:only-of-type {\n",
       "        vertical-align: middle;\n",
       "    }\n",
       "\n",
       "    .dataframe tbody tr th {\n",
       "        vertical-align: top;\n",
       "    }\n",
       "\n",
       "    .dataframe thead th {\n",
       "        text-align: right;\n",
       "    }\n",
       "</style>\n",
       "<table border=\"1\" class=\"dataframe\">\n",
       "  <thead>\n",
       "    <tr style=\"text-align: right;\">\n",
       "      <th></th>\n",
       "      <th>user_score</th>\n",
       "      <th>critic_score</th>\n",
       "      <th>total_sales</th>\n",
       "    </tr>\n",
       "  </thead>\n",
       "  <tbody>\n",
       "    <tr>\n",
       "      <th>user_score</th>\n",
       "      <td>1.000000</td>\n",
       "      <td>0.511944</td>\n",
       "      <td>-0.137465</td>\n",
       "    </tr>\n",
       "    <tr>\n",
       "      <th>critic_score</th>\n",
       "      <td>0.511944</td>\n",
       "      <td>1.000000</td>\n",
       "      <td>0.361766</td>\n",
       "    </tr>\n",
       "    <tr>\n",
       "      <th>total_sales</th>\n",
       "      <td>-0.137465</td>\n",
       "      <td>0.361766</td>\n",
       "      <td>1.000000</td>\n",
       "    </tr>\n",
       "  </tbody>\n",
       "</table>\n",
       "</div>"
      ],
      "text/plain": [
       "              user_score  critic_score  total_sales\n",
       "user_score      1.000000      0.511944    -0.137465\n",
       "critic_score    0.511944      1.000000     0.361766\n",
       "total_sales    -0.137465      0.361766     1.000000"
      ]
     },
     "execution_count": 45,
     "metadata": {},
     "output_type": "execute_result"
    }
   ],
   "source": [
    "#посторим матрицу корреляции оценок и продаж для PS4 для игра более чем с 2 млн проданных копий\n",
    "ps4_data_more_2_mln = ps4_data.query('total_sales > 2')\n",
    "ps4_data_more_2_mln[['user_score', 'critic_score', 'total_sales']].corr()"
   ]
  },
  {
   "cell_type": "markdown",
   "metadata": {},
   "source": [
    "Для периода 2010-2016 гг:\n",
    "\n",
    "Из диаграмм рассеивания можно сделать вывод, что самые продаваемые игры на платформе PS4 (возьмем игры с продажами более 2 млн копий) никогда не оцениваются критиками ниже 70 баллов, в то же время оценки у таких игр среди пользователей часто бывают ниже 70 баллов, есть даже оценки ниже 40 баллов.\n",
    "\n",
    "Судя по коэффициентам корреляции между оценками пользователей и продажами игр на платформе PS4 нет никакой взаимосвзязи.\n",
    "\n",
    "Между оценками критиков и продажами игр есть незначительная связь, коэф. корреляции 0.4, при этом нельзя сказать, что связь становится тем сильнее, чем более хитовые игры мы берем для анализа взаимосвязи.  \n",
    "\n",
    "Соотнесем выводы с платформой Xone."
   ]
  },
  {
   "cell_type": "code",
   "execution_count": 46,
   "metadata": {},
   "outputs": [],
   "source": [
    "xone_data = games_2010_2016.query('platform == \"XOne\" and critic_score > 0 and user_score > 0')"
   ]
  },
  {
   "cell_type": "code",
   "execution_count": 47,
   "metadata": {},
   "outputs": [
    {
     "data": {
      "image/png": "[encoded data removed]",
      "text/plain": [
       "<Figure size 1080x648 with 1 Axes>"
      ]
     },
     "metadata": {},
     "output_type": "display_data"
    }
   ],
   "source": [
    "sns.scatterplot(data=xone_data, x='total_sales', y='critic_score', alpha=0.6)\n",
    "sns.scatterplot(data=xone_data, x='total_sales', y='user_score', alpha=0.6)\n",
    "plt.xlabel('Продажи')\n",
    "plt.ylabel('Оценки')\n",
    "plt.legend(['Критики', 'Пользователи'])\n",
    "plt.show()"
   ]
  },
  {
   "cell_type": "code",
   "execution_count": 48,
   "metadata": {},
   "outputs": [],
   "source": [
    "xone_data_more_1_mln = xone_data.query('total_sales > 1')"
   ]
  },
  {
   "cell_type": "code",
   "execution_count": 49,
   "metadata": {},
   "outputs": [
    {
     "data": {
      "image/png": "[encoded data removed]",
      "text/plain": [
       "<Figure size 1080x648 with 1 Axes>"
      ]
     },
     "metadata": {},
     "output_type": "display_data"
    }
   ],
   "source": [
    "sns.scatterplot(data=xone_data_more_1_mln, x='total_sales', y='critic_score', alpha=0.6)\n",
    "sns.scatterplot(data=xone_data_more_1_mln, x='total_sales', y='user_score', alpha=0.6)\n",
    "plt.xlabel('Продажи')\n",
    "plt.ylabel('Оценки')\n",
    "plt.legend(['Критики', 'Пользователи'])\n",
    "plt.show()"
   ]
  },
  {
   "cell_type": "code",
   "execution_count": 50,
   "metadata": {},
   "outputs": [],
   "source": [
    "xone_data_less_1_mln = xone_data.query('total_sales < 1')\n",
    "xone_data_more_2_mln = xone_data.query('total_sales > 2')"
   ]
  },
  {
   "cell_type": "code",
   "execution_count": 51,
   "metadata": {},
   "outputs": [
    {
     "data": {
      "text/html": [
       "<div>\n",
       "<style scoped>\n",
       "    .dataframe tbody tr th:only-of-type {\n",
       "        vertical-align: middle;\n",
       "    }\n",
       "\n",
       "    .dataframe tbody tr th {\n",
       "        vertical-align: top;\n",
       "    }\n",
       "\n",
       "    .dataframe thead th {\n",
       "        text-align: right;\n",
       "    }\n",
       "</style>\n",
       "<table border=\"1\" class=\"dataframe\">\n",
       "  <thead>\n",
       "    <tr style=\"text-align: right;\">\n",
       "      <th></th>\n",
       "      <th>user_score</th>\n",
       "      <th>critic_score</th>\n",
       "      <th>total_sales</th>\n",
       "    </tr>\n",
       "  </thead>\n",
       "  <tbody>\n",
       "    <tr>\n",
       "      <th>user_score</th>\n",
       "      <td>1.000000</td>\n",
       "      <td>0.472462</td>\n",
       "      <td>-0.094003</td>\n",
       "    </tr>\n",
       "    <tr>\n",
       "      <th>critic_score</th>\n",
       "      <td>0.472462</td>\n",
       "      <td>1.000000</td>\n",
       "      <td>0.410422</td>\n",
       "    </tr>\n",
       "    <tr>\n",
       "      <th>total_sales</th>\n",
       "      <td>-0.094003</td>\n",
       "      <td>0.410422</td>\n",
       "      <td>1.000000</td>\n",
       "    </tr>\n",
       "  </tbody>\n",
       "</table>\n",
       "</div>"
      ],
      "text/plain": [
       "              user_score  critic_score  total_sales\n",
       "user_score      1.000000      0.472462    -0.094003\n",
       "critic_score    0.472462      1.000000     0.410422\n",
       "total_sales    -0.094003      0.410422     1.000000"
      ]
     },
     "execution_count": 51,
     "metadata": {},
     "output_type": "execute_result"
    }
   ],
   "source": [
    "xone_data[['user_score', 'critic_score', 'total_sales']].corr()"
   ]
  },
  {
   "cell_type": "code",
   "execution_count": 52,
   "metadata": {},
   "outputs": [
    {
     "data": {
      "text/html": [
       "<div>\n",
       "<style scoped>\n",
       "    .dataframe tbody tr th:only-of-type {\n",
       "        vertical-align: middle;\n",
       "    }\n",
       "\n",
       "    .dataframe tbody tr th {\n",
       "        vertical-align: top;\n",
       "    }\n",
       "\n",
       "    .dataframe thead th {\n",
       "        text-align: right;\n",
       "    }\n",
       "</style>\n",
       "<table border=\"1\" class=\"dataframe\">\n",
       "  <thead>\n",
       "    <tr style=\"text-align: right;\">\n",
       "      <th></th>\n",
       "      <th>user_score</th>\n",
       "      <th>critic_score</th>\n",
       "      <th>total_sales</th>\n",
       "    </tr>\n",
       "  </thead>\n",
       "  <tbody>\n",
       "    <tr>\n",
       "      <th>user_score</th>\n",
       "      <td>1.000000</td>\n",
       "      <td>0.588652</td>\n",
       "      <td>-0.034153</td>\n",
       "    </tr>\n",
       "    <tr>\n",
       "      <th>critic_score</th>\n",
       "      <td>0.588652</td>\n",
       "      <td>1.000000</td>\n",
       "      <td>0.300717</td>\n",
       "    </tr>\n",
       "    <tr>\n",
       "      <th>total_sales</th>\n",
       "      <td>-0.034153</td>\n",
       "      <td>0.300717</td>\n",
       "      <td>1.000000</td>\n",
       "    </tr>\n",
       "  </tbody>\n",
       "</table>\n",
       "</div>"
      ],
      "text/plain": [
       "              user_score  critic_score  total_sales\n",
       "user_score      1.000000      0.588652    -0.034153\n",
       "critic_score    0.588652      1.000000     0.300717\n",
       "total_sales    -0.034153      0.300717     1.000000"
      ]
     },
     "execution_count": 52,
     "metadata": {},
     "output_type": "execute_result"
    }
   ],
   "source": [
    "xone_data_less_1_mln[['user_score', 'critic_score', 'total_sales']].corr()"
   ]
  },
  {
   "cell_type": "code",
   "execution_count": 53,
   "metadata": {},
   "outputs": [
    {
     "data": {
      "text/html": [
       "<div>\n",
       "<style scoped>\n",
       "    .dataframe tbody tr th:only-of-type {\n",
       "        vertical-align: middle;\n",
       "    }\n",
       "\n",
       "    .dataframe tbody tr th {\n",
       "        vertical-align: top;\n",
       "    }\n",
       "\n",
       "    .dataframe thead th {\n",
       "        text-align: right;\n",
       "    }\n",
       "</style>\n",
       "<table border=\"1\" class=\"dataframe\">\n",
       "  <thead>\n",
       "    <tr style=\"text-align: right;\">\n",
       "      <th></th>\n",
       "      <th>user_score</th>\n",
       "      <th>critic_score</th>\n",
       "      <th>total_sales</th>\n",
       "    </tr>\n",
       "  </thead>\n",
       "  <tbody>\n",
       "    <tr>\n",
       "      <th>user_score</th>\n",
       "      <td>1.000000</td>\n",
       "      <td>0.328292</td>\n",
       "      <td>-0.226187</td>\n",
       "    </tr>\n",
       "    <tr>\n",
       "      <th>critic_score</th>\n",
       "      <td>0.328292</td>\n",
       "      <td>1.000000</td>\n",
       "      <td>0.112908</td>\n",
       "    </tr>\n",
       "    <tr>\n",
       "      <th>total_sales</th>\n",
       "      <td>-0.226187</td>\n",
       "      <td>0.112908</td>\n",
       "      <td>1.000000</td>\n",
       "    </tr>\n",
       "  </tbody>\n",
       "</table>\n",
       "</div>"
      ],
      "text/plain": [
       "              user_score  critic_score  total_sales\n",
       "user_score      1.000000      0.328292    -0.226187\n",
       "critic_score    0.328292      1.000000     0.112908\n",
       "total_sales    -0.226187      0.112908     1.000000"
      ]
     },
     "execution_count": 53,
     "metadata": {},
     "output_type": "execute_result"
    }
   ],
   "source": [
    "xone_data_more_1_mln[['user_score', 'critic_score', 'total_sales']].corr()"
   ]
  },
  {
   "cell_type": "code",
   "execution_count": 54,
   "metadata": {},
   "outputs": [
    {
     "data": {
      "text/html": [
       "<div>\n",
       "<style scoped>\n",
       "    .dataframe tbody tr th:only-of-type {\n",
       "        vertical-align: middle;\n",
       "    }\n",
       "\n",
       "    .dataframe tbody tr th {\n",
       "        vertical-align: top;\n",
       "    }\n",
       "\n",
       "    .dataframe thead th {\n",
       "        text-align: right;\n",
       "    }\n",
       "</style>\n",
       "<table border=\"1\" class=\"dataframe\">\n",
       "  <thead>\n",
       "    <tr style=\"text-align: right;\">\n",
       "      <th></th>\n",
       "      <th>user_score</th>\n",
       "      <th>critic_score</th>\n",
       "      <th>total_sales</th>\n",
       "    </tr>\n",
       "  </thead>\n",
       "  <tbody>\n",
       "    <tr>\n",
       "      <th>user_score</th>\n",
       "      <td>1.000000</td>\n",
       "      <td>0.636378</td>\n",
       "      <td>0.110675</td>\n",
       "    </tr>\n",
       "    <tr>\n",
       "      <th>critic_score</th>\n",
       "      <td>0.636378</td>\n",
       "      <td>1.000000</td>\n",
       "      <td>0.352428</td>\n",
       "    </tr>\n",
       "    <tr>\n",
       "      <th>total_sales</th>\n",
       "      <td>0.110675</td>\n",
       "      <td>0.352428</td>\n",
       "      <td>1.000000</td>\n",
       "    </tr>\n",
       "  </tbody>\n",
       "</table>\n",
       "</div>"
      ],
      "text/plain": [
       "              user_score  critic_score  total_sales\n",
       "user_score      1.000000      0.636378     0.110675\n",
       "critic_score    0.636378      1.000000     0.352428\n",
       "total_sales     0.110675      0.352428     1.000000"
      ]
     },
     "execution_count": 54,
     "metadata": {},
     "output_type": "execute_result"
    }
   ],
   "source": [
    "xone_data_more_2_mln[['user_score', 'critic_score', 'total_sales']].corr()"
   ]
  },
  {
   "cell_type": "markdown",
   "metadata": {},
   "source": [
    "Данные по XOne подтверждают выводы по PS4 относительно связи оценок критиков и пользователей на продажи:\n",
    "1. Для игр с количеством проданных копий более 2 нет оценко критиков меньше 70, хотя много оценко ниже 70 среди пользователей.\n",
    "2. Взаимосвязи между оценками пользователей и продажами также нет, и также взаимосвязь между оценками критиков и продажами незначительная (коэф. корреляции - 0.41 по всей выборке), при этом для игр с количеством проданных копий более 1 млн связи между продажами и оценкаи критиков совсем нет (коэф. корреляции 0.11)."
   ]
  },
  {
   "cell_type": "code",
   "execution_count": 55,
   "metadata": {},
   "outputs": [
    {
     "name": "stdout",
     "output_type": "stream",
     "text": [
      "              total_sales  number_of_games\n",
      "genre                                     \n",
      "Action             673.09             1495\n",
      "Adventure           61.00              563\n",
      "Fighting            81.59              199\n",
      "Misc               234.56              576\n",
      "Platform           119.72              153\n",
      "Puzzle              20.60              114\n",
      "Racing             122.68              237\n",
      "Role-Playing       315.28              568\n",
      "Shooter            479.74              410\n",
      "Simulation          71.75              217\n",
      "Sports             328.38              574\n",
      "Strategy            35.84              170\n"
     ]
    }
   ],
   "source": [
    "#построим сводную таблицу количества выпущенных игр и объема продаж игр в разрезе жанров\n",
    "games_by_genre_pivot = games_2010_2016.pivot_table(index='genre', values='total_sales', aggfunc=['sum','count'])\n",
    "games_by_genre_pivot.columns = ['total_sales','number_of_games']\n",
    "print(games_by_genre_pivot)"
   ]
  },
  {
   "cell_type": "code",
   "execution_count": 56,
   "metadata": {
    "scrolled": true
   },
   "outputs": [
    {
     "data": {
      "text/html": [
       "<div>\n",
       "<style scoped>\n",
       "    .dataframe tbody tr th:only-of-type {\n",
       "        vertical-align: middle;\n",
       "    }\n",
       "\n",
       "    .dataframe tbody tr th {\n",
       "        vertical-align: top;\n",
       "    }\n",
       "\n",
       "    .dataframe thead th {\n",
       "        text-align: right;\n",
       "    }\n",
       "</style>\n",
       "<table border=\"1\" class=\"dataframe\">\n",
       "  <thead>\n",
       "    <tr style=\"text-align: right;\">\n",
       "      <th></th>\n",
       "      <th>total_sales</th>\n",
       "      <th>number_of_games</th>\n",
       "    </tr>\n",
       "    <tr>\n",
       "      <th>genre</th>\n",
       "      <th></th>\n",
       "      <th></th>\n",
       "    </tr>\n",
       "  </thead>\n",
       "  <tbody>\n",
       "    <tr>\n",
       "      <th>Action</th>\n",
       "      <td>673.09</td>\n",
       "      <td>1495</td>\n",
       "    </tr>\n",
       "    <tr>\n",
       "      <th>Shooter</th>\n",
       "      <td>479.74</td>\n",
       "      <td>410</td>\n",
       "    </tr>\n",
       "    <tr>\n",
       "      <th>Sports</th>\n",
       "      <td>328.38</td>\n",
       "      <td>574</td>\n",
       "    </tr>\n",
       "    <tr>\n",
       "      <th>Role-Playing</th>\n",
       "      <td>315.28</td>\n",
       "      <td>568</td>\n",
       "    </tr>\n",
       "    <tr>\n",
       "      <th>Misc</th>\n",
       "      <td>234.56</td>\n",
       "      <td>576</td>\n",
       "    </tr>\n",
       "  </tbody>\n",
       "</table>\n",
       "</div>"
      ],
      "text/plain": [
       "              total_sales  number_of_games\n",
       "genre                                     \n",
       "Action             673.09             1495\n",
       "Shooter            479.74              410\n",
       "Sports             328.38              574\n",
       "Role-Playing       315.28              568\n",
       "Misc               234.56              576"
      ]
     },
     "execution_count": 56,
     "metadata": {},
     "output_type": "execute_result"
    }
   ],
   "source": [
    "games_by_genre_pivot.sort_values(by='total_sales', ascending=False).head()"
   ]
  },
  {
   "cell_type": "code",
   "execution_count": 57,
   "metadata": {},
   "outputs": [
    {
     "data": {
      "text/html": [
       "<div>\n",
       "<style scoped>\n",
       "    .dataframe tbody tr th:only-of-type {\n",
       "        vertical-align: middle;\n",
       "    }\n",
       "\n",
       "    .dataframe tbody tr th {\n",
       "        vertical-align: top;\n",
       "    }\n",
       "\n",
       "    .dataframe thead th {\n",
       "        text-align: right;\n",
       "    }\n",
       "</style>\n",
       "<table border=\"1\" class=\"dataframe\">\n",
       "  <thead>\n",
       "    <tr style=\"text-align: right;\">\n",
       "      <th></th>\n",
       "      <th>total_sales</th>\n",
       "      <th>number_of_games</th>\n",
       "    </tr>\n",
       "    <tr>\n",
       "      <th>genre</th>\n",
       "      <th></th>\n",
       "      <th></th>\n",
       "    </tr>\n",
       "  </thead>\n",
       "  <tbody>\n",
       "    <tr>\n",
       "      <th>Fighting</th>\n",
       "      <td>81.59</td>\n",
       "      <td>199</td>\n",
       "    </tr>\n",
       "    <tr>\n",
       "      <th>Simulation</th>\n",
       "      <td>71.75</td>\n",
       "      <td>217</td>\n",
       "    </tr>\n",
       "    <tr>\n",
       "      <th>Adventure</th>\n",
       "      <td>61.00</td>\n",
       "      <td>563</td>\n",
       "    </tr>\n",
       "    <tr>\n",
       "      <th>Strategy</th>\n",
       "      <td>35.84</td>\n",
       "      <td>170</td>\n",
       "    </tr>\n",
       "    <tr>\n",
       "      <th>Puzzle</th>\n",
       "      <td>20.60</td>\n",
       "      <td>114</td>\n",
       "    </tr>\n",
       "  </tbody>\n",
       "</table>\n",
       "</div>"
      ],
      "text/plain": [
       "            total_sales  number_of_games\n",
       "genre                                   \n",
       "Fighting          81.59              199\n",
       "Simulation        71.75              217\n",
       "Adventure         61.00              563\n",
       "Strategy          35.84              170\n",
       "Puzzle            20.60              114"
      ]
     },
     "execution_count": 57,
     "metadata": {},
     "output_type": "execute_result"
    }
   ],
   "source": [
    "games_by_genre_pivot.sort_values(by='total_sales', ascending=False).tail()"
   ]
  },
  {
   "cell_type": "code",
   "execution_count": 58,
   "metadata": {
    "scrolled": true
   },
   "outputs": [
    {
     "data": {
      "text/html": [
       "<div>\n",
       "<style scoped>\n",
       "    .dataframe tbody tr th:only-of-type {\n",
       "        vertical-align: middle;\n",
       "    }\n",
       "\n",
       "    .dataframe tbody tr th {\n",
       "        vertical-align: top;\n",
       "    }\n",
       "\n",
       "    .dataframe thead th {\n",
       "        text-align: right;\n",
       "    }\n",
       "</style>\n",
       "<table border=\"1\" class=\"dataframe\">\n",
       "  <thead>\n",
       "    <tr style=\"text-align: right;\">\n",
       "      <th></th>\n",
       "      <th>total_sales</th>\n",
       "      <th>number_of_games</th>\n",
       "    </tr>\n",
       "    <tr>\n",
       "      <th>genre</th>\n",
       "      <th></th>\n",
       "      <th></th>\n",
       "    </tr>\n",
       "  </thead>\n",
       "  <tbody>\n",
       "    <tr>\n",
       "      <th>Action</th>\n",
       "      <td>673.09</td>\n",
       "      <td>1495</td>\n",
       "    </tr>\n",
       "    <tr>\n",
       "      <th>Misc</th>\n",
       "      <td>234.56</td>\n",
       "      <td>576</td>\n",
       "    </tr>\n",
       "    <tr>\n",
       "      <th>Sports</th>\n",
       "      <td>328.38</td>\n",
       "      <td>574</td>\n",
       "    </tr>\n",
       "    <tr>\n",
       "      <th>Role-Playing</th>\n",
       "      <td>315.28</td>\n",
       "      <td>568</td>\n",
       "    </tr>\n",
       "    <tr>\n",
       "      <th>Adventure</th>\n",
       "      <td>61.00</td>\n",
       "      <td>563</td>\n",
       "    </tr>\n",
       "  </tbody>\n",
       "</table>\n",
       "</div>"
      ],
      "text/plain": [
       "              total_sales  number_of_games\n",
       "genre                                     \n",
       "Action             673.09             1495\n",
       "Misc               234.56              576\n",
       "Sports             328.38              574\n",
       "Role-Playing       315.28              568\n",
       "Adventure           61.00              563"
      ]
     },
     "execution_count": 58,
     "metadata": {},
     "output_type": "execute_result"
    }
   ],
   "source": [
    "games_by_genre_pivot.sort_values(by='number_of_games', ascending=False).head()"
   ]
  },
  {
   "cell_type": "code",
   "execution_count": 59,
   "metadata": {},
   "outputs": [
    {
     "data": {
      "text/html": [
       "<div>\n",
       "<style scoped>\n",
       "    .dataframe tbody tr th:only-of-type {\n",
       "        vertical-align: middle;\n",
       "    }\n",
       "\n",
       "    .dataframe tbody tr th {\n",
       "        vertical-align: top;\n",
       "    }\n",
       "\n",
       "    .dataframe thead th {\n",
       "        text-align: right;\n",
       "    }\n",
       "</style>\n",
       "<table border=\"1\" class=\"dataframe\">\n",
       "  <thead>\n",
       "    <tr style=\"text-align: right;\">\n",
       "      <th></th>\n",
       "      <th>total_sales</th>\n",
       "      <th>number_of_games</th>\n",
       "    </tr>\n",
       "    <tr>\n",
       "      <th>genre</th>\n",
       "      <th></th>\n",
       "      <th></th>\n",
       "    </tr>\n",
       "  </thead>\n",
       "  <tbody>\n",
       "    <tr>\n",
       "      <th>Simulation</th>\n",
       "      <td>71.75</td>\n",
       "      <td>217</td>\n",
       "    </tr>\n",
       "    <tr>\n",
       "      <th>Fighting</th>\n",
       "      <td>81.59</td>\n",
       "      <td>199</td>\n",
       "    </tr>\n",
       "    <tr>\n",
       "      <th>Strategy</th>\n",
       "      <td>35.84</td>\n",
       "      <td>170</td>\n",
       "    </tr>\n",
       "    <tr>\n",
       "      <th>Platform</th>\n",
       "      <td>119.72</td>\n",
       "      <td>153</td>\n",
       "    </tr>\n",
       "    <tr>\n",
       "      <th>Puzzle</th>\n",
       "      <td>20.60</td>\n",
       "      <td>114</td>\n",
       "    </tr>\n",
       "  </tbody>\n",
       "</table>\n",
       "</div>"
      ],
      "text/plain": [
       "            total_sales  number_of_games\n",
       "genre                                   \n",
       "Simulation        71.75              217\n",
       "Fighting          81.59              199\n",
       "Strategy          35.84              170\n",
       "Platform         119.72              153\n",
       "Puzzle            20.60              114"
      ]
     },
     "execution_count": 59,
     "metadata": {},
     "output_type": "execute_result"
    }
   ],
   "source": [
    "games_by_genre_pivot.sort_values(by='number_of_games', ascending=False).tail()"
   ]
  },
  {
   "cell_type": "markdown",
   "metadata": {},
   "source": [
    "1. В тройке жанров по наибольшему количеству выпущенных игр за 2010-2016 гг. - экшн, аркады и спорт.\n",
    "2. В тройке жанров по наименьшему количеству выпущенных игр за 2010-2016 гг. - стратегии, платформеры и головоломки.\n",
    "3. В троейке лидеров жанров по объему продаж игр в денежном выражении за 2010-2016 гг. - экшн, шутеры и спорт. \n",
    "4. Наименее продаваемые жанры за акутальный период - приключения, стратегии и головоломки."
   ]
  },
  {
   "cell_type": "code",
   "execution_count": 60,
   "metadata": {},
   "outputs": [
    {
     "data": {
      "image/png": "[encoded data removed]",
      "text/plain": [
       "<Figure size 1080x648 with 1 Axes>"
      ]
     },
     "metadata": {},
     "output_type": "display_data"
    }
   ],
   "source": [
    "#построим ящик с усами для продаж игр в разрезе жанров\n",
    "sns.set(rc={'figure.figsize':(15,9)})\n",
    "sns.boxplot(data=games_2010_2016, x='genre', y='total_sales', showfliers=False)\n",
    "plt.xlabel('Жанры')\n",
    "plt.ylabel('Продажи')\n",
    "plt.show()"
   ]
  },
  {
   "cell_type": "markdown",
   "metadata": {},
   "source": [
    "График ящик с усами демонстрирует, что медианное значение совокупных продаж шутеров самое большое среди всех жанров. График для шутеров скошен вправо, что еще раз говорит о том, что в данной жанре много игр-блокбастеров.\n",
    "\n",
    "Самое низкое медианное значение продаж у игры в жанре приключения. "
   ]
  },
  {
   "cell_type": "markdown",
   "metadata": {},
   "source": [
    "## Составьте портрет пользователя каждого региона"
   ]
  },
  {
   "cell_type": "code",
   "execution_count": 61,
   "metadata": {},
   "outputs": [
    {
     "data": {
      "text/plain": [
       "<AxesSubplot:xlabel='genre'>"
      ]
     },
     "execution_count": 61,
     "metadata": {},
     "output_type": "execute_result"
    },
    {
     "data": {
      "image/png": "[encoded data removed]",
      "text/plain": [
       "<Figure size 1080x648 with 1 Axes>"
      ]
     },
     "metadata": {},
     "output_type": "display_data"
    },
    {
     "data": {
      "image/png": "[encoded data removed]",
      "text/plain": [
       "<Figure size 1080x648 with 1 Axes>"
      ]
     },
     "metadata": {},
     "output_type": "display_data"
    },
    {
     "data": {
      "image/png": "[encoded data removed]",
      "text/plain": [
       "<Figure size 1080x648 with 1 Axes>"
      ]
     },
     "metadata": {},
     "output_type": "display_data"
    }
   ],
   "source": [
    "games_2010_2016.groupby(by='genre').agg({'na_sales':'sum'}).sort_values(by='na_sales', ascending=False).head().plot(kind='bar')\n",
    "games_2010_2016.groupby(by='genre').agg({'eu_sales':'sum'}).sort_values(by='eu_sales', ascending=False).head().plot(kind='bar')\n",
    "games_2010_2016.groupby(by='genre').agg({'jp_sales':'sum'}).sort_values(by='jp_sales', ascending=False).head().plot(kind='bar')"
   ]
  },
  {
   "cell_type": "markdown",
   "metadata": {},
   "source": [
    "За период 2010-2016 гг:\n",
    "1. В Северной Америке по совокупным продажам игр среди жанров лидируют экшены, шутеры и спорт.\n",
    "2. В Европе вкусы игроков такие же, как в Северной Америке: в лидерах экшены, шутеры и спорт.\n",
    "3. В Японии лидер по продажам среди жанров - ролевые игры, которых нет среди лидеров в Северной Америке и Европе. Также в Японии в лидерах экшены и аркады. Шутеров и спорта нет в 5-ке игр по продажам."
   ]
  },
  {
   "cell_type": "code",
   "execution_count": 62,
   "metadata": {},
   "outputs": [
    {
     "data": {
      "text/plain": [
       "<AxesSubplot:xlabel='platform'>"
      ]
     },
     "execution_count": 62,
     "metadata": {},
     "output_type": "execute_result"
    },
    {
     "data": {
      "image/png": "[encoded data removed]",
      "text/plain": [
       "<Figure size 1080x648 with 1 Axes>"
      ]
     },
     "metadata": {},
     "output_type": "display_data"
    },
    {
     "data": {
      "image/png": "[encoded data removed]",
      "text/plain": [
       "<Figure size 1080x648 with 1 Axes>"
      ]
     },
     "metadata": {},
     "output_type": "display_data"
    },
    {
     "data": {
      "image/png": "[encoded data removed]",
      "text/plain": [
       "<Figure size 1080x648 with 1 Axes>"
      ]
     },
     "metadata": {},
     "output_type": "display_data"
    }
   ],
   "source": [
    "games_2010_2016.groupby(by='platform').agg({'na_sales':'sum'}).sort_values(by='na_sales', ascending=False).head(7).plot(kind='bar')\n",
    "games_2010_2016.groupby(by='platform').agg({'eu_sales':'sum'}).sort_values(by='eu_sales', ascending=False).head(7).plot(kind='bar')\n",
    "games_2010_2016.groupby(by='platform').agg({'jp_sales':'sum'}).sort_values(by='jp_sales', ascending=False).head(7).plot(kind='bar')"
   ]
  },
  {
   "cell_type": "markdown",
   "metadata": {},
   "source": [
    "За период 2010-2016 гг:\n",
    "\n",
    "1. В Северной Америке и Европе - топ2 по продажам среди платформ - X360 и PS3. Однако помним, что эти платформы в конце своего жизненного цикла к 2016 году.\n",
    "2. В Северной Америке и Европе интересующая нас платформа PS4 - в топ4. Платформа XOne в Северной Америке - на 5 месте, в Европе - на 7.\n",
    "3. В Японии лидер по продажам среди платформ - 3DS, созданная в 2010 году, к 2016 году находящаяся в середине жизненного цикла. PS4 - в Японии - на 7 месте, XOne - в Японии - совсем не популярна. "
   ]
  },
  {
   "cell_type": "code",
   "execution_count": 63,
   "metadata": {},
   "outputs": [
    {
     "data": {
      "text/plain": [
       "<matplotlib.legend.Legend at 0x7fa9a35dbd00>"
      ]
     },
     "execution_count": 63,
     "metadata": {},
     "output_type": "execute_result"
    },
    {
     "data": {
      "image/png": "[encoded data removed]",
      "text/plain": [
       "<Figure size 1080x648 with 1 Axes>"
      ]
     },
     "metadata": {},
     "output_type": "display_data"
    }
   ],
   "source": [
    "na_by_platform = games_2010_2016.groupby(by='platform').agg({'na_sales':'sum'}).sort_values(by='na_sales', ascending=False)\n",
    "na_by_platform['share_in_total_sales_na'] = na_by_platform['na_sales']/games_2010_2016['na_sales'].sum()\n",
    "na_by_platform['share_in_total_sales_na'].plot(kind='bar', y='platform').legend()"
   ]
  },
  {
   "cell_type": "code",
   "execution_count": 64,
   "metadata": {},
   "outputs": [
    {
     "data": {
      "text/plain": [
       "<matplotlib.legend.Legend at 0x7fa9a36142b0>"
      ]
     },
     "execution_count": 64,
     "metadata": {},
     "output_type": "execute_result"
    },
    {
     "data": {
      "image/png": "[encoded data removed]",
      "text/plain": [
       "<Figure size 1080x648 with 1 Axes>"
      ]
     },
     "metadata": {},
     "output_type": "display_data"
    }
   ],
   "source": [
    "eu_by_platform = games_2010_2016.groupby(by='platform').agg({'eu_sales':'sum'}).sort_values(by='eu_sales', ascending=False)\n",
    "eu_by_platform['share_in_total_sales_eu'] = eu_by_platform['eu_sales']/games_2010_2016['eu_sales'].sum()\n",
    "eu_by_platform['share_in_total_sales_eu'].plot(kind='bar', y='platform').legend()"
   ]
  },
  {
   "cell_type": "code",
   "execution_count": 65,
   "metadata": {},
   "outputs": [
    {
     "data": {
      "text/plain": [
       "<matplotlib.legend.Legend at 0x7fa995d1cc10>"
      ]
     },
     "execution_count": 65,
     "metadata": {},
     "output_type": "execute_result"
    },
    {
     "data": {
      "image/png": "[encoded data removed]",
      "text/plain": [
       "<Figure size 1080x648 with 1 Axes>"
      ]
     },
     "metadata": {},
     "output_type": "display_data"
    }
   ],
   "source": [
    "jp_by_platform = games_2010_2016.groupby(by='platform').agg({'jp_sales':'sum'}).sort_values(by='jp_sales', ascending=False)\n",
    "jp_by_platform['share_in_total_sales_jp'] = jp_by_platform['jp_sales']/games_2010_2016['jp_sales'].sum()\n",
    "jp_by_platform['share_in_total_sales_jp'].plot(kind='bar', y='platform').legend()"
   ]
  },
  {
   "cell_type": "code",
   "execution_count": 66,
   "metadata": {
    "scrolled": false
   },
   "outputs": [
    {
     "data": {
      "text/plain": [
       "<AxesSubplot:xlabel='rating'>"
      ]
     },
     "execution_count": 66,
     "metadata": {},
     "output_type": "execute_result"
    },
    {
     "data": {
      "image/png": "[encoded data removed]",
      "text/plain": [
       "<Figure size 1080x648 with 1 Axes>"
      ]
     },
     "metadata": {},
     "output_type": "display_data"
    },
    {
     "data": {
      "image/png": "[encoded data removed]",
      "text/plain": [
       "<Figure size 1080x648 with 1 Axes>"
      ]
     },
     "metadata": {},
     "output_type": "display_data"
    },
    {
     "data": {
      "image/png": "[encoded data removed]",
      "text/plain": [
       "<Figure size 1080x648 with 1 Axes>"
      ]
     },
     "metadata": {},
     "output_type": "display_data"
    }
   ],
   "source": [
    "games_2010_2016.groupby(by='rating').agg({'na_sales':'sum'}).sort_values(by='na_sales', ascending=False).head().plot(kind='bar')\n",
    "games_2010_2016.groupby(by='rating').agg({'eu_sales':'sum'}).sort_values(by='eu_sales', ascending=False).head().plot(kind='bar')\n",
    "games_2010_2016.groupby(by='rating').agg({'jp_sales':'sum'}).sort_values(by='jp_sales', ascending=False).head().plot(kind='bar')"
   ]
  },
  {
   "cell_type": "markdown",
   "metadata": {},
   "source": [
    "За период 2010-2016 гг:\n",
    "\n",
    "1. В Северной Америке два очевидных лидера по совокупным продажам игр в разрезе рейтинга ESRB - это игры для взрослых (М) и игры для всех (Е).\n",
    "2. В Европе те же 2 лидера по продажам разрезе рейтинга ESRB (игры для взрослых (М) и игры для всех (Е)).\n",
    "3. В Европе и Северной Америке примерно одинаковый объем продаж игр без возрастного рейтинга (undefined), примерно в 150 млн копий.\n",
    "4. В Японии очевидный лидер по продажам в разрезе рейтинга ESRB игры без возрастного рейтинга (undefined).\n",
    "5. В целом, можео заметить почти одинаковое распределение продаж игр в разрезе рейтинга ESRB для Северной Америки и Европы. Для Японии картина сильно отличается тем, что там в лидерах игры без возрастного рейтинга с 3-кратным отрывом от игр с рейтингом для всех (E) и игр для подростков (T).\n",
    "6. Если я правильно понял, такое большое количество игр без рейтинга в Японии объясняется тем, что на территории Японии действует свое рейтинговое агентство CERO. На самом-то деле там почти все игры с рейтингом, просто у нас есть данные только по рейтингу ESRB."
   ]
  },
  {
   "cell_type": "markdown",
   "metadata": {},
   "source": [
    "## Проверьте гипотезы"
   ]
  },
  {
   "cell_type": "markdown",
   "metadata": {},
   "source": [
    "Проверим гипотезу о равенстве средних пользовательских оценок среди платформ Xbox One и PC:\n",
    "\n",
    "H0: средние пользовательские оценки среди платформ Xbox One и PC одинаковые.\n",
    "\n",
    "H1: cредние пользовательские оценки среди платформ Xbox One и PC различаются."
   ]
  },
  {
   "cell_type": "code",
   "execution_count": 67,
   "metadata": {},
   "outputs": [],
   "source": [
    "xone_user_scores = games_2010_2016.query('platform == \"XOne\" and user_score > 0')['user_score']\n",
    "pc_user_scores = games_2010_2016.query('platform == \"PC\" and user_score > 0')['user_score']"
   ]
  },
  {
   "cell_type": "code",
   "execution_count": 68,
   "metadata": {},
   "outputs": [
    {
     "name": "stdout",
     "output_type": "stream",
     "text": [
      "p-значение: 0.9801634129117981\n",
      "Не получилось отвергнуть нулевую гипотезу\n"
     ]
    }
   ],
   "source": [
    "alpha = 0.05\n",
    "\n",
    "results = st.ttest_ind(\n",
    "    xone_user_scores,\n",
    "    pc_user_scores,\n",
    "    equal_var=False)\n",
    "\n",
    "print('p-значение:', results.pvalue)\n",
    "\n",
    "if results.pvalue < alpha:\n",
    "    print(\"Отвергаем нулевую гипотезу\")\n",
    "else:\n",
    "    print(\"Не получилось отвергнуть нулевую гипотезу\")"
   ]
  },
  {
   "cell_type": "markdown",
   "metadata": {},
   "source": [
    "Вывод: средние пользовательские оценки среди платформ Xbox One и PC одинаковые."
   ]
  },
  {
   "cell_type": "markdown",
   "metadata": {},
   "source": [
    "<div class=\"alert alert-success\">\n",
    "    \n",
    "<b> Комментарий от ревьюера ✔️</b>\n",
    "    \n",
    "> средние пользовательские оценки среди платформ Xbox One и PC одинаковые.\n",
    "    \n",
    "Ты правильно сформулировал гипотезы и выбрал подходящий способ проверки, но лучше сказать, что между оценками нет статистически значимой разницы\n",
    "</div>"
   ]
  },
  {
   "cell_type": "markdown",
   "metadata": {},
   "source": [
    "Проверим гипотезу о равенстве средних пользовательских оценок среди жанров Action и Sports:\n",
    "\n",
    "H0: средние пользовательские оценки среди жанров Action и Sports одинаковые.\n",
    "\n",
    "H1: средние пользовательские оценки среди жанров Action и Sports различаются."
   ]
  },
  {
   "cell_type": "code",
   "execution_count": 69,
   "metadata": {},
   "outputs": [],
   "source": [
    "action_user_scores = games_2010_2016.query('genre == \"Action\" and user_score > 0')['user_score']\n",
    "sports_user_scores = games_2010_2016.query('genre == \"Sports\" and user_score > 0')['user_score']"
   ]
  },
  {
   "cell_type": "code",
   "execution_count": 70,
   "metadata": {},
   "outputs": [
    {
     "name": "stdout",
     "output_type": "stream",
     "text": [
      "p-значение: 1.8577558919385787e-15\n",
      "Отвергаем нулевую гипотезу\n"
     ]
    }
   ],
   "source": [
    "alpha = 0.05\n",
    "\n",
    "results = st.ttest_ind(\n",
    "    action_user_scores,\n",
    "    sports_user_scores,\n",
    "    equal_var=False)\n",
    "\n",
    "print('p-значение:', results.pvalue)\n",
    "\n",
    "if results.pvalue < alpha:\n",
    "    print(\"Отвергаем нулевую гипотезу\")\n",
    "else:\n",
    "    print(\"Не получилось отвергнуть нулевую гипотезу\")"
   ]
  },
  {
   "cell_type": "markdown",
   "metadata": {},
   "source": [
    "Вывод: средние пользовательские оценки среди жанров Action и Sports различаются."
   ]
  },
  {
   "cell_type": "markdown",
   "metadata": {},
   "source": [
    "<div class=\"alert alert-success\">\n",
    "    \n",
    "<b> Комментарий от ревьюера ✔️</b>\n",
    "    \n",
    "Все верно \n",
    "\n",
    "</div>"
   ]
  },
  {
   "cell_type": "markdown",
   "metadata": {},
   "source": [
    "## Общий вывод"
   ]
  },
  {
   "cell_type": "markdown",
   "metadata": {},
   "source": [
    "Анализ глобального рынка компьютерных игр показал, что пик продаж игр в мире пришелся на 2008-2009 годы, далее в силу ряда причин, среди которых, скорее всего, мировой финансовый кризис 2008 года и высокая конкуренция с мобильными платформами, имело место ежегодное падение объема продаж, продолжающееся до сих пор.\n",
    "\n",
    "Исходя из этого, дальнейший анализ было решено проводить в рамках периода 2010-2016 гг.\n",
    "\n",
    "Графики продаж игр в разрезе платформ продемострировали, что в среднем жизненный цикл одной платформы можно оценить примерно в 10 лет.\n",
    "\n",
    "Исходя из продаж игр в разрезе платформ за период 2010-2016 гг и анализа жизненных циклов всех платформ, по которым имели место продажи в данный период, был сделан вывод, что наиболее пристальное внимание заслуживают платформы PS4 и XOne, появившиеся в 2012 году, а также популярная в Японии 3DS, появившаяся в 2010 году.\n",
    "\n",
    "Для продаж в Северной Америке и Европе следует ориентироваться на платформы PS4 и XOne и такие жанры игр как экшены, шутеры и спортивные симуляторы.\n",
    "\n",
    "Для продаж в Японии следует ориентироваться на платформу 3DS и такие жанры как ролевые игры и экшены. \n",
    "\n",
    "В то же время внимание больше всё же стоит сконцентрировать на Северной Америке и Европе, там емкость рынка намного выше, чем в Японии. \n"
   ]
  }
 ],
 "metadata": {
  "ExecuteTimeLog": [
   {
    "duration": 69,
    "start_time": "2022-09-05T12:03:35.677Z"
   },
   {
    "duration": 1339,
    "start_time": "2022-09-05T12:03:42.177Z"
   },
   {
    "duration": 122,
    "start_time": "2022-09-05T12:03:43.520Z"
   },
   {
    "duration": 18,
    "start_time": "2022-09-05T12:21:37.289Z"
   },
   {
    "duration": 21,
    "start_time": "2022-09-05T12:21:41.681Z"
   },
   {
    "duration": 34,
    "start_time": "2022-09-05T12:21:56.816Z"
   },
   {
    "duration": 17,
    "start_time": "2022-09-05T12:34:06.435Z"
   },
   {
    "duration": 15,
    "start_time": "2022-09-05T12:35:19.319Z"
   },
   {
    "duration": 61,
    "start_time": "2022-09-05T12:35:32.812Z"
   },
   {
    "duration": 12,
    "start_time": "2022-09-05T12:35:42.569Z"
   },
   {
    "duration": 4,
    "start_time": "2022-09-05T12:41:48.740Z"
   },
   {
    "duration": 15,
    "start_time": "2022-09-05T12:42:26.797Z"
   },
   {
    "duration": 8,
    "start_time": "2022-09-05T14:11:54.731Z"
   },
   {
    "duration": 19,
    "start_time": "2022-09-05T14:14:17.513Z"
   },
   {
    "duration": 9,
    "start_time": "2022-09-05T14:15:19.583Z"
   },
   {
    "duration": 980,
    "start_time": "2022-09-05T14:26:09.450Z"
   },
   {
    "duration": 9,
    "start_time": "2022-09-05T14:26:10.961Z"
   },
   {
    "duration": 23,
    "start_time": "2022-09-05T14:26:28.939Z"
   },
   {
    "duration": 20,
    "start_time": "2022-09-05T14:27:10.796Z"
   },
   {
    "duration": 23,
    "start_time": "2022-09-05T14:28:14.930Z"
   },
   {
    "duration": 9,
    "start_time": "2022-09-05T14:28:59.734Z"
   },
   {
    "duration": 9,
    "start_time": "2022-09-05T14:29:04.218Z"
   },
   {
    "duration": 11,
    "start_time": "2022-09-05T14:29:10.921Z"
   },
   {
    "duration": 8,
    "start_time": "2022-09-05T14:29:37.119Z"
   },
   {
    "duration": 21,
    "start_time": "2022-09-05T14:29:57.491Z"
   },
   {
    "duration": 1183,
    "start_time": "2022-09-05T14:31:24.549Z"
   },
   {
    "duration": 840,
    "start_time": "2022-09-05T14:31:38.032Z"
   },
   {
    "duration": 67,
    "start_time": "2022-09-05T14:33:26.215Z"
   },
   {
    "duration": 3,
    "start_time": "2022-09-05T14:33:40.941Z"
   },
   {
    "duration": 75,
    "start_time": "2022-09-05T14:33:40.946Z"
   },
   {
    "duration": 15,
    "start_time": "2022-09-05T14:33:41.022Z"
   },
   {
    "duration": 34,
    "start_time": "2022-09-05T14:33:41.039Z"
   },
   {
    "duration": 39,
    "start_time": "2022-09-05T14:33:41.075Z"
   },
   {
    "duration": 10,
    "start_time": "2022-09-05T14:33:41.117Z"
   },
   {
    "duration": 8,
    "start_time": "2022-09-05T14:33:41.129Z"
   },
   {
    "duration": 79,
    "start_time": "2022-09-05T14:33:41.139Z"
   },
   {
    "duration": 0,
    "start_time": "2022-09-05T14:33:41.220Z"
   },
   {
    "duration": 67,
    "start_time": "2022-09-05T14:34:17.314Z"
   },
   {
    "duration": 4,
    "start_time": "2022-09-05T14:34:38.801Z"
   },
   {
    "duration": 40,
    "start_time": "2022-09-05T14:34:59.727Z"
   },
   {
    "duration": 960,
    "start_time": "2022-09-05T14:37:10.827Z"
   },
   {
    "duration": 8,
    "start_time": "2022-09-05T14:37:28.697Z"
   },
   {
    "duration": 3,
    "start_time": "2022-09-05T14:37:51.930Z"
   },
   {
    "duration": 102,
    "start_time": "2022-09-05T14:37:51.935Z"
   },
   {
    "duration": 14,
    "start_time": "2022-09-05T14:37:52.039Z"
   },
   {
    "duration": 54,
    "start_time": "2022-09-05T14:37:52.056Z"
   },
   {
    "duration": 21,
    "start_time": "2022-09-05T14:37:52.116Z"
   },
   {
    "duration": 20,
    "start_time": "2022-09-05T14:37:52.139Z"
   },
   {
    "duration": 34,
    "start_time": "2022-09-05T14:37:52.161Z"
   },
   {
    "duration": 33,
    "start_time": "2022-09-05T14:37:52.197Z"
   },
   {
    "duration": 16,
    "start_time": "2022-09-05T14:38:08.882Z"
   },
   {
    "duration": 7,
    "start_time": "2022-09-05T14:39:05.453Z"
   },
   {
    "duration": 5,
    "start_time": "2022-09-05T14:39:46.272Z"
   },
   {
    "duration": 11,
    "start_time": "2022-09-05T14:39:59.820Z"
   },
   {
    "duration": 7,
    "start_time": "2022-09-05T14:40:22.031Z"
   },
   {
    "duration": 1024,
    "start_time": "2022-09-05T14:41:03.866Z"
   },
   {
    "duration": 92,
    "start_time": "2022-09-05T14:41:43.575Z"
   },
   {
    "duration": 4,
    "start_time": "2022-09-05T14:41:56.352Z"
   },
   {
    "duration": 4,
    "start_time": "2022-09-05T14:42:45.234Z"
   },
   {
    "duration": 9,
    "start_time": "2022-09-05T14:42:59.531Z"
   },
   {
    "duration": 4,
    "start_time": "2022-09-05T14:44:21.827Z"
   },
   {
    "duration": 5,
    "start_time": "2022-09-05T14:44:38.138Z"
   },
   {
    "duration": 8,
    "start_time": "2022-09-05T14:46:37.091Z"
   },
   {
    "duration": 15,
    "start_time": "2022-09-05T14:46:51.101Z"
   },
   {
    "duration": 16,
    "start_time": "2022-09-05T14:48:04.362Z"
   },
   {
    "duration": 12,
    "start_time": "2022-09-05T14:48:21.759Z"
   },
   {
    "duration": 20,
    "start_time": "2022-09-05T14:51:21.006Z"
   },
   {
    "duration": 5,
    "start_time": "2022-09-05T14:52:25.487Z"
   },
   {
    "duration": 5,
    "start_time": "2022-09-05T14:53:00.750Z"
   },
   {
    "duration": 5,
    "start_time": "2022-09-05T14:53:46.500Z"
   },
   {
    "duration": 5,
    "start_time": "2022-09-05T14:53:59.885Z"
   },
   {
    "duration": 5,
    "start_time": "2022-09-05T14:54:20.599Z"
   },
   {
    "duration": 7,
    "start_time": "2022-09-05T15:05:31.724Z"
   },
   {
    "duration": 5,
    "start_time": "2022-09-05T15:05:46.383Z"
   },
   {
    "duration": 6,
    "start_time": "2022-09-05T15:06:03.100Z"
   },
   {
    "duration": 5,
    "start_time": "2022-09-05T15:06:18.431Z"
   },
   {
    "duration": 16,
    "start_time": "2022-09-05T15:08:53.982Z"
   },
   {
    "duration": 6,
    "start_time": "2022-09-05T15:09:16.694Z"
   },
   {
    "duration": 6,
    "start_time": "2022-09-05T15:09:19.872Z"
   },
   {
    "duration": 5,
    "start_time": "2022-09-05T15:09:26.761Z"
   },
   {
    "duration": 20,
    "start_time": "2022-09-05T15:16:36.807Z"
   },
   {
    "duration": 6,
    "start_time": "2022-09-05T15:16:51.531Z"
   },
   {
    "duration": 16,
    "start_time": "2022-09-05T15:16:52.820Z"
   },
   {
    "duration": 3,
    "start_time": "2022-09-05T15:17:10.521Z"
   },
   {
    "duration": 78,
    "start_time": "2022-09-05T15:17:10.526Z"
   },
   {
    "duration": 26,
    "start_time": "2022-09-05T15:17:10.605Z"
   },
   {
    "duration": 39,
    "start_time": "2022-09-05T15:17:10.633Z"
   },
   {
    "duration": 18,
    "start_time": "2022-09-05T15:17:10.674Z"
   },
   {
    "duration": 11,
    "start_time": "2022-09-05T15:17:10.722Z"
   },
   {
    "duration": 11,
    "start_time": "2022-09-05T15:17:10.735Z"
   },
   {
    "duration": 13,
    "start_time": "2022-09-05T15:17:10.747Z"
   },
   {
    "duration": 13,
    "start_time": "2022-09-05T15:17:10.763Z"
   },
   {
    "duration": 41,
    "start_time": "2022-09-05T15:17:10.778Z"
   },
   {
    "duration": 7,
    "start_time": "2022-09-05T15:17:10.821Z"
   },
   {
    "duration": 10,
    "start_time": "2022-09-05T15:17:10.830Z"
   },
   {
    "duration": 32,
    "start_time": "2022-09-05T15:17:10.841Z"
   },
   {
    "duration": 22,
    "start_time": "2022-09-05T15:17:10.876Z"
   },
   {
    "duration": 30,
    "start_time": "2022-09-05T15:17:10.900Z"
   },
   {
    "duration": 24,
    "start_time": "2022-09-05T15:17:10.932Z"
   },
   {
    "duration": 11,
    "start_time": "2022-09-05T15:17:10.959Z"
   },
   {
    "duration": 26,
    "start_time": "2022-09-05T15:17:10.972Z"
   },
   {
    "duration": 19,
    "start_time": "2022-09-05T15:18:17.284Z"
   },
   {
    "duration": 5,
    "start_time": "2022-09-05T15:19:51.197Z"
   },
   {
    "duration": 22,
    "start_time": "2022-09-05T15:20:52.138Z"
   },
   {
    "duration": 15,
    "start_time": "2022-09-05T15:21:12.258Z"
   },
   {
    "duration": 45,
    "start_time": "2022-09-05T20:17:27.301Z"
   },
   {
    "duration": 1322,
    "start_time": "2022-09-05T20:17:32.737Z"
   },
   {
    "duration": 132,
    "start_time": "2022-09-05T20:17:34.061Z"
   },
   {
    "duration": 18,
    "start_time": "2022-09-05T20:17:34.195Z"
   },
   {
    "duration": 29,
    "start_time": "2022-09-05T20:17:34.216Z"
   },
   {
    "duration": 13,
    "start_time": "2022-09-05T20:17:34.246Z"
   },
   {
    "duration": 31,
    "start_time": "2022-09-05T20:17:34.260Z"
   },
   {
    "duration": 19,
    "start_time": "2022-09-05T20:17:34.294Z"
   },
   {
    "duration": 14,
    "start_time": "2022-09-05T20:17:34.315Z"
   },
   {
    "duration": 7,
    "start_time": "2022-09-05T20:17:34.331Z"
   },
   {
    "duration": 13,
    "start_time": "2022-09-05T20:17:34.340Z"
   },
   {
    "duration": 7,
    "start_time": "2022-09-05T20:17:34.355Z"
   },
   {
    "duration": 6,
    "start_time": "2022-09-05T20:17:34.364Z"
   },
   {
    "duration": 6,
    "start_time": "2022-09-05T20:17:34.385Z"
   },
   {
    "duration": 24,
    "start_time": "2022-09-05T20:17:34.409Z"
   },
   {
    "duration": 7,
    "start_time": "2022-09-05T20:17:34.435Z"
   },
   {
    "duration": 9,
    "start_time": "2022-09-05T20:17:34.444Z"
   },
   {
    "duration": 11,
    "start_time": "2022-09-05T20:17:34.455Z"
   },
   {
    "duration": 21,
    "start_time": "2022-09-05T20:17:34.468Z"
   },
   {
    "duration": 78,
    "start_time": "2022-09-05T20:17:34.493Z"
   },
   {
    "duration": 364,
    "start_time": "2022-09-05T20:17:34.574Z"
   },
   {
    "duration": 191,
    "start_time": "2022-09-05T20:17:48.184Z"
   },
   {
    "duration": 201,
    "start_time": "2022-09-05T20:18:06.032Z"
   },
   {
    "duration": 196,
    "start_time": "2022-09-05T20:18:38.228Z"
   },
   {
    "duration": 6,
    "start_time": "2022-09-05T20:23:56.879Z"
   },
   {
    "duration": 197,
    "start_time": "2022-09-05T20:23:57.896Z"
   },
   {
    "duration": 7,
    "start_time": "2022-09-05T20:24:12.965Z"
   },
   {
    "duration": 58,
    "start_time": "2022-09-05T20:25:40.846Z"
   },
   {
    "duration": 11,
    "start_time": "2022-09-05T20:35:15.631Z"
   },
   {
    "duration": 3,
    "start_time": "2022-09-05T20:35:27.321Z"
   },
   {
    "duration": 64,
    "start_time": "2022-09-05T20:35:27.326Z"
   },
   {
    "duration": 12,
    "start_time": "2022-09-05T20:35:27.391Z"
   },
   {
    "duration": 25,
    "start_time": "2022-09-05T20:35:27.405Z"
   },
   {
    "duration": 13,
    "start_time": "2022-09-05T20:35:27.432Z"
   },
   {
    "duration": 21,
    "start_time": "2022-09-05T20:35:27.447Z"
   },
   {
    "duration": 3,
    "start_time": "2022-09-05T20:35:27.485Z"
   },
   {
    "duration": 10,
    "start_time": "2022-09-05T20:35:27.490Z"
   },
   {
    "duration": 9,
    "start_time": "2022-09-05T20:35:27.503Z"
   },
   {
    "duration": 17,
    "start_time": "2022-09-05T20:35:27.514Z"
   },
   {
    "duration": 5,
    "start_time": "2022-09-05T20:35:27.533Z"
   },
   {
    "duration": 13,
    "start_time": "2022-09-05T20:35:27.540Z"
   },
   {
    "duration": 7,
    "start_time": "2022-09-05T20:35:27.554Z"
   },
   {
    "duration": 24,
    "start_time": "2022-09-05T20:35:27.562Z"
   },
   {
    "duration": 4,
    "start_time": "2022-09-05T20:35:27.587Z"
   },
   {
    "duration": 10,
    "start_time": "2022-09-05T20:35:27.592Z"
   },
   {
    "duration": 6,
    "start_time": "2022-09-05T20:35:27.603Z"
   },
   {
    "duration": 6,
    "start_time": "2022-09-05T20:35:27.611Z"
   },
   {
    "duration": 20,
    "start_time": "2022-09-05T20:35:27.619Z"
   },
   {
    "duration": 9,
    "start_time": "2022-09-05T20:35:27.641Z"
   },
   {
    "duration": 224,
    "start_time": "2022-09-05T20:35:27.652Z"
   },
   {
    "duration": 20,
    "start_time": "2022-09-05T20:35:27.877Z"
   },
   {
    "duration": 7,
    "start_time": "2022-09-05T21:31:35.173Z"
   },
   {
    "duration": 10,
    "start_time": "2022-09-05T21:31:54.176Z"
   },
   {
    "duration": 8,
    "start_time": "2022-09-05T22:16:21.882Z"
   },
   {
    "duration": 9,
    "start_time": "2022-09-05T22:19:13.280Z"
   },
   {
    "duration": 7,
    "start_time": "2022-09-05T22:20:13.573Z"
   },
   {
    "duration": 67,
    "start_time": "2022-09-05T22:20:36.808Z"
   },
   {
    "duration": 15,
    "start_time": "2022-09-05T22:20:43.613Z"
   },
   {
    "duration": 20,
    "start_time": "2022-09-05T22:21:18.284Z"
   },
   {
    "duration": 3,
    "start_time": "2022-09-05T22:21:34.133Z"
   },
   {
    "duration": 66,
    "start_time": "2022-09-05T22:21:34.139Z"
   },
   {
    "duration": 16,
    "start_time": "2022-09-05T22:21:34.207Z"
   },
   {
    "duration": 24,
    "start_time": "2022-09-05T22:21:34.224Z"
   },
   {
    "duration": 15,
    "start_time": "2022-09-05T22:21:34.250Z"
   },
   {
    "duration": 24,
    "start_time": "2022-09-05T22:21:34.266Z"
   },
   {
    "duration": 4,
    "start_time": "2022-09-05T22:21:34.292Z"
   },
   {
    "duration": 11,
    "start_time": "2022-09-05T22:21:34.298Z"
   },
   {
    "duration": 11,
    "start_time": "2022-09-05T22:21:34.311Z"
   },
   {
    "duration": 20,
    "start_time": "2022-09-05T22:21:34.324Z"
   },
   {
    "duration": 6,
    "start_time": "2022-09-05T22:21:34.345Z"
   },
   {
    "duration": 6,
    "start_time": "2022-09-05T22:21:34.388Z"
   },
   {
    "duration": 31,
    "start_time": "2022-09-05T22:21:34.396Z"
   },
   {
    "duration": 7,
    "start_time": "2022-09-05T22:21:34.430Z"
   },
   {
    "duration": 12,
    "start_time": "2022-09-05T22:21:34.438Z"
   },
   {
    "duration": 8,
    "start_time": "2022-09-05T22:21:34.452Z"
   },
   {
    "duration": 15,
    "start_time": "2022-09-05T22:21:34.462Z"
   },
   {
    "duration": 24,
    "start_time": "2022-09-05T22:21:34.479Z"
   },
   {
    "duration": 21,
    "start_time": "2022-09-05T22:21:34.505Z"
   },
   {
    "duration": 14,
    "start_time": "2022-09-05T22:21:34.528Z"
   },
   {
    "duration": 297,
    "start_time": "2022-09-05T22:21:34.544Z"
   },
   {
    "duration": 14,
    "start_time": "2022-09-05T22:21:34.843Z"
   },
   {
    "duration": 8,
    "start_time": "2022-09-05T22:21:34.858Z"
   },
   {
    "duration": 27,
    "start_time": "2022-09-05T22:21:34.867Z"
   },
   {
    "duration": 9,
    "start_time": "2022-09-05T22:24:13.572Z"
   },
   {
    "duration": 3,
    "start_time": "2022-09-05T22:24:25.475Z"
   },
   {
    "duration": 66,
    "start_time": "2022-09-05T22:24:25.480Z"
   },
   {
    "duration": 12,
    "start_time": "2022-09-05T22:24:25.548Z"
   },
   {
    "duration": 25,
    "start_time": "2022-09-05T22:24:25.561Z"
   },
   {
    "duration": 13,
    "start_time": "2022-09-05T22:24:25.587Z"
   },
   {
    "duration": 8,
    "start_time": "2022-09-05T22:24:25.602Z"
   },
   {
    "duration": 3,
    "start_time": "2022-09-05T22:24:25.611Z"
   },
   {
    "duration": 11,
    "start_time": "2022-09-05T22:24:25.615Z"
   },
   {
    "duration": 7,
    "start_time": "2022-09-05T22:24:25.628Z"
   },
   {
    "duration": 14,
    "start_time": "2022-09-05T22:24:25.637Z"
   },
   {
    "duration": 5,
    "start_time": "2022-09-05T22:24:25.684Z"
   },
   {
    "duration": 10,
    "start_time": "2022-09-05T22:24:25.690Z"
   },
   {
    "duration": 6,
    "start_time": "2022-09-05T22:24:25.701Z"
   },
   {
    "duration": 5,
    "start_time": "2022-09-05T22:24:25.709Z"
   },
   {
    "duration": 7,
    "start_time": "2022-09-05T22:24:25.716Z"
   },
   {
    "duration": 7,
    "start_time": "2022-09-05T22:24:25.725Z"
   },
   {
    "duration": 7,
    "start_time": "2022-09-05T22:24:25.733Z"
   },
   {
    "duration": 8,
    "start_time": "2022-09-05T22:24:25.741Z"
   },
   {
    "duration": 39,
    "start_time": "2022-09-05T22:24:25.751Z"
   },
   {
    "duration": 9,
    "start_time": "2022-09-05T22:24:25.792Z"
   },
   {
    "duration": 203,
    "start_time": "2022-09-05T22:24:25.802Z"
   },
   {
    "duration": 15,
    "start_time": "2022-09-05T22:24:26.006Z"
   },
   {
    "duration": 8,
    "start_time": "2022-09-05T22:24:26.023Z"
   },
   {
    "duration": 158,
    "start_time": "2022-09-05T22:24:26.034Z"
   },
   {
    "duration": 322,
    "start_time": "2022-09-05T22:25:01.537Z"
   },
   {
    "duration": 111,
    "start_time": "2022-09-05T22:26:31.651Z"
   },
   {
    "duration": 245,
    "start_time": "2022-09-05T22:27:40.826Z"
   },
   {
    "duration": 80,
    "start_time": "2022-09-05T22:28:36.881Z"
   },
   {
    "duration": 416,
    "start_time": "2022-09-05T22:29:39.014Z"
   },
   {
    "duration": 39,
    "start_time": "2022-09-05T22:31:17.743Z"
   },
   {
    "duration": 1211,
    "start_time": "2022-09-06T10:01:23.264Z"
   },
   {
    "duration": 188,
    "start_time": "2022-09-06T10:01:24.477Z"
   },
   {
    "duration": 14,
    "start_time": "2022-09-06T10:01:24.666Z"
   },
   {
    "duration": 25,
    "start_time": "2022-09-06T10:01:24.682Z"
   },
   {
    "duration": 13,
    "start_time": "2022-09-06T10:01:24.709Z"
   },
   {
    "duration": 9,
    "start_time": "2022-09-06T10:01:24.724Z"
   },
   {
    "duration": 3,
    "start_time": "2022-09-06T10:01:24.734Z"
   },
   {
    "duration": 10,
    "start_time": "2022-09-06T10:01:24.739Z"
   },
   {
    "duration": 8,
    "start_time": "2022-09-06T10:01:24.750Z"
   },
   {
    "duration": 14,
    "start_time": "2022-09-06T10:01:24.759Z"
   },
   {
    "duration": 35,
    "start_time": "2022-09-06T10:01:24.774Z"
   },
   {
    "duration": 5,
    "start_time": "2022-09-06T10:01:24.811Z"
   },
   {
    "duration": 7,
    "start_time": "2022-09-06T10:01:24.818Z"
   },
   {
    "duration": 5,
    "start_time": "2022-09-06T10:01:24.828Z"
   },
   {
    "duration": 11,
    "start_time": "2022-09-06T10:01:24.834Z"
   },
   {
    "duration": 9,
    "start_time": "2022-09-06T10:01:24.846Z"
   },
   {
    "duration": 9,
    "start_time": "2022-09-06T10:01:24.857Z"
   },
   {
    "duration": 9,
    "start_time": "2022-09-06T10:01:24.868Z"
   },
   {
    "duration": 28,
    "start_time": "2022-09-06T10:01:24.878Z"
   },
   {
    "duration": 8,
    "start_time": "2022-09-06T10:01:24.908Z"
   },
   {
    "duration": 212,
    "start_time": "2022-09-06T10:01:24.918Z"
   },
   {
    "duration": 16,
    "start_time": "2022-09-06T10:01:25.132Z"
   },
   {
    "duration": 8,
    "start_time": "2022-09-06T10:01:25.150Z"
   },
   {
    "duration": 343,
    "start_time": "2022-09-06T10:01:25.160Z"
   },
   {
    "duration": 3,
    "start_time": "2022-09-06T10:04:23.503Z"
   },
   {
    "duration": 60,
    "start_time": "2022-09-06T10:04:23.508Z"
   },
   {
    "duration": 12,
    "start_time": "2022-09-06T10:04:23.569Z"
   },
   {
    "duration": 26,
    "start_time": "2022-09-06T10:04:23.582Z"
   },
   {
    "duration": 10,
    "start_time": "2022-09-06T10:04:23.610Z"
   },
   {
    "duration": 7,
    "start_time": "2022-09-06T10:04:23.622Z"
   },
   {
    "duration": 4,
    "start_time": "2022-09-06T10:04:23.630Z"
   },
   {
    "duration": 11,
    "start_time": "2022-09-06T10:04:23.635Z"
   },
   {
    "duration": 8,
    "start_time": "2022-09-06T10:04:23.648Z"
   },
   {
    "duration": 16,
    "start_time": "2022-09-06T10:04:23.657Z"
   },
   {
    "duration": 5,
    "start_time": "2022-09-06T10:04:23.674Z"
   },
   {
    "duration": 4,
    "start_time": "2022-09-06T10:04:23.706Z"
   },
   {
    "duration": 17,
    "start_time": "2022-09-06T10:04:23.711Z"
   },
   {
    "duration": 9,
    "start_time": "2022-09-06T10:04:23.729Z"
   },
   {
    "duration": 6,
    "start_time": "2022-09-06T10:04:23.740Z"
   },
   {
    "duration": 5,
    "start_time": "2022-09-06T10:04:23.748Z"
   },
   {
    "duration": 7,
    "start_time": "2022-09-06T10:04:23.754Z"
   },
   {
    "duration": 4,
    "start_time": "2022-09-06T10:04:23.762Z"
   },
   {
    "duration": 13,
    "start_time": "2022-09-06T10:04:23.767Z"
   },
   {
    "duration": 12,
    "start_time": "2022-09-06T10:04:23.780Z"
   },
   {
    "duration": 246,
    "start_time": "2022-09-06T10:04:23.793Z"
   },
   {
    "duration": 17,
    "start_time": "2022-09-06T10:04:24.041Z"
   },
   {
    "duration": 14,
    "start_time": "2022-09-06T10:04:24.059Z"
   },
   {
    "duration": 46,
    "start_time": "2022-09-06T10:04:24.076Z"
   },
   {
    "duration": 41,
    "start_time": "2022-09-06T10:04:36.875Z"
   },
   {
    "duration": 39,
    "start_time": "2022-09-06T10:05:24.857Z"
   },
   {
    "duration": 38,
    "start_time": "2022-09-06T10:06:05.576Z"
   },
   {
    "duration": 39,
    "start_time": "2022-09-06T10:06:37.372Z"
   },
   {
    "duration": 3,
    "start_time": "2022-09-06T10:06:44.411Z"
   },
   {
    "duration": 74,
    "start_time": "2022-09-06T10:06:44.416Z"
   },
   {
    "duration": 13,
    "start_time": "2022-09-06T10:06:44.491Z"
   },
   {
    "duration": 27,
    "start_time": "2022-09-06T10:06:44.506Z"
   },
   {
    "duration": 13,
    "start_time": "2022-09-06T10:06:44.536Z"
   },
   {
    "duration": 8,
    "start_time": "2022-09-06T10:06:44.551Z"
   },
   {
    "duration": 6,
    "start_time": "2022-09-06T10:06:44.560Z"
   },
   {
    "duration": 12,
    "start_time": "2022-09-06T10:06:44.567Z"
   },
   {
    "duration": 8,
    "start_time": "2022-09-06T10:06:44.606Z"
   },
   {
    "duration": 15,
    "start_time": "2022-09-06T10:06:44.616Z"
   },
   {
    "duration": 4,
    "start_time": "2022-09-06T10:06:44.632Z"
   },
   {
    "duration": 6,
    "start_time": "2022-09-06T10:06:44.638Z"
   },
   {
    "duration": 5,
    "start_time": "2022-09-06T10:06:44.646Z"
   },
   {
    "duration": 5,
    "start_time": "2022-09-06T10:06:44.654Z"
   },
   {
    "duration": 8,
    "start_time": "2022-09-06T10:06:44.660Z"
   },
   {
    "duration": 6,
    "start_time": "2022-09-06T10:06:44.669Z"
   },
   {
    "duration": 31,
    "start_time": "2022-09-06T10:06:44.676Z"
   },
   {
    "duration": 4,
    "start_time": "2022-09-06T10:06:44.709Z"
   },
   {
    "duration": 15,
    "start_time": "2022-09-06T10:06:44.714Z"
   },
   {
    "duration": 9,
    "start_time": "2022-09-06T10:06:44.731Z"
   },
   {
    "duration": 205,
    "start_time": "2022-09-06T10:06:44.741Z"
   },
   {
    "duration": 15,
    "start_time": "2022-09-06T10:06:44.947Z"
   },
   {
    "duration": 8,
    "start_time": "2022-09-06T10:06:44.964Z"
   },
   {
    "duration": 54,
    "start_time": "2022-09-06T10:06:44.973Z"
   },
   {
    "duration": 2,
    "start_time": "2022-09-06T10:11:17.516Z"
   },
   {
    "duration": 69,
    "start_time": "2022-09-06T10:11:17.520Z"
   },
   {
    "duration": 12,
    "start_time": "2022-09-06T10:11:17.591Z"
   },
   {
    "duration": 25,
    "start_time": "2022-09-06T10:11:17.604Z"
   },
   {
    "duration": 13,
    "start_time": "2022-09-06T10:11:17.631Z"
   },
   {
    "duration": 8,
    "start_time": "2022-09-06T10:11:17.646Z"
   },
   {
    "duration": 3,
    "start_time": "2022-09-06T10:11:17.656Z"
   },
   {
    "duration": 9,
    "start_time": "2022-09-06T10:11:17.660Z"
   },
   {
    "duration": 40,
    "start_time": "2022-09-06T10:11:17.671Z"
   },
   {
    "duration": 13,
    "start_time": "2022-09-06T10:11:17.713Z"
   },
   {
    "duration": 5,
    "start_time": "2022-09-06T10:11:17.728Z"
   },
   {
    "duration": 8,
    "start_time": "2022-09-06T10:11:17.734Z"
   },
   {
    "duration": 5,
    "start_time": "2022-09-06T10:11:17.745Z"
   },
   {
    "duration": 5,
    "start_time": "2022-09-06T10:11:17.752Z"
   },
   {
    "duration": 6,
    "start_time": "2022-09-06T10:11:17.759Z"
   },
   {
    "duration": 5,
    "start_time": "2022-09-06T10:11:17.767Z"
   },
   {
    "duration": 32,
    "start_time": "2022-09-06T10:11:17.774Z"
   },
   {
    "duration": 6,
    "start_time": "2022-09-06T10:11:17.808Z"
   },
   {
    "duration": 17,
    "start_time": "2022-09-06T10:11:17.815Z"
   },
   {
    "duration": 12,
    "start_time": "2022-09-06T10:11:17.833Z"
   },
   {
    "duration": 198,
    "start_time": "2022-09-06T10:11:17.846Z"
   },
   {
    "duration": 15,
    "start_time": "2022-09-06T10:11:18.045Z"
   },
   {
    "duration": 18,
    "start_time": "2022-09-06T10:11:18.062Z"
   },
   {
    "duration": 44,
    "start_time": "2022-09-06T10:11:18.081Z"
   },
   {
    "duration": 35,
    "start_time": "2022-09-06T10:11:43.867Z"
   },
   {
    "duration": 43,
    "start_time": "2022-09-06T10:11:52.121Z"
   },
   {
    "duration": 38,
    "start_time": "2022-09-06T10:13:02.731Z"
   },
   {
    "duration": 171,
    "start_time": "2022-09-06T10:14:02.435Z"
   },
   {
    "duration": 3,
    "start_time": "2022-09-06T10:14:09.880Z"
   },
   {
    "duration": 67,
    "start_time": "2022-09-06T10:14:09.884Z"
   },
   {
    "duration": 12,
    "start_time": "2022-09-06T10:14:09.952Z"
   },
   {
    "duration": 24,
    "start_time": "2022-09-06T10:14:09.965Z"
   },
   {
    "duration": 25,
    "start_time": "2022-09-06T10:14:09.991Z"
   },
   {
    "duration": 14,
    "start_time": "2022-09-06T10:14:10.018Z"
   },
   {
    "duration": 13,
    "start_time": "2022-09-06T10:14:10.035Z"
   },
   {
    "duration": 18,
    "start_time": "2022-09-06T10:14:10.049Z"
   },
   {
    "duration": 7,
    "start_time": "2022-09-06T10:14:10.068Z"
   },
   {
    "duration": 15,
    "start_time": "2022-09-06T10:14:10.076Z"
   },
   {
    "duration": 23,
    "start_time": "2022-09-06T10:14:10.092Z"
   },
   {
    "duration": 16,
    "start_time": "2022-09-06T10:14:10.117Z"
   },
   {
    "duration": 7,
    "start_time": "2022-09-06T10:14:10.135Z"
   },
   {
    "duration": 8,
    "start_time": "2022-09-06T10:14:10.145Z"
   },
   {
    "duration": 8,
    "start_time": "2022-09-06T10:14:10.155Z"
   },
   {
    "duration": 9,
    "start_time": "2022-09-06T10:14:10.164Z"
   },
   {
    "duration": 6,
    "start_time": "2022-09-06T10:14:10.175Z"
   },
   {
    "duration": 5,
    "start_time": "2022-09-06T10:14:10.183Z"
   },
   {
    "duration": 18,
    "start_time": "2022-09-06T10:14:10.189Z"
   },
   {
    "duration": 12,
    "start_time": "2022-09-06T10:14:10.208Z"
   },
   {
    "duration": 226,
    "start_time": "2022-09-06T10:14:10.223Z"
   },
   {
    "duration": 14,
    "start_time": "2022-09-06T10:14:10.451Z"
   },
   {
    "duration": 7,
    "start_time": "2022-09-06T10:14:10.467Z"
   },
   {
    "duration": 65,
    "start_time": "2022-09-06T10:14:10.476Z"
   },
   {
    "duration": 53,
    "start_time": "2022-09-06T10:14:47.136Z"
   },
   {
    "duration": 72,
    "start_time": "2022-09-06T10:14:47.191Z"
   },
   {
    "duration": 13,
    "start_time": "2022-09-06T10:14:47.264Z"
   },
   {
    "duration": 24,
    "start_time": "2022-09-06T10:14:47.279Z"
   },
   {
    "duration": 12,
    "start_time": "2022-09-06T10:14:47.304Z"
   },
   {
    "duration": 18,
    "start_time": "2022-09-06T10:14:47.318Z"
   },
   {
    "duration": 24,
    "start_time": "2022-09-06T10:14:47.338Z"
   },
   {
    "duration": 14,
    "start_time": "2022-09-06T10:14:47.363Z"
   },
   {
    "duration": 12,
    "start_time": "2022-09-06T10:14:47.379Z"
   },
   {
    "duration": 11,
    "start_time": "2022-09-06T10:14:47.393Z"
   },
   {
    "duration": 7,
    "start_time": "2022-09-06T10:14:47.406Z"
   },
   {
    "duration": 7,
    "start_time": "2022-09-06T10:14:47.415Z"
   },
   {
    "duration": 8,
    "start_time": "2022-09-06T10:14:47.424Z"
   },
   {
    "duration": 6,
    "start_time": "2022-09-06T10:14:47.434Z"
   },
   {
    "duration": 6,
    "start_time": "2022-09-06T10:14:47.441Z"
   },
   {
    "duration": 5,
    "start_time": "2022-09-06T10:14:47.448Z"
   },
   {
    "duration": 8,
    "start_time": "2022-09-06T10:14:47.454Z"
   },
   {
    "duration": 5,
    "start_time": "2022-09-06T10:14:47.463Z"
   },
   {
    "duration": 13,
    "start_time": "2022-09-06T10:14:47.469Z"
   },
   {
    "duration": 32,
    "start_time": "2022-09-06T10:14:47.484Z"
   },
   {
    "duration": 227,
    "start_time": "2022-09-06T10:14:47.518Z"
   },
   {
    "duration": 15,
    "start_time": "2022-09-06T10:14:47.746Z"
   },
   {
    "duration": 27,
    "start_time": "2022-09-06T10:14:47.763Z"
   },
   {
    "duration": 189,
    "start_time": "2022-09-06T10:14:47.792Z"
   },
   {
    "duration": 70,
    "start_time": "2022-09-06T10:15:27.078Z"
   },
   {
    "duration": 40,
    "start_time": "2022-09-06T10:17:25.517Z"
   },
   {
    "duration": 2,
    "start_time": "2022-09-06T10:19:04.385Z"
   },
   {
    "duration": 64,
    "start_time": "2022-09-06T10:19:04.389Z"
   },
   {
    "duration": 11,
    "start_time": "2022-09-06T10:19:04.455Z"
   },
   {
    "duration": 24,
    "start_time": "2022-09-06T10:19:04.468Z"
   },
   {
    "duration": 14,
    "start_time": "2022-09-06T10:19:04.494Z"
   },
   {
    "duration": 8,
    "start_time": "2022-09-06T10:19:04.509Z"
   },
   {
    "duration": 5,
    "start_time": "2022-09-06T10:19:04.519Z"
   },
   {
    "duration": 9,
    "start_time": "2022-09-06T10:19:04.525Z"
   },
   {
    "duration": 7,
    "start_time": "2022-09-06T10:19:04.535Z"
   },
   {
    "duration": 12,
    "start_time": "2022-09-06T10:19:04.543Z"
   },
   {
    "duration": 5,
    "start_time": "2022-09-06T10:19:04.558Z"
   },
   {
    "duration": 44,
    "start_time": "2022-09-06T10:19:04.565Z"
   },
   {
    "duration": 5,
    "start_time": "2022-09-06T10:19:04.610Z"
   },
   {
    "duration": 8,
    "start_time": "2022-09-06T10:19:04.617Z"
   },
   {
    "duration": 8,
    "start_time": "2022-09-06T10:19:04.626Z"
   },
   {
    "duration": 6,
    "start_time": "2022-09-06T10:19:04.635Z"
   },
   {
    "duration": 7,
    "start_time": "2022-09-06T10:19:04.642Z"
   },
   {
    "duration": 9,
    "start_time": "2022-09-06T10:19:04.651Z"
   },
   {
    "duration": 13,
    "start_time": "2022-09-06T10:19:04.661Z"
   },
   {
    "duration": 8,
    "start_time": "2022-09-06T10:19:04.676Z"
   },
   {
    "duration": 203,
    "start_time": "2022-09-06T10:19:04.686Z"
   },
   {
    "duration": 21,
    "start_time": "2022-09-06T10:19:04.890Z"
   },
   {
    "duration": 8,
    "start_time": "2022-09-06T10:19:04.912Z"
   },
   {
    "duration": 38,
    "start_time": "2022-09-06T10:19:04.921Z"
   },
   {
    "duration": 40,
    "start_time": "2022-09-06T10:22:13.367Z"
   },
   {
    "duration": 15,
    "start_time": "2022-09-06T10:23:33.898Z"
   },
   {
    "duration": 40,
    "start_time": "2022-09-06T10:24:10.760Z"
   },
   {
    "duration": 37,
    "start_time": "2022-09-06T10:25:04.823Z"
   },
   {
    "duration": 51,
    "start_time": "2022-09-06T10:25:15.873Z"
   },
   {
    "duration": 45,
    "start_time": "2022-09-06T10:25:21.930Z"
   },
   {
    "duration": 108,
    "start_time": "2022-09-06T10:34:32.359Z"
   },
   {
    "duration": 117,
    "start_time": "2022-09-06T10:34:55.765Z"
   },
   {
    "duration": 3,
    "start_time": "2022-09-06T10:35:10.932Z"
   },
   {
    "duration": 66,
    "start_time": "2022-09-06T10:35:10.937Z"
   },
   {
    "duration": 23,
    "start_time": "2022-09-06T10:35:11.005Z"
   },
   {
    "duration": 28,
    "start_time": "2022-09-06T10:35:11.030Z"
   },
   {
    "duration": 14,
    "start_time": "2022-09-06T10:35:11.060Z"
   },
   {
    "duration": 10,
    "start_time": "2022-09-06T10:35:11.076Z"
   },
   {
    "duration": 7,
    "start_time": "2022-09-06T10:35:11.110Z"
   },
   {
    "duration": 10,
    "start_time": "2022-09-06T10:35:11.119Z"
   },
   {
    "duration": 17,
    "start_time": "2022-09-06T10:35:11.131Z"
   },
   {
    "duration": 17,
    "start_time": "2022-09-06T10:35:11.149Z"
   },
   {
    "duration": 12,
    "start_time": "2022-09-06T10:35:11.168Z"
   },
   {
    "duration": 23,
    "start_time": "2022-09-06T10:35:11.182Z"
   },
   {
    "duration": 23,
    "start_time": "2022-09-06T10:35:11.206Z"
   },
   {
    "duration": 13,
    "start_time": "2022-09-06T10:35:11.230Z"
   },
   {
    "duration": 13,
    "start_time": "2022-09-06T10:35:11.244Z"
   },
   {
    "duration": 6,
    "start_time": "2022-09-06T10:35:11.258Z"
   },
   {
    "duration": 7,
    "start_time": "2022-09-06T10:35:11.265Z"
   },
   {
    "duration": 8,
    "start_time": "2022-09-06T10:35:11.274Z"
   },
   {
    "duration": 14,
    "start_time": "2022-09-06T10:35:11.283Z"
   },
   {
    "duration": 14,
    "start_time": "2022-09-06T10:35:11.299Z"
   },
   {
    "duration": 227,
    "start_time": "2022-09-06T10:35:11.315Z"
   },
   {
    "duration": 16,
    "start_time": "2022-09-06T10:35:11.543Z"
   },
   {
    "duration": 8,
    "start_time": "2022-09-06T10:35:11.561Z"
   },
   {
    "duration": 64,
    "start_time": "2022-09-06T10:35:11.572Z"
   },
   {
    "duration": 138,
    "start_time": "2022-09-06T10:35:11.638Z"
   },
   {
    "duration": 3,
    "start_time": "2022-09-06T10:35:35.181Z"
   },
   {
    "duration": 75,
    "start_time": "2022-09-06T10:35:35.186Z"
   },
   {
    "duration": 12,
    "start_time": "2022-09-06T10:35:35.263Z"
   },
   {
    "duration": 43,
    "start_time": "2022-09-06T10:35:35.277Z"
   },
   {
    "duration": 15,
    "start_time": "2022-09-06T10:35:35.322Z"
   },
   {
    "duration": 10,
    "start_time": "2022-09-06T10:35:35.339Z"
   },
   {
    "duration": 19,
    "start_time": "2022-09-06T10:35:35.351Z"
   },
   {
    "duration": 27,
    "start_time": "2022-09-06T10:35:35.372Z"
   },
   {
    "duration": 18,
    "start_time": "2022-09-06T10:35:35.402Z"
   },
   {
    "duration": 18,
    "start_time": "2022-09-06T10:35:35.424Z"
   },
   {
    "duration": 5,
    "start_time": "2022-09-06T10:35:35.445Z"
   },
   {
    "duration": 20,
    "start_time": "2022-09-06T10:35:35.451Z"
   },
   {
    "duration": 11,
    "start_time": "2022-09-06T10:35:35.472Z"
   },
   {
    "duration": 8,
    "start_time": "2022-09-06T10:35:35.484Z"
   },
   {
    "duration": 7,
    "start_time": "2022-09-06T10:35:35.494Z"
   },
   {
    "duration": 18,
    "start_time": "2022-09-06T10:35:35.502Z"
   },
   {
    "duration": 16,
    "start_time": "2022-09-06T10:35:35.521Z"
   },
   {
    "duration": 6,
    "start_time": "2022-09-06T10:35:35.539Z"
   },
   {
    "duration": 17,
    "start_time": "2022-09-06T10:35:35.547Z"
   },
   {
    "duration": 10,
    "start_time": "2022-09-06T10:35:35.565Z"
   },
   {
    "duration": 185,
    "start_time": "2022-09-06T10:35:35.576Z"
   },
   {
    "duration": 15,
    "start_time": "2022-09-06T10:35:35.763Z"
   },
   {
    "duration": 8,
    "start_time": "2022-09-06T10:35:35.780Z"
   },
   {
    "duration": 50,
    "start_time": "2022-09-06T10:35:35.806Z"
   },
   {
    "duration": 113,
    "start_time": "2022-09-06T10:35:35.858Z"
   },
   {
    "duration": 3,
    "start_time": "2022-09-06T10:35:44.038Z"
   },
   {
    "duration": 86,
    "start_time": "2022-09-06T10:35:44.042Z"
   },
   {
    "duration": 13,
    "start_time": "2022-09-06T10:35:44.130Z"
   },
   {
    "duration": 40,
    "start_time": "2022-09-06T10:35:44.146Z"
   },
   {
    "duration": 22,
    "start_time": "2022-09-06T10:35:44.188Z"
   },
   {
    "duration": 11,
    "start_time": "2022-09-06T10:35:44.216Z"
   },
   {
    "duration": 10,
    "start_time": "2022-09-06T10:35:44.228Z"
   },
   {
    "duration": 10,
    "start_time": "2022-09-06T10:35:44.239Z"
   },
   {
    "duration": 7,
    "start_time": "2022-09-06T10:35:44.251Z"
   },
   {
    "duration": 12,
    "start_time": "2022-09-06T10:35:44.259Z"
   },
   {
    "duration": 4,
    "start_time": "2022-09-06T10:35:44.273Z"
   },
   {
    "duration": 10,
    "start_time": "2022-09-06T10:35:44.278Z"
   },
   {
    "duration": 20,
    "start_time": "2022-09-06T10:35:44.289Z"
   },
   {
    "duration": 6,
    "start_time": "2022-09-06T10:35:44.316Z"
   },
   {
    "duration": 7,
    "start_time": "2022-09-06T10:35:44.324Z"
   },
   {
    "duration": 5,
    "start_time": "2022-09-06T10:35:44.332Z"
   },
   {
    "duration": 7,
    "start_time": "2022-09-06T10:35:44.339Z"
   },
   {
    "duration": 5,
    "start_time": "2022-09-06T10:35:44.347Z"
   },
   {
    "duration": 15,
    "start_time": "2022-09-06T10:35:44.354Z"
   },
   {
    "duration": 9,
    "start_time": "2022-09-06T10:35:44.371Z"
   },
   {
    "duration": 241,
    "start_time": "2022-09-06T10:35:44.382Z"
   },
   {
    "duration": 17,
    "start_time": "2022-09-06T10:35:44.625Z"
   },
   {
    "duration": 8,
    "start_time": "2022-09-06T10:35:44.644Z"
   },
   {
    "duration": 69,
    "start_time": "2022-09-06T10:35:44.655Z"
   },
   {
    "duration": 121,
    "start_time": "2022-09-06T10:35:44.725Z"
   },
   {
    "duration": 45,
    "start_time": "2022-09-06T10:35:55.305Z"
   },
   {
    "duration": 4,
    "start_time": "2022-09-06T10:36:05.989Z"
   },
   {
    "duration": 3,
    "start_time": "2022-09-06T10:36:09.533Z"
   },
   {
    "duration": 64,
    "start_time": "2022-09-06T10:36:09.538Z"
   },
   {
    "duration": 26,
    "start_time": "2022-09-06T10:36:09.604Z"
   },
   {
    "duration": 29,
    "start_time": "2022-09-06T10:36:09.632Z"
   },
   {
    "duration": 13,
    "start_time": "2022-09-06T10:36:09.664Z"
   },
   {
    "duration": 9,
    "start_time": "2022-09-06T10:36:09.678Z"
   },
   {
    "duration": 20,
    "start_time": "2022-09-06T10:36:09.689Z"
   },
   {
    "duration": 20,
    "start_time": "2022-09-06T10:36:09.713Z"
   },
   {
    "duration": 14,
    "start_time": "2022-09-06T10:36:09.735Z"
   },
   {
    "duration": 19,
    "start_time": "2022-09-06T10:36:09.751Z"
   },
   {
    "duration": 6,
    "start_time": "2022-09-06T10:36:09.771Z"
   },
   {
    "duration": 7,
    "start_time": "2022-09-06T10:36:09.778Z"
   },
   {
    "duration": 6,
    "start_time": "2022-09-06T10:36:09.786Z"
   },
   {
    "duration": 8,
    "start_time": "2022-09-06T10:36:09.794Z"
   },
   {
    "duration": 19,
    "start_time": "2022-09-06T10:36:09.805Z"
   },
   {
    "duration": 6,
    "start_time": "2022-09-06T10:36:09.825Z"
   },
   {
    "duration": 9,
    "start_time": "2022-09-06T10:36:09.832Z"
   },
   {
    "duration": 8,
    "start_time": "2022-09-06T10:36:09.842Z"
   },
   {
    "duration": 18,
    "start_time": "2022-09-06T10:36:09.851Z"
   },
   {
    "duration": 9,
    "start_time": "2022-09-06T10:36:09.870Z"
   },
   {
    "duration": 296,
    "start_time": "2022-09-06T10:36:09.881Z"
   },
   {
    "duration": 15,
    "start_time": "2022-09-06T10:36:10.179Z"
   },
   {
    "duration": 23,
    "start_time": "2022-09-06T10:36:10.195Z"
   },
   {
    "duration": 61,
    "start_time": "2022-09-06T10:36:10.220Z"
   },
   {
    "duration": 119,
    "start_time": "2022-09-06T10:36:10.282Z"
   },
   {
    "duration": 92,
    "start_time": "2022-09-06T10:36:40.031Z"
   },
   {
    "duration": 56,
    "start_time": "2022-09-06T10:36:40.125Z"
   },
   {
    "duration": 12,
    "start_time": "2022-09-06T10:36:40.183Z"
   },
   {
    "duration": 50,
    "start_time": "2022-09-06T10:36:40.197Z"
   },
   {
    "duration": 12,
    "start_time": "2022-09-06T10:36:40.249Z"
   },
   {
    "duration": 18,
    "start_time": "2022-09-06T10:36:40.264Z"
   },
   {
    "duration": 40,
    "start_time": "2022-09-06T10:36:40.284Z"
   },
   {
    "duration": 34,
    "start_time": "2022-09-06T10:36:40.326Z"
   },
   {
    "duration": 14,
    "start_time": "2022-09-06T10:36:40.362Z"
   },
   {
    "duration": 42,
    "start_time": "2022-09-06T10:36:40.384Z"
   },
   {
    "duration": 22,
    "start_time": "2022-09-06T10:36:40.427Z"
   },
   {
    "duration": 12,
    "start_time": "2022-09-06T10:36:40.451Z"
   },
   {
    "duration": 33,
    "start_time": "2022-09-06T10:36:40.464Z"
   },
   {
    "duration": 21,
    "start_time": "2022-09-06T10:36:40.499Z"
   },
   {
    "duration": 15,
    "start_time": "2022-09-06T10:36:40.521Z"
   },
   {
    "duration": 12,
    "start_time": "2022-09-06T10:36:40.538Z"
   },
   {
    "duration": 13,
    "start_time": "2022-09-06T10:36:40.552Z"
   },
   {
    "duration": 29,
    "start_time": "2022-09-06T10:36:40.566Z"
   },
   {
    "duration": 36,
    "start_time": "2022-09-06T10:36:40.596Z"
   },
   {
    "duration": 13,
    "start_time": "2022-09-06T10:36:40.633Z"
   },
   {
    "duration": 199,
    "start_time": "2022-09-06T10:36:40.647Z"
   },
   {
    "duration": 14,
    "start_time": "2022-09-06T10:36:40.847Z"
   },
   {
    "duration": 8,
    "start_time": "2022-09-06T10:36:40.863Z"
   },
   {
    "duration": 59,
    "start_time": "2022-09-06T10:36:40.873Z"
   },
   {
    "duration": 115,
    "start_time": "2022-09-06T10:36:40.934Z"
   },
   {
    "duration": 5,
    "start_time": "2022-09-06T10:40:14.653Z"
   },
   {
    "duration": 72,
    "start_time": "2022-09-06T10:40:14.662Z"
   },
   {
    "duration": 12,
    "start_time": "2022-09-06T10:40:14.736Z"
   },
   {
    "duration": 37,
    "start_time": "2022-09-06T10:40:14.749Z"
   },
   {
    "duration": 21,
    "start_time": "2022-09-06T10:40:14.788Z"
   },
   {
    "duration": 14,
    "start_time": "2022-09-06T10:40:14.810Z"
   },
   {
    "duration": 15,
    "start_time": "2022-09-06T10:40:14.825Z"
   },
   {
    "duration": 16,
    "start_time": "2022-09-06T10:40:14.841Z"
   },
   {
    "duration": 21,
    "start_time": "2022-09-06T10:40:14.858Z"
   },
   {
    "duration": 22,
    "start_time": "2022-09-06T10:40:14.881Z"
   },
   {
    "duration": 23,
    "start_time": "2022-09-06T10:40:14.904Z"
   },
   {
    "duration": 25,
    "start_time": "2022-09-06T10:40:14.929Z"
   },
   {
    "duration": 19,
    "start_time": "2022-09-06T10:40:14.955Z"
   },
   {
    "duration": 21,
    "start_time": "2022-09-06T10:40:14.975Z"
   },
   {
    "duration": 28,
    "start_time": "2022-09-06T10:40:14.998Z"
   },
   {
    "duration": 19,
    "start_time": "2022-09-06T10:40:15.028Z"
   },
   {
    "duration": 29,
    "start_time": "2022-09-06T10:40:15.048Z"
   },
   {
    "duration": 14,
    "start_time": "2022-09-06T10:40:15.079Z"
   },
   {
    "duration": 37,
    "start_time": "2022-09-06T10:40:15.095Z"
   },
   {
    "duration": 22,
    "start_time": "2022-09-06T10:40:15.134Z"
   },
   {
    "duration": 209,
    "start_time": "2022-09-06T10:40:15.158Z"
   },
   {
    "duration": 15,
    "start_time": "2022-09-06T10:40:15.369Z"
   },
   {
    "duration": 27,
    "start_time": "2022-09-06T10:40:15.386Z"
   },
   {
    "duration": 44,
    "start_time": "2022-09-06T10:40:15.416Z"
   },
   {
    "duration": 114,
    "start_time": "2022-09-06T10:40:15.462Z"
   },
   {
    "duration": 3,
    "start_time": "2022-09-06T10:43:34.947Z"
   },
   {
    "duration": 90,
    "start_time": "2022-09-06T10:43:34.960Z"
   },
   {
    "duration": 13,
    "start_time": "2022-09-06T10:43:35.052Z"
   },
   {
    "duration": 36,
    "start_time": "2022-09-06T10:43:35.067Z"
   },
   {
    "duration": 22,
    "start_time": "2022-09-06T10:43:35.105Z"
   },
   {
    "duration": 19,
    "start_time": "2022-09-06T10:43:35.129Z"
   },
   {
    "duration": 23,
    "start_time": "2022-09-06T10:43:35.149Z"
   },
   {
    "duration": 43,
    "start_time": "2022-09-06T10:43:35.173Z"
   },
   {
    "duration": 9,
    "start_time": "2022-09-06T10:43:35.217Z"
   },
   {
    "duration": 37,
    "start_time": "2022-09-06T10:43:35.227Z"
   },
   {
    "duration": 21,
    "start_time": "2022-09-06T10:43:35.265Z"
   },
   {
    "duration": 26,
    "start_time": "2022-09-06T10:43:35.288Z"
   },
   {
    "duration": 27,
    "start_time": "2022-09-06T10:43:35.320Z"
   },
   {
    "duration": 20,
    "start_time": "2022-09-06T10:43:35.348Z"
   },
   {
    "duration": 20,
    "start_time": "2022-09-06T10:43:35.371Z"
   },
   {
    "duration": 24,
    "start_time": "2022-09-06T10:43:35.392Z"
   },
   {
    "duration": 19,
    "start_time": "2022-09-06T10:43:35.418Z"
   },
   {
    "duration": 25,
    "start_time": "2022-09-06T10:43:35.439Z"
   },
   {
    "duration": 37,
    "start_time": "2022-09-06T10:43:35.466Z"
   },
   {
    "duration": 32,
    "start_time": "2022-09-06T10:43:35.504Z"
   },
   {
    "duration": 200,
    "start_time": "2022-09-06T10:43:35.538Z"
   },
   {
    "duration": 15,
    "start_time": "2022-09-06T10:43:35.740Z"
   },
   {
    "duration": 13,
    "start_time": "2022-09-06T10:43:35.757Z"
   },
   {
    "duration": 3,
    "start_time": "2022-09-06T10:44:01.124Z"
   },
   {
    "duration": 106,
    "start_time": "2022-09-06T10:44:01.129Z"
   },
   {
    "duration": 13,
    "start_time": "2022-09-06T10:44:01.237Z"
   },
   {
    "duration": 42,
    "start_time": "2022-09-06T10:44:01.251Z"
   },
   {
    "duration": 15,
    "start_time": "2022-09-06T10:44:01.295Z"
   },
   {
    "duration": 11,
    "start_time": "2022-09-06T10:44:01.312Z"
   },
   {
    "duration": 28,
    "start_time": "2022-09-06T10:44:01.325Z"
   },
   {
    "duration": 19,
    "start_time": "2022-09-06T10:44:01.355Z"
   },
   {
    "duration": 6,
    "start_time": "2022-09-06T10:44:01.376Z"
   },
   {
    "duration": 27,
    "start_time": "2022-09-06T10:44:01.384Z"
   },
   {
    "duration": 11,
    "start_time": "2022-09-06T10:44:01.413Z"
   },
   {
    "duration": 14,
    "start_time": "2022-09-06T10:44:01.425Z"
   },
   {
    "duration": 10,
    "start_time": "2022-09-06T10:44:01.441Z"
   },
   {
    "duration": 15,
    "start_time": "2022-09-06T10:44:01.452Z"
   },
   {
    "duration": 14,
    "start_time": "2022-09-06T10:44:01.468Z"
   },
   {
    "duration": 15,
    "start_time": "2022-09-06T10:44:01.483Z"
   },
   {
    "duration": 20,
    "start_time": "2022-09-06T10:44:01.500Z"
   },
   {
    "duration": 15,
    "start_time": "2022-09-06T10:44:01.522Z"
   },
   {
    "duration": 16,
    "start_time": "2022-09-06T10:44:01.539Z"
   },
   {
    "duration": 12,
    "start_time": "2022-09-06T10:44:01.556Z"
   },
   {
    "duration": 205,
    "start_time": "2022-09-06T10:44:01.569Z"
   },
   {
    "duration": 13,
    "start_time": "2022-09-06T10:44:01.776Z"
   },
   {
    "duration": 18,
    "start_time": "2022-09-06T10:44:01.790Z"
   },
   {
    "duration": 45,
    "start_time": "2022-09-06T10:45:07.421Z"
   },
   {
    "duration": 3,
    "start_time": "2022-09-06T10:45:23.360Z"
   },
   {
    "duration": 65,
    "start_time": "2022-09-06T10:45:23.365Z"
   },
   {
    "duration": 14,
    "start_time": "2022-09-06T10:45:23.432Z"
   },
   {
    "duration": 27,
    "start_time": "2022-09-06T10:45:23.447Z"
   },
   {
    "duration": 37,
    "start_time": "2022-09-06T10:45:23.476Z"
   },
   {
    "duration": 9,
    "start_time": "2022-09-06T10:45:23.516Z"
   },
   {
    "duration": 2,
    "start_time": "2022-09-06T10:45:23.527Z"
   },
   {
    "duration": 8,
    "start_time": "2022-09-06T10:45:23.531Z"
   },
   {
    "duration": 6,
    "start_time": "2022-09-06T10:45:23.541Z"
   },
   {
    "duration": 12,
    "start_time": "2022-09-06T10:45:23.549Z"
   },
   {
    "duration": 4,
    "start_time": "2022-09-06T10:45:23.562Z"
   },
   {
    "duration": 5,
    "start_time": "2022-09-06T10:45:23.568Z"
   },
   {
    "duration": 41,
    "start_time": "2022-09-06T10:45:23.574Z"
   },
   {
    "duration": 6,
    "start_time": "2022-09-06T10:45:23.619Z"
   },
   {
    "duration": 6,
    "start_time": "2022-09-06T10:45:23.626Z"
   },
   {
    "duration": 5,
    "start_time": "2022-09-06T10:45:23.633Z"
   },
   {
    "duration": 7,
    "start_time": "2022-09-06T10:45:23.639Z"
   },
   {
    "duration": 6,
    "start_time": "2022-09-06T10:45:23.647Z"
   },
   {
    "duration": 13,
    "start_time": "2022-09-06T10:45:23.655Z"
   },
   {
    "duration": 8,
    "start_time": "2022-09-06T10:45:23.670Z"
   },
   {
    "duration": 217,
    "start_time": "2022-09-06T10:45:23.680Z"
   },
   {
    "duration": 23,
    "start_time": "2022-09-06T10:45:23.899Z"
   },
   {
    "duration": 14,
    "start_time": "2022-09-06T10:45:23.923Z"
   },
   {
    "duration": 42,
    "start_time": "2022-09-06T10:45:23.938Z"
   },
   {
    "duration": 21,
    "start_time": "2022-09-06T10:46:45.908Z"
   },
   {
    "duration": 113,
    "start_time": "2022-09-06T11:18:20.080Z"
   },
   {
    "duration": 95,
    "start_time": "2022-09-06T11:18:31.446Z"
   },
   {
    "duration": 3,
    "start_time": "2022-09-06T11:18:42.242Z"
   },
   {
    "duration": 82,
    "start_time": "2022-09-06T11:18:42.247Z"
   },
   {
    "duration": 13,
    "start_time": "2022-09-06T11:18:42.331Z"
   },
   {
    "duration": 27,
    "start_time": "2022-09-06T11:18:42.346Z"
   },
   {
    "duration": 13,
    "start_time": "2022-09-06T11:18:42.375Z"
   },
   {
    "duration": 30,
    "start_time": "2022-09-06T11:18:42.390Z"
   },
   {
    "duration": 5,
    "start_time": "2022-09-06T11:18:42.421Z"
   },
   {
    "duration": 10,
    "start_time": "2022-09-06T11:18:42.428Z"
   },
   {
    "duration": 13,
    "start_time": "2022-09-06T11:18:42.439Z"
   },
   {
    "duration": 14,
    "start_time": "2022-09-06T11:18:42.453Z"
   },
   {
    "duration": 5,
    "start_time": "2022-09-06T11:18:42.469Z"
   },
   {
    "duration": 6,
    "start_time": "2022-09-06T11:18:42.475Z"
   },
   {
    "duration": 6,
    "start_time": "2022-09-06T11:18:42.482Z"
   },
   {
    "duration": 12,
    "start_time": "2022-09-06T11:18:42.509Z"
   },
   {
    "duration": 8,
    "start_time": "2022-09-06T11:18:42.523Z"
   },
   {
    "duration": 5,
    "start_time": "2022-09-06T11:18:42.532Z"
   },
   {
    "duration": 6,
    "start_time": "2022-09-06T11:18:42.539Z"
   },
   {
    "duration": 4,
    "start_time": "2022-09-06T11:18:42.547Z"
   },
   {
    "duration": 16,
    "start_time": "2022-09-06T11:18:42.552Z"
   },
   {
    "duration": 9,
    "start_time": "2022-09-06T11:18:42.570Z"
   },
   {
    "duration": 366,
    "start_time": "2022-09-06T11:18:42.581Z"
   },
   {
    "duration": 91,
    "start_time": "2022-09-06T11:18:42.948Z"
   },
   {
    "duration": 0,
    "start_time": "2022-09-06T11:18:43.041Z"
   },
   {
    "duration": 79,
    "start_time": "2022-09-06T11:18:49.066Z"
   },
   {
    "duration": 9,
    "start_time": "2022-09-06T11:19:19.958Z"
   },
   {
    "duration": 3,
    "start_time": "2022-09-06T11:20:52.520Z"
   },
   {
    "duration": 12,
    "start_time": "2022-09-06T11:21:11.178Z"
   },
   {
    "duration": 19,
    "start_time": "2022-09-06T11:21:26.276Z"
   },
   {
    "duration": 11,
    "start_time": "2022-09-06T11:22:43.542Z"
   },
   {
    "duration": 3,
    "start_time": "2022-09-06T11:23:04.446Z"
   },
   {
    "duration": 90,
    "start_time": "2022-09-06T11:23:04.452Z"
   },
   {
    "duration": 13,
    "start_time": "2022-09-06T11:23:04.544Z"
   },
   {
    "duration": 30,
    "start_time": "2022-09-06T11:23:04.559Z"
   },
   {
    "duration": 31,
    "start_time": "2022-09-06T11:23:04.591Z"
   },
   {
    "duration": 21,
    "start_time": "2022-09-06T11:23:04.632Z"
   },
   {
    "duration": 22,
    "start_time": "2022-09-06T11:23:04.654Z"
   },
   {
    "duration": 19,
    "start_time": "2022-09-06T11:23:04.678Z"
   },
   {
    "duration": 20,
    "start_time": "2022-09-06T11:23:04.699Z"
   },
   {
    "duration": 34,
    "start_time": "2022-09-06T11:23:04.720Z"
   },
   {
    "duration": 19,
    "start_time": "2022-09-06T11:23:04.756Z"
   },
   {
    "duration": 22,
    "start_time": "2022-09-06T11:23:04.777Z"
   },
   {
    "duration": 15,
    "start_time": "2022-09-06T11:23:04.800Z"
   },
   {
    "duration": 22,
    "start_time": "2022-09-06T11:23:04.822Z"
   },
   {
    "duration": 13,
    "start_time": "2022-09-06T11:23:04.846Z"
   },
   {
    "duration": 16,
    "start_time": "2022-09-06T11:23:04.860Z"
   },
   {
    "duration": 22,
    "start_time": "2022-09-06T11:23:04.878Z"
   },
   {
    "duration": 31,
    "start_time": "2022-09-06T11:23:04.901Z"
   },
   {
    "duration": 25,
    "start_time": "2022-09-06T11:23:04.934Z"
   },
   {
    "duration": 15,
    "start_time": "2022-09-06T11:23:04.960Z"
   },
   {
    "duration": 247,
    "start_time": "2022-09-06T11:23:04.976Z"
   },
   {
    "duration": 17,
    "start_time": "2022-09-06T11:23:05.225Z"
   },
   {
    "duration": 7,
    "start_time": "2022-09-06T11:23:05.244Z"
   },
   {
    "duration": 19,
    "start_time": "2022-09-06T11:25:30.232Z"
   },
   {
    "duration": 18,
    "start_time": "2022-09-06T11:25:59.478Z"
   },
   {
    "duration": 10,
    "start_time": "2022-09-06T11:26:20.835Z"
   },
   {
    "duration": 3,
    "start_time": "2022-09-06T11:26:31.934Z"
   },
   {
    "duration": 94,
    "start_time": "2022-09-06T11:26:31.939Z"
   },
   {
    "duration": 15,
    "start_time": "2022-09-06T11:26:32.034Z"
   },
   {
    "duration": 42,
    "start_time": "2022-09-06T11:26:32.050Z"
   },
   {
    "duration": 15,
    "start_time": "2022-09-06T11:26:32.094Z"
   },
   {
    "duration": 21,
    "start_time": "2022-09-06T11:26:32.110Z"
   },
   {
    "duration": 6,
    "start_time": "2022-09-06T11:26:32.137Z"
   },
   {
    "duration": 12,
    "start_time": "2022-09-06T11:26:32.145Z"
   },
   {
    "duration": 9,
    "start_time": "2022-09-06T11:26:32.158Z"
   },
   {
    "duration": 23,
    "start_time": "2022-09-06T11:26:32.169Z"
   },
   {
    "duration": 4,
    "start_time": "2022-09-06T11:26:32.193Z"
   },
   {
    "duration": 20,
    "start_time": "2022-09-06T11:26:32.199Z"
   },
   {
    "duration": 21,
    "start_time": "2022-09-06T11:26:32.222Z"
   },
   {
    "duration": 9,
    "start_time": "2022-09-06T11:26:32.246Z"
   },
   {
    "duration": 9,
    "start_time": "2022-09-06T11:26:32.256Z"
   },
   {
    "duration": 8,
    "start_time": "2022-09-06T11:26:32.266Z"
   },
   {
    "duration": 7,
    "start_time": "2022-09-06T11:26:32.275Z"
   },
   {
    "duration": 5,
    "start_time": "2022-09-06T11:26:32.284Z"
   },
   {
    "duration": 33,
    "start_time": "2022-09-06T11:26:32.291Z"
   },
   {
    "duration": 17,
    "start_time": "2022-09-06T11:26:32.333Z"
   },
   {
    "duration": 209,
    "start_time": "2022-09-06T11:26:32.351Z"
   },
   {
    "duration": 15,
    "start_time": "2022-09-06T11:26:32.561Z"
   },
   {
    "duration": 7,
    "start_time": "2022-09-06T11:26:32.578Z"
   },
   {
    "duration": 72,
    "start_time": "2022-09-06T11:26:32.587Z"
   },
   {
    "duration": 163,
    "start_time": "2022-09-06T11:28:32.254Z"
   },
   {
    "duration": 200,
    "start_time": "2022-09-06T11:28:48.349Z"
   },
   {
    "duration": 237,
    "start_time": "2022-09-06T11:28:59.901Z"
   },
   {
    "duration": 13,
    "start_time": "2022-09-06T11:54:02.808Z"
   },
   {
    "duration": 81,
    "start_time": "2022-09-06T11:54:02.839Z"
   },
   {
    "duration": 19,
    "start_time": "2022-09-06T11:54:02.922Z"
   },
   {
    "duration": 41,
    "start_time": "2022-09-06T11:54:02.943Z"
   },
   {
    "duration": 13,
    "start_time": "2022-09-06T11:54:02.985Z"
   },
   {
    "duration": 17,
    "start_time": "2022-09-06T11:54:03.000Z"
   },
   {
    "duration": 28,
    "start_time": "2022-09-06T11:54:03.024Z"
   },
   {
    "duration": 9,
    "start_time": "2022-09-06T11:54:03.054Z"
   },
   {
    "duration": 8,
    "start_time": "2022-09-06T11:54:03.065Z"
   },
   {
    "duration": 19,
    "start_time": "2022-09-06T11:54:03.075Z"
   },
   {
    "duration": 6,
    "start_time": "2022-09-06T11:54:03.095Z"
   },
   {
    "duration": 38,
    "start_time": "2022-09-06T11:54:03.103Z"
   },
   {
    "duration": 18,
    "start_time": "2022-09-06T11:54:03.142Z"
   },
   {
    "duration": 8,
    "start_time": "2022-09-06T11:54:03.162Z"
   },
   {
    "duration": 11,
    "start_time": "2022-09-06T11:54:03.172Z"
   },
   {
    "duration": 5,
    "start_time": "2022-09-06T11:54:03.185Z"
   },
   {
    "duration": 8,
    "start_time": "2022-09-06T11:54:03.192Z"
   },
   {
    "duration": 8,
    "start_time": "2022-09-06T11:54:03.202Z"
   },
   {
    "duration": 45,
    "start_time": "2022-09-06T11:54:03.216Z"
   },
   {
    "duration": 12,
    "start_time": "2022-09-06T11:54:03.263Z"
   },
   {
    "duration": 204,
    "start_time": "2022-09-06T11:54:03.277Z"
   },
   {
    "duration": 31,
    "start_time": "2022-09-06T11:54:03.483Z"
   },
   {
    "duration": 12,
    "start_time": "2022-09-06T11:54:03.515Z"
   },
   {
    "duration": 191,
    "start_time": "2022-09-06T11:54:03.531Z"
   },
   {
    "duration": 17,
    "start_time": "2022-09-06T11:54:03.729Z"
   },
   {
    "duration": 14,
    "start_time": "2022-09-06T12:12:27.850Z"
   },
   {
    "duration": 282,
    "start_time": "2022-09-06T12:18:53.887Z"
   },
   {
    "duration": 34,
    "start_time": "2022-09-06T12:20:32.508Z"
   },
   {
    "duration": 6,
    "start_time": "2022-09-06T12:22:47.362Z"
   },
   {
    "duration": 12,
    "start_time": "2022-09-06T12:23:07.940Z"
   },
   {
    "duration": 9,
    "start_time": "2022-09-06T12:27:39.686Z"
   },
   {
    "duration": 14,
    "start_time": "2022-09-06T12:28:01.449Z"
   },
   {
    "duration": 10,
    "start_time": "2022-09-06T12:28:13.153Z"
   },
   {
    "duration": 9,
    "start_time": "2022-09-06T12:29:21.453Z"
   },
   {
    "duration": 12,
    "start_time": "2022-09-06T12:29:33.328Z"
   },
   {
    "duration": 3,
    "start_time": "2022-09-06T12:29:41.787Z"
   },
   {
    "duration": 21,
    "start_time": "2022-09-06T12:31:37.388Z"
   },
   {
    "duration": 21,
    "start_time": "2022-09-06T12:32:55.065Z"
   },
   {
    "duration": 4,
    "start_time": "2022-09-06T12:33:20.071Z"
   },
   {
    "duration": 16,
    "start_time": "2022-09-06T12:33:51.226Z"
   },
   {
    "duration": 19,
    "start_time": "2022-09-06T12:36:38.231Z"
   },
   {
    "duration": 606,
    "start_time": "2022-09-06T12:37:24.906Z"
   },
   {
    "duration": 21,
    "start_time": "2022-09-06T12:38:22.325Z"
   },
   {
    "duration": 2202,
    "start_time": "2022-09-06T12:38:34.893Z"
   },
   {
    "duration": 23,
    "start_time": "2022-09-06T12:39:11.002Z"
   },
   {
    "duration": 22,
    "start_time": "2022-09-06T12:40:26.362Z"
   },
   {
    "duration": 11,
    "start_time": "2022-09-06T14:51:41.322Z"
   },
   {
    "duration": 12,
    "start_time": "2022-09-06T14:51:57.139Z"
   },
   {
    "duration": 13,
    "start_time": "2022-09-06T14:52:15.045Z"
   },
   {
    "duration": 13,
    "start_time": "2022-09-06T14:52:21.528Z"
   },
   {
    "duration": 11,
    "start_time": "2022-09-06T14:52:43.237Z"
   },
   {
    "duration": 13,
    "start_time": "2022-09-06T14:52:58.543Z"
   },
   {
    "duration": 5,
    "start_time": "2022-09-06T14:54:22.169Z"
   },
   {
    "duration": 74,
    "start_time": "2022-09-06T14:55:34.665Z"
   },
   {
    "duration": 14,
    "start_time": "2022-09-06T14:55:42.665Z"
   },
   {
    "duration": 3,
    "start_time": "2022-09-06T14:55:48.656Z"
   },
   {
    "duration": 23,
    "start_time": "2022-09-06T14:57:32.025Z"
   },
   {
    "duration": 27,
    "start_time": "2022-09-06T14:57:44.110Z"
   },
   {
    "duration": 3,
    "start_time": "2022-09-06T14:57:51.024Z"
   },
   {
    "duration": 57,
    "start_time": "2022-09-06T14:57:51.302Z"
   },
   {
    "duration": 12,
    "start_time": "2022-09-06T14:57:51.360Z"
   },
   {
    "duration": 27,
    "start_time": "2022-09-06T14:57:51.374Z"
   },
   {
    "duration": 12,
    "start_time": "2022-09-06T14:57:51.402Z"
   },
   {
    "duration": 12,
    "start_time": "2022-09-06T14:57:51.416Z"
   },
   {
    "duration": 3,
    "start_time": "2022-09-06T14:57:51.429Z"
   },
   {
    "duration": 15,
    "start_time": "2022-09-06T14:57:51.433Z"
   },
   {
    "duration": 12,
    "start_time": "2022-09-06T14:57:51.449Z"
   },
   {
    "duration": 15,
    "start_time": "2022-09-06T14:57:51.463Z"
   },
   {
    "duration": 4,
    "start_time": "2022-09-06T14:57:51.480Z"
   },
   {
    "duration": 7,
    "start_time": "2022-09-06T14:57:51.485Z"
   },
   {
    "duration": 17,
    "start_time": "2022-09-06T14:57:51.494Z"
   },
   {
    "duration": 7,
    "start_time": "2022-09-06T14:57:51.513Z"
   },
   {
    "duration": 6,
    "start_time": "2022-09-06T14:57:51.522Z"
   },
   {
    "duration": 5,
    "start_time": "2022-09-06T14:57:51.529Z"
   },
   {
    "duration": 8,
    "start_time": "2022-09-06T14:57:51.536Z"
   },
   {
    "duration": 7,
    "start_time": "2022-09-06T14:57:51.545Z"
   },
   {
    "duration": 14,
    "start_time": "2022-09-06T14:57:51.554Z"
   },
   {
    "duration": 10,
    "start_time": "2022-09-06T14:57:51.569Z"
   },
   {
    "duration": 284,
    "start_time": "2022-09-06T14:57:51.580Z"
   },
   {
    "duration": 16,
    "start_time": "2022-09-06T14:57:51.866Z"
   },
   {
    "duration": 23,
    "start_time": "2022-09-06T14:57:51.884Z"
   },
   {
    "duration": 371,
    "start_time": "2022-09-06T14:57:51.909Z"
   },
   {
    "duration": 34,
    "start_time": "2022-09-06T14:57:52.282Z"
   },
   {
    "duration": 48,
    "start_time": "2022-09-06T14:58:27.602Z"
   },
   {
    "duration": 35,
    "start_time": "2022-09-06T14:58:50.827Z"
   },
   {
    "duration": 15,
    "start_time": "2022-09-06T14:59:42.270Z"
   },
   {
    "duration": 16,
    "start_time": "2022-09-06T15:00:48.224Z"
   },
   {
    "duration": 4,
    "start_time": "2022-09-06T15:01:01.317Z"
   },
   {
    "duration": 10,
    "start_time": "2022-09-06T15:02:25.272Z"
   },
   {
    "duration": 4,
    "start_time": "2022-09-06T15:02:42.159Z"
   },
   {
    "duration": 16,
    "start_time": "2022-09-06T15:03:22.995Z"
   },
   {
    "duration": 12,
    "start_time": "2022-09-06T15:05:03.720Z"
   },
   {
    "duration": 3,
    "start_time": "2022-09-06T15:05:11.545Z"
   },
   {
    "duration": 15,
    "start_time": "2022-09-06T15:05:22.965Z"
   },
   {
    "duration": 5,
    "start_time": "2022-09-06T15:05:27.962Z"
   },
   {
    "duration": 303,
    "start_time": "2022-09-06T15:05:42.529Z"
   },
   {
    "duration": 15,
    "start_time": "2022-09-06T15:06:19.295Z"
   },
   {
    "duration": 1293,
    "start_time": "2022-09-06T15:06:28.957Z"
   },
   {
    "duration": 43,
    "start_time": "2022-09-06T17:24:29.897Z"
   },
   {
    "duration": 1350,
    "start_time": "2022-09-06T17:24:39.121Z"
   },
   {
    "duration": 143,
    "start_time": "2022-09-06T17:24:40.473Z"
   },
   {
    "duration": 16,
    "start_time": "2022-09-06T17:24:40.618Z"
   },
   {
    "duration": 32,
    "start_time": "2022-09-06T17:24:40.636Z"
   },
   {
    "duration": 29,
    "start_time": "2022-09-06T17:24:40.669Z"
   },
   {
    "duration": 8,
    "start_time": "2022-09-06T17:24:40.700Z"
   },
   {
    "duration": 9,
    "start_time": "2022-09-06T17:24:40.710Z"
   },
   {
    "duration": 11,
    "start_time": "2022-09-06T17:24:40.720Z"
   },
   {
    "duration": 7,
    "start_time": "2022-09-06T17:24:40.733Z"
   },
   {
    "duration": 12,
    "start_time": "2022-09-06T17:24:40.743Z"
   },
   {
    "duration": 39,
    "start_time": "2022-09-06T17:24:40.756Z"
   },
   {
    "duration": 13,
    "start_time": "2022-09-06T17:24:40.797Z"
   },
   {
    "duration": 7,
    "start_time": "2022-09-06T17:24:40.812Z"
   },
   {
    "duration": 7,
    "start_time": "2022-09-06T17:24:40.821Z"
   },
   {
    "duration": 8,
    "start_time": "2022-09-06T17:24:40.830Z"
   },
   {
    "duration": 6,
    "start_time": "2022-09-06T17:24:40.839Z"
   },
   {
    "duration": 9,
    "start_time": "2022-09-06T17:24:40.846Z"
   },
   {
    "duration": 14,
    "start_time": "2022-09-06T17:24:40.856Z"
   },
   {
    "duration": 26,
    "start_time": "2022-09-06T17:24:40.871Z"
   },
   {
    "duration": 15,
    "start_time": "2022-09-06T17:24:40.899Z"
   },
   {
    "duration": 216,
    "start_time": "2022-09-06T17:24:40.915Z"
   },
   {
    "duration": 85,
    "start_time": "2022-09-06T17:24:41.132Z"
   },
   {
    "duration": 0,
    "start_time": "2022-09-06T17:24:41.218Z"
   },
   {
    "duration": 0,
    "start_time": "2022-09-06T17:24:41.219Z"
   },
   {
    "duration": 0,
    "start_time": "2022-09-06T17:24:41.220Z"
   },
   {
    "duration": 0,
    "start_time": "2022-09-06T17:24:41.221Z"
   },
   {
    "duration": 0,
    "start_time": "2022-09-06T17:24:41.222Z"
   },
   {
    "duration": 0,
    "start_time": "2022-09-06T17:24:41.224Z"
   },
   {
    "duration": 0,
    "start_time": "2022-09-06T17:24:41.224Z"
   },
   {
    "duration": 20,
    "start_time": "2022-09-06T17:27:02.997Z"
   },
   {
    "duration": 9,
    "start_time": "2022-09-06T17:27:09.900Z"
   },
   {
    "duration": 155,
    "start_time": "2022-09-06T17:27:16.454Z"
   },
   {
    "duration": 37,
    "start_time": "2022-09-06T17:27:22.920Z"
   },
   {
    "duration": 4,
    "start_time": "2022-09-06T17:28:01.330Z"
   },
   {
    "duration": 73,
    "start_time": "2022-09-06T17:28:01.335Z"
   },
   {
    "duration": 11,
    "start_time": "2022-09-06T17:28:01.410Z"
   },
   {
    "duration": 27,
    "start_time": "2022-09-06T17:28:01.423Z"
   },
   {
    "duration": 12,
    "start_time": "2022-09-06T17:28:01.452Z"
   },
   {
    "duration": 44,
    "start_time": "2022-09-06T17:28:01.466Z"
   },
   {
    "duration": 7,
    "start_time": "2022-09-06T17:28:01.512Z"
   },
   {
    "duration": 15,
    "start_time": "2022-09-06T17:28:01.520Z"
   },
   {
    "duration": 15,
    "start_time": "2022-09-06T17:28:01.536Z"
   },
   {
    "duration": 18,
    "start_time": "2022-09-06T17:28:01.552Z"
   },
   {
    "duration": 4,
    "start_time": "2022-09-06T17:28:01.572Z"
   },
   {
    "duration": 25,
    "start_time": "2022-09-06T17:28:01.577Z"
   },
   {
    "duration": 19,
    "start_time": "2022-09-06T17:28:01.604Z"
   },
   {
    "duration": 15,
    "start_time": "2022-09-06T17:28:01.625Z"
   },
   {
    "duration": 16,
    "start_time": "2022-09-06T17:28:01.641Z"
   },
   {
    "duration": 15,
    "start_time": "2022-09-06T17:28:01.658Z"
   },
   {
    "duration": 14,
    "start_time": "2022-09-06T17:28:01.675Z"
   },
   {
    "duration": 22,
    "start_time": "2022-09-06T17:28:01.690Z"
   },
   {
    "duration": 19,
    "start_time": "2022-09-06T17:28:01.713Z"
   },
   {
    "duration": 26,
    "start_time": "2022-09-06T17:28:01.733Z"
   },
   {
    "duration": 203,
    "start_time": "2022-09-06T17:28:01.761Z"
   },
   {
    "duration": 23,
    "start_time": "2022-09-06T17:28:01.966Z"
   },
   {
    "duration": 12,
    "start_time": "2022-09-06T17:28:01.993Z"
   },
   {
    "duration": 189,
    "start_time": "2022-09-06T17:28:02.006Z"
   },
   {
    "duration": 33,
    "start_time": "2022-09-06T17:28:02.196Z"
   },
   {
    "duration": 11,
    "start_time": "2022-09-06T17:28:02.231Z"
   },
   {
    "duration": 0,
    "start_time": "2022-09-06T17:28:02.244Z"
   },
   {
    "duration": 0,
    "start_time": "2022-09-06T17:28:02.246Z"
   },
   {
    "duration": 0,
    "start_time": "2022-09-06T17:28:02.247Z"
   },
   {
    "duration": 10,
    "start_time": "2022-09-06T17:28:47.902Z"
   },
   {
    "duration": 3,
    "start_time": "2022-09-06T17:28:48.920Z"
   },
   {
    "duration": 11,
    "start_time": "2022-09-06T17:29:02.240Z"
   },
   {
    "duration": 680,
    "start_time": "2022-09-06T17:29:09.795Z"
   },
   {
    "duration": 145,
    "start_time": "2022-09-06T17:29:40.832Z"
   },
   {
    "duration": 1056,
    "start_time": "2022-09-06T17:29:48.903Z"
   },
   {
    "duration": 21,
    "start_time": "2022-09-06T17:31:17.281Z"
   },
   {
    "duration": 3,
    "start_time": "2022-09-06T17:31:18.359Z"
   },
   {
    "duration": 12,
    "start_time": "2022-09-06T17:32:59.356Z"
   },
   {
    "duration": 11,
    "start_time": "2022-09-06T17:33:13.119Z"
   },
   {
    "duration": 3,
    "start_time": "2022-09-06T17:33:14.096Z"
   },
   {
    "duration": 13,
    "start_time": "2022-09-06T17:34:35.896Z"
   },
   {
    "duration": 887,
    "start_time": "2022-09-06T17:35:39.447Z"
   },
   {
    "duration": 20,
    "start_time": "2022-09-06T17:36:46.782Z"
   },
   {
    "duration": 10,
    "start_time": "2022-09-06T17:37:35.933Z"
   },
   {
    "duration": 11,
    "start_time": "2022-09-06T17:37:42.233Z"
   },
   {
    "duration": 10,
    "start_time": "2022-09-06T17:38:14.558Z"
   },
   {
    "duration": 3,
    "start_time": "2022-09-06T17:38:22.101Z"
   },
   {
    "duration": 777,
    "start_time": "2022-09-06T17:39:43.196Z"
   },
   {
    "duration": 24,
    "start_time": "2022-09-06T17:43:04.143Z"
   },
   {
    "duration": 33,
    "start_time": "2022-09-06T17:43:56.338Z"
   },
   {
    "duration": 13,
    "start_time": "2022-09-06T17:44:52.932Z"
   },
   {
    "duration": 3,
    "start_time": "2022-09-06T17:44:54.039Z"
   },
   {
    "duration": 938,
    "start_time": "2022-09-06T17:56:53.836Z"
   },
   {
    "duration": 57,
    "start_time": "2022-09-06T17:57:34.896Z"
   },
   {
    "duration": 8,
    "start_time": "2022-09-06T17:57:52.379Z"
   },
   {
    "duration": 13,
    "start_time": "2022-09-06T17:58:00.945Z"
   },
   {
    "duration": 4,
    "start_time": "2022-09-06T17:58:09.288Z"
   },
   {
    "duration": 8,
    "start_time": "2022-09-06T17:58:46.982Z"
   },
   {
    "duration": 12,
    "start_time": "2022-09-06T17:58:57.395Z"
   },
   {
    "duration": 11,
    "start_time": "2022-09-06T17:59:36.342Z"
   },
   {
    "duration": 12,
    "start_time": "2022-09-06T17:59:45.983Z"
   },
   {
    "duration": 70,
    "start_time": "2022-09-06T17:59:45.997Z"
   },
   {
    "duration": 12,
    "start_time": "2022-09-06T17:59:46.069Z"
   },
   {
    "duration": 42,
    "start_time": "2022-09-06T17:59:46.083Z"
   },
   {
    "duration": 15,
    "start_time": "2022-09-06T17:59:46.128Z"
   },
   {
    "duration": 9,
    "start_time": "2022-09-06T17:59:46.145Z"
   },
   {
    "duration": 8,
    "start_time": "2022-09-06T17:59:46.155Z"
   },
   {
    "duration": 33,
    "start_time": "2022-09-06T17:59:46.165Z"
   },
   {
    "duration": 9,
    "start_time": "2022-09-06T17:59:46.200Z"
   },
   {
    "duration": 14,
    "start_time": "2022-09-06T17:59:46.212Z"
   },
   {
    "duration": 5,
    "start_time": "2022-09-06T17:59:46.227Z"
   },
   {
    "duration": 7,
    "start_time": "2022-09-06T17:59:46.234Z"
   },
   {
    "duration": 8,
    "start_time": "2022-09-06T17:59:46.242Z"
   },
   {
    "duration": 12,
    "start_time": "2022-09-06T17:59:46.253Z"
   },
   {
    "duration": 27,
    "start_time": "2022-09-06T17:59:46.267Z"
   },
   {
    "duration": 6,
    "start_time": "2022-09-06T17:59:46.296Z"
   },
   {
    "duration": 7,
    "start_time": "2022-09-06T17:59:46.304Z"
   },
   {
    "duration": 9,
    "start_time": "2022-09-06T17:59:46.312Z"
   },
   {
    "duration": 17,
    "start_time": "2022-09-06T17:59:46.322Z"
   },
   {
    "duration": 11,
    "start_time": "2022-09-06T17:59:46.340Z"
   },
   {
    "duration": 264,
    "start_time": "2022-09-06T17:59:46.352Z"
   },
   {
    "duration": 17,
    "start_time": "2022-09-06T17:59:46.617Z"
   },
   {
    "duration": 8,
    "start_time": "2022-09-06T17:59:46.635Z"
   },
   {
    "duration": 271,
    "start_time": "2022-09-06T17:59:46.645Z"
   },
   {
    "duration": 31,
    "start_time": "2022-09-06T17:59:46.918Z"
   },
   {
    "duration": 10,
    "start_time": "2022-09-06T17:59:46.951Z"
   },
   {
    "duration": 0,
    "start_time": "2022-09-06T17:59:46.963Z"
   },
   {
    "duration": 0,
    "start_time": "2022-09-06T17:59:46.964Z"
   },
   {
    "duration": 13,
    "start_time": "2022-09-06T18:00:55.634Z"
   },
   {
    "duration": 2,
    "start_time": "2022-09-06T18:01:03.559Z"
   },
   {
    "duration": 18,
    "start_time": "2022-09-06T18:01:47.976Z"
   },
   {
    "duration": 3,
    "start_time": "2022-09-06T18:02:02.246Z"
   },
   {
    "duration": 11,
    "start_time": "2022-09-06T18:02:13.865Z"
   },
   {
    "duration": 3,
    "start_time": "2022-09-06T18:02:14.763Z"
   },
   {
    "duration": 12,
    "start_time": "2022-09-06T18:03:33.639Z"
   },
   {
    "duration": 3,
    "start_time": "2022-09-06T18:03:34.557Z"
   },
   {
    "duration": 12,
    "start_time": "2022-09-06T18:05:01.460Z"
   },
   {
    "duration": 4,
    "start_time": "2022-09-06T18:09:09.332Z"
   },
   {
    "duration": 2095,
    "start_time": "2022-09-06T18:09:14.760Z"
   },
   {
    "duration": 1433,
    "start_time": "2022-09-06T18:09:33.332Z"
   },
   {
    "duration": 9,
    "start_time": "2022-09-06T18:19:09.923Z"
   },
   {
    "duration": 11,
    "start_time": "2022-09-06T18:19:37.876Z"
   },
   {
    "duration": 11,
    "start_time": "2022-09-06T18:19:46.872Z"
   },
   {
    "duration": 3,
    "start_time": "2022-09-06T18:20:09.813Z"
   },
   {
    "duration": 73,
    "start_time": "2022-09-06T18:20:09.818Z"
   },
   {
    "duration": 14,
    "start_time": "2022-09-06T18:20:09.893Z"
   },
   {
    "duration": 28,
    "start_time": "2022-09-06T18:20:09.909Z"
   },
   {
    "duration": 13,
    "start_time": "2022-09-06T18:20:09.939Z"
   },
   {
    "duration": 35,
    "start_time": "2022-09-06T18:20:09.954Z"
   },
   {
    "duration": 4,
    "start_time": "2022-09-06T18:20:09.990Z"
   },
   {
    "duration": 14,
    "start_time": "2022-09-06T18:20:09.995Z"
   },
   {
    "duration": 17,
    "start_time": "2022-09-06T18:20:10.010Z"
   },
   {
    "duration": 17,
    "start_time": "2022-09-06T18:20:10.028Z"
   },
   {
    "duration": 10,
    "start_time": "2022-09-06T18:20:10.047Z"
   },
   {
    "duration": 27,
    "start_time": "2022-09-06T18:20:10.058Z"
   },
   {
    "duration": 5,
    "start_time": "2022-09-06T18:20:10.087Z"
   },
   {
    "duration": 5,
    "start_time": "2022-09-06T18:20:10.094Z"
   },
   {
    "duration": 7,
    "start_time": "2022-09-06T18:20:10.101Z"
   },
   {
    "duration": 9,
    "start_time": "2022-09-06T18:20:10.109Z"
   },
   {
    "duration": 18,
    "start_time": "2022-09-06T18:20:10.120Z"
   },
   {
    "duration": 14,
    "start_time": "2022-09-06T18:20:10.140Z"
   },
   {
    "duration": 19,
    "start_time": "2022-09-06T18:20:10.156Z"
   },
   {
    "duration": 13,
    "start_time": "2022-09-06T18:20:10.177Z"
   },
   {
    "duration": 281,
    "start_time": "2022-09-06T18:20:10.192Z"
   },
   {
    "duration": 29,
    "start_time": "2022-09-06T18:20:10.474Z"
   },
   {
    "duration": 11,
    "start_time": "2022-09-06T18:20:10.505Z"
   },
   {
    "duration": 236,
    "start_time": "2022-09-06T18:20:10.518Z"
   },
   {
    "duration": 40,
    "start_time": "2022-09-06T18:20:10.755Z"
   },
   {
    "duration": 15,
    "start_time": "2022-09-06T18:20:10.797Z"
   },
   {
    "duration": 0,
    "start_time": "2022-09-06T18:20:10.815Z"
   },
   {
    "duration": 0,
    "start_time": "2022-09-06T18:20:10.816Z"
   },
   {
    "duration": 3,
    "start_time": "2022-09-06T18:20:21.347Z"
   },
   {
    "duration": 10,
    "start_time": "2022-09-06T18:24:04.940Z"
   },
   {
    "duration": 36,
    "start_time": "2022-09-06T18:24:11.556Z"
   },
   {
    "duration": 13,
    "start_time": "2022-09-06T18:24:28.922Z"
   },
   {
    "duration": 18,
    "start_time": "2022-09-06T18:24:36.427Z"
   },
   {
    "duration": 17,
    "start_time": "2022-09-06T18:24:57.434Z"
   },
   {
    "duration": 3,
    "start_time": "2022-09-06T18:24:58.373Z"
   },
   {
    "duration": 15,
    "start_time": "2022-09-06T18:26:08.833Z"
   },
   {
    "duration": 4,
    "start_time": "2022-09-06T18:26:09.859Z"
   },
   {
    "duration": 9,
    "start_time": "2022-09-06T18:26:17.150Z"
   },
   {
    "duration": 4,
    "start_time": "2022-09-06T18:26:26.648Z"
   },
   {
    "duration": 13,
    "start_time": "2022-09-06T18:26:30.604Z"
   },
   {
    "duration": 11,
    "start_time": "2022-09-06T18:27:02.825Z"
   },
   {
    "duration": 4,
    "start_time": "2022-09-06T18:27:07.696Z"
   },
   {
    "duration": 4,
    "start_time": "2022-09-06T18:27:39.549Z"
   },
   {
    "duration": 12,
    "start_time": "2022-09-06T18:46:04.396Z"
   },
   {
    "duration": 4,
    "start_time": "2022-09-06T18:46:25.598Z"
   },
   {
    "duration": 9,
    "start_time": "2022-09-06T18:46:38.049Z"
   },
   {
    "duration": 4,
    "start_time": "2022-09-06T18:46:43.538Z"
   },
   {
    "duration": 8,
    "start_time": "2022-09-06T18:49:42.499Z"
   },
   {
    "duration": 9,
    "start_time": "2022-09-06T18:50:26.329Z"
   },
   {
    "duration": 8,
    "start_time": "2022-09-06T18:51:47.065Z"
   },
   {
    "duration": 3,
    "start_time": "2022-09-06T18:51:48.144Z"
   },
   {
    "duration": 12,
    "start_time": "2022-09-06T18:52:13.849Z"
   },
   {
    "duration": 3,
    "start_time": "2022-09-06T18:52:14.844Z"
   },
   {
    "duration": 4,
    "start_time": "2022-09-06T18:52:33.780Z"
   },
   {
    "duration": 8,
    "start_time": "2022-09-06T18:56:59.644Z"
   },
   {
    "duration": 9,
    "start_time": "2022-09-06T18:57:10.052Z"
   },
   {
    "duration": 14,
    "start_time": "2022-09-06T18:57:28.111Z"
   },
   {
    "duration": 7,
    "start_time": "2022-09-06T18:57:29.412Z"
   },
   {
    "duration": 11,
    "start_time": "2022-09-06T18:57:40.763Z"
   },
   {
    "duration": 3,
    "start_time": "2022-09-06T18:57:41.606Z"
   },
   {
    "duration": 57,
    "start_time": "2022-09-06T21:00:20.852Z"
   },
   {
    "duration": 1395,
    "start_time": "2022-09-06T21:00:30.207Z"
   },
   {
    "duration": 740,
    "start_time": "2022-09-06T21:00:31.604Z"
   },
   {
    "duration": 14,
    "start_time": "2022-09-06T21:00:32.346Z"
   },
   {
    "duration": 30,
    "start_time": "2022-09-06T21:00:32.361Z"
   },
   {
    "duration": 18,
    "start_time": "2022-09-06T21:00:32.393Z"
   },
   {
    "duration": 10,
    "start_time": "2022-09-06T21:00:32.412Z"
   },
   {
    "duration": 4,
    "start_time": "2022-09-06T21:00:32.424Z"
   },
   {
    "duration": 13,
    "start_time": "2022-09-06T21:00:32.429Z"
   },
   {
    "duration": 8,
    "start_time": "2022-09-06T21:00:32.443Z"
   },
   {
    "duration": 17,
    "start_time": "2022-09-06T21:00:32.453Z"
   },
   {
    "duration": 7,
    "start_time": "2022-09-06T21:00:32.491Z"
   },
   {
    "duration": 9,
    "start_time": "2022-09-06T21:00:32.500Z"
   },
   {
    "duration": 19,
    "start_time": "2022-09-06T21:00:32.511Z"
   },
   {
    "duration": 7,
    "start_time": "2022-09-06T21:00:32.532Z"
   },
   {
    "duration": 25,
    "start_time": "2022-09-06T21:00:32.541Z"
   },
   {
    "duration": 20,
    "start_time": "2022-09-06T21:00:32.568Z"
   },
   {
    "duration": 44,
    "start_time": "2022-09-06T21:00:32.590Z"
   },
   {
    "duration": 22,
    "start_time": "2022-09-06T21:00:32.636Z"
   },
   {
    "duration": 69,
    "start_time": "2022-09-06T21:00:32.659Z"
   },
   {
    "duration": 40,
    "start_time": "2022-09-06T21:00:32.730Z"
   },
   {
    "duration": 268,
    "start_time": "2022-09-06T21:00:32.772Z"
   },
   {
    "duration": 17,
    "start_time": "2022-09-06T21:00:33.042Z"
   },
   {
    "duration": 35,
    "start_time": "2022-09-06T21:00:33.061Z"
   },
   {
    "duration": 168,
    "start_time": "2022-09-06T21:00:33.099Z"
   },
   {
    "duration": 99,
    "start_time": "2022-09-06T21:00:33.269Z"
   },
   {
    "duration": 37,
    "start_time": "2022-09-06T21:00:48.960Z"
   },
   {
    "duration": 12,
    "start_time": "2022-09-06T21:02:13.230Z"
   },
   {
    "duration": 909,
    "start_time": "2022-09-06T21:02:22.064Z"
   },
   {
    "duration": 16,
    "start_time": "2022-09-06T21:04:07.796Z"
   },
   {
    "duration": 59,
    "start_time": "2022-09-06T21:06:09.313Z"
   },
   {
    "duration": 32,
    "start_time": "2022-09-06T21:11:25.603Z"
   },
   {
    "duration": 23,
    "start_time": "2022-09-06T21:11:51.699Z"
   },
   {
    "duration": 37,
    "start_time": "2022-09-06T21:12:00.061Z"
   },
   {
    "duration": 8,
    "start_time": "2022-09-06T21:12:45.933Z"
   },
   {
    "duration": 360,
    "start_time": "2022-09-06T21:12:56.441Z"
   },
   {
    "duration": 342,
    "start_time": "2022-09-06T21:13:31.768Z"
   },
   {
    "duration": 1667,
    "start_time": "2022-09-06T21:16:07.109Z"
   },
   {
    "duration": 461,
    "start_time": "2022-09-06T21:16:23.711Z"
   },
   {
    "duration": 1581,
    "start_time": "2022-09-06T21:16:37.320Z"
   },
   {
    "duration": 850,
    "start_time": "2022-09-06T21:18:05.711Z"
   },
   {
    "duration": 22,
    "start_time": "2022-09-06T21:18:29.286Z"
   },
   {
    "duration": 493,
    "start_time": "2022-09-06T21:18:46.142Z"
   },
   {
    "duration": 863,
    "start_time": "2022-09-06T21:20:46.522Z"
   },
   {
    "duration": 54,
    "start_time": "2022-09-06T21:20:54.014Z"
   },
   {
    "duration": 457,
    "start_time": "2022-09-06T21:21:09.640Z"
   },
   {
    "duration": 4,
    "start_time": "2022-09-06T21:22:34.039Z"
   },
   {
    "duration": 857,
    "start_time": "2022-09-06T21:24:24.922Z"
   },
   {
    "duration": 1867,
    "start_time": "2022-09-06T21:30:02.935Z"
   },
   {
    "duration": 4,
    "start_time": "2022-09-06T21:34:48.670Z"
   },
   {
    "duration": 20,
    "start_time": "2022-09-06T21:35:18.274Z"
   },
   {
    "duration": 16,
    "start_time": "2022-09-06T21:35:56.172Z"
   },
   {
    "duration": 3,
    "start_time": "2022-09-06T21:36:29.669Z"
   },
   {
    "duration": 15,
    "start_time": "2022-09-06T21:37:06.220Z"
   },
   {
    "duration": 3,
    "start_time": "2022-09-06T21:40:35.414Z"
   },
   {
    "duration": 137,
    "start_time": "2022-09-06T21:41:31.271Z"
   },
   {
    "duration": 155,
    "start_time": "2022-09-06T21:42:03.907Z"
   },
   {
    "duration": 188,
    "start_time": "2022-09-06T21:43:35.449Z"
   },
   {
    "duration": 156,
    "start_time": "2022-09-06T21:47:55.129Z"
   },
   {
    "duration": 242,
    "start_time": "2022-09-06T21:49:38.122Z"
   },
   {
    "duration": 235,
    "start_time": "2022-09-06T21:49:51.303Z"
   },
   {
    "duration": 245,
    "start_time": "2022-09-06T21:50:01.317Z"
   },
   {
    "duration": 364,
    "start_time": "2022-09-06T21:51:10.201Z"
   },
   {
    "duration": 1232,
    "start_time": "2022-09-06T21:52:49.469Z"
   },
   {
    "duration": 1201,
    "start_time": "2022-09-06T21:56:23.309Z"
   },
   {
    "duration": 1008,
    "start_time": "2022-09-06T21:56:41.286Z"
   },
   {
    "duration": 1329,
    "start_time": "2022-09-06T21:57:16.204Z"
   },
   {
    "duration": 43,
    "start_time": "2022-09-06T21:59:05.778Z"
   },
   {
    "duration": 1497,
    "start_time": "2022-09-06T22:00:01.149Z"
   },
   {
    "duration": 232,
    "start_time": "2022-09-06T22:15:15.005Z"
   },
   {
    "duration": 51,
    "start_time": "2022-09-06T22:15:32.347Z"
   },
   {
    "duration": 106,
    "start_time": "2022-09-06T22:15:40.798Z"
   },
   {
    "duration": 110,
    "start_time": "2022-09-06T22:17:26.105Z"
   },
   {
    "duration": 208,
    "start_time": "2022-09-06T22:17:38.780Z"
   },
   {
    "duration": 265,
    "start_time": "2022-09-06T22:18:32.315Z"
   },
   {
    "duration": 203,
    "start_time": "2022-09-06T22:19:34.716Z"
   },
   {
    "duration": 279,
    "start_time": "2022-09-06T22:19:58.443Z"
   },
   {
    "duration": 252,
    "start_time": "2022-09-06T22:20:10.409Z"
   },
   {
    "duration": 49,
    "start_time": "2022-09-07T09:41:30.642Z"
   },
   {
    "duration": 1577,
    "start_time": "2022-09-07T09:41:35.541Z"
   },
   {
    "duration": 131,
    "start_time": "2022-09-07T09:41:37.120Z"
   },
   {
    "duration": 16,
    "start_time": "2022-09-07T09:41:37.253Z"
   },
   {
    "duration": 41,
    "start_time": "2022-09-07T09:41:37.271Z"
   },
   {
    "duration": 17,
    "start_time": "2022-09-07T09:41:37.315Z"
   },
   {
    "duration": 11,
    "start_time": "2022-09-07T09:41:37.334Z"
   },
   {
    "duration": 9,
    "start_time": "2022-09-07T09:41:37.346Z"
   },
   {
    "duration": 18,
    "start_time": "2022-09-07T09:41:37.357Z"
   },
   {
    "duration": 29,
    "start_time": "2022-09-07T09:41:37.377Z"
   },
   {
    "duration": 13,
    "start_time": "2022-09-07T09:41:37.409Z"
   },
   {
    "duration": 5,
    "start_time": "2022-09-07T09:41:37.424Z"
   },
   {
    "duration": 9,
    "start_time": "2022-09-07T09:41:37.431Z"
   },
   {
    "duration": 11,
    "start_time": "2022-09-07T09:41:37.444Z"
   },
   {
    "duration": 7,
    "start_time": "2022-09-07T09:41:37.457Z"
   },
   {
    "duration": 7,
    "start_time": "2022-09-07T09:41:37.466Z"
   },
   {
    "duration": 7,
    "start_time": "2022-09-07T09:41:37.475Z"
   },
   {
    "duration": 7,
    "start_time": "2022-09-07T09:41:37.503Z"
   },
   {
    "duration": 15,
    "start_time": "2022-09-07T09:41:37.512Z"
   },
   {
    "duration": 27,
    "start_time": "2022-09-07T09:41:37.529Z"
   },
   {
    "duration": 12,
    "start_time": "2022-09-07T09:41:37.557Z"
   },
   {
    "duration": 266,
    "start_time": "2022-09-07T09:41:37.570Z"
   },
   {
    "duration": 18,
    "start_time": "2022-09-07T09:41:37.838Z"
   },
   {
    "duration": 10,
    "start_time": "2022-09-07T09:41:37.857Z"
   },
   {
    "duration": 269,
    "start_time": "2022-09-07T09:41:37.869Z"
   },
   {
    "duration": 33,
    "start_time": "2022-09-07T09:41:38.140Z"
   },
   {
    "duration": 4,
    "start_time": "2022-09-07T09:41:38.174Z"
   },
   {
    "duration": 1946,
    "start_time": "2022-09-07T09:41:38.180Z"
   },
   {
    "duration": 376,
    "start_time": "2022-09-07T09:41:40.129Z"
   },
   {
    "duration": 7,
    "start_time": "2022-09-07T10:09:13.390Z"
   },
   {
    "duration": 195,
    "start_time": "2022-09-07T10:09:45.306Z"
   },
   {
    "duration": 3,
    "start_time": "2022-09-07T10:10:09.788Z"
   },
   {
    "duration": 72,
    "start_time": "2022-09-07T10:10:09.793Z"
   },
   {
    "duration": 13,
    "start_time": "2022-09-07T10:10:09.867Z"
   },
   {
    "duration": 29,
    "start_time": "2022-09-07T10:10:09.882Z"
   },
   {
    "duration": 13,
    "start_time": "2022-09-07T10:10:09.913Z"
   },
   {
    "duration": 10,
    "start_time": "2022-09-07T10:10:09.928Z"
   },
   {
    "duration": 9,
    "start_time": "2022-09-07T10:10:09.939Z"
   },
   {
    "duration": 11,
    "start_time": "2022-09-07T10:10:09.949Z"
   },
   {
    "duration": 12,
    "start_time": "2022-09-07T10:10:09.962Z"
   },
   {
    "duration": 32,
    "start_time": "2022-09-07T10:10:09.975Z"
   },
   {
    "duration": 6,
    "start_time": "2022-09-07T10:10:10.009Z"
   },
   {
    "duration": 12,
    "start_time": "2022-09-07T10:10:10.016Z"
   },
   {
    "duration": 15,
    "start_time": "2022-09-07T10:10:10.029Z"
   },
   {
    "duration": 8,
    "start_time": "2022-09-07T10:10:10.047Z"
   },
   {
    "duration": 11,
    "start_time": "2022-09-07T10:10:10.057Z"
   },
   {
    "duration": 9,
    "start_time": "2022-09-07T10:10:10.070Z"
   },
   {
    "duration": 15,
    "start_time": "2022-09-07T10:10:10.080Z"
   },
   {
    "duration": 9,
    "start_time": "2022-09-07T10:10:10.097Z"
   },
   {
    "duration": 21,
    "start_time": "2022-09-07T10:10:10.107Z"
   },
   {
    "duration": 11,
    "start_time": "2022-09-07T10:10:10.130Z"
   },
   {
    "duration": 298,
    "start_time": "2022-09-07T10:10:10.142Z"
   },
   {
    "duration": 20,
    "start_time": "2022-09-07T10:10:10.442Z"
   },
   {
    "duration": 10,
    "start_time": "2022-09-07T10:10:10.463Z"
   },
   {
    "duration": 260,
    "start_time": "2022-09-07T10:10:10.475Z"
   },
   {
    "duration": 31,
    "start_time": "2022-09-07T10:10:10.736Z"
   },
   {
    "duration": 4,
    "start_time": "2022-09-07T10:10:10.768Z"
   },
   {
    "duration": 1597,
    "start_time": "2022-09-07T10:10:10.773Z"
   },
   {
    "duration": 427,
    "start_time": "2022-09-07T10:10:12.372Z"
   },
   {
    "duration": 7,
    "start_time": "2022-09-07T10:10:12.802Z"
   },
   {
    "duration": 199,
    "start_time": "2022-09-07T10:10:12.811Z"
   },
   {
    "duration": 183,
    "start_time": "2022-09-07T10:10:41.485Z"
   },
   {
    "duration": 8,
    "start_time": "2022-09-07T10:12:11.789Z"
   },
   {
    "duration": 7,
    "start_time": "2022-09-07T10:13:05.284Z"
   },
   {
    "duration": 8,
    "start_time": "2022-09-07T10:14:05.776Z"
   },
   {
    "duration": 3,
    "start_time": "2022-09-07T10:14:14.594Z"
   },
   {
    "duration": 81,
    "start_time": "2022-09-07T10:14:14.599Z"
   },
   {
    "duration": 13,
    "start_time": "2022-09-07T10:14:14.682Z"
   },
   {
    "duration": 32,
    "start_time": "2022-09-07T10:14:14.697Z"
   },
   {
    "duration": 14,
    "start_time": "2022-09-07T10:14:14.731Z"
   },
   {
    "duration": 9,
    "start_time": "2022-09-07T10:14:14.748Z"
   },
   {
    "duration": 4,
    "start_time": "2022-09-07T10:14:14.759Z"
   },
   {
    "duration": 11,
    "start_time": "2022-09-07T10:14:14.764Z"
   },
   {
    "duration": 32,
    "start_time": "2022-09-07T10:14:14.776Z"
   },
   {
    "duration": 19,
    "start_time": "2022-09-07T10:14:14.810Z"
   },
   {
    "duration": 5,
    "start_time": "2022-09-07T10:14:14.832Z"
   },
   {
    "duration": 7,
    "start_time": "2022-09-07T10:14:14.839Z"
   },
   {
    "duration": 8,
    "start_time": "2022-09-07T10:14:14.848Z"
   },
   {
    "duration": 7,
    "start_time": "2022-09-07T10:14:14.857Z"
   },
   {
    "duration": 5,
    "start_time": "2022-09-07T10:14:14.866Z"
   },
   {
    "duration": 31,
    "start_time": "2022-09-07T10:14:14.872Z"
   },
   {
    "duration": 13,
    "start_time": "2022-09-07T10:14:14.905Z"
   },
   {
    "duration": 10,
    "start_time": "2022-09-07T10:14:14.919Z"
   },
   {
    "duration": 17,
    "start_time": "2022-09-07T10:14:14.930Z"
   },
   {
    "duration": 11,
    "start_time": "2022-09-07T10:14:14.949Z"
   },
   {
    "duration": 273,
    "start_time": "2022-09-07T10:14:14.962Z"
   },
   {
    "duration": 17,
    "start_time": "2022-09-07T10:14:15.237Z"
   },
   {
    "duration": 9,
    "start_time": "2022-09-07T10:14:15.256Z"
   },
   {
    "duration": 269,
    "start_time": "2022-09-07T10:14:15.266Z"
   },
   {
    "duration": 31,
    "start_time": "2022-09-07T10:14:15.537Z"
   },
   {
    "duration": 3,
    "start_time": "2022-09-07T10:14:15.570Z"
   },
   {
    "duration": 1633,
    "start_time": "2022-09-07T10:14:15.575Z"
   },
   {
    "duration": 444,
    "start_time": "2022-09-07T10:14:17.210Z"
   },
   {
    "duration": 7,
    "start_time": "2022-09-07T10:14:17.658Z"
   },
   {
    "duration": 194,
    "start_time": "2022-09-07T10:14:17.667Z"
   },
   {
    "duration": 51,
    "start_time": "2022-09-07T10:15:24.438Z"
   },
   {
    "duration": 17,
    "start_time": "2022-09-07T10:16:03.396Z"
   },
   {
    "duration": 280,
    "start_time": "2022-09-07T10:16:16.037Z"
   },
   {
    "duration": 268,
    "start_time": "2022-09-07T10:16:29.234Z"
   },
   {
    "duration": 6,
    "start_time": "2022-09-07T10:19:08.428Z"
   },
   {
    "duration": 304,
    "start_time": "2022-09-07T10:19:36.785Z"
   },
   {
    "duration": 9,
    "start_time": "2022-09-07T10:19:48.932Z"
   },
   {
    "duration": 406,
    "start_time": "2022-09-07T10:19:54.917Z"
   },
   {
    "duration": 348,
    "start_time": "2022-09-07T10:20:55.635Z"
   },
   {
    "duration": 6,
    "start_time": "2022-09-07T10:22:51.246Z"
   },
   {
    "duration": 277,
    "start_time": "2022-09-07T10:22:53.888Z"
   },
   {
    "duration": 69,
    "start_time": "2022-09-07T10:23:25.940Z"
   },
   {
    "duration": 5,
    "start_time": "2022-09-07T10:23:36.530Z"
   },
   {
    "duration": 270,
    "start_time": "2022-09-07T10:23:37.581Z"
   },
   {
    "duration": 5,
    "start_time": "2022-09-07T10:24:45.933Z"
   },
   {
    "duration": 258,
    "start_time": "2022-09-07T10:24:59.990Z"
   },
   {
    "duration": 11,
    "start_time": "2022-09-07T10:25:24.636Z"
   },
   {
    "duration": 10,
    "start_time": "2022-09-07T10:25:50.435Z"
   },
   {
    "duration": 10,
    "start_time": "2022-09-07T10:26:06.837Z"
   },
   {
    "duration": 5,
    "start_time": "2022-09-07T10:27:15.593Z"
   },
   {
    "duration": 10,
    "start_time": "2022-09-07T10:27:41.461Z"
   },
   {
    "duration": 5,
    "start_time": "2022-09-07T10:40:46.931Z"
   },
   {
    "duration": 262,
    "start_time": "2022-09-07T10:41:10.028Z"
   },
   {
    "duration": 5,
    "start_time": "2022-09-07T10:41:12.188Z"
   },
   {
    "duration": 12,
    "start_time": "2022-09-07T10:42:47.167Z"
   },
   {
    "duration": 7,
    "start_time": "2022-09-07T10:54:59.953Z"
   },
   {
    "duration": 7,
    "start_time": "2022-09-07T10:56:04.193Z"
   },
   {
    "duration": 207,
    "start_time": "2022-09-07T10:56:37.588Z"
   },
   {
    "duration": 7,
    "start_time": "2022-09-07T10:56:48.292Z"
   },
   {
    "duration": 305,
    "start_time": "2022-09-07T10:56:50.799Z"
   },
   {
    "duration": 9,
    "start_time": "2022-09-07T10:59:25.544Z"
   },
   {
    "duration": 10,
    "start_time": "2022-09-07T11:00:15.624Z"
   },
   {
    "duration": 6,
    "start_time": "2022-09-07T11:00:27.215Z"
   },
   {
    "duration": 10,
    "start_time": "2022-09-07T11:00:43.441Z"
   },
   {
    "duration": 5,
    "start_time": "2022-09-07T11:01:01.116Z"
   },
   {
    "duration": 11,
    "start_time": "2022-09-07T11:01:41.801Z"
   },
   {
    "duration": 9,
    "start_time": "2022-09-07T11:01:53.709Z"
   },
   {
    "duration": 10,
    "start_time": "2022-09-07T11:01:58.145Z"
   },
   {
    "duration": 8,
    "start_time": "2022-09-07T11:55:16.389Z"
   },
   {
    "duration": 298,
    "start_time": "2022-09-07T11:56:51.552Z"
   },
   {
    "duration": 15,
    "start_time": "2022-09-07T11:57:41.900Z"
   },
   {
    "duration": 278,
    "start_time": "2022-09-07T11:58:07.603Z"
   },
   {
    "duration": 6,
    "start_time": "2022-09-07T12:01:54.539Z"
   },
   {
    "duration": 10,
    "start_time": "2022-09-07T12:02:34.135Z"
   },
   {
    "duration": 11,
    "start_time": "2022-09-07T12:02:51.745Z"
   },
   {
    "duration": 11,
    "start_time": "2022-09-07T12:04:31.100Z"
   },
   {
    "duration": 10,
    "start_time": "2022-09-07T12:04:56.985Z"
   },
   {
    "duration": 12,
    "start_time": "2022-09-07T12:05:01.237Z"
   },
   {
    "duration": 16,
    "start_time": "2022-09-07T12:16:04.163Z"
   },
   {
    "duration": 24,
    "start_time": "2022-09-07T12:16:17.403Z"
   },
   {
    "duration": 18,
    "start_time": "2022-09-07T12:16:26.143Z"
   },
   {
    "duration": 12,
    "start_time": "2022-09-07T12:18:41.050Z"
   },
   {
    "duration": 15,
    "start_time": "2022-09-07T12:19:06.400Z"
   },
   {
    "duration": 13,
    "start_time": "2022-09-07T12:19:20.674Z"
   },
   {
    "duration": 26,
    "start_time": "2022-09-07T12:20:21.396Z"
   },
   {
    "duration": 26,
    "start_time": "2022-09-07T12:21:13.151Z"
   },
   {
    "duration": 18,
    "start_time": "2022-09-07T12:21:28.224Z"
   },
   {
    "duration": 20,
    "start_time": "2022-09-07T12:21:38.219Z"
   },
   {
    "duration": 19,
    "start_time": "2022-09-07T12:23:30.284Z"
   },
   {
    "duration": 11,
    "start_time": "2022-09-07T12:24:31.500Z"
   },
   {
    "duration": 11,
    "start_time": "2022-09-07T12:25:06.420Z"
   },
   {
    "duration": 476,
    "start_time": "2022-09-07T12:30:26.937Z"
   },
   {
    "duration": 10,
    "start_time": "2022-09-07T12:31:38.473Z"
   },
   {
    "duration": 335,
    "start_time": "2022-09-07T12:31:47.856Z"
   },
   {
    "duration": 7,
    "start_time": "2022-09-07T12:35:22.175Z"
   },
   {
    "duration": 6,
    "start_time": "2022-09-07T12:35:36.633Z"
   },
   {
    "duration": 5,
    "start_time": "2022-09-07T12:35:42.208Z"
   },
   {
    "duration": 10,
    "start_time": "2022-09-07T12:35:48.233Z"
   },
   {
    "duration": 10,
    "start_time": "2022-09-07T12:35:51.594Z"
   },
   {
    "duration": 10,
    "start_time": "2022-09-07T12:35:56.750Z"
   },
   {
    "duration": 12,
    "start_time": "2022-09-07T12:36:02.023Z"
   },
   {
    "duration": 7,
    "start_time": "2022-09-07T12:36:57.145Z"
   },
   {
    "duration": 280,
    "start_time": "2022-09-07T12:37:03.410Z"
   },
   {
    "duration": 6,
    "start_time": "2022-09-07T12:37:09.473Z"
   },
   {
    "duration": 7,
    "start_time": "2022-09-07T12:37:16.015Z"
   },
   {
    "duration": 11,
    "start_time": "2022-09-07T12:37:17.874Z"
   },
   {
    "duration": 10,
    "start_time": "2022-09-07T12:37:23.749Z"
   },
   {
    "duration": 16,
    "start_time": "2022-09-07T12:37:27.096Z"
   },
   {
    "duration": 12,
    "start_time": "2022-09-07T12:37:31.478Z"
   },
   {
    "duration": 10,
    "start_time": "2022-09-07T12:37:44.605Z"
   },
   {
    "duration": 19,
    "start_time": "2022-09-07T12:38:05.612Z"
   },
   {
    "duration": 12,
    "start_time": "2022-09-07T12:38:16.001Z"
   },
   {
    "duration": 9,
    "start_time": "2022-09-07T12:38:21.894Z"
   },
   {
    "duration": 312,
    "start_time": "2022-09-07T12:39:29.408Z"
   },
   {
    "duration": 10,
    "start_time": "2022-09-07T12:46:49.660Z"
   },
   {
    "duration": 9,
    "start_time": "2022-09-07T12:46:58.644Z"
   },
   {
    "duration": 9,
    "start_time": "2022-09-07T12:47:13.563Z"
   },
   {
    "duration": 9,
    "start_time": "2022-09-07T12:48:03.755Z"
   },
   {
    "duration": 48,
    "start_time": "2022-09-07T15:30:35.507Z"
   },
   {
    "duration": 1245,
    "start_time": "2022-09-07T15:30:40.530Z"
   },
   {
    "duration": 107,
    "start_time": "2022-09-07T15:30:41.777Z"
   },
   {
    "duration": 12,
    "start_time": "2022-09-07T15:30:41.885Z"
   },
   {
    "duration": 23,
    "start_time": "2022-09-07T15:30:41.899Z"
   },
   {
    "duration": 12,
    "start_time": "2022-09-07T15:30:41.923Z"
   },
   {
    "duration": 27,
    "start_time": "2022-09-07T15:30:41.936Z"
   },
   {
    "duration": 27,
    "start_time": "2022-09-07T15:30:41.964Z"
   },
   {
    "duration": 10,
    "start_time": "2022-09-07T15:30:41.993Z"
   },
   {
    "duration": 7,
    "start_time": "2022-09-07T15:30:42.004Z"
   },
   {
    "duration": 16,
    "start_time": "2022-09-07T15:30:42.013Z"
   },
   {
    "duration": 5,
    "start_time": "2022-09-07T15:30:42.031Z"
   },
   {
    "duration": 8,
    "start_time": "2022-09-07T15:30:42.037Z"
   },
   {
    "duration": 8,
    "start_time": "2022-09-07T15:30:42.046Z"
   },
   {
    "duration": 7,
    "start_time": "2022-09-07T15:30:42.056Z"
   },
   {
    "duration": 14,
    "start_time": "2022-09-07T15:30:42.064Z"
   },
   {
    "duration": 18,
    "start_time": "2022-09-07T15:30:42.079Z"
   },
   {
    "duration": 19,
    "start_time": "2022-09-07T15:30:42.098Z"
   },
   {
    "duration": 15,
    "start_time": "2022-09-07T15:30:42.119Z"
   },
   {
    "duration": 26,
    "start_time": "2022-09-07T15:30:42.136Z"
   },
   {
    "duration": 12,
    "start_time": "2022-09-07T15:30:42.164Z"
   },
   {
    "duration": 196,
    "start_time": "2022-09-07T15:30:42.177Z"
   },
   {
    "duration": 15,
    "start_time": "2022-09-07T15:30:42.374Z"
   },
   {
    "duration": 8,
    "start_time": "2022-09-07T15:30:42.390Z"
   },
   {
    "duration": 251,
    "start_time": "2022-09-07T15:30:42.414Z"
   },
   {
    "duration": 33,
    "start_time": "2022-09-07T15:30:42.667Z"
   },
   {
    "duration": 3,
    "start_time": "2022-09-07T15:30:42.711Z"
   },
   {
    "duration": 1448,
    "start_time": "2022-09-07T15:30:42.717Z"
   },
   {
    "duration": 278,
    "start_time": "2022-09-07T15:30:44.169Z"
   },
   {
    "duration": 7,
    "start_time": "2022-09-07T15:30:44.448Z"
   },
   {
    "duration": 240,
    "start_time": "2022-09-07T15:30:44.456Z"
   },
   {
    "duration": 5,
    "start_time": "2022-09-07T15:30:44.698Z"
   },
   {
    "duration": 248,
    "start_time": "2022-09-07T15:30:44.704Z"
   },
   {
    "duration": 4,
    "start_time": "2022-09-07T15:30:44.953Z"
   },
   {
    "duration": 240,
    "start_time": "2022-09-07T15:30:44.959Z"
   },
   {
    "duration": 14,
    "start_time": "2022-09-07T15:30:45.201Z"
   },
   {
    "duration": 12,
    "start_time": "2022-09-07T15:30:45.216Z"
   },
   {
    "duration": 8,
    "start_time": "2022-09-07T15:30:45.230Z"
   },
   {
    "duration": 17,
    "start_time": "2022-09-07T15:30:45.239Z"
   },
   {
    "duration": 8,
    "start_time": "2022-09-07T15:30:45.258Z"
   },
   {
    "duration": 244,
    "start_time": "2022-09-07T15:30:45.267Z"
   },
   {
    "duration": 4,
    "start_time": "2022-09-07T15:30:45.512Z"
   },
   {
    "duration": 224,
    "start_time": "2022-09-07T15:30:45.518Z"
   },
   {
    "duration": 5,
    "start_time": "2022-09-07T15:30:45.744Z"
   },
   {
    "duration": 18,
    "start_time": "2022-09-07T15:30:45.750Z"
   },
   {
    "duration": 12,
    "start_time": "2022-09-07T15:30:45.769Z"
   },
   {
    "duration": 12,
    "start_time": "2022-09-07T15:30:45.782Z"
   },
   {
    "duration": 10,
    "start_time": "2022-09-07T15:30:45.796Z"
   },
   {
    "duration": 32,
    "start_time": "2022-09-07T15:30:45.807Z"
   },
   {
    "duration": 7,
    "start_time": "2022-09-07T15:30:45.841Z"
   },
   {
    "duration": 7,
    "start_time": "2022-09-07T15:30:45.850Z"
   },
   {
    "duration": 14,
    "start_time": "2022-09-07T15:30:45.859Z"
   },
   {
    "duration": 10,
    "start_time": "2022-09-07T15:30:45.875Z"
   },
   {
    "duration": 258,
    "start_time": "2022-09-07T15:30:45.887Z"
   },
   {
    "duration": 75,
    "start_time": "2022-09-07T15:30:46.147Z"
   },
   {
    "duration": 9,
    "start_time": "2022-09-07T15:31:29.571Z"
   },
   {
    "duration": 568,
    "start_time": "2022-09-07T15:33:39.513Z"
   },
   {
    "duration": 477,
    "start_time": "2022-09-07T15:45:20.189Z"
   },
   {
    "duration": 530,
    "start_time": "2022-09-07T15:49:52.743Z"
   },
   {
    "duration": 166,
    "start_time": "2022-09-07T15:51:21.801Z"
   },
   {
    "duration": 525,
    "start_time": "2022-09-07T15:52:22.224Z"
   },
   {
    "duration": 546,
    "start_time": "2022-09-07T15:55:19.682Z"
   },
   {
    "duration": 727,
    "start_time": "2022-09-07T17:49:22.528Z"
   },
   {
    "duration": 1782,
    "start_time": "2022-09-07T17:50:01.495Z"
   },
   {
    "duration": 14,
    "start_time": "2022-09-07T17:50:21.821Z"
   },
   {
    "duration": 12,
    "start_time": "2022-09-07T17:50:25.563Z"
   },
   {
    "duration": 77,
    "start_time": "2022-09-07T18:21:57.878Z"
   },
   {
    "duration": 53,
    "start_time": "2022-09-07T18:22:12.862Z"
   },
   {
    "duration": 177,
    "start_time": "2022-09-07T18:22:43.357Z"
   },
   {
    "duration": 576,
    "start_time": "2022-09-07T18:29:33.655Z"
   },
   {
    "duration": 55,
    "start_time": "2022-09-08T09:47:12.359Z"
   },
   {
    "duration": 1573,
    "start_time": "2022-09-08T09:47:16.700Z"
   },
   {
    "duration": 215,
    "start_time": "2022-09-08T09:47:18.275Z"
   },
   {
    "duration": 15,
    "start_time": "2022-09-08T09:47:18.492Z"
   },
   {
    "duration": 34,
    "start_time": "2022-09-08T09:47:18.509Z"
   },
   {
    "duration": 22,
    "start_time": "2022-09-08T09:47:18.545Z"
   },
   {
    "duration": 9,
    "start_time": "2022-09-08T09:47:18.569Z"
   },
   {
    "duration": 14,
    "start_time": "2022-09-08T09:47:18.580Z"
   },
   {
    "duration": 10,
    "start_time": "2022-09-08T09:47:18.596Z"
   },
   {
    "duration": 15,
    "start_time": "2022-09-08T09:47:18.608Z"
   },
   {
    "duration": 42,
    "start_time": "2022-09-08T09:47:18.626Z"
   },
   {
    "duration": 10,
    "start_time": "2022-09-08T09:47:18.669Z"
   },
   {
    "duration": 37,
    "start_time": "2022-09-08T09:47:18.681Z"
   },
   {
    "duration": 9,
    "start_time": "2022-09-08T09:47:18.720Z"
   },
   {
    "duration": 10,
    "start_time": "2022-09-08T09:47:18.731Z"
   },
   {
    "duration": 19,
    "start_time": "2022-09-08T09:47:18.743Z"
   },
   {
    "duration": 14,
    "start_time": "2022-09-08T09:47:18.764Z"
   },
   {
    "duration": 16,
    "start_time": "2022-09-08T09:47:18.780Z"
   },
   {
    "duration": 16,
    "start_time": "2022-09-08T09:47:18.798Z"
   },
   {
    "duration": 23,
    "start_time": "2022-09-08T09:47:18.816Z"
   },
   {
    "duration": 10,
    "start_time": "2022-09-08T09:47:18.840Z"
   },
   {
    "duration": 236,
    "start_time": "2022-09-08T09:47:18.852Z"
   },
   {
    "duration": 17,
    "start_time": "2022-09-08T09:47:19.090Z"
   },
   {
    "duration": 9,
    "start_time": "2022-09-08T09:47:19.109Z"
   },
   {
    "duration": 254,
    "start_time": "2022-09-08T09:47:19.120Z"
   },
   {
    "duration": 30,
    "start_time": "2022-09-08T09:47:19.375Z"
   },
   {
    "duration": 3,
    "start_time": "2022-09-08T09:47:19.407Z"
   },
   {
    "duration": 1762,
    "start_time": "2022-09-08T09:47:19.411Z"
   },
   {
    "duration": 334,
    "start_time": "2022-09-08T09:47:21.178Z"
   },
   {
    "duration": 10,
    "start_time": "2022-09-08T09:47:21.514Z"
   },
   {
    "duration": 296,
    "start_time": "2022-09-08T09:47:21.525Z"
   },
   {
    "duration": 5,
    "start_time": "2022-09-08T09:47:21.823Z"
   },
   {
    "duration": 283,
    "start_time": "2022-09-08T09:47:21.830Z"
   },
   {
    "duration": 6,
    "start_time": "2022-09-08T09:47:22.114Z"
   },
   {
    "duration": 284,
    "start_time": "2022-09-08T09:47:22.122Z"
   },
   {
    "duration": 11,
    "start_time": "2022-09-08T09:47:22.408Z"
   },
   {
    "duration": 12,
    "start_time": "2022-09-08T09:47:22.420Z"
   },
   {
    "duration": 10,
    "start_time": "2022-09-08T09:47:22.434Z"
   },
   {
    "duration": 13,
    "start_time": "2022-09-08T09:47:22.468Z"
   },
   {
    "duration": 8,
    "start_time": "2022-09-08T09:47:22.483Z"
   },
   {
    "duration": 286,
    "start_time": "2022-09-08T09:47:22.493Z"
   },
   {
    "duration": 5,
    "start_time": "2022-09-08T09:47:22.781Z"
   },
   {
    "duration": 269,
    "start_time": "2022-09-08T09:47:22.788Z"
   },
   {
    "duration": 10,
    "start_time": "2022-09-08T09:47:23.059Z"
   },
   {
    "duration": 15,
    "start_time": "2022-09-08T09:47:23.070Z"
   },
   {
    "duration": 18,
    "start_time": "2022-09-08T09:47:23.087Z"
   },
   {
    "duration": 13,
    "start_time": "2022-09-08T09:47:23.107Z"
   },
   {
    "duration": 12,
    "start_time": "2022-09-08T09:47:23.122Z"
   },
   {
    "duration": 34,
    "start_time": "2022-09-08T09:47:23.136Z"
   },
   {
    "duration": 12,
    "start_time": "2022-09-08T09:47:23.171Z"
   },
   {
    "duration": 12,
    "start_time": "2022-09-08T09:47:23.185Z"
   },
   {
    "duration": 10,
    "start_time": "2022-09-08T09:47:23.199Z"
   },
   {
    "duration": 9,
    "start_time": "2022-09-08T09:47:23.211Z"
   },
   {
    "duration": 325,
    "start_time": "2022-09-08T09:47:23.222Z"
   },
   {
    "duration": 684,
    "start_time": "2022-09-08T09:47:23.549Z"
   },
   {
    "duration": 605,
    "start_time": "2022-09-08T09:47:24.234Z"
   },
   {
    "duration": 538,
    "start_time": "2022-09-08T09:47:24.841Z"
   },
   {
    "duration": 100,
    "start_time": "2022-09-08T09:47:25.381Z"
   },
   {
    "duration": 32,
    "start_time": "2022-09-08T09:48:14.197Z"
   },
   {
    "duration": 9,
    "start_time": "2022-09-08T09:48:39.200Z"
   },
   {
    "duration": 5,
    "start_time": "2022-09-08T09:52:20.519Z"
   },
   {
    "duration": 76,
    "start_time": "2022-09-08T09:55:39.083Z"
   },
   {
    "duration": 9,
    "start_time": "2022-09-08T09:57:31.886Z"
   },
   {
    "duration": 5,
    "start_time": "2022-09-08T09:58:09.900Z"
   },
   {
    "duration": 9,
    "start_time": "2022-09-08T10:44:41.748Z"
   },
   {
    "duration": 288,
    "start_time": "2022-09-08T10:45:46.244Z"
   },
   {
    "duration": 278,
    "start_time": "2022-09-08T10:46:17.383Z"
   },
   {
    "duration": 232,
    "start_time": "2022-09-08T10:47:10.503Z"
   },
   {
    "duration": 9,
    "start_time": "2022-09-08T10:47:43.373Z"
   },
   {
    "duration": 16,
    "start_time": "2022-09-08T10:47:56.273Z"
   },
   {
    "duration": 1760,
    "start_time": "2022-09-08T10:48:55.834Z"
   },
   {
    "duration": 1763,
    "start_time": "2022-09-08T10:48:59.660Z"
   },
   {
    "duration": 240,
    "start_time": "2022-09-08T10:49:22.707Z"
   },
   {
    "duration": 226,
    "start_time": "2022-09-08T10:51:56.832Z"
   },
   {
    "duration": 246,
    "start_time": "2022-09-08T10:52:10.984Z"
   },
   {
    "duration": 340,
    "start_time": "2022-09-08T10:52:17.213Z"
   },
   {
    "duration": 27,
    "start_time": "2022-09-08T10:57:58.516Z"
   },
   {
    "duration": 9,
    "start_time": "2022-09-08T10:58:09.668Z"
   },
   {
    "duration": 89,
    "start_time": "2022-09-08T10:58:09.681Z"
   },
   {
    "duration": 16,
    "start_time": "2022-09-08T10:58:09.772Z"
   },
   {
    "duration": 33,
    "start_time": "2022-09-08T10:58:09.791Z"
   },
   {
    "duration": 52,
    "start_time": "2022-09-08T10:58:09.826Z"
   },
   {
    "duration": 14,
    "start_time": "2022-09-08T10:58:09.885Z"
   },
   {
    "duration": 3,
    "start_time": "2022-09-08T10:58:09.901Z"
   },
   {
    "duration": 11,
    "start_time": "2022-09-08T10:58:09.906Z"
   },
   {
    "duration": 11,
    "start_time": "2022-09-08T10:58:09.919Z"
   },
   {
    "duration": 44,
    "start_time": "2022-09-08T10:58:09.931Z"
   },
   {
    "duration": 7,
    "start_time": "2022-09-08T10:58:09.977Z"
   },
   {
    "duration": 18,
    "start_time": "2022-09-08T10:58:09.986Z"
   },
   {
    "duration": 11,
    "start_time": "2022-09-08T10:58:10.006Z"
   },
   {
    "duration": 7,
    "start_time": "2022-09-08T10:58:10.022Z"
   },
   {
    "duration": 12,
    "start_time": "2022-09-08T10:58:10.031Z"
   },
   {
    "duration": 25,
    "start_time": "2022-09-08T10:58:10.045Z"
   },
   {
    "duration": 15,
    "start_time": "2022-09-08T10:58:10.073Z"
   },
   {
    "duration": 11,
    "start_time": "2022-09-08T10:58:10.090Z"
   },
   {
    "duration": 18,
    "start_time": "2022-09-08T10:58:10.103Z"
   },
   {
    "duration": 18,
    "start_time": "2022-09-08T10:58:10.123Z"
   },
   {
    "duration": 326,
    "start_time": "2022-09-08T10:58:10.142Z"
   },
   {
    "duration": 13,
    "start_time": "2022-09-08T10:58:10.470Z"
   },
   {
    "duration": 259,
    "start_time": "2022-09-08T10:58:10.485Z"
   },
   {
    "duration": 28,
    "start_time": "2022-09-08T10:58:10.746Z"
   },
   {
    "duration": 17,
    "start_time": "2022-09-08T10:58:10.777Z"
   },
   {
    "duration": 300,
    "start_time": "2022-09-08T10:58:10.796Z"
   },
   {
    "duration": 29,
    "start_time": "2022-09-08T10:58:11.098Z"
   },
   {
    "duration": 4,
    "start_time": "2022-09-08T10:58:11.129Z"
   },
   {
    "duration": 1808,
    "start_time": "2022-09-08T10:58:11.135Z"
   },
   {
    "duration": 520,
    "start_time": "2022-09-08T10:58:12.945Z"
   },
   {
    "duration": 10,
    "start_time": "2022-09-08T10:58:13.468Z"
   },
   {
    "duration": 323,
    "start_time": "2022-09-08T10:58:13.480Z"
   },
   {
    "duration": 6,
    "start_time": "2022-09-08T10:58:13.805Z"
   },
   {
    "duration": 435,
    "start_time": "2022-09-08T10:58:13.867Z"
   },
   {
    "duration": 6,
    "start_time": "2022-09-08T10:58:14.304Z"
   },
   {
    "duration": 313,
    "start_time": "2022-09-08T10:58:14.312Z"
   },
   {
    "duration": 10,
    "start_time": "2022-09-08T10:58:14.626Z"
   },
   {
    "duration": 17,
    "start_time": "2022-09-08T10:58:14.638Z"
   },
   {
    "duration": 20,
    "start_time": "2022-09-08T10:58:14.656Z"
   },
   {
    "duration": 16,
    "start_time": "2022-09-08T10:58:14.678Z"
   },
   {
    "duration": 7,
    "start_time": "2022-09-08T10:58:14.698Z"
   },
   {
    "duration": 316,
    "start_time": "2022-09-08T10:58:14.706Z"
   },
   {
    "duration": 6,
    "start_time": "2022-09-08T10:58:15.024Z"
   },
   {
    "duration": 320,
    "start_time": "2022-09-08T10:58:15.032Z"
   },
   {
    "duration": 7,
    "start_time": "2022-09-08T10:58:15.354Z"
   },
   {
    "duration": 23,
    "start_time": "2022-09-08T10:58:15.368Z"
   },
   {
    "duration": 18,
    "start_time": "2022-09-08T10:58:15.393Z"
   },
   {
    "duration": 19,
    "start_time": "2022-09-08T10:58:15.413Z"
   },
   {
    "duration": 15,
    "start_time": "2022-09-08T10:58:15.434Z"
   },
   {
    "duration": 46,
    "start_time": "2022-09-08T10:58:15.451Z"
   },
   {
    "duration": 9,
    "start_time": "2022-09-08T10:58:15.500Z"
   },
   {
    "duration": 18,
    "start_time": "2022-09-08T10:58:15.511Z"
   },
   {
    "duration": 33,
    "start_time": "2022-09-08T10:58:15.531Z"
   },
   {
    "duration": 35,
    "start_time": "2022-09-08T10:58:15.566Z"
   },
   {
    "duration": 353,
    "start_time": "2022-09-08T10:58:15.603Z"
   },
   {
    "duration": 669,
    "start_time": "2022-09-08T10:58:15.958Z"
   },
   {
    "duration": 771,
    "start_time": "2022-09-08T10:58:16.629Z"
   },
   {
    "duration": 645,
    "start_time": "2022-09-08T10:58:17.402Z"
   },
   {
    "duration": 20,
    "start_time": "2022-09-08T10:58:18.049Z"
   },
   {
    "duration": 9,
    "start_time": "2022-09-08T10:58:18.072Z"
   },
   {
    "duration": 16,
    "start_time": "2022-09-08T10:58:18.084Z"
   },
   {
    "duration": 6,
    "start_time": "2022-09-08T10:58:18.101Z"
   },
   {
    "duration": 32,
    "start_time": "2022-09-08T11:01:18.779Z"
   },
   {
    "duration": 241,
    "start_time": "2022-09-08T11:05:19.099Z"
   },
   {
    "duration": 3301,
    "start_time": "2022-09-08T11:06:02.202Z"
   },
   {
    "duration": 2524,
    "start_time": "2022-09-08T11:08:08.243Z"
   },
   {
    "duration": 3,
    "start_time": "2022-09-08T11:08:41.943Z"
   },
   {
    "duration": 67,
    "start_time": "2022-09-08T11:08:41.948Z"
   },
   {
    "duration": 13,
    "start_time": "2022-09-08T11:08:42.017Z"
   },
   {
    "duration": 40,
    "start_time": "2022-09-08T11:08:42.032Z"
   },
   {
    "duration": 16,
    "start_time": "2022-09-08T11:08:42.075Z"
   },
   {
    "duration": 12,
    "start_time": "2022-09-08T11:08:42.093Z"
   },
   {
    "duration": 5,
    "start_time": "2022-09-08T11:08:42.106Z"
   },
   {
    "duration": 10,
    "start_time": "2022-09-08T11:08:42.112Z"
   },
   {
    "duration": 46,
    "start_time": "2022-09-08T11:08:42.124Z"
   },
   {
    "duration": 18,
    "start_time": "2022-09-08T11:08:42.172Z"
   },
   {
    "duration": 5,
    "start_time": "2022-09-08T11:08:42.192Z"
   },
   {
    "duration": 8,
    "start_time": "2022-09-08T11:08:42.199Z"
   },
   {
    "duration": 6,
    "start_time": "2022-09-08T11:08:42.209Z"
   },
   {
    "duration": 6,
    "start_time": "2022-09-08T11:08:42.219Z"
   },
   {
    "duration": 8,
    "start_time": "2022-09-08T11:08:42.227Z"
   },
   {
    "duration": 6,
    "start_time": "2022-09-08T11:08:42.268Z"
   },
   {
    "duration": 10,
    "start_time": "2022-09-08T11:08:42.276Z"
   },
   {
    "duration": 7,
    "start_time": "2022-09-08T11:08:42.288Z"
   },
   {
    "duration": 33,
    "start_time": "2022-09-08T11:08:42.297Z"
   },
   {
    "duration": 13,
    "start_time": "2022-09-08T11:08:42.332Z"
   },
   {
    "duration": 278,
    "start_time": "2022-09-08T11:08:42.347Z"
   },
   {
    "duration": 10,
    "start_time": "2022-09-08T11:08:42.627Z"
   },
   {
    "duration": 259,
    "start_time": "2022-09-08T11:08:42.639Z"
   },
   {
    "duration": 19,
    "start_time": "2022-09-08T11:08:42.900Z"
   },
   {
    "duration": 10,
    "start_time": "2022-09-08T11:08:42.920Z"
   },
   {
    "duration": 254,
    "start_time": "2022-09-08T11:08:42.932Z"
   },
   {
    "duration": 32,
    "start_time": "2022-09-08T11:08:43.189Z"
   },
   {
    "duration": 3,
    "start_time": "2022-09-08T11:08:43.223Z"
   },
   {
    "duration": 1625,
    "start_time": "2022-09-08T11:08:43.227Z"
   },
   {
    "duration": 441,
    "start_time": "2022-09-08T11:08:44.854Z"
   },
   {
    "duration": 7,
    "start_time": "2022-09-08T11:08:45.297Z"
   },
   {
    "duration": 319,
    "start_time": "2022-09-08T11:08:45.306Z"
   },
   {
    "duration": 5,
    "start_time": "2022-09-08T11:08:45.628Z"
   },
   {
    "duration": 276,
    "start_time": "2022-09-08T11:08:45.635Z"
   },
   {
    "duration": 5,
    "start_time": "2022-09-08T11:08:45.913Z"
   },
   {
    "duration": 273,
    "start_time": "2022-09-08T11:08:45.920Z"
   },
   {
    "duration": 11,
    "start_time": "2022-09-08T11:08:46.194Z"
   },
   {
    "duration": 12,
    "start_time": "2022-09-08T11:08:46.207Z"
   },
   {
    "duration": 11,
    "start_time": "2022-09-08T11:08:46.221Z"
   },
   {
    "duration": 36,
    "start_time": "2022-09-08T11:08:46.233Z"
   },
   {
    "duration": 7,
    "start_time": "2022-09-08T11:08:46.273Z"
   },
   {
    "duration": 333,
    "start_time": "2022-09-08T11:08:46.281Z"
   },
   {
    "duration": 6,
    "start_time": "2022-09-08T11:08:46.617Z"
   },
   {
    "duration": 334,
    "start_time": "2022-09-08T11:08:46.626Z"
   },
   {
    "duration": 10,
    "start_time": "2022-09-08T11:08:46.962Z"
   },
   {
    "duration": 13,
    "start_time": "2022-09-08T11:08:46.974Z"
   },
   {
    "duration": 10,
    "start_time": "2022-09-08T11:08:46.989Z"
   },
   {
    "duration": 8,
    "start_time": "2022-09-08T11:08:47.001Z"
   },
   {
    "duration": 12,
    "start_time": "2022-09-08T11:08:47.011Z"
   },
   {
    "duration": 43,
    "start_time": "2022-09-08T11:08:47.025Z"
   },
   {
    "duration": 9,
    "start_time": "2022-09-08T11:08:47.069Z"
   },
   {
    "duration": 13,
    "start_time": "2022-09-08T11:08:47.079Z"
   },
   {
    "duration": 14,
    "start_time": "2022-09-08T11:08:47.093Z"
   },
   {
    "duration": 12,
    "start_time": "2022-09-08T11:08:47.109Z"
   },
   {
    "duration": 342,
    "start_time": "2022-09-08T11:08:47.123Z"
   },
   {
    "duration": 589,
    "start_time": "2022-09-08T11:08:47.467Z"
   },
   {
    "duration": 624,
    "start_time": "2022-09-08T11:08:48.057Z"
   },
   {
    "duration": 569,
    "start_time": "2022-09-08T11:08:48.683Z"
   },
   {
    "duration": 15,
    "start_time": "2022-09-08T11:08:49.254Z"
   },
   {
    "duration": 14,
    "start_time": "2022-09-08T11:08:49.271Z"
   },
   {
    "duration": 13,
    "start_time": "2022-09-08T11:08:49.286Z"
   },
   {
    "duration": 9,
    "start_time": "2022-09-08T11:08:49.301Z"
   },
   {
    "duration": 1780,
    "start_time": "2022-09-08T11:17:17.983Z"
   },
   {
    "duration": 292,
    "start_time": "2022-09-08T11:41:23.689Z"
   },
   {
    "duration": 1327,
    "start_time": "2022-09-08T13:03:00.637Z"
   },
   {
    "duration": 212,
    "start_time": "2022-09-08T13:03:01.966Z"
   },
   {
    "duration": 15,
    "start_time": "2022-09-08T13:03:02.180Z"
   },
   {
    "duration": 30,
    "start_time": "2022-09-08T13:03:02.197Z"
   },
   {
    "duration": 40,
    "start_time": "2022-09-08T13:03:02.229Z"
   },
   {
    "duration": 10,
    "start_time": "2022-09-08T13:03:02.271Z"
   },
   {
    "duration": 10,
    "start_time": "2022-09-08T13:03:02.283Z"
   },
   {
    "duration": 11,
    "start_time": "2022-09-08T13:03:02.295Z"
   },
   {
    "duration": 9,
    "start_time": "2022-09-08T13:03:02.308Z"
   },
   {
    "duration": 18,
    "start_time": "2022-09-08T13:03:02.321Z"
   },
   {
    "duration": 28,
    "start_time": "2022-09-08T13:03:02.341Z"
   },
   {
    "duration": 9,
    "start_time": "2022-09-08T13:03:02.372Z"
   },
   {
    "duration": 14,
    "start_time": "2022-09-08T13:03:02.383Z"
   },
   {
    "duration": 9,
    "start_time": "2022-09-08T13:03:02.399Z"
   },
   {
    "duration": 10,
    "start_time": "2022-09-08T13:03:02.410Z"
   },
   {
    "duration": 7,
    "start_time": "2022-09-08T13:03:02.422Z"
   },
   {
    "duration": 12,
    "start_time": "2022-09-08T13:03:02.431Z"
   },
   {
    "duration": 18,
    "start_time": "2022-09-08T13:03:02.445Z"
   },
   {
    "duration": 24,
    "start_time": "2022-09-08T13:03:02.465Z"
   },
   {
    "duration": 13,
    "start_time": "2022-09-08T13:03:02.490Z"
   },
   {
    "duration": 249,
    "start_time": "2022-09-08T13:03:02.505Z"
   },
   {
    "duration": 18,
    "start_time": "2022-09-08T13:03:02.755Z"
   },
   {
    "duration": 178,
    "start_time": "2022-09-08T13:03:02.774Z"
   },
   {
    "duration": 26,
    "start_time": "2022-09-08T13:03:02.954Z"
   },
   {
    "duration": 11,
    "start_time": "2022-09-08T13:03:02.981Z"
   },
   {
    "duration": 212,
    "start_time": "2022-09-08T13:03:02.994Z"
   },
   {
    "duration": 60,
    "start_time": "2022-09-08T13:03:03.208Z"
   },
   {
    "duration": 4,
    "start_time": "2022-09-08T13:03:03.273Z"
   },
   {
    "duration": 1414,
    "start_time": "2022-09-08T13:03:03.279Z"
   },
   {
    "duration": 248,
    "start_time": "2022-09-08T13:03:04.695Z"
   },
   {
    "duration": 7,
    "start_time": "2022-09-08T13:03:04.944Z"
   },
   {
    "duration": 212,
    "start_time": "2022-09-08T13:03:04.953Z"
   },
   {
    "duration": 5,
    "start_time": "2022-09-08T13:03:05.168Z"
   },
   {
    "duration": 219,
    "start_time": "2022-09-08T13:03:05.174Z"
   },
   {
    "duration": 4,
    "start_time": "2022-09-08T13:03:05.395Z"
   },
   {
    "duration": 207,
    "start_time": "2022-09-08T13:03:05.401Z"
   },
   {
    "duration": 9,
    "start_time": "2022-09-08T13:03:05.610Z"
   },
   {
    "duration": 13,
    "start_time": "2022-09-08T13:03:05.620Z"
   },
   {
    "duration": 34,
    "start_time": "2022-09-08T13:03:05.634Z"
   },
   {
    "duration": 14,
    "start_time": "2022-09-08T13:03:05.670Z"
   },
   {
    "duration": 10,
    "start_time": "2022-09-08T13:03:05.686Z"
   },
   {
    "duration": 220,
    "start_time": "2022-09-08T13:03:05.698Z"
   },
   {
    "duration": 5,
    "start_time": "2022-09-08T13:03:05.920Z"
   },
   {
    "duration": 203,
    "start_time": "2022-09-08T13:03:05.927Z"
   },
   {
    "duration": 6,
    "start_time": "2022-09-08T13:03:06.132Z"
   },
   {
    "duration": 15,
    "start_time": "2022-09-08T13:03:06.140Z"
   },
   {
    "duration": 18,
    "start_time": "2022-09-08T13:03:06.157Z"
   },
   {
    "duration": 15,
    "start_time": "2022-09-08T13:03:06.176Z"
   },
   {
    "duration": 13,
    "start_time": "2022-09-08T13:03:06.193Z"
   },
   {
    "duration": 24,
    "start_time": "2022-09-08T13:03:06.209Z"
   },
   {
    "duration": 9,
    "start_time": "2022-09-08T13:03:06.235Z"
   },
   {
    "duration": 30,
    "start_time": "2022-09-08T13:03:06.246Z"
   },
   {
    "duration": 15,
    "start_time": "2022-09-08T13:03:06.278Z"
   },
   {
    "duration": 20,
    "start_time": "2022-09-08T13:03:06.295Z"
   },
   {
    "duration": 316,
    "start_time": "2022-09-08T13:03:06.317Z"
   },
   {
    "duration": 540,
    "start_time": "2022-09-08T13:03:06.635Z"
   },
   {
    "duration": 433,
    "start_time": "2022-09-08T13:03:07.177Z"
   },
   {
    "duration": 422,
    "start_time": "2022-09-08T13:03:07.612Z"
   },
   {
    "duration": 10,
    "start_time": "2022-09-08T13:03:08.036Z"
   },
   {
    "duration": 6,
    "start_time": "2022-09-08T13:03:08.048Z"
   },
   {
    "duration": 10,
    "start_time": "2022-09-08T13:03:08.068Z"
   },
   {
    "duration": 6,
    "start_time": "2022-09-08T13:03:08.080Z"
   },
   {
    "duration": 5,
    "start_time": "2022-09-08T15:05:48.052Z"
   },
   {
    "duration": 17,
    "start_time": "2022-09-08T18:02:53.287Z"
   },
   {
    "duration": 1480,
    "start_time": "2022-09-08T18:03:01.189Z"
   },
   {
    "duration": 123,
    "start_time": "2022-09-08T18:03:02.671Z"
   },
   {
    "duration": 15,
    "start_time": "2022-09-08T18:03:02.796Z"
   },
   {
    "duration": 46,
    "start_time": "2022-09-08T18:03:02.813Z"
   },
   {
    "duration": 15,
    "start_time": "2022-09-08T18:03:02.861Z"
   },
   {
    "duration": 11,
    "start_time": "2022-09-08T18:03:02.878Z"
   },
   {
    "duration": 11,
    "start_time": "2022-09-08T18:03:02.891Z"
   },
   {
    "duration": 22,
    "start_time": "2022-09-08T18:03:02.904Z"
   },
   {
    "duration": 9,
    "start_time": "2022-09-08T18:03:02.928Z"
   },
   {
    "duration": 24,
    "start_time": "2022-09-08T18:03:02.940Z"
   },
   {
    "duration": 6,
    "start_time": "2022-09-08T18:03:02.966Z"
   },
   {
    "duration": 15,
    "start_time": "2022-09-08T18:03:02.973Z"
   },
   {
    "duration": 7,
    "start_time": "2022-09-08T18:03:02.990Z"
   },
   {
    "duration": 9,
    "start_time": "2022-09-08T18:03:02.999Z"
   },
   {
    "duration": 13,
    "start_time": "2022-09-08T18:03:03.010Z"
   },
   {
    "duration": 8,
    "start_time": "2022-09-08T18:03:03.025Z"
   },
   {
    "duration": 15,
    "start_time": "2022-09-08T18:03:03.035Z"
   },
   {
    "duration": 7,
    "start_time": "2022-09-08T18:03:03.051Z"
   },
   {
    "duration": 19,
    "start_time": "2022-09-08T18:03:03.060Z"
   },
   {
    "duration": 17,
    "start_time": "2022-09-08T18:03:03.081Z"
   },
   {
    "duration": 265,
    "start_time": "2022-09-08T18:03:03.099Z"
   },
   {
    "duration": 9,
    "start_time": "2022-09-08T18:03:03.365Z"
   },
   {
    "duration": 181,
    "start_time": "2022-09-08T18:03:03.376Z"
   },
   {
    "duration": 17,
    "start_time": "2022-09-08T18:03:03.559Z"
   },
   {
    "duration": 11,
    "start_time": "2022-09-08T18:03:03.578Z"
   },
   {
    "duration": 213,
    "start_time": "2022-09-08T18:03:03.591Z"
   },
   {
    "duration": 50,
    "start_time": "2022-09-08T18:03:03.806Z"
   },
   {
    "duration": 4,
    "start_time": "2022-09-08T18:03:03.861Z"
   },
   {
    "duration": 1485,
    "start_time": "2022-09-08T18:03:03.866Z"
   },
   {
    "duration": 251,
    "start_time": "2022-09-08T18:03:05.353Z"
   },
   {
    "duration": 7,
    "start_time": "2022-09-08T18:03:05.605Z"
   },
   {
    "duration": 222,
    "start_time": "2022-09-08T18:03:05.620Z"
   },
   {
    "duration": 5,
    "start_time": "2022-09-08T18:03:05.845Z"
   },
   {
    "duration": 224,
    "start_time": "2022-09-08T18:03:05.852Z"
   },
   {
    "duration": 5,
    "start_time": "2022-09-08T18:03:06.078Z"
   },
   {
    "duration": 234,
    "start_time": "2022-09-08T18:03:06.085Z"
   },
   {
    "duration": 10,
    "start_time": "2022-09-08T18:03:06.321Z"
   },
   {
    "duration": 12,
    "start_time": "2022-09-08T18:03:06.333Z"
   },
   {
    "duration": 12,
    "start_time": "2022-09-08T18:03:06.347Z"
   },
   {
    "duration": 16,
    "start_time": "2022-09-08T18:03:06.361Z"
   },
   {
    "duration": 11,
    "start_time": "2022-09-08T18:03:06.379Z"
   },
   {
    "duration": 251,
    "start_time": "2022-09-08T18:03:06.392Z"
   },
   {
    "duration": 6,
    "start_time": "2022-09-08T18:03:06.644Z"
   },
   {
    "duration": 217,
    "start_time": "2022-09-08T18:03:06.652Z"
   },
   {
    "duration": 6,
    "start_time": "2022-09-08T18:03:06.871Z"
   },
   {
    "duration": 14,
    "start_time": "2022-09-08T18:03:06.879Z"
   },
   {
    "duration": 13,
    "start_time": "2022-09-08T18:03:06.895Z"
   },
   {
    "duration": 15,
    "start_time": "2022-09-08T18:03:06.921Z"
   },
   {
    "duration": 14,
    "start_time": "2022-09-08T18:03:06.937Z"
   },
   {
    "duration": 20,
    "start_time": "2022-09-08T18:03:06.952Z"
   },
   {
    "duration": 9,
    "start_time": "2022-09-08T18:03:06.974Z"
   },
   {
    "duration": 37,
    "start_time": "2022-09-08T18:03:06.985Z"
   },
   {
    "duration": 10,
    "start_time": "2022-09-08T18:03:07.024Z"
   },
   {
    "duration": 18,
    "start_time": "2022-09-08T18:03:07.036Z"
   },
   {
    "duration": 264,
    "start_time": "2022-09-08T18:03:07.056Z"
   },
   {
    "duration": 523,
    "start_time": "2022-09-08T18:03:07.322Z"
   },
   {
    "duration": 467,
    "start_time": "2022-09-08T18:03:07.847Z"
   },
   {
    "duration": 433,
    "start_time": "2022-09-08T18:03:08.320Z"
   },
   {
    "duration": 9,
    "start_time": "2022-09-08T18:03:08.755Z"
   },
   {
    "duration": 11,
    "start_time": "2022-09-08T18:03:08.765Z"
   },
   {
    "duration": 13,
    "start_time": "2022-09-08T18:03:08.778Z"
   },
   {
    "duration": 6,
    "start_time": "2022-09-08T18:03:08.793Z"
   },
   {
    "duration": 47,
    "start_time": "2022-09-09T09:42:58.068Z"
   },
   {
    "duration": 1370,
    "start_time": "2022-09-09T09:43:04.429Z"
   },
   {
    "duration": 106,
    "start_time": "2022-09-09T09:43:05.801Z"
   },
   {
    "duration": 14,
    "start_time": "2022-09-09T09:43:05.908Z"
   },
   {
    "duration": 26,
    "start_time": "2022-09-09T09:43:05.924Z"
   },
   {
    "duration": 13,
    "start_time": "2022-09-09T09:43:05.951Z"
   },
   {
    "duration": 8,
    "start_time": "2022-09-09T09:43:05.966Z"
   },
   {
    "duration": 4,
    "start_time": "2022-09-09T09:43:05.975Z"
   },
   {
    "duration": 8,
    "start_time": "2022-09-09T09:43:06.010Z"
   },
   {
    "duration": 8,
    "start_time": "2022-09-09T09:43:06.019Z"
   },
   {
    "duration": 15,
    "start_time": "2022-09-09T09:43:06.029Z"
   },
   {
    "duration": 5,
    "start_time": "2022-09-09T09:43:06.046Z"
   },
   {
    "duration": 6,
    "start_time": "2022-09-09T09:43:06.052Z"
   },
   {
    "duration": 6,
    "start_time": "2022-09-09T09:43:06.060Z"
   },
   {
    "duration": 42,
    "start_time": "2022-09-09T09:43:06.067Z"
   },
   {
    "duration": 5,
    "start_time": "2022-09-09T09:43:06.111Z"
   },
   {
    "duration": 6,
    "start_time": "2022-09-09T09:43:06.118Z"
   },
   {
    "duration": 7,
    "start_time": "2022-09-09T09:43:06.126Z"
   },
   {
    "duration": 3,
    "start_time": "2022-09-09T09:43:06.135Z"
   },
   {
    "duration": 15,
    "start_time": "2022-09-09T09:43:06.140Z"
   },
   {
    "duration": 11,
    "start_time": "2022-09-09T09:43:06.156Z"
   },
   {
    "duration": 267,
    "start_time": "2022-09-09T09:43:06.168Z"
   },
   {
    "duration": 8,
    "start_time": "2022-09-09T09:43:06.437Z"
   },
   {
    "duration": 165,
    "start_time": "2022-09-09T09:43:06.446Z"
   },
   {
    "duration": 16,
    "start_time": "2022-09-09T09:43:06.612Z"
   },
   {
    "duration": 9,
    "start_time": "2022-09-09T09:43:06.629Z"
   },
   {
    "duration": 175,
    "start_time": "2022-09-09T09:43:06.640Z"
   },
   {
    "duration": 27,
    "start_time": "2022-09-09T09:43:06.816Z"
   },
   {
    "duration": 3,
    "start_time": "2022-09-09T09:43:06.846Z"
   },
   {
    "duration": 1258,
    "start_time": "2022-09-09T09:43:06.850Z"
   },
   {
    "duration": 216,
    "start_time": "2022-09-09T09:43:08.110Z"
   },
   {
    "duration": 7,
    "start_time": "2022-09-09T09:43:08.327Z"
   },
   {
    "duration": 190,
    "start_time": "2022-09-09T09:43:08.336Z"
   },
   {
    "duration": 5,
    "start_time": "2022-09-09T09:43:08.529Z"
   },
   {
    "duration": 220,
    "start_time": "2022-09-09T09:43:08.535Z"
   },
   {
    "duration": 5,
    "start_time": "2022-09-09T09:43:08.756Z"
   },
   {
    "duration": 176,
    "start_time": "2022-09-09T09:43:08.762Z"
   },
   {
    "duration": 12,
    "start_time": "2022-09-09T09:43:08.940Z"
   },
   {
    "duration": 28,
    "start_time": "2022-09-09T09:43:08.954Z"
   },
   {
    "duration": 12,
    "start_time": "2022-09-09T09:43:08.983Z"
   },
   {
    "duration": 29,
    "start_time": "2022-09-09T09:43:08.997Z"
   },
   {
    "duration": 10,
    "start_time": "2022-09-09T09:43:09.028Z"
   },
   {
    "duration": 175,
    "start_time": "2022-09-09T09:43:09.040Z"
   },
   {
    "duration": 5,
    "start_time": "2022-09-09T09:43:09.216Z"
   },
   {
    "duration": 193,
    "start_time": "2022-09-09T09:43:09.223Z"
   },
   {
    "duration": 8,
    "start_time": "2022-09-09T09:43:09.418Z"
   },
   {
    "duration": 15,
    "start_time": "2022-09-09T09:43:09.428Z"
   },
   {
    "duration": 11,
    "start_time": "2022-09-09T09:43:09.445Z"
   },
   {
    "duration": 12,
    "start_time": "2022-09-09T09:43:09.458Z"
   },
   {
    "duration": 9,
    "start_time": "2022-09-09T09:43:09.471Z"
   },
   {
    "duration": 49,
    "start_time": "2022-09-09T09:43:09.482Z"
   },
   {
    "duration": 8,
    "start_time": "2022-09-09T09:43:09.532Z"
   },
   {
    "duration": 17,
    "start_time": "2022-09-09T09:43:09.542Z"
   },
   {
    "duration": 11,
    "start_time": "2022-09-09T09:43:09.561Z"
   },
   {
    "duration": 16,
    "start_time": "2022-09-09T09:43:09.574Z"
   },
   {
    "duration": 291,
    "start_time": "2022-09-09T09:43:09.592Z"
   },
   {
    "duration": 605,
    "start_time": "2022-09-09T09:43:09.884Z"
   },
   {
    "duration": 548,
    "start_time": "2022-09-09T09:43:10.490Z"
   },
   {
    "duration": 497,
    "start_time": "2022-09-09T09:43:11.039Z"
   },
   {
    "duration": 8,
    "start_time": "2022-09-09T09:43:11.537Z"
   },
   {
    "duration": 10,
    "start_time": "2022-09-09T09:43:11.546Z"
   },
   {
    "duration": 10,
    "start_time": "2022-09-09T09:43:11.557Z"
   },
   {
    "duration": 4,
    "start_time": "2022-09-09T09:43:11.568Z"
   },
   {
    "duration": 296,
    "start_time": "2022-09-09T09:43:35.353Z"
   },
   {
    "duration": 252,
    "start_time": "2022-09-09T09:43:52.128Z"
   },
   {
    "duration": 293,
    "start_time": "2022-09-09T09:48:25.271Z"
   },
   {
    "duration": 5,
    "start_time": "2022-09-09T10:25:51.542Z"
   },
   {
    "duration": 3,
    "start_time": "2022-09-09T10:25:57.245Z"
   },
   {
    "duration": 89,
    "start_time": "2022-09-09T10:25:57.251Z"
   },
   {
    "duration": 15,
    "start_time": "2022-09-09T10:25:57.342Z"
   },
   {
    "duration": 65,
    "start_time": "2022-09-09T10:25:57.359Z"
   },
   {
    "duration": 19,
    "start_time": "2022-09-09T10:25:57.426Z"
   },
   {
    "duration": 10,
    "start_time": "2022-09-09T10:25:57.448Z"
   },
   {
    "duration": 7,
    "start_time": "2022-09-09T10:25:57.460Z"
   },
   {
    "duration": 40,
    "start_time": "2022-09-09T10:25:57.469Z"
   },
   {
    "duration": 14,
    "start_time": "2022-09-09T10:25:57.511Z"
   },
   {
    "duration": 116,
    "start_time": "2022-09-09T10:25:57.527Z"
   },
   {
    "duration": 5,
    "start_time": "2022-09-09T10:25:57.645Z"
   },
   {
    "duration": 13,
    "start_time": "2022-09-09T10:25:57.652Z"
   },
   {
    "duration": 11,
    "start_time": "2022-09-09T10:25:57.667Z"
   },
   {
    "duration": 9,
    "start_time": "2022-09-09T10:25:57.679Z"
   },
   {
    "duration": 23,
    "start_time": "2022-09-09T10:25:57.690Z"
   },
   {
    "duration": 7,
    "start_time": "2022-09-09T10:25:57.714Z"
   },
   {
    "duration": 9,
    "start_time": "2022-09-09T10:25:57.723Z"
   },
   {
    "duration": 13,
    "start_time": "2022-09-09T10:25:57.733Z"
   },
   {
    "duration": 7,
    "start_time": "2022-09-09T10:25:57.748Z"
   },
   {
    "duration": 18,
    "start_time": "2022-09-09T10:25:57.757Z"
   },
   {
    "duration": 16,
    "start_time": "2022-09-09T10:25:57.777Z"
   },
   {
    "duration": 258,
    "start_time": "2022-09-09T10:25:57.809Z"
   },
   {
    "duration": 9,
    "start_time": "2022-09-09T10:25:58.069Z"
   },
   {
    "duration": 230,
    "start_time": "2022-09-09T10:25:58.079Z"
   },
   {
    "duration": 16,
    "start_time": "2022-09-09T10:25:58.310Z"
   },
   {
    "duration": 9,
    "start_time": "2022-09-09T10:25:58.328Z"
   },
   {
    "duration": 227,
    "start_time": "2022-09-09T10:25:58.339Z"
   },
   {
    "duration": 27,
    "start_time": "2022-09-09T10:25:58.567Z"
   },
   {
    "duration": 3,
    "start_time": "2022-09-09T10:25:58.612Z"
   },
   {
    "duration": 1366,
    "start_time": "2022-09-09T10:25:58.617Z"
   },
   {
    "duration": 290,
    "start_time": "2022-09-09T10:25:59.984Z"
   },
   {
    "duration": 418,
    "start_time": "2022-09-09T10:26:00.275Z"
   },
   {
    "duration": 15,
    "start_time": "2022-09-09T10:26:00.696Z"
   },
   {
    "duration": 298,
    "start_time": "2022-09-09T10:26:00.714Z"
   },
   {
    "duration": 6,
    "start_time": "2022-09-09T10:26:01.014Z"
   },
   {
    "duration": 279,
    "start_time": "2022-09-09T10:26:01.022Z"
   },
   {
    "duration": 7,
    "start_time": "2022-09-09T10:26:01.303Z"
   },
   {
    "duration": 290,
    "start_time": "2022-09-09T10:26:01.312Z"
   },
   {
    "duration": 9,
    "start_time": "2022-09-09T10:26:01.609Z"
   },
   {
    "duration": 15,
    "start_time": "2022-09-09T10:26:01.620Z"
   },
   {
    "duration": 12,
    "start_time": "2022-09-09T10:26:01.637Z"
   },
   {
    "duration": 25,
    "start_time": "2022-09-09T10:26:01.651Z"
   },
   {
    "duration": 31,
    "start_time": "2022-09-09T10:26:01.678Z"
   },
   {
    "duration": 328,
    "start_time": "2022-09-09T10:26:01.711Z"
   },
   {
    "duration": 6,
    "start_time": "2022-09-09T10:26:02.041Z"
   },
   {
    "duration": 260,
    "start_time": "2022-09-09T10:26:02.049Z"
   },
   {
    "duration": 6,
    "start_time": "2022-09-09T10:26:02.311Z"
   },
   {
    "duration": 36,
    "start_time": "2022-09-09T10:26:02.318Z"
   },
   {
    "duration": 23,
    "start_time": "2022-09-09T10:26:02.356Z"
   },
   {
    "duration": 37,
    "start_time": "2022-09-09T10:26:02.381Z"
   },
   {
    "duration": 25,
    "start_time": "2022-09-09T10:26:02.420Z"
   },
   {
    "duration": 38,
    "start_time": "2022-09-09T10:26:02.447Z"
   },
   {
    "duration": 44,
    "start_time": "2022-09-09T10:26:02.487Z"
   },
   {
    "duration": 26,
    "start_time": "2022-09-09T10:26:02.533Z"
   },
   {
    "duration": 18,
    "start_time": "2022-09-09T10:26:02.561Z"
   },
   {
    "duration": 17,
    "start_time": "2022-09-09T10:26:02.581Z"
   },
   {
    "duration": 322,
    "start_time": "2022-09-09T10:26:02.599Z"
   },
   {
    "duration": 527,
    "start_time": "2022-09-09T10:26:02.923Z"
   },
   {
    "duration": 657,
    "start_time": "2022-09-09T10:26:03.452Z"
   },
   {
    "duration": 738,
    "start_time": "2022-09-09T10:26:04.111Z"
   },
   {
    "duration": 14,
    "start_time": "2022-09-09T10:26:04.851Z"
   },
   {
    "duration": 9,
    "start_time": "2022-09-09T10:26:04.867Z"
   },
   {
    "duration": 16,
    "start_time": "2022-09-09T10:26:04.877Z"
   },
   {
    "duration": 17,
    "start_time": "2022-09-09T10:26:04.895Z"
   },
   {
    "duration": 594,
    "start_time": "2022-09-09T10:52:21.942Z"
   },
   {
    "duration": 591,
    "start_time": "2022-09-09T10:52:57.680Z"
   },
   {
    "duration": 202,
    "start_time": "2022-09-09T11:11:45.961Z"
   },
   {
    "duration": 6,
    "start_time": "2022-09-09T11:22:25.810Z"
   },
   {
    "duration": 8,
    "start_time": "2022-09-09T11:22:34.661Z"
   },
   {
    "duration": 8,
    "start_time": "2022-09-09T11:25:03.105Z"
   },
   {
    "duration": 7,
    "start_time": "2022-09-09T11:25:11.434Z"
   },
   {
    "duration": 75,
    "start_time": "2022-09-09T11:26:01.170Z"
   },
   {
    "duration": 9,
    "start_time": "2022-09-09T11:26:46.926Z"
   },
   {
    "duration": 26,
    "start_time": "2022-09-09T11:27:51.397Z"
   },
   {
    "duration": 13,
    "start_time": "2022-09-09T11:28:07.839Z"
   },
   {
    "duration": 12,
    "start_time": "2022-09-09T11:28:38.992Z"
   },
   {
    "duration": 11,
    "start_time": "2022-09-09T11:29:23.937Z"
   },
   {
    "duration": 215,
    "start_time": "2022-09-09T11:35:00.835Z"
   },
   {
    "duration": 229,
    "start_time": "2022-09-09T11:35:56.056Z"
   },
   {
    "duration": 220,
    "start_time": "2022-09-09T11:39:48.650Z"
   },
   {
    "duration": 226,
    "start_time": "2022-09-09T11:40:33.523Z"
   },
   {
    "duration": 223,
    "start_time": "2022-09-09T11:41:09.421Z"
   },
   {
    "duration": 229,
    "start_time": "2022-09-09T11:42:30.024Z"
   },
   {
    "duration": 234,
    "start_time": "2022-09-09T11:43:30.039Z"
   },
   {
    "duration": 975,
    "start_time": "2022-09-09T11:44:31.577Z"
   },
   {
    "duration": 923,
    "start_time": "2022-09-09T11:44:51.555Z"
   },
   {
    "duration": 1060,
    "start_time": "2022-09-09T11:45:26.136Z"
   },
   {
    "duration": 226,
    "start_time": "2022-09-09T11:46:09.452Z"
   },
   {
    "duration": 1175,
    "start_time": "2022-09-09T11:46:34.560Z"
   },
   {
    "duration": 327,
    "start_time": "2022-09-09T11:46:43.780Z"
   },
   {
    "duration": 1665,
    "start_time": "2022-09-09T11:49:17.239Z"
   },
   {
    "duration": 234,
    "start_time": "2022-09-09T11:49:29.171Z"
   },
   {
    "duration": 40,
    "start_time": "2022-09-09T11:51:49.453Z"
   },
   {
    "duration": 63,
    "start_time": "2022-09-09T12:35:24.121Z"
   },
   {
    "duration": 27,
    "start_time": "2022-09-09T12:35:40.473Z"
   },
   {
    "duration": 41,
    "start_time": "2022-09-09T12:38:22.321Z"
   },
   {
    "duration": 11,
    "start_time": "2022-09-09T12:38:55.730Z"
   },
   {
    "duration": 23,
    "start_time": "2022-09-09T12:41:20.977Z"
   },
   {
    "duration": 5,
    "start_time": "2022-09-09T12:54:57.625Z"
   },
   {
    "duration": 14,
    "start_time": "2022-09-09T12:55:16.437Z"
   },
   {
    "duration": 12,
    "start_time": "2022-09-09T12:55:29.447Z"
   },
   {
    "duration": 11,
    "start_time": "2022-09-09T12:55:39.330Z"
   },
   {
    "duration": 11,
    "start_time": "2022-09-09T12:56:17.167Z"
   },
   {
    "duration": 15,
    "start_time": "2022-09-09T12:58:13.929Z"
   },
   {
    "duration": 1335,
    "start_time": "2022-09-09T13:00:52.588Z"
   },
   {
    "duration": 1329,
    "start_time": "2022-09-09T13:02:03.147Z"
   },
   {
    "duration": 980,
    "start_time": "2022-09-09T13:02:42.197Z"
   },
   {
    "duration": 4,
    "start_time": "2022-09-09T13:06:24.429Z"
   },
   {
    "duration": 69,
    "start_time": "2022-09-09T13:06:28.328Z"
   },
   {
    "duration": 18,
    "start_time": "2022-09-09T13:07:05.044Z"
   },
   {
    "duration": 33,
    "start_time": "2022-09-09T13:07:06.627Z"
   },
   {
    "duration": 20,
    "start_time": "2022-09-09T13:07:07.769Z"
   },
   {
    "duration": 12,
    "start_time": "2022-09-09T13:07:10.685Z"
   },
   {
    "duration": 35,
    "start_time": "2022-09-09T13:07:12.833Z"
   },
   {
    "duration": 25,
    "start_time": "2022-09-09T13:07:57.555Z"
   },
   {
    "duration": 45,
    "start_time": "2022-09-09T13:10:14.599Z"
   },
   {
    "duration": 17,
    "start_time": "2022-09-09T13:11:00.358Z"
   },
   {
    "duration": 31,
    "start_time": "2022-09-09T13:11:17.757Z"
   },
   {
    "duration": 1301,
    "start_time": "2022-09-09T13:12:16.521Z"
   },
   {
    "duration": 1221,
    "start_time": "2022-09-09T13:16:21.643Z"
   },
   {
    "duration": 5,
    "start_time": "2022-09-09T13:16:38.434Z"
   },
   {
    "duration": 5,
    "start_time": "2022-09-09T13:17:00.097Z"
   },
   {
    "duration": 1077,
    "start_time": "2022-09-09T13:17:10.177Z"
   },
   {
    "duration": 8,
    "start_time": "2022-09-09T13:17:48.740Z"
   },
   {
    "duration": 4,
    "start_time": "2022-09-09T13:19:04.478Z"
   },
   {
    "duration": 10,
    "start_time": "2022-09-09T13:21:05.474Z"
   },
   {
    "duration": 6,
    "start_time": "2022-09-09T13:21:34.826Z"
   },
   {
    "duration": 823,
    "start_time": "2022-09-09T13:21:52.532Z"
   },
   {
    "duration": 5,
    "start_time": "2022-09-09T13:22:15.033Z"
   },
   {
    "duration": 1555,
    "start_time": "2022-09-09T13:26:08.768Z"
   },
   {
    "duration": 4,
    "start_time": "2022-09-09T13:26:23.244Z"
   },
   {
    "duration": 82,
    "start_time": "2022-09-09T13:26:23.249Z"
   },
   {
    "duration": 17,
    "start_time": "2022-09-09T13:26:23.333Z"
   },
   {
    "duration": 29,
    "start_time": "2022-09-09T13:26:23.352Z"
   },
   {
    "duration": 33,
    "start_time": "2022-09-09T13:26:23.382Z"
   },
   {
    "duration": 18,
    "start_time": "2022-09-09T13:26:23.416Z"
   },
   {
    "duration": 27,
    "start_time": "2022-09-09T13:26:23.436Z"
   },
   {
    "duration": 5,
    "start_time": "2022-09-09T13:26:23.464Z"
   },
   {
    "duration": 53,
    "start_time": "2022-09-09T13:26:23.470Z"
   },
   {
    "duration": 4,
    "start_time": "2022-09-09T13:26:23.524Z"
   },
   {
    "duration": 11,
    "start_time": "2022-09-09T13:26:23.530Z"
   },
   {
    "duration": 16,
    "start_time": "2022-09-09T13:26:23.542Z"
   },
   {
    "duration": 21,
    "start_time": "2022-09-09T13:26:23.560Z"
   },
   {
    "duration": 4,
    "start_time": "2022-09-09T13:26:23.583Z"
   },
   {
    "duration": 13,
    "start_time": "2022-09-09T13:26:23.589Z"
   },
   {
    "duration": 16,
    "start_time": "2022-09-09T13:26:23.603Z"
   },
   {
    "duration": 14,
    "start_time": "2022-09-09T13:26:23.620Z"
   },
   {
    "duration": 11,
    "start_time": "2022-09-09T13:26:23.636Z"
   },
   {
    "duration": 15,
    "start_time": "2022-09-09T13:26:23.648Z"
   },
   {
    "duration": 10,
    "start_time": "2022-09-09T13:26:23.664Z"
   },
   {
    "duration": 15,
    "start_time": "2022-09-09T13:26:23.675Z"
   },
   {
    "duration": 9,
    "start_time": "2022-09-09T13:26:23.692Z"
   },
   {
    "duration": 33,
    "start_time": "2022-09-09T13:26:23.702Z"
   },
   {
    "duration": 13,
    "start_time": "2022-09-09T13:26:23.736Z"
   },
   {
    "duration": 255,
    "start_time": "2022-09-09T13:26:23.751Z"
   },
   {
    "duration": 0,
    "start_time": "2022-09-09T13:26:24.011Z"
   },
   {
    "duration": 0,
    "start_time": "2022-09-09T13:26:24.012Z"
   },
   {
    "duration": 0,
    "start_time": "2022-09-09T13:26:24.013Z"
   },
   {
    "duration": 0,
    "start_time": "2022-09-09T13:26:24.013Z"
   },
   {
    "duration": 0,
    "start_time": "2022-09-09T13:26:24.014Z"
   },
   {
    "duration": 0,
    "start_time": "2022-09-09T13:26:24.014Z"
   },
   {
    "duration": 0,
    "start_time": "2022-09-09T13:26:24.015Z"
   },
   {
    "duration": 0,
    "start_time": "2022-09-09T13:26:24.016Z"
   },
   {
    "duration": 0,
    "start_time": "2022-09-09T13:26:24.017Z"
   },
   {
    "duration": 0,
    "start_time": "2022-09-09T13:26:24.018Z"
   },
   {
    "duration": 0,
    "start_time": "2022-09-09T13:26:24.018Z"
   },
   {
    "duration": 0,
    "start_time": "2022-09-09T13:26:24.019Z"
   },
   {
    "duration": 0,
    "start_time": "2022-09-09T13:26:24.020Z"
   },
   {
    "duration": 0,
    "start_time": "2022-09-09T13:26:24.020Z"
   },
   {
    "duration": 0,
    "start_time": "2022-09-09T13:26:24.021Z"
   },
   {
    "duration": 0,
    "start_time": "2022-09-09T13:26:24.022Z"
   },
   {
    "duration": 0,
    "start_time": "2022-09-09T13:26:24.022Z"
   },
   {
    "duration": 0,
    "start_time": "2022-09-09T13:26:24.023Z"
   },
   {
    "duration": 0,
    "start_time": "2022-09-09T13:26:24.024Z"
   },
   {
    "duration": 0,
    "start_time": "2022-09-09T13:26:24.025Z"
   },
   {
    "duration": 0,
    "start_time": "2022-09-09T13:26:24.025Z"
   },
   {
    "duration": 0,
    "start_time": "2022-09-09T13:26:24.026Z"
   },
   {
    "duration": 0,
    "start_time": "2022-09-09T13:26:24.027Z"
   },
   {
    "duration": 0,
    "start_time": "2022-09-09T13:26:24.028Z"
   },
   {
    "duration": 0,
    "start_time": "2022-09-09T13:26:24.030Z"
   },
   {
    "duration": 0,
    "start_time": "2022-09-09T13:26:24.031Z"
   },
   {
    "duration": 0,
    "start_time": "2022-09-09T13:26:24.032Z"
   },
   {
    "duration": 0,
    "start_time": "2022-09-09T13:26:24.032Z"
   },
   {
    "duration": 0,
    "start_time": "2022-09-09T13:26:24.033Z"
   },
   {
    "duration": 0,
    "start_time": "2022-09-09T13:26:24.034Z"
   },
   {
    "duration": 0,
    "start_time": "2022-09-09T13:26:24.035Z"
   },
   {
    "duration": 0,
    "start_time": "2022-09-09T13:26:24.036Z"
   },
   {
    "duration": 0,
    "start_time": "2022-09-09T13:26:24.037Z"
   },
   {
    "duration": 0,
    "start_time": "2022-09-09T13:26:24.037Z"
   },
   {
    "duration": 0,
    "start_time": "2022-09-09T13:26:24.038Z"
   },
   {
    "duration": 0,
    "start_time": "2022-09-09T13:26:24.039Z"
   },
   {
    "duration": 0,
    "start_time": "2022-09-09T13:26:24.040Z"
   },
   {
    "duration": 0,
    "start_time": "2022-09-09T13:26:24.042Z"
   },
   {
    "duration": 0,
    "start_time": "2022-09-09T13:26:24.043Z"
   },
   {
    "duration": 0,
    "start_time": "2022-09-09T13:26:24.045Z"
   },
   {
    "duration": 0,
    "start_time": "2022-09-09T13:26:24.049Z"
   },
   {
    "duration": 0,
    "start_time": "2022-09-09T13:26:24.051Z"
   },
   {
    "duration": 0,
    "start_time": "2022-09-09T13:26:24.051Z"
   },
   {
    "duration": 0,
    "start_time": "2022-09-09T13:26:24.052Z"
   },
   {
    "duration": 0,
    "start_time": "2022-09-09T13:26:24.053Z"
   },
   {
    "duration": 57,
    "start_time": "2022-09-09T13:27:27.628Z"
   },
   {
    "duration": 57,
    "start_time": "2022-09-09T13:27:39.297Z"
   },
   {
    "duration": 11,
    "start_time": "2022-09-09T13:27:44.595Z"
   },
   {
    "duration": 222,
    "start_time": "2022-09-09T13:27:46.543Z"
   },
   {
    "duration": 88,
    "start_time": "2022-09-09T13:28:08.657Z"
   },
   {
    "duration": 6,
    "start_time": "2022-09-09T13:29:29.609Z"
   },
   {
    "duration": 66,
    "start_time": "2022-09-09T13:29:29.625Z"
   },
   {
    "duration": 13,
    "start_time": "2022-09-09T13:29:29.693Z"
   },
   {
    "duration": 37,
    "start_time": "2022-09-09T13:29:29.708Z"
   },
   {
    "duration": 12,
    "start_time": "2022-09-09T13:29:29.746Z"
   },
   {
    "duration": 19,
    "start_time": "2022-09-09T13:29:29.760Z"
   },
   {
    "duration": 50,
    "start_time": "2022-09-09T13:29:29.781Z"
   },
   {
    "duration": 5,
    "start_time": "2022-09-09T13:29:29.832Z"
   },
   {
    "duration": 15,
    "start_time": "2022-09-09T13:29:29.839Z"
   },
   {
    "duration": 9,
    "start_time": "2022-09-09T13:29:29.856Z"
   },
   {
    "duration": 13,
    "start_time": "2022-09-09T13:29:29.867Z"
   },
   {
    "duration": 11,
    "start_time": "2022-09-09T13:29:29.881Z"
   },
   {
    "duration": 45,
    "start_time": "2022-09-09T13:29:29.894Z"
   },
   {
    "duration": 7,
    "start_time": "2022-09-09T13:29:29.940Z"
   },
   {
    "duration": 7,
    "start_time": "2022-09-09T13:29:29.949Z"
   },
   {
    "duration": 11,
    "start_time": "2022-09-09T13:29:29.957Z"
   },
   {
    "duration": 11,
    "start_time": "2022-09-09T13:29:29.970Z"
   },
   {
    "duration": 5,
    "start_time": "2022-09-09T13:29:29.983Z"
   },
   {
    "duration": 16,
    "start_time": "2022-09-09T13:29:29.990Z"
   },
   {
    "duration": 35,
    "start_time": "2022-09-09T13:29:30.008Z"
   },
   {
    "duration": 10,
    "start_time": "2022-09-09T13:29:30.044Z"
   },
   {
    "duration": 19,
    "start_time": "2022-09-09T13:29:30.055Z"
   },
   {
    "duration": 16,
    "start_time": "2022-09-09T13:29:30.076Z"
   },
   {
    "duration": 10,
    "start_time": "2022-09-09T13:29:30.093Z"
   },
   {
    "duration": 63,
    "start_time": "2022-09-09T13:29:30.104Z"
   },
   {
    "duration": 0,
    "start_time": "2022-09-09T13:29:30.169Z"
   },
   {
    "duration": 0,
    "start_time": "2022-09-09T13:29:30.170Z"
   },
   {
    "duration": 0,
    "start_time": "2022-09-09T13:29:30.171Z"
   },
   {
    "duration": 0,
    "start_time": "2022-09-09T13:29:30.172Z"
   },
   {
    "duration": 0,
    "start_time": "2022-09-09T13:29:30.173Z"
   },
   {
    "duration": 0,
    "start_time": "2022-09-09T13:29:30.174Z"
   },
   {
    "duration": 0,
    "start_time": "2022-09-09T13:29:30.175Z"
   },
   {
    "duration": 0,
    "start_time": "2022-09-09T13:29:30.175Z"
   },
   {
    "duration": 0,
    "start_time": "2022-09-09T13:29:30.176Z"
   },
   {
    "duration": 0,
    "start_time": "2022-09-09T13:29:30.177Z"
   },
   {
    "duration": 0,
    "start_time": "2022-09-09T13:29:30.178Z"
   },
   {
    "duration": 1,
    "start_time": "2022-09-09T13:29:30.178Z"
   },
   {
    "duration": 0,
    "start_time": "2022-09-09T13:29:30.179Z"
   },
   {
    "duration": 0,
    "start_time": "2022-09-09T13:29:30.180Z"
   },
   {
    "duration": 0,
    "start_time": "2022-09-09T13:29:30.181Z"
   },
   {
    "duration": 0,
    "start_time": "2022-09-09T13:29:30.182Z"
   },
   {
    "duration": 1,
    "start_time": "2022-09-09T13:29:30.182Z"
   },
   {
    "duration": 0,
    "start_time": "2022-09-09T13:29:30.183Z"
   },
   {
    "duration": 0,
    "start_time": "2022-09-09T13:29:30.184Z"
   },
   {
    "duration": 0,
    "start_time": "2022-09-09T13:29:30.185Z"
   },
   {
    "duration": 0,
    "start_time": "2022-09-09T13:29:30.186Z"
   },
   {
    "duration": 0,
    "start_time": "2022-09-09T13:29:30.187Z"
   },
   {
    "duration": 0,
    "start_time": "2022-09-09T13:29:30.188Z"
   },
   {
    "duration": 0,
    "start_time": "2022-09-09T13:29:30.189Z"
   },
   {
    "duration": 0,
    "start_time": "2022-09-09T13:29:30.190Z"
   },
   {
    "duration": 0,
    "start_time": "2022-09-09T13:29:30.191Z"
   },
   {
    "duration": 0,
    "start_time": "2022-09-09T13:29:30.191Z"
   },
   {
    "duration": 0,
    "start_time": "2022-09-09T13:29:30.192Z"
   },
   {
    "duration": 0,
    "start_time": "2022-09-09T13:29:30.193Z"
   },
   {
    "duration": 0,
    "start_time": "2022-09-09T13:29:30.194Z"
   },
   {
    "duration": 0,
    "start_time": "2022-09-09T13:29:30.194Z"
   },
   {
    "duration": 0,
    "start_time": "2022-09-09T13:29:30.195Z"
   },
   {
    "duration": 0,
    "start_time": "2022-09-09T13:29:30.196Z"
   },
   {
    "duration": 0,
    "start_time": "2022-09-09T13:29:30.197Z"
   },
   {
    "duration": 0,
    "start_time": "2022-09-09T13:29:30.198Z"
   },
   {
    "duration": 0,
    "start_time": "2022-09-09T13:29:30.198Z"
   },
   {
    "duration": 0,
    "start_time": "2022-09-09T13:29:30.199Z"
   },
   {
    "duration": 0,
    "start_time": "2022-09-09T13:29:30.200Z"
   },
   {
    "duration": 0,
    "start_time": "2022-09-09T13:29:30.201Z"
   },
   {
    "duration": 0,
    "start_time": "2022-09-09T13:29:30.201Z"
   },
   {
    "duration": 0,
    "start_time": "2022-09-09T13:29:30.202Z"
   },
   {
    "duration": 0,
    "start_time": "2022-09-09T13:29:30.203Z"
   },
   {
    "duration": 0,
    "start_time": "2022-09-09T13:29:30.204Z"
   },
   {
    "duration": 0,
    "start_time": "2022-09-09T13:29:30.205Z"
   },
   {
    "duration": 0,
    "start_time": "2022-09-09T13:29:30.205Z"
   },
   {
    "duration": 61,
    "start_time": "2022-09-09T13:30:33.795Z"
   },
   {
    "duration": 56,
    "start_time": "2022-09-09T13:31:03.041Z"
   },
   {
    "duration": 3,
    "start_time": "2022-09-09T13:38:25.493Z"
   },
   {
    "duration": 90,
    "start_time": "2022-09-09T13:38:25.498Z"
   },
   {
    "duration": 14,
    "start_time": "2022-09-09T13:38:25.590Z"
   },
   {
    "duration": 33,
    "start_time": "2022-09-09T13:38:25.606Z"
   },
   {
    "duration": 14,
    "start_time": "2022-09-09T13:38:25.641Z"
   },
   {
    "duration": 18,
    "start_time": "2022-09-09T13:38:25.657Z"
   },
   {
    "duration": 65,
    "start_time": "2022-09-09T13:38:25.676Z"
   },
   {
    "duration": 4,
    "start_time": "2022-09-09T13:38:25.743Z"
   },
   {
    "duration": 10,
    "start_time": "2022-09-09T13:38:25.748Z"
   },
   {
    "duration": 3,
    "start_time": "2022-09-09T13:38:25.760Z"
   },
   {
    "duration": 9,
    "start_time": "2022-09-09T13:38:25.765Z"
   },
   {
    "duration": 7,
    "start_time": "2022-09-09T13:38:25.776Z"
   },
   {
    "duration": 18,
    "start_time": "2022-09-09T13:38:25.812Z"
   },
   {
    "duration": 9,
    "start_time": "2022-09-09T13:38:25.831Z"
   },
   {
    "duration": 12,
    "start_time": "2022-09-09T13:38:25.841Z"
   },
   {
    "duration": 6,
    "start_time": "2022-09-09T13:38:25.855Z"
   },
   {
    "duration": 7,
    "start_time": "2022-09-09T13:38:25.863Z"
   },
   {
    "duration": 6,
    "start_time": "2022-09-09T13:38:25.872Z"
   },
   {
    "duration": 6,
    "start_time": "2022-09-09T13:38:25.880Z"
   },
   {
    "duration": 7,
    "start_time": "2022-09-09T13:38:25.887Z"
   },
   {
    "duration": 29,
    "start_time": "2022-09-09T13:38:25.895Z"
   },
   {
    "duration": 14,
    "start_time": "2022-09-09T13:38:25.925Z"
   },
   {
    "duration": 16,
    "start_time": "2022-09-09T13:38:25.941Z"
   },
   {
    "duration": 17,
    "start_time": "2022-09-09T13:38:25.959Z"
   },
   {
    "duration": 171,
    "start_time": "2022-09-09T13:38:25.978Z"
   },
   {
    "duration": 0,
    "start_time": "2022-09-09T13:38:26.152Z"
   },
   {
    "duration": 0,
    "start_time": "2022-09-09T13:38:26.154Z"
   },
   {
    "duration": 0,
    "start_time": "2022-09-09T13:38:26.156Z"
   },
   {
    "duration": 0,
    "start_time": "2022-09-09T13:38:26.157Z"
   },
   {
    "duration": 0,
    "start_time": "2022-09-09T13:38:26.158Z"
   },
   {
    "duration": 0,
    "start_time": "2022-09-09T13:38:26.160Z"
   },
   {
    "duration": 0,
    "start_time": "2022-09-09T13:38:26.161Z"
   },
   {
    "duration": 0,
    "start_time": "2022-09-09T13:38:26.162Z"
   },
   {
    "duration": 0,
    "start_time": "2022-09-09T13:38:26.163Z"
   },
   {
    "duration": 0,
    "start_time": "2022-09-09T13:38:26.164Z"
   },
   {
    "duration": 0,
    "start_time": "2022-09-09T13:38:26.165Z"
   },
   {
    "duration": 0,
    "start_time": "2022-09-09T13:38:26.166Z"
   },
   {
    "duration": 0,
    "start_time": "2022-09-09T13:38:26.167Z"
   },
   {
    "duration": 0,
    "start_time": "2022-09-09T13:38:26.168Z"
   },
   {
    "duration": 0,
    "start_time": "2022-09-09T13:38:26.169Z"
   },
   {
    "duration": 0,
    "start_time": "2022-09-09T13:38:26.170Z"
   },
   {
    "duration": 0,
    "start_time": "2022-09-09T13:38:26.171Z"
   },
   {
    "duration": 0,
    "start_time": "2022-09-09T13:38:26.172Z"
   },
   {
    "duration": 0,
    "start_time": "2022-09-09T13:38:26.174Z"
   },
   {
    "duration": 1,
    "start_time": "2022-09-09T13:38:26.175Z"
   },
   {
    "duration": 0,
    "start_time": "2022-09-09T13:38:26.177Z"
   },
   {
    "duration": 0,
    "start_time": "2022-09-09T13:38:26.178Z"
   },
   {
    "duration": 0,
    "start_time": "2022-09-09T13:38:26.180Z"
   },
   {
    "duration": 0,
    "start_time": "2022-09-09T13:38:26.181Z"
   },
   {
    "duration": 0,
    "start_time": "2022-09-09T13:38:26.182Z"
   },
   {
    "duration": 0,
    "start_time": "2022-09-09T13:38:26.183Z"
   },
   {
    "duration": 0,
    "start_time": "2022-09-09T13:38:26.184Z"
   },
   {
    "duration": 0,
    "start_time": "2022-09-09T13:38:26.185Z"
   },
   {
    "duration": 0,
    "start_time": "2022-09-09T13:38:26.186Z"
   },
   {
    "duration": 0,
    "start_time": "2022-09-09T13:38:26.209Z"
   },
   {
    "duration": 0,
    "start_time": "2022-09-09T13:38:26.209Z"
   },
   {
    "duration": 0,
    "start_time": "2022-09-09T13:38:26.218Z"
   },
   {
    "duration": 0,
    "start_time": "2022-09-09T13:38:26.219Z"
   },
   {
    "duration": 0,
    "start_time": "2022-09-09T13:38:26.220Z"
   },
   {
    "duration": 0,
    "start_time": "2022-09-09T13:38:26.220Z"
   },
   {
    "duration": 0,
    "start_time": "2022-09-09T13:38:26.221Z"
   },
   {
    "duration": 0,
    "start_time": "2022-09-09T13:38:26.222Z"
   },
   {
    "duration": 0,
    "start_time": "2022-09-09T13:38:26.223Z"
   },
   {
    "duration": 0,
    "start_time": "2022-09-09T13:38:26.223Z"
   },
   {
    "duration": 0,
    "start_time": "2022-09-09T13:38:26.224Z"
   },
   {
    "duration": 0,
    "start_time": "2022-09-09T13:38:26.227Z"
   },
   {
    "duration": 0,
    "start_time": "2022-09-09T13:38:26.228Z"
   },
   {
    "duration": 0,
    "start_time": "2022-09-09T13:38:26.229Z"
   },
   {
    "duration": 0,
    "start_time": "2022-09-09T13:38:26.230Z"
   },
   {
    "duration": 0,
    "start_time": "2022-09-09T13:38:26.231Z"
   },
   {
    "duration": 60,
    "start_time": "2022-09-09T13:39:47.062Z"
   },
   {
    "duration": 3,
    "start_time": "2022-09-09T13:40:25.240Z"
   },
   {
    "duration": 95,
    "start_time": "2022-09-09T13:40:25.244Z"
   },
   {
    "duration": 14,
    "start_time": "2022-09-09T13:40:25.340Z"
   },
   {
    "duration": 24,
    "start_time": "2022-09-09T13:40:25.356Z"
   },
   {
    "duration": 18,
    "start_time": "2022-09-09T13:40:25.382Z"
   },
   {
    "duration": 26,
    "start_time": "2022-09-09T13:40:25.421Z"
   },
   {
    "duration": 40,
    "start_time": "2022-09-09T13:40:25.449Z"
   },
   {
    "duration": 4,
    "start_time": "2022-09-09T13:40:25.490Z"
   },
   {
    "duration": 10,
    "start_time": "2022-09-09T13:40:25.498Z"
   },
   {
    "duration": 8,
    "start_time": "2022-09-09T13:40:25.521Z"
   },
   {
    "duration": 11,
    "start_time": "2022-09-09T13:40:25.535Z"
   },
   {
    "duration": 8,
    "start_time": "2022-09-09T13:40:25.548Z"
   },
   {
    "duration": 12,
    "start_time": "2022-09-09T13:40:25.557Z"
   },
   {
    "duration": 5,
    "start_time": "2022-09-09T13:40:25.570Z"
   },
   {
    "duration": 10,
    "start_time": "2022-09-09T13:40:25.576Z"
   },
   {
    "duration": 15,
    "start_time": "2022-09-09T13:40:25.588Z"
   },
   {
    "duration": 29,
    "start_time": "2022-09-09T13:40:25.604Z"
   },
   {
    "duration": 30,
    "start_time": "2022-09-09T13:40:25.635Z"
   },
   {
    "duration": 14,
    "start_time": "2022-09-09T13:40:25.666Z"
   },
   {
    "duration": 13,
    "start_time": "2022-09-09T13:40:25.681Z"
   },
   {
    "duration": 7,
    "start_time": "2022-09-09T13:40:25.695Z"
   },
   {
    "duration": 5,
    "start_time": "2022-09-09T13:40:25.703Z"
   },
   {
    "duration": 39,
    "start_time": "2022-09-09T13:40:25.709Z"
   },
   {
    "duration": 10,
    "start_time": "2022-09-09T13:40:25.752Z"
   },
   {
    "duration": 85,
    "start_time": "2022-09-09T13:40:25.764Z"
   },
   {
    "duration": 0,
    "start_time": "2022-09-09T13:40:25.851Z"
   },
   {
    "duration": 0,
    "start_time": "2022-09-09T13:40:25.852Z"
   },
   {
    "duration": 0,
    "start_time": "2022-09-09T13:40:25.854Z"
   },
   {
    "duration": 0,
    "start_time": "2022-09-09T13:40:25.855Z"
   },
   {
    "duration": 0,
    "start_time": "2022-09-09T13:40:25.857Z"
   },
   {
    "duration": 0,
    "start_time": "2022-09-09T13:40:25.859Z"
   },
   {
    "duration": 0,
    "start_time": "2022-09-09T13:40:25.860Z"
   },
   {
    "duration": 0,
    "start_time": "2022-09-09T13:40:25.862Z"
   },
   {
    "duration": 0,
    "start_time": "2022-09-09T13:40:25.863Z"
   },
   {
    "duration": 1,
    "start_time": "2022-09-09T13:40:25.864Z"
   },
   {
    "duration": 0,
    "start_time": "2022-09-09T13:40:25.866Z"
   },
   {
    "duration": 0,
    "start_time": "2022-09-09T13:40:25.867Z"
   },
   {
    "duration": 0,
    "start_time": "2022-09-09T13:40:25.868Z"
   },
   {
    "duration": 0,
    "start_time": "2022-09-09T13:40:25.869Z"
   },
   {
    "duration": 0,
    "start_time": "2022-09-09T13:40:25.871Z"
   },
   {
    "duration": 0,
    "start_time": "2022-09-09T13:40:25.872Z"
   },
   {
    "duration": 0,
    "start_time": "2022-09-09T13:40:25.873Z"
   },
   {
    "duration": 0,
    "start_time": "2022-09-09T13:40:25.874Z"
   },
   {
    "duration": 0,
    "start_time": "2022-09-09T13:40:25.876Z"
   },
   {
    "duration": 0,
    "start_time": "2022-09-09T13:40:25.877Z"
   },
   {
    "duration": 0,
    "start_time": "2022-09-09T13:40:25.878Z"
   },
   {
    "duration": 0,
    "start_time": "2022-09-09T13:40:25.880Z"
   },
   {
    "duration": 0,
    "start_time": "2022-09-09T13:40:25.881Z"
   },
   {
    "duration": 0,
    "start_time": "2022-09-09T13:40:25.883Z"
   },
   {
    "duration": 0,
    "start_time": "2022-09-09T13:40:25.884Z"
   },
   {
    "duration": 0,
    "start_time": "2022-09-09T13:40:25.885Z"
   },
   {
    "duration": 0,
    "start_time": "2022-09-09T13:40:25.886Z"
   },
   {
    "duration": 0,
    "start_time": "2022-09-09T13:40:25.887Z"
   },
   {
    "duration": 0,
    "start_time": "2022-09-09T13:40:25.888Z"
   },
   {
    "duration": 0,
    "start_time": "2022-09-09T13:40:25.889Z"
   },
   {
    "duration": 0,
    "start_time": "2022-09-09T13:40:25.915Z"
   },
   {
    "duration": 0,
    "start_time": "2022-09-09T13:40:25.916Z"
   },
   {
    "duration": 0,
    "start_time": "2022-09-09T13:40:25.916Z"
   },
   {
    "duration": 0,
    "start_time": "2022-09-09T13:40:25.917Z"
   },
   {
    "duration": 0,
    "start_time": "2022-09-09T13:40:25.917Z"
   },
   {
    "duration": 0,
    "start_time": "2022-09-09T13:40:25.918Z"
   },
   {
    "duration": 0,
    "start_time": "2022-09-09T13:40:25.918Z"
   },
   {
    "duration": 0,
    "start_time": "2022-09-09T13:40:25.919Z"
   },
   {
    "duration": 0,
    "start_time": "2022-09-09T13:40:25.919Z"
   },
   {
    "duration": 0,
    "start_time": "2022-09-09T13:40:25.920Z"
   },
   {
    "duration": 0,
    "start_time": "2022-09-09T13:40:25.920Z"
   },
   {
    "duration": 0,
    "start_time": "2022-09-09T13:40:25.921Z"
   },
   {
    "duration": 0,
    "start_time": "2022-09-09T13:40:25.921Z"
   },
   {
    "duration": 0,
    "start_time": "2022-09-09T13:40:25.922Z"
   },
   {
    "duration": 0,
    "start_time": "2022-09-09T13:40:25.922Z"
   },
   {
    "duration": 232,
    "start_time": "2022-09-09T13:41:23.121Z"
   },
   {
    "duration": 3,
    "start_time": "2022-09-09T13:41:31.498Z"
   },
   {
    "duration": 94,
    "start_time": "2022-09-09T13:41:31.503Z"
   },
   {
    "duration": 20,
    "start_time": "2022-09-09T13:41:31.599Z"
   },
   {
    "duration": 31,
    "start_time": "2022-09-09T13:41:31.632Z"
   },
   {
    "duration": 13,
    "start_time": "2022-09-09T13:41:31.665Z"
   },
   {
    "duration": 16,
    "start_time": "2022-09-09T13:41:31.680Z"
   },
   {
    "duration": 45,
    "start_time": "2022-09-09T13:41:31.697Z"
   },
   {
    "duration": 12,
    "start_time": "2022-09-09T13:41:31.745Z"
   },
   {
    "duration": 12,
    "start_time": "2022-09-09T13:41:31.758Z"
   },
   {
    "duration": 6,
    "start_time": "2022-09-09T13:41:31.772Z"
   },
   {
    "duration": 13,
    "start_time": "2022-09-09T13:41:31.780Z"
   },
   {
    "duration": 11,
    "start_time": "2022-09-09T13:41:31.795Z"
   },
   {
    "duration": 36,
    "start_time": "2022-09-09T13:41:31.811Z"
   },
   {
    "duration": 96,
    "start_time": "2022-09-09T13:41:31.849Z"
   },
   {
    "duration": 8,
    "start_time": "2022-09-09T13:41:31.946Z"
   },
   {
    "duration": 14,
    "start_time": "2022-09-09T13:41:31.956Z"
   },
   {
    "duration": 12,
    "start_time": "2022-09-09T13:41:31.971Z"
   },
   {
    "duration": 9,
    "start_time": "2022-09-09T13:41:31.984Z"
   },
   {
    "duration": 10,
    "start_time": "2022-09-09T13:41:31.994Z"
   },
   {
    "duration": 57,
    "start_time": "2022-09-09T13:41:32.006Z"
   },
   {
    "duration": 8,
    "start_time": "2022-09-09T13:41:32.064Z"
   },
   {
    "duration": 10,
    "start_time": "2022-09-09T13:41:32.073Z"
   },
   {
    "duration": 17,
    "start_time": "2022-09-09T13:41:32.084Z"
   },
   {
    "duration": 40,
    "start_time": "2022-09-09T13:41:32.103Z"
   },
   {
    "duration": 231,
    "start_time": "2022-09-09T13:41:32.144Z"
   },
   {
    "duration": 7,
    "start_time": "2022-09-09T13:41:32.377Z"
   },
   {
    "duration": 253,
    "start_time": "2022-09-09T13:41:32.386Z"
   },
   {
    "duration": 16,
    "start_time": "2022-09-09T13:41:32.642Z"
   },
   {
    "duration": 107,
    "start_time": "2022-09-09T13:41:32.662Z"
   },
   {
    "duration": 267,
    "start_time": "2022-09-09T13:41:32.771Z"
   },
   {
    "duration": 27,
    "start_time": "2022-09-09T13:41:33.040Z"
   },
   {
    "duration": 4,
    "start_time": "2022-09-09T13:41:33.068Z"
   },
   {
    "duration": 1589,
    "start_time": "2022-09-09T13:41:33.073Z"
   },
   {
    "duration": 337,
    "start_time": "2022-09-09T13:41:34.664Z"
   },
   {
    "duration": 334,
    "start_time": "2022-09-09T13:41:35.003Z"
   },
   {
    "duration": 9,
    "start_time": "2022-09-09T13:41:35.339Z"
   },
   {
    "duration": 272,
    "start_time": "2022-09-09T13:41:35.350Z"
   },
   {
    "duration": 5,
    "start_time": "2022-09-09T13:41:35.624Z"
   },
   {
    "duration": 259,
    "start_time": "2022-09-09T13:41:35.631Z"
   },
   {
    "duration": 4,
    "start_time": "2022-09-09T13:41:35.892Z"
   },
   {
    "duration": 271,
    "start_time": "2022-09-09T13:41:35.898Z"
   },
   {
    "duration": 11,
    "start_time": "2022-09-09T13:41:36.171Z"
   },
   {
    "duration": 15,
    "start_time": "2022-09-09T13:41:36.184Z"
   },
   {
    "duration": 48,
    "start_time": "2022-09-09T13:41:36.201Z"
   },
   {
    "duration": 17,
    "start_time": "2022-09-09T13:41:36.251Z"
   },
   {
    "duration": 14,
    "start_time": "2022-09-09T13:41:36.270Z"
   },
   {
    "duration": 273,
    "start_time": "2022-09-09T13:41:36.287Z"
   },
   {
    "duration": 9,
    "start_time": "2022-09-09T13:41:36.562Z"
   },
   {
    "duration": 253,
    "start_time": "2022-09-09T13:41:36.572Z"
   },
   {
    "duration": 6,
    "start_time": "2022-09-09T13:41:36.827Z"
   },
   {
    "duration": 13,
    "start_time": "2022-09-09T13:41:36.834Z"
   },
   {
    "duration": 11,
    "start_time": "2022-09-09T13:41:36.849Z"
   },
   {
    "duration": 10,
    "start_time": "2022-09-09T13:41:36.861Z"
   },
   {
    "duration": 15,
    "start_time": "2022-09-09T13:41:36.872Z"
   },
   {
    "duration": 39,
    "start_time": "2022-09-09T13:41:36.889Z"
   },
   {
    "duration": 17,
    "start_time": "2022-09-09T13:41:36.930Z"
   },
   {
    "duration": 13,
    "start_time": "2022-09-09T13:41:36.950Z"
   },
   {
    "duration": 9,
    "start_time": "2022-09-09T13:41:36.964Z"
   },
   {
    "duration": 14,
    "start_time": "2022-09-09T13:41:36.974Z"
   },
   {
    "duration": 311,
    "start_time": "2022-09-09T13:41:36.990Z"
   },
   {
    "duration": 533,
    "start_time": "2022-09-09T13:41:37.303Z"
   },
   {
    "duration": 565,
    "start_time": "2022-09-09T13:41:37.838Z"
   },
   {
    "duration": 362,
    "start_time": "2022-09-09T13:41:38.415Z"
   },
   {
    "duration": 245,
    "start_time": "2022-09-09T13:41:38.778Z"
   },
   {
    "duration": 237,
    "start_time": "2022-09-09T13:41:39.025Z"
   },
   {
    "duration": 603,
    "start_time": "2022-09-09T13:41:39.264Z"
   },
   {
    "duration": 9,
    "start_time": "2022-09-09T13:41:39.868Z"
   },
   {
    "duration": 23,
    "start_time": "2022-09-09T13:41:39.879Z"
   },
   {
    "duration": 73,
    "start_time": "2022-09-09T13:41:39.904Z"
   },
   {
    "duration": 27,
    "start_time": "2022-09-09T13:41:39.978Z"
   },
   {
    "duration": 237,
    "start_time": "2022-09-09T13:42:38.736Z"
   },
   {
    "duration": 286,
    "start_time": "2022-09-09T13:43:14.596Z"
   },
   {
    "duration": 237,
    "start_time": "2022-09-09T13:44:47.747Z"
   },
   {
    "duration": 215,
    "start_time": "2022-09-09T13:45:26.858Z"
   },
   {
    "duration": 137,
    "start_time": "2022-09-09T14:12:50.314Z"
   },
   {
    "duration": 60,
    "start_time": "2022-09-09T14:16:30.993Z"
   },
   {
    "duration": 1539,
    "start_time": "2022-09-10T11:57:21.609Z"
   },
   {
    "duration": 116,
    "start_time": "2022-09-10T11:57:23.150Z"
   },
   {
    "duration": 16,
    "start_time": "2022-09-10T11:57:23.268Z"
   },
   {
    "duration": 44,
    "start_time": "2022-09-10T11:57:23.286Z"
   },
   {
    "duration": 15,
    "start_time": "2022-09-10T11:57:23.332Z"
   },
   {
    "duration": 23,
    "start_time": "2022-09-10T11:57:23.349Z"
   },
   {
    "duration": 70,
    "start_time": "2022-09-10T11:57:23.374Z"
   },
   {
    "duration": 5,
    "start_time": "2022-09-10T11:57:23.446Z"
   },
   {
    "duration": 26,
    "start_time": "2022-09-10T11:57:23.453Z"
   },
   {
    "duration": 7,
    "start_time": "2022-09-10T11:57:23.482Z"
   },
   {
    "duration": 26,
    "start_time": "2022-09-10T11:57:23.491Z"
   },
   {
    "duration": 22,
    "start_time": "2022-09-10T11:57:23.520Z"
   },
   {
    "duration": 32,
    "start_time": "2022-09-10T11:57:23.544Z"
   },
   {
    "duration": 25,
    "start_time": "2022-09-10T11:57:23.577Z"
   },
   {
    "duration": 30,
    "start_time": "2022-09-10T11:57:23.604Z"
   },
   {
    "duration": 19,
    "start_time": "2022-09-10T11:57:23.635Z"
   },
   {
    "duration": 12,
    "start_time": "2022-09-10T11:57:23.656Z"
   },
   {
    "duration": 18,
    "start_time": "2022-09-10T11:57:23.670Z"
   },
   {
    "duration": 12,
    "start_time": "2022-09-10T11:57:23.690Z"
   },
   {
    "duration": 12,
    "start_time": "2022-09-10T11:57:23.704Z"
   },
   {
    "duration": 12,
    "start_time": "2022-09-10T11:57:23.718Z"
   },
   {
    "duration": 19,
    "start_time": "2022-09-10T11:57:23.732Z"
   },
   {
    "duration": 30,
    "start_time": "2022-09-10T11:57:23.753Z"
   },
   {
    "duration": 17,
    "start_time": "2022-09-10T11:57:23.785Z"
   },
   {
    "duration": 257,
    "start_time": "2022-09-10T11:57:23.804Z"
   },
   {
    "duration": 9,
    "start_time": "2022-09-10T11:57:24.062Z"
   },
   {
    "duration": 181,
    "start_time": "2022-09-10T11:57:24.072Z"
   },
   {
    "duration": 17,
    "start_time": "2022-09-10T11:57:24.257Z"
   },
   {
    "duration": 16,
    "start_time": "2022-09-10T11:57:24.275Z"
   },
   {
    "duration": 255,
    "start_time": "2022-09-10T11:57:24.294Z"
   },
   {
    "duration": 31,
    "start_time": "2022-09-10T11:57:24.551Z"
   },
   {
    "duration": 3,
    "start_time": "2022-09-10T11:57:24.584Z"
   },
   {
    "duration": 1898,
    "start_time": "2022-09-10T11:57:24.589Z"
   },
   {
    "duration": 323,
    "start_time": "2022-09-10T11:57:26.488Z"
   },
   {
    "duration": 369,
    "start_time": "2022-09-10T11:57:26.820Z"
   },
   {
    "duration": 9,
    "start_time": "2022-09-10T11:57:27.191Z"
   },
   {
    "duration": 319,
    "start_time": "2022-09-10T11:57:27.202Z"
   },
   {
    "duration": 6,
    "start_time": "2022-09-10T11:57:27.523Z"
   },
   {
    "duration": 290,
    "start_time": "2022-09-10T11:57:27.530Z"
   },
   {
    "duration": 5,
    "start_time": "2022-09-10T11:57:27.822Z"
   },
   {
    "duration": 283,
    "start_time": "2022-09-10T11:57:27.829Z"
   },
   {
    "duration": 13,
    "start_time": "2022-09-10T11:57:28.114Z"
   },
   {
    "duration": 15,
    "start_time": "2022-09-10T11:57:28.128Z"
   },
   {
    "duration": 25,
    "start_time": "2022-09-10T11:57:28.145Z"
   },
   {
    "duration": 16,
    "start_time": "2022-09-10T11:57:28.171Z"
   },
   {
    "duration": 12,
    "start_time": "2022-09-10T11:57:28.188Z"
   },
   {
    "duration": 286,
    "start_time": "2022-09-10T11:57:28.202Z"
   },
   {
    "duration": 6,
    "start_time": "2022-09-10T11:57:28.489Z"
   },
   {
    "duration": 296,
    "start_time": "2022-09-10T11:57:28.497Z"
   },
   {
    "duration": 7,
    "start_time": "2022-09-10T11:57:28.794Z"
   },
   {
    "duration": 24,
    "start_time": "2022-09-10T11:57:28.802Z"
   },
   {
    "duration": 13,
    "start_time": "2022-09-10T11:57:28.828Z"
   },
   {
    "duration": 37,
    "start_time": "2022-09-10T11:57:28.843Z"
   },
   {
    "duration": 47,
    "start_time": "2022-09-10T11:57:28.882Z"
   },
   {
    "duration": 38,
    "start_time": "2022-09-10T11:57:28.931Z"
   },
   {
    "duration": 38,
    "start_time": "2022-09-10T11:57:28.971Z"
   },
   {
    "duration": 26,
    "start_time": "2022-09-10T11:57:29.011Z"
   },
   {
    "duration": 21,
    "start_time": "2022-09-10T11:57:29.039Z"
   },
   {
    "duration": 134,
    "start_time": "2022-09-10T11:57:29.063Z"
   },
   {
    "duration": 328,
    "start_time": "2022-09-10T11:57:29.199Z"
   },
   {
    "duration": 603,
    "start_time": "2022-09-10T11:57:29.529Z"
   },
   {
    "duration": 644,
    "start_time": "2022-09-10T11:57:30.134Z"
   },
   {
    "duration": 272,
    "start_time": "2022-09-10T11:57:30.780Z"
   },
   {
    "duration": 252,
    "start_time": "2022-09-10T11:57:31.054Z"
   },
   {
    "duration": 260,
    "start_time": "2022-09-10T11:57:31.308Z"
   },
   {
    "duration": 621,
    "start_time": "2022-09-10T11:57:31.570Z"
   },
   {
    "duration": 9,
    "start_time": "2022-09-10T11:57:32.193Z"
   },
   {
    "duration": 17,
    "start_time": "2022-09-10T11:57:32.204Z"
   },
   {
    "duration": 9,
    "start_time": "2022-09-10T11:57:32.223Z"
   },
   {
    "duration": 10,
    "start_time": "2022-09-10T11:57:32.234Z"
   },
   {
    "duration": 121,
    "start_time": "2022-09-10T12:01:11.350Z"
   },
   {
    "duration": 155,
    "start_time": "2023-02-14T15:14:50.805Z"
   }
  ],
  "kernelspec": {
   "display_name": "Python 3 (ipykernel)",
   "language": "python",
   "name": "python3"
  },
  "language_info": {
   "codemirror_mode": {
    "name": "ipython",
    "version": 3
   },
   "file_extension": ".py",
   "mimetype": "text/x-python",
   "name": "python",
   "nbconvert_exporter": "python",
   "pygments_lexer": "ipython3",
   "version": "3.9.13"
  },
  "toc": {
   "base_numbering": 1,
   "nav_menu": {},
   "number_sections": true,
   "sideBar": true,
   "skip_h1_title": true,
   "title_cell": "Table of Contents",
   "title_sidebar": "Contents",
   "toc_cell": false,
   "toc_position": {},
   "toc_section_display": true,
   "toc_window_display": true
  }
 },
 "nbformat": 4,
 "nbformat_minor": 2
}
