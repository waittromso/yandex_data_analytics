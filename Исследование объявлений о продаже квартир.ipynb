{
 "cells": [
  {
   "cell_type": "markdown",
   "metadata": {},
   "source": [
    "# Исследование объявлений о продаже квартир\n",
    "\n",
    "В вашем распоряжении данные сервиса Яндекс.Недвижимость — архив объявлений о продаже квартир в Санкт-Петербурге и соседних населённых пунктов за несколько лет. \n",
    "\n",
    "По каждой квартире на продажу доступны два вида данных. Первые вписаны пользователем, вторые — получены автоматически на основе картографических данных. Например, расстояние до центра, аэропорта, ближайшего парка и водоёма. \n",
    "\n",
    "<b>Задача</b> — выполнить предобработку данных и изучить их, чтобы найти интересные особенности и зависимости, которые существуют на рынке недвижимости. Научиться определять рыночную стоимость объектов недвижимости. \n",
    "\n",
    "<b>Описание данных</b>\n",
    "\n",
    "airports_nearest — расстояние до ближайшего аэропорта в метрах (м)\n",
    "\n",
    "balcony — число балконов\n",
    "\n",
    "ceiling_height — высота потолков (м)\n",
    "\n",
    "cityCenters_nearest — расстояние до центра города (м)\n",
    "\n",
    "days_exposition — сколько дней было размещено объявление (от публикации до снятия)\n",
    "\n",
    "first_day_exposition — дата публикации\n",
    "\n",
    "floor — этаж\n",
    "\n",
    "floors_total — всего этажей в доме\n",
    "\n",
    "is_apartment — апартаменты (булев тип)\n",
    "\n",
    "kitchen_area — площадь кухни в квадратных метрах (м²)\n",
    "\n",
    "last_price — цена на момент снятия с публикации\n",
    "\n",
    "living_area — жилая площадь в квадратных метрах (м²)\n",
    "\n",
    "locality_name — название населённого пункта\n",
    "\n",
    "open_plan — свободная планировка (булев тип)\n",
    "\n",
    "parks_around3000 — число парков в радиусе 3 км\n",
    "\n",
    "parks_nearest — расстояние до ближайшего парка (м)\n",
    "\n",
    "ponds_around3000 — число водоёмов в радиусе 3 км\n",
    "\n",
    "ponds_nearest — расстояние до ближайшего водоёма (м)\n",
    "\n",
    "rooms — число комнат\n",
    "\n",
    "studio — квартира-студия (булев тип)\n",
    "\n",
    "total_area — общая площадь квартиры в квадратных метрах (м²)\n",
    "\n",
    "total_images — число фотографий квартиры в объявлении"
   ]
  },
  {
   "cell_type": "markdown",
   "metadata": {},
   "source": [
    "# Исследование объявлений о продаже квартир\n",
    "\n",
    "В вашем распоряжении данные сервиса Яндекс.Недвижимость — архив объявлений о продаже квартир в Санкт-Петербурге и соседних населённых пунктов за несколько лет. Нужно научиться определять рыночную стоимость объектов недвижимости. Ваша задача — установить параметры. Это позволит построить автоматизированную систему: она отследит аномалии и мошенническую деятельность. \n",
    "\n",
    "По каждой квартире на продажу доступны два вида данных. Первые вписаны пользователем, вторые — получены автоматически на основе картографических данных. Например, расстояние до центра, аэропорта, ближайшего парка и водоёма. "
   ]
  },
  {
   "cell_type": "code",
   "execution_count": 1,
   "metadata": {},
   "outputs": [],
   "source": [
    "import warnings\n",
    "warnings.filterwarnings('ignore')"
   ]
  },
  {
   "cell_type": "markdown",
   "metadata": {},
   "source": [
    "### Откройте файл с данными и изучите общую информацию. "
   ]
  },
  {
   "cell_type": "code",
   "execution_count": 2,
   "metadata": {
    "scrolled": false
   },
   "outputs": [
    {
     "name": "stdout",
     "output_type": "stream",
     "text": [
      "   total_images  last_price  total_area first_day_exposition  rooms  \\\n",
      "0            20  13000000.0      108.00  2019-03-07T00:00:00      3   \n",
      "1             7   3350000.0       40.40  2018-12-04T00:00:00      1   \n",
      "2            10   5196000.0       56.00  2015-08-20T00:00:00      2   \n",
      "3             0  64900000.0      159.00  2015-07-24T00:00:00      3   \n",
      "4             2  10000000.0      100.00  2018-06-19T00:00:00      2   \n",
      "5            10   2890000.0       30.40  2018-09-10T00:00:00      1   \n",
      "6             6   3700000.0       37.30  2017-11-02T00:00:00      1   \n",
      "7             5   7915000.0       71.60  2019-04-18T00:00:00      2   \n",
      "8            20   2900000.0       33.16  2018-05-23T00:00:00      1   \n",
      "9            18   5400000.0       61.00  2017-02-26T00:00:00      3   \n",
      "\n",
      "   ceiling_height  floors_total  living_area  floor is_apartment  ...  \\\n",
      "0            2.70          16.0        51.00      8          NaN  ...   \n",
      "1             NaN          11.0        18.60      1          NaN  ...   \n",
      "2             NaN           5.0        34.30      4          NaN  ...   \n",
      "3             NaN          14.0          NaN      9          NaN  ...   \n",
      "4            3.03          14.0        32.00     13          NaN  ...   \n",
      "5             NaN          12.0        14.40      5          NaN  ...   \n",
      "6             NaN          26.0        10.60      6          NaN  ...   \n",
      "7             NaN          24.0          NaN     22          NaN  ...   \n",
      "8             NaN          27.0        15.43     26          NaN  ...   \n",
      "9            2.50           9.0        43.60      7          NaN  ...   \n",
      "\n",
      "   kitchen_area  balcony              locality_name  airports_nearest  \\\n",
      "0         25.00      NaN            Санкт-Петербург           18863.0   \n",
      "1         11.00      2.0             посёлок Шушары           12817.0   \n",
      "2          8.30      0.0            Санкт-Петербург           21741.0   \n",
      "3           NaN      0.0            Санкт-Петербург           28098.0   \n",
      "4         41.00      NaN            Санкт-Петербург           31856.0   \n",
      "5          9.10      NaN  городской посёлок Янино-1               NaN   \n",
      "6         14.40      1.0          посёлок Парголово           52996.0   \n",
      "7         18.90      2.0            Санкт-Петербург           23982.0   \n",
      "8          8.81      NaN             посёлок Мурино               NaN   \n",
      "9          6.50      2.0            Санкт-Петербург           50898.0   \n",
      "\n",
      "  cityCenters_nearest  parks_around3000  parks_nearest  ponds_around3000  \\\n",
      "0             16028.0               1.0          482.0               2.0   \n",
      "1             18603.0               0.0            NaN               0.0   \n",
      "2             13933.0               1.0           90.0               2.0   \n",
      "3              6800.0               2.0           84.0               3.0   \n",
      "4              8098.0               2.0          112.0               1.0   \n",
      "5                 NaN               NaN            NaN               NaN   \n",
      "6             19143.0               0.0            NaN               0.0   \n",
      "7             11634.0               0.0            NaN               0.0   \n",
      "8                 NaN               NaN            NaN               NaN   \n",
      "9             15008.0               0.0            NaN               0.0   \n",
      "\n",
      "   ponds_nearest  days_exposition  \n",
      "0          755.0              NaN  \n",
      "1            NaN             81.0  \n",
      "2          574.0            558.0  \n",
      "3          234.0            424.0  \n",
      "4           48.0            121.0  \n",
      "5            NaN             55.0  \n",
      "6            NaN            155.0  \n",
      "7            NaN              NaN  \n",
      "8            NaN            189.0  \n",
      "9            NaN            289.0  \n",
      "\n",
      "[10 rows x 22 columns]\n",
      "<class 'pandas.core.frame.DataFrame'>\n",
      "RangeIndex: 23699 entries, 0 to 23698\n",
      "Data columns (total 22 columns):\n",
      " #   Column                Non-Null Count  Dtype  \n",
      "---  ------                --------------  -----  \n",
      " 0   total_images          23699 non-null  int64  \n",
      " 1   last_price            23699 non-null  float64\n",
      " 2   total_area            23699 non-null  float64\n",
      " 3   first_day_exposition  23699 non-null  object \n",
      " 4   rooms                 23699 non-null  int64  \n",
      " 5   ceiling_height        14504 non-null  float64\n",
      " 6   floors_total          23613 non-null  float64\n",
      " 7   living_area           21796 non-null  float64\n",
      " 8   floor                 23699 non-null  int64  \n",
      " 9   is_apartment          2775 non-null   object \n",
      " 10  studio                23699 non-null  bool   \n",
      " 11  open_plan             23699 non-null  bool   \n",
      " 12  kitchen_area          21421 non-null  float64\n",
      " 13  balcony               12180 non-null  float64\n",
      " 14  locality_name         23650 non-null  object \n",
      " 15  airports_nearest      18157 non-null  float64\n",
      " 16  cityCenters_nearest   18180 non-null  float64\n",
      " 17  parks_around3000      18181 non-null  float64\n",
      " 18  parks_nearest         8079 non-null   float64\n",
      " 19  ponds_around3000      18181 non-null  float64\n",
      " 20  ponds_nearest         9110 non-null   float64\n",
      " 21  days_exposition       20518 non-null  float64\n",
      "dtypes: bool(2), float64(14), int64(3), object(3)\n",
      "memory usage: 3.7+ MB\n"
     ]
    }
   ],
   "source": [
    "import pandas as pd\n",
    "\n",
    "data = pd.read_csv('/datasets/real_estate_data.csv', sep='\\t')\n",
    "print(data.head(10))\n",
    "data.info()"
   ]
  },
  {
   "cell_type": "code",
   "execution_count": 75,
   "metadata": {},
   "outputs": [
    {
     "data": {
      "image/png": "[encoded data removed]",
      "text/plain": [
       "<Figure size 1440x1440 with 25 Axes>"
      ]
     },
     "metadata": {
      "needs_background": "light"
     },
     "output_type": "display_data"
    }
   ],
   "source": [
    "#построим гистограмму для всех столбцов\n",
    "data.hist(figsize=(20, 20));"
   ]
  },
  {
   "cell_type": "markdown",
   "metadata": {},
   "source": [
    "### Предобработка данных"
   ]
  },
  {
   "cell_type": "code",
   "execution_count": 4,
   "metadata": {},
   "outputs": [
    {
     "data": {
      "text/plain": [
       "total_images             0.000000\n",
       "open_plan                0.000000\n",
       "floor                    0.000000\n",
       "rooms                    0.000000\n",
       "studio                   0.000000\n",
       "total_area               0.000000\n",
       "last_price               0.000000\n",
       "first_day_exposition     0.000000\n",
       "locality_name            0.206760\n",
       "floors_total             0.362885\n",
       "living_area              8.029875\n",
       "kitchen_area             9.612220\n",
       "days_exposition         13.422507\n",
       "ponds_around3000        23.283683\n",
       "parks_around3000        23.283683\n",
       "cityCenters_nearest     23.287902\n",
       "airports_nearest        23.384953\n",
       "ceiling_height          38.799105\n",
       "balcony                 48.605426\n",
       "ponds_nearest           61.559559\n",
       "parks_nearest           65.909954\n",
       "is_apartment            88.290645\n",
       "dtype: float64"
      ]
     },
     "execution_count": 4,
     "metadata": {},
     "output_type": "execute_result"
    }
   ],
   "source": [
    "data.isna().sum().sort_values()/data.shape[0]*100"
   ]
  },
  {
   "cell_type": "code",
   "execution_count": 5,
   "metadata": {},
   "outputs": [],
   "source": [
    "data['last_price'] = data['last_price'].astype('int')\n",
    "#переведем тип данных в int"
   ]
  },
  {
   "cell_type": "code",
   "execution_count": 6,
   "metadata": {},
   "outputs": [],
   "source": [
    "data['first_day_exposition'] = pd.to_datetime(data['first_day_exposition'], format = '%Y-%m-%d') \n",
    "#переведем тип данных в формат даты"
   ]
  },
  {
   "cell_type": "code",
   "execution_count": 7,
   "metadata": {},
   "outputs": [
    {
     "data": {
      "text/plain": [
       "count    14504.000000\n",
       "mean         2.771499\n",
       "std          1.261056\n",
       "min          1.000000\n",
       "25%          2.520000\n",
       "50%          2.650000\n",
       "75%          2.800000\n",
       "max        100.000000\n",
       "Name: ceiling_height, dtype: float64"
      ]
     },
     "execution_count": 7,
     "metadata": {},
     "output_type": "execute_result"
    },
    {
     "data": {
      "image/png": "[encoded data removed]",
      "text/plain": [
       "<Figure size 360x360 with 1 Axes>"
      ]
     },
     "metadata": {
      "needs_background": "light"
     },
     "output_type": "display_data"
    }
   ],
   "source": [
    "#посмотрим на высоту потолков\n",
    "data['ceiling_height'].sort_values().plot(y = 'ceiling_height', kind = 'hist', bins = 30, figsize=(5,5))\n",
    "data['ceiling_height'].describe() "
   ]
  },
  {
   "cell_type": "code",
   "execution_count": 8,
   "metadata": {},
   "outputs": [],
   "source": [
    "#заменим пропуски в days_exposition и заменим тип данных\n",
    "data['days_exposition'] = data['days_exposition'].fillna(0).astype('int')"
   ]
  },
  {
   "cell_type": "code",
   "execution_count": 9,
   "metadata": {},
   "outputs": [
    {
     "name": "stdout",
     "output_type": "stream",
     "text": [
      "364\n",
      "['Санкт-Петербург' 'посёлок Шушары' 'городской посёлок Янино-1'\n",
      " 'посёлок Парголово' 'посёлок Мурино' 'Ломоносов' 'Сертолово' 'Петергоф'\n",
      " 'Пушкин' 'деревня Кудрово' 'Коммунар' 'Колпино'\n",
      " 'поселок городского типа Красный Бор' 'Гатчина' 'поселок Мурино'\n",
      " 'деревня Фёдоровское' 'Выборг' 'Кронштадт' 'Кировск'\n",
      " 'деревня Новое Девяткино' 'посёлок Металлострой'\n",
      " 'посёлок городского типа Лебяжье' 'посёлок городского типа Сиверский'\n",
      " 'поселок Молодцово' 'поселок городского типа Кузьмоловский'\n",
      " 'садовое товарищество Новая Ропша' 'Павловск' 'деревня Пикколово'\n",
      " 'Всеволожск' 'Волхов' 'Кингисепп' 'Приозерск' 'Сестрорецк'\n",
      " 'деревня Куттузи' 'посёлок Аннино' 'поселок городского типа Ефимовский'\n",
      " 'посёлок Плодовое' 'деревня Заклинье' 'поселок Торковичи'\n",
      " 'поселок Первомайское' 'Красное Село' 'посёлок Понтонный' 'Сясьстрой'\n",
      " 'деревня Старая' 'деревня Лесколово' 'посёлок Новый Свет' 'Сланцы'\n",
      " 'село Путилово' 'Ивангород' 'Мурино' 'Шлиссельбург' 'Никольское'\n",
      " 'Зеленогорск' 'Сосновый Бор' 'поселок Новый Свет' 'деревня Оржицы'\n",
      " 'деревня Кальтино' 'Кудрово' 'поселок Романовка' 'посёлок Бугры'\n",
      " 'поселок Бугры' 'поселок городского типа Рощино' 'Кириши' 'Луга'\n",
      " 'Волосово' 'Отрадное' 'село Павлово' 'поселок Оредеж' 'село Копорье'\n",
      " 'посёлок городского типа Красный Бор' 'посёлок Молодёжное' 'Тихвин'\n",
      " 'посёлок Победа' 'деревня Нурма' 'поселок городского типа Синявино'\n",
      " 'Тосно' 'посёлок городского типа Кузьмоловский' 'посёлок Стрельна'\n",
      " 'Бокситогорск' 'посёлок Александровская' 'деревня Лопухинка' 'Пикалёво'\n",
      " 'поселок Терволово' 'поселок городского типа Советский' 'Подпорожье'\n",
      " 'посёлок Петровское' 'посёлок городского типа Токсово' 'поселок Сельцо'\n",
      " 'посёлок городского типа Вырица' 'деревня Кипень' 'деревня Келози'\n",
      " 'деревня Вартемяги' 'посёлок Тельмана' 'поселок Севастьяново'\n",
      " 'городской поселок Большая Ижора' nan 'городской посёлок Павлово'\n",
      " 'деревня Агалатово' 'посёлок Новогорелово'\n",
      " 'городской посёлок Лесогорский' 'деревня Лаголово' 'поселок Цвелодубово'\n",
      " 'поселок городского типа Рахья' 'поселок городского типа Вырица'\n",
      " 'деревня Белогорка' 'поселок Заводской' 'городской посёлок Новоселье'\n",
      " 'деревня Большие Колпаны' 'деревня Горбунки' 'деревня Батово'\n",
      " 'деревня Заневка' 'деревня Иссад' 'Приморск'\n",
      " 'городской посёлок Фёдоровское' 'деревня Мистолово' 'Новая Ладога'\n",
      " 'поселок Зимитицы' 'поселок Барышево' 'деревня Разметелево'\n",
      " 'поселок городского типа имени Свердлова' 'деревня Пеники'\n",
      " 'поселок Рябово' 'деревня Пудомяги' 'поселок станции Корнево'\n",
      " 'деревня Низино' 'деревня Бегуницы' 'посёлок Поляны'\n",
      " 'городской посёлок Мга' 'поселок Елизаветино'\n",
      " 'посёлок городского типа Кузнечное' 'деревня Колтуши'\n",
      " 'поселок Запорожское' 'посёлок городского типа Рощино'\n",
      " 'деревня Гостилицы' 'деревня Малое Карлино' 'посёлок Мичуринское'\n",
      " 'посёлок городского типа имени Морозова' 'посёлок Песочный'\n",
      " 'посёлок Сосново' 'деревня Аро' 'поселок Ильичёво'\n",
      " 'посёлок городского типа Тайцы' 'деревня Малое Верево' 'деревня Извара'\n",
      " 'поселок станции Вещево' 'село Паша' 'деревня Калитино'\n",
      " 'посёлок городского типа Ульяновка' 'деревня Чудской Бор'\n",
      " 'поселок городского типа Дубровка' 'деревня Мины' 'поселок Войсковицы'\n",
      " 'посёлок городского типа имени Свердлова' 'деревня Коркино'\n",
      " 'посёлок Ропша' 'поселок городского типа Приладожский' 'посёлок Щеглово'\n",
      " 'посёлок Гаврилово' 'Лодейное Поле' 'деревня Рабитицы'\n",
      " 'поселок городского типа Никольский' 'деревня Кузьмолово'\n",
      " 'деревня Малые Колпаны' 'поселок Тельмана' 'посёлок Петро-Славянка'\n",
      " 'городской посёлок Назия' 'посёлок Репино' 'посёлок Ильичёво'\n",
      " 'поселок Углово' 'поселок Старая Малукса' 'садовое товарищество Рахья'\n",
      " 'поселок Аннино' 'поселок Победа' 'деревня Меньково'\n",
      " 'деревня Старые Бегуницы' 'посёлок Сапёрный' 'поселок Семрино'\n",
      " 'поселок Гаврилово' 'поселок Глажево' 'поселок Кобринское'\n",
      " 'деревня Гарболово' 'деревня Юкки' 'поселок станции Приветнинское'\n",
      " 'деревня Мануйлово' 'деревня Пчева' 'поселок Поляны' 'поселок Цвылёво'\n",
      " 'поселок Мельниково' 'посёлок Пудость' 'посёлок Усть-Луга' 'Светогорск'\n",
      " 'Любань' 'поселок Селезнёво' 'поселок городского типа Рябово'\n",
      " 'Каменногорск' 'деревня Кривко' 'поселок Глебычево' 'деревня Парицы'\n",
      " 'поселок Жилпосёлок' 'посёлок городского типа Мга'\n",
      " 'городской поселок Янино-1' 'посёлок Войскорово' 'село Никольское'\n",
      " 'посёлок Терволово' 'поселок Стеклянный' 'посёлок городского типа Важины'\n",
      " 'посёлок Мыза-Ивановка' 'село Русско-Высоцкое'\n",
      " 'поселок городского типа Лебяжье' 'поселок городского типа Форносово'\n",
      " 'село Старая Ладога' 'поселок Житково' 'городской посёлок Виллози'\n",
      " 'деревня Лампово' 'деревня Шпаньково' 'деревня Лаврики' 'посёлок Сумино'\n",
      " 'посёлок Возрождение' 'деревня Старосиверская' 'посёлок Кикерино'\n",
      " 'поселок Возрождение' 'деревня Старое Хинколово' 'посёлок Пригородный'\n",
      " 'посёлок Торфяное' 'городской посёлок Будогощь' 'поселок Суходолье'\n",
      " 'поселок Красная Долина' 'деревня Хапо-Ое'\n",
      " 'поселок городского типа Дружная Горка' 'поселок Лисий Нос'\n",
      " 'деревня Яльгелево' 'посёлок Стеклянный' 'село Рождествено'\n",
      " 'деревня Старополье' 'посёлок Левашово' 'деревня Сяськелево'\n",
      " 'деревня Камышовка'\n",
      " 'садоводческое некоммерческое товарищество Лесная Поляна'\n",
      " 'деревня Хязельки' 'поселок Жилгородок' 'посёлок городского типа Павлово'\n",
      " 'деревня Ялгино' 'поселок Новый Учхоз' 'городской посёлок Рощино'\n",
      " 'поселок Гончарово' 'поселок Почап' 'посёлок Сапёрное'\n",
      " 'посёлок Платформа 69-й километр' 'поселок Каложицы' 'деревня Фалилеево'\n",
      " 'деревня Пельгора' 'поселок городского типа Лесогорский'\n",
      " 'деревня Торошковичи' 'посёлок Белоостров' 'посёлок Алексеевка'\n",
      " 'поселок Серебрянский' 'поселок Лукаши' 'поселок Петровское'\n",
      " 'деревня Щеглово' 'поселок Мичуринское' 'деревня Тарасово'\n",
      " 'поселок Кингисеппский' 'посёлок при железнодорожной станции Вещево'\n",
      " 'поселок Ушаки' 'деревня Котлы' 'деревня Сижно' 'деревня Торосово'\n",
      " 'посёлок Форт Красная Горка' 'поселок городского типа Токсово'\n",
      " 'деревня Новолисино' 'посёлок станции Громово' 'деревня Глинка'\n",
      " 'посёлок Мельниково' 'поселок городского типа Назия'\n",
      " 'деревня Старая Пустошь' 'поселок Коммунары' 'поселок Починок'\n",
      " 'посёлок городского типа Вознесенье' 'деревня Разбегаево'\n",
      " 'посёлок городского типа Рябово' 'поселок Гладкое'\n",
      " 'посёлок при железнодорожной станции Приветнинское' 'поселок Тёсово-4'\n",
      " 'посёлок Жилгородок' 'деревня Бор' 'посёлок Коробицыно'\n",
      " 'деревня Большая Вруда' 'деревня Курковицы' 'посёлок Лисий Нос'\n",
      " 'городской посёлок Советский' 'посёлок Кобралово' 'деревня Суоранда'\n",
      " 'поселок Кобралово' 'поселок городского типа Кондратьево'\n",
      " 'коттеджный поселок Счастье' 'поселок Любань' 'деревня Реброво'\n",
      " 'деревня Зимитицы' 'деревня Тойворово' 'поселок Семиозерье'\n",
      " 'поселок Лесное' 'поселок Совхозный' 'поселок Усть-Луга'\n",
      " 'посёлок Ленинское' 'посёлок Суйда' 'посёлок городского типа Форносово'\n",
      " 'деревня Нижние Осельки' 'посёлок станции Свирь' 'поселок Перово'\n",
      " 'Высоцк' 'поселок Гарболово' 'село Шум' 'поселок Котельский'\n",
      " 'поселок станции Лужайка' 'деревня Большая Пустомержа'\n",
      " 'поселок Красносельское' 'деревня Вахнова Кара' 'деревня Пижма'\n",
      " 'коттеджный поселок Кивеннапа Север' 'поселок Коробицыно'\n",
      " 'поселок Ромашки' 'посёлок Перово' 'деревня Каськово' 'деревня Куровицы'\n",
      " 'посёлок Плоское' 'поселок Сумино'\n",
      " 'поселок городского типа Большая Ижора' 'поселок Кирпичное'\n",
      " 'деревня Ям-Тесово' 'деревня Раздолье' 'деревня Терпилицы'\n",
      " 'посёлок Шугозеро' 'деревня Ваганово' 'поселок Пушное'\n",
      " 'садовое товарищество Садко' 'посёлок Усть-Ижора' 'деревня Выскатка'\n",
      " 'городской посёлок Свирьстрой' 'поселок Громово' 'деревня Кисельня'\n",
      " 'посёлок Старая Малукса' 'деревня Трубников Бор' 'поселок Калитино'\n",
      " 'посёлок Высокоключевой' 'садовое товарищество Приладожский'\n",
      " 'посёлок Пансионат Зелёный Бор' 'деревня Ненимяки'\n",
      " 'поселок Пансионат Зелёный Бор' 'деревня Снегирёвка' 'деревня Рапполово'\n",
      " 'деревня Пустынка' 'поселок Рабитицы' 'деревня Большой Сабск'\n",
      " 'деревня Русско' 'деревня Лупполово' 'деревня Большое Рейзино'\n",
      " 'деревня Малая Романовка' 'поселок Дружноселье' 'поселок Пчевжа'\n",
      " 'поселок Володарское' 'деревня Нижняя' 'коттеджный посёлок Лесное'\n",
      " 'деревня Тихковицы' 'деревня Борисова Грива' 'посёлок Дзержинского']\n"
     ]
    }
   ],
   "source": [
    "print(data['locality_name'].nunique()) \n",
    "#узнаем кол-во уникальных значений в столбце 'locality_name'\n",
    "print(data['locality_name'].unique()) \n",
    "#в столбце с данными есть по крайней мере одна проблема - в том, что некоторые топонимы пишутся и через 'е', и через 'ё'"
   ]
  },
  {
   "cell_type": "code",
   "execution_count": 10,
   "metadata": {},
   "outputs": [
    {
     "name": "stdout",
     "output_type": "stream",
     "text": [
      "330\n"
     ]
    }
   ],
   "source": [
    "data['locality_name'] = data['locality_name'].str.replace('ё', 'е')\n",
    "print(data['locality_name'].nunique())\n",
    "#удалили 34 дубликата в топонимах"
   ]
  },
  {
   "cell_type": "code",
   "execution_count": 11,
   "metadata": {},
   "outputs": [],
   "source": [
    "data['locality_name'].isna().sum()\n",
    "#узнаем кол-во строк, где город не указан\n",
    "data = data.dropna(subset=['locality_name'])\n",
    "#удалим строки, где город не указан, т.к. такие объявления бесполезны при поиске квартиры\n",
    "   "
   ]
  },
  {
   "cell_type": "code",
   "execution_count": 12,
   "metadata": {},
   "outputs": [
    {
     "data": {
      "text/plain": [
       "0"
      ]
     },
     "execution_count": 12,
     "metadata": {},
     "output_type": "execute_result"
    }
   ],
   "source": [
    "#строк, где город не указан, больше нет\n",
    "data['locality_name'].isna().sum()"
   ]
  },
  {
   "cell_type": "code",
   "execution_count": 13,
   "metadata": {},
   "outputs": [],
   "source": [
    "#переименуем столбец, чтобы не было больших букв в названиях столбцов\n",
    "data.rename(columns = {'cityCenters_nearest' : 'city_center_nearest'}, inplace = True)"
   ]
  },
  {
   "cell_type": "code",
   "execution_count": 14,
   "metadata": {},
   "outputs": [],
   "source": [
    "#Заменим высоты потолков медианой соответствующего района\n",
    "for locality_name in data['locality_name'].unique():\n",
    "    med = data.loc[data['locality_name'] == locality_name, 'ceiling_height'].median()\n",
    "    data.loc[(data['ceiling_height'].isna()) & (data['locality_name'] == locality_name), 'ceiling_height'] = med"
   ]
  },
  {
   "cell_type": "code",
   "execution_count": 15,
   "metadata": {},
   "outputs": [],
   "source": [
    "#Заменим кол-во прилегающих парков медианой соответствующего района\n",
    "for locality_name in data['locality_name'].unique():\n",
    "    med = data.loc[data['locality_name'] == locality_name, 'parks_around3000'].median()\n",
    "    data.loc[(data['parks_around3000'].isna()) & (data['locality_name'] == locality_name), 'parks_around3000'] = med"
   ]
  },
  {
   "cell_type": "code",
   "execution_count": 16,
   "metadata": {},
   "outputs": [
    {
     "name": "stdout",
     "output_type": "stream",
     "text": [
      "0\n"
     ]
    }
   ],
   "source": [
    "data.loc[data['ceiling_height'].isna(), 'ceiling_height'] = data['ceiling_height'].median()\n",
    "print(data['ceiling_height'].isna().sum())"
   ]
  },
  {
   "cell_type": "code",
   "execution_count": 17,
   "metadata": {},
   "outputs": [
    {
     "name": "stdout",
     "output_type": "stream",
     "text": [
      "0\n"
     ]
    }
   ],
   "source": [
    "data.loc[data['living_area'].isna(), 'living_area'] = data['living_area'].median()\n",
    "print(data['living_area'].isna().sum())"
   ]
  },
  {
   "cell_type": "code",
   "execution_count": 18,
   "metadata": {
    "scrolled": true
   },
   "outputs": [
    {
     "name": "stdout",
     "output_type": "stream",
     "text": [
      "0\n"
     ]
    }
   ],
   "source": [
    "data.loc[data['kitchen_area'].isna(), 'kitchen_area'] = data['kitchen_area'].median()\n",
    "print(data['kitchen_area'].isna().sum())"
   ]
  },
  {
   "cell_type": "code",
   "execution_count": 19,
   "metadata": {},
   "outputs": [
    {
     "name": "stdout",
     "output_type": "stream",
     "text": [
      "0\n"
     ]
    }
   ],
   "source": [
    "#В столбце 'is_apartment' очень много пропусков, видимо это поле было добавлено недавно. Заменим отсутствующие значения на False.\n",
    "data['is_apartment'] = data['is_apartment'].fillna(False)\n",
    "print(data['is_apartment'].isna().sum())"
   ]
  },
  {
   "cell_type": "code",
   "execution_count": 20,
   "metadata": {},
   "outputs": [
    {
     "name": "stdout",
     "output_type": "stream",
     "text": [
      "0\n"
     ]
    }
   ],
   "source": [
    "#В столбце с балконами пропущенные значения заменим на ноль.\n",
    "data['balcony'] = data['balcony'].fillna(0)\n",
    "print(data['balcony'].isna().sum())"
   ]
  },
  {
   "cell_type": "code",
   "execution_count": 21,
   "metadata": {},
   "outputs": [
    {
     "name": "stdout",
     "output_type": "stream",
     "text": [
      "       total_images  last_price  total_area first_day_exposition  rooms  \\\n",
      "0                20    13000000      108.00           2019-03-07      3   \n",
      "1                 7     3350000       40.40           2018-12-04      1   \n",
      "2                10     5196000       56.00           2015-08-20      2   \n",
      "3                 0    64900000      159.00           2015-07-24      3   \n",
      "4                 2    10000000      100.00           2018-06-19      2   \n",
      "...             ...         ...         ...                  ...    ...   \n",
      "23694             9     9700000      133.81           2017-03-21      3   \n",
      "23695            14     3100000       59.00           2018-01-15      3   \n",
      "23696            18     2500000       56.70           2018-02-11      2   \n",
      "23697            13    11475000       76.75           2017-03-28      2   \n",
      "23698             4     1350000       32.30           2017-07-21      1   \n",
      "\n",
      "       ceiling_height  floors_total  living_area  floor  is_apartment  ...  \\\n",
      "0                2.70          16.0         51.0      8         False  ...   \n",
      "1                2.63          11.0         18.6      1         False  ...   \n",
      "2                2.70           5.0         34.3      4         False  ...   \n",
      "3                2.70          14.0         30.0      9         False  ...   \n",
      "4                3.03          14.0         32.0     13         False  ...   \n",
      "...               ...           ...          ...    ...           ...  ...   \n",
      "23694            3.70           5.0         73.3      3         False  ...   \n",
      "23695            2.50           5.0         38.0      4         False  ...   \n",
      "23696            2.70           3.0         29.7      1         False  ...   \n",
      "23697            3.00          17.0         30.0     12         False  ...   \n",
      "23698            2.50           5.0         12.3      1         False  ...   \n",
      "\n",
      "       kitchen_area  balcony        locality_name  airports_nearest  \\\n",
      "0             25.00      0.0      Санкт-Петербург           18863.0   \n",
      "1             11.00      2.0       поселок Шушары           12817.0   \n",
      "2              8.30      0.0      Санкт-Петербург           21741.0   \n",
      "3              9.10      0.0      Санкт-Петербург           28098.0   \n",
      "4             41.00      0.0      Санкт-Петербург           31856.0   \n",
      "...             ...      ...                  ...               ...   \n",
      "23694         13.83      0.0      Санкт-Петербург           24665.0   \n",
      "23695          8.50      0.0                Тосно               NaN   \n",
      "23696          9.10      0.0     село Рождествено               NaN   \n",
      "23697         23.30      2.0      Санкт-Петербург           39140.0   \n",
      "23698          9.00      0.0  поселок Новый Учхоз               NaN   \n",
      "\n",
      "      city_center_nearest  parks_around3000  parks_nearest  ponds_around3000  \\\n",
      "0                 16028.0               1.0          482.0               2.0   \n",
      "1                 18603.0               0.0            NaN               0.0   \n",
      "2                 13933.0               1.0           90.0               2.0   \n",
      "3                  6800.0               2.0           84.0               3.0   \n",
      "4                  8098.0               2.0          112.0               1.0   \n",
      "...                   ...               ...            ...               ...   \n",
      "23694              4232.0               1.0          796.0               3.0   \n",
      "23695                 NaN               NaN            NaN               NaN   \n",
      "23696                 NaN               NaN            NaN               NaN   \n",
      "23697             10364.0               2.0          173.0               3.0   \n",
      "23698                 NaN               NaN            NaN               NaN   \n",
      "\n",
      "       ponds_nearest  days_exposition  \n",
      "0              755.0                0  \n",
      "1                NaN               81  \n",
      "2              574.0              558  \n",
      "3              234.0              424  \n",
      "4               48.0              121  \n",
      "...              ...              ...  \n",
      "23694          381.0                0  \n",
      "23695            NaN               45  \n",
      "23696            NaN                0  \n",
      "23697          196.0              602  \n",
      "23698            NaN                0  \n",
      "\n",
      "[23650 rows x 22 columns]\n",
      "<class 'pandas.core.frame.DataFrame'>\n",
      "Int64Index: 23650 entries, 0 to 23698\n",
      "Data columns (total 22 columns):\n",
      " #   Column                Non-Null Count  Dtype         \n",
      "---  ------                --------------  -----         \n",
      " 0   total_images          23650 non-null  int64         \n",
      " 1   last_price            23650 non-null  int64         \n",
      " 2   total_area            23650 non-null  float64       \n",
      " 3   first_day_exposition  23650 non-null  datetime64[ns]\n",
      " 4   rooms                 23650 non-null  int64         \n",
      " 5   ceiling_height        23650 non-null  float64       \n",
      " 6   floors_total          23565 non-null  float64       \n",
      " 7   living_area           23650 non-null  float64       \n",
      " 8   floor                 23650 non-null  int64         \n",
      " 9   is_apartment          23650 non-null  bool          \n",
      " 10  studio                23650 non-null  bool          \n",
      " 11  open_plan             23650 non-null  bool          \n",
      " 12  kitchen_area          23650 non-null  float64       \n",
      " 13  balcony               23650 non-null  float64       \n",
      " 14  locality_name         23650 non-null  object        \n",
      " 15  airports_nearest      18116 non-null  float64       \n",
      " 16  city_center_nearest   18139 non-null  float64       \n",
      " 17  parks_around3000      18786 non-null  float64       \n",
      " 18  parks_nearest         8064 non-null   float64       \n",
      " 19  ponds_around3000      18140 non-null  float64       \n",
      " 20  ponds_nearest         9085 non-null   float64       \n",
      " 21  days_exposition       23650 non-null  int64         \n",
      "dtypes: bool(3), datetime64[ns](1), float64(12), int64(5), object(1)\n",
      "memory usage: 3.7+ MB\n"
     ]
    }
   ],
   "source": [
    "#еще раз посмотрим данные\n",
    "print(data)\n",
    "data.info()"
   ]
  },
  {
   "cell_type": "markdown",
   "metadata": {},
   "source": [
    "Аномалии\n",
    "\n",
    "В данных можно заметить аномалии: минимальная цена квартиры - 12 тыс., в столбце о высоте потолков есть значения 0 и 100м, есть квартира с 0 комнат, есть дом высотой в 60 этажей.\n",
    "\n",
    "Удалим из таблицы строки с визуально аномальными значениями"
   ]
  },
  {
   "cell_type": "code",
   "execution_count": 22,
   "metadata": {},
   "outputs": [
    {
     "data": {
      "text/plain": [
       "count    23650.000000\n",
       "mean         2.732203\n",
       "std          1.002602\n",
       "min          1.000000\n",
       "25%          2.550000\n",
       "50%          2.700000\n",
       "75%          2.700000\n",
       "max        100.000000\n",
       "Name: ceiling_height, dtype: float64"
      ]
     },
     "execution_count": 22,
     "metadata": {},
     "output_type": "execute_result"
    },
    {
     "data": {
      "image/png": "[encoded data removed]",
      "text/plain": [
       "<Figure size 432x288 with 1 Axes>"
      ]
     },
     "metadata": {
      "needs_background": "light"
     },
     "output_type": "display_data"
    }
   ],
   "source": [
    "#построим диграмму размаха для высотыпотолков\n",
    "import matplotlib.pyplot as plt\n",
    "plt.boxplot(data['ceiling_height'])\n",
    "plt.ylim(1.5,5)\n",
    "data['ceiling_height'].describe()"
   ]
  },
  {
   "cell_type": "code",
   "execution_count": 23,
   "metadata": {},
   "outputs": [
    {
     "name": "stdout",
     "output_type": "stream",
     "text": [
      "2.9250000000000007\n",
      "2.3249999999999993\n",
      "2737\n"
     ]
    }
   ],
   "source": [
    "#узнаем пределы нормальных значений для столбца с высотой потолков\n",
    "ceiling_up = data['ceiling_height'].quantile(0.75) + (data['ceiling_height'].quantile(0.75) - data['ceiling_height'].quantile(0.25))*1.5\n",
    "ceiling_down = data['ceiling_height'].quantile(0.25) - (data['ceiling_height'].quantile(0.75) - data['ceiling_height'].quantile(0.25))*1.5\n",
    "print(ceiling_up)\n",
    "print(ceiling_down)\n",
    "data['ceiling_height'].describe()\n",
    "print(len(data) - len(data.query('(ceiling_height > @ceiling_down) & (ceiling_height < @ceiling_up)')))"
   ]
  },
  {
   "cell_type": "markdown",
   "metadata": {},
   "source": [
    "Нормальные значения высоты потолков лежат от 2.32 до 2.92, следуя правилам математики, нужно удалить все значения за этими пределами.\n",
    "    \n",
    "Но я бы расширил границы нормальных значений, т.к. потолки в 2.3, 3 и 3.5 метров вполне норма, а малый разброс нормальных значений видимо получился из-за очень выосокой концентрации стандартных потолков.\n",
    "    \n",
    "К тому же удаление значений вне границ уменьшит выборку на 2737 строки - больше 10%"
   ]
  },
  {
   "cell_type": "code",
   "execution_count": 24,
   "metadata": {},
   "outputs": [
    {
     "name": "stdout",
     "output_type": "stream",
     "text": [
      "23522\n"
     ]
    }
   ],
   "source": [
    "#удалим строки с высотой потолков от 2 до 4 метров\n",
    "data = data.query('(ceiling_height < 4) & (ceiling_height > 2)')\n",
    "print(len(data))"
   ]
  },
  {
   "cell_type": "code",
   "execution_count": 25,
   "metadata": {},
   "outputs": [
    {
     "data": {
      "text/plain": [
       "(1.0, 20.0)"
      ]
     },
     "execution_count": 25,
     "metadata": {},
     "output_type": "execute_result"
    },
    {
     "data": {
      "image/png": "[encoded data removed]",
      "text/plain": [
       "<Figure size 432x288 with 1 Axes>"
      ]
     },
     "metadata": {
      "needs_background": "light"
     },
     "output_type": "display_data"
    }
   ],
   "source": [
    "#построим диграмму размаха для цены объекта\n",
    "plt.boxplot(data['last_price']/1000000)\n",
    "plt.ylim(1,20)"
   ]
  },
  {
   "cell_type": "code",
   "execution_count": 26,
   "metadata": {},
   "outputs": [
    {
     "name": "stdout",
     "output_type": "stream",
     "text": [
      "2032\n"
     ]
    }
   ],
   "source": [
    "price_up = data['last_price'].quantile(0.75) + (data['last_price'].quantile(0.75) - data['last_price'].quantile(0.25))*1.5\n",
    "print(len(data.query('last_price > @price_up')))"
   ]
  },
  {
   "cell_type": "markdown",
   "metadata": {},
   "source": [
    "Диаграмма размаха показывает, что верхняя граница нормальных значений - около 12 млн.\n",
    "\n",
    "Опять же, видимо это из-за высокой концентрации в объявлениях стандартных квартир в спальных районах.\n",
    "\n",
    "Но если мы выбросим из выборки все квартиры дороже 12 млн, то мы концентрируемся только на анализе квартир эконом и комфорт ценовых категорий.\n",
    "\n",
    "Из анализа тогда пропадает дорогое жилье, бизнес-класс и т.д., это может привести к потере некоторых выводов, например, думаю, изменятся выводы по влиянию удаленности квартиры от центра на ее стоимость.\n",
    "\n",
    "К тому же, если удалить данные вне верхней границы нормальных значений, пропадет еще 2032 строки, тоже почти 10% вбыорки.\n"
   ]
  },
  {
   "cell_type": "code",
   "execution_count": 27,
   "metadata": {},
   "outputs": [
    {
     "name": "stdout",
     "output_type": "stream",
     "text": [
      "23245\n"
     ]
    }
   ],
   "source": [
    "#удалим строки с ценой объекта ниже 1 млн и выше 100 млн\n",
    "data = data.query('(last_price < 100000000) & (last_price > 1000000)')\n",
    "print(len(data))"
   ]
  },
  {
   "cell_type": "code",
   "execution_count": 28,
   "metadata": {},
   "outputs": [
    {
     "name": "stdout",
     "output_type": "stream",
     "text": [
      "count    23245.000000\n",
      "mean         2.066036\n",
      "std          1.068342\n",
      "min          0.000000\n",
      "25%          1.000000\n",
      "50%          2.000000\n",
      "75%          3.000000\n",
      "max         19.000000\n",
      "Name: rooms, dtype: float64\n"
     ]
    },
    {
     "data": {
      "text/plain": [
       "(1.0, 10.0)"
      ]
     },
     "execution_count": 28,
     "metadata": {},
     "output_type": "execute_result"
    },
    {
     "data": {
      "image/png": "[encoded data removed]",
      "text/plain": [
       "<Figure size 432x288 with 1 Axes>"
      ]
     },
     "metadata": {
      "needs_background": "light"
     },
     "output_type": "display_data"
    }
   ],
   "source": [
    "print(data['rooms'].describe())\n",
    "#построим диграмму размаха для цены объекта\n",
    "plt.boxplot(data['rooms'])\n",
    "plt.ylim(1,10)"
   ]
  },
  {
   "cell_type": "code",
   "execution_count": 29,
   "metadata": {
    "scrolled": true
   },
   "outputs": [
    {
     "name": "stdout",
     "output_type": "stream",
     "text": [
      "22972\n"
     ]
    }
   ],
   "source": [
    "#Верхняя граница диапазона нормальных значений для комант равна 6\n",
    "#удалим из данных строки с количеством комант 0 и более 6\n",
    "data = data.query('(rooms != 0) & (rooms <= 6)')\n",
    "print(len(data))"
   ]
  },
  {
   "cell_type": "code",
   "execution_count": 30,
   "metadata": {},
   "outputs": [
    {
     "name": "stdout",
     "output_type": "stream",
     "text": [
      "count    22972.000000\n",
      "mean        59.473937\n",
      "std         30.325752\n",
      "min         12.000000\n",
      "25%         40.200000\n",
      "50%         52.000000\n",
      "75%         69.600000\n",
      "max        494.100000\n",
      "Name: total_area, dtype: float64\n"
     ]
    },
    {
     "data": {
      "text/plain": [
       "(10.0, 200.0)"
      ]
     },
     "execution_count": 30,
     "metadata": {},
     "output_type": "execute_result"
    },
    {
     "data": {
      "image/png": "[encoded data removed]",
      "text/plain": [
       "<Figure size 432x288 with 1 Axes>"
      ]
     },
     "metadata": {
      "needs_background": "light"
     },
     "output_type": "display_data"
    }
   ],
   "source": [
    "print(data['total_area'].describe())\n",
    "#построим диаграмму размаха для столбца с общей площадью\n",
    "plt.boxplot(data['total_area'])\n",
    "plt.ylim(10,200)"
   ]
  },
  {
   "cell_type": "code",
   "execution_count": 31,
   "metadata": {},
   "outputs": [
    {
     "name": "stdout",
     "output_type": "stream",
     "text": [
      "113.69999999999999\n",
      "1129\n"
     ]
    }
   ],
   "source": [
    "total_area_up = data['total_area'].quantile(0.75) + (data['total_area'].quantile(0.75) - data['total_area'].quantile(0.25))*1.5\n",
    "print(total_area_up)\n",
    "print(len(data.query('total_area > @total_area_up')))"
   ]
  },
  {
   "cell_type": "markdown",
   "metadata": {},
   "source": [
    "Верхнее значение диапазона нормальных данных для общей площади - 113 м, но опять же квартиры большей площади - вполне норма."
   ]
  },
  {
   "cell_type": "code",
   "execution_count": 32,
   "metadata": {},
   "outputs": [
    {
     "name": "stdout",
     "output_type": "stream",
     "text": [
      "22848\n"
     ]
    }
   ],
   "source": [
    "#удалим из данных квартиры с площадью более 200 метров.\n",
    "data = data.query('(total_area >= 12) & (total_area <= 200)')\n",
    "print(len(data))"
   ]
  },
  {
   "cell_type": "code",
   "execution_count": 33,
   "metadata": {},
   "outputs": [
    {
     "name": "stdout",
     "output_type": "stream",
     "text": [
      "count    22848.000000\n",
      "mean         0.593881\n",
      "std          0.962432\n",
      "min          0.000000\n",
      "25%          0.000000\n",
      "50%          0.000000\n",
      "75%          1.000000\n",
      "max          5.000000\n",
      "Name: balcony, dtype: float64\n"
     ]
    },
    {
     "data": {
      "text/plain": [
       "{'whiskers': [<matplotlib.lines.Line2D at 0x7f5423e93ac0>,\n",
       "  <matplotlib.lines.Line2D at 0x7f5423e93c40>],\n",
       " 'caps': [<matplotlib.lines.Line2D at 0x7f542311f8b0>,\n",
       "  <matplotlib.lines.Line2D at 0x7f5423185430>],\n",
       " 'boxes': [<matplotlib.lines.Line2D at 0x7f5423e93310>],\n",
       " 'medians': [<matplotlib.lines.Line2D at 0x7f5423384340>],\n",
       " 'fliers': [<matplotlib.lines.Line2D at 0x7f5423eb3970>],\n",
       " 'means': []}"
      ]
     },
     "execution_count": 33,
     "metadata": {},
     "output_type": "execute_result"
    },
    {
     "data": {
      "image/png": "[encoded data removed]",
      "text/plain": [
       "<Figure size 432x288 with 1 Axes>"
      ]
     },
     "metadata": {
      "needs_background": "light"
     },
     "output_type": "display_data"
    }
   ],
   "source": [
    "#постром диаграмму размаха для столбца с балконами\n",
    "print(data['balcony'].describe())\n",
    "plt.boxplot(data['balcony']);"
   ]
  },
  {
   "cell_type": "code",
   "execution_count": 34,
   "metadata": {},
   "outputs": [
    {
     "name": "stdout",
     "output_type": "stream",
     "text": [
      "22293\n"
     ]
    }
   ],
   "source": [
    "#удалим из таблицы строки с количеством балконов больше 2\n",
    "data = data.query('balcony <= 2')\n",
    "print(len(data))"
   ]
  },
  {
   "cell_type": "code",
   "execution_count": 35,
   "metadata": {},
   "outputs": [
    {
     "name": "stdout",
     "output_type": "stream",
     "text": [
      "22212\n"
     ]
    },
    {
     "data": {
      "text/plain": [
       "(1.0, 35.0)"
      ]
     },
     "execution_count": 35,
     "metadata": {},
     "output_type": "execute_result"
    },
    {
     "data": {
      "image/png": "[encoded data removed]",
      "text/plain": [
       "<Figure size 432x288 with 1 Axes>"
      ]
     },
     "metadata": {
      "needs_background": "light"
     },
     "output_type": "display_data"
    }
   ],
   "source": [
    "#построим диаграмму размаха для количества этажей в доме\n",
    "data['floors_total'] = data['floors_total'].fillna(0).astype('int')\n",
    "data = data.query('floors_total != 0')\n",
    "print(len(data))\n",
    "plt.boxplot(data['floors_total'])\n",
    "plt.ylim(1,35)"
   ]
  },
  {
   "cell_type": "code",
   "execution_count": 36,
   "metadata": {},
   "outputs": [
    {
     "name": "stdout",
     "output_type": "stream",
     "text": [
      "32.5\n"
     ]
    }
   ],
   "source": [
    "#найдем значение верхней границы диапазона нормальных значени\n",
    "floors_total_up = data['floors_total'].quantile(0.75) + (data['floors_total'].quantile(0.75) - data['floors_total'].quantile(0.25))*1.5\n",
    "print(floors_total_up)\n",
    "#33 похоже на правду - самый высокий жк в Санкт-Петерьурге - 37 этажей"
   ]
  },
  {
   "cell_type": "code",
   "execution_count": 37,
   "metadata": {},
   "outputs": [
    {
     "name": "stdout",
     "output_type": "stream",
     "text": [
      "22185\n"
     ]
    }
   ],
   "source": [
    "#удалим строки с домами выше 33 этажей\n",
    "data = data.query('floors_total <= 33')\n",
    "print(len(data))"
   ]
  },
  {
   "cell_type": "markdown",
   "metadata": {},
   "source": [
    "Ниже проверим наличие явных дубликатов"
   ]
  },
  {
   "cell_type": "code",
   "execution_count": 38,
   "metadata": {},
   "outputs": [
    {
     "data": {
      "text/plain": [
       "0"
      ]
     },
     "execution_count": 38,
     "metadata": {},
     "output_type": "execute_result"
    }
   ],
   "source": [
    "#проверим таблицу на наличие явных дубликатов - их нет\n",
    "data.duplicated().sum()"
   ]
  },
  {
   "cell_type": "markdown",
   "metadata": {},
   "source": [
    "### Посчитайте и добавьте в таблицу новые столбцы"
   ]
  },
  {
   "cell_type": "code",
   "execution_count": 39,
   "metadata": {},
   "outputs": [],
   "source": [
    "#добавим цену квадратного метра\n",
    "data['price_per_meter'] = data['last_price']/data['total_area']\n",
    "data['price_per_meter'] = data['price_per_meter'].astype('int')"
   ]
  },
  {
   "cell_type": "code",
   "execution_count": 40,
   "metadata": {},
   "outputs": [],
   "source": [
    "#добавим столбцы c днем, месяцем и годом\n",
    "data['weekday_exposition'] = data['first_day_exposition'].dt.day_name()\n",
    "data['month_exposition'] = data['first_day_exposition'].dt.month_name()\n",
    "data['year_exposition'] = data['first_day_exposition'].dt.year"
   ]
  },
  {
   "cell_type": "code",
   "execution_count": 41,
   "metadata": {},
   "outputs": [],
   "source": [
    "#распределим на категории этажи и добавим соответствующий столбец\n",
    "def floor_category(row):\n",
    "    if row['floor'] == 1:\n",
    "        return 'первый'\n",
    "    elif row['floor'] == row['floors_total']:\n",
    "        return 'последний'\n",
    "    else:\n",
    "        return 'другой'\n",
    "data['floor_category'] = data.apply(floor_category, axis=1)"
   ]
  },
  {
   "cell_type": "code",
   "execution_count": 42,
   "metadata": {},
   "outputs": [],
   "source": [
    "#переведем в новых столбцах все расстояния в км\n",
    "data['airport_nearest_km'] = data['airports_nearest'] / 1000\n",
    "data['city_center_nearest_km'] = data['city_center_nearest'] / 1000\n",
    "data['park_nearest_km'] = data['parks_nearest'] / 1000\n",
    "data['pond_nearest_km'] = data['ponds_nearest'] / 1000"
   ]
  },
  {
   "cell_type": "code",
   "execution_count": 43,
   "metadata": {},
   "outputs": [
    {
     "data": {
      "text/html": [
       "<div>\n",
       "<style scoped>\n",
       "    .dataframe tbody tr th:only-of-type {\n",
       "        vertical-align: middle;\n",
       "    }\n",
       "\n",
       "    .dataframe tbody tr th {\n",
       "        vertical-align: top;\n",
       "    }\n",
       "\n",
       "    .dataframe thead th {\n",
       "        text-align: right;\n",
       "    }\n",
       "</style>\n",
       "<table border=\"1\" class=\"dataframe\">\n",
       "  <thead>\n",
       "    <tr style=\"text-align: right;\">\n",
       "      <th></th>\n",
       "      <th>total_images</th>\n",
       "      <th>last_price</th>\n",
       "      <th>total_area</th>\n",
       "      <th>first_day_exposition</th>\n",
       "      <th>rooms</th>\n",
       "      <th>ceiling_height</th>\n",
       "      <th>floors_total</th>\n",
       "      <th>living_area</th>\n",
       "      <th>floor</th>\n",
       "      <th>is_apartment</th>\n",
       "      <th>...</th>\n",
       "      <th>days_exposition</th>\n",
       "      <th>price_per_meter</th>\n",
       "      <th>weekday_exposition</th>\n",
       "      <th>month_exposition</th>\n",
       "      <th>year_exposition</th>\n",
       "      <th>floor_category</th>\n",
       "      <th>airport_nearest_km</th>\n",
       "      <th>city_center_nearest_km</th>\n",
       "      <th>park_nearest_km</th>\n",
       "      <th>pond_nearest_km</th>\n",
       "    </tr>\n",
       "  </thead>\n",
       "  <tbody>\n",
       "    <tr>\n",
       "      <th>0</th>\n",
       "      <td>20</td>\n",
       "      <td>13000000</td>\n",
       "      <td>108.0</td>\n",
       "      <td>2019-03-07</td>\n",
       "      <td>3</td>\n",
       "      <td>2.70</td>\n",
       "      <td>16</td>\n",
       "      <td>51.0</td>\n",
       "      <td>8</td>\n",
       "      <td>False</td>\n",
       "      <td>...</td>\n",
       "      <td>0</td>\n",
       "      <td>120370</td>\n",
       "      <td>Thursday</td>\n",
       "      <td>March</td>\n",
       "      <td>2019</td>\n",
       "      <td>другой</td>\n",
       "      <td>18.863</td>\n",
       "      <td>16.028</td>\n",
       "      <td>0.482</td>\n",
       "      <td>0.755</td>\n",
       "    </tr>\n",
       "    <tr>\n",
       "      <th>1</th>\n",
       "      <td>7</td>\n",
       "      <td>3350000</td>\n",
       "      <td>40.4</td>\n",
       "      <td>2018-12-04</td>\n",
       "      <td>1</td>\n",
       "      <td>2.63</td>\n",
       "      <td>11</td>\n",
       "      <td>18.6</td>\n",
       "      <td>1</td>\n",
       "      <td>False</td>\n",
       "      <td>...</td>\n",
       "      <td>81</td>\n",
       "      <td>82920</td>\n",
       "      <td>Tuesday</td>\n",
       "      <td>December</td>\n",
       "      <td>2018</td>\n",
       "      <td>первый</td>\n",
       "      <td>12.817</td>\n",
       "      <td>18.603</td>\n",
       "      <td>NaN</td>\n",
       "      <td>NaN</td>\n",
       "    </tr>\n",
       "    <tr>\n",
       "      <th>2</th>\n",
       "      <td>10</td>\n",
       "      <td>5196000</td>\n",
       "      <td>56.0</td>\n",
       "      <td>2015-08-20</td>\n",
       "      <td>2</td>\n",
       "      <td>2.70</td>\n",
       "      <td>5</td>\n",
       "      <td>34.3</td>\n",
       "      <td>4</td>\n",
       "      <td>False</td>\n",
       "      <td>...</td>\n",
       "      <td>558</td>\n",
       "      <td>92785</td>\n",
       "      <td>Thursday</td>\n",
       "      <td>August</td>\n",
       "      <td>2015</td>\n",
       "      <td>другой</td>\n",
       "      <td>21.741</td>\n",
       "      <td>13.933</td>\n",
       "      <td>0.090</td>\n",
       "      <td>0.574</td>\n",
       "    </tr>\n",
       "    <tr>\n",
       "      <th>3</th>\n",
       "      <td>0</td>\n",
       "      <td>64900000</td>\n",
       "      <td>159.0</td>\n",
       "      <td>2015-07-24</td>\n",
       "      <td>3</td>\n",
       "      <td>2.70</td>\n",
       "      <td>14</td>\n",
       "      <td>30.0</td>\n",
       "      <td>9</td>\n",
       "      <td>False</td>\n",
       "      <td>...</td>\n",
       "      <td>424</td>\n",
       "      <td>408176</td>\n",
       "      <td>Friday</td>\n",
       "      <td>July</td>\n",
       "      <td>2015</td>\n",
       "      <td>другой</td>\n",
       "      <td>28.098</td>\n",
       "      <td>6.800</td>\n",
       "      <td>0.084</td>\n",
       "      <td>0.234</td>\n",
       "    </tr>\n",
       "    <tr>\n",
       "      <th>4</th>\n",
       "      <td>2</td>\n",
       "      <td>10000000</td>\n",
       "      <td>100.0</td>\n",
       "      <td>2018-06-19</td>\n",
       "      <td>2</td>\n",
       "      <td>3.03</td>\n",
       "      <td>14</td>\n",
       "      <td>32.0</td>\n",
       "      <td>13</td>\n",
       "      <td>False</td>\n",
       "      <td>...</td>\n",
       "      <td>121</td>\n",
       "      <td>100000</td>\n",
       "      <td>Tuesday</td>\n",
       "      <td>June</td>\n",
       "      <td>2018</td>\n",
       "      <td>другой</td>\n",
       "      <td>31.856</td>\n",
       "      <td>8.098</td>\n",
       "      <td>0.112</td>\n",
       "      <td>0.048</td>\n",
       "    </tr>\n",
       "  </tbody>\n",
       "</table>\n",
       "<p>5 rows × 27 columns</p>\n",
       "</div>"
      ],
      "text/plain": [
       "   total_images  last_price  total_area first_day_exposition  rooms  \\\n",
       "0            20    13000000       108.0           2019-03-07      3   \n",
       "1             7     3350000        40.4           2018-12-04      1   \n",
       "2            10     5196000        56.0           2015-08-20      2   \n",
       "3             0    64900000       159.0           2015-07-24      3   \n",
       "4             2    10000000       100.0           2018-06-19      2   \n",
       "\n",
       "   ceiling_height  floors_total  living_area  floor  is_apartment  ...  \\\n",
       "0            2.70            16         51.0      8         False  ...   \n",
       "1            2.63            11         18.6      1         False  ...   \n",
       "2            2.70             5         34.3      4         False  ...   \n",
       "3            2.70            14         30.0      9         False  ...   \n",
       "4            3.03            14         32.0     13         False  ...   \n",
       "\n",
       "   days_exposition  price_per_meter  weekday_exposition  month_exposition  \\\n",
       "0                0           120370            Thursday             March   \n",
       "1               81            82920             Tuesday          December   \n",
       "2              558            92785            Thursday            August   \n",
       "3              424           408176              Friday              July   \n",
       "4              121           100000             Tuesday              June   \n",
       "\n",
       "  year_exposition  floor_category  airport_nearest_km  city_center_nearest_km  \\\n",
       "0            2019          другой              18.863                  16.028   \n",
       "1            2018          первый              12.817                  18.603   \n",
       "2            2015          другой              21.741                  13.933   \n",
       "3            2015          другой              28.098                   6.800   \n",
       "4            2018          другой              31.856                   8.098   \n",
       "\n",
       "   park_nearest_km pond_nearest_km  \n",
       "0            0.482           0.755  \n",
       "1              NaN             NaN  \n",
       "2            0.090           0.574  \n",
       "3            0.084           0.234  \n",
       "4            0.112           0.048  \n",
       "\n",
       "[5 rows x 27 columns]"
      ]
     },
     "execution_count": 43,
     "metadata": {},
     "output_type": "execute_result"
    }
   ],
   "source": [
    "#удалим старые столбцы с расстояниями\n",
    "del data['airports_nearest']\n",
    "del data['city_center_nearest']\n",
    "del data['parks_nearest']\n",
    "del data['ponds_nearest']\n",
    "data.head()"
   ]
  },
  {
   "cell_type": "markdown",
   "metadata": {},
   "source": [
    "### Проведите исследовательский анализ данных"
   ]
  },
  {
   "cell_type": "code",
   "execution_count": 44,
   "metadata": {
    "scrolled": true
   },
   "outputs": [
    {
     "data": {
      "text/html": [
       "<div>\n",
       "<style scoped>\n",
       "    .dataframe tbody tr th:only-of-type {\n",
       "        vertical-align: middle;\n",
       "    }\n",
       "\n",
       "    .dataframe tbody tr th {\n",
       "        vertical-align: top;\n",
       "    }\n",
       "\n",
       "    .dataframe thead th {\n",
       "        text-align: right;\n",
       "    }\n",
       "</style>\n",
       "<table border=\"1\" class=\"dataframe\">\n",
       "  <thead>\n",
       "    <tr style=\"text-align: right;\">\n",
       "      <th></th>\n",
       "      <th>total_area</th>\n",
       "      <th>living_area</th>\n",
       "      <th>kitchen_area</th>\n",
       "      <th>last_price_mn</th>\n",
       "      <th>rooms</th>\n",
       "      <th>ceiling_height</th>\n",
       "      <th>floor</th>\n",
       "      <th>floors_total</th>\n",
       "    </tr>\n",
       "  </thead>\n",
       "  <tbody>\n",
       "    <tr>\n",
       "      <th>count</th>\n",
       "      <td>22185.000000</td>\n",
       "      <td>22185.000000</td>\n",
       "      <td>22185.000000</td>\n",
       "      <td>22185.000000</td>\n",
       "      <td>22185.000000</td>\n",
       "      <td>22185.000000</td>\n",
       "      <td>22185.000000</td>\n",
       "      <td>22185.000000</td>\n",
       "    </tr>\n",
       "    <tr>\n",
       "      <th>mean</th>\n",
       "      <td>57.860324</td>\n",
       "      <td>32.767019</td>\n",
       "      <td>10.209094</td>\n",
       "      <td>5.956861</td>\n",
       "      <td>2.032545</td>\n",
       "      <td>2.694478</td>\n",
       "      <td>5.854632</td>\n",
       "      <td>10.681406</td>\n",
       "    </tr>\n",
       "    <tr>\n",
       "      <th>std</th>\n",
       "      <td>25.926372</td>\n",
       "      <td>16.414447</td>\n",
       "      <td>5.021974</td>\n",
       "      <td>5.262641</td>\n",
       "      <td>0.965939</td>\n",
       "      <td>0.196384</td>\n",
       "      <td>4.826386</td>\n",
       "      <td>6.507230</td>\n",
       "    </tr>\n",
       "    <tr>\n",
       "      <th>min</th>\n",
       "      <td>12.000000</td>\n",
       "      <td>2.000000</td>\n",
       "      <td>1.300000</td>\n",
       "      <td>1.010000</td>\n",
       "      <td>1.000000</td>\n",
       "      <td>2.200000</td>\n",
       "      <td>1.000000</td>\n",
       "      <td>1.000000</td>\n",
       "    </tr>\n",
       "    <tr>\n",
       "      <th>25%</th>\n",
       "      <td>40.000000</td>\n",
       "      <td>19.000000</td>\n",
       "      <td>7.200000</td>\n",
       "      <td>3.450000</td>\n",
       "      <td>1.000000</td>\n",
       "      <td>2.550000</td>\n",
       "      <td>2.000000</td>\n",
       "      <td>5.000000</td>\n",
       "    </tr>\n",
       "    <tr>\n",
       "      <th>50%</th>\n",
       "      <td>51.300000</td>\n",
       "      <td>30.000000</td>\n",
       "      <td>9.100000</td>\n",
       "      <td>4.600000</td>\n",
       "      <td>2.000000</td>\n",
       "      <td>2.700000</td>\n",
       "      <td>4.000000</td>\n",
       "      <td>9.000000</td>\n",
       "    </tr>\n",
       "    <tr>\n",
       "      <th>75%</th>\n",
       "      <td>68.000000</td>\n",
       "      <td>40.400000</td>\n",
       "      <td>11.200000</td>\n",
       "      <td>6.600000</td>\n",
       "      <td>3.000000</td>\n",
       "      <td>2.700000</td>\n",
       "      <td>8.000000</td>\n",
       "      <td>16.000000</td>\n",
       "    </tr>\n",
       "    <tr>\n",
       "      <th>max</th>\n",
       "      <td>200.000000</td>\n",
       "      <td>164.700000</td>\n",
       "      <td>93.200000</td>\n",
       "      <td>98.000000</td>\n",
       "      <td>6.000000</td>\n",
       "      <td>3.980000</td>\n",
       "      <td>32.000000</td>\n",
       "      <td>33.000000</td>\n",
       "    </tr>\n",
       "  </tbody>\n",
       "</table>\n",
       "</div>"
      ],
      "text/plain": [
       "         total_area   living_area  kitchen_area  last_price_mn         rooms  \\\n",
       "count  22185.000000  22185.000000  22185.000000   22185.000000  22185.000000   \n",
       "mean      57.860324     32.767019     10.209094       5.956861      2.032545   \n",
       "std       25.926372     16.414447      5.021974       5.262641      0.965939   \n",
       "min       12.000000      2.000000      1.300000       1.010000      1.000000   \n",
       "25%       40.000000     19.000000      7.200000       3.450000      1.000000   \n",
       "50%       51.300000     30.000000      9.100000       4.600000      2.000000   \n",
       "75%       68.000000     40.400000     11.200000       6.600000      3.000000   \n",
       "max      200.000000    164.700000     93.200000      98.000000      6.000000   \n",
       "\n",
       "       ceiling_height         floor  floors_total  \n",
       "count    22185.000000  22185.000000  22185.000000  \n",
       "mean         2.694478      5.854632     10.681406  \n",
       "std          0.196384      4.826386      6.507230  \n",
       "min          2.200000      1.000000      1.000000  \n",
       "25%          2.550000      2.000000      5.000000  \n",
       "50%          2.700000      4.000000      9.000000  \n",
       "75%          2.700000      8.000000     16.000000  \n",
       "max          3.980000     32.000000     33.000000  "
      ]
     },
     "execution_count": 44,
     "metadata": {},
     "output_type": "execute_result"
    }
   ],
   "source": [
    "#добавим столбец с ценой объекта в миллионах\n",
    "data['last_price_mn'] = data['last_price']/1000000\n",
    "\n",
    "#изучим информацию о столбцах\n",
    "data[['total_area',\n",
    "      'living_area',\n",
    "      'kitchen_area',\n",
    "      'last_price_mn',\n",
    "      'rooms',\n",
    "      'ceiling_height',\n",
    "      'floor',\n",
    "      'floor_category',\n",
    "      'floors_total']].describe()\n",
    "      \n",
    "     "
   ]
  },
  {
   "cell_type": "code",
   "execution_count": 45,
   "metadata": {},
   "outputs": [
    {
     "data": {
      "text/html": [
       "<div>\n",
       "<style scoped>\n",
       "    .dataframe tbody tr th:only-of-type {\n",
       "        vertical-align: middle;\n",
       "    }\n",
       "\n",
       "    .dataframe tbody tr th {\n",
       "        vertical-align: top;\n",
       "    }\n",
       "\n",
       "    .dataframe thead th {\n",
       "        text-align: right;\n",
       "    }\n",
       "</style>\n",
       "<table border=\"1\" class=\"dataframe\">\n",
       "  <thead>\n",
       "    <tr style=\"text-align: right;\">\n",
       "      <th></th>\n",
       "      <th>airport_nearest_km</th>\n",
       "      <th>city_center_nearest_km</th>\n",
       "      <th>park_nearest_km</th>\n",
       "      <th>pond_nearest_km</th>\n",
       "    </tr>\n",
       "  </thead>\n",
       "  <tbody>\n",
       "    <tr>\n",
       "      <th>count</th>\n",
       "      <td>17132.000000</td>\n",
       "      <td>17152.000000</td>\n",
       "      <td>7564.000000</td>\n",
       "      <td>8501.000000</td>\n",
       "    </tr>\n",
       "    <tr>\n",
       "      <th>mean</th>\n",
       "      <td>28.842190</td>\n",
       "      <td>14.297881</td>\n",
       "      <td>0.491010</td>\n",
       "      <td>0.522729</td>\n",
       "    </tr>\n",
       "    <tr>\n",
       "      <th>std</th>\n",
       "      <td>12.694722</td>\n",
       "      <td>8.613686</td>\n",
       "      <td>0.343362</td>\n",
       "      <td>0.277193</td>\n",
       "    </tr>\n",
       "    <tr>\n",
       "      <th>min</th>\n",
       "      <td>0.000000</td>\n",
       "      <td>0.181000</td>\n",
       "      <td>0.001000</td>\n",
       "      <td>0.013000</td>\n",
       "    </tr>\n",
       "    <tr>\n",
       "      <th>25%</th>\n",
       "      <td>18.476500</td>\n",
       "      <td>9.436000</td>\n",
       "      <td>0.287750</td>\n",
       "      <td>0.302000</td>\n",
       "    </tr>\n",
       "    <tr>\n",
       "      <th>50%</th>\n",
       "      <td>26.838500</td>\n",
       "      <td>13.152000</td>\n",
       "      <td>0.454000</td>\n",
       "      <td>0.507000</td>\n",
       "    </tr>\n",
       "    <tr>\n",
       "      <th>75%</th>\n",
       "      <td>37.374250</td>\n",
       "      <td>16.309000</td>\n",
       "      <td>0.613000</td>\n",
       "      <td>0.733000</td>\n",
       "    </tr>\n",
       "    <tr>\n",
       "      <th>max</th>\n",
       "      <td>84.869000</td>\n",
       "      <td>65.968000</td>\n",
       "      <td>3.190000</td>\n",
       "      <td>1.344000</td>\n",
       "    </tr>\n",
       "  </tbody>\n",
       "</table>\n",
       "</div>"
      ],
      "text/plain": [
       "       airport_nearest_km  city_center_nearest_km  park_nearest_km  \\\n",
       "count        17132.000000            17152.000000      7564.000000   \n",
       "mean            28.842190               14.297881         0.491010   \n",
       "std             12.694722                8.613686         0.343362   \n",
       "min              0.000000                0.181000         0.001000   \n",
       "25%             18.476500                9.436000         0.287750   \n",
       "50%             26.838500               13.152000         0.454000   \n",
       "75%             37.374250               16.309000         0.613000   \n",
       "max             84.869000               65.968000         3.190000   \n",
       "\n",
       "       pond_nearest_km  \n",
       "count      8501.000000  \n",
       "mean          0.522729  \n",
       "std           0.277193  \n",
       "min           0.013000  \n",
       "25%           0.302000  \n",
       "50%           0.507000  \n",
       "75%           0.733000  \n",
       "max           1.344000  "
      ]
     },
     "execution_count": 45,
     "metadata": {},
     "output_type": "execute_result"
    }
   ],
   "source": [
    "#изучим информацию о столбцах\n",
    "data[['airport_nearest_km',\n",
    "     'city_center_nearest_km',\n",
    "      'park_nearest_km',\n",
    "      'pond_nearest_km']].describe()"
   ]
  },
  {
   "cell_type": "code",
   "execution_count": 46,
   "metadata": {},
   "outputs": [
    {
     "name": "stdout",
     "output_type": "stream",
     "text": [
      "0.12418300653594772\n",
      "0.1382465629930133\n"
     ]
    }
   ],
   "source": [
    "data['floor_category'].describe()\n",
    "print(data[data['floor_category'] == 'первый']['floor_category'].count()/len(data['floor_category']))\n",
    "print(data[data['floor_category'] == 'последний']['floor_category'].count()/len(data['floor_category']))"
   ]
  },
  {
   "cell_type": "code",
   "execution_count": 47,
   "metadata": {},
   "outputs": [
    {
     "data": {
      "text/plain": [
       "rooms\n",
       "1    7817\n",
       "2    7581\n",
       "3    5406\n",
       "4    1070\n",
       "5     251\n",
       "6      60\n",
       "Name: rooms, dtype: int64"
      ]
     },
     "execution_count": 47,
     "metadata": {},
     "output_type": "execute_result"
    }
   ],
   "source": [
    "#посмотрим квартиры с каким количеством комнат встречаются наиболее часто\n",
    "data.groupby('rooms')['rooms'].count()"
   ]
  },
  {
   "cell_type": "code",
   "execution_count": 48,
   "metadata": {},
   "outputs": [
    {
     "data": {
      "text/plain": [
       "total_area\n",
       "45.00    402\n",
       "42.00    370\n",
       "60.00    334\n",
       "44.00    333\n",
       "31.00    329\n",
       "        ... \n",
       "37.38      1\n",
       "75.03      1\n",
       "37.32      1\n",
       "37.31      1\n",
       "12.00      1\n",
       "Name: total_area, Length: 1928, dtype: int64"
      ]
     },
     "execution_count": 48,
     "metadata": {},
     "output_type": "execute_result"
    }
   ],
   "source": [
    "#посмотрим квартиры с какой общей площадью встречаются наиболее часто\n",
    "data.groupby('total_area')['total_area'].count().sort_values(ascending = False)"
   ]
  },
  {
   "cell_type": "code",
   "execution_count": 49,
   "metadata": {},
   "outputs": [
    {
     "data": {
      "text/plain": [
       "<AxesSubplot:ylabel='Frequency'>"
      ]
     },
     "execution_count": 49,
     "metadata": {},
     "output_type": "execute_result"
    },
    {
     "data": {
      "image/png": "[encoded data removed]",
      "text/plain": [
       "<Figure size 648x648 with 1 Axes>"
      ]
     },
     "metadata": {
      "needs_background": "light"
     },
     "output_type": "display_data"
    }
   ],
   "source": [
    "data.plot(y='total_area', kind = 'hist', bins = 100, grid=True, figsize = (9,9), range=(0,300))"
   ]
  },
  {
   "cell_type": "code",
   "execution_count": 50,
   "metadata": {},
   "outputs": [
    {
     "data": {
      "text/plain": [
       "<AxesSubplot:ylabel='Frequency'>"
      ]
     },
     "execution_count": 50,
     "metadata": {},
     "output_type": "execute_result"
    },
    {
     "data": {
      "image/png": "[encoded data removed]",
      "text/plain": [
       "<Figure size 648x648 with 1 Axes>"
      ]
     },
     "metadata": {
      "needs_background": "light"
     },
     "output_type": "display_data"
    }
   ],
   "source": [
    "data.plot(y='living_area', kind = 'hist', bins = 100, grid=True, figsize = (9,9), range = (0,150))"
   ]
  },
  {
   "cell_type": "code",
   "execution_count": 51,
   "metadata": {},
   "outputs": [
    {
     "data": {
      "text/plain": [
       "<AxesSubplot:ylabel='Frequency'>"
      ]
     },
     "execution_count": 51,
     "metadata": {},
     "output_type": "execute_result"
    },
    {
     "data": {
      "image/png": "[encoded data removed]",
      "text/plain": [
       "<Figure size 648x648 with 1 Axes>"
      ]
     },
     "metadata": {
      "needs_background": "light"
     },
     "output_type": "display_data"
    }
   ],
   "source": [
    "data.plot(y='kitchen_area', kind = 'hist', bins = 100, grid=True, figsize = (9,9), range = (0,60))"
   ]
  },
  {
   "cell_type": "code",
   "execution_count": 52,
   "metadata": {},
   "outputs": [
    {
     "data": {
      "text/plain": [
       "<AxesSubplot:ylabel='Frequency'>"
      ]
     },
     "execution_count": 52,
     "metadata": {},
     "output_type": "execute_result"
    },
    {
     "data": {
      "image/png": "[encoded data removed]",
      "text/plain": [
       "<Figure size 648x648 with 1 Axes>"
      ]
     },
     "metadata": {
      "needs_background": "light"
     },
     "output_type": "display_data"
    }
   ],
   "source": [
    "data.plot(y='last_price_mn', kind = 'hist', bins = 100, grid=True, figsize = (9,9), range = (0,100))"
   ]
  },
  {
   "cell_type": "markdown",
   "metadata": {},
   "source": [
    "1. Общая площадь квартир начиается от значения в 12м2, среднее значение - 58м2, медиана - 51м2.\n",
    "2. Средняя цена на квартиру - 6 млн, медиана 4,6 млн.\n",
    "3. Средняя высота потолков в объектах, выставленных на продажу, - 2.7м.\n",
    "4. При просмотре гистограмм с характеристиками площадей квартир (общая, жилая, кухонная) можно заметить на них по несколько пиков. Скорее всего, это связано с тем, что на рынке все еще большое количество квартир из домов с типовой советской застройкой, и в данных много значений площадей, соответствующих харарктеристикам из квартир типовой застройки. Возможно, на эти значения и приходятся пики.\n",
    "5. В среднем количество этажей в домах, где продаются квартиры - 10, больше всего квартир продаются на 1 и 2 этажах.\n",
    "    \n",
    "6. На первом этаже расположено 12% от всех продаваемых объектов, на последнем этаже - 14%.\n",
    "\n",
    "7. В среднем квартиры находятся на удалении от центра Санкт-Петербурга в 14 км, самая удаленная от центра города квартира расположена в 66 км.\n",
    "    \n",
    "8. В среднем квартиры находятся на удалении от аэропарта в 28 км, самая удаленная от аэропорта квартира расположена в 85 км.\n",
    "    \n",
    "9. В среднем ближайший парк находится от продаваемого объекта в 500м, наиболее удавленная от ближайшего парка квартира - в 3.2 км от него. \n",
    "\n",
    "10. В среднем ближайший водоем находится от продаваемого объекта в 500м, наиболее удавленная от ближайшего водоема квартира - в 1.3 км от него. \n",
    "    "
   ]
  },
  {
   "cell_type": "code",
   "execution_count": 53,
   "metadata": {},
   "outputs": [
    {
     "data": {
      "text/plain": [
       "count    19285.000000\n",
       "mean       180.080114\n",
       "std        219.137983\n",
       "min          1.000000\n",
       "25%         45.000000\n",
       "50%         95.000000\n",
       "75%        230.000000\n",
       "max       1572.000000\n",
       "Name: days_exposition, dtype: float64"
      ]
     },
     "execution_count": 53,
     "metadata": {},
     "output_type": "execute_result"
    }
   ],
   "source": [
    "#ознакомимся со средним значением и медианой\n",
    "data[data['days_exposition']!=0]['days_exposition'].describe()"
   ]
  },
  {
   "cell_type": "code",
   "execution_count": 54,
   "metadata": {},
   "outputs": [
    {
     "data": {
      "text/plain": [
       "<AxesSubplot:ylabel='Frequency'>"
      ]
     },
     "execution_count": 54,
     "metadata": {},
     "output_type": "execute_result"
    },
    {
     "data": {
      "image/png": "[encoded data removed]",
      "text/plain": [
       "<Figure size 648x648 with 1 Axes>"
      ]
     },
     "metadata": {
      "needs_background": "light"
     },
     "output_type": "display_data"
    }
   ],
   "source": [
    "#построим гистрограмму для количества дней, которое было опубликовано объявление\n",
    "data['days_exposition'].plot(kind='hist', y='days_exposition', grid=True, figsize=(9,9), bins=100, range=(1,1600))"
   ]
  },
  {
   "cell_type": "code",
   "execution_count": 55,
   "metadata": {},
   "outputs": [
    {
     "data": {
      "text/plain": [
       "<AxesSubplot:ylabel='Frequency'>"
      ]
     },
     "execution_count": 55,
     "metadata": {},
     "output_type": "execute_result"
    },
    {
     "data": {
      "image/png": "[encoded data removed]",
      "text/plain": [
       "<Figure size 648x648 with 1 Axes>"
      ]
     },
     "metadata": {
      "needs_background": "light"
     },
     "output_type": "display_data"
    }
   ],
   "source": [
    "#для лучшей видимости сделаем гистограмму с ограничением по кол-ву дней публикации в 200\n",
    "#из данной гистограммы заметны несколько явных пиков\n",
    "data['days_exposition'].plot(kind='hist', y='days_exposition', grid=True, figsize=(9,9), bins=100, range=(1,200))"
   ]
  },
  {
   "cell_type": "code",
   "execution_count": 56,
   "metadata": {},
   "outputs": [
    {
     "data": {
      "text/plain": [
       "45      814\n",
       "60      521\n",
       "7       214\n",
       "30      199\n",
       "90      175\n",
       "       ... \n",
       "1112      1\n",
       "1080      1\n",
       "1064      1\n",
       "1032      1\n",
       "1391      1\n",
       "Name: days_exposition, Length: 1123, dtype: int64"
      ]
     },
     "execution_count": 56,
     "metadata": {},
     "output_type": "execute_result"
    }
   ],
   "source": [
    "#вызов метода подтверждает, что на предыдущей гистограмме мы видим пики в значениях 7, 30, 45, 60, 90 дней\n",
    "data[data['days_exposition']!=0]['days_exposition'].value_counts()"
   ]
  },
  {
   "cell_type": "code",
   "execution_count": 57,
   "metadata": {},
   "outputs": [
    {
     "data": {
      "text/plain": [
       "(1.0, 1000.0)"
      ]
     },
     "execution_count": 57,
     "metadata": {},
     "output_type": "execute_result"
    },
    {
     "data": {
      "image/png": "[encoded data removed]",
      "text/plain": [
       "<Figure size 432x288 with 1 Axes>"
      ]
     },
     "metadata": {
      "needs_background": "light"
     },
     "output_type": "display_data"
    }
   ],
   "source": [
    "#ориентировочная граница нормального размаха - 500\n",
    "import matplotlib.pyplot as plt\n",
    "plt.boxplot(data[data['days_exposition']!=0]['days_exposition'])\n",
    "plt.ylim(1,1000)"
   ]
  },
  {
   "cell_type": "markdown",
   "metadata": {},
   "source": [
    "1. Среднее значение количества дней публикации объявления - 180, медиана - 95.\n",
    "2. Межквартильный размах - от 45 до 231, ориентировочная граница нормального размаха - 500. Т.е. нормальные значения лежат от 1 до 500.\n",
    "3. Гистограмма со значениями кол-ва дней публикации объявления до 200 продемонстрировала пики в значениях 7, 30, 45, 60, 90 дней.\n",
    "4. По всей видимости пики в данных значениях связаны с особенностями размещения объявлений на конкретной площадке. Возможно, на момент сбора данных на Яндекс.Недвижимости, объявления удалялись как неактуальные именно по истечении данных сроков (возможно, количество дней варьировалось от количества комнат в кв. и платности/бесплатности объявления).\n",
    "5. Хотя квартиры действительно могли продаваться через 7, 30, 45, 60, 90 дней после публикации, для данных сроков долю снятия объявлений по факту продажи квартиры, а не по факту утери объявлением актуальности установить нельзя, поэтому нужно очистить данные от этих значений."
   ]
  },
  {
   "cell_type": "code",
   "execution_count": 58,
   "metadata": {},
   "outputs": [],
   "source": [
    "#сделаем срез очищенных данных и сохраним их в новую переменную\n",
    "good_data = data.query('days_exposition != 45 and days_exposition != 30 and days_exposition != 60 and days_exposition != 90 and days_exposition != 7')"
   ]
  },
  {
   "cell_type": "code",
   "execution_count": 59,
   "metadata": {},
   "outputs": [
    {
     "data": {
      "text/plain": [
       "(1.0, 1000.0)"
      ]
     },
     "execution_count": 59,
     "metadata": {},
     "output_type": "execute_result"
    },
    {
     "data": {
      "image/png": "[encoded data removed]",
      "text/plain": [
       "<Figure size 432x288 with 1 Axes>"
      ]
     },
     "metadata": {
      "needs_background": "light"
     },
     "output_type": "display_data"
    }
   ],
   "source": [
    "#построим новую диаграмму размаха\n",
    "plt.boxplot(good_data[good_data['days_exposition']!=0]['days_exposition'])\n",
    "plt.ylim(1,1000)"
   ]
  },
  {
   "cell_type": "code",
   "execution_count": 60,
   "metadata": {},
   "outputs": [
    {
     "data": {
      "text/plain": [
       "<AxesSubplot:ylabel='Frequency'>"
      ]
     },
     "execution_count": 60,
     "metadata": {},
     "output_type": "execute_result"
    },
    {
     "data": {
      "image/png": "[encoded data removed]",
      "text/plain": [
       "<Figure size 648x648 with 1 Axes>"
      ]
     },
     "metadata": {
      "needs_background": "light"
     },
     "output_type": "display_data"
    }
   ],
   "source": [
    "#построим новую гистограмму\n",
    "good_data.plot(y = 'days_exposition', kind = 'hist', bins = 30, grid = True, figsize=(9,9), range = (1,1600))"
   ]
  },
  {
   "cell_type": "code",
   "execution_count": 61,
   "metadata": {},
   "outputs": [
    {
     "data": {
      "text/plain": [
       "<AxesSubplot:ylabel='Frequency'>"
      ]
     },
     "execution_count": 61,
     "metadata": {},
     "output_type": "execute_result"
    },
    {
     "data": {
      "image/png": "[encoded data removed]",
      "text/plain": [
       "<Figure size 648x648 with 1 Axes>"
      ]
     },
     "metadata": {
      "needs_background": "light"
     },
     "output_type": "display_data"
    }
   ],
   "source": [
    "#для наглядности увеличим количество корзин\n",
    "good_data.plot(y = 'days_exposition', kind = 'hist', bins = 100, grid = True, range = (1,200), figsize = (9,9))"
   ]
  },
  {
   "cell_type": "code",
   "execution_count": 62,
   "metadata": {},
   "outputs": [
    {
     "data": {
      "text/plain": [
       "count    17362.000000\n",
       "mean       194.778079\n",
       "std        226.112925\n",
       "min          1.000000\n",
       "25%         44.000000\n",
       "50%        113.000000\n",
       "75%        256.750000\n",
       "max       1572.000000\n",
       "Name: days_exposition, dtype: float64"
      ]
     },
     "execution_count": 62,
     "metadata": {},
     "output_type": "execute_result"
    }
   ],
   "source": [
    "#посмотрим на характеристики отфильтрованных данных\n",
    "good_data[good_data['days_exposition']!=0]['days_exposition'].describe()"
   ]
  },
  {
   "cell_type": "markdown",
   "metadata": {},
   "source": [
    "1. После очистки данных от аномальных значений в столбце 'days_exposition' медиана и среднее значение выросли до 114 и 195 вместо 95 и 180 до очистки.\n",
    "2. Нормальные значения располагаются в диапазоне от 1 до 600 вместо от 1 до 500 ранее."
   ]
  },
  {
   "cell_type": "code",
   "execution_count": 63,
   "metadata": {
    "scrolled": true
   },
   "outputs": [
    {
     "data": {
      "text/plain": [
       "0.7291498919875175"
      ]
     },
     "execution_count": 63,
     "metadata": {},
     "output_type": "execute_result"
    },
    {
     "data": {
      "image/png": "[encoded data removed]",
      "text/plain": [
       "<Figure size 432x288 with 1 Axes>"
      ]
     },
     "metadata": {
      "needs_background": "light"
     },
     "output_type": "display_data"
    }
   ],
   "source": [
    "#Изучим зависимость стоимости объекта от общей площади\n",
    "pivot_table_price_to_total_area = data.pivot_table(index = 'total_area', values = 'last_price_mn', aggfunc = ['mean', 'count', 'median'])\n",
    "pivot_table_price_to_total_area.columns = ['mean', 'count', 'median']\n",
    "pivot_table_price_to_total_area.plot(y = 'median', style = 'o')\n",
    "\n",
    "pivot_table_price_to_total_area.sort_values('median', ascending=False)\n",
    "data['total_area'].corr(data['last_price_mn'])\n"
   ]
  },
  {
   "cell_type": "markdown",
   "metadata": {},
   "source": [
    "Вывод: стоимость объекта положительно и значительно зависит от общей площади (коэф. корр. 0.65), что очевидно."
   ]
  },
  {
   "cell_type": "code",
   "execution_count": 64,
   "metadata": {},
   "outputs": [
    {
     "data": {
      "text/plain": [
       "0.5745836815944704"
      ]
     },
     "execution_count": 64,
     "metadata": {},
     "output_type": "execute_result"
    },
    {
     "data": {
      "image/png": "[encoded data removed]",
      "text/plain": [
       "<Figure size 432x288 with 1 Axes>"
      ]
     },
     "metadata": {
      "needs_background": "light"
     },
     "output_type": "display_data"
    }
   ],
   "source": [
    "#Изучим зависимость стоимости объекта от жилой площади\n",
    "pivot_table_price_to_living_area = data.pivot_table(index = 'living_area', values = 'last_price_mn', aggfunc = ['mean', 'count', 'median'])\n",
    "pivot_table_price_to_living_area.columns = ['mean', 'count', 'median']\n",
    "pivot_table_price_to_living_area.plot(y = 'median', style = 'o')\n",
    "\n",
    "pivot_table_price_to_living_area.sort_values('median', ascending=False)\n",
    "data['living_area'].corr(data['last_price_mn'])"
   ]
  },
  {
   "cell_type": "markdown",
   "metadata": {},
   "source": [
    "Вывод: стоимость объекта положительно зависит от жилой площади (коэф. корр. 0.57), но в меньшей степени, чем от общей площади квартиры."
   ]
  },
  {
   "cell_type": "code",
   "execution_count": 65,
   "metadata": {},
   "outputs": [
    {
     "data": {
      "text/plain": [
       "0.534681764030833"
      ]
     },
     "execution_count": 65,
     "metadata": {},
     "output_type": "execute_result"
    },
    {
     "data": {
      "image/png": "[encoded data removed]",
      "text/plain": [
       "<Figure size 432x288 with 1 Axes>"
      ]
     },
     "metadata": {
      "needs_background": "light"
     },
     "output_type": "display_data"
    }
   ],
   "source": [
    "#Изучим зависимость стоимости объекта от площади кухни\n",
    "pivot_table_price_to_kitchen_area = data.pivot_table(index = 'kitchen_area', values = 'last_price_mn', aggfunc = ['mean', 'count', 'median'])\n",
    "pivot_table_price_to_kitchen_area.columns = ['mean', 'count', 'median']\n",
    "pivot_table_price_to_kitchen_area.plot(y = 'median', style = 'o')\n",
    "\n",
    "pivot_table_price_to_kitchen_area.sort_values('median', ascending=False)\n",
    "data['kitchen_area'].corr(data['last_price_mn'])"
   ]
  },
  {
   "cell_type": "markdown",
   "metadata": {},
   "source": [
    "Вывод: стоимость объекта положительно зависит от площади кухни, но зависимость слабее (коэф. корр 0.52), чем от общей площади или от жилой площади."
   ]
  },
  {
   "cell_type": "code",
   "execution_count": 66,
   "metadata": {
    "scrolled": true
   },
   "outputs": [
    {
     "data": {
      "text/plain": [
       "0.42735685499804305"
      ]
     },
     "execution_count": 66,
     "metadata": {},
     "output_type": "execute_result"
    },
    {
     "data": {
      "image/png": "[encoded data removed]",
      "text/plain": [
       "<Figure size 432x288 with 1 Axes>"
      ]
     },
     "metadata": {
      "needs_background": "light"
     },
     "output_type": "display_data"
    }
   ],
   "source": [
    "#Изучим зависимость стоимости объекта от количества комнат\n",
    "pivot_table_price_to_rooms = data.pivot_table(index = 'rooms', values = 'last_price_mn', aggfunc = ['mean', 'count', 'median'])\n",
    "pivot_table_price_to_rooms.columns = ['mean', 'count', 'median']\n",
    "pivot_table_price_to_rooms.query('count >= 59').plot(y = 'median', style = 'o-')\n",
    "\n",
    "pivot_table_price_to_rooms.query('count >= 59').sort_values('median', ascending=False)\n",
    "data['rooms'].corr(data.query('rooms <= 7')['last_price_mn'])"
   ]
  },
  {
   "cell_type": "markdown",
   "metadata": {},
   "source": [
    "Вывод: зависимость между стомость объекта и количеством комнат есть, но слабая (коэф. корр. 0.35)"
   ]
  },
  {
   "cell_type": "code",
   "execution_count": 67,
   "metadata": {},
   "outputs": [
    {
     "name": "stdout",
     "output_type": "stream",
     "text": [
      "                    mean  count  median\n",
      "floor_category                         \n",
      "другой          6.216726  16363    4.80\n",
      "первый          4.670037   2755    3.95\n",
      "последний       5.726352   3067    4.30\n"
     ]
    },
    {
     "data": {
      "image/png": "[encoded data removed]",
      "text/plain": [
       "<Figure size 432x288 with 1 Axes>"
      ]
     },
     "metadata": {
      "needs_background": "light"
     },
     "output_type": "display_data"
    }
   ],
   "source": [
    "#Изучим зависимость стоимости объекта от категории этажа\n",
    "pivot_table_price_to_floor_category = data.pivot_table(index = 'floor_category', values = 'last_price_mn', aggfunc = ['mean', 'count', 'median'])\n",
    "pivot_table_price_to_floor_category.columns = ['mean', 'count', 'median']\n",
    "pivot_table_price_to_floor_category.plot(y = 'median')\n",
    "print(pivot_table_price_to_floor_category)"
   ]
  },
  {
   "cell_type": "markdown",
   "metadata": {},
   "source": [
    "Вывод: \n",
    "1.Коэффициент корреляции мы найти не можем, т.к. в столбце 'floor_category' не числовые значения.\n",
    "2.Медианное значение стоимости объекта, находящегося на первом этаже на 0.4 млн ниже, чем объекта, находящегося на последнем этаже и на 0.95 млн ниже, чем у объекта на этаже со 2-го до предпоследнего.\n",
    "3.Очевидно, в среднем квартиры на первом этаже самые дешевые, на последнем - дороже, на этажах со 2-го до предпоследнего - наиболее дорогие.\n",
    "    "
   ]
  },
  {
   "cell_type": "code",
   "execution_count": 68,
   "metadata": {},
   "outputs": [
    {
     "name": "stdout",
     "output_type": "stream",
     "text": [
      "                        mean  count   median\n",
      "weekday_exposition                          \n",
      "Tuesday             5.959682   3941  4.70000\n",
      "Wednesday           5.963357   3721  4.65841\n",
      "Monday              6.009340   3402  4.60000\n",
      "Thursday            6.125963   4008  4.60000\n",
      "Friday              5.847669   3738  4.55000\n",
      "Saturday            5.878388   1794  4.55000\n",
      "Sunday              5.740136   1581  4.50000\n"
     ]
    },
    {
     "data": {
      "image/png": "[encoded data removed]",
      "text/plain": [
       "<Figure size 432x288 with 1 Axes>"
      ]
     },
     "metadata": {
      "needs_background": "light"
     },
     "output_type": "display_data"
    }
   ],
   "source": [
    "#Изучим зависимость стоимости объекта от дня недели размещения объявления\n",
    "pivot_table_price_to_weekday_exposition = data.pivot_table(index = 'weekday_exposition', values = 'last_price_mn', aggfunc = ['mean', 'count', 'median'])\n",
    "pivot_table_price_to_weekday_exposition.columns = ['mean', 'count', 'median']\n",
    "pivot_table_price_to_weekday_exposition.plot(y = 'median')\n",
    "print(pivot_table_price_to_weekday_exposition.sort_values('median', ascending = False))"
   ]
  },
  {
   "cell_type": "markdown",
   "metadata": {},
   "source": [
    "Вывод:\n",
    "1. Наименьшее число объявлений размещается по выходным, что очевидно, видимо люди предпочитают не откладывать публикации объявлений на выходные, а всю свою активность концентрируют в будние дни.\n",
    "2. Наименьшее медианное значение стоимости объектов у объявлений, опубликованных в выходные.\n",
    "3. Обясняя пункт 2 могу нафантазировать такую теорию: среди объявлений, опубликованных в каждый из будних дней есть доля объявлений, опубликованных через риэлторов. Риэлторы в основном работают по будням, поэтому, думаю, в выходные доля таких объявлений очень мала. Цена объекта в таких объявлениях может быть в среднем выше т.к. в целом к риэлторам обращаются люди с более дорогими объектами, второй вариант - люди, обратившиеся к риэлторам, закладывают комиссию риэтора в цену объекта. "
   ]
  },
  {
   "cell_type": "code",
   "execution_count": 69,
   "metadata": {},
   "outputs": [
    {
     "name": "stdout",
     "output_type": "stream",
     "text": [
      "                      mean  count  median\n",
      "month_exposition                         \n",
      "April             5.903855   2213   4.750\n",
      "September         6.133038   1852   4.700\n",
      "December          6.191481   1544   4.690\n",
      "November          5.952574   2199   4.650\n",
      "March             5.832704   2430   4.645\n",
      "February          6.057375   2485   4.630\n",
      "January           5.969882   1390   4.600\n",
      "July              5.937200   1585   4.600\n",
      "August            5.981363   1633   4.550\n",
      "October           5.742126   1998   4.550\n",
      "May               6.021831   1198   4.500\n",
      "June              5.844905   1658   4.400\n"
     ]
    },
    {
     "data": {
      "image/png": "[encoded data removed]",
      "text/plain": [
       "<Figure size 432x288 with 1 Axes>"
      ]
     },
     "metadata": {
      "needs_background": "light"
     },
     "output_type": "display_data"
    }
   ],
   "source": [
    "#Изучим зависимость стоимости объекта от месяца размещения объявления\n",
    "pivot_table_price_to_month_exposition = data.pivot_table(index = 'month_exposition', values = 'last_price_mn', aggfunc = ['mean', 'count', 'median'])\n",
    "pivot_table_price_to_month_exposition.columns = ['mean', 'count', 'median']\n",
    "pivot_table_price_to_month_exposition.plot(y = 'median')\n",
    "print(pivot_table_price_to_month_exposition.sort_values('median', ascending = False))"
   ]
  },
  {
   "cell_type": "markdown",
   "metadata": {},
   "source": [
    "Вывод:\n",
    "1.Медианное значение стоимости объекта выше всего для апреля. Как объсняют статьи на эту тему, после затишья на рынке в январе (после праздников) активность на рынке начинает набирать обороты и достигает пика к апрелю, соответственно, и цены тоже. Видимо также роль играет то, что летом, после покупки весной, можно успеть сделать ремонт по хорошей погоде. \n",
    "2. Спад в мае связан с долгими праздниками, а летом активность на рынке низкая из-за отпускного сезона. Осенью активность на рынке опять восстанавливается, что объясняет нахождение сентября, ноября и декабря по медианной цене. Не очень понятно, почему тогда октябрь внизу (?)"
   ]
  },
  {
   "cell_type": "code",
   "execution_count": 70,
   "metadata": {},
   "outputs": [
    {
     "name": "stdout",
     "output_type": "stream",
     "text": [
      "                      mean  count  median\n",
      "year_exposition                          \n",
      "2014             10.995194    127    7.50\n",
      "2015              7.318134   1099    5.20\n",
      "2019              6.313691   2697    5.00\n",
      "2018              5.656153   7981    4.55\n",
      "2016              6.101916   2627    4.50\n",
      "2017              5.815838   7654    4.50\n"
     ]
    },
    {
     "data": {
      "image/png": "[encoded data removed]",
      "text/plain": [
       "<Figure size 432x288 with 1 Axes>"
      ]
     },
     "metadata": {
      "needs_background": "light"
     },
     "output_type": "display_data"
    }
   ],
   "source": [
    "#Изучим зависимость стоимости объекта от года размещения объявления\n",
    "pivot_table_price_to_year_exposition = data.pivot_table(index = 'year_exposition', values = 'last_price_mn', aggfunc = ['mean', 'count', 'median'])\n",
    "pivot_table_price_to_year_exposition.columns = ['mean', 'count', 'median']\n",
    "pivot_table_price_to_year_exposition.plot(y = 'median')\n",
    "print(pivot_table_price_to_year_exposition.sort_values('median', ascending = False))"
   ]
  },
  {
   "cell_type": "markdown",
   "metadata": {},
   "source": [
    "Вывод:\n",
    "1. Выборка по 2014 году маленькая в сравнении с остальными годами, поэтому по этому году я бы выводы не делал.\n",
    "2. В целом динамика цены на квартиру по годам соответствует динамике российской экономики в эти годы. Видимо падение цен на энергоносители, ослабление рубля и санкции 2014-го года сразу стали отражаться на рынке недвижимости. Далее после затяжного падения в 2017-2018 гг опять начался скромный рост."
   ]
  },
  {
   "cell_type": "code",
   "execution_count": 71,
   "metadata": {},
   "outputs": [
    {
     "name": "stdout",
     "output_type": "stream",
     "text": [
      "                      mean  count  median\n",
      "year_exposition                          \n",
      "2014             82.544567    127   75.50\n",
      "2015             66.313485   1099   59.70\n",
      "2016             59.569928   2627   53.00\n",
      "2017             57.789673   7654   51.00\n",
      "2019             56.811628   2697   51.00\n",
      "2018             56.162922   7981   50.09\n"
     ]
    },
    {
     "data": {
      "image/png": "[encoded data removed]",
      "text/plain": [
       "<Figure size 432x288 with 1 Axes>"
      ]
     },
     "metadata": {
      "needs_background": "light"
     },
     "output_type": "display_data"
    }
   ],
   "source": [
    "#Изучим зависимость общей площади объекта от года размещения объявления\n",
    "pivot_table_total_area_to_year_exposition = data.pivot_table(index = 'year_exposition', values = 'total_area', aggfunc = ['mean', 'count', 'median'])\n",
    "pivot_table_total_area_to_year_exposition.columns = ['mean', 'count', 'median']\n",
    "pivot_table_total_area_to_year_exposition.plot(y = 'median')\n",
    "print(pivot_table_total_area_to_year_exposition.sort_values('median', ascending = False))"
   ]
  },
  {
   "cell_type": "code",
   "execution_count": 72,
   "metadata": {},
   "outputs": [
    {
     "name": "stdout",
     "output_type": "stream",
     "text": [
      "                          mean  count  median\n",
      "year_exposition                              \n",
      "2014             122053.196850    127  106468\n",
      "2019             107001.718205   2697  103606\n",
      "2018              97822.656183   7981   95860\n",
      "2015             102146.282075   1099   92727\n",
      "2017              95989.985890   7654   92237\n",
      "2016              97122.259231   2627   91632\n"
     ]
    },
    {
     "data": {
      "image/png": "[encoded data removed]",
      "text/plain": [
       "<Figure size 432x288 with 1 Axes>"
      ]
     },
     "metadata": {
      "needs_background": "light"
     },
     "output_type": "display_data"
    }
   ],
   "source": [
    "#Изучим зависимость цена на м2 от года размещения объявления\n",
    "pivot_table_price_per_meter_to_year_exposition = data.pivot_table(index = 'year_exposition', values = 'price_per_meter', aggfunc = ['mean', 'count', 'median'])\n",
    "pivot_table_price_per_meter_to_year_exposition.columns = ['mean', 'count', 'median']\n",
    "pivot_table_price_per_meter_to_year_exposition.plot(y = 'median')\n",
    "print(pivot_table_price_per_meter_to_year_exposition.sort_values('median', ascending = False))"
   ]
  },
  {
   "cell_type": "markdown",
   "metadata": {},
   "source": [
    "Динамика изменения стоимости квартир по годам объясняется динамикой изменения цены на м2 и динамикой изменения средней/медианной площади квартиры.\n",
    "    \n",
    "1. Падение средней цены объекта в 14 году объясняется и падением цены за метр и падением средней площади.\n",
    "2. Падение средней цены объекта в 15 году объясняется главным образом падением средней площади и незначительно падением цены.\n",
    "3. В 16 году средняя цена за объект не менялась: падение средней площади компенсировалось ростом цены м2.\n",
    "4. В 17 году был небольшой рост цены за объект: цена м2 росла большИм темпом, чем падала средняя площадь обекта.\n",
    "5. В 18 году рост средней цены объекта объясняется и ростом средней площади, и, в бОльшей степени, ростом цены м2."
   ]
  },
  {
   "cell_type": "markdown",
   "metadata": {},
   "source": [
    "То есть с 14 года наблюдался тренд на уменьшение средней площади квартир на продажу, скромный рост возобновился только в 18 году.\n",
    "\n",
    "Возможно, это объясняется тем, что маркетологи застройщиков быстро среагировали на кризис, и застройщики стали продавать меньшие по площади квартиры, чтобы компенсировать рост цен на м2 (как девяток яиц), и это имело эффект на весь рынок, не только на первичный. Как раз тогда стало популярным слово апартамент.\n",
    "\n",
    "Тажке уменьшение средней площади может быть связано с тем, что в центре Санкт-Петербурга появился тренд на перестройку старых коммуналок в апартаменты с площадью наподобие 12м2, как минимальное значение в столбце с общей площадью. "
   ]
  },
  {
   "cell_type": "code",
   "execution_count": 73,
   "metadata": {},
   "outputs": [
    {
     "name": "stdout",
     "output_type": "stream",
     "text": [
      "                   count           mean\n",
      "locality_name                          \n",
      "Санкт-Петербург    14827  112710.754772\n",
      "поселок Мурино       511   85149.839530\n",
      "поселок Шушары       425   78473.195294\n",
      "Всеволожск           372   68695.798387\n",
      "Пушкин               351  102325.378917\n",
      "Колпино              326   75172.368098\n",
      "поселок Парголово    322   90448.000000\n",
      "Гатчина              293   68904.491468\n",
      "деревня Кудрово      278   92540.363309\n",
      "Выборг               227   58927.828194\n",
      "                 count           mean\n",
      "locality_name                        \n",
      "Санкт-Петербург  14827  112710.754772\n",
      "               count          mean\n",
      "locality_name                     \n",
      "Выборг           227  58927.828194\n"
     ]
    }
   ],
   "source": [
    "#узнаем среднюю цену одного квадратного метра в 10 населённых пунктах с наибольшим числом объявлений\n",
    "pivot_table_locality = data.pivot_table(index='locality_name', values='price_per_meter', aggfunc=['count','mean'])\n",
    "pivot_table_locality.columns = ['count','mean']\n",
    "print(pivot_table_locality.sort_values('count', ascending=False).head(10))\n",
    "#самая высокая стоимость из топ-10 по кол-ву объявлений\n",
    "print(pivot_table_locality[pivot_table_locality['mean'] == pivot_table_locality.sort_values('count', ascending=False).head(10)['mean'].max()])\n",
    "#самая низкая стоимость из топ-10 по кол-ву объявлений\n",
    "print(pivot_table_locality[pivot_table_locality['mean'] == pivot_table_locality.sort_values('count', ascending=False).head(10)['mean'].min()])"
   ]
  },
  {
   "cell_type": "markdown",
   "metadata": {},
   "source": [
    "Вывод: из топ-10 населенных пунктов по кол-ву размещенных объявлений самая дорогая недвижимость в Санкт-Петербурге, самая дешевая - Выборге, т.к. он наиболее удаленный от Санкт-Петербурга среди остальных."
   ]
  },
  {
   "cell_type": "code",
   "execution_count": 74,
   "metadata": {},
   "outputs": [
    {
     "name": "stdout",
     "output_type": "stream",
     "text": [
      "                        price_per_meter\n",
      "city_center_nearest_km                 \n",
      "0                         166762.666667\n",
      "1                         142717.304348\n",
      "2                         133796.145985\n",
      "3                         123414.891393\n",
      "4                         135058.585455\n",
      "5                         142090.303597\n",
      "6                         147094.752860\n",
      "7                         136906.947917\n",
      "8                         119313.461538\n",
      "9                         110109.638298\n",
      "10                        111145.651429\n",
      "11                        106490.052006\n",
      "12                        107987.946318\n",
      "13                        106544.895410\n",
      "14                        104570.263303\n",
      "15                        101963.187029\n",
      "16                         99888.257974\n",
      "17                         94386.813861\n",
      "18                         94403.654545\n",
      "19                         95452.150000\n",
      "20                        102667.562500\n",
      "21                         90964.957672\n",
      "22                         88810.305344\n",
      "23                         92293.413793\n",
      "24                         82439.909091\n",
      "25                         90499.593750\n",
      "26                         75171.333333\n",
      "27                        132115.000000\n",
      "28                         81840.200000\n",
      "29                         62481.666667\n"
     ]
    },
    {
     "data": {
      "image/png": "[encoded data removed]",
      "text/plain": [
       "<Figure size 432x288 with 1 Axes>"
      ]
     },
     "metadata": {
      "needs_background": "light"
     },
     "output_type": "display_data"
    }
   ],
   "source": [
    "#изучим зависимость цены объекта в Санкт-Петербурге от его удаленности от центра города\n",
    "data['city_center_nearest_km'] = data['city_center_nearest_km'].fillna(1000).astype(int)\n",
    "pivot_table_center_km_to_price = data.query('locality_name == \"Санкт-Петербург\" and city_center_nearest_km != 1000').pivot_table(index='city_center_nearest_km', values='price_per_meter', aggfunc='mean')\n",
    "print(pivot_table_center_km_to_price)\n",
    "pivot_table_center_km_to_price.plot(title = 'Заголовок', grid = True)\n",
    "plt.show()"
   ]
  },
  {
   "cell_type": "markdown",
   "metadata": {},
   "source": [
    "Вывод: \n",
    "1. До значения удаленности от центра в 3 км видна очевидная взаимосвязь между удаленностьью о центра и ценой за м2 (чем ближе, тем дороже)\n",
    "2. При росте удаленности от центра в диапазоне от 3 до 5 км виден рост цены м2, что может показаться парадоксальным. Но, скорее всего, дело в том, что в Санкт-Петербурге сохранилось огромное полотно исторической застройки, как раз примерно в диаметре 3-4 км от центра. Чем ближе эта застройка к центру, тем больше у нее шансов оставаться в хорошем состоянии. К окраинам исторической застройки, которые уже преимущественно сильно обветшали, примыкают новые районы, и выходит, что м2 на окраине исторической застройки стоит дешевле, чем в новых районах, примыкающих к старой застройке Петербурга. + окраины старой застройки во многих местах расположены около территорий старых промышленных предприятий, индустриальных зон и вокруг железных дорог, что также снижает стоимость м2 в них.\n",
    "3. После роста на диапазоне 3-5 км от центра, обусловленного сменой застройки с обветшалой исторической на новую, с удалением от центра цена на м2 падает.\n",
    "4. Скачки в цене на отметке в 20 км и примерно 27 км, скорее всего, обусловлены тем, что на этом удалении от центра находятся курортные районы на побережье Финского залива, например, Сестрорецк, или Пушкин и Павловск с парками и дворцами, где цена на недвижимость выше, чем в спальных районах около КАДа. "
   ]
  },
  {
   "cell_type": "markdown",
   "metadata": {},
   "source": [
    "### Общий вывод"
   ]
  },
  {
   "cell_type": "markdown",
   "metadata": {},
   "source": [
    "1. При изучении данных мы увидели, что в некоторых параметрах наблюдаются выбросы (цена объекта - 12 тыс. рублей, высота потолка - 100 м. и т.д.)\n",
    "2. При анализе количества дней, за которые объект продается, мы выявили, что данные могут быть искажены из-за специфики размещения обЪявлений на площадке. Мы увидели при помощи диаграммы размаха, что нормальные значения длительности периода продажи квартиры варьируются от 1 до 600 дней.\n",
    "3. Анализ влияния параметров объекта на его стоимость показал с одной стороны очевидные результаты - чем больше площадь, тем выше цена объекта, квартира на первом этаже в среднем дешевле, чем на последнем последнего, а на последнем - дешевле, чем на любом другом кроме первого.\n",
    "4. С другой стороны, изучая влияние некоторых характеристик объекта, мы обнаружили и менее очевидные выводы: цена объекта, выставленного на продажу в выходной день, в среднем ниже, чем в будний день; самая высокая цена на недвижимость - в апреле.\n",
    "5. Цена квартиры в Санкт-Петербурге нетривиальном образом зависит от ее удаленности от центра: в диапазоне удаленности от 0 до 3 км - квартира дороже, чем ближе она к центру; в диапазоне от 3 до 5 км  - квартира дороже, чем дальше она от центра, от 5 км до примерно 20 км - квартира дешевеет по мере удаления от центра. В районе отметок 20 и 27 км наблюдается рост в ценах, видимо в связи с нахождением на данной удаленности привлекательных для жизни районов/городов.\n",
    "6. От себя я бы добавил, что для более реалистичного анализа я бы исследовал цену квадратного метра, а не цену объекта. Также анализ очень упрощен/абстракен, т.к. мы исследуем объекты без сегментации по цене (или другим характеристикам), а выводы в разных сегментах влияния, например, на цену м2 разных параметров могли сильно отличаться."
   ]
  },
  {
   "cell_type": "code",
   "execution_count": null,
   "metadata": {},
   "outputs": [],
   "source": []
  }
 ],
 "metadata": {
  "ExecuteTimeLog": [
   {
    "duration": 504,
    "start_time": "2022-08-14T20:25:38.318Z"
   },
   {
    "duration": 690,
    "start_time": "2022-08-14T20:25:46.860Z"
   },
   {
    "duration": 63,
    "start_time": "2022-08-14T20:32:50.432Z"
   },
   {
    "duration": 57,
    "start_time": "2022-08-14T20:33:18.182Z"
   },
   {
    "duration": 86,
    "start_time": "2022-08-14T20:33:51.118Z"
   },
   {
    "duration": 85,
    "start_time": "2022-08-14T20:34:17.481Z"
   },
   {
    "duration": 45,
    "start_time": "2022-08-14T20:37:34.944Z"
   },
   {
    "duration": 84,
    "start_time": "2022-08-14T20:37:50.498Z"
   },
   {
    "duration": 46,
    "start_time": "2022-08-14T20:38:47.744Z"
   },
   {
    "duration": 83,
    "start_time": "2022-08-14T20:39:10.849Z"
   },
   {
    "duration": 117,
    "start_time": "2022-08-14T20:42:07.415Z"
   },
   {
    "duration": 121,
    "start_time": "2022-08-14T20:42:34.616Z"
   },
   {
    "duration": 2208,
    "start_time": "2022-08-14T20:49:01.315Z"
   },
   {
    "duration": 108,
    "start_time": "2022-08-14T20:49:44.854Z"
   },
   {
    "duration": 119,
    "start_time": "2022-08-14T21:00:05.478Z"
   },
   {
    "duration": 511,
    "start_time": "2022-08-15T09:15:18.802Z"
   },
   {
    "duration": 3,
    "start_time": "2022-08-15T09:15:28.900Z"
   },
   {
    "duration": 7,
    "start_time": "2022-08-15T09:18:03.924Z"
   },
   {
    "duration": 3,
    "start_time": "2022-08-15T09:19:28.551Z"
   },
   {
    "duration": 116,
    "start_time": "2022-08-15T09:45:06.669Z"
   },
   {
    "duration": 104,
    "start_time": "2022-08-15T09:45:52.750Z"
   },
   {
    "duration": 105,
    "start_time": "2022-08-15T09:46:16.354Z"
   },
   {
    "duration": 102,
    "start_time": "2022-08-15T09:49:24.837Z"
   },
   {
    "duration": 83,
    "start_time": "2022-08-15T09:58:54.183Z"
   },
   {
    "duration": 532,
    "start_time": "2022-08-15T09:59:15.910Z"
   },
   {
    "duration": 161,
    "start_time": "2022-08-15T09:59:48.708Z"
   },
   {
    "duration": 202,
    "start_time": "2022-08-15T10:01:13.485Z"
   },
   {
    "duration": 222,
    "start_time": "2022-08-15T10:01:56.494Z"
   },
   {
    "duration": 159,
    "start_time": "2022-08-15T10:02:33.067Z"
   },
   {
    "duration": 173,
    "start_time": "2022-08-15T10:03:20.123Z"
   },
   {
    "duration": 193,
    "start_time": "2022-08-15T10:03:54.002Z"
   },
   {
    "duration": 253,
    "start_time": "2022-08-15T10:06:01.167Z"
   },
   {
    "duration": 171,
    "start_time": "2022-08-15T10:09:40.989Z"
   },
   {
    "duration": 175,
    "start_time": "2022-08-15T10:09:45.280Z"
   },
   {
    "duration": 167,
    "start_time": "2022-08-15T11:09:56.118Z"
   },
   {
    "duration": 2,
    "start_time": "2022-08-15T11:18:17.605Z"
   },
   {
    "duration": 111,
    "start_time": "2022-08-15T11:27:15.103Z"
   },
   {
    "duration": 4,
    "start_time": "2022-08-15T11:29:34.603Z"
   },
   {
    "duration": 4,
    "start_time": "2022-08-15T11:30:42.968Z"
   },
   {
    "duration": 99,
    "start_time": "2022-08-15T11:33:14.018Z"
   },
   {
    "duration": 5,
    "start_time": "2022-08-15T11:33:48.994Z"
   },
   {
    "duration": 4,
    "start_time": "2022-08-15T11:34:50.870Z"
   },
   {
    "duration": 8,
    "start_time": "2022-08-15T11:42:05.993Z"
   },
   {
    "duration": 1207,
    "start_time": "2022-08-15T11:42:13.489Z"
   },
   {
    "duration": 1407,
    "start_time": "2022-08-15T11:42:21.439Z"
   },
   {
    "duration": 11,
    "start_time": "2022-08-15T11:42:38.510Z"
   },
   {
    "duration": 7,
    "start_time": "2022-08-15T11:43:02.259Z"
   },
   {
    "duration": 8,
    "start_time": "2022-08-15T11:44:15.326Z"
   },
   {
    "duration": 13,
    "start_time": "2022-08-15T11:48:17.030Z"
   },
   {
    "duration": 14,
    "start_time": "2022-08-15T11:48:34.048Z"
   },
   {
    "duration": 12,
    "start_time": "2022-08-15T11:48:43.693Z"
   },
   {
    "duration": 15,
    "start_time": "2022-08-15T11:48:58.874Z"
   },
   {
    "duration": 20,
    "start_time": "2022-08-15T11:49:18.670Z"
   },
   {
    "duration": 10,
    "start_time": "2022-08-15T11:50:24.066Z"
   },
   {
    "duration": 8,
    "start_time": "2022-08-15T11:51:53.029Z"
   },
   {
    "duration": 17,
    "start_time": "2022-08-15T11:52:00.921Z"
   },
   {
    "duration": 11,
    "start_time": "2022-08-15T11:52:16.237Z"
   },
   {
    "duration": 8,
    "start_time": "2022-08-15T11:52:32.806Z"
   },
   {
    "duration": 7,
    "start_time": "2022-08-15T11:52:40.198Z"
   },
   {
    "duration": 6,
    "start_time": "2022-08-15T11:52:47.876Z"
   },
   {
    "duration": 18,
    "start_time": "2022-08-15T11:53:13.513Z"
   },
   {
    "duration": 18,
    "start_time": "2022-08-15T11:53:25.190Z"
   },
   {
    "duration": 8,
    "start_time": "2022-08-15T11:53:36.414Z"
   },
   {
    "duration": 17,
    "start_time": "2022-08-15T11:53:42.118Z"
   },
   {
    "duration": 502,
    "start_time": "2022-08-15T11:54:23.738Z"
   },
   {
    "duration": 8,
    "start_time": "2022-08-15T11:54:24.241Z"
   },
   {
    "duration": 20,
    "start_time": "2022-08-15T11:54:24.251Z"
   },
   {
    "duration": 9,
    "start_time": "2022-08-15T11:54:24.273Z"
   },
   {
    "duration": 417,
    "start_time": "2022-08-15T11:54:24.284Z"
   },
   {
    "duration": 5,
    "start_time": "2022-08-15T11:54:24.702Z"
   },
   {
    "duration": 21,
    "start_time": "2022-08-15T11:54:24.709Z"
   },
   {
    "duration": 81,
    "start_time": "2022-08-15T11:54:24.732Z"
   },
   {
    "duration": 0,
    "start_time": "2022-08-15T11:54:24.815Z"
   },
   {
    "duration": 6,
    "start_time": "2022-08-15T11:55:14.019Z"
   },
   {
    "duration": 6,
    "start_time": "2022-08-15T11:56:32.093Z"
   },
   {
    "duration": 15,
    "start_time": "2022-08-15T11:56:39.109Z"
   },
   {
    "duration": 3,
    "start_time": "2022-08-15T11:58:14.706Z"
   },
   {
    "duration": 12,
    "start_time": "2022-08-15T11:58:18.464Z"
   },
   {
    "duration": 7,
    "start_time": "2022-08-15T12:03:24.299Z"
   },
   {
    "duration": 5,
    "start_time": "2022-08-15T12:03:29.989Z"
   },
   {
    "duration": 7,
    "start_time": "2022-08-15T12:06:50.110Z"
   },
   {
    "duration": 493,
    "start_time": "2022-08-15T12:07:04.371Z"
   },
   {
    "duration": 9,
    "start_time": "2022-08-15T12:07:04.868Z"
   },
   {
    "duration": 12,
    "start_time": "2022-08-15T12:07:04.879Z"
   },
   {
    "duration": 10,
    "start_time": "2022-08-15T12:07:04.893Z"
   },
   {
    "duration": 429,
    "start_time": "2022-08-15T12:07:04.905Z"
   },
   {
    "duration": 4,
    "start_time": "2022-08-15T12:07:05.335Z"
   },
   {
    "duration": 32,
    "start_time": "2022-08-15T12:07:05.341Z"
   },
   {
    "duration": 10,
    "start_time": "2022-08-15T12:07:05.375Z"
   },
   {
    "duration": 13,
    "start_time": "2022-08-15T12:07:05.386Z"
   },
   {
    "duration": 8,
    "start_time": "2022-08-15T12:07:05.401Z"
   },
   {
    "duration": 5,
    "start_time": "2022-08-15T12:07:05.411Z"
   },
   {
    "duration": 18,
    "start_time": "2022-08-15T12:07:19.849Z"
   },
   {
    "duration": 106,
    "start_time": "2022-08-15T12:17:19.410Z"
   },
   {
    "duration": 141,
    "start_time": "2022-08-15T12:17:44.482Z"
   },
   {
    "duration": 30,
    "start_time": "2022-08-15T12:26:36.375Z"
   },
   {
    "duration": 457,
    "start_time": "2022-08-15T12:26:58.012Z"
   },
   {
    "duration": 7,
    "start_time": "2022-08-15T12:26:58.471Z"
   },
   {
    "duration": 8,
    "start_time": "2022-08-15T12:26:58.479Z"
   },
   {
    "duration": 10,
    "start_time": "2022-08-15T12:26:58.488Z"
   },
   {
    "duration": 386,
    "start_time": "2022-08-15T12:26:58.499Z"
   },
   {
    "duration": 5,
    "start_time": "2022-08-15T12:26:58.886Z"
   },
   {
    "duration": 29,
    "start_time": "2022-08-15T12:26:58.892Z"
   },
   {
    "duration": 11,
    "start_time": "2022-08-15T12:26:58.922Z"
   },
   {
    "duration": 12,
    "start_time": "2022-08-15T12:26:58.934Z"
   },
   {
    "duration": 18,
    "start_time": "2022-08-15T12:26:58.948Z"
   },
   {
    "duration": 8,
    "start_time": "2022-08-15T12:26:58.967Z"
   },
   {
    "duration": 112,
    "start_time": "2022-08-15T12:26:58.977Z"
   },
   {
    "duration": 0,
    "start_time": "2022-08-15T12:26:59.090Z"
   },
   {
    "duration": 105,
    "start_time": "2022-08-15T12:29:35.125Z"
   },
   {
    "duration": 82,
    "start_time": "2022-08-15T12:29:39.096Z"
   },
   {
    "duration": 144,
    "start_time": "2022-08-15T12:29:50.066Z"
   },
   {
    "duration": 94,
    "start_time": "2022-08-15T12:30:06.285Z"
   },
   {
    "duration": 44,
    "start_time": "2022-08-15T12:31:49.604Z"
   },
   {
    "duration": 12,
    "start_time": "2022-08-15T12:32:19.009Z"
   },
   {
    "duration": 475,
    "start_time": "2022-08-15T12:32:30.018Z"
   },
   {
    "duration": 8,
    "start_time": "2022-08-15T12:32:30.494Z"
   },
   {
    "duration": 21,
    "start_time": "2022-08-15T12:32:30.504Z"
   },
   {
    "duration": 22,
    "start_time": "2022-08-15T12:32:30.527Z"
   },
   {
    "duration": 450,
    "start_time": "2022-08-15T12:32:30.550Z"
   },
   {
    "duration": 5,
    "start_time": "2022-08-15T12:32:31.001Z"
   },
   {
    "duration": 42,
    "start_time": "2022-08-15T12:32:31.007Z"
   },
   {
    "duration": 26,
    "start_time": "2022-08-15T12:32:31.051Z"
   },
   {
    "duration": 18,
    "start_time": "2022-08-15T12:32:31.078Z"
   },
   {
    "duration": 33,
    "start_time": "2022-08-15T12:32:31.098Z"
   },
   {
    "duration": 14,
    "start_time": "2022-08-15T12:32:31.132Z"
   },
   {
    "duration": 69,
    "start_time": "2022-08-15T12:32:31.148Z"
   },
   {
    "duration": 14,
    "start_time": "2022-08-15T12:32:31.218Z"
   },
   {
    "duration": 3,
    "start_time": "2022-08-15T12:33:35.166Z"
   },
   {
    "duration": 533,
    "start_time": "2022-08-15T12:33:47.067Z"
   },
   {
    "duration": 12,
    "start_time": "2022-08-15T12:33:47.603Z"
   },
   {
    "duration": 9,
    "start_time": "2022-08-15T12:33:47.618Z"
   },
   {
    "duration": 15,
    "start_time": "2022-08-15T12:33:47.628Z"
   },
   {
    "duration": 472,
    "start_time": "2022-08-15T12:33:47.654Z"
   },
   {
    "duration": 4,
    "start_time": "2022-08-15T12:33:48.127Z"
   },
   {
    "duration": 54,
    "start_time": "2022-08-15T12:33:48.133Z"
   },
   {
    "duration": 9,
    "start_time": "2022-08-15T12:33:48.188Z"
   },
   {
    "duration": 15,
    "start_time": "2022-08-15T12:33:48.199Z"
   },
   {
    "duration": 9,
    "start_time": "2022-08-15T12:33:48.216Z"
   },
   {
    "duration": 5,
    "start_time": "2022-08-15T12:33:48.227Z"
   },
   {
    "duration": 5,
    "start_time": "2022-08-15T12:33:48.233Z"
   },
   {
    "duration": 18,
    "start_time": "2022-08-15T12:33:48.239Z"
   },
   {
    "duration": 9,
    "start_time": "2022-08-15T13:17:17.746Z"
   },
   {
    "duration": 30,
    "start_time": "2022-08-15T13:19:34.478Z"
   },
   {
    "duration": 22,
    "start_time": "2022-08-15T13:24:24.991Z"
   },
   {
    "duration": 5,
    "start_time": "2022-08-15T13:25:08.481Z"
   },
   {
    "duration": 4,
    "start_time": "2022-08-15T13:25:12.396Z"
   },
   {
    "duration": 4,
    "start_time": "2022-08-15T13:25:16.231Z"
   },
   {
    "duration": 514,
    "start_time": "2022-08-15T13:25:24.975Z"
   },
   {
    "duration": 7,
    "start_time": "2022-08-15T13:25:25.491Z"
   },
   {
    "duration": 16,
    "start_time": "2022-08-15T13:25:25.500Z"
   },
   {
    "duration": 27,
    "start_time": "2022-08-15T13:25:25.518Z"
   },
   {
    "duration": 372,
    "start_time": "2022-08-15T13:25:25.547Z"
   },
   {
    "duration": 4,
    "start_time": "2022-08-15T13:25:25.921Z"
   },
   {
    "duration": 36,
    "start_time": "2022-08-15T13:25:25.926Z"
   },
   {
    "duration": 12,
    "start_time": "2022-08-15T13:25:25.963Z"
   },
   {
    "duration": 18,
    "start_time": "2022-08-15T13:25:25.976Z"
   },
   {
    "duration": 12,
    "start_time": "2022-08-15T13:25:25.996Z"
   },
   {
    "duration": 4,
    "start_time": "2022-08-15T13:25:26.010Z"
   },
   {
    "duration": 9,
    "start_time": "2022-08-15T13:25:26.016Z"
   },
   {
    "duration": 42,
    "start_time": "2022-08-15T13:25:26.027Z"
   },
   {
    "duration": 4,
    "start_time": "2022-08-15T13:25:26.071Z"
   },
   {
    "duration": 22,
    "start_time": "2022-08-15T13:25:38.067Z"
   },
   {
    "duration": 21,
    "start_time": "2022-08-15T13:25:49.106Z"
   },
   {
    "duration": 21,
    "start_time": "2022-08-15T13:26:02.500Z"
   },
   {
    "duration": 4,
    "start_time": "2022-08-15T13:26:21.632Z"
   },
   {
    "duration": 41,
    "start_time": "2022-08-15T13:33:01.603Z"
   },
   {
    "duration": 21,
    "start_time": "2022-08-15T13:33:35.844Z"
   },
   {
    "duration": 336,
    "start_time": "2022-08-15T13:38:27.798Z"
   },
   {
    "duration": 502,
    "start_time": "2022-08-15T13:38:47.649Z"
   },
   {
    "duration": 10,
    "start_time": "2022-08-15T13:38:48.153Z"
   },
   {
    "duration": 6,
    "start_time": "2022-08-15T13:38:48.164Z"
   },
   {
    "duration": 7,
    "start_time": "2022-08-15T13:38:48.172Z"
   },
   {
    "duration": 398,
    "start_time": "2022-08-15T13:38:48.180Z"
   },
   {
    "duration": 4,
    "start_time": "2022-08-15T13:38:48.579Z"
   },
   {
    "duration": 33,
    "start_time": "2022-08-15T13:38:48.585Z"
   },
   {
    "duration": 14,
    "start_time": "2022-08-15T13:38:48.620Z"
   },
   {
    "duration": 16,
    "start_time": "2022-08-15T13:38:48.635Z"
   },
   {
    "duration": 12,
    "start_time": "2022-08-15T13:38:48.653Z"
   },
   {
    "duration": 11,
    "start_time": "2022-08-15T13:38:48.667Z"
   },
   {
    "duration": 4,
    "start_time": "2022-08-15T13:38:48.679Z"
   },
   {
    "duration": 31,
    "start_time": "2022-08-15T13:38:48.685Z"
   },
   {
    "duration": 4,
    "start_time": "2022-08-15T13:38:48.717Z"
   },
   {
    "duration": 41,
    "start_time": "2022-08-15T13:38:48.723Z"
   },
   {
    "duration": 336,
    "start_time": "2022-08-15T13:38:48.766Z"
   },
   {
    "duration": 339,
    "start_time": "2022-08-15T13:39:15.767Z"
   },
   {
    "duration": 535,
    "start_time": "2022-08-15T13:45:47.334Z"
   },
   {
    "duration": 9,
    "start_time": "2022-08-15T13:45:47.871Z"
   },
   {
    "duration": 7,
    "start_time": "2022-08-15T13:45:47.882Z"
   },
   {
    "duration": 11,
    "start_time": "2022-08-15T13:45:47.892Z"
   },
   {
    "duration": 411,
    "start_time": "2022-08-15T13:45:47.905Z"
   },
   {
    "duration": 6,
    "start_time": "2022-08-15T13:45:48.317Z"
   },
   {
    "duration": 8,
    "start_time": "2022-08-15T13:45:48.324Z"
   },
   {
    "duration": 29,
    "start_time": "2022-08-15T13:45:48.334Z"
   },
   {
    "duration": 13,
    "start_time": "2022-08-15T13:45:48.365Z"
   },
   {
    "duration": 13,
    "start_time": "2022-08-15T13:45:48.380Z"
   },
   {
    "duration": 10,
    "start_time": "2022-08-15T13:45:48.395Z"
   },
   {
    "duration": 6,
    "start_time": "2022-08-15T13:45:48.407Z"
   },
   {
    "duration": 52,
    "start_time": "2022-08-15T13:45:48.414Z"
   },
   {
    "duration": 6,
    "start_time": "2022-08-15T13:45:48.468Z"
   },
   {
    "duration": 34,
    "start_time": "2022-08-15T13:45:48.475Z"
   },
   {
    "duration": 318,
    "start_time": "2022-08-15T13:45:48.511Z"
   },
   {
    "duration": 1378,
    "start_time": "2022-08-15T13:45:48.831Z"
   },
   {
    "duration": 1252,
    "start_time": "2022-08-15T13:47:41.590Z"
   },
   {
    "duration": 27,
    "start_time": "2022-08-15T13:48:00.425Z"
   },
   {
    "duration": 25,
    "start_time": "2022-08-15T13:57:15.090Z"
   },
   {
    "duration": 287,
    "start_time": "2022-08-15T14:23:22.112Z"
   },
   {
    "duration": 104,
    "start_time": "2022-08-15T14:23:56.625Z"
   },
   {
    "duration": 254,
    "start_time": "2022-08-15T14:24:02.270Z"
   },
   {
    "duration": 184,
    "start_time": "2022-08-15T14:24:21.466Z"
   },
   {
    "duration": 262,
    "start_time": "2022-08-15T14:24:48.286Z"
   },
   {
    "duration": 303,
    "start_time": "2022-08-15T14:28:50.001Z"
   },
   {
    "duration": 421,
    "start_time": "2022-08-15T14:39:57.744Z"
   },
   {
    "duration": 421,
    "start_time": "2022-08-15T14:41:39.184Z"
   },
   {
    "duration": 300,
    "start_time": "2022-08-15T14:44:09.784Z"
   },
   {
    "duration": 299,
    "start_time": "2022-08-15T14:44:41.117Z"
   },
   {
    "duration": 210,
    "start_time": "2022-08-15T14:45:26.093Z"
   },
   {
    "duration": 247,
    "start_time": "2022-08-15T14:45:37.993Z"
   },
   {
    "duration": 237,
    "start_time": "2022-08-15T14:46:02.778Z"
   },
   {
    "duration": 215,
    "start_time": "2022-08-15T14:47:24.530Z"
   },
   {
    "duration": 412,
    "start_time": "2022-08-15T14:47:57.799Z"
   },
   {
    "duration": 433,
    "start_time": "2022-08-15T14:50:56.988Z"
   },
   {
    "duration": 314,
    "start_time": "2022-08-15T14:51:12.179Z"
   },
   {
    "duration": 27,
    "start_time": "2022-08-15T14:52:00.331Z"
   },
   {
    "duration": 321,
    "start_time": "2022-08-15T14:52:35.166Z"
   },
   {
    "duration": 313,
    "start_time": "2022-08-15T14:53:57.012Z"
   },
   {
    "duration": 213,
    "start_time": "2022-08-15T14:54:25.894Z"
   },
   {
    "duration": 305,
    "start_time": "2022-08-15T14:54:42.984Z"
   },
   {
    "duration": 60,
    "start_time": "2022-08-15T15:18:40.905Z"
   },
   {
    "duration": 40,
    "start_time": "2022-08-15T15:20:21.995Z"
   },
   {
    "duration": 25,
    "start_time": "2022-08-15T15:23:21.418Z"
   },
   {
    "duration": 25,
    "start_time": "2022-08-15T15:24:21.492Z"
   },
   {
    "duration": 30,
    "start_time": "2022-08-15T15:24:55.732Z"
   },
   {
    "duration": 124,
    "start_time": "2022-08-15T15:25:34.426Z"
   },
   {
    "duration": 51,
    "start_time": "2022-08-15T15:25:46.853Z"
   },
   {
    "duration": 485,
    "start_time": "2022-08-15T15:44:19.892Z"
   },
   {
    "duration": 8,
    "start_time": "2022-08-15T15:44:20.379Z"
   },
   {
    "duration": 10,
    "start_time": "2022-08-15T15:44:20.389Z"
   },
   {
    "duration": 10,
    "start_time": "2022-08-15T15:44:20.401Z"
   },
   {
    "duration": 410,
    "start_time": "2022-08-15T15:44:20.413Z"
   },
   {
    "duration": 4,
    "start_time": "2022-08-15T15:44:20.824Z"
   },
   {
    "duration": 64,
    "start_time": "2022-08-15T15:44:20.830Z"
   },
   {
    "duration": 8,
    "start_time": "2022-08-15T15:44:20.896Z"
   },
   {
    "duration": 15,
    "start_time": "2022-08-15T15:44:20.905Z"
   },
   {
    "duration": 9,
    "start_time": "2022-08-15T15:44:20.922Z"
   },
   {
    "duration": 5,
    "start_time": "2022-08-15T15:44:20.932Z"
   },
   {
    "duration": 5,
    "start_time": "2022-08-15T15:44:20.939Z"
   },
   {
    "duration": 35,
    "start_time": "2022-08-15T15:44:20.946Z"
   },
   {
    "duration": 5,
    "start_time": "2022-08-15T15:44:20.983Z"
   },
   {
    "duration": 30,
    "start_time": "2022-08-15T15:44:20.990Z"
   },
   {
    "duration": 329,
    "start_time": "2022-08-15T15:44:21.022Z"
   },
   {
    "duration": 16,
    "start_time": "2022-08-15T15:44:21.353Z"
   },
   {
    "duration": 33,
    "start_time": "2022-08-15T15:44:21.371Z"
   },
   {
    "duration": 38,
    "start_time": "2022-08-15T15:44:21.405Z"
   },
   {
    "duration": 34,
    "start_time": "2022-08-15T15:44:21.445Z"
   },
   {
    "duration": 230,
    "start_time": "2022-08-15T15:44:21.481Z"
   },
   {
    "duration": 259,
    "start_time": "2022-08-15T15:44:21.713Z"
   },
   {
    "duration": 197,
    "start_time": "2022-08-15T15:44:21.974Z"
   },
   {
    "duration": 300,
    "start_time": "2022-08-15T15:44:22.173Z"
   },
   {
    "duration": 296,
    "start_time": "2022-08-15T15:44:46.226Z"
   },
   {
    "duration": 197,
    "start_time": "2022-08-15T15:45:05.709Z"
   },
   {
    "duration": 235,
    "start_time": "2022-08-15T15:56:17.908Z"
   },
   {
    "duration": 112,
    "start_time": "2022-08-15T16:07:26.986Z"
   },
   {
    "duration": 36,
    "start_time": "2022-08-15T16:07:42.499Z"
   },
   {
    "duration": 78,
    "start_time": "2022-08-15T16:08:32.697Z"
   },
   {
    "duration": 51,
    "start_time": "2022-08-15T16:08:49.481Z"
   },
   {
    "duration": 49,
    "start_time": "2022-08-15T16:09:04.426Z"
   },
   {
    "duration": 32,
    "start_time": "2022-08-15T16:13:56.712Z"
   },
   {
    "duration": 43,
    "start_time": "2022-08-15T16:14:45.538Z"
   },
   {
    "duration": 7,
    "start_time": "2022-08-15T16:17:19.780Z"
   },
   {
    "duration": 198,
    "start_time": "2022-08-15T18:29:33.006Z"
   },
   {
    "duration": 397,
    "start_time": "2022-08-15T18:29:58.451Z"
   },
   {
    "duration": 483,
    "start_time": "2022-08-15T18:31:15.420Z"
   },
   {
    "duration": 531,
    "start_time": "2022-08-15T18:32:50.276Z"
   },
   {
    "duration": 12,
    "start_time": "2022-08-15T18:32:50.809Z"
   },
   {
    "duration": 24,
    "start_time": "2022-08-15T18:32:50.823Z"
   },
   {
    "duration": 46,
    "start_time": "2022-08-15T18:32:50.849Z"
   },
   {
    "duration": 470,
    "start_time": "2022-08-15T18:32:50.897Z"
   },
   {
    "duration": 10,
    "start_time": "2022-08-15T18:32:51.368Z"
   },
   {
    "duration": 15,
    "start_time": "2022-08-15T18:32:51.380Z"
   },
   {
    "duration": 8,
    "start_time": "2022-08-15T18:32:51.396Z"
   },
   {
    "duration": 13,
    "start_time": "2022-08-15T18:32:51.406Z"
   },
   {
    "duration": 9,
    "start_time": "2022-08-15T18:32:51.420Z"
   },
   {
    "duration": 32,
    "start_time": "2022-08-15T18:32:51.430Z"
   },
   {
    "duration": 7,
    "start_time": "2022-08-15T18:32:51.466Z"
   },
   {
    "duration": 55,
    "start_time": "2022-08-15T18:32:51.474Z"
   },
   {
    "duration": 5,
    "start_time": "2022-08-15T18:32:51.531Z"
   },
   {
    "duration": 31,
    "start_time": "2022-08-15T18:32:51.538Z"
   },
   {
    "duration": 345,
    "start_time": "2022-08-15T18:32:51.573Z"
   },
   {
    "duration": 7,
    "start_time": "2022-08-15T18:32:51.920Z"
   },
   {
    "duration": 53,
    "start_time": "2022-08-15T18:32:51.928Z"
   },
   {
    "duration": 40,
    "start_time": "2022-08-15T18:32:51.988Z"
   },
   {
    "duration": 46,
    "start_time": "2022-08-15T18:32:52.030Z"
   },
   {
    "duration": 8,
    "start_time": "2022-08-15T18:32:52.077Z"
   },
   {
    "duration": 240,
    "start_time": "2022-08-15T18:32:52.086Z"
   },
   {
    "duration": 281,
    "start_time": "2022-08-15T18:32:52.328Z"
   },
   {
    "duration": 223,
    "start_time": "2022-08-15T18:32:52.612Z"
   },
   {
    "duration": 241,
    "start_time": "2022-08-15T18:32:52.837Z"
   },
   {
    "duration": 319,
    "start_time": "2022-08-15T18:32:53.084Z"
   },
   {
    "duration": 292,
    "start_time": "2022-08-15T18:32:53.405Z"
   },
   {
    "duration": 288,
    "start_time": "2022-08-15T18:33:58.541Z"
   },
   {
    "duration": 294,
    "start_time": "2022-08-15T18:34:09.543Z"
   },
   {
    "duration": 396,
    "start_time": "2022-08-15T18:34:56.301Z"
   },
   {
    "duration": 10,
    "start_time": "2022-08-15T18:36:07.420Z"
   },
   {
    "duration": 13,
    "start_time": "2022-08-15T18:40:47.877Z"
   },
   {
    "duration": 67,
    "start_time": "2022-08-15T18:41:42.398Z"
   },
   {
    "duration": 112,
    "start_time": "2022-08-15T18:43:31.874Z"
   },
   {
    "duration": 16,
    "start_time": "2022-08-15T18:43:48.817Z"
   },
   {
    "duration": 38,
    "start_time": "2022-08-15T18:44:37.855Z"
   },
   {
    "duration": 27,
    "start_time": "2022-08-15T18:44:47.574Z"
   },
   {
    "duration": 25,
    "start_time": "2022-08-15T18:44:53.352Z"
   },
   {
    "duration": 21,
    "start_time": "2022-08-15T18:46:07.526Z"
   },
   {
    "duration": 19,
    "start_time": "2022-08-15T18:46:23.690Z"
   },
   {
    "duration": 10,
    "start_time": "2022-08-15T18:58:34.030Z"
   },
   {
    "duration": 582,
    "start_time": "2022-08-15T18:58:46.755Z"
   },
   {
    "duration": 8,
    "start_time": "2022-08-15T18:58:47.339Z"
   },
   {
    "duration": 67,
    "start_time": "2022-08-15T18:58:47.349Z"
   },
   {
    "duration": 20,
    "start_time": "2022-08-15T18:58:47.419Z"
   },
   {
    "duration": 551,
    "start_time": "2022-08-15T18:58:47.441Z"
   },
   {
    "duration": 7,
    "start_time": "2022-08-15T18:58:47.997Z"
   },
   {
    "duration": 40,
    "start_time": "2022-08-15T18:58:48.005Z"
   },
   {
    "duration": 9,
    "start_time": "2022-08-15T18:58:48.046Z"
   },
   {
    "duration": 56,
    "start_time": "2022-08-15T18:58:48.057Z"
   },
   {
    "duration": 9,
    "start_time": "2022-08-15T18:58:48.116Z"
   },
   {
    "duration": 5,
    "start_time": "2022-08-15T18:58:48.126Z"
   },
   {
    "duration": 5,
    "start_time": "2022-08-15T18:58:48.132Z"
   },
   {
    "duration": 53,
    "start_time": "2022-08-15T18:58:48.138Z"
   },
   {
    "duration": 9,
    "start_time": "2022-08-15T18:58:48.193Z"
   },
   {
    "duration": 22,
    "start_time": "2022-08-15T18:58:48.204Z"
   },
   {
    "duration": 388,
    "start_time": "2022-08-15T18:58:48.228Z"
   },
   {
    "duration": 6,
    "start_time": "2022-08-15T18:58:48.618Z"
   },
   {
    "duration": 37,
    "start_time": "2022-08-15T18:58:48.625Z"
   },
   {
    "duration": 53,
    "start_time": "2022-08-15T18:58:48.664Z"
   },
   {
    "duration": 24,
    "start_time": "2022-08-15T18:58:48.719Z"
   },
   {
    "duration": 8,
    "start_time": "2022-08-15T18:58:48.756Z"
   },
   {
    "duration": 267,
    "start_time": "2022-08-15T18:58:48.765Z"
   },
   {
    "duration": 297,
    "start_time": "2022-08-15T18:58:49.034Z"
   },
   {
    "duration": 210,
    "start_time": "2022-08-15T18:58:49.333Z"
   },
   {
    "duration": 228,
    "start_time": "2022-08-15T18:58:49.545Z"
   },
   {
    "duration": 289,
    "start_time": "2022-08-15T18:58:49.775Z"
   },
   {
    "duration": 298,
    "start_time": "2022-08-15T18:58:50.066Z"
   },
   {
    "duration": 14,
    "start_time": "2022-08-15T18:58:50.368Z"
   },
   {
    "duration": 10,
    "start_time": "2022-08-15T18:59:23.720Z"
   },
   {
    "duration": 102,
    "start_time": "2022-08-15T19:06:04.423Z"
   },
   {
    "duration": 158,
    "start_time": "2022-08-15T19:06:45.254Z"
   },
   {
    "duration": 151,
    "start_time": "2022-08-15T19:07:42.882Z"
   },
   {
    "duration": 89,
    "start_time": "2022-08-15T19:08:55.503Z"
   },
   {
    "duration": 9,
    "start_time": "2022-08-15T19:08:59.230Z"
   },
   {
    "duration": 27,
    "start_time": "2022-08-15T19:09:09.011Z"
   },
   {
    "duration": 91,
    "start_time": "2022-08-15T19:09:48.406Z"
   },
   {
    "duration": 560,
    "start_time": "2022-08-15T19:10:05.393Z"
   },
   {
    "duration": 11,
    "start_time": "2022-08-15T19:10:05.965Z"
   },
   {
    "duration": 40,
    "start_time": "2022-08-15T19:10:05.978Z"
   },
   {
    "duration": 8,
    "start_time": "2022-08-15T19:10:06.020Z"
   },
   {
    "duration": 476,
    "start_time": "2022-08-15T19:10:06.030Z"
   },
   {
    "duration": 6,
    "start_time": "2022-08-15T19:10:06.508Z"
   },
   {
    "duration": 96,
    "start_time": "2022-08-15T19:10:06.516Z"
   },
   {
    "duration": 16,
    "start_time": "2022-08-15T19:10:06.614Z"
   },
   {
    "duration": 15,
    "start_time": "2022-08-15T19:10:06.631Z"
   },
   {
    "duration": 13,
    "start_time": "2022-08-15T19:10:06.649Z"
   },
   {
    "duration": 73,
    "start_time": "2022-08-15T19:10:06.663Z"
   },
   {
    "duration": 8,
    "start_time": "2022-08-15T19:10:06.738Z"
   },
   {
    "duration": 66,
    "start_time": "2022-08-15T19:10:06.748Z"
   },
   {
    "duration": 26,
    "start_time": "2022-08-15T19:10:06.816Z"
   },
   {
    "duration": 31,
    "start_time": "2022-08-15T19:10:06.844Z"
   },
   {
    "duration": 438,
    "start_time": "2022-08-15T19:10:06.877Z"
   },
   {
    "duration": 13,
    "start_time": "2022-08-15T19:10:07.324Z"
   },
   {
    "duration": 72,
    "start_time": "2022-08-15T19:10:07.339Z"
   },
   {
    "duration": 67,
    "start_time": "2022-08-15T19:10:07.413Z"
   },
   {
    "duration": 41,
    "start_time": "2022-08-15T19:10:07.487Z"
   },
   {
    "duration": 9,
    "start_time": "2022-08-15T19:10:07.530Z"
   },
   {
    "duration": 282,
    "start_time": "2022-08-15T19:10:07.541Z"
   },
   {
    "duration": 327,
    "start_time": "2022-08-15T19:10:07.826Z"
   },
   {
    "duration": 259,
    "start_time": "2022-08-15T19:10:08.155Z"
   },
   {
    "duration": 215,
    "start_time": "2022-08-15T19:10:08.416Z"
   },
   {
    "duration": 41,
    "start_time": "2022-08-15T19:10:08.633Z"
   },
   {
    "duration": 272,
    "start_time": "2022-08-15T19:10:08.675Z"
   },
   {
    "duration": 328,
    "start_time": "2022-08-15T19:10:08.958Z"
   },
   {
    "duration": 17,
    "start_time": "2022-08-15T19:10:09.290Z"
   },
   {
    "duration": 110,
    "start_time": "2022-08-15T19:10:09.308Z"
   },
   {
    "duration": 89,
    "start_time": "2022-08-15T19:12:34.126Z"
   },
   {
    "duration": 167,
    "start_time": "2022-08-15T19:14:38.280Z"
   },
   {
    "duration": 88,
    "start_time": "2022-08-15T19:15:22.489Z"
   },
   {
    "duration": 185,
    "start_time": "2022-08-15T19:17:03.125Z"
   },
   {
    "duration": 530,
    "start_time": "2022-08-15T19:18:16.085Z"
   },
   {
    "duration": 8,
    "start_time": "2022-08-15T19:18:16.619Z"
   },
   {
    "duration": 9,
    "start_time": "2022-08-15T19:18:16.628Z"
   },
   {
    "duration": 31,
    "start_time": "2022-08-15T19:18:16.639Z"
   },
   {
    "duration": 549,
    "start_time": "2022-08-15T19:18:16.672Z"
   },
   {
    "duration": 4,
    "start_time": "2022-08-15T19:18:17.224Z"
   },
   {
    "duration": 93,
    "start_time": "2022-08-15T19:18:17.230Z"
   },
   {
    "duration": 12,
    "start_time": "2022-08-15T19:18:17.326Z"
   },
   {
    "duration": 46,
    "start_time": "2022-08-15T19:18:17.340Z"
   },
   {
    "duration": 44,
    "start_time": "2022-08-15T19:18:17.389Z"
   },
   {
    "duration": 13,
    "start_time": "2022-08-15T19:18:17.435Z"
   },
   {
    "duration": 50,
    "start_time": "2022-08-15T19:18:17.450Z"
   },
   {
    "duration": 60,
    "start_time": "2022-08-15T19:18:17.501Z"
   },
   {
    "duration": 9,
    "start_time": "2022-08-15T19:18:17.567Z"
   },
   {
    "duration": 69,
    "start_time": "2022-08-15T19:18:17.578Z"
   },
   {
    "duration": 531,
    "start_time": "2022-08-15T19:18:17.649Z"
   },
   {
    "duration": 17,
    "start_time": "2022-08-15T19:18:18.188Z"
   },
   {
    "duration": 40,
    "start_time": "2022-08-15T19:18:18.211Z"
   },
   {
    "duration": 67,
    "start_time": "2022-08-15T19:18:18.253Z"
   },
   {
    "duration": 31,
    "start_time": "2022-08-15T19:18:18.322Z"
   },
   {
    "duration": 26,
    "start_time": "2022-08-15T19:18:18.360Z"
   },
   {
    "duration": 247,
    "start_time": "2022-08-15T19:18:18.393Z"
   },
   {
    "duration": 331,
    "start_time": "2022-08-15T19:18:18.642Z"
   },
   {
    "duration": 237,
    "start_time": "2022-08-15T19:18:18.975Z"
   },
   {
    "duration": 236,
    "start_time": "2022-08-15T19:18:19.214Z"
   },
   {
    "duration": 21,
    "start_time": "2022-08-15T19:18:19.452Z"
   },
   {
    "duration": 348,
    "start_time": "2022-08-15T19:18:19.486Z"
   },
   {
    "duration": 327,
    "start_time": "2022-08-15T19:18:19.836Z"
   },
   {
    "duration": 17,
    "start_time": "2022-08-15T19:18:20.174Z"
   },
   {
    "duration": 123,
    "start_time": "2022-08-15T19:18:20.198Z"
   },
   {
    "duration": 541,
    "start_time": "2022-08-15T19:20:29.784Z"
   },
   {
    "duration": 10,
    "start_time": "2022-08-15T19:20:30.328Z"
   },
   {
    "duration": 25,
    "start_time": "2022-08-15T19:20:30.340Z"
   },
   {
    "duration": 63,
    "start_time": "2022-08-15T19:20:30.367Z"
   },
   {
    "duration": 536,
    "start_time": "2022-08-15T19:20:30.433Z"
   },
   {
    "duration": 18,
    "start_time": "2022-08-15T19:20:30.972Z"
   },
   {
    "duration": 67,
    "start_time": "2022-08-15T19:20:30.991Z"
   },
   {
    "duration": 64,
    "start_time": "2022-08-15T19:20:31.060Z"
   },
   {
    "duration": 15,
    "start_time": "2022-08-15T19:20:31.126Z"
   },
   {
    "duration": 6,
    "start_time": "2022-08-15T19:20:31.143Z"
   },
   {
    "duration": 42,
    "start_time": "2022-08-15T19:20:31.150Z"
   },
   {
    "duration": 53,
    "start_time": "2022-08-15T19:20:31.193Z"
   },
   {
    "duration": 10,
    "start_time": "2022-08-15T19:20:31.249Z"
   },
   {
    "duration": 70,
    "start_time": "2022-08-15T19:20:31.266Z"
   },
   {
    "duration": 404,
    "start_time": "2022-08-15T19:20:31.338Z"
   },
   {
    "duration": 14,
    "start_time": "2022-08-15T19:20:31.743Z"
   },
   {
    "duration": 72,
    "start_time": "2022-08-15T19:20:31.761Z"
   },
   {
    "duration": 51,
    "start_time": "2022-08-15T19:20:31.835Z"
   },
   {
    "duration": 32,
    "start_time": "2022-08-15T19:20:31.888Z"
   },
   {
    "duration": 6,
    "start_time": "2022-08-15T19:20:31.922Z"
   },
   {
    "duration": 257,
    "start_time": "2022-08-15T19:20:31.929Z"
   },
   {
    "duration": 290,
    "start_time": "2022-08-15T19:20:32.187Z"
   },
   {
    "duration": 235,
    "start_time": "2022-08-15T19:20:32.484Z"
   },
   {
    "duration": 219,
    "start_time": "2022-08-15T19:20:32.720Z"
   },
   {
    "duration": 35,
    "start_time": "2022-08-15T19:20:32.941Z"
   },
   {
    "duration": 335,
    "start_time": "2022-08-15T19:20:32.997Z"
   },
   {
    "duration": 297,
    "start_time": "2022-08-15T19:20:33.333Z"
   },
   {
    "duration": 7,
    "start_time": "2022-08-15T19:20:33.633Z"
   },
   {
    "duration": 96,
    "start_time": "2022-08-15T19:20:33.654Z"
   },
   {
    "duration": 125,
    "start_time": "2022-08-15T19:21:41.720Z"
   },
   {
    "duration": 116,
    "start_time": "2022-08-15T19:22:38.215Z"
   },
   {
    "duration": 127,
    "start_time": "2022-08-15T19:22:59.407Z"
   },
   {
    "duration": 78,
    "start_time": "2022-08-15T19:25:49.584Z"
   },
   {
    "duration": 10,
    "start_time": "2022-08-15T19:25:58.696Z"
   },
   {
    "duration": 180,
    "start_time": "2022-08-15T19:26:14.652Z"
   },
   {
    "duration": 6,
    "start_time": "2022-08-15T19:27:19.981Z"
   },
   {
    "duration": 4,
    "start_time": "2022-08-15T19:27:30.505Z"
   },
   {
    "duration": 113,
    "start_time": "2022-08-15T19:27:39.386Z"
   },
   {
    "duration": 96,
    "start_time": "2022-08-15T19:28:10.448Z"
   },
   {
    "duration": 98,
    "start_time": "2022-08-15T19:32:41.404Z"
   },
   {
    "duration": 536,
    "start_time": "2022-08-15T19:32:48.611Z"
   },
   {
    "duration": 16,
    "start_time": "2022-08-15T19:32:49.155Z"
   },
   {
    "duration": 43,
    "start_time": "2022-08-15T19:32:49.172Z"
   },
   {
    "duration": 13,
    "start_time": "2022-08-15T19:32:49.218Z"
   },
   {
    "duration": 467,
    "start_time": "2022-08-15T19:32:49.232Z"
   },
   {
    "duration": 9,
    "start_time": "2022-08-15T19:32:49.702Z"
   },
   {
    "duration": 34,
    "start_time": "2022-08-15T19:32:49.713Z"
   },
   {
    "duration": 69,
    "start_time": "2022-08-15T19:32:49.749Z"
   },
   {
    "duration": 25,
    "start_time": "2022-08-15T19:32:49.820Z"
   },
   {
    "duration": 56,
    "start_time": "2022-08-15T19:32:49.847Z"
   },
   {
    "duration": 7,
    "start_time": "2022-08-15T19:32:49.905Z"
   },
   {
    "duration": 63,
    "start_time": "2022-08-15T19:32:49.913Z"
   },
   {
    "duration": 29,
    "start_time": "2022-08-15T19:32:49.977Z"
   },
   {
    "duration": 42,
    "start_time": "2022-08-15T19:32:50.007Z"
   },
   {
    "duration": 388,
    "start_time": "2022-08-15T19:32:50.050Z"
   },
   {
    "duration": 20,
    "start_time": "2022-08-15T19:32:50.440Z"
   },
   {
    "duration": 33,
    "start_time": "2022-08-15T19:32:50.464Z"
   },
   {
    "duration": 49,
    "start_time": "2022-08-15T19:32:50.499Z"
   },
   {
    "duration": 37,
    "start_time": "2022-08-15T19:32:50.558Z"
   },
   {
    "duration": 15,
    "start_time": "2022-08-15T19:32:50.597Z"
   },
   {
    "duration": 238,
    "start_time": "2022-08-15T19:32:50.614Z"
   },
   {
    "duration": 283,
    "start_time": "2022-08-15T19:32:50.854Z"
   },
   {
    "duration": 231,
    "start_time": "2022-08-15T19:32:51.140Z"
   },
   {
    "duration": 223,
    "start_time": "2022-08-15T19:32:51.376Z"
   },
   {
    "duration": 10,
    "start_time": "2022-08-15T19:32:51.602Z"
   },
   {
    "duration": 274,
    "start_time": "2022-08-15T19:32:51.613Z"
   },
   {
    "duration": 279,
    "start_time": "2022-08-15T19:32:51.888Z"
   },
   {
    "duration": 8,
    "start_time": "2022-08-15T19:32:52.172Z"
   },
   {
    "duration": 114,
    "start_time": "2022-08-15T19:32:52.182Z"
   },
   {
    "duration": 599,
    "start_time": "2022-08-15T19:34:13.199Z"
   },
   {
    "duration": 182,
    "start_time": "2022-08-15T19:34:51.113Z"
   },
   {
    "duration": 562,
    "start_time": "2022-08-15T19:35:38.349Z"
   },
   {
    "duration": 9,
    "start_time": "2022-08-15T19:35:38.913Z"
   },
   {
    "duration": 17,
    "start_time": "2022-08-15T19:35:38.924Z"
   },
   {
    "duration": 62,
    "start_time": "2022-08-15T19:35:38.943Z"
   },
   {
    "duration": 498,
    "start_time": "2022-08-15T19:35:39.007Z"
   },
   {
    "duration": 5,
    "start_time": "2022-08-15T19:35:39.507Z"
   },
   {
    "duration": 37,
    "start_time": "2022-08-15T19:35:39.514Z"
   },
   {
    "duration": 51,
    "start_time": "2022-08-15T19:35:39.553Z"
   },
   {
    "duration": 10,
    "start_time": "2022-08-15T19:35:39.606Z"
   },
   {
    "duration": 9,
    "start_time": "2022-08-15T19:35:39.620Z"
   },
   {
    "duration": 7,
    "start_time": "2022-08-15T19:35:39.631Z"
   },
   {
    "duration": 55,
    "start_time": "2022-08-15T19:35:39.640Z"
   },
   {
    "duration": 6,
    "start_time": "2022-08-15T19:35:39.697Z"
   },
   {
    "duration": 26,
    "start_time": "2022-08-15T19:35:39.705Z"
   },
   {
    "duration": 392,
    "start_time": "2022-08-15T19:35:39.732Z"
   },
   {
    "duration": 8,
    "start_time": "2022-08-15T19:35:40.126Z"
   },
   {
    "duration": 57,
    "start_time": "2022-08-15T19:35:40.135Z"
   },
   {
    "duration": 48,
    "start_time": "2022-08-15T19:35:40.200Z"
   },
   {
    "duration": 36,
    "start_time": "2022-08-15T19:35:40.251Z"
   },
   {
    "duration": 30,
    "start_time": "2022-08-15T19:35:40.291Z"
   },
   {
    "duration": 235,
    "start_time": "2022-08-15T19:35:40.323Z"
   },
   {
    "duration": 314,
    "start_time": "2022-08-15T19:35:40.562Z"
   },
   {
    "duration": 233,
    "start_time": "2022-08-15T19:35:40.882Z"
   },
   {
    "duration": 244,
    "start_time": "2022-08-15T19:35:41.116Z"
   },
   {
    "duration": 12,
    "start_time": "2022-08-15T19:35:41.361Z"
   },
   {
    "duration": 294,
    "start_time": "2022-08-15T19:35:41.374Z"
   },
   {
    "duration": 290,
    "start_time": "2022-08-15T19:35:41.669Z"
   },
   {
    "duration": 109,
    "start_time": "2022-08-15T19:35:41.963Z"
   },
   {
    "duration": 9,
    "start_time": "2022-08-15T19:35:42.074Z"
   },
   {
    "duration": 100,
    "start_time": "2022-08-15T19:37:10.341Z"
   },
   {
    "duration": 216,
    "start_time": "2022-08-15T19:40:26.047Z"
   },
   {
    "duration": 825,
    "start_time": "2022-08-15T19:41:07.009Z"
   },
   {
    "duration": 668,
    "start_time": "2022-08-15T19:41:34.970Z"
   },
   {
    "duration": 628,
    "start_time": "2022-08-15T19:41:42.488Z"
   },
   {
    "duration": 114,
    "start_time": "2022-08-15T19:42:19.884Z"
   },
   {
    "duration": 119,
    "start_time": "2022-08-15T19:42:32.220Z"
   },
   {
    "duration": 2074,
    "start_time": "2022-08-15T19:42:50.903Z"
   },
   {
    "duration": 100,
    "start_time": "2022-08-15T19:43:56.162Z"
   },
   {
    "duration": 227,
    "start_time": "2022-08-15T19:44:42.923Z"
   },
   {
    "duration": 7,
    "start_time": "2022-08-15T19:51:01.230Z"
   },
   {
    "duration": 161,
    "start_time": "2022-08-15T19:51:08.043Z"
   },
   {
    "duration": 147,
    "start_time": "2022-08-15T19:53:14.335Z"
   },
   {
    "duration": 9,
    "start_time": "2022-08-15T21:27:37.832Z"
   },
   {
    "duration": 535,
    "start_time": "2022-08-15T21:27:49.485Z"
   },
   {
    "duration": 9,
    "start_time": "2022-08-15T21:27:50.022Z"
   },
   {
    "duration": 18,
    "start_time": "2022-08-15T21:27:50.032Z"
   },
   {
    "duration": 35,
    "start_time": "2022-08-15T21:27:50.052Z"
   },
   {
    "duration": 483,
    "start_time": "2022-08-15T21:27:50.092Z"
   },
   {
    "duration": 5,
    "start_time": "2022-08-15T21:27:50.577Z"
   },
   {
    "duration": 56,
    "start_time": "2022-08-15T21:27:50.587Z"
   },
   {
    "duration": 22,
    "start_time": "2022-08-15T21:27:50.644Z"
   },
   {
    "duration": 43,
    "start_time": "2022-08-15T21:27:50.668Z"
   },
   {
    "duration": 5,
    "start_time": "2022-08-15T21:27:50.713Z"
   },
   {
    "duration": 9,
    "start_time": "2022-08-15T21:27:50.719Z"
   },
   {
    "duration": 41,
    "start_time": "2022-08-15T21:27:50.729Z"
   },
   {
    "duration": 17,
    "start_time": "2022-08-15T21:27:50.772Z"
   },
   {
    "duration": 29,
    "start_time": "2022-08-15T21:27:50.796Z"
   },
   {
    "duration": 358,
    "start_time": "2022-08-15T21:27:50.827Z"
   },
   {
    "duration": 8,
    "start_time": "2022-08-15T21:27:51.187Z"
   },
   {
    "duration": 36,
    "start_time": "2022-08-15T21:27:51.197Z"
   },
   {
    "duration": 103,
    "start_time": "2022-08-15T21:27:51.235Z"
   },
   {
    "duration": 29,
    "start_time": "2022-08-15T21:27:51.340Z"
   },
   {
    "duration": 6,
    "start_time": "2022-08-15T21:27:51.370Z"
   },
   {
    "duration": 234,
    "start_time": "2022-08-15T21:27:51.377Z"
   },
   {
    "duration": 292,
    "start_time": "2022-08-15T21:27:51.613Z"
   },
   {
    "duration": 218,
    "start_time": "2022-08-15T21:27:51.907Z"
   },
   {
    "duration": 281,
    "start_time": "2022-08-15T21:27:52.127Z"
   },
   {
    "duration": 10,
    "start_time": "2022-08-15T21:27:52.410Z"
   },
   {
    "duration": 284,
    "start_time": "2022-08-15T21:27:52.422Z"
   },
   {
    "duration": 298,
    "start_time": "2022-08-15T21:27:52.708Z"
   },
   {
    "duration": 6,
    "start_time": "2022-08-15T21:27:53.008Z"
   },
   {
    "duration": 140,
    "start_time": "2022-08-15T21:27:53.016Z"
   },
   {
    "duration": 22,
    "start_time": "2022-08-15T21:27:53.162Z"
   },
   {
    "duration": 149,
    "start_time": "2022-08-15T21:27:53.188Z"
   },
   {
    "duration": 241,
    "start_time": "2022-08-15T21:33:16.892Z"
   },
   {
    "duration": 179,
    "start_time": "2022-08-15T21:33:41.905Z"
   },
   {
    "duration": 328,
    "start_time": "2022-08-15T21:34:13.606Z"
   },
   {
    "duration": 328,
    "start_time": "2022-08-15T21:34:55.206Z"
   },
   {
    "duration": 9,
    "start_time": "2022-08-15T21:36:41.629Z"
   },
   {
    "duration": 573,
    "start_time": "2022-08-15T21:36:47.843Z"
   },
   {
    "duration": 11,
    "start_time": "2022-08-15T21:36:48.419Z"
   },
   {
    "duration": 7,
    "start_time": "2022-08-15T21:36:48.432Z"
   },
   {
    "duration": 18,
    "start_time": "2022-08-15T21:36:48.456Z"
   },
   {
    "duration": 525,
    "start_time": "2022-08-15T21:36:48.478Z"
   },
   {
    "duration": 7,
    "start_time": "2022-08-15T21:36:49.004Z"
   },
   {
    "duration": 104,
    "start_time": "2022-08-15T21:36:49.013Z"
   },
   {
    "duration": 14,
    "start_time": "2022-08-15T21:36:49.119Z"
   },
   {
    "duration": 17,
    "start_time": "2022-08-15T21:36:49.134Z"
   },
   {
    "duration": 12,
    "start_time": "2022-08-15T21:36:49.155Z"
   },
   {
    "duration": 46,
    "start_time": "2022-08-15T21:36:49.171Z"
   },
   {
    "duration": 35,
    "start_time": "2022-08-15T21:36:49.219Z"
   },
   {
    "duration": 9,
    "start_time": "2022-08-15T21:36:49.264Z"
   },
   {
    "duration": 72,
    "start_time": "2022-08-15T21:36:49.275Z"
   },
   {
    "duration": 402,
    "start_time": "2022-08-15T21:36:49.349Z"
   },
   {
    "duration": 7,
    "start_time": "2022-08-15T21:36:49.756Z"
   },
   {
    "duration": 75,
    "start_time": "2022-08-15T21:36:49.765Z"
   },
   {
    "duration": 51,
    "start_time": "2022-08-15T21:36:49.842Z"
   },
   {
    "duration": 31,
    "start_time": "2022-08-15T21:36:49.895Z"
   },
   {
    "duration": 5,
    "start_time": "2022-08-15T21:36:49.928Z"
   },
   {
    "duration": 293,
    "start_time": "2022-08-15T21:36:49.935Z"
   },
   {
    "duration": 336,
    "start_time": "2022-08-15T21:36:50.231Z"
   },
   {
    "duration": 238,
    "start_time": "2022-08-15T21:36:50.574Z"
   },
   {
    "duration": 231,
    "start_time": "2022-08-15T21:36:50.814Z"
   },
   {
    "duration": 16,
    "start_time": "2022-08-15T21:36:51.047Z"
   },
   {
    "duration": 316,
    "start_time": "2022-08-15T21:36:51.067Z"
   },
   {
    "duration": 303,
    "start_time": "2022-08-15T21:36:51.385Z"
   },
   {
    "duration": 9,
    "start_time": "2022-08-15T21:36:51.691Z"
   },
   {
    "duration": 144,
    "start_time": "2022-08-15T21:36:51.701Z"
   },
   {
    "duration": 27,
    "start_time": "2022-08-15T21:36:51.847Z"
   },
   {
    "duration": 161,
    "start_time": "2022-08-15T21:36:51.878Z"
   },
   {
    "duration": 252,
    "start_time": "2022-08-15T21:36:52.041Z"
   },
   {
    "duration": 435,
    "start_time": "2022-08-15T21:36:52.297Z"
   },
   {
    "duration": 9,
    "start_time": "2022-08-15T21:37:53.909Z"
   },
   {
    "duration": 532,
    "start_time": "2022-08-15T21:38:03.596Z"
   },
   {
    "duration": 8,
    "start_time": "2022-08-15T21:38:04.130Z"
   },
   {
    "duration": 74,
    "start_time": "2022-08-15T21:38:04.140Z"
   },
   {
    "duration": 11,
    "start_time": "2022-08-15T21:38:04.216Z"
   },
   {
    "duration": 517,
    "start_time": "2022-08-15T21:38:04.230Z"
   },
   {
    "duration": 6,
    "start_time": "2022-08-15T21:38:04.749Z"
   },
   {
    "duration": 105,
    "start_time": "2022-08-15T21:38:04.756Z"
   },
   {
    "duration": 60,
    "start_time": "2022-08-15T21:38:04.863Z"
   },
   {
    "duration": 14,
    "start_time": "2022-08-15T21:38:04.925Z"
   },
   {
    "duration": 6,
    "start_time": "2022-08-15T21:38:04.941Z"
   },
   {
    "duration": 62,
    "start_time": "2022-08-15T21:38:04.948Z"
   },
   {
    "duration": 73,
    "start_time": "2022-08-15T21:38:05.020Z"
   },
   {
    "duration": 11,
    "start_time": "2022-08-15T21:38:05.101Z"
   },
   {
    "duration": 25,
    "start_time": "2022-08-15T21:38:05.114Z"
   },
   {
    "duration": 397,
    "start_time": "2022-08-15T21:38:05.142Z"
   },
   {
    "duration": 14,
    "start_time": "2022-08-15T21:38:05.541Z"
   },
   {
    "duration": 56,
    "start_time": "2022-08-15T21:38:05.557Z"
   },
   {
    "duration": 53,
    "start_time": "2022-08-15T21:38:05.615Z"
   },
   {
    "duration": 29,
    "start_time": "2022-08-15T21:38:05.670Z"
   },
   {
    "duration": 24,
    "start_time": "2022-08-15T21:38:05.700Z"
   },
   {
    "duration": 223,
    "start_time": "2022-08-15T21:38:05.726Z"
   },
   {
    "duration": 357,
    "start_time": "2022-08-15T21:38:05.951Z"
   },
   {
    "duration": 309,
    "start_time": "2022-08-15T21:38:06.309Z"
   },
   {
    "duration": 237,
    "start_time": "2022-08-15T21:38:06.620Z"
   },
   {
    "duration": 23,
    "start_time": "2022-08-15T21:38:06.863Z"
   },
   {
    "duration": 323,
    "start_time": "2022-08-15T21:38:06.894Z"
   },
   {
    "duration": 368,
    "start_time": "2022-08-15T21:38:07.219Z"
   },
   {
    "duration": 8,
    "start_time": "2022-08-15T21:38:07.589Z"
   },
   {
    "duration": 196,
    "start_time": "2022-08-15T21:38:07.599Z"
   },
   {
    "duration": 16,
    "start_time": "2022-08-15T21:38:07.797Z"
   },
   {
    "duration": 188,
    "start_time": "2022-08-15T21:38:07.827Z"
   },
   {
    "duration": 231,
    "start_time": "2022-08-15T21:38:08.018Z"
   },
   {
    "duration": 435,
    "start_time": "2022-08-15T21:38:08.254Z"
   },
   {
    "duration": 11,
    "start_time": "2022-08-15T21:39:34.322Z"
   },
   {
    "duration": 531,
    "start_time": "2022-08-15T21:39:42.104Z"
   },
   {
    "duration": 8,
    "start_time": "2022-08-15T21:39:42.638Z"
   },
   {
    "duration": 49,
    "start_time": "2022-08-15T21:39:42.660Z"
   },
   {
    "duration": 8,
    "start_time": "2022-08-15T21:39:42.712Z"
   },
   {
    "duration": 542,
    "start_time": "2022-08-15T21:39:42.722Z"
   },
   {
    "duration": 10,
    "start_time": "2022-08-15T21:39:43.269Z"
   },
   {
    "duration": 39,
    "start_time": "2022-08-15T21:39:43.281Z"
   },
   {
    "duration": 20,
    "start_time": "2022-08-15T21:39:43.323Z"
   },
   {
    "duration": 18,
    "start_time": "2022-08-15T21:39:43.345Z"
   },
   {
    "duration": 49,
    "start_time": "2022-08-15T21:39:43.368Z"
   },
   {
    "duration": 5,
    "start_time": "2022-08-15T21:39:43.419Z"
   },
   {
    "duration": 39,
    "start_time": "2022-08-15T21:39:43.426Z"
   },
   {
    "duration": 6,
    "start_time": "2022-08-15T21:39:43.469Z"
   },
   {
    "duration": 56,
    "start_time": "2022-08-15T21:39:43.477Z"
   },
   {
    "duration": 384,
    "start_time": "2022-08-15T21:39:43.535Z"
   },
   {
    "duration": 7,
    "start_time": "2022-08-15T21:39:43.920Z"
   },
   {
    "duration": 48,
    "start_time": "2022-08-15T21:39:43.928Z"
   },
   {
    "duration": 45,
    "start_time": "2022-08-15T21:39:43.981Z"
   },
   {
    "duration": 42,
    "start_time": "2022-08-15T21:39:44.028Z"
   },
   {
    "duration": 10,
    "start_time": "2022-08-15T21:39:44.072Z"
   },
   {
    "duration": 252,
    "start_time": "2022-08-15T21:39:44.083Z"
   },
   {
    "duration": 288,
    "start_time": "2022-08-15T21:39:44.337Z"
   },
   {
    "duration": 225,
    "start_time": "2022-08-15T21:39:44.627Z"
   },
   {
    "duration": 238,
    "start_time": "2022-08-15T21:39:44.864Z"
   },
   {
    "duration": 17,
    "start_time": "2022-08-15T21:39:45.108Z"
   },
   {
    "duration": 312,
    "start_time": "2022-08-15T21:39:45.127Z"
   },
   {
    "duration": 292,
    "start_time": "2022-08-15T21:39:45.441Z"
   },
   {
    "duration": 7,
    "start_time": "2022-08-15T21:39:45.735Z"
   },
   {
    "duration": 181,
    "start_time": "2022-08-15T21:39:45.755Z"
   },
   {
    "duration": 25,
    "start_time": "2022-08-15T21:39:45.938Z"
   },
   {
    "duration": 157,
    "start_time": "2022-08-15T21:39:45.977Z"
   },
   {
    "duration": 227,
    "start_time": "2022-08-15T21:39:46.135Z"
   },
   {
    "duration": 450,
    "start_time": "2022-08-15T21:39:46.364Z"
   },
   {
    "duration": 121,
    "start_time": "2022-08-15T21:41:18.587Z"
   },
   {
    "duration": 12,
    "start_time": "2022-08-15T21:41:26.971Z"
   },
   {
    "duration": 511,
    "start_time": "2022-08-15T21:43:34.344Z"
   },
   {
    "duration": 19,
    "start_time": "2022-08-15T21:43:34.869Z"
   },
   {
    "duration": 29,
    "start_time": "2022-08-15T21:43:34.889Z"
   },
   {
    "duration": 10,
    "start_time": "2022-08-15T21:43:34.921Z"
   },
   {
    "duration": 529,
    "start_time": "2022-08-15T21:43:34.933Z"
   },
   {
    "duration": 6,
    "start_time": "2022-08-15T21:43:35.472Z"
   },
   {
    "duration": 137,
    "start_time": "2022-08-15T21:43:35.479Z"
   },
   {
    "duration": 20,
    "start_time": "2022-08-15T21:43:35.618Z"
   },
   {
    "duration": 11,
    "start_time": "2022-08-15T21:43:35.639Z"
   },
   {
    "duration": 8,
    "start_time": "2022-08-15T21:43:35.653Z"
   },
   {
    "duration": 51,
    "start_time": "2022-08-15T21:43:35.662Z"
   },
   {
    "duration": 95,
    "start_time": "2022-08-15T21:43:35.715Z"
   },
   {
    "duration": 0,
    "start_time": "2022-08-15T21:43:35.813Z"
   },
   {
    "duration": 0,
    "start_time": "2022-08-15T21:43:35.814Z"
   },
   {
    "duration": 0,
    "start_time": "2022-08-15T21:43:35.816Z"
   },
   {
    "duration": 0,
    "start_time": "2022-08-15T21:43:35.817Z"
   },
   {
    "duration": 0,
    "start_time": "2022-08-15T21:43:35.819Z"
   },
   {
    "duration": 0,
    "start_time": "2022-08-15T21:43:35.821Z"
   },
   {
    "duration": 0,
    "start_time": "2022-08-15T21:43:35.822Z"
   },
   {
    "duration": 0,
    "start_time": "2022-08-15T21:43:35.823Z"
   },
   {
    "duration": 0,
    "start_time": "2022-08-15T21:43:35.824Z"
   },
   {
    "duration": 0,
    "start_time": "2022-08-15T21:43:35.826Z"
   },
   {
    "duration": 0,
    "start_time": "2022-08-15T21:43:35.827Z"
   },
   {
    "duration": 0,
    "start_time": "2022-08-15T21:43:35.828Z"
   },
   {
    "duration": 0,
    "start_time": "2022-08-15T21:43:35.830Z"
   },
   {
    "duration": 0,
    "start_time": "2022-08-15T21:43:35.831Z"
   },
   {
    "duration": 0,
    "start_time": "2022-08-15T21:43:35.858Z"
   },
   {
    "duration": 0,
    "start_time": "2022-08-15T21:43:35.859Z"
   },
   {
    "duration": 0,
    "start_time": "2022-08-15T21:43:35.859Z"
   },
   {
    "duration": 0,
    "start_time": "2022-08-15T21:43:35.860Z"
   },
   {
    "duration": 0,
    "start_time": "2022-08-15T21:43:35.861Z"
   },
   {
    "duration": 0,
    "start_time": "2022-08-15T21:43:35.862Z"
   },
   {
    "duration": 0,
    "start_time": "2022-08-15T21:43:35.866Z"
   },
   {
    "duration": 0,
    "start_time": "2022-08-15T21:43:35.872Z"
   },
   {
    "duration": 0,
    "start_time": "2022-08-15T21:43:35.874Z"
   },
   {
    "duration": 510,
    "start_time": "2022-08-15T21:43:54.104Z"
   },
   {
    "duration": 8,
    "start_time": "2022-08-15T21:43:54.616Z"
   },
   {
    "duration": 9,
    "start_time": "2022-08-15T21:43:54.626Z"
   },
   {
    "duration": 26,
    "start_time": "2022-08-15T21:43:54.636Z"
   },
   {
    "duration": 529,
    "start_time": "2022-08-15T21:43:54.667Z"
   },
   {
    "duration": 15,
    "start_time": "2022-08-15T21:43:55.204Z"
   },
   {
    "duration": 90,
    "start_time": "2022-08-15T21:43:55.221Z"
   },
   {
    "duration": 20,
    "start_time": "2022-08-15T21:43:55.313Z"
   },
   {
    "duration": 10,
    "start_time": "2022-08-15T21:43:55.335Z"
   },
   {
    "duration": 6,
    "start_time": "2022-08-15T21:43:55.346Z"
   },
   {
    "duration": 63,
    "start_time": "2022-08-15T21:43:55.353Z"
   },
   {
    "duration": 96,
    "start_time": "2022-08-15T21:43:55.418Z"
   },
   {
    "duration": 0,
    "start_time": "2022-08-15T21:43:55.517Z"
   },
   {
    "duration": 0,
    "start_time": "2022-08-15T21:43:55.519Z"
   },
   {
    "duration": 0,
    "start_time": "2022-08-15T21:43:55.519Z"
   },
   {
    "duration": 0,
    "start_time": "2022-08-15T21:43:55.521Z"
   },
   {
    "duration": 0,
    "start_time": "2022-08-15T21:43:55.522Z"
   },
   {
    "duration": 0,
    "start_time": "2022-08-15T21:43:55.523Z"
   },
   {
    "duration": 0,
    "start_time": "2022-08-15T21:43:55.524Z"
   },
   {
    "duration": 0,
    "start_time": "2022-08-15T21:43:55.525Z"
   },
   {
    "duration": 0,
    "start_time": "2022-08-15T21:43:55.526Z"
   },
   {
    "duration": 0,
    "start_time": "2022-08-15T21:43:55.527Z"
   },
   {
    "duration": 0,
    "start_time": "2022-08-15T21:43:55.528Z"
   },
   {
    "duration": 0,
    "start_time": "2022-08-15T21:43:55.529Z"
   },
   {
    "duration": 0,
    "start_time": "2022-08-15T21:43:55.530Z"
   },
   {
    "duration": 0,
    "start_time": "2022-08-15T21:43:55.531Z"
   },
   {
    "duration": 0,
    "start_time": "2022-08-15T21:43:55.532Z"
   },
   {
    "duration": 0,
    "start_time": "2022-08-15T21:43:55.533Z"
   },
   {
    "duration": 0,
    "start_time": "2022-08-15T21:43:55.534Z"
   },
   {
    "duration": 0,
    "start_time": "2022-08-15T21:43:55.562Z"
   },
   {
    "duration": 0,
    "start_time": "2022-08-15T21:43:55.562Z"
   },
   {
    "duration": 0,
    "start_time": "2022-08-15T21:43:55.564Z"
   },
   {
    "duration": 0,
    "start_time": "2022-08-15T21:43:55.565Z"
   },
   {
    "duration": 0,
    "start_time": "2022-08-15T21:43:55.566Z"
   },
   {
    "duration": 0,
    "start_time": "2022-08-15T21:43:55.567Z"
   },
   {
    "duration": 7,
    "start_time": "2022-08-15T21:44:01.609Z"
   },
   {
    "duration": 534,
    "start_time": "2022-08-15T21:44:13.480Z"
   },
   {
    "duration": 12,
    "start_time": "2022-08-15T21:44:14.016Z"
   },
   {
    "duration": 7,
    "start_time": "2022-08-15T21:44:14.030Z"
   },
   {
    "duration": 24,
    "start_time": "2022-08-15T21:44:14.039Z"
   },
   {
    "duration": 525,
    "start_time": "2022-08-15T21:44:14.067Z"
   },
   {
    "duration": 7,
    "start_time": "2022-08-15T21:44:14.593Z"
   },
   {
    "duration": 66,
    "start_time": "2022-08-15T21:44:14.601Z"
   },
   {
    "duration": 24,
    "start_time": "2022-08-15T21:44:14.672Z"
   },
   {
    "duration": 23,
    "start_time": "2022-08-15T21:44:14.702Z"
   },
   {
    "duration": 6,
    "start_time": "2022-08-15T21:44:14.726Z"
   },
   {
    "duration": 5,
    "start_time": "2022-08-15T21:44:14.734Z"
   },
   {
    "duration": 96,
    "start_time": "2022-08-15T21:44:14.741Z"
   },
   {
    "duration": 0,
    "start_time": "2022-08-15T21:44:14.840Z"
   },
   {
    "duration": 0,
    "start_time": "2022-08-15T21:44:14.842Z"
   },
   {
    "duration": 0,
    "start_time": "2022-08-15T21:44:14.842Z"
   },
   {
    "duration": 0,
    "start_time": "2022-08-15T21:44:14.844Z"
   },
   {
    "duration": 0,
    "start_time": "2022-08-15T21:44:14.845Z"
   },
   {
    "duration": 0,
    "start_time": "2022-08-15T21:44:14.860Z"
   },
   {
    "duration": 0,
    "start_time": "2022-08-15T21:44:14.861Z"
   },
   {
    "duration": 0,
    "start_time": "2022-08-15T21:44:14.861Z"
   },
   {
    "duration": 0,
    "start_time": "2022-08-15T21:44:14.862Z"
   },
   {
    "duration": 0,
    "start_time": "2022-08-15T21:44:14.863Z"
   },
   {
    "duration": 0,
    "start_time": "2022-08-15T21:44:14.863Z"
   },
   {
    "duration": 0,
    "start_time": "2022-08-15T21:44:14.864Z"
   },
   {
    "duration": 0,
    "start_time": "2022-08-15T21:44:14.865Z"
   },
   {
    "duration": 0,
    "start_time": "2022-08-15T21:44:14.865Z"
   },
   {
    "duration": 0,
    "start_time": "2022-08-15T21:44:14.866Z"
   },
   {
    "duration": 0,
    "start_time": "2022-08-15T21:44:14.867Z"
   },
   {
    "duration": 0,
    "start_time": "2022-08-15T21:44:14.868Z"
   },
   {
    "duration": 0,
    "start_time": "2022-08-15T21:44:14.868Z"
   },
   {
    "duration": 0,
    "start_time": "2022-08-15T21:44:14.869Z"
   },
   {
    "duration": 0,
    "start_time": "2022-08-15T21:44:14.870Z"
   },
   {
    "duration": 0,
    "start_time": "2022-08-15T21:44:14.870Z"
   },
   {
    "duration": 0,
    "start_time": "2022-08-15T21:44:14.871Z"
   },
   {
    "duration": 0,
    "start_time": "2022-08-15T21:44:14.872Z"
   },
   {
    "duration": 17,
    "start_time": "2022-08-15T21:44:56.181Z"
   },
   {
    "duration": 144,
    "start_time": "2022-08-15T21:44:57.978Z"
   },
   {
    "duration": 235,
    "start_time": "2022-08-15T21:45:04.383Z"
   },
   {
    "duration": 417,
    "start_time": "2022-08-15T21:45:09.792Z"
   },
   {
    "duration": 7,
    "start_time": "2022-08-15T21:45:15.339Z"
   },
   {
    "duration": 18,
    "start_time": "2022-08-15T21:45:46.811Z"
   },
   {
    "duration": 6,
    "start_time": "2022-08-15T21:47:47.716Z"
   },
   {
    "duration": 587,
    "start_time": "2022-08-15T21:48:12.442Z"
   },
   {
    "duration": 9,
    "start_time": "2022-08-15T21:48:13.031Z"
   },
   {
    "duration": 21,
    "start_time": "2022-08-15T21:48:13.044Z"
   },
   {
    "duration": 45,
    "start_time": "2022-08-15T21:48:13.076Z"
   },
   {
    "duration": 462,
    "start_time": "2022-08-15T21:48:13.123Z"
   },
   {
    "duration": 15,
    "start_time": "2022-08-15T21:48:13.587Z"
   },
   {
    "duration": 21,
    "start_time": "2022-08-15T21:48:13.603Z"
   },
   {
    "duration": 20,
    "start_time": "2022-08-15T21:48:13.626Z"
   },
   {
    "duration": 25,
    "start_time": "2022-08-15T21:48:13.657Z"
   },
   {
    "duration": 35,
    "start_time": "2022-08-15T21:48:13.686Z"
   },
   {
    "duration": 4,
    "start_time": "2022-08-15T21:48:13.723Z"
   },
   {
    "duration": 8,
    "start_time": "2022-08-15T21:48:13.728Z"
   },
   {
    "duration": 49,
    "start_time": "2022-08-15T21:48:13.738Z"
   },
   {
    "duration": 25,
    "start_time": "2022-08-15T21:48:13.789Z"
   },
   {
    "duration": 22,
    "start_time": "2022-08-15T21:48:13.816Z"
   },
   {
    "duration": 384,
    "start_time": "2022-08-15T21:48:13.839Z"
   },
   {
    "duration": 7,
    "start_time": "2022-08-15T21:48:14.225Z"
   },
   {
    "duration": 56,
    "start_time": "2022-08-15T21:48:14.233Z"
   },
   {
    "duration": 58,
    "start_time": "2022-08-15T21:48:14.291Z"
   },
   {
    "duration": 35,
    "start_time": "2022-08-15T21:48:14.351Z"
   },
   {
    "duration": 32,
    "start_time": "2022-08-15T21:48:14.388Z"
   },
   {
    "duration": 222,
    "start_time": "2022-08-15T21:48:14.422Z"
   },
   {
    "duration": 280,
    "start_time": "2022-08-15T21:48:14.646Z"
   },
   {
    "duration": 249,
    "start_time": "2022-08-15T21:48:14.927Z"
   },
   {
    "duration": 248,
    "start_time": "2022-08-15T21:48:15.177Z"
   },
   {
    "duration": 9,
    "start_time": "2022-08-15T21:48:15.427Z"
   },
   {
    "duration": 309,
    "start_time": "2022-08-15T21:48:15.461Z"
   },
   {
    "duration": 289,
    "start_time": "2022-08-15T21:48:15.771Z"
   },
   {
    "duration": 11,
    "start_time": "2022-08-15T21:48:16.062Z"
   },
   {
    "duration": 158,
    "start_time": "2022-08-15T21:48:16.075Z"
   },
   {
    "duration": 11,
    "start_time": "2022-08-15T21:48:16.235Z"
   },
   {
    "duration": 145,
    "start_time": "2022-08-15T21:48:16.248Z"
   },
   {
    "duration": 234,
    "start_time": "2022-08-15T21:48:16.398Z"
   },
   {
    "duration": 450,
    "start_time": "2022-08-15T21:48:16.633Z"
   },
   {
    "duration": 12,
    "start_time": "2022-08-15T21:48:17.091Z"
   },
   {
    "duration": 492,
    "start_time": "2022-08-15T21:50:08.130Z"
   },
   {
    "duration": 7,
    "start_time": "2022-08-15T21:50:08.626Z"
   },
   {
    "duration": 6,
    "start_time": "2022-08-15T21:50:08.635Z"
   },
   {
    "duration": 22,
    "start_time": "2022-08-15T21:50:08.643Z"
   },
   {
    "duration": 471,
    "start_time": "2022-08-15T21:50:08.667Z"
   },
   {
    "duration": 4,
    "start_time": "2022-08-15T21:50:09.139Z"
   },
   {
    "duration": 60,
    "start_time": "2022-08-15T21:50:09.144Z"
   },
   {
    "duration": 14,
    "start_time": "2022-08-15T21:50:09.206Z"
   },
   {
    "duration": 11,
    "start_time": "2022-08-15T21:50:09.222Z"
   },
   {
    "duration": 6,
    "start_time": "2022-08-15T21:50:09.234Z"
   },
   {
    "duration": 4,
    "start_time": "2022-08-15T21:50:09.241Z"
   },
   {
    "duration": 46,
    "start_time": "2022-08-15T21:50:09.246Z"
   },
   {
    "duration": 4,
    "start_time": "2022-08-15T21:50:09.294Z"
   },
   {
    "duration": 32,
    "start_time": "2022-08-15T21:50:09.300Z"
   },
   {
    "duration": 351,
    "start_time": "2022-08-15T21:50:09.333Z"
   },
   {
    "duration": 10,
    "start_time": "2022-08-15T21:50:09.687Z"
   },
   {
    "duration": 44,
    "start_time": "2022-08-15T21:50:09.699Z"
   },
   {
    "duration": 53,
    "start_time": "2022-08-15T21:50:09.745Z"
   },
   {
    "duration": 31,
    "start_time": "2022-08-15T21:50:09.799Z"
   },
   {
    "duration": 6,
    "start_time": "2022-08-15T21:50:09.832Z"
   },
   {
    "duration": 225,
    "start_time": "2022-08-15T21:50:09.840Z"
   },
   {
    "duration": 266,
    "start_time": "2022-08-15T21:50:10.067Z"
   },
   {
    "duration": 239,
    "start_time": "2022-08-15T21:50:10.335Z"
   },
   {
    "duration": 212,
    "start_time": "2022-08-15T21:50:10.576Z"
   },
   {
    "duration": 9,
    "start_time": "2022-08-15T21:50:10.790Z"
   },
   {
    "duration": 278,
    "start_time": "2022-08-15T21:50:10.801Z"
   },
   {
    "duration": 287,
    "start_time": "2022-08-15T21:50:11.083Z"
   },
   {
    "duration": 8,
    "start_time": "2022-08-15T21:50:11.371Z"
   },
   {
    "duration": 150,
    "start_time": "2022-08-15T21:50:11.380Z"
   },
   {
    "duration": 11,
    "start_time": "2022-08-15T21:50:11.532Z"
   },
   {
    "duration": 137,
    "start_time": "2022-08-15T21:50:11.545Z"
   },
   {
    "duration": 225,
    "start_time": "2022-08-15T21:50:11.683Z"
   },
   {
    "duration": 399,
    "start_time": "2022-08-15T21:50:11.909Z"
   },
   {
    "duration": 6,
    "start_time": "2022-08-15T21:50:12.310Z"
   },
   {
    "duration": 14,
    "start_time": "2022-08-15T21:52:59.383Z"
   },
   {
    "duration": 128,
    "start_time": "2022-08-15T21:53:29.925Z"
   },
   {
    "duration": 223,
    "start_time": "2022-08-15T21:53:47.694Z"
   },
   {
    "duration": 122,
    "start_time": "2022-08-15T21:54:01.099Z"
   },
   {
    "duration": 6,
    "start_time": "2022-08-15T21:54:25.601Z"
   },
   {
    "duration": 11,
    "start_time": "2022-08-15T21:54:47.519Z"
   },
   {
    "duration": 13,
    "start_time": "2022-08-15T21:56:08.176Z"
   },
   {
    "duration": 524,
    "start_time": "2022-08-15T21:56:30.885Z"
   },
   {
    "duration": 9,
    "start_time": "2022-08-15T21:56:31.411Z"
   },
   {
    "duration": 15,
    "start_time": "2022-08-15T21:56:31.422Z"
   },
   {
    "duration": 20,
    "start_time": "2022-08-15T21:56:31.439Z"
   },
   {
    "duration": 510,
    "start_time": "2022-08-15T21:56:31.465Z"
   },
   {
    "duration": 6,
    "start_time": "2022-08-15T21:56:31.976Z"
   },
   {
    "duration": 32,
    "start_time": "2022-08-15T21:56:31.983Z"
   },
   {
    "duration": 13,
    "start_time": "2022-08-15T21:56:32.016Z"
   },
   {
    "duration": 9,
    "start_time": "2022-08-15T21:56:32.031Z"
   },
   {
    "duration": 5,
    "start_time": "2022-08-15T21:56:32.041Z"
   },
   {
    "duration": 8,
    "start_time": "2022-08-15T21:56:32.056Z"
   },
   {
    "duration": 38,
    "start_time": "2022-08-15T21:56:32.066Z"
   },
   {
    "duration": 32,
    "start_time": "2022-08-15T21:56:32.106Z"
   },
   {
    "duration": 5,
    "start_time": "2022-08-15T21:56:32.140Z"
   },
   {
    "duration": 41,
    "start_time": "2022-08-15T21:56:32.147Z"
   },
   {
    "duration": 374,
    "start_time": "2022-08-15T21:56:32.194Z"
   },
   {
    "duration": 9,
    "start_time": "2022-08-15T21:56:32.573Z"
   },
   {
    "duration": 52,
    "start_time": "2022-08-15T21:56:32.592Z"
   },
   {
    "duration": 60,
    "start_time": "2022-08-15T21:56:32.645Z"
   },
   {
    "duration": 28,
    "start_time": "2022-08-15T21:56:32.708Z"
   },
   {
    "duration": 10,
    "start_time": "2022-08-15T21:56:32.739Z"
   },
   {
    "duration": 261,
    "start_time": "2022-08-15T21:56:32.751Z"
   },
   {
    "duration": 272,
    "start_time": "2022-08-15T21:56:33.014Z"
   },
   {
    "duration": 208,
    "start_time": "2022-08-15T21:56:33.288Z"
   },
   {
    "duration": 204,
    "start_time": "2022-08-15T21:56:33.501Z"
   },
   {
    "duration": 9,
    "start_time": "2022-08-15T21:56:33.706Z"
   },
   {
    "duration": 281,
    "start_time": "2022-08-15T21:56:33.716Z"
   },
   {
    "duration": 304,
    "start_time": "2022-08-15T21:56:33.999Z"
   },
   {
    "duration": 6,
    "start_time": "2022-08-15T21:56:34.305Z"
   },
   {
    "duration": 126,
    "start_time": "2022-08-15T21:56:34.312Z"
   },
   {
    "duration": 21,
    "start_time": "2022-08-15T21:56:34.440Z"
   },
   {
    "duration": 141,
    "start_time": "2022-08-15T21:56:34.468Z"
   },
   {
    "duration": 229,
    "start_time": "2022-08-15T21:56:34.611Z"
   },
   {
    "duration": 437,
    "start_time": "2022-08-15T21:56:34.842Z"
   },
   {
    "duration": 11,
    "start_time": "2022-08-15T21:56:35.280Z"
   },
   {
    "duration": 23,
    "start_time": "2022-08-15T21:56:35.294Z"
   },
   {
    "duration": 133,
    "start_time": "2022-08-15T21:56:35.319Z"
   },
   {
    "duration": 254,
    "start_time": "2022-08-15T21:56:35.453Z"
   },
   {
    "duration": 139,
    "start_time": "2022-08-15T21:56:35.709Z"
   },
   {
    "duration": 23,
    "start_time": "2022-08-15T21:56:35.850Z"
   },
   {
    "duration": 1742,
    "start_time": "2022-08-15T21:58:29.306Z"
   },
   {
    "duration": 585,
    "start_time": "2022-08-15T21:59:45.642Z"
   },
   {
    "duration": 9,
    "start_time": "2022-08-15T21:59:46.229Z"
   },
   {
    "duration": 21,
    "start_time": "2022-08-15T21:59:46.240Z"
   },
   {
    "duration": 14,
    "start_time": "2022-08-15T21:59:46.268Z"
   },
   {
    "duration": 485,
    "start_time": "2022-08-15T21:59:46.286Z"
   },
   {
    "duration": 16,
    "start_time": "2022-08-15T21:59:46.776Z"
   },
   {
    "duration": 92,
    "start_time": "2022-08-15T21:59:46.799Z"
   },
   {
    "duration": 35,
    "start_time": "2022-08-15T21:59:46.897Z"
   },
   {
    "duration": 13,
    "start_time": "2022-08-15T21:59:46.934Z"
   },
   {
    "duration": 7,
    "start_time": "2022-08-15T21:59:46.950Z"
   },
   {
    "duration": 49,
    "start_time": "2022-08-15T21:59:46.958Z"
   },
   {
    "duration": 40,
    "start_time": "2022-08-15T21:59:47.009Z"
   },
   {
    "duration": 7,
    "start_time": "2022-08-15T21:59:47.051Z"
   },
   {
    "duration": 59,
    "start_time": "2022-08-15T21:59:47.063Z"
   },
   {
    "duration": 379,
    "start_time": "2022-08-15T21:59:47.124Z"
   },
   {
    "duration": 12,
    "start_time": "2022-08-15T21:59:47.505Z"
   },
   {
    "duration": 66,
    "start_time": "2022-08-15T21:59:47.519Z"
   },
   {
    "duration": 54,
    "start_time": "2022-08-15T21:59:47.588Z"
   },
   {
    "duration": 38,
    "start_time": "2022-08-15T21:59:47.644Z"
   },
   {
    "duration": 18,
    "start_time": "2022-08-15T21:59:47.683Z"
   },
   {
    "duration": 217,
    "start_time": "2022-08-15T21:59:47.702Z"
   },
   {
    "duration": 275,
    "start_time": "2022-08-15T21:59:47.920Z"
   },
   {
    "duration": 217,
    "start_time": "2022-08-15T21:59:48.198Z"
   },
   {
    "duration": 210,
    "start_time": "2022-08-15T21:59:48.417Z"
   },
   {
    "duration": 9,
    "start_time": "2022-08-15T21:59:48.628Z"
   },
   {
    "duration": 287,
    "start_time": "2022-08-15T21:59:48.638Z"
   },
   {
    "duration": 290,
    "start_time": "2022-08-15T21:59:48.926Z"
   },
   {
    "duration": 6,
    "start_time": "2022-08-15T21:59:49.219Z"
   },
   {
    "duration": 141,
    "start_time": "2022-08-15T21:59:49.226Z"
   },
   {
    "duration": 27,
    "start_time": "2022-08-15T21:59:49.376Z"
   },
   {
    "duration": 132,
    "start_time": "2022-08-15T21:59:49.405Z"
   },
   {
    "duration": 246,
    "start_time": "2022-08-15T21:59:49.538Z"
   },
   {
    "duration": 424,
    "start_time": "2022-08-15T21:59:49.788Z"
   },
   {
    "duration": 8,
    "start_time": "2022-08-15T21:59:50.214Z"
   },
   {
    "duration": 9,
    "start_time": "2022-08-15T21:59:50.223Z"
   },
   {
    "duration": 171,
    "start_time": "2022-08-15T21:59:50.234Z"
   },
   {
    "duration": 220,
    "start_time": "2022-08-15T21:59:50.407Z"
   },
   {
    "duration": 140,
    "start_time": "2022-08-15T21:59:50.628Z"
   },
   {
    "duration": 13,
    "start_time": "2022-08-15T21:59:50.778Z"
   },
   {
    "duration": 95,
    "start_time": "2022-08-15T22:02:27.296Z"
   },
   {
    "duration": 4,
    "start_time": "2022-08-15T22:02:45.916Z"
   },
   {
    "duration": 144,
    "start_time": "2022-08-15T22:04:16.185Z"
   },
   {
    "duration": 95,
    "start_time": "2022-08-15T22:04:47.681Z"
   },
   {
    "duration": 134,
    "start_time": "2022-08-15T22:05:30.907Z"
   },
   {
    "duration": 556,
    "start_time": "2022-08-15T22:10:08.653Z"
   },
   {
    "duration": 8,
    "start_time": "2022-08-15T22:10:09.211Z"
   },
   {
    "duration": 9,
    "start_time": "2022-08-15T22:10:09.221Z"
   },
   {
    "duration": 18,
    "start_time": "2022-08-15T22:10:09.232Z"
   },
   {
    "duration": 478,
    "start_time": "2022-08-15T22:10:09.251Z"
   },
   {
    "duration": 5,
    "start_time": "2022-08-15T22:10:09.730Z"
   },
   {
    "duration": 79,
    "start_time": "2022-08-15T22:10:09.737Z"
   },
   {
    "duration": 14,
    "start_time": "2022-08-15T22:10:09.818Z"
   },
   {
    "duration": 10,
    "start_time": "2022-08-15T22:10:09.835Z"
   },
   {
    "duration": 6,
    "start_time": "2022-08-15T22:10:09.848Z"
   },
   {
    "duration": 50,
    "start_time": "2022-08-15T22:10:09.859Z"
   },
   {
    "duration": 37,
    "start_time": "2022-08-15T22:10:09.911Z"
   },
   {
    "duration": 15,
    "start_time": "2022-08-15T22:10:09.950Z"
   },
   {
    "duration": 68,
    "start_time": "2022-08-15T22:10:09.966Z"
   },
   {
    "duration": 430,
    "start_time": "2022-08-15T22:10:10.036Z"
   },
   {
    "duration": 14,
    "start_time": "2022-08-15T22:10:10.476Z"
   },
   {
    "duration": 74,
    "start_time": "2022-08-15T22:10:10.492Z"
   },
   {
    "duration": 56,
    "start_time": "2022-08-15T22:10:10.570Z"
   },
   {
    "duration": 44,
    "start_time": "2022-08-15T22:10:10.628Z"
   },
   {
    "duration": 21,
    "start_time": "2022-08-15T22:10:10.688Z"
   },
   {
    "duration": 280,
    "start_time": "2022-08-15T22:10:10.710Z"
   },
   {
    "duration": 326,
    "start_time": "2022-08-15T22:10:10.992Z"
   },
   {
    "duration": 223,
    "start_time": "2022-08-15T22:10:11.320Z"
   },
   {
    "duration": 227,
    "start_time": "2022-08-15T22:10:11.544Z"
   },
   {
    "duration": 10,
    "start_time": "2022-08-15T22:10:11.772Z"
   },
   {
    "duration": 290,
    "start_time": "2022-08-15T22:10:11.787Z"
   },
   {
    "duration": 323,
    "start_time": "2022-08-15T22:10:12.081Z"
   },
   {
    "duration": 6,
    "start_time": "2022-08-15T22:10:12.407Z"
   },
   {
    "duration": 161,
    "start_time": "2022-08-15T22:10:12.414Z"
   },
   {
    "duration": 13,
    "start_time": "2022-08-15T22:10:12.576Z"
   },
   {
    "duration": 181,
    "start_time": "2022-08-15T22:10:12.591Z"
   },
   {
    "duration": 259,
    "start_time": "2022-08-15T22:10:12.774Z"
   },
   {
    "duration": 481,
    "start_time": "2022-08-15T22:10:13.034Z"
   },
   {
    "duration": 7,
    "start_time": "2022-08-15T22:10:13.518Z"
   },
   {
    "duration": 12,
    "start_time": "2022-08-15T22:10:13.527Z"
   },
   {
    "duration": 147,
    "start_time": "2022-08-15T22:10:13.555Z"
   },
   {
    "duration": 232,
    "start_time": "2022-08-15T22:10:13.706Z"
   },
   {
    "duration": 160,
    "start_time": "2022-08-15T22:10:13.940Z"
   },
   {
    "duration": 11,
    "start_time": "2022-08-15T22:10:14.104Z"
   },
   {
    "duration": 6,
    "start_time": "2022-08-15T22:13:08.222Z"
   },
   {
    "duration": 540,
    "start_time": "2022-08-15T22:13:32.585Z"
   },
   {
    "duration": 8,
    "start_time": "2022-08-15T22:13:33.127Z"
   },
   {
    "duration": 7,
    "start_time": "2022-08-15T22:13:33.137Z"
   },
   {
    "duration": 18,
    "start_time": "2022-08-15T22:13:33.145Z"
   },
   {
    "duration": 567,
    "start_time": "2022-08-15T22:13:33.174Z"
   },
   {
    "duration": 16,
    "start_time": "2022-08-15T22:13:33.743Z"
   },
   {
    "duration": 53,
    "start_time": "2022-08-15T22:13:33.760Z"
   },
   {
    "duration": 11,
    "start_time": "2022-08-15T22:13:33.814Z"
   },
   {
    "duration": 14,
    "start_time": "2022-08-15T22:13:33.827Z"
   },
   {
    "duration": 10,
    "start_time": "2022-08-15T22:13:33.842Z"
   },
   {
    "duration": 61,
    "start_time": "2022-08-15T22:13:33.854Z"
   },
   {
    "duration": 7,
    "start_time": "2022-08-15T22:13:33.916Z"
   },
   {
    "duration": 38,
    "start_time": "2022-08-15T22:13:33.925Z"
   },
   {
    "duration": 12,
    "start_time": "2022-08-15T22:13:33.968Z"
   },
   {
    "duration": 56,
    "start_time": "2022-08-15T22:13:33.983Z"
   },
   {
    "duration": 406,
    "start_time": "2022-08-15T22:13:34.041Z"
   },
   {
    "duration": 37,
    "start_time": "2022-08-15T22:13:34.448Z"
   },
   {
    "duration": 54,
    "start_time": "2022-08-15T22:13:34.492Z"
   },
   {
    "duration": 56,
    "start_time": "2022-08-15T22:13:34.548Z"
   },
   {
    "duration": 37,
    "start_time": "2022-08-15T22:13:34.605Z"
   },
   {
    "duration": 5,
    "start_time": "2022-08-15T22:13:34.644Z"
   },
   {
    "duration": 239,
    "start_time": "2022-08-15T22:13:34.651Z"
   },
   {
    "duration": 280,
    "start_time": "2022-08-15T22:13:34.891Z"
   },
   {
    "duration": 233,
    "start_time": "2022-08-15T22:13:35.173Z"
   },
   {
    "duration": 217,
    "start_time": "2022-08-15T22:13:35.408Z"
   },
   {
    "duration": 9,
    "start_time": "2022-08-15T22:13:35.626Z"
   },
   {
    "duration": 304,
    "start_time": "2022-08-15T22:13:35.637Z"
   },
   {
    "duration": 300,
    "start_time": "2022-08-15T22:13:35.942Z"
   },
   {
    "duration": 14,
    "start_time": "2022-08-15T22:13:36.244Z"
   },
   {
    "duration": 174,
    "start_time": "2022-08-15T22:13:36.259Z"
   },
   {
    "duration": 12,
    "start_time": "2022-08-15T22:13:36.435Z"
   },
   {
    "duration": 144,
    "start_time": "2022-08-15T22:13:36.449Z"
   },
   {
    "duration": 274,
    "start_time": "2022-08-15T22:13:36.594Z"
   },
   {
    "duration": 495,
    "start_time": "2022-08-15T22:13:36.876Z"
   },
   {
    "duration": 8,
    "start_time": "2022-08-15T22:13:37.374Z"
   },
   {
    "duration": 45,
    "start_time": "2022-08-15T22:14:28.282Z"
   },
   {
    "duration": 329,
    "start_time": "2022-08-15T22:15:04.785Z"
   },
   {
    "duration": 313,
    "start_time": "2022-08-15T22:15:17.137Z"
   },
   {
    "duration": 1945,
    "start_time": "2022-08-15T22:15:55.282Z"
   },
   {
    "duration": 1809,
    "start_time": "2022-08-15T22:16:27.703Z"
   },
   {
    "duration": 16,
    "start_time": "2022-08-15T22:16:50.076Z"
   },
   {
    "duration": 154,
    "start_time": "2022-08-15T22:17:01.336Z"
   },
   {
    "duration": 87,
    "start_time": "2022-08-15T22:17:23.207Z"
   },
   {
    "duration": 33,
    "start_time": "2022-08-15T22:17:46.788Z"
   },
   {
    "duration": 127,
    "start_time": "2022-08-15T22:17:55.683Z"
   },
   {
    "duration": 165,
    "start_time": "2022-08-15T22:18:17.351Z"
   },
   {
    "duration": 10,
    "start_time": "2022-08-15T22:18:56.210Z"
   },
   {
    "duration": 141,
    "start_time": "2022-08-15T22:19:03.084Z"
   },
   {
    "duration": 135,
    "start_time": "2022-08-15T22:19:58.926Z"
   },
   {
    "duration": 12,
    "start_time": "2022-08-15T22:21:52.199Z"
   },
   {
    "duration": 200,
    "start_time": "2022-08-15T22:21:55.018Z"
   },
   {
    "duration": 95,
    "start_time": "2022-08-15T22:22:55.897Z"
   },
   {
    "duration": 243,
    "start_time": "2022-08-15T22:23:23.282Z"
   },
   {
    "duration": 334,
    "start_time": "2022-08-15T22:23:29.185Z"
   },
   {
    "duration": 15,
    "start_time": "2022-08-15T22:23:37.401Z"
   },
   {
    "duration": 9,
    "start_time": "2022-08-15T22:23:52.510Z"
   },
   {
    "duration": 12,
    "start_time": "2022-08-15T22:24:12.348Z"
   },
   {
    "duration": 98,
    "start_time": "2022-08-15T22:24:53.288Z"
   },
   {
    "duration": 227,
    "start_time": "2022-08-15T22:25:25.282Z"
   },
   {
    "duration": 371,
    "start_time": "2022-08-15T22:25:35.886Z"
   },
   {
    "duration": 11,
    "start_time": "2022-08-15T22:26:17.688Z"
   },
   {
    "duration": 165,
    "start_time": "2022-08-15T22:27:07.449Z"
   },
   {
    "duration": 101,
    "start_time": "2022-08-15T22:27:15.025Z"
   },
   {
    "duration": 114,
    "start_time": "2022-08-15T22:28:05.250Z"
   },
   {
    "duration": 11,
    "start_time": "2022-08-15T22:28:34.923Z"
   },
   {
    "duration": 187,
    "start_time": "2022-08-15T22:46:06.583Z"
   },
   {
    "duration": 171,
    "start_time": "2022-08-15T22:46:56.619Z"
   },
   {
    "duration": 248,
    "start_time": "2022-08-15T22:51:31.703Z"
   },
   {
    "duration": 45,
    "start_time": "2022-08-16T10:24:38.805Z"
   },
   {
    "duration": 0,
    "start_time": "2022-08-16T10:27:36.080Z"
   },
   {
    "duration": 7,
    "start_time": "2022-08-16T10:27:45.532Z"
   },
   {
    "duration": 590,
    "start_time": "2022-08-16T10:28:06.957Z"
   },
   {
    "duration": 8,
    "start_time": "2022-08-16T10:28:07.549Z"
   },
   {
    "duration": 7,
    "start_time": "2022-08-16T10:28:07.559Z"
   },
   {
    "duration": 8,
    "start_time": "2022-08-16T10:28:07.568Z"
   },
   {
    "duration": 537,
    "start_time": "2022-08-16T10:28:07.578Z"
   },
   {
    "duration": 4,
    "start_time": "2022-08-16T10:28:08.117Z"
   },
   {
    "duration": 11,
    "start_time": "2022-08-16T10:28:08.123Z"
   },
   {
    "duration": 19,
    "start_time": "2022-08-16T10:28:08.136Z"
   },
   {
    "duration": 15,
    "start_time": "2022-08-16T10:28:08.157Z"
   },
   {
    "duration": 9,
    "start_time": "2022-08-16T10:28:08.176Z"
   },
   {
    "duration": 6,
    "start_time": "2022-08-16T10:28:08.186Z"
   },
   {
    "duration": 6,
    "start_time": "2022-08-16T10:28:08.193Z"
   },
   {
    "duration": 61,
    "start_time": "2022-08-16T10:28:08.200Z"
   },
   {
    "duration": 4,
    "start_time": "2022-08-16T10:28:08.262Z"
   },
   {
    "duration": 31,
    "start_time": "2022-08-16T10:28:08.268Z"
   },
   {
    "duration": 317,
    "start_time": "2022-08-16T10:28:08.301Z"
   },
   {
    "duration": 6,
    "start_time": "2022-08-16T10:28:08.620Z"
   },
   {
    "duration": 40,
    "start_time": "2022-08-16T10:28:08.628Z"
   },
   {
    "duration": 39,
    "start_time": "2022-08-16T10:28:08.670Z"
   },
   {
    "duration": 23,
    "start_time": "2022-08-16T10:28:08.711Z"
   },
   {
    "duration": 23,
    "start_time": "2022-08-16T10:28:08.736Z"
   },
   {
    "duration": 243,
    "start_time": "2022-08-16T10:28:08.761Z"
   },
   {
    "duration": 192,
    "start_time": "2022-08-16T10:28:09.006Z"
   },
   {
    "duration": 191,
    "start_time": "2022-08-16T10:28:09.199Z"
   },
   {
    "duration": 183,
    "start_time": "2022-08-16T10:28:09.392Z"
   },
   {
    "duration": 15,
    "start_time": "2022-08-16T10:28:09.576Z"
   },
   {
    "duration": 247,
    "start_time": "2022-08-16T10:28:09.592Z"
   },
   {
    "duration": 253,
    "start_time": "2022-08-16T10:28:09.842Z"
   },
   {
    "duration": 10,
    "start_time": "2022-08-16T10:28:10.097Z"
   },
   {
    "duration": 95,
    "start_time": "2022-08-16T10:28:10.109Z"
   },
   {
    "duration": 13,
    "start_time": "2022-08-16T10:28:10.206Z"
   },
   {
    "duration": 109,
    "start_time": "2022-08-16T10:28:10.221Z"
   },
   {
    "duration": 211,
    "start_time": "2022-08-16T10:28:10.332Z"
   },
   {
    "duration": 350,
    "start_time": "2022-08-16T10:28:10.545Z"
   },
   {
    "duration": 12,
    "start_time": "2022-08-16T10:28:10.896Z"
   },
   {
    "duration": 140,
    "start_time": "2022-08-16T10:28:10.909Z"
   },
   {
    "duration": 125,
    "start_time": "2022-08-16T10:28:21.718Z"
   },
   {
    "duration": 137,
    "start_time": "2022-08-16T10:28:39.242Z"
   },
   {
    "duration": 132,
    "start_time": "2022-08-16T10:28:52.976Z"
   },
   {
    "duration": 130,
    "start_time": "2022-08-16T10:29:28.617Z"
   },
   {
    "duration": 134,
    "start_time": "2022-08-16T10:33:05.026Z"
   },
   {
    "duration": 125,
    "start_time": "2022-08-16T10:37:16.099Z"
   },
   {
    "duration": 100,
    "start_time": "2022-08-16T10:40:27.419Z"
   },
   {
    "duration": 21,
    "start_time": "2022-08-16T10:40:58.594Z"
   },
   {
    "duration": 154,
    "start_time": "2022-08-16T10:43:37.222Z"
   },
   {
    "duration": 151,
    "start_time": "2022-08-16T10:44:47.616Z"
   },
   {
    "duration": 230,
    "start_time": "2022-08-16T10:45:01.546Z"
   },
   {
    "duration": 138,
    "start_time": "2022-08-16T10:45:16.871Z"
   },
   {
    "duration": 142,
    "start_time": "2022-08-16T10:45:31.747Z"
   },
   {
    "duration": 128,
    "start_time": "2022-08-16T10:47:47.387Z"
   },
   {
    "duration": 154,
    "start_time": "2022-08-16T10:48:13.740Z"
   },
   {
    "duration": 135,
    "start_time": "2022-08-16T10:48:59.930Z"
   },
   {
    "duration": 181,
    "start_time": "2022-08-16T10:49:06.660Z"
   },
   {
    "duration": 129,
    "start_time": "2022-08-16T10:49:51.919Z"
   },
   {
    "duration": 134,
    "start_time": "2022-08-16T10:50:08.701Z"
   },
   {
    "duration": 144,
    "start_time": "2022-08-16T10:50:54.657Z"
   },
   {
    "duration": 536,
    "start_time": "2022-08-16T10:54:07.240Z"
   },
   {
    "duration": 129,
    "start_time": "2022-08-16T10:55:26.798Z"
   },
   {
    "duration": 146,
    "start_time": "2022-08-16T10:56:04.993Z"
   },
   {
    "duration": 123,
    "start_time": "2022-08-16T10:56:45.792Z"
   },
   {
    "duration": 111,
    "start_time": "2022-08-16T11:01:21.616Z"
   },
   {
    "duration": 143,
    "start_time": "2022-08-16T11:04:34.487Z"
   },
   {
    "duration": 230,
    "start_time": "2022-08-16T11:05:18.091Z"
   },
   {
    "duration": 139,
    "start_time": "2022-08-16T11:05:31.364Z"
   },
   {
    "duration": 318,
    "start_time": "2022-08-16T11:35:32.943Z"
   },
   {
    "duration": 146,
    "start_time": "2022-08-16T11:55:58.444Z"
   },
   {
    "duration": 152,
    "start_time": "2022-08-16T12:16:06.258Z"
   },
   {
    "duration": 16,
    "start_time": "2022-08-16T12:36:11.752Z"
   },
   {
    "duration": 27,
    "start_time": "2022-08-16T12:38:06.985Z"
   },
   {
    "duration": 20,
    "start_time": "2022-08-16T12:38:34.701Z"
   },
   {
    "duration": 28,
    "start_time": "2022-08-16T12:39:56.549Z"
   },
   {
    "duration": 91,
    "start_time": "2022-08-16T13:52:48.660Z"
   },
   {
    "duration": 84,
    "start_time": "2022-08-16T13:53:11.004Z"
   },
   {
    "duration": 479,
    "start_time": "2022-08-16T13:54:07.021Z"
   },
   {
    "duration": 12,
    "start_time": "2022-08-16T13:54:07.502Z"
   },
   {
    "duration": 22,
    "start_time": "2022-08-16T13:54:07.516Z"
   },
   {
    "duration": 28,
    "start_time": "2022-08-16T13:54:07.541Z"
   },
   {
    "duration": 466,
    "start_time": "2022-08-16T13:54:07.572Z"
   },
   {
    "duration": 4,
    "start_time": "2022-08-16T13:54:08.040Z"
   },
   {
    "duration": 6,
    "start_time": "2022-08-16T13:54:08.055Z"
   },
   {
    "duration": 10,
    "start_time": "2022-08-16T13:54:08.062Z"
   },
   {
    "duration": 15,
    "start_time": "2022-08-16T13:54:08.073Z"
   },
   {
    "duration": 8,
    "start_time": "2022-08-16T13:54:08.090Z"
   },
   {
    "duration": 11,
    "start_time": "2022-08-16T13:54:08.100Z"
   },
   {
    "duration": 5,
    "start_time": "2022-08-16T13:54:08.113Z"
   },
   {
    "duration": 46,
    "start_time": "2022-08-16T13:54:08.119Z"
   },
   {
    "duration": 5,
    "start_time": "2022-08-16T13:54:08.168Z"
   },
   {
    "duration": 32,
    "start_time": "2022-08-16T13:54:08.175Z"
   },
   {
    "duration": 306,
    "start_time": "2022-08-16T13:54:08.209Z"
   },
   {
    "duration": 8,
    "start_time": "2022-08-16T13:54:08.516Z"
   },
   {
    "duration": 45,
    "start_time": "2022-08-16T13:54:08.525Z"
   },
   {
    "duration": 42,
    "start_time": "2022-08-16T13:54:08.572Z"
   },
   {
    "duration": 22,
    "start_time": "2022-08-16T13:54:08.616Z"
   },
   {
    "duration": 18,
    "start_time": "2022-08-16T13:54:08.640Z"
   },
   {
    "duration": 200,
    "start_time": "2022-08-16T13:54:08.660Z"
   },
   {
    "duration": 252,
    "start_time": "2022-08-16T13:54:08.861Z"
   },
   {
    "duration": 191,
    "start_time": "2022-08-16T13:54:09.115Z"
   },
   {
    "duration": 185,
    "start_time": "2022-08-16T13:54:09.308Z"
   },
   {
    "duration": 13,
    "start_time": "2022-08-16T13:54:09.495Z"
   },
   {
    "duration": 266,
    "start_time": "2022-08-16T13:54:09.510Z"
   },
   {
    "duration": 248,
    "start_time": "2022-08-16T13:54:09.780Z"
   },
   {
    "duration": 10,
    "start_time": "2022-08-16T13:54:10.030Z"
   },
   {
    "duration": 82,
    "start_time": "2022-08-16T13:54:10.055Z"
   },
   {
    "duration": 25,
    "start_time": "2022-08-16T13:54:10.139Z"
   },
   {
    "duration": 91,
    "start_time": "2022-08-16T13:54:10.165Z"
   },
   {
    "duration": 259,
    "start_time": "2022-08-16T13:54:10.258Z"
   },
   {
    "duration": 368,
    "start_time": "2022-08-16T13:54:10.519Z"
   },
   {
    "duration": 12,
    "start_time": "2022-08-16T13:54:10.889Z"
   },
   {
    "duration": 141,
    "start_time": "2022-08-16T13:54:10.903Z"
   },
   {
    "duration": 159,
    "start_time": "2022-08-16T13:54:11.045Z"
   },
   {
    "duration": 79,
    "start_time": "2022-08-16T13:54:11.206Z"
   },
   {
    "duration": 0,
    "start_time": "2022-08-16T13:54:11.286Z"
   },
   {
    "duration": 0,
    "start_time": "2022-08-16T13:54:11.288Z"
   },
   {
    "duration": 0,
    "start_time": "2022-08-16T13:54:11.288Z"
   },
   {
    "duration": 0,
    "start_time": "2022-08-16T13:54:11.290Z"
   },
   {
    "duration": 0,
    "start_time": "2022-08-16T13:54:11.291Z"
   },
   {
    "duration": 1,
    "start_time": "2022-08-16T13:54:11.292Z"
   },
   {
    "duration": 0,
    "start_time": "2022-08-16T13:54:11.294Z"
   },
   {
    "duration": 0,
    "start_time": "2022-08-16T13:54:11.294Z"
   },
   {
    "duration": 100,
    "start_time": "2022-08-16T13:54:21.116Z"
   },
   {
    "duration": 74,
    "start_time": "2022-08-16T13:54:40.140Z"
   },
   {
    "duration": 87,
    "start_time": "2022-08-16T13:54:48.173Z"
   },
   {
    "duration": 88,
    "start_time": "2022-08-16T13:55:33.611Z"
   },
   {
    "duration": 4,
    "start_time": "2022-08-16T13:56:29.923Z"
   },
   {
    "duration": 31,
    "start_time": "2022-08-16T13:56:36.103Z"
   },
   {
    "duration": 34,
    "start_time": "2022-08-16T13:56:59.833Z"
   },
   {
    "duration": 1293,
    "start_time": "2022-08-16T13:57:52.178Z"
   },
   {
    "duration": 43,
    "start_time": "2022-08-16T13:58:20.124Z"
   },
   {
    "duration": 30,
    "start_time": "2022-08-16T13:58:59.557Z"
   },
   {
    "duration": 28,
    "start_time": "2022-08-16T14:01:50.321Z"
   },
   {
    "duration": 26,
    "start_time": "2022-08-16T14:02:07.994Z"
   },
   {
    "duration": 5,
    "start_time": "2022-08-16T14:02:18.986Z"
   },
   {
    "duration": 38,
    "start_time": "2022-08-16T14:02:26.422Z"
   },
   {
    "duration": 25,
    "start_time": "2022-08-16T14:04:29.702Z"
   },
   {
    "duration": 34,
    "start_time": "2022-08-16T14:04:45.990Z"
   },
   {
    "duration": 49,
    "start_time": "2022-08-16T14:05:13.731Z"
   },
   {
    "duration": 49,
    "start_time": "2022-08-16T14:06:43.749Z"
   },
   {
    "duration": 30,
    "start_time": "2022-08-16T14:08:13.037Z"
   },
   {
    "duration": 42,
    "start_time": "2022-08-16T14:09:25.036Z"
   },
   {
    "duration": 18,
    "start_time": "2022-08-16T14:16:52.906Z"
   },
   {
    "duration": 5,
    "start_time": "2022-08-16T14:20:36.632Z"
   },
   {
    "duration": 9,
    "start_time": "2022-08-16T14:21:34.601Z"
   },
   {
    "duration": 93,
    "start_time": "2022-08-16T14:24:17.865Z"
   },
   {
    "duration": 93,
    "start_time": "2022-08-16T14:24:40.819Z"
   },
   {
    "duration": 98,
    "start_time": "2022-08-16T14:25:35.890Z"
   },
   {
    "duration": 87,
    "start_time": "2022-08-16T14:25:54.026Z"
   },
   {
    "duration": 105,
    "start_time": "2022-08-16T14:26:00.980Z"
   },
   {
    "duration": 530,
    "start_time": "2022-08-16T14:26:10.871Z"
   },
   {
    "duration": 10,
    "start_time": "2022-08-16T14:26:11.403Z"
   },
   {
    "duration": 8,
    "start_time": "2022-08-16T14:26:11.415Z"
   },
   {
    "duration": 13,
    "start_time": "2022-08-16T14:26:11.426Z"
   },
   {
    "duration": 450,
    "start_time": "2022-08-16T14:26:11.441Z"
   },
   {
    "duration": 6,
    "start_time": "2022-08-16T14:26:11.893Z"
   },
   {
    "duration": 9,
    "start_time": "2022-08-16T14:26:11.901Z"
   },
   {
    "duration": 11,
    "start_time": "2022-08-16T14:26:11.912Z"
   },
   {
    "duration": 41,
    "start_time": "2022-08-16T14:26:11.924Z"
   },
   {
    "duration": 25,
    "start_time": "2022-08-16T14:26:11.970Z"
   },
   {
    "duration": 10,
    "start_time": "2022-08-16T14:26:11.997Z"
   },
   {
    "duration": 7,
    "start_time": "2022-08-16T14:26:12.009Z"
   },
   {
    "duration": 42,
    "start_time": "2022-08-16T14:26:12.018Z"
   },
   {
    "duration": 10,
    "start_time": "2022-08-16T14:26:12.062Z"
   },
   {
    "duration": 24,
    "start_time": "2022-08-16T14:26:12.080Z"
   },
   {
    "duration": 325,
    "start_time": "2022-08-16T14:26:12.106Z"
   },
   {
    "duration": 7,
    "start_time": "2022-08-16T14:26:12.433Z"
   },
   {
    "duration": 47,
    "start_time": "2022-08-16T14:26:12.441Z"
   },
   {
    "duration": 79,
    "start_time": "2022-08-16T14:26:12.490Z"
   },
   {
    "duration": 44,
    "start_time": "2022-08-16T14:26:12.574Z"
   },
   {
    "duration": 7,
    "start_time": "2022-08-16T14:26:12.622Z"
   },
   {
    "duration": 265,
    "start_time": "2022-08-16T14:26:12.632Z"
   },
   {
    "duration": 284,
    "start_time": "2022-08-16T14:26:12.899Z"
   },
   {
    "duration": 214,
    "start_time": "2022-08-16T14:26:13.185Z"
   },
   {
    "duration": 232,
    "start_time": "2022-08-16T14:26:13.401Z"
   },
   {
    "duration": 25,
    "start_time": "2022-08-16T14:26:13.635Z"
   },
   {
    "duration": 289,
    "start_time": "2022-08-16T14:26:13.661Z"
   },
   {
    "duration": 292,
    "start_time": "2022-08-16T14:26:13.956Z"
   },
   {
    "duration": 19,
    "start_time": "2022-08-16T14:26:14.250Z"
   },
   {
    "duration": 130,
    "start_time": "2022-08-16T14:26:14.275Z"
   },
   {
    "duration": 14,
    "start_time": "2022-08-16T14:26:14.407Z"
   },
   {
    "duration": 118,
    "start_time": "2022-08-16T14:26:14.423Z"
   },
   {
    "duration": 237,
    "start_time": "2022-08-16T14:26:14.543Z"
   },
   {
    "duration": 406,
    "start_time": "2022-08-16T14:26:14.782Z"
   },
   {
    "duration": 14,
    "start_time": "2022-08-16T14:26:15.190Z"
   },
   {
    "duration": 186,
    "start_time": "2022-08-16T14:26:15.206Z"
   },
   {
    "duration": 215,
    "start_time": "2022-08-16T14:26:15.394Z"
   },
   {
    "duration": 121,
    "start_time": "2022-08-16T14:26:15.610Z"
   },
   {
    "duration": 0,
    "start_time": "2022-08-16T14:26:15.733Z"
   },
   {
    "duration": 0,
    "start_time": "2022-08-16T14:26:15.735Z"
   },
   {
    "duration": 0,
    "start_time": "2022-08-16T14:26:15.739Z"
   },
   {
    "duration": 0,
    "start_time": "2022-08-16T14:26:15.740Z"
   },
   {
    "duration": 0,
    "start_time": "2022-08-16T14:26:15.743Z"
   },
   {
    "duration": 0,
    "start_time": "2022-08-16T14:26:15.744Z"
   },
   {
    "duration": 0,
    "start_time": "2022-08-16T14:26:15.745Z"
   },
   {
    "duration": 0,
    "start_time": "2022-08-16T14:26:15.747Z"
   },
   {
    "duration": 0,
    "start_time": "2022-08-16T14:26:15.748Z"
   },
   {
    "duration": 107,
    "start_time": "2022-08-16T14:26:24.021Z"
   },
   {
    "duration": 155,
    "start_time": "2022-08-16T14:27:50.012Z"
   },
   {
    "duration": 88,
    "start_time": "2022-08-16T14:28:53.236Z"
   },
   {
    "duration": 119,
    "start_time": "2022-08-16T14:31:24.534Z"
   },
   {
    "duration": 133,
    "start_time": "2022-08-16T14:33:06.663Z"
   },
   {
    "duration": 85,
    "start_time": "2022-08-16T14:33:14.634Z"
   },
   {
    "duration": 86,
    "start_time": "2022-08-16T14:34:11.706Z"
   },
   {
    "duration": 76,
    "start_time": "2022-08-16T14:34:50.076Z"
   },
   {
    "duration": 448,
    "start_time": "2022-08-16T14:36:04.741Z"
   },
   {
    "duration": 20,
    "start_time": "2022-08-16T14:36:21.289Z"
   },
   {
    "duration": 27,
    "start_time": "2022-08-16T14:36:29.435Z"
   },
   {
    "duration": 485,
    "start_time": "2022-08-16T14:36:35.281Z"
   },
   {
    "duration": 9,
    "start_time": "2022-08-16T14:36:35.775Z"
   },
   {
    "duration": 8,
    "start_time": "2022-08-16T14:36:35.785Z"
   },
   {
    "duration": 10,
    "start_time": "2022-08-16T14:36:35.795Z"
   },
   {
    "duration": 438,
    "start_time": "2022-08-16T14:36:35.806Z"
   },
   {
    "duration": 12,
    "start_time": "2022-08-16T14:36:36.246Z"
   },
   {
    "duration": 18,
    "start_time": "2022-08-16T14:36:36.261Z"
   },
   {
    "duration": 9,
    "start_time": "2022-08-16T14:36:36.280Z"
   },
   {
    "duration": 14,
    "start_time": "2022-08-16T14:36:36.290Z"
   },
   {
    "duration": 12,
    "start_time": "2022-08-16T14:36:36.307Z"
   },
   {
    "duration": 6,
    "start_time": "2022-08-16T14:36:36.320Z"
   },
   {
    "duration": 6,
    "start_time": "2022-08-16T14:36:36.328Z"
   },
   {
    "duration": 81,
    "start_time": "2022-08-16T14:36:36.335Z"
   },
   {
    "duration": 5,
    "start_time": "2022-08-16T14:36:36.417Z"
   },
   {
    "duration": 23,
    "start_time": "2022-08-16T14:36:36.423Z"
   },
   {
    "duration": 329,
    "start_time": "2022-08-16T14:36:36.448Z"
   },
   {
    "duration": 9,
    "start_time": "2022-08-16T14:36:36.782Z"
   },
   {
    "duration": 47,
    "start_time": "2022-08-16T14:36:36.793Z"
   },
   {
    "duration": 54,
    "start_time": "2022-08-16T14:36:36.841Z"
   },
   {
    "duration": 31,
    "start_time": "2022-08-16T14:36:36.897Z"
   },
   {
    "duration": 6,
    "start_time": "2022-08-16T14:36:36.930Z"
   },
   {
    "duration": 225,
    "start_time": "2022-08-16T14:36:36.938Z"
   },
   {
    "duration": 295,
    "start_time": "2022-08-16T14:36:37.165Z"
   },
   {
    "duration": 284,
    "start_time": "2022-08-16T14:36:37.464Z"
   },
   {
    "duration": 215,
    "start_time": "2022-08-16T14:36:37.760Z"
   },
   {
    "duration": 16,
    "start_time": "2022-08-16T14:36:37.976Z"
   },
   {
    "duration": 330,
    "start_time": "2022-08-16T14:36:37.994Z"
   },
   {
    "duration": 264,
    "start_time": "2022-08-16T14:36:38.327Z"
   },
   {
    "duration": 10,
    "start_time": "2022-08-16T14:36:38.593Z"
   },
   {
    "duration": 99,
    "start_time": "2022-08-16T14:36:38.605Z"
   },
   {
    "duration": 11,
    "start_time": "2022-08-16T14:36:38.705Z"
   },
   {
    "duration": 111,
    "start_time": "2022-08-16T14:36:38.717Z"
   },
   {
    "duration": 224,
    "start_time": "2022-08-16T14:36:38.830Z"
   },
   {
    "duration": 382,
    "start_time": "2022-08-16T14:36:39.062Z"
   },
   {
    "duration": 28,
    "start_time": "2022-08-16T14:36:39.446Z"
   },
   {
    "duration": 157,
    "start_time": "2022-08-16T14:36:39.476Z"
   },
   {
    "duration": 159,
    "start_time": "2022-08-16T14:36:39.635Z"
   },
   {
    "duration": 180,
    "start_time": "2022-08-16T14:36:39.796Z"
   },
   {
    "duration": 0,
    "start_time": "2022-08-16T14:36:39.977Z"
   },
   {
    "duration": 0,
    "start_time": "2022-08-16T14:36:39.978Z"
   },
   {
    "duration": 0,
    "start_time": "2022-08-16T14:36:39.979Z"
   },
   {
    "duration": 0,
    "start_time": "2022-08-16T14:36:39.980Z"
   },
   {
    "duration": 0,
    "start_time": "2022-08-16T14:36:39.982Z"
   },
   {
    "duration": 0,
    "start_time": "2022-08-16T14:36:39.983Z"
   },
   {
    "duration": 0,
    "start_time": "2022-08-16T14:36:39.984Z"
   },
   {
    "duration": 0,
    "start_time": "2022-08-16T14:36:39.985Z"
   },
   {
    "duration": 0,
    "start_time": "2022-08-16T14:36:39.987Z"
   },
   {
    "duration": 28,
    "start_time": "2022-08-16T14:37:07.632Z"
   },
   {
    "duration": 22,
    "start_time": "2022-08-16T14:37:21.561Z"
   },
   {
    "duration": 20,
    "start_time": "2022-08-16T14:37:25.610Z"
   },
   {
    "duration": 23,
    "start_time": "2022-08-16T14:37:39.553Z"
   },
   {
    "duration": 161,
    "start_time": "2022-08-16T14:38:29.919Z"
   },
   {
    "duration": 26,
    "start_time": "2022-08-16T15:06:16.266Z"
   },
   {
    "duration": 55,
    "start_time": "2022-08-16T18:13:37.577Z"
   },
   {
    "duration": 6,
    "start_time": "2022-08-16T18:13:45.816Z"
   },
   {
    "duration": 618,
    "start_time": "2022-08-16T18:13:51.773Z"
   },
   {
    "duration": 6,
    "start_time": "2022-08-16T18:13:52.393Z"
   },
   {
    "duration": 10,
    "start_time": "2022-08-16T18:13:52.400Z"
   },
   {
    "duration": 617,
    "start_time": "2022-08-16T18:13:52.412Z"
   },
   {
    "duration": 4,
    "start_time": "2022-08-16T18:13:53.031Z"
   },
   {
    "duration": 8,
    "start_time": "2022-08-16T18:13:53.037Z"
   },
   {
    "duration": 26,
    "start_time": "2022-08-16T18:13:53.047Z"
   },
   {
    "duration": 19,
    "start_time": "2022-08-16T18:13:53.075Z"
   },
   {
    "duration": 15,
    "start_time": "2022-08-16T18:13:53.096Z"
   },
   {
    "duration": 6,
    "start_time": "2022-08-16T18:13:53.113Z"
   },
   {
    "duration": 7,
    "start_time": "2022-08-16T18:13:53.121Z"
   },
   {
    "duration": 63,
    "start_time": "2022-08-16T18:13:53.130Z"
   },
   {
    "duration": 5,
    "start_time": "2022-08-16T18:13:53.194Z"
   },
   {
    "duration": 25,
    "start_time": "2022-08-16T18:13:53.201Z"
   },
   {
    "duration": 364,
    "start_time": "2022-08-16T18:13:53.227Z"
   },
   {
    "duration": 7,
    "start_time": "2022-08-16T18:13:53.593Z"
   },
   {
    "duration": 30,
    "start_time": "2022-08-16T18:13:53.602Z"
   },
   {
    "duration": 68,
    "start_time": "2022-08-16T18:13:53.634Z"
   },
   {
    "duration": 27,
    "start_time": "2022-08-16T18:13:53.704Z"
   },
   {
    "duration": 7,
    "start_time": "2022-08-16T18:13:53.733Z"
   },
   {
    "duration": 300,
    "start_time": "2022-08-16T18:13:53.741Z"
   },
   {
    "duration": 216,
    "start_time": "2022-08-16T18:13:54.043Z"
   },
   {
    "duration": 212,
    "start_time": "2022-08-16T18:13:54.261Z"
   },
   {
    "duration": 215,
    "start_time": "2022-08-16T18:13:54.475Z"
   },
   {
    "duration": 13,
    "start_time": "2022-08-16T18:13:54.692Z"
   },
   {
    "duration": 265,
    "start_time": "2022-08-16T18:13:54.706Z"
   },
   {
    "duration": 292,
    "start_time": "2022-08-16T18:13:54.974Z"
   },
   {
    "duration": 11,
    "start_time": "2022-08-16T18:13:55.270Z"
   },
   {
    "duration": 106,
    "start_time": "2022-08-16T18:13:55.283Z"
   },
   {
    "duration": 11,
    "start_time": "2022-08-16T18:13:55.390Z"
   },
   {
    "duration": 104,
    "start_time": "2022-08-16T18:13:55.402Z"
   },
   {
    "duration": 215,
    "start_time": "2022-08-16T18:13:55.508Z"
   },
   {
    "duration": 396,
    "start_time": "2022-08-16T18:13:55.725Z"
   },
   {
    "duration": 12,
    "start_time": "2022-08-16T18:13:56.123Z"
   },
   {
    "duration": 166,
    "start_time": "2022-08-16T18:13:56.137Z"
   },
   {
    "duration": 170,
    "start_time": "2022-08-16T18:13:56.304Z"
   },
   {
    "duration": 75,
    "start_time": "2022-08-16T18:13:56.476Z"
   },
   {
    "duration": 0,
    "start_time": "2022-08-16T18:13:56.553Z"
   },
   {
    "duration": 0,
    "start_time": "2022-08-16T18:13:56.554Z"
   },
   {
    "duration": 0,
    "start_time": "2022-08-16T18:13:56.555Z"
   },
   {
    "duration": 0,
    "start_time": "2022-08-16T18:13:56.556Z"
   },
   {
    "duration": 0,
    "start_time": "2022-08-16T18:13:56.558Z"
   },
   {
    "duration": 0,
    "start_time": "2022-08-16T18:13:56.559Z"
   },
   {
    "duration": 0,
    "start_time": "2022-08-16T18:13:56.560Z"
   },
   {
    "duration": 0,
    "start_time": "2022-08-16T18:13:56.561Z"
   },
   {
    "duration": 0,
    "start_time": "2022-08-16T18:13:56.562Z"
   },
   {
    "duration": 304,
    "start_time": "2022-08-16T18:22:01.920Z"
   },
   {
    "duration": 330,
    "start_time": "2022-08-16T18:22:31.847Z"
   },
   {
    "duration": 310,
    "start_time": "2022-08-16T18:23:10.109Z"
   },
   {
    "duration": 385,
    "start_time": "2022-08-16T18:23:25.475Z"
   },
   {
    "duration": 323,
    "start_time": "2022-08-16T18:23:46.121Z"
   },
   {
    "duration": 295,
    "start_time": "2022-08-16T18:24:08.563Z"
   },
   {
    "duration": 7,
    "start_time": "2022-08-16T18:36:33.548Z"
   },
   {
    "duration": 8,
    "start_time": "2022-08-16T18:37:28.024Z"
   },
   {
    "duration": 8,
    "start_time": "2022-08-16T18:37:51.187Z"
   },
   {
    "duration": 134,
    "start_time": "2022-08-16T18:46:51.822Z"
   },
   {
    "duration": 519,
    "start_time": "2022-08-16T19:15:11.458Z"
   },
   {
    "duration": 4,
    "start_time": "2022-08-16T19:15:11.979Z"
   },
   {
    "duration": 9,
    "start_time": "2022-08-16T19:15:11.984Z"
   },
   {
    "duration": 384,
    "start_time": "2022-08-16T19:15:11.994Z"
   },
   {
    "duration": 5,
    "start_time": "2022-08-16T19:15:12.380Z"
   },
   {
    "duration": 45,
    "start_time": "2022-08-16T19:15:12.386Z"
   },
   {
    "duration": 17,
    "start_time": "2022-08-16T19:15:12.433Z"
   },
   {
    "duration": 9,
    "start_time": "2022-08-16T19:15:12.451Z"
   },
   {
    "duration": 5,
    "start_time": "2022-08-16T19:15:12.462Z"
   },
   {
    "duration": 5,
    "start_time": "2022-08-16T19:15:12.469Z"
   },
   {
    "duration": 33,
    "start_time": "2022-08-16T19:15:12.475Z"
   },
   {
    "duration": 5,
    "start_time": "2022-08-16T19:15:12.510Z"
   },
   {
    "duration": 21,
    "start_time": "2022-08-16T19:15:12.516Z"
   },
   {
    "duration": 327,
    "start_time": "2022-08-16T19:15:12.538Z"
   },
   {
    "duration": 7,
    "start_time": "2022-08-16T19:15:12.866Z"
   },
   {
    "duration": 29,
    "start_time": "2022-08-16T19:15:12.874Z"
   },
   {
    "duration": 68,
    "start_time": "2022-08-16T19:15:12.905Z"
   },
   {
    "duration": 27,
    "start_time": "2022-08-16T19:15:12.975Z"
   },
   {
    "duration": 6,
    "start_time": "2022-08-16T19:15:13.004Z"
   },
   {
    "duration": 8,
    "start_time": "2022-08-16T19:15:13.013Z"
   },
   {
    "duration": 396,
    "start_time": "2022-08-16T19:15:13.023Z"
   },
   {
    "duration": 329,
    "start_time": "2022-08-16T19:15:13.421Z"
   },
   {
    "duration": 342,
    "start_time": "2022-08-16T19:15:13.752Z"
   },
   {
    "duration": 344,
    "start_time": "2022-08-16T19:15:14.096Z"
   },
   {
    "duration": 28,
    "start_time": "2022-08-16T19:15:14.441Z"
   },
   {
    "duration": 292,
    "start_time": "2022-08-16T19:15:14.471Z"
   },
   {
    "duration": 300,
    "start_time": "2022-08-16T19:15:14.768Z"
   },
   {
    "duration": 13,
    "start_time": "2022-08-16T19:15:15.074Z"
   },
   {
    "duration": 202,
    "start_time": "2022-08-16T19:15:15.089Z"
   },
   {
    "duration": 12,
    "start_time": "2022-08-16T19:15:15.293Z"
   },
   {
    "duration": 116,
    "start_time": "2022-08-16T19:15:15.307Z"
   },
   {
    "duration": 247,
    "start_time": "2022-08-16T19:15:15.424Z"
   },
   {
    "duration": 357,
    "start_time": "2022-08-16T19:15:15.673Z"
   },
   {
    "duration": 14,
    "start_time": "2022-08-16T19:15:16.032Z"
   },
   {
    "duration": 186,
    "start_time": "2022-08-16T19:15:16.048Z"
   },
   {
    "duration": 190,
    "start_time": "2022-08-16T19:15:16.236Z"
   },
   {
    "duration": 208,
    "start_time": "2022-08-16T19:15:16.428Z"
   },
   {
    "duration": 241,
    "start_time": "2022-08-16T19:15:16.638Z"
   },
   {
    "duration": 168,
    "start_time": "2022-08-16T19:15:16.881Z"
   },
   {
    "duration": 199,
    "start_time": "2022-08-16T19:15:17.050Z"
   },
   {
    "duration": 197,
    "start_time": "2022-08-16T19:15:17.250Z"
   },
   {
    "duration": 294,
    "start_time": "2022-08-16T19:15:17.449Z"
   },
   {
    "duration": 43,
    "start_time": "2022-08-16T19:15:17.745Z"
   },
   {
    "duration": 199,
    "start_time": "2022-08-16T19:15:17.790Z"
   },
   {
    "duration": 184,
    "start_time": "2022-08-16T20:03:48.159Z"
   },
   {
    "duration": 184,
    "start_time": "2022-08-16T20:08:11.364Z"
   },
   {
    "duration": 520,
    "start_time": "2022-08-16T22:30:36.372Z"
   },
   {
    "duration": 4,
    "start_time": "2022-08-16T22:30:36.895Z"
   },
   {
    "duration": 14,
    "start_time": "2022-08-16T22:30:36.900Z"
   },
   {
    "duration": 391,
    "start_time": "2022-08-16T22:30:36.916Z"
   },
   {
    "duration": 6,
    "start_time": "2022-08-16T22:30:37.309Z"
   },
   {
    "duration": 22,
    "start_time": "2022-08-16T22:30:37.316Z"
   },
   {
    "duration": 14,
    "start_time": "2022-08-16T22:30:37.340Z"
   },
   {
    "duration": 11,
    "start_time": "2022-08-16T22:30:37.355Z"
   },
   {
    "duration": 6,
    "start_time": "2022-08-16T22:30:37.368Z"
   },
   {
    "duration": 11,
    "start_time": "2022-08-16T22:30:37.376Z"
   },
   {
    "duration": 51,
    "start_time": "2022-08-16T22:30:37.388Z"
   },
   {
    "duration": 6,
    "start_time": "2022-08-16T22:30:37.441Z"
   },
   {
    "duration": 27,
    "start_time": "2022-08-16T22:30:37.448Z"
   },
   {
    "duration": 313,
    "start_time": "2022-08-16T22:30:37.476Z"
   },
   {
    "duration": 7,
    "start_time": "2022-08-16T22:30:37.791Z"
   },
   {
    "duration": 45,
    "start_time": "2022-08-16T22:30:37.799Z"
   },
   {
    "duration": 39,
    "start_time": "2022-08-16T22:30:37.846Z"
   },
   {
    "duration": 24,
    "start_time": "2022-08-16T22:30:37.886Z"
   },
   {
    "duration": 28,
    "start_time": "2022-08-16T22:30:37.912Z"
   },
   {
    "duration": 8,
    "start_time": "2022-08-16T22:30:37.942Z"
   },
   {
    "duration": 329,
    "start_time": "2022-08-16T22:30:37.951Z"
   },
   {
    "duration": 298,
    "start_time": "2022-08-16T22:30:38.282Z"
   },
   {
    "duration": 297,
    "start_time": "2022-08-16T22:30:38.581Z"
   },
   {
    "duration": 362,
    "start_time": "2022-08-16T22:30:38.880Z"
   },
   {
    "duration": 13,
    "start_time": "2022-08-16T22:30:39.244Z"
   },
   {
    "duration": 245,
    "start_time": "2022-08-16T22:30:39.258Z"
   },
   {
    "duration": 318,
    "start_time": "2022-08-16T22:30:39.504Z"
   },
   {
    "duration": 18,
    "start_time": "2022-08-16T22:30:39.826Z"
   },
   {
    "duration": 105,
    "start_time": "2022-08-16T22:30:39.845Z"
   },
   {
    "duration": 15,
    "start_time": "2022-08-16T22:30:39.952Z"
   },
   {
    "duration": 120,
    "start_time": "2022-08-16T22:30:39.969Z"
   },
   {
    "duration": 216,
    "start_time": "2022-08-16T22:30:40.091Z"
   },
   {
    "duration": 293,
    "start_time": "2022-08-16T22:30:40.309Z"
   },
   {
    "duration": 12,
    "start_time": "2022-08-16T22:30:40.604Z"
   },
   {
    "duration": 158,
    "start_time": "2022-08-16T22:30:40.617Z"
   },
   {
    "duration": 155,
    "start_time": "2022-08-16T22:30:40.777Z"
   },
   {
    "duration": 143,
    "start_time": "2022-08-16T22:30:40.934Z"
   },
   {
    "duration": 151,
    "start_time": "2022-08-16T22:30:41.078Z"
   },
   {
    "duration": 141,
    "start_time": "2022-08-16T22:30:41.231Z"
   },
   {
    "duration": 244,
    "start_time": "2022-08-16T22:30:41.374Z"
   },
   {
    "duration": 162,
    "start_time": "2022-08-16T22:30:41.620Z"
   },
   {
    "duration": 144,
    "start_time": "2022-08-16T22:30:41.784Z"
   },
   {
    "duration": 51,
    "start_time": "2022-08-16T22:30:41.930Z"
   },
   {
    "duration": 150,
    "start_time": "2022-08-16T22:30:41.983Z"
   },
   {
    "duration": 149,
    "start_time": "2022-08-16T22:49:51.342Z"
   },
   {
    "duration": 165,
    "start_time": "2022-08-16T22:50:00.700Z"
   },
   {
    "duration": 145,
    "start_time": "2022-08-16T22:50:07.630Z"
   },
   {
    "duration": 54,
    "start_time": "2022-08-17T14:32:24.348Z"
   },
   {
    "duration": 589,
    "start_time": "2022-08-17T14:32:40.645Z"
   },
   {
    "duration": 3219,
    "start_time": "2022-08-17T14:32:41.237Z"
   },
   {
    "duration": 7,
    "start_time": "2022-08-17T14:32:44.458Z"
   },
   {
    "duration": 30,
    "start_time": "2022-08-17T14:32:44.468Z"
   },
   {
    "duration": 200,
    "start_time": "2022-08-17T14:32:44.500Z"
   },
   {
    "duration": 8,
    "start_time": "2022-08-17T14:32:44.702Z"
   },
   {
    "duration": 12,
    "start_time": "2022-08-17T14:32:44.712Z"
   },
   {
    "duration": 19,
    "start_time": "2022-08-17T14:32:44.726Z"
   },
   {
    "duration": 52,
    "start_time": "2022-08-17T14:32:44.747Z"
   },
   {
    "duration": 8,
    "start_time": "2022-08-17T14:32:44.801Z"
   },
   {
    "duration": 17,
    "start_time": "2022-08-17T14:32:44.811Z"
   },
   {
    "duration": 72,
    "start_time": "2022-08-17T14:32:44.831Z"
   },
   {
    "duration": 7,
    "start_time": "2022-08-17T14:32:44.905Z"
   },
   {
    "duration": 28,
    "start_time": "2022-08-17T14:32:44.914Z"
   },
   {
    "duration": 396,
    "start_time": "2022-08-17T14:32:44.944Z"
   },
   {
    "duration": 8,
    "start_time": "2022-08-17T14:32:45.342Z"
   },
   {
    "duration": 53,
    "start_time": "2022-08-17T14:32:45.351Z"
   },
   {
    "duration": 48,
    "start_time": "2022-08-17T14:32:45.405Z"
   },
   {
    "duration": 56,
    "start_time": "2022-08-17T14:32:45.455Z"
   },
   {
    "duration": 9,
    "start_time": "2022-08-17T14:32:45.513Z"
   },
   {
    "duration": 13,
    "start_time": "2022-08-17T14:32:45.524Z"
   },
   {
    "duration": 475,
    "start_time": "2022-08-17T14:32:45.540Z"
   },
   {
    "duration": 373,
    "start_time": "2022-08-17T14:32:46.016Z"
   },
   {
    "duration": 342,
    "start_time": "2022-08-17T14:32:46.392Z"
   },
   {
    "duration": 443,
    "start_time": "2022-08-17T14:32:46.736Z"
   },
   {
    "duration": 21,
    "start_time": "2022-08-17T14:32:47.182Z"
   },
   {
    "duration": 301,
    "start_time": "2022-08-17T14:32:47.205Z"
   },
   {
    "duration": 305,
    "start_time": "2022-08-17T14:32:47.511Z"
   },
   {
    "duration": 13,
    "start_time": "2022-08-17T14:32:47.819Z"
   },
   {
    "duration": 259,
    "start_time": "2022-08-17T14:32:47.833Z"
   },
   {
    "duration": 17,
    "start_time": "2022-08-17T14:32:48.095Z"
   },
   {
    "duration": 123,
    "start_time": "2022-08-17T14:32:48.114Z"
   },
   {
    "duration": 268,
    "start_time": "2022-08-17T14:32:48.239Z"
   },
   {
    "duration": 377,
    "start_time": "2022-08-17T14:32:48.509Z"
   },
   {
    "duration": 16,
    "start_time": "2022-08-17T14:32:48.888Z"
   },
   {
    "duration": 261,
    "start_time": "2022-08-17T14:32:48.906Z"
   },
   {
    "duration": 254,
    "start_time": "2022-08-17T14:32:49.169Z"
   },
   {
    "duration": 191,
    "start_time": "2022-08-17T14:32:49.425Z"
   },
   {
    "duration": 201,
    "start_time": "2022-08-17T14:32:49.618Z"
   },
   {
    "duration": 180,
    "start_time": "2022-08-17T14:32:49.821Z"
   },
   {
    "duration": 220,
    "start_time": "2022-08-17T14:32:50.003Z"
   },
   {
    "duration": 219,
    "start_time": "2022-08-17T14:32:50.225Z"
   },
   {
    "duration": 200,
    "start_time": "2022-08-17T14:32:50.446Z"
   },
   {
    "duration": 49,
    "start_time": "2022-08-17T14:32:50.648Z"
   },
   {
    "duration": 219,
    "start_time": "2022-08-17T14:32:50.699Z"
   },
   {
    "duration": 77,
    "start_time": "2022-08-17T14:54:09.873Z"
   },
   {
    "duration": 33,
    "start_time": "2022-08-17T14:54:24.015Z"
   },
   {
    "duration": 29,
    "start_time": "2022-08-17T15:03:36.329Z"
   },
   {
    "duration": 21,
    "start_time": "2022-08-17T15:03:49.115Z"
   },
   {
    "duration": 4,
    "start_time": "2022-08-17T15:11:12.695Z"
   },
   {
    "duration": 81,
    "start_time": "2022-08-17T15:42:15.365Z"
   },
   {
    "duration": 80,
    "start_time": "2022-08-17T16:24:23.950Z"
   },
   {
    "duration": 162,
    "start_time": "2022-08-17T16:27:23.566Z"
   },
   {
    "duration": 5,
    "start_time": "2022-08-17T16:29:08.030Z"
   },
   {
    "duration": 16,
    "start_time": "2022-08-17T16:29:29.778Z"
   },
   {
    "duration": 1834,
    "start_time": "2022-08-17T16:29:41.740Z"
   },
   {
    "duration": 1637,
    "start_time": "2022-08-17T16:29:55.919Z"
   },
   {
    "duration": 1675,
    "start_time": "2022-08-17T16:32:13.282Z"
   },
   {
    "duration": 604,
    "start_time": "2022-08-17T16:32:31.650Z"
   },
   {
    "duration": 2655,
    "start_time": "2022-08-17T16:32:32.256Z"
   },
   {
    "duration": 13,
    "start_time": "2022-08-17T16:32:34.913Z"
   },
   {
    "duration": 6,
    "start_time": "2022-08-17T16:32:34.928Z"
   },
   {
    "duration": 10,
    "start_time": "2022-08-17T16:32:34.936Z"
   },
   {
    "duration": 194,
    "start_time": "2022-08-17T16:32:34.948Z"
   },
   {
    "duration": 6,
    "start_time": "2022-08-17T16:32:35.144Z"
   },
   {
    "duration": 10,
    "start_time": "2022-08-17T16:32:35.152Z"
   },
   {
    "duration": 39,
    "start_time": "2022-08-17T16:32:35.164Z"
   },
   {
    "duration": 13,
    "start_time": "2022-08-17T16:32:35.206Z"
   },
   {
    "duration": 11,
    "start_time": "2022-08-17T16:32:35.220Z"
   },
   {
    "duration": 12,
    "start_time": "2022-08-17T16:32:35.233Z"
   },
   {
    "duration": 1701,
    "start_time": "2022-08-17T16:32:35.247Z"
   },
   {
    "duration": 47,
    "start_time": "2022-08-17T16:32:36.950Z"
   },
   {
    "duration": 22,
    "start_time": "2022-08-17T16:32:36.999Z"
   },
   {
    "duration": 6,
    "start_time": "2022-08-17T16:32:37.023Z"
   },
   {
    "duration": 25,
    "start_time": "2022-08-17T16:32:37.031Z"
   },
   {
    "duration": 384,
    "start_time": "2022-08-17T16:32:37.057Z"
   },
   {
    "duration": 9,
    "start_time": "2022-08-17T16:32:37.443Z"
   },
   {
    "duration": 44,
    "start_time": "2022-08-17T16:32:37.453Z"
   },
   {
    "duration": 57,
    "start_time": "2022-08-17T16:32:37.499Z"
   },
   {
    "duration": 51,
    "start_time": "2022-08-17T16:32:37.557Z"
   },
   {
    "duration": 7,
    "start_time": "2022-08-17T16:32:37.609Z"
   },
   {
    "duration": 19,
    "start_time": "2022-08-17T16:32:37.617Z"
   },
   {
    "duration": 348,
    "start_time": "2022-08-17T16:32:37.637Z"
   },
   {
    "duration": 468,
    "start_time": "2022-08-17T16:32:37.988Z"
   },
   {
    "duration": 343,
    "start_time": "2022-08-17T16:32:38.458Z"
   },
   {
    "duration": 329,
    "start_time": "2022-08-17T16:32:38.804Z"
   },
   {
    "duration": 17,
    "start_time": "2022-08-17T16:32:39.135Z"
   },
   {
    "duration": 353,
    "start_time": "2022-08-17T16:32:39.154Z"
   },
   {
    "duration": 311,
    "start_time": "2022-08-17T16:32:39.509Z"
   },
   {
    "duration": 12,
    "start_time": "2022-08-17T16:32:39.822Z"
   },
   {
    "duration": 104,
    "start_time": "2022-08-17T16:32:39.836Z"
   },
   {
    "duration": 129,
    "start_time": "2022-08-17T16:32:39.942Z"
   },
   {
    "duration": 103,
    "start_time": "2022-08-17T16:32:40.073Z"
   },
   {
    "duration": 266,
    "start_time": "2022-08-17T16:32:40.178Z"
   },
   {
    "duration": 367,
    "start_time": "2022-08-17T16:32:40.447Z"
   },
   {
    "duration": 14,
    "start_time": "2022-08-17T16:32:40.816Z"
   },
   {
    "duration": 177,
    "start_time": "2022-08-17T16:32:40.831Z"
   },
   {
    "duration": 181,
    "start_time": "2022-08-17T16:32:41.010Z"
   },
   {
    "duration": 167,
    "start_time": "2022-08-17T16:32:41.193Z"
   },
   {
    "duration": 189,
    "start_time": "2022-08-17T16:32:41.362Z"
   },
   {
    "duration": 165,
    "start_time": "2022-08-17T16:32:41.554Z"
   },
   {
    "duration": 257,
    "start_time": "2022-08-17T16:32:41.720Z"
   },
   {
    "duration": 213,
    "start_time": "2022-08-17T16:32:41.980Z"
   },
   {
    "duration": 181,
    "start_time": "2022-08-17T16:32:42.195Z"
   },
   {
    "duration": 37,
    "start_time": "2022-08-17T16:32:42.378Z"
   },
   {
    "duration": 197,
    "start_time": "2022-08-17T16:32:42.417Z"
   },
   {
    "duration": 1771,
    "start_time": "2022-08-17T16:35:06.220Z"
   },
   {
    "duration": 1636,
    "start_time": "2022-08-17T16:42:36.473Z"
   },
   {
    "duration": 1623,
    "start_time": "2022-08-17T16:44:02.777Z"
   },
   {
    "duration": 93,
    "start_time": "2022-08-17T16:51:29.417Z"
   },
   {
    "duration": 3,
    "start_time": "2022-08-17T16:51:39.319Z"
   },
   {
    "duration": 4,
    "start_time": "2022-08-17T16:52:39.005Z"
   },
   {
    "duration": 6,
    "start_time": "2022-08-17T16:52:54.379Z"
   },
   {
    "duration": 14,
    "start_time": "2022-08-17T16:53:31.735Z"
   },
   {
    "duration": 11,
    "start_time": "2022-08-17T16:53:44.759Z"
   },
   {
    "duration": 17,
    "start_time": "2022-08-17T16:54:18.872Z"
   },
   {
    "duration": 1697,
    "start_time": "2022-08-17T16:54:33.627Z"
   },
   {
    "duration": 1817,
    "start_time": "2022-08-17T16:55:19.945Z"
   },
   {
    "duration": 19,
    "start_time": "2022-08-17T16:55:57.868Z"
   },
   {
    "duration": 20,
    "start_time": "2022-08-17T16:56:20.507Z"
   },
   {
    "duration": 17,
    "start_time": "2022-08-17T16:56:57.673Z"
   },
   {
    "duration": 93,
    "start_time": "2022-08-17T17:00:44.730Z"
   },
   {
    "duration": 76,
    "start_time": "2022-08-17T17:01:03.564Z"
   },
   {
    "duration": 116,
    "start_time": "2022-08-17T17:01:23.786Z"
   },
   {
    "duration": 95,
    "start_time": "2022-08-17T17:01:59.342Z"
   },
   {
    "duration": 1131,
    "start_time": "2022-08-17T18:30:41.008Z"
   },
   {
    "duration": 1181,
    "start_time": "2022-08-17T18:31:03.914Z"
   },
   {
    "duration": 1550,
    "start_time": "2022-08-17T18:31:20.755Z"
   },
   {
    "duration": 953,
    "start_time": "2022-08-17T18:31:57.683Z"
   },
   {
    "duration": 1829,
    "start_time": "2022-08-17T18:33:55.680Z"
   },
   {
    "duration": 568,
    "start_time": "2022-08-17T18:34:27.844Z"
   },
   {
    "duration": 2685,
    "start_time": "2022-08-17T18:34:28.414Z"
   },
   {
    "duration": 13,
    "start_time": "2022-08-17T18:34:31.102Z"
   },
   {
    "duration": 19,
    "start_time": "2022-08-17T18:34:31.118Z"
   },
   {
    "duration": 23,
    "start_time": "2022-08-17T18:34:31.139Z"
   },
   {
    "duration": 204,
    "start_time": "2022-08-17T18:34:31.164Z"
   },
   {
    "duration": 7,
    "start_time": "2022-08-17T18:34:31.371Z"
   },
   {
    "duration": 25,
    "start_time": "2022-08-17T18:34:31.381Z"
   },
   {
    "duration": 20,
    "start_time": "2022-08-17T18:34:31.408Z"
   },
   {
    "duration": 13,
    "start_time": "2022-08-17T18:34:31.431Z"
   },
   {
    "duration": 7,
    "start_time": "2022-08-17T18:34:31.445Z"
   },
   {
    "duration": 38,
    "start_time": "2022-08-17T18:34:31.454Z"
   },
   {
    "duration": 2055,
    "start_time": "2022-08-17T18:34:31.495Z"
   },
   {
    "duration": 58,
    "start_time": "2022-08-17T18:34:33.552Z"
   },
   {
    "duration": 33,
    "start_time": "2022-08-17T18:34:33.612Z"
   },
   {
    "duration": 7,
    "start_time": "2022-08-17T18:34:33.648Z"
   },
   {
    "duration": 51,
    "start_time": "2022-08-17T18:34:33.657Z"
   },
   {
    "duration": 376,
    "start_time": "2022-08-17T18:34:33.711Z"
   },
   {
    "duration": 9,
    "start_time": "2022-08-17T18:34:34.089Z"
   },
   {
    "duration": 39,
    "start_time": "2022-08-17T18:34:34.100Z"
   },
   {
    "duration": 68,
    "start_time": "2022-08-17T18:34:34.140Z"
   },
   {
    "duration": 38,
    "start_time": "2022-08-17T18:34:34.210Z"
   },
   {
    "duration": 8,
    "start_time": "2022-08-17T18:34:34.250Z"
   },
   {
    "duration": 32,
    "start_time": "2022-08-17T18:34:34.262Z"
   },
   {
    "duration": 346,
    "start_time": "2022-08-17T18:34:34.297Z"
   },
   {
    "duration": 449,
    "start_time": "2022-08-17T18:34:34.645Z"
   },
   {
    "duration": 334,
    "start_time": "2022-08-17T18:34:35.096Z"
   },
   {
    "duration": 355,
    "start_time": "2022-08-17T18:34:35.433Z"
   },
   {
    "duration": 17,
    "start_time": "2022-08-17T18:34:35.790Z"
   },
   {
    "duration": 314,
    "start_time": "2022-08-17T18:34:35.810Z"
   },
   {
    "duration": 313,
    "start_time": "2022-08-17T18:34:36.126Z"
   },
   {
    "duration": 12,
    "start_time": "2022-08-17T18:34:36.441Z"
   },
   {
    "duration": 113,
    "start_time": "2022-08-17T18:34:36.455Z"
   },
   {
    "duration": 133,
    "start_time": "2022-08-17T18:34:36.571Z"
   },
   {
    "duration": 115,
    "start_time": "2022-08-17T18:34:36.706Z"
   },
   {
    "duration": 257,
    "start_time": "2022-08-17T18:34:36.823Z"
   },
   {
    "duration": 371,
    "start_time": "2022-08-17T18:34:37.082Z"
   },
   {
    "duration": 15,
    "start_time": "2022-08-17T18:34:37.454Z"
   },
   {
    "duration": 181,
    "start_time": "2022-08-17T18:34:37.471Z"
   },
   {
    "duration": 192,
    "start_time": "2022-08-17T18:34:37.653Z"
   },
   {
    "duration": 174,
    "start_time": "2022-08-17T18:34:37.846Z"
   },
   {
    "duration": 187,
    "start_time": "2022-08-17T18:34:38.024Z"
   },
   {
    "duration": 168,
    "start_time": "2022-08-17T18:34:38.213Z"
   },
   {
    "duration": 200,
    "start_time": "2022-08-17T18:34:38.384Z"
   },
   {
    "duration": 199,
    "start_time": "2022-08-17T18:34:38.586Z"
   },
   {
    "duration": 181,
    "start_time": "2022-08-17T18:34:38.792Z"
   },
   {
    "duration": 56,
    "start_time": "2022-08-17T18:34:38.975Z"
   },
   {
    "duration": 199,
    "start_time": "2022-08-17T18:34:39.032Z"
   },
   {
    "duration": 1824,
    "start_time": "2022-08-17T18:35:17.618Z"
   },
   {
    "duration": 1315,
    "start_time": "2022-08-17T18:36:53.265Z"
   },
   {
    "duration": 1382,
    "start_time": "2022-08-17T18:37:06.663Z"
   },
   {
    "duration": 1624,
    "start_time": "2022-08-17T18:40:48.348Z"
   },
   {
    "duration": 1429,
    "start_time": "2022-08-17T18:43:28.723Z"
   },
   {
    "duration": 1839,
    "start_time": "2022-08-17T18:47:19.243Z"
   },
   {
    "duration": 1452,
    "start_time": "2022-08-17T18:48:48.303Z"
   },
   {
    "duration": 132,
    "start_time": "2022-08-17T19:08:01.685Z"
   },
   {
    "duration": 5,
    "start_time": "2022-08-17T19:08:15.080Z"
   },
   {
    "duration": 6,
    "start_time": "2022-08-17T19:08:42.203Z"
   },
   {
    "duration": 1523,
    "start_time": "2022-08-17T19:13:10.854Z"
   },
   {
    "duration": 9,
    "start_time": "2022-08-17T19:14:16.668Z"
   },
   {
    "duration": 4,
    "start_time": "2022-08-17T19:14:28.841Z"
   },
   {
    "duration": 15,
    "start_time": "2022-08-17T19:15:06.275Z"
   },
   {
    "duration": 19,
    "start_time": "2022-08-17T19:15:14.695Z"
   },
   {
    "duration": 1508,
    "start_time": "2022-08-17T19:16:05.409Z"
   },
   {
    "duration": 6,
    "start_time": "2022-08-17T19:29:57.732Z"
   },
   {
    "duration": 1449,
    "start_time": "2022-08-17T19:30:43.978Z"
   },
   {
    "duration": 13,
    "start_time": "2022-08-17T19:31:11.967Z"
   },
   {
    "duration": 6,
    "start_time": "2022-08-17T19:31:20.621Z"
   },
   {
    "duration": 6,
    "start_time": "2022-08-17T19:31:46.522Z"
   },
   {
    "duration": 7,
    "start_time": "2022-08-17T20:10:00.287Z"
   },
   {
    "duration": 7,
    "start_time": "2022-08-17T20:10:06.070Z"
   },
   {
    "duration": 7,
    "start_time": "2022-08-17T20:13:32.599Z"
   },
   {
    "duration": 1623,
    "start_time": "2022-08-17T20:19:59.538Z"
   },
   {
    "duration": 562,
    "start_time": "2022-08-17T20:20:20.944Z"
   },
   {
    "duration": 2927,
    "start_time": "2022-08-17T20:20:21.508Z"
   },
   {
    "duration": 13,
    "start_time": "2022-08-17T20:20:24.437Z"
   },
   {
    "duration": 6,
    "start_time": "2022-08-17T20:20:24.452Z"
   },
   {
    "duration": 10,
    "start_time": "2022-08-17T20:20:24.460Z"
   },
   {
    "duration": 204,
    "start_time": "2022-08-17T20:20:24.471Z"
   },
   {
    "duration": 15,
    "start_time": "2022-08-17T20:20:24.677Z"
   },
   {
    "duration": 10,
    "start_time": "2022-08-17T20:20:24.694Z"
   },
   {
    "duration": 17,
    "start_time": "2022-08-17T20:20:24.706Z"
   },
   {
    "duration": 12,
    "start_time": "2022-08-17T20:20:24.724Z"
   },
   {
    "duration": 10,
    "start_time": "2022-08-17T20:20:24.738Z"
   },
   {
    "duration": 8,
    "start_time": "2022-08-17T20:20:24.749Z"
   },
   {
    "duration": 1573,
    "start_time": "2022-08-17T20:20:24.758Z"
   },
   {
    "duration": 8,
    "start_time": "2022-08-17T20:20:26.335Z"
   },
   {
    "duration": 9,
    "start_time": "2022-08-17T20:20:26.345Z"
   },
   {
    "duration": 7,
    "start_time": "2022-08-17T20:20:26.356Z"
   },
   {
    "duration": 64,
    "start_time": "2022-08-17T20:20:26.365Z"
   },
   {
    "duration": 32,
    "start_time": "2022-08-17T20:20:26.431Z"
   },
   {
    "duration": 28,
    "start_time": "2022-08-17T20:20:26.465Z"
   },
   {
    "duration": 40,
    "start_time": "2022-08-17T20:20:26.495Z"
   },
   {
    "duration": 421,
    "start_time": "2022-08-17T20:20:26.537Z"
   },
   {
    "duration": 9,
    "start_time": "2022-08-17T20:20:26.960Z"
   },
   {
    "duration": 47,
    "start_time": "2022-08-17T20:20:26.972Z"
   },
   {
    "duration": 47,
    "start_time": "2022-08-17T20:20:27.021Z"
   },
   {
    "duration": 50,
    "start_time": "2022-08-17T20:20:27.069Z"
   },
   {
    "duration": 8,
    "start_time": "2022-08-17T20:20:27.121Z"
   },
   {
    "duration": 13,
    "start_time": "2022-08-17T20:20:27.131Z"
   },
   {
    "duration": 390,
    "start_time": "2022-08-17T20:20:27.147Z"
   },
   {
    "duration": 497,
    "start_time": "2022-08-17T20:20:27.540Z"
   },
   {
    "duration": 413,
    "start_time": "2022-08-17T20:20:28.039Z"
   },
   {
    "duration": 376,
    "start_time": "2022-08-17T20:20:28.454Z"
   },
   {
    "duration": 13,
    "start_time": "2022-08-17T20:20:28.831Z"
   },
   {
    "duration": 298,
    "start_time": "2022-08-17T20:20:28.846Z"
   },
   {
    "duration": 312,
    "start_time": "2022-08-17T20:20:29.146Z"
   },
   {
    "duration": 11,
    "start_time": "2022-08-17T20:20:29.460Z"
   },
   {
    "duration": 107,
    "start_time": "2022-08-17T20:20:29.473Z"
   },
   {
    "duration": 121,
    "start_time": "2022-08-17T20:20:29.582Z"
   },
   {
    "duration": 115,
    "start_time": "2022-08-17T20:20:29.705Z"
   },
   {
    "duration": 240,
    "start_time": "2022-08-17T20:20:29.822Z"
   },
   {
    "duration": 359,
    "start_time": "2022-08-17T20:20:30.063Z"
   },
   {
    "duration": 13,
    "start_time": "2022-08-17T20:20:30.426Z"
   },
   {
    "duration": 166,
    "start_time": "2022-08-17T20:20:30.441Z"
   },
   {
    "duration": 183,
    "start_time": "2022-08-17T20:20:30.609Z"
   },
   {
    "duration": 175,
    "start_time": "2022-08-17T20:20:30.794Z"
   },
   {
    "duration": 196,
    "start_time": "2022-08-17T20:20:30.971Z"
   },
   {
    "duration": 168,
    "start_time": "2022-08-17T20:20:31.170Z"
   },
   {
    "duration": 189,
    "start_time": "2022-08-17T20:20:31.340Z"
   },
   {
    "duration": 185,
    "start_time": "2022-08-17T20:20:31.531Z"
   },
   {
    "duration": 232,
    "start_time": "2022-08-17T20:20:31.718Z"
   },
   {
    "duration": 60,
    "start_time": "2022-08-17T20:20:31.952Z"
   },
   {
    "duration": 231,
    "start_time": "2022-08-17T20:20:32.015Z"
   },
   {
    "duration": 1478,
    "start_time": "2022-08-17T20:22:16.646Z"
   },
   {
    "duration": 1424,
    "start_time": "2022-08-17T20:23:08.164Z"
   },
   {
    "duration": 1696,
    "start_time": "2022-08-17T20:23:29.575Z"
   },
   {
    "duration": 4,
    "start_time": "2022-08-17T20:25:14.251Z"
   },
   {
    "duration": 1251,
    "start_time": "2022-08-17T20:25:21.168Z"
   },
   {
    "duration": 1815,
    "start_time": "2022-08-17T20:26:20.809Z"
   },
   {
    "duration": 1244,
    "start_time": "2022-08-17T20:27:56.916Z"
   },
   {
    "duration": 1397,
    "start_time": "2022-08-17T20:28:30.103Z"
   },
   {
    "duration": 1310,
    "start_time": "2022-08-17T20:28:35.337Z"
   },
   {
    "duration": 1390,
    "start_time": "2022-08-17T20:28:41.775Z"
   },
   {
    "duration": 596,
    "start_time": "2022-08-17T20:28:52.676Z"
   },
   {
    "duration": 2604,
    "start_time": "2022-08-17T20:28:53.275Z"
   },
   {
    "duration": 14,
    "start_time": "2022-08-17T20:28:55.882Z"
   },
   {
    "duration": 6,
    "start_time": "2022-08-17T20:28:55.898Z"
   },
   {
    "duration": 9,
    "start_time": "2022-08-17T20:28:55.906Z"
   },
   {
    "duration": 207,
    "start_time": "2022-08-17T20:28:55.917Z"
   },
   {
    "duration": 7,
    "start_time": "2022-08-17T20:28:56.125Z"
   },
   {
    "duration": 21,
    "start_time": "2022-08-17T20:28:56.133Z"
   },
   {
    "duration": 20,
    "start_time": "2022-08-17T20:28:56.156Z"
   },
   {
    "duration": 12,
    "start_time": "2022-08-17T20:28:56.192Z"
   },
   {
    "duration": 6,
    "start_time": "2022-08-17T20:28:56.206Z"
   },
   {
    "duration": 5,
    "start_time": "2022-08-17T20:28:56.213Z"
   },
   {
    "duration": 1362,
    "start_time": "2022-08-17T20:28:56.220Z"
   },
   {
    "duration": 14,
    "start_time": "2022-08-17T20:28:57.584Z"
   },
   {
    "duration": 8,
    "start_time": "2022-08-17T20:28:57.601Z"
   },
   {
    "duration": 8,
    "start_time": "2022-08-17T20:28:57.611Z"
   },
   {
    "duration": 79,
    "start_time": "2022-08-17T20:28:57.621Z"
   },
   {
    "duration": 31,
    "start_time": "2022-08-17T20:28:57.702Z"
   },
   {
    "duration": 6,
    "start_time": "2022-08-17T20:28:57.736Z"
   },
   {
    "duration": 48,
    "start_time": "2022-08-17T20:28:57.744Z"
   },
   {
    "duration": 374,
    "start_time": "2022-08-17T20:28:57.794Z"
   },
   {
    "duration": 1333,
    "start_time": "2022-08-17T20:28:58.170Z"
   },
   {
    "duration": 0,
    "start_time": "2022-08-17T20:28:59.506Z"
   },
   {
    "duration": 1,
    "start_time": "2022-08-17T20:28:59.507Z"
   },
   {
    "duration": 0,
    "start_time": "2022-08-17T20:28:59.509Z"
   },
   {
    "duration": 0,
    "start_time": "2022-08-17T20:28:59.511Z"
   },
   {
    "duration": 0,
    "start_time": "2022-08-17T20:28:59.512Z"
   },
   {
    "duration": 0,
    "start_time": "2022-08-17T20:28:59.514Z"
   },
   {
    "duration": 0,
    "start_time": "2022-08-17T20:28:59.515Z"
   },
   {
    "duration": 0,
    "start_time": "2022-08-17T20:28:59.517Z"
   },
   {
    "duration": 0,
    "start_time": "2022-08-17T20:28:59.520Z"
   },
   {
    "duration": 0,
    "start_time": "2022-08-17T20:28:59.521Z"
   },
   {
    "duration": 0,
    "start_time": "2022-08-17T20:28:59.523Z"
   },
   {
    "duration": 0,
    "start_time": "2022-08-17T20:28:59.524Z"
   },
   {
    "duration": 0,
    "start_time": "2022-08-17T20:28:59.526Z"
   },
   {
    "duration": 0,
    "start_time": "2022-08-17T20:28:59.527Z"
   },
   {
    "duration": 0,
    "start_time": "2022-08-17T20:28:59.528Z"
   },
   {
    "duration": 0,
    "start_time": "2022-08-17T20:28:59.530Z"
   },
   {
    "duration": 0,
    "start_time": "2022-08-17T20:28:59.531Z"
   },
   {
    "duration": 0,
    "start_time": "2022-08-17T20:28:59.533Z"
   },
   {
    "duration": 0,
    "start_time": "2022-08-17T20:28:59.534Z"
   },
   {
    "duration": 0,
    "start_time": "2022-08-17T20:28:59.536Z"
   },
   {
    "duration": 0,
    "start_time": "2022-08-17T20:28:59.538Z"
   },
   {
    "duration": 0,
    "start_time": "2022-08-17T20:28:59.539Z"
   },
   {
    "duration": 0,
    "start_time": "2022-08-17T20:28:59.540Z"
   },
   {
    "duration": 0,
    "start_time": "2022-08-17T20:28:59.542Z"
   },
   {
    "duration": 0,
    "start_time": "2022-08-17T20:28:59.543Z"
   },
   {
    "duration": 0,
    "start_time": "2022-08-17T20:28:59.592Z"
   },
   {
    "duration": 0,
    "start_time": "2022-08-17T20:28:59.593Z"
   },
   {
    "duration": 0,
    "start_time": "2022-08-17T20:28:59.594Z"
   },
   {
    "duration": 0,
    "start_time": "2022-08-17T20:28:59.596Z"
   },
   {
    "duration": 9,
    "start_time": "2022-08-17T20:38:54.710Z"
   },
   {
    "duration": 7,
    "start_time": "2022-08-17T20:42:36.710Z"
   },
   {
    "duration": 6,
    "start_time": "2022-08-17T20:42:39.722Z"
   },
   {
    "duration": 60,
    "start_time": "2022-08-17T20:42:45.939Z"
   },
   {
    "duration": 54,
    "start_time": "2022-08-17T21:41:01.721Z"
   },
   {
    "duration": 16,
    "start_time": "2022-08-17T21:41:08.485Z"
   },
   {
    "duration": 626,
    "start_time": "2022-08-17T21:41:42.956Z"
   },
   {
    "duration": 2611,
    "start_time": "2022-08-17T21:41:43.585Z"
   },
   {
    "duration": 14,
    "start_time": "2022-08-17T21:41:46.198Z"
   },
   {
    "duration": 6,
    "start_time": "2022-08-17T21:41:46.214Z"
   },
   {
    "duration": 9,
    "start_time": "2022-08-17T21:41:46.221Z"
   },
   {
    "duration": 236,
    "start_time": "2022-08-17T21:41:46.232Z"
   },
   {
    "duration": 7,
    "start_time": "2022-08-17T21:41:46.470Z"
   },
   {
    "duration": 19,
    "start_time": "2022-08-17T21:41:46.479Z"
   },
   {
    "duration": 18,
    "start_time": "2022-08-17T21:41:46.500Z"
   },
   {
    "duration": 13,
    "start_time": "2022-08-17T21:41:46.521Z"
   },
   {
    "duration": 6,
    "start_time": "2022-08-17T21:41:46.536Z"
   },
   {
    "duration": 10,
    "start_time": "2022-08-17T21:41:46.544Z"
   },
   {
    "duration": 1451,
    "start_time": "2022-08-17T21:41:46.557Z"
   },
   {
    "duration": 8,
    "start_time": "2022-08-17T21:41:48.011Z"
   },
   {
    "duration": 11,
    "start_time": "2022-08-17T21:41:48.021Z"
   },
   {
    "duration": 8,
    "start_time": "2022-08-17T21:41:48.034Z"
   },
   {
    "duration": 16,
    "start_time": "2022-08-17T21:41:48.043Z"
   },
   {
    "duration": 31,
    "start_time": "2022-08-17T21:41:48.061Z"
   },
   {
    "duration": 36,
    "start_time": "2022-08-17T21:41:48.094Z"
   },
   {
    "duration": 30,
    "start_time": "2022-08-17T21:41:48.131Z"
   },
   {
    "duration": 33,
    "start_time": "2022-08-17T21:41:48.162Z"
   },
   {
    "duration": 51,
    "start_time": "2022-08-17T21:41:48.198Z"
   },
   {
    "duration": 408,
    "start_time": "2022-08-17T21:41:48.251Z"
   },
   {
    "duration": 1640,
    "start_time": "2022-08-17T21:41:48.661Z"
   },
   {
    "duration": 0,
    "start_time": "2022-08-17T21:41:50.304Z"
   },
   {
    "duration": 0,
    "start_time": "2022-08-17T21:41:50.305Z"
   },
   {
    "duration": 0,
    "start_time": "2022-08-17T21:41:50.306Z"
   },
   {
    "duration": 0,
    "start_time": "2022-08-17T21:41:50.307Z"
   },
   {
    "duration": 0,
    "start_time": "2022-08-17T21:41:50.308Z"
   },
   {
    "duration": 0,
    "start_time": "2022-08-17T21:41:50.310Z"
   },
   {
    "duration": 0,
    "start_time": "2022-08-17T21:41:50.311Z"
   },
   {
    "duration": 0,
    "start_time": "2022-08-17T21:41:50.313Z"
   },
   {
    "duration": 0,
    "start_time": "2022-08-17T21:41:50.315Z"
   },
   {
    "duration": 0,
    "start_time": "2022-08-17T21:41:50.315Z"
   },
   {
    "duration": 0,
    "start_time": "2022-08-17T21:41:50.316Z"
   },
   {
    "duration": 0,
    "start_time": "2022-08-17T21:41:50.318Z"
   },
   {
    "duration": 0,
    "start_time": "2022-08-17T21:41:50.319Z"
   },
   {
    "duration": 0,
    "start_time": "2022-08-17T21:41:50.320Z"
   },
   {
    "duration": 0,
    "start_time": "2022-08-17T21:41:50.322Z"
   },
   {
    "duration": 0,
    "start_time": "2022-08-17T21:41:50.323Z"
   },
   {
    "duration": 0,
    "start_time": "2022-08-17T21:41:50.323Z"
   },
   {
    "duration": 0,
    "start_time": "2022-08-17T21:41:50.325Z"
   },
   {
    "duration": 0,
    "start_time": "2022-08-17T21:41:50.326Z"
   },
   {
    "duration": 0,
    "start_time": "2022-08-17T21:41:50.327Z"
   },
   {
    "duration": 0,
    "start_time": "2022-08-17T21:41:50.328Z"
   },
   {
    "duration": 0,
    "start_time": "2022-08-17T21:41:50.329Z"
   },
   {
    "duration": 0,
    "start_time": "2022-08-17T21:41:50.330Z"
   },
   {
    "duration": 0,
    "start_time": "2022-08-17T21:41:50.331Z"
   },
   {
    "duration": 0,
    "start_time": "2022-08-17T21:41:50.332Z"
   },
   {
    "duration": 0,
    "start_time": "2022-08-17T21:41:50.333Z"
   },
   {
    "duration": 0,
    "start_time": "2022-08-17T21:41:50.334Z"
   },
   {
    "duration": 0,
    "start_time": "2022-08-17T21:41:50.335Z"
   },
   {
    "duration": 0,
    "start_time": "2022-08-17T21:41:50.336Z"
   },
   {
    "duration": 13,
    "start_time": "2022-08-17T21:41:59.509Z"
   },
   {
    "duration": 627,
    "start_time": "2022-08-17T21:42:36.552Z"
   },
   {
    "duration": 2675,
    "start_time": "2022-08-17T21:42:37.181Z"
   },
   {
    "duration": 13,
    "start_time": "2022-08-17T21:42:39.858Z"
   },
   {
    "duration": 7,
    "start_time": "2022-08-17T21:42:39.875Z"
   },
   {
    "duration": 14,
    "start_time": "2022-08-17T21:42:39.884Z"
   },
   {
    "duration": 210,
    "start_time": "2022-08-17T21:42:39.900Z"
   },
   {
    "duration": 7,
    "start_time": "2022-08-17T21:42:40.112Z"
   },
   {
    "duration": 12,
    "start_time": "2022-08-17T21:42:40.121Z"
   },
   {
    "duration": 21,
    "start_time": "2022-08-17T21:42:40.135Z"
   },
   {
    "duration": 16,
    "start_time": "2022-08-17T21:42:40.198Z"
   },
   {
    "duration": 9,
    "start_time": "2022-08-17T21:42:40.216Z"
   },
   {
    "duration": 6,
    "start_time": "2022-08-17T21:42:40.227Z"
   },
   {
    "duration": 1527,
    "start_time": "2022-08-17T21:42:40.236Z"
   },
   {
    "duration": 7,
    "start_time": "2022-08-17T21:42:41.765Z"
   },
   {
    "duration": 31,
    "start_time": "2022-08-17T21:42:41.774Z"
   },
   {
    "duration": 16,
    "start_time": "2022-08-17T21:42:41.807Z"
   },
   {
    "duration": 19,
    "start_time": "2022-08-17T21:42:41.826Z"
   },
   {
    "duration": 17,
    "start_time": "2022-08-17T21:42:41.848Z"
   },
   {
    "duration": 59,
    "start_time": "2022-08-17T21:42:41.868Z"
   },
   {
    "duration": 32,
    "start_time": "2022-08-17T21:42:41.932Z"
   },
   {
    "duration": 8,
    "start_time": "2022-08-17T21:42:41.966Z"
   },
   {
    "duration": 51,
    "start_time": "2022-08-17T21:42:41.976Z"
   },
   {
    "duration": 441,
    "start_time": "2022-08-17T21:42:42.030Z"
   },
   {
    "duration": 1333,
    "start_time": "2022-08-17T21:42:42.473Z"
   },
   {
    "duration": 0,
    "start_time": "2022-08-17T21:42:43.810Z"
   },
   {
    "duration": 0,
    "start_time": "2022-08-17T21:42:43.812Z"
   },
   {
    "duration": 0,
    "start_time": "2022-08-17T21:42:43.814Z"
   },
   {
    "duration": 0,
    "start_time": "2022-08-17T21:42:43.815Z"
   },
   {
    "duration": 0,
    "start_time": "2022-08-17T21:42:43.817Z"
   },
   {
    "duration": 0,
    "start_time": "2022-08-17T21:42:43.818Z"
   },
   {
    "duration": 0,
    "start_time": "2022-08-17T21:42:43.820Z"
   },
   {
    "duration": 0,
    "start_time": "2022-08-17T21:42:43.822Z"
   },
   {
    "duration": 0,
    "start_time": "2022-08-17T21:42:43.823Z"
   },
   {
    "duration": 0,
    "start_time": "2022-08-17T21:42:43.825Z"
   },
   {
    "duration": 0,
    "start_time": "2022-08-17T21:42:43.826Z"
   },
   {
    "duration": 0,
    "start_time": "2022-08-17T21:42:43.828Z"
   },
   {
    "duration": 0,
    "start_time": "2022-08-17T21:42:43.829Z"
   },
   {
    "duration": 0,
    "start_time": "2022-08-17T21:42:43.831Z"
   },
   {
    "duration": 0,
    "start_time": "2022-08-17T21:42:43.831Z"
   },
   {
    "duration": 0,
    "start_time": "2022-08-17T21:42:43.833Z"
   },
   {
    "duration": 0,
    "start_time": "2022-08-17T21:42:43.834Z"
   },
   {
    "duration": 0,
    "start_time": "2022-08-17T21:42:43.836Z"
   },
   {
    "duration": 0,
    "start_time": "2022-08-17T21:42:43.836Z"
   },
   {
    "duration": 0,
    "start_time": "2022-08-17T21:42:43.838Z"
   },
   {
    "duration": 0,
    "start_time": "2022-08-17T21:42:43.840Z"
   },
   {
    "duration": 0,
    "start_time": "2022-08-17T21:42:43.841Z"
   },
   {
    "duration": 0,
    "start_time": "2022-08-17T21:42:43.842Z"
   },
   {
    "duration": 0,
    "start_time": "2022-08-17T21:42:43.844Z"
   },
   {
    "duration": 0,
    "start_time": "2022-08-17T21:42:43.846Z"
   },
   {
    "duration": 0,
    "start_time": "2022-08-17T21:42:43.892Z"
   },
   {
    "duration": 0,
    "start_time": "2022-08-17T21:42:43.894Z"
   },
   {
    "duration": 0,
    "start_time": "2022-08-17T21:42:43.896Z"
   },
   {
    "duration": 0,
    "start_time": "2022-08-17T21:42:43.897Z"
   },
   {
    "duration": 8,
    "start_time": "2022-08-17T21:44:08.090Z"
   },
   {
    "duration": 30,
    "start_time": "2022-08-17T21:44:24.150Z"
   },
   {
    "duration": 47,
    "start_time": "2022-08-17T21:44:37.527Z"
   },
   {
    "duration": 35,
    "start_time": "2022-08-17T21:44:43.215Z"
   },
   {
    "duration": 8,
    "start_time": "2022-08-17T21:44:48.169Z"
   },
   {
    "duration": 9,
    "start_time": "2022-08-17T21:44:52.727Z"
   },
   {
    "duration": 340,
    "start_time": "2022-08-17T21:44:56.338Z"
   },
   {
    "duration": 449,
    "start_time": "2022-08-17T21:45:02.891Z"
   },
   {
    "duration": 492,
    "start_time": "2022-08-17T21:45:21.696Z"
   },
   {
    "duration": 374,
    "start_time": "2022-08-17T21:45:30.207Z"
   },
   {
    "duration": 340,
    "start_time": "2022-08-17T21:45:37.642Z"
   },
   {
    "duration": 567,
    "start_time": "2022-08-17T21:46:00.004Z"
   },
   {
    "duration": 2945,
    "start_time": "2022-08-17T21:46:00.574Z"
   },
   {
    "duration": 13,
    "start_time": "2022-08-17T21:46:03.522Z"
   },
   {
    "duration": 6,
    "start_time": "2022-08-17T21:46:03.538Z"
   },
   {
    "duration": 12,
    "start_time": "2022-08-17T21:46:03.546Z"
   },
   {
    "duration": 192,
    "start_time": "2022-08-17T21:46:03.560Z"
   },
   {
    "duration": 6,
    "start_time": "2022-08-17T21:46:03.755Z"
   },
   {
    "duration": 29,
    "start_time": "2022-08-17T21:46:03.763Z"
   },
   {
    "duration": 19,
    "start_time": "2022-08-17T21:46:03.794Z"
   },
   {
    "duration": 13,
    "start_time": "2022-08-17T21:46:03.817Z"
   },
   {
    "duration": 6,
    "start_time": "2022-08-17T21:46:03.832Z"
   },
   {
    "duration": 7,
    "start_time": "2022-08-17T21:46:03.840Z"
   },
   {
    "duration": 1413,
    "start_time": "2022-08-17T21:46:03.849Z"
   },
   {
    "duration": 7,
    "start_time": "2022-08-17T21:46:05.264Z"
   },
   {
    "duration": 23,
    "start_time": "2022-08-17T21:46:05.274Z"
   },
   {
    "duration": 9,
    "start_time": "2022-08-17T21:46:05.299Z"
   },
   {
    "duration": 19,
    "start_time": "2022-08-17T21:46:05.310Z"
   },
   {
    "duration": 9,
    "start_time": "2022-08-17T21:46:05.331Z"
   },
   {
    "duration": 72,
    "start_time": "2022-08-17T21:46:05.342Z"
   },
   {
    "duration": 30,
    "start_time": "2022-08-17T21:46:05.416Z"
   },
   {
    "duration": 7,
    "start_time": "2022-08-17T21:46:05.448Z"
   },
   {
    "duration": 61,
    "start_time": "2022-08-17T21:46:05.457Z"
   },
   {
    "duration": 368,
    "start_time": "2022-08-17T21:46:05.521Z"
   },
   {
    "duration": 9,
    "start_time": "2022-08-17T21:46:05.891Z"
   },
   {
    "duration": 30,
    "start_time": "2022-08-17T21:46:05.902Z"
   },
   {
    "duration": 78,
    "start_time": "2022-08-17T21:46:05.934Z"
   },
   {
    "duration": 32,
    "start_time": "2022-08-17T21:46:06.014Z"
   },
   {
    "duration": 7,
    "start_time": "2022-08-17T21:46:06.050Z"
   },
   {
    "duration": 9,
    "start_time": "2022-08-17T21:46:06.059Z"
   },
   {
    "duration": 355,
    "start_time": "2022-08-17T21:46:06.092Z"
   },
   {
    "duration": 516,
    "start_time": "2022-08-17T21:46:06.450Z"
   },
   {
    "duration": 389,
    "start_time": "2022-08-17T21:46:06.967Z"
   },
   {
    "duration": 343,
    "start_time": "2022-08-17T21:46:07.358Z"
   },
   {
    "duration": 12,
    "start_time": "2022-08-17T21:46:07.703Z"
   },
   {
    "duration": 311,
    "start_time": "2022-08-17T21:46:07.717Z"
   },
   {
    "duration": 311,
    "start_time": "2022-08-17T21:46:08.030Z"
   },
   {
    "duration": 12,
    "start_time": "2022-08-17T21:46:08.343Z"
   },
   {
    "duration": 110,
    "start_time": "2022-08-17T21:46:08.357Z"
   },
   {
    "duration": 122,
    "start_time": "2022-08-17T21:46:08.469Z"
   },
   {
    "duration": 119,
    "start_time": "2022-08-17T21:46:08.593Z"
   },
   {
    "duration": 238,
    "start_time": "2022-08-17T21:46:08.714Z"
   },
   {
    "duration": 365,
    "start_time": "2022-08-17T21:46:08.954Z"
   },
   {
    "duration": 17,
    "start_time": "2022-08-17T21:46:09.322Z"
   },
   {
    "duration": 190,
    "start_time": "2022-08-17T21:46:09.341Z"
   },
   {
    "duration": 210,
    "start_time": "2022-08-17T21:46:09.532Z"
   },
   {
    "duration": 189,
    "start_time": "2022-08-17T21:46:09.745Z"
   },
   {
    "duration": 251,
    "start_time": "2022-08-17T21:46:09.936Z"
   },
   {
    "duration": 190,
    "start_time": "2022-08-17T21:46:10.189Z"
   },
   {
    "duration": 214,
    "start_time": "2022-08-17T21:46:10.380Z"
   },
   {
    "duration": 205,
    "start_time": "2022-08-17T21:46:10.596Z"
   },
   {
    "duration": 178,
    "start_time": "2022-08-17T21:46:10.803Z"
   },
   {
    "duration": 38,
    "start_time": "2022-08-17T21:46:10.984Z"
   },
   {
    "duration": 202,
    "start_time": "2022-08-17T21:46:11.024Z"
   },
   {
    "duration": 12,
    "start_time": "2022-08-17T21:56:29.433Z"
   },
   {
    "duration": 26,
    "start_time": "2022-08-17T22:00:15.854Z"
   },
   {
    "duration": 1581,
    "start_time": "2022-08-17T22:00:59.119Z"
   },
   {
    "duration": 13,
    "start_time": "2022-08-17T22:01:46.539Z"
   },
   {
    "duration": 21,
    "start_time": "2022-08-17T22:03:00.397Z"
   },
   {
    "duration": 26,
    "start_time": "2022-08-17T22:04:20.025Z"
   },
   {
    "duration": 14,
    "start_time": "2022-08-17T22:04:47.409Z"
   },
   {
    "duration": 22,
    "start_time": "2022-08-17T22:05:28.258Z"
   },
   {
    "duration": 21,
    "start_time": "2022-08-17T22:06:03.372Z"
   },
   {
    "duration": 19,
    "start_time": "2022-08-17T22:06:34.601Z"
   },
   {
    "duration": 35,
    "start_time": "2022-08-17T22:26:11.934Z"
   },
   {
    "duration": 40,
    "start_time": "2022-08-17T22:27:08.179Z"
   },
   {
    "duration": 747,
    "start_time": "2022-08-17T22:27:51.187Z"
   },
   {
    "duration": 3018,
    "start_time": "2022-08-17T22:27:51.937Z"
   },
   {
    "duration": 13,
    "start_time": "2022-08-17T22:27:54.958Z"
   },
   {
    "duration": 27,
    "start_time": "2022-08-17T22:27:54.974Z"
   },
   {
    "duration": 28,
    "start_time": "2022-08-17T22:27:55.004Z"
   },
   {
    "duration": 207,
    "start_time": "2022-08-17T22:27:55.034Z"
   },
   {
    "duration": 7,
    "start_time": "2022-08-17T22:27:55.243Z"
   },
   {
    "duration": 15,
    "start_time": "2022-08-17T22:27:55.252Z"
   },
   {
    "duration": 49,
    "start_time": "2022-08-17T22:27:55.270Z"
   },
   {
    "duration": 14,
    "start_time": "2022-08-17T22:27:55.324Z"
   },
   {
    "duration": 9,
    "start_time": "2022-08-17T22:27:55.340Z"
   },
   {
    "duration": 11,
    "start_time": "2022-08-17T22:27:55.351Z"
   },
   {
    "duration": 1662,
    "start_time": "2022-08-17T22:27:55.366Z"
   },
   {
    "duration": 7,
    "start_time": "2022-08-17T22:27:57.030Z"
   },
   {
    "duration": 36,
    "start_time": "2022-08-17T22:27:57.039Z"
   },
   {
    "duration": 12,
    "start_time": "2022-08-17T22:27:57.077Z"
   },
   {
    "duration": 31,
    "start_time": "2022-08-17T22:27:57.091Z"
   },
   {
    "duration": 15,
    "start_time": "2022-08-17T22:27:57.124Z"
   },
   {
    "duration": 67,
    "start_time": "2022-08-17T22:27:57.141Z"
   },
   {
    "duration": 30,
    "start_time": "2022-08-17T22:27:57.212Z"
   },
   {
    "duration": 6,
    "start_time": "2022-08-17T22:27:57.245Z"
   },
   {
    "duration": 57,
    "start_time": "2022-08-17T22:27:57.253Z"
   },
   {
    "duration": 520,
    "start_time": "2022-08-17T22:27:57.311Z"
   },
   {
    "duration": 9,
    "start_time": "2022-08-17T22:27:57.833Z"
   },
   {
    "duration": 53,
    "start_time": "2022-08-17T22:27:57.845Z"
   },
   {
    "duration": 67,
    "start_time": "2022-08-17T22:27:57.899Z"
   },
   {
    "duration": 40,
    "start_time": "2022-08-17T22:27:57.971Z"
   },
   {
    "duration": 40,
    "start_time": "2022-08-17T22:27:58.016Z"
   },
   {
    "duration": 9,
    "start_time": "2022-08-17T22:27:58.058Z"
   },
   {
    "duration": 9,
    "start_time": "2022-08-17T22:27:58.069Z"
   },
   {
    "duration": 382,
    "start_time": "2022-08-17T22:27:58.081Z"
   },
   {
    "duration": 481,
    "start_time": "2022-08-17T22:27:58.465Z"
   },
   {
    "duration": 483,
    "start_time": "2022-08-17T22:27:58.949Z"
   },
   {
    "duration": 384,
    "start_time": "2022-08-17T22:27:59.434Z"
   },
   {
    "duration": 13,
    "start_time": "2022-08-17T22:27:59.821Z"
   },
   {
    "duration": 361,
    "start_time": "2022-08-17T22:27:59.836Z"
   },
   {
    "duration": 338,
    "start_time": "2022-08-17T22:28:00.200Z"
   },
   {
    "duration": 16,
    "start_time": "2022-08-17T22:28:00.541Z"
   },
   {
    "duration": 137,
    "start_time": "2022-08-17T22:28:00.559Z"
   },
   {
    "duration": 131,
    "start_time": "2022-08-17T22:28:00.705Z"
   },
   {
    "duration": 131,
    "start_time": "2022-08-17T22:28:00.838Z"
   },
   {
    "duration": 275,
    "start_time": "2022-08-17T22:28:00.971Z"
   },
   {
    "duration": 407,
    "start_time": "2022-08-17T22:28:01.248Z"
   },
   {
    "duration": 17,
    "start_time": "2022-08-17T22:28:01.657Z"
   },
   {
    "duration": 242,
    "start_time": "2022-08-17T22:28:01.695Z"
   },
   {
    "duration": 300,
    "start_time": "2022-08-17T22:28:01.939Z"
   },
   {
    "duration": 229,
    "start_time": "2022-08-17T22:28:02.244Z"
   },
   {
    "duration": 258,
    "start_time": "2022-08-17T22:28:02.476Z"
   },
   {
    "duration": 304,
    "start_time": "2022-08-17T22:28:02.736Z"
   },
   {
    "duration": 316,
    "start_time": "2022-08-17T22:28:03.042Z"
   },
   {
    "duration": 214,
    "start_time": "2022-08-17T22:28:03.360Z"
   },
   {
    "duration": 196,
    "start_time": "2022-08-17T22:28:03.578Z"
   },
   {
    "duration": 55,
    "start_time": "2022-08-17T22:28:03.776Z"
   },
   {
    "duration": 278,
    "start_time": "2022-08-17T22:28:03.833Z"
   },
   {
    "duration": 86,
    "start_time": "2022-08-17T22:34:22.824Z"
   },
   {
    "duration": 7,
    "start_time": "2022-08-17T22:34:32.472Z"
   },
   {
    "duration": 7,
    "start_time": "2022-08-17T22:39:26.044Z"
   },
   {
    "duration": 12,
    "start_time": "2022-08-17T22:42:38.572Z"
   },
   {
    "duration": 107,
    "start_time": "2022-08-17T22:47:35.400Z"
   },
   {
    "duration": 18,
    "start_time": "2022-08-17T22:48:49.727Z"
   },
   {
    "duration": 19,
    "start_time": "2022-08-17T22:49:07.417Z"
   },
   {
    "duration": 39,
    "start_time": "2022-08-17T22:50:46.178Z"
   },
   {
    "duration": 750,
    "start_time": "2022-08-17T22:51:14.684Z"
   },
   {
    "duration": 854,
    "start_time": "2022-08-17T22:52:44.342Z"
   },
   {
    "duration": 98,
    "start_time": "2022-08-17T22:57:50.436Z"
   },
   {
    "duration": 47,
    "start_time": "2022-08-17T22:57:58.336Z"
   },
   {
    "duration": 603,
    "start_time": "2022-08-18T09:50:39.530Z"
   },
   {
    "duration": 791,
    "start_time": "2022-08-18T09:50:57.224Z"
   },
   {
    "duration": 2434,
    "start_time": "2022-08-18T09:50:58.017Z"
   },
   {
    "duration": 11,
    "start_time": "2022-08-18T09:51:00.453Z"
   },
   {
    "duration": 6,
    "start_time": "2022-08-18T09:51:00.467Z"
   },
   {
    "duration": 61,
    "start_time": "2022-08-18T09:51:00.474Z"
   },
   {
    "duration": 207,
    "start_time": "2022-08-18T09:51:00.537Z"
   },
   {
    "duration": 7,
    "start_time": "2022-08-18T09:51:00.746Z"
   },
   {
    "duration": 26,
    "start_time": "2022-08-18T09:51:00.755Z"
   },
   {
    "duration": 58,
    "start_time": "2022-08-18T09:51:00.783Z"
   },
   {
    "duration": 15,
    "start_time": "2022-08-18T09:51:00.845Z"
   },
   {
    "duration": 20,
    "start_time": "2022-08-18T09:51:00.862Z"
   },
   {
    "duration": 24,
    "start_time": "2022-08-18T09:51:00.883Z"
   },
   {
    "duration": 1433,
    "start_time": "2022-08-18T09:51:00.909Z"
   },
   {
    "duration": 6,
    "start_time": "2022-08-18T09:51:02.344Z"
   },
   {
    "duration": 16,
    "start_time": "2022-08-18T09:51:02.351Z"
   },
   {
    "duration": 14,
    "start_time": "2022-08-18T09:51:02.368Z"
   },
   {
    "duration": 48,
    "start_time": "2022-08-18T09:51:02.383Z"
   },
   {
    "duration": 9,
    "start_time": "2022-08-18T09:51:02.433Z"
   },
   {
    "duration": 48,
    "start_time": "2022-08-18T09:51:02.444Z"
   },
   {
    "duration": 81,
    "start_time": "2022-08-18T09:51:02.496Z"
   },
   {
    "duration": 0,
    "start_time": "2022-08-18T09:51:02.605Z"
   },
   {
    "duration": 0,
    "start_time": "2022-08-18T09:51:02.610Z"
   },
   {
    "duration": 0,
    "start_time": "2022-08-18T09:51:02.611Z"
   },
   {
    "duration": 0,
    "start_time": "2022-08-18T09:51:02.616Z"
   },
   {
    "duration": 0,
    "start_time": "2022-08-18T09:51:02.618Z"
   },
   {
    "duration": 0,
    "start_time": "2022-08-18T09:51:02.619Z"
   },
   {
    "duration": 0,
    "start_time": "2022-08-18T09:51:02.621Z"
   },
   {
    "duration": 0,
    "start_time": "2022-08-18T09:51:02.624Z"
   },
   {
    "duration": 0,
    "start_time": "2022-08-18T09:51:02.626Z"
   },
   {
    "duration": 0,
    "start_time": "2022-08-18T09:51:02.627Z"
   },
   {
    "duration": 0,
    "start_time": "2022-08-18T09:51:02.628Z"
   },
   {
    "duration": 0,
    "start_time": "2022-08-18T09:51:02.630Z"
   },
   {
    "duration": 0,
    "start_time": "2022-08-18T09:51:02.631Z"
   },
   {
    "duration": 0,
    "start_time": "2022-08-18T09:51:02.632Z"
   },
   {
    "duration": 0,
    "start_time": "2022-08-18T09:51:02.634Z"
   },
   {
    "duration": 0,
    "start_time": "2022-08-18T09:51:02.635Z"
   },
   {
    "duration": 0,
    "start_time": "2022-08-18T09:51:02.636Z"
   },
   {
    "duration": 0,
    "start_time": "2022-08-18T09:51:02.637Z"
   },
   {
    "duration": 0,
    "start_time": "2022-08-18T09:51:02.639Z"
   },
   {
    "duration": 0,
    "start_time": "2022-08-18T09:51:02.640Z"
   },
   {
    "duration": 0,
    "start_time": "2022-08-18T09:51:02.641Z"
   },
   {
    "duration": 0,
    "start_time": "2022-08-18T09:51:02.646Z"
   },
   {
    "duration": 0,
    "start_time": "2022-08-18T09:51:02.648Z"
   },
   {
    "duration": 0,
    "start_time": "2022-08-18T09:51:02.649Z"
   },
   {
    "duration": 0,
    "start_time": "2022-08-18T09:51:02.650Z"
   },
   {
    "duration": 0,
    "start_time": "2022-08-18T09:51:02.652Z"
   },
   {
    "duration": 0,
    "start_time": "2022-08-18T09:51:02.654Z"
   },
   {
    "duration": 0,
    "start_time": "2022-08-18T09:51:02.656Z"
   },
   {
    "duration": 0,
    "start_time": "2022-08-18T09:51:02.657Z"
   },
   {
    "duration": 0,
    "start_time": "2022-08-18T09:51:02.693Z"
   },
   {
    "duration": 0,
    "start_time": "2022-08-18T09:51:02.695Z"
   },
   {
    "duration": 0,
    "start_time": "2022-08-18T09:51:02.700Z"
   },
   {
    "duration": 0,
    "start_time": "2022-08-18T09:51:02.701Z"
   },
   {
    "duration": 1,
    "start_time": "2022-08-18T09:51:02.702Z"
   },
   {
    "duration": 0,
    "start_time": "2022-08-18T09:51:02.704Z"
   },
   {
    "duration": 1,
    "start_time": "2022-08-18T09:51:02.705Z"
   },
   {
    "duration": 8,
    "start_time": "2022-08-18T09:51:41.027Z"
   },
   {
    "duration": 89,
    "start_time": "2022-08-18T09:52:43.475Z"
   },
   {
    "duration": 555,
    "start_time": "2022-08-18T09:52:55.176Z"
   },
   {
    "duration": 2491,
    "start_time": "2022-08-18T09:52:55.733Z"
   },
   {
    "duration": 12,
    "start_time": "2022-08-18T09:52:58.226Z"
   },
   {
    "duration": 6,
    "start_time": "2022-08-18T09:52:58.241Z"
   },
   {
    "duration": 13,
    "start_time": "2022-08-18T09:52:58.248Z"
   },
   {
    "duration": 210,
    "start_time": "2022-08-18T09:52:58.263Z"
   },
   {
    "duration": 14,
    "start_time": "2022-08-18T09:52:58.475Z"
   },
   {
    "duration": 20,
    "start_time": "2022-08-18T09:52:58.491Z"
   },
   {
    "duration": 16,
    "start_time": "2022-08-18T09:52:58.512Z"
   },
   {
    "duration": 13,
    "start_time": "2022-08-18T09:52:58.531Z"
   },
   {
    "duration": 7,
    "start_time": "2022-08-18T09:52:58.546Z"
   },
   {
    "duration": 8,
    "start_time": "2022-08-18T09:52:58.554Z"
   },
   {
    "duration": 1173,
    "start_time": "2022-08-18T09:52:58.563Z"
   },
   {
    "duration": 6,
    "start_time": "2022-08-18T09:52:59.737Z"
   },
   {
    "duration": 8,
    "start_time": "2022-08-18T09:52:59.746Z"
   },
   {
    "duration": 9,
    "start_time": "2022-08-18T09:52:59.756Z"
   },
   {
    "duration": 9,
    "start_time": "2022-08-18T09:52:59.785Z"
   },
   {
    "duration": 12,
    "start_time": "2022-08-18T09:52:59.797Z"
   },
   {
    "duration": 40,
    "start_time": "2022-08-18T09:52:59.811Z"
   },
   {
    "duration": 92,
    "start_time": "2022-08-18T09:52:59.853Z"
   },
   {
    "duration": 0,
    "start_time": "2022-08-18T09:52:59.948Z"
   },
   {
    "duration": 0,
    "start_time": "2022-08-18T09:52:59.949Z"
   },
   {
    "duration": 0,
    "start_time": "2022-08-18T09:52:59.950Z"
   },
   {
    "duration": 0,
    "start_time": "2022-08-18T09:52:59.952Z"
   },
   {
    "duration": 0,
    "start_time": "2022-08-18T09:52:59.953Z"
   },
   {
    "duration": 0,
    "start_time": "2022-08-18T09:52:59.955Z"
   },
   {
    "duration": 0,
    "start_time": "2022-08-18T09:52:59.956Z"
   },
   {
    "duration": 0,
    "start_time": "2022-08-18T09:52:59.958Z"
   },
   {
    "duration": 0,
    "start_time": "2022-08-18T09:52:59.959Z"
   },
   {
    "duration": 0,
    "start_time": "2022-08-18T09:52:59.961Z"
   },
   {
    "duration": 0,
    "start_time": "2022-08-18T09:52:59.962Z"
   },
   {
    "duration": 0,
    "start_time": "2022-08-18T09:52:59.985Z"
   },
   {
    "duration": 0,
    "start_time": "2022-08-18T09:52:59.988Z"
   },
   {
    "duration": 0,
    "start_time": "2022-08-18T09:52:59.990Z"
   },
   {
    "duration": 0,
    "start_time": "2022-08-18T09:52:59.991Z"
   },
   {
    "duration": 0,
    "start_time": "2022-08-18T09:52:59.992Z"
   },
   {
    "duration": 0,
    "start_time": "2022-08-18T09:52:59.993Z"
   },
   {
    "duration": 0,
    "start_time": "2022-08-18T09:52:59.994Z"
   },
   {
    "duration": 0,
    "start_time": "2022-08-18T09:52:59.995Z"
   },
   {
    "duration": 0,
    "start_time": "2022-08-18T09:52:59.996Z"
   },
   {
    "duration": 0,
    "start_time": "2022-08-18T09:52:59.997Z"
   },
   {
    "duration": 0,
    "start_time": "2022-08-18T09:53:00.004Z"
   },
   {
    "duration": 0,
    "start_time": "2022-08-18T09:53:00.005Z"
   },
   {
    "duration": 0,
    "start_time": "2022-08-18T09:53:00.006Z"
   },
   {
    "duration": 0,
    "start_time": "2022-08-18T09:53:00.007Z"
   },
   {
    "duration": 0,
    "start_time": "2022-08-18T09:53:00.007Z"
   },
   {
    "duration": 0,
    "start_time": "2022-08-18T09:53:00.008Z"
   },
   {
    "duration": 0,
    "start_time": "2022-08-18T09:53:00.009Z"
   },
   {
    "duration": 0,
    "start_time": "2022-08-18T09:53:00.010Z"
   },
   {
    "duration": 0,
    "start_time": "2022-08-18T09:53:00.011Z"
   },
   {
    "duration": 0,
    "start_time": "2022-08-18T09:53:00.012Z"
   },
   {
    "duration": 0,
    "start_time": "2022-08-18T09:53:00.013Z"
   },
   {
    "duration": 0,
    "start_time": "2022-08-18T09:53:00.015Z"
   },
   {
    "duration": 0,
    "start_time": "2022-08-18T09:53:00.016Z"
   },
   {
    "duration": 0,
    "start_time": "2022-08-18T09:53:00.017Z"
   },
   {
    "duration": 0,
    "start_time": "2022-08-18T09:53:00.018Z"
   },
   {
    "duration": 1048,
    "start_time": "2022-08-18T09:53:13.653Z"
   },
   {
    "duration": 8,
    "start_time": "2022-08-18T09:54:30.161Z"
   },
   {
    "duration": 358,
    "start_time": "2022-08-18T09:54:35.908Z"
   },
   {
    "duration": 92,
    "start_time": "2022-08-18T09:54:43.996Z"
   },
   {
    "duration": 13,
    "start_time": "2022-08-18T09:54:51.488Z"
   },
   {
    "duration": 1052,
    "start_time": "2022-08-18T09:55:23.871Z"
   },
   {
    "duration": 510,
    "start_time": "2022-08-18T09:56:36.948Z"
   },
   {
    "duration": 2438,
    "start_time": "2022-08-18T09:56:37.461Z"
   },
   {
    "duration": 15,
    "start_time": "2022-08-18T09:56:39.901Z"
   },
   {
    "duration": 5,
    "start_time": "2022-08-18T09:56:39.918Z"
   },
   {
    "duration": 14,
    "start_time": "2022-08-18T09:56:39.925Z"
   },
   {
    "duration": 182,
    "start_time": "2022-08-18T09:56:39.940Z"
   },
   {
    "duration": 6,
    "start_time": "2022-08-18T09:56:40.124Z"
   },
   {
    "duration": 25,
    "start_time": "2022-08-18T09:56:40.132Z"
   },
   {
    "duration": 32,
    "start_time": "2022-08-18T09:56:40.159Z"
   },
   {
    "duration": 20,
    "start_time": "2022-08-18T09:56:40.194Z"
   },
   {
    "duration": 7,
    "start_time": "2022-08-18T09:56:40.216Z"
   },
   {
    "duration": 7,
    "start_time": "2022-08-18T09:56:40.225Z"
   },
   {
    "duration": 1273,
    "start_time": "2022-08-18T09:56:40.234Z"
   },
   {
    "duration": 7,
    "start_time": "2022-08-18T09:56:41.509Z"
   },
   {
    "duration": 13,
    "start_time": "2022-08-18T09:56:41.517Z"
   },
   {
    "duration": 11,
    "start_time": "2022-08-18T09:56:41.532Z"
   },
   {
    "duration": 7,
    "start_time": "2022-08-18T09:56:41.545Z"
   },
   {
    "duration": 9,
    "start_time": "2022-08-18T09:56:41.554Z"
   },
   {
    "duration": 34,
    "start_time": "2022-08-18T09:56:41.586Z"
   },
   {
    "duration": 93,
    "start_time": "2022-08-18T09:56:41.622Z"
   },
   {
    "duration": 0,
    "start_time": "2022-08-18T09:56:41.719Z"
   },
   {
    "duration": 0,
    "start_time": "2022-08-18T09:56:41.720Z"
   },
   {
    "duration": 0,
    "start_time": "2022-08-18T09:56:41.722Z"
   },
   {
    "duration": 0,
    "start_time": "2022-08-18T09:56:41.723Z"
   },
   {
    "duration": 0,
    "start_time": "2022-08-18T09:56:41.725Z"
   },
   {
    "duration": 0,
    "start_time": "2022-08-18T09:56:41.726Z"
   },
   {
    "duration": 0,
    "start_time": "2022-08-18T09:56:41.728Z"
   },
   {
    "duration": 0,
    "start_time": "2022-08-18T09:56:41.729Z"
   },
   {
    "duration": 0,
    "start_time": "2022-08-18T09:56:41.730Z"
   },
   {
    "duration": 0,
    "start_time": "2022-08-18T09:56:41.732Z"
   },
   {
    "duration": 0,
    "start_time": "2022-08-18T09:56:41.733Z"
   },
   {
    "duration": 0,
    "start_time": "2022-08-18T09:56:41.735Z"
   },
   {
    "duration": 0,
    "start_time": "2022-08-18T09:56:41.736Z"
   },
   {
    "duration": 0,
    "start_time": "2022-08-18T09:56:41.737Z"
   },
   {
    "duration": 0,
    "start_time": "2022-08-18T09:56:41.739Z"
   },
   {
    "duration": 0,
    "start_time": "2022-08-18T09:56:41.740Z"
   },
   {
    "duration": 1,
    "start_time": "2022-08-18T09:56:41.741Z"
   },
   {
    "duration": 0,
    "start_time": "2022-08-18T09:56:41.743Z"
   },
   {
    "duration": 0,
    "start_time": "2022-08-18T09:56:41.745Z"
   },
   {
    "duration": 0,
    "start_time": "2022-08-18T09:56:41.746Z"
   },
   {
    "duration": 0,
    "start_time": "2022-08-18T09:56:41.747Z"
   },
   {
    "duration": 0,
    "start_time": "2022-08-18T09:56:41.787Z"
   },
   {
    "duration": 0,
    "start_time": "2022-08-18T09:56:41.788Z"
   },
   {
    "duration": 0,
    "start_time": "2022-08-18T09:56:41.789Z"
   },
   {
    "duration": 0,
    "start_time": "2022-08-18T09:56:41.790Z"
   },
   {
    "duration": 0,
    "start_time": "2022-08-18T09:56:41.791Z"
   },
   {
    "duration": 0,
    "start_time": "2022-08-18T09:56:41.792Z"
   },
   {
    "duration": 0,
    "start_time": "2022-08-18T09:56:41.793Z"
   },
   {
    "duration": 0,
    "start_time": "2022-08-18T09:56:41.794Z"
   },
   {
    "duration": 0,
    "start_time": "2022-08-18T09:56:41.795Z"
   },
   {
    "duration": 0,
    "start_time": "2022-08-18T09:56:41.796Z"
   },
   {
    "duration": 0,
    "start_time": "2022-08-18T09:56:41.797Z"
   },
   {
    "duration": 0,
    "start_time": "2022-08-18T09:56:41.798Z"
   },
   {
    "duration": 0,
    "start_time": "2022-08-18T09:56:41.799Z"
   },
   {
    "duration": 0,
    "start_time": "2022-08-18T09:56:41.800Z"
   },
   {
    "duration": 0,
    "start_time": "2022-08-18T09:56:41.801Z"
   },
   {
    "duration": 1081,
    "start_time": "2022-08-18T09:57:24.079Z"
   },
   {
    "duration": 541,
    "start_time": "2022-08-18T09:58:13.778Z"
   },
   {
    "duration": 2495,
    "start_time": "2022-08-18T09:58:14.321Z"
   },
   {
    "duration": 11,
    "start_time": "2022-08-18T09:58:16.818Z"
   },
   {
    "duration": 5,
    "start_time": "2022-08-18T09:58:16.832Z"
   },
   {
    "duration": 8,
    "start_time": "2022-08-18T09:58:16.838Z"
   },
   {
    "duration": 175,
    "start_time": "2022-08-18T09:58:16.848Z"
   },
   {
    "duration": 5,
    "start_time": "2022-08-18T09:58:17.024Z"
   },
   {
    "duration": 18,
    "start_time": "2022-08-18T09:58:17.030Z"
   },
   {
    "duration": 18,
    "start_time": "2022-08-18T09:58:17.049Z"
   },
   {
    "duration": 28,
    "start_time": "2022-08-18T09:58:17.085Z"
   },
   {
    "duration": 6,
    "start_time": "2022-08-18T09:58:17.114Z"
   },
   {
    "duration": 10,
    "start_time": "2022-08-18T09:58:17.121Z"
   },
   {
    "duration": 1204,
    "start_time": "2022-08-18T09:58:17.133Z"
   },
   {
    "duration": 5,
    "start_time": "2022-08-18T09:58:18.339Z"
   },
   {
    "duration": 6,
    "start_time": "2022-08-18T09:58:18.347Z"
   },
   {
    "duration": 6,
    "start_time": "2022-08-18T09:58:18.355Z"
   },
   {
    "duration": 30,
    "start_time": "2022-08-18T09:58:18.362Z"
   },
   {
    "duration": 15,
    "start_time": "2022-08-18T09:58:18.395Z"
   },
   {
    "duration": 46,
    "start_time": "2022-08-18T09:58:18.412Z"
   },
   {
    "duration": 88,
    "start_time": "2022-08-18T09:58:18.460Z"
   },
   {
    "duration": 0,
    "start_time": "2022-08-18T09:58:18.552Z"
   },
   {
    "duration": 0,
    "start_time": "2022-08-18T09:58:18.554Z"
   },
   {
    "duration": 0,
    "start_time": "2022-08-18T09:58:18.556Z"
   },
   {
    "duration": 0,
    "start_time": "2022-08-18T09:58:18.557Z"
   },
   {
    "duration": 0,
    "start_time": "2022-08-18T09:58:18.558Z"
   },
   {
    "duration": 0,
    "start_time": "2022-08-18T09:58:18.560Z"
   },
   {
    "duration": 0,
    "start_time": "2022-08-18T09:58:18.561Z"
   },
   {
    "duration": 1,
    "start_time": "2022-08-18T09:58:18.563Z"
   },
   {
    "duration": 0,
    "start_time": "2022-08-18T09:58:18.584Z"
   },
   {
    "duration": 0,
    "start_time": "2022-08-18T09:58:18.585Z"
   },
   {
    "duration": 0,
    "start_time": "2022-08-18T09:58:18.587Z"
   },
   {
    "duration": 0,
    "start_time": "2022-08-18T09:58:18.588Z"
   },
   {
    "duration": 0,
    "start_time": "2022-08-18T09:58:18.589Z"
   },
   {
    "duration": 0,
    "start_time": "2022-08-18T09:58:18.590Z"
   },
   {
    "duration": 0,
    "start_time": "2022-08-18T09:58:18.591Z"
   },
   {
    "duration": 0,
    "start_time": "2022-08-18T09:58:18.592Z"
   },
   {
    "duration": 0,
    "start_time": "2022-08-18T09:58:18.594Z"
   },
   {
    "duration": 0,
    "start_time": "2022-08-18T09:58:18.595Z"
   },
   {
    "duration": 0,
    "start_time": "2022-08-18T09:58:18.595Z"
   },
   {
    "duration": 0,
    "start_time": "2022-08-18T09:58:18.596Z"
   },
   {
    "duration": 0,
    "start_time": "2022-08-18T09:58:18.597Z"
   },
   {
    "duration": 0,
    "start_time": "2022-08-18T09:58:18.598Z"
   },
   {
    "duration": 0,
    "start_time": "2022-08-18T09:58:18.601Z"
   },
   {
    "duration": 0,
    "start_time": "2022-08-18T09:58:18.602Z"
   },
   {
    "duration": 0,
    "start_time": "2022-08-18T09:58:18.602Z"
   },
   {
    "duration": 0,
    "start_time": "2022-08-18T09:58:18.603Z"
   },
   {
    "duration": 0,
    "start_time": "2022-08-18T09:58:18.604Z"
   },
   {
    "duration": 0,
    "start_time": "2022-08-18T09:58:18.605Z"
   },
   {
    "duration": 0,
    "start_time": "2022-08-18T09:58:18.605Z"
   },
   {
    "duration": 0,
    "start_time": "2022-08-18T09:58:18.606Z"
   },
   {
    "duration": 0,
    "start_time": "2022-08-18T09:58:18.607Z"
   },
   {
    "duration": 0,
    "start_time": "2022-08-18T09:58:18.608Z"
   },
   {
    "duration": 0,
    "start_time": "2022-08-18T09:58:18.611Z"
   },
   {
    "duration": 0,
    "start_time": "2022-08-18T09:58:18.612Z"
   },
   {
    "duration": 0,
    "start_time": "2022-08-18T09:58:18.613Z"
   },
   {
    "duration": 0,
    "start_time": "2022-08-18T09:58:18.614Z"
   },
   {
    "duration": 1527,
    "start_time": "2022-08-18T09:58:35.545Z"
   },
   {
    "duration": 23,
    "start_time": "2022-08-18T10:04:02.734Z"
   },
   {
    "duration": 23,
    "start_time": "2022-08-18T10:04:33.720Z"
   },
   {
    "duration": 53,
    "start_time": "2022-08-18T10:04:57.373Z"
   },
   {
    "duration": 11,
    "start_time": "2022-08-18T10:05:10.436Z"
   },
   {
    "duration": 15,
    "start_time": "2022-08-18T10:06:24.724Z"
   },
   {
    "duration": 1331,
    "start_time": "2022-08-18T10:06:33.529Z"
   },
   {
    "duration": 878,
    "start_time": "2022-08-18T10:06:37.502Z"
   },
   {
    "duration": 1019,
    "start_time": "2022-08-18T10:06:42.913Z"
   },
   {
    "duration": 70,
    "start_time": "2022-08-18T10:06:51.639Z"
   },
   {
    "duration": 11,
    "start_time": "2022-08-18T10:06:58.421Z"
   },
   {
    "duration": 13,
    "start_time": "2022-08-18T10:07:29.040Z"
   },
   {
    "duration": 10,
    "start_time": "2022-08-18T10:07:54.134Z"
   },
   {
    "duration": 14,
    "start_time": "2022-08-18T10:07:57.198Z"
   },
   {
    "duration": 14,
    "start_time": "2022-08-18T10:07:58.351Z"
   },
   {
    "duration": 11,
    "start_time": "2022-08-18T10:08:50.821Z"
   },
   {
    "duration": 41,
    "start_time": "2022-08-18T10:09:27.219Z"
   },
   {
    "duration": 1140,
    "start_time": "2022-08-18T10:09:48.237Z"
   },
   {
    "duration": 1253,
    "start_time": "2022-08-18T10:10:39.608Z"
   },
   {
    "duration": 13,
    "start_time": "2022-08-18T10:11:39.210Z"
   },
   {
    "duration": 12,
    "start_time": "2022-08-18T10:11:45.513Z"
   },
   {
    "duration": 339,
    "start_time": "2022-08-18T10:11:49.519Z"
   },
   {
    "duration": 374,
    "start_time": "2022-08-18T10:11:54.316Z"
   },
   {
    "duration": 344,
    "start_time": "2022-08-18T10:11:59.920Z"
   },
   {
    "duration": 307,
    "start_time": "2022-08-18T10:12:04.866Z"
   },
   {
    "duration": 10,
    "start_time": "2022-08-18T10:12:11.122Z"
   },
   {
    "duration": 311,
    "start_time": "2022-08-18T10:12:15.422Z"
   },
   {
    "duration": 398,
    "start_time": "2022-08-18T10:12:20.705Z"
   },
   {
    "duration": 9,
    "start_time": "2022-08-18T10:12:25.250Z"
   },
   {
    "duration": 96,
    "start_time": "2022-08-18T10:12:29.804Z"
   },
   {
    "duration": 10,
    "start_time": "2022-08-18T10:12:44.136Z"
   },
   {
    "duration": 93,
    "start_time": "2022-08-18T10:12:49.378Z"
   },
   {
    "duration": 224,
    "start_time": "2022-08-18T10:12:54.127Z"
   },
   {
    "duration": 392,
    "start_time": "2022-08-18T10:12:58.178Z"
   },
   {
    "duration": 11,
    "start_time": "2022-08-18T10:13:02.059Z"
   },
   {
    "duration": 155,
    "start_time": "2022-08-18T10:13:10.068Z"
   },
   {
    "duration": 182,
    "start_time": "2022-08-18T10:13:15.770Z"
   },
   {
    "duration": 159,
    "start_time": "2022-08-18T10:13:20.578Z"
   },
   {
    "duration": 175,
    "start_time": "2022-08-18T10:13:24.252Z"
   },
   {
    "duration": 142,
    "start_time": "2022-08-18T10:13:27.422Z"
   },
   {
    "duration": 15,
    "start_time": "2022-08-18T10:13:33.044Z"
   },
   {
    "duration": 24,
    "start_time": "2022-08-18T10:15:15.819Z"
   },
   {
    "duration": 519,
    "start_time": "2022-08-18T10:15:29.513Z"
   },
   {
    "duration": 2630,
    "start_time": "2022-08-18T10:15:30.034Z"
   },
   {
    "duration": 11,
    "start_time": "2022-08-18T10:15:32.665Z"
   },
   {
    "duration": 5,
    "start_time": "2022-08-18T10:15:32.678Z"
   },
   {
    "duration": 54,
    "start_time": "2022-08-18T10:15:32.684Z"
   },
   {
    "duration": 200,
    "start_time": "2022-08-18T10:15:32.739Z"
   },
   {
    "duration": 6,
    "start_time": "2022-08-18T10:15:32.940Z"
   },
   {
    "duration": 9,
    "start_time": "2022-08-18T10:15:32.947Z"
   },
   {
    "duration": 26,
    "start_time": "2022-08-18T10:15:32.958Z"
   },
   {
    "duration": 48,
    "start_time": "2022-08-18T10:15:32.987Z"
   },
   {
    "duration": 10,
    "start_time": "2022-08-18T10:15:33.036Z"
   },
   {
    "duration": 4,
    "start_time": "2022-08-18T10:15:33.047Z"
   },
   {
    "duration": 1280,
    "start_time": "2022-08-18T10:15:33.053Z"
   },
   {
    "duration": 5,
    "start_time": "2022-08-18T10:15:34.336Z"
   },
   {
    "duration": 14,
    "start_time": "2022-08-18T10:15:34.342Z"
   },
   {
    "duration": 14,
    "start_time": "2022-08-18T10:15:34.358Z"
   },
   {
    "duration": 21,
    "start_time": "2022-08-18T10:15:34.374Z"
   },
   {
    "duration": 53,
    "start_time": "2022-08-18T10:15:34.396Z"
   },
   {
    "duration": 49,
    "start_time": "2022-08-18T10:15:34.451Z"
   },
   {
    "duration": 40,
    "start_time": "2022-08-18T10:15:34.502Z"
   },
   {
    "duration": 22,
    "start_time": "2022-08-18T10:15:34.544Z"
   },
   {
    "duration": 24,
    "start_time": "2022-08-18T10:15:34.568Z"
   },
   {
    "duration": 62,
    "start_time": "2022-08-18T10:15:34.594Z"
   },
   {
    "duration": 406,
    "start_time": "2022-08-18T10:15:34.658Z"
   },
   {
    "duration": 6,
    "start_time": "2022-08-18T10:15:35.066Z"
   },
   {
    "duration": 40,
    "start_time": "2022-08-18T10:15:35.073Z"
   },
   {
    "duration": 43,
    "start_time": "2022-08-18T10:15:35.115Z"
   },
   {
    "duration": 2604,
    "start_time": "2022-08-18T10:15:35.159Z"
   },
   {
    "duration": 1,
    "start_time": "2022-08-18T10:15:37.765Z"
   },
   {
    "duration": 0,
    "start_time": "2022-08-18T10:15:37.768Z"
   },
   {
    "duration": 0,
    "start_time": "2022-08-18T10:15:37.769Z"
   },
   {
    "duration": 0,
    "start_time": "2022-08-18T10:15:37.770Z"
   },
   {
    "duration": 0,
    "start_time": "2022-08-18T10:15:37.771Z"
   },
   {
    "duration": 0,
    "start_time": "2022-08-18T10:15:37.773Z"
   },
   {
    "duration": 0,
    "start_time": "2022-08-18T10:15:37.774Z"
   },
   {
    "duration": 0,
    "start_time": "2022-08-18T10:15:37.775Z"
   },
   {
    "duration": 0,
    "start_time": "2022-08-18T10:15:37.776Z"
   },
   {
    "duration": 0,
    "start_time": "2022-08-18T10:15:37.777Z"
   },
   {
    "duration": 0,
    "start_time": "2022-08-18T10:15:37.779Z"
   },
   {
    "duration": 0,
    "start_time": "2022-08-18T10:15:37.780Z"
   },
   {
    "duration": 0,
    "start_time": "2022-08-18T10:15:37.781Z"
   },
   {
    "duration": 0,
    "start_time": "2022-08-18T10:15:37.782Z"
   },
   {
    "duration": 0,
    "start_time": "2022-08-18T10:15:37.783Z"
   },
   {
    "duration": 0,
    "start_time": "2022-08-18T10:15:37.784Z"
   },
   {
    "duration": 0,
    "start_time": "2022-08-18T10:15:37.785Z"
   },
   {
    "duration": 0,
    "start_time": "2022-08-18T10:15:37.789Z"
   },
   {
    "duration": 0,
    "start_time": "2022-08-18T10:15:37.789Z"
   },
   {
    "duration": 0,
    "start_time": "2022-08-18T10:15:37.790Z"
   },
   {
    "duration": 0,
    "start_time": "2022-08-18T10:15:37.791Z"
   },
   {
    "duration": 0,
    "start_time": "2022-08-18T10:15:37.792Z"
   },
   {
    "duration": 0,
    "start_time": "2022-08-18T10:15:37.793Z"
   },
   {
    "duration": 0,
    "start_time": "2022-08-18T10:15:37.794Z"
   },
   {
    "duration": 0,
    "start_time": "2022-08-18T10:15:37.795Z"
   },
   {
    "duration": 0,
    "start_time": "2022-08-18T10:15:37.796Z"
   },
   {
    "duration": 0,
    "start_time": "2022-08-18T10:15:37.797Z"
   },
   {
    "duration": 188,
    "start_time": "2022-08-18T10:16:05.048Z"
   },
   {
    "duration": 160,
    "start_time": "2022-08-18T10:16:11.841Z"
   },
   {
    "duration": 225,
    "start_time": "2022-08-18T10:16:25.857Z"
   },
   {
    "duration": 33,
    "start_time": "2022-08-18T10:16:34.728Z"
   },
   {
    "duration": 187,
    "start_time": "2022-08-18T10:16:42.419Z"
   },
   {
    "duration": 1472,
    "start_time": "2022-08-18T10:17:14.753Z"
   },
   {
    "duration": 9,
    "start_time": "2022-08-18T10:17:52.734Z"
   },
   {
    "duration": 19,
    "start_time": "2022-08-18T10:18:20.343Z"
   },
   {
    "duration": 10,
    "start_time": "2022-08-18T10:18:29.899Z"
   },
   {
    "duration": 12,
    "start_time": "2022-08-18T10:18:54.249Z"
   },
   {
    "duration": 4314,
    "start_time": "2022-08-18T10:20:06.051Z"
   },
   {
    "duration": 10,
    "start_time": "2022-08-18T10:21:59.823Z"
   },
   {
    "duration": 2305,
    "start_time": "2022-08-18T10:23:00.303Z"
   },
   {
    "duration": 1652,
    "start_time": "2022-08-18T10:23:24.569Z"
   },
   {
    "duration": 2919,
    "start_time": "2022-08-18T10:24:36.748Z"
   },
   {
    "duration": 511,
    "start_time": "2022-08-18T10:26:32.247Z"
   },
   {
    "duration": 2363,
    "start_time": "2022-08-18T10:26:32.760Z"
   },
   {
    "duration": 12,
    "start_time": "2022-08-18T10:26:35.125Z"
   },
   {
    "duration": 5,
    "start_time": "2022-08-18T10:26:35.138Z"
   },
   {
    "duration": 8,
    "start_time": "2022-08-18T10:26:35.145Z"
   },
   {
    "duration": 151,
    "start_time": "2022-08-18T10:26:35.154Z"
   },
   {
    "duration": 5,
    "start_time": "2022-08-18T10:26:35.306Z"
   },
   {
    "duration": 8,
    "start_time": "2022-08-18T10:26:35.312Z"
   },
   {
    "duration": 14,
    "start_time": "2022-08-18T10:26:35.322Z"
   },
   {
    "duration": 9,
    "start_time": "2022-08-18T10:26:35.339Z"
   },
   {
    "duration": 10,
    "start_time": "2022-08-18T10:26:35.349Z"
   },
   {
    "duration": 26,
    "start_time": "2022-08-18T10:26:35.360Z"
   },
   {
    "duration": 1057,
    "start_time": "2022-08-18T10:26:35.387Z"
   },
   {
    "duration": 5,
    "start_time": "2022-08-18T10:26:36.445Z"
   },
   {
    "duration": 29,
    "start_time": "2022-08-18T10:26:36.451Z"
   },
   {
    "duration": 16,
    "start_time": "2022-08-18T10:26:36.481Z"
   },
   {
    "duration": 11,
    "start_time": "2022-08-18T10:26:36.499Z"
   },
   {
    "duration": 6,
    "start_time": "2022-08-18T10:26:36.511Z"
   },
   {
    "duration": 38,
    "start_time": "2022-08-18T10:26:36.518Z"
   },
   {
    "duration": 23,
    "start_time": "2022-08-18T10:26:36.557Z"
   },
   {
    "duration": 28,
    "start_time": "2022-08-18T10:26:36.581Z"
   },
   {
    "duration": 5,
    "start_time": "2022-08-18T10:26:36.610Z"
   },
   {
    "duration": 34,
    "start_time": "2022-08-18T10:26:36.617Z"
   },
   {
    "duration": 330,
    "start_time": "2022-08-18T10:26:36.652Z"
   },
   {
    "duration": 8,
    "start_time": "2022-08-18T10:26:36.984Z"
   },
   {
    "duration": 45,
    "start_time": "2022-08-18T10:26:36.993Z"
   },
   {
    "duration": 39,
    "start_time": "2022-08-18T10:26:37.040Z"
   },
   {
    "duration": 24,
    "start_time": "2022-08-18T10:26:37.084Z"
   },
   {
    "duration": 12,
    "start_time": "2022-08-18T10:26:37.110Z"
   },
   {
    "duration": 27,
    "start_time": "2022-08-18T10:26:37.124Z"
   },
   {
    "duration": 24,
    "start_time": "2022-08-18T10:26:37.153Z"
   },
   {
    "duration": 307,
    "start_time": "2022-08-18T10:26:37.179Z"
   },
   {
    "duration": 385,
    "start_time": "2022-08-18T10:26:37.488Z"
   },
   {
    "duration": 322,
    "start_time": "2022-08-18T10:26:37.875Z"
   },
   {
    "duration": 289,
    "start_time": "2022-08-18T10:26:38.198Z"
   },
   {
    "duration": 11,
    "start_time": "2022-08-18T10:26:38.489Z"
   },
   {
    "duration": 260,
    "start_time": "2022-08-18T10:26:38.501Z"
   },
   {
    "duration": 264,
    "start_time": "2022-08-18T10:26:38.763Z"
   },
   {
    "duration": 10,
    "start_time": "2022-08-18T10:26:39.029Z"
   },
   {
    "duration": 94,
    "start_time": "2022-08-18T10:26:39.040Z"
   },
   {
    "duration": 10,
    "start_time": "2022-08-18T10:26:39.136Z"
   },
   {
    "duration": 187,
    "start_time": "2022-08-18T10:26:39.147Z"
   },
   {
    "duration": 202,
    "start_time": "2022-08-18T10:26:39.336Z"
   },
   {
    "duration": 311,
    "start_time": "2022-08-18T10:26:39.540Z"
   },
   {
    "duration": 12,
    "start_time": "2022-08-18T10:26:39.852Z"
   },
   {
    "duration": 142,
    "start_time": "2022-08-18T10:26:39.865Z"
   },
   {
    "duration": 165,
    "start_time": "2022-08-18T10:26:40.009Z"
   },
   {
    "duration": 154,
    "start_time": "2022-08-18T10:26:40.176Z"
   },
   {
    "duration": 174,
    "start_time": "2022-08-18T10:26:40.332Z"
   },
   {
    "duration": 141,
    "start_time": "2022-08-18T10:26:40.507Z"
   },
   {
    "duration": 156,
    "start_time": "2022-08-18T10:26:40.650Z"
   },
   {
    "duration": 159,
    "start_time": "2022-08-18T10:26:40.807Z"
   },
   {
    "duration": 162,
    "start_time": "2022-08-18T10:26:40.968Z"
   },
   {
    "duration": 26,
    "start_time": "2022-08-18T10:26:41.131Z"
   },
   {
    "duration": 172,
    "start_time": "2022-08-18T10:26:41.159Z"
   },
   {
    "duration": 83,
    "start_time": "2022-08-18T10:28:55.131Z"
   },
   {
    "duration": 89,
    "start_time": "2022-08-18T10:29:20.482Z"
   },
   {
    "duration": 109,
    "start_time": "2022-08-18T10:29:31.624Z"
   },
   {
    "duration": 75,
    "start_time": "2022-08-18T10:29:52.645Z"
   },
   {
    "duration": 205,
    "start_time": "2022-08-18T10:30:02.981Z"
   },
   {
    "duration": 24,
    "start_time": "2022-08-18T10:30:24.142Z"
   },
   {
    "duration": 13,
    "start_time": "2022-08-18T10:30:53.199Z"
   },
   {
    "duration": 95,
    "start_time": "2022-08-18T10:32:13.356Z"
   },
   {
    "duration": 149,
    "start_time": "2022-08-18T10:32:22.779Z"
   },
   {
    "duration": 42,
    "start_time": "2022-08-18T10:33:18.122Z"
   },
   {
    "duration": 42,
    "start_time": "2022-08-18T10:33:30.084Z"
   },
   {
    "duration": 96,
    "start_time": "2022-08-18T10:38:39.159Z"
   },
   {
    "duration": 33,
    "start_time": "2022-08-18T10:39:14.236Z"
   },
   {
    "duration": 79,
    "start_time": "2022-08-18T10:39:26.062Z"
   },
   {
    "duration": 10,
    "start_time": "2022-08-18T10:39:43.264Z"
   },
   {
    "duration": 11,
    "start_time": "2022-08-18T10:44:49.035Z"
   },
   {
    "duration": 17,
    "start_time": "2022-08-18T10:47:27.766Z"
   },
   {
    "duration": 16,
    "start_time": "2022-08-18T10:48:06.969Z"
   },
   {
    "duration": 56,
    "start_time": "2022-08-18T10:48:20.612Z"
   },
   {
    "duration": 22,
    "start_time": "2022-08-18T10:48:43.505Z"
   },
   {
    "duration": 22,
    "start_time": "2022-08-18T10:49:34.105Z"
   },
   {
    "duration": 16,
    "start_time": "2022-08-18T10:49:48.345Z"
   },
   {
    "duration": 14,
    "start_time": "2022-08-18T10:50:29.564Z"
   },
   {
    "duration": 71,
    "start_time": "2022-08-18T10:52:19.126Z"
   },
   {
    "duration": 62,
    "start_time": "2022-08-18T10:52:30.477Z"
   },
   {
    "duration": 16,
    "start_time": "2022-08-18T10:53:05.756Z"
   },
   {
    "duration": 36,
    "start_time": "2022-08-18T10:56:47.466Z"
   },
   {
    "duration": 23,
    "start_time": "2022-08-18T10:57:21.862Z"
   },
   {
    "duration": 55,
    "start_time": "2022-08-18T10:57:27.599Z"
   },
   {
    "duration": 58,
    "start_time": "2022-08-18T10:59:12.993Z"
   },
   {
    "duration": 22,
    "start_time": "2022-08-18T10:59:28.959Z"
   },
   {
    "duration": 19,
    "start_time": "2022-08-18T10:59:42.724Z"
   },
   {
    "duration": 100,
    "start_time": "2022-08-18T11:02:49.219Z"
   },
   {
    "duration": 102,
    "start_time": "2022-08-18T11:07:57.864Z"
   },
   {
    "duration": 45,
    "start_time": "2022-08-18T11:08:35.627Z"
   },
   {
    "duration": 9,
    "start_time": "2022-08-18T11:09:37.101Z"
   },
   {
    "duration": 103,
    "start_time": "2022-08-18T11:12:19.326Z"
   },
   {
    "duration": 98,
    "start_time": "2022-08-18T11:13:13.501Z"
   },
   {
    "duration": 3,
    "start_time": "2022-08-18T11:15:56.805Z"
   },
   {
    "duration": 39,
    "start_time": "2022-08-18T11:18:17.434Z"
   },
   {
    "duration": 105,
    "start_time": "2022-08-18T11:20:23.546Z"
   },
   {
    "duration": 85,
    "start_time": "2022-08-18T11:20:48.976Z"
   },
   {
    "duration": 108,
    "start_time": "2022-08-18T11:21:09.812Z"
   },
   {
    "duration": 84,
    "start_time": "2022-08-18T11:32:48.123Z"
   },
   {
    "duration": 10,
    "start_time": "2022-08-18T11:36:39.514Z"
   },
   {
    "duration": 9,
    "start_time": "2022-08-18T11:38:54.522Z"
   },
   {
    "duration": 8,
    "start_time": "2022-08-18T11:39:07.144Z"
   },
   {
    "duration": 9,
    "start_time": "2022-08-18T11:39:24.359Z"
   },
   {
    "duration": 8,
    "start_time": "2022-08-18T11:40:09.209Z"
   },
   {
    "duration": 17,
    "start_time": "2022-08-18T11:40:17.380Z"
   },
   {
    "duration": 574,
    "start_time": "2022-08-18T11:40:27.312Z"
   },
   {
    "duration": 2679,
    "start_time": "2022-08-18T11:40:27.889Z"
   },
   {
    "duration": 11,
    "start_time": "2022-08-18T11:40:30.570Z"
   },
   {
    "duration": 40,
    "start_time": "2022-08-18T11:40:30.583Z"
   },
   {
    "duration": 27,
    "start_time": "2022-08-18T11:40:30.626Z"
   },
   {
    "duration": 214,
    "start_time": "2022-08-18T11:40:30.654Z"
   },
   {
    "duration": 6,
    "start_time": "2022-08-18T11:40:30.869Z"
   },
   {
    "duration": 32,
    "start_time": "2022-08-18T11:40:30.885Z"
   },
   {
    "duration": 31,
    "start_time": "2022-08-18T11:40:30.919Z"
   },
   {
    "duration": 28,
    "start_time": "2022-08-18T11:40:30.952Z"
   },
   {
    "duration": 33,
    "start_time": "2022-08-18T11:40:30.983Z"
   },
   {
    "duration": 9,
    "start_time": "2022-08-18T11:40:31.019Z"
   },
   {
    "duration": 1366,
    "start_time": "2022-08-18T11:40:31.030Z"
   },
   {
    "duration": 8,
    "start_time": "2022-08-18T11:40:32.400Z"
   },
   {
    "duration": 15,
    "start_time": "2022-08-18T11:40:32.411Z"
   },
   {
    "duration": 6,
    "start_time": "2022-08-18T11:40:32.428Z"
   },
   {
    "duration": 7,
    "start_time": "2022-08-18T11:40:32.436Z"
   },
   {
    "duration": 12,
    "start_time": "2022-08-18T11:40:32.445Z"
   },
   {
    "duration": 61,
    "start_time": "2022-08-18T11:40:32.459Z"
   },
   {
    "duration": 132,
    "start_time": "2022-08-18T11:40:32.523Z"
   },
   {
    "duration": 30,
    "start_time": "2022-08-18T11:40:32.657Z"
   },
   {
    "duration": 14,
    "start_time": "2022-08-18T11:40:32.691Z"
   },
   {
    "duration": 132,
    "start_time": "2022-08-18T11:40:32.707Z"
   },
   {
    "duration": 14,
    "start_time": "2022-08-18T11:40:32.842Z"
   },
   {
    "duration": 31,
    "start_time": "2022-08-18T11:40:32.858Z"
   },
   {
    "duration": 35,
    "start_time": "2022-08-18T11:40:32.893Z"
   },
   {
    "duration": 6,
    "start_time": "2022-08-18T11:40:32.930Z"
   },
   {
    "duration": 30,
    "start_time": "2022-08-18T11:40:32.939Z"
   },
   {
    "duration": 410,
    "start_time": "2022-08-18T11:40:32.971Z"
   },
   {
    "duration": 13,
    "start_time": "2022-08-18T11:40:33.383Z"
   },
   {
    "duration": 55,
    "start_time": "2022-08-18T11:40:33.397Z"
   },
   {
    "duration": 50,
    "start_time": "2022-08-18T11:40:33.453Z"
   },
   {
    "duration": 30,
    "start_time": "2022-08-18T11:40:33.505Z"
   },
   {
    "duration": 15,
    "start_time": "2022-08-18T11:40:33.537Z"
   },
   {
    "duration": 7,
    "start_time": "2022-08-18T11:40:33.554Z"
   },
   {
    "duration": 33,
    "start_time": "2022-08-18T11:40:33.562Z"
   },
   {
    "duration": 452,
    "start_time": "2022-08-18T11:40:33.597Z"
   },
   {
    "duration": 376,
    "start_time": "2022-08-18T11:40:34.051Z"
   },
   {
    "duration": 442,
    "start_time": "2022-08-18T11:40:34.430Z"
   },
   {
    "duration": 355,
    "start_time": "2022-08-18T11:40:34.875Z"
   },
   {
    "duration": 14,
    "start_time": "2022-08-18T11:40:35.234Z"
   },
   {
    "duration": 322,
    "start_time": "2022-08-18T11:40:35.250Z"
   },
   {
    "duration": 401,
    "start_time": "2022-08-18T11:40:35.574Z"
   },
   {
    "duration": 17,
    "start_time": "2022-08-18T11:40:35.977Z"
   },
   {
    "duration": 120,
    "start_time": "2022-08-18T11:40:35.996Z"
   },
   {
    "duration": 12,
    "start_time": "2022-08-18T11:40:36.118Z"
   },
   {
    "duration": 117,
    "start_time": "2022-08-18T11:40:36.132Z"
   },
   {
    "duration": 254,
    "start_time": "2022-08-18T11:40:36.251Z"
   },
   {
    "duration": 361,
    "start_time": "2022-08-18T11:40:36.508Z"
   },
   {
    "duration": 21,
    "start_time": "2022-08-18T11:40:36.871Z"
   },
   {
    "duration": 191,
    "start_time": "2022-08-18T11:40:36.894Z"
   },
   {
    "duration": 208,
    "start_time": "2022-08-18T11:40:37.087Z"
   },
   {
    "duration": 170,
    "start_time": "2022-08-18T11:40:37.298Z"
   },
   {
    "duration": 203,
    "start_time": "2022-08-18T11:40:37.470Z"
   },
   {
    "duration": 174,
    "start_time": "2022-08-18T11:40:37.675Z"
   },
   {
    "duration": 208,
    "start_time": "2022-08-18T11:40:37.851Z"
   },
   {
    "duration": 205,
    "start_time": "2022-08-18T11:40:38.061Z"
   },
   {
    "duration": 206,
    "start_time": "2022-08-18T11:40:38.268Z"
   },
   {
    "duration": 41,
    "start_time": "2022-08-18T11:40:38.476Z"
   },
   {
    "duration": 198,
    "start_time": "2022-08-18T11:40:38.519Z"
   },
   {
    "duration": 258,
    "start_time": "2022-08-18T11:44:07.115Z"
   },
   {
    "duration": 179,
    "start_time": "2022-08-18T11:44:57.099Z"
   },
   {
    "duration": 124,
    "start_time": "2022-08-18T11:45:14.526Z"
   },
   {
    "duration": 133,
    "start_time": "2022-08-18T11:45:45.164Z"
   },
   {
    "duration": 129,
    "start_time": "2022-08-18T11:45:56.602Z"
   },
   {
    "duration": 16,
    "start_time": "2022-08-18T11:48:10.377Z"
   },
   {
    "duration": 86,
    "start_time": "2022-08-18T11:52:27.572Z"
   },
   {
    "duration": 102,
    "start_time": "2022-08-18T11:53:05.010Z"
   },
   {
    "duration": 67,
    "start_time": "2022-08-18T11:54:20.857Z"
   },
   {
    "duration": 103,
    "start_time": "2022-08-18T11:54:29.817Z"
   },
   {
    "duration": 105,
    "start_time": "2022-08-18T11:56:44.182Z"
   },
   {
    "duration": 127,
    "start_time": "2022-08-18T11:57:05.080Z"
   },
   {
    "duration": 9,
    "start_time": "2022-08-18T11:59:18.179Z"
   },
   {
    "duration": 11,
    "start_time": "2022-08-18T12:00:35.596Z"
   },
   {
    "duration": 11,
    "start_time": "2022-08-18T12:05:40.622Z"
   },
   {
    "duration": 8,
    "start_time": "2022-08-18T12:07:11.456Z"
   },
   {
    "duration": 82,
    "start_time": "2022-08-18T12:07:56.261Z"
   },
   {
    "duration": 30,
    "start_time": "2022-08-18T12:09:54.684Z"
   },
   {
    "duration": 10,
    "start_time": "2022-08-18T12:11:42.141Z"
   },
   {
    "duration": 563,
    "start_time": "2022-08-18T12:14:23.744Z"
   },
   {
    "duration": 2315,
    "start_time": "2022-08-18T12:14:24.309Z"
   },
   {
    "duration": 11,
    "start_time": "2022-08-18T12:14:26.626Z"
   },
   {
    "duration": 6,
    "start_time": "2022-08-18T12:14:26.639Z"
   },
   {
    "duration": 10,
    "start_time": "2022-08-18T12:14:26.647Z"
   },
   {
    "duration": 176,
    "start_time": "2022-08-18T12:14:26.658Z"
   },
   {
    "duration": 5,
    "start_time": "2022-08-18T12:14:26.835Z"
   },
   {
    "duration": 9,
    "start_time": "2022-08-18T12:14:26.842Z"
   },
   {
    "duration": 36,
    "start_time": "2022-08-18T12:14:26.853Z"
   },
   {
    "duration": 11,
    "start_time": "2022-08-18T12:14:26.891Z"
   },
   {
    "duration": 6,
    "start_time": "2022-08-18T12:14:26.905Z"
   },
   {
    "duration": 8,
    "start_time": "2022-08-18T12:14:26.913Z"
   },
   {
    "duration": 1119,
    "start_time": "2022-08-18T12:14:26.923Z"
   },
   {
    "duration": 6,
    "start_time": "2022-08-18T12:14:28.046Z"
   },
   {
    "duration": 10,
    "start_time": "2022-08-18T12:14:28.053Z"
   },
   {
    "duration": 21,
    "start_time": "2022-08-18T12:14:28.065Z"
   },
   {
    "duration": 10,
    "start_time": "2022-08-18T12:14:28.088Z"
   },
   {
    "duration": 5,
    "start_time": "2022-08-18T12:14:28.100Z"
   },
   {
    "duration": 39,
    "start_time": "2022-08-18T12:14:28.108Z"
   },
   {
    "duration": 136,
    "start_time": "2022-08-18T12:14:28.149Z"
   },
   {
    "duration": 18,
    "start_time": "2022-08-18T12:14:28.287Z"
   },
   {
    "duration": 8,
    "start_time": "2022-08-18T12:14:28.307Z"
   },
   {
    "duration": 124,
    "start_time": "2022-08-18T12:14:28.317Z"
   },
   {
    "duration": 10,
    "start_time": "2022-08-18T12:14:28.442Z"
   },
   {
    "duration": 7,
    "start_time": "2022-08-18T12:14:28.454Z"
   },
   {
    "duration": 112,
    "start_time": "2022-08-18T12:14:28.462Z"
   },
   {
    "duration": 17,
    "start_time": "2022-08-18T12:14:28.575Z"
   },
   {
    "duration": 113,
    "start_time": "2022-08-18T12:14:28.594Z"
   },
   {
    "duration": 12,
    "start_time": "2022-08-18T12:14:28.709Z"
   },
   {
    "duration": 13,
    "start_time": "2022-08-18T12:14:28.723Z"
   },
   {
    "duration": 169,
    "start_time": "2022-08-18T12:14:28.738Z"
   },
   {
    "duration": 11,
    "start_time": "2022-08-18T12:14:28.909Z"
   },
   {
    "duration": 29,
    "start_time": "2022-08-18T12:14:28.923Z"
   },
   {
    "duration": 6,
    "start_time": "2022-08-18T12:14:28.954Z"
   },
   {
    "duration": 48,
    "start_time": "2022-08-18T12:14:28.962Z"
   },
   {
    "duration": 379,
    "start_time": "2022-08-18T12:14:29.012Z"
   },
   {
    "duration": 7,
    "start_time": "2022-08-18T12:14:29.393Z"
   },
   {
    "duration": 29,
    "start_time": "2022-08-18T12:14:29.401Z"
   },
   {
    "duration": 59,
    "start_time": "2022-08-18T12:14:29.431Z"
   },
   {
    "duration": 28,
    "start_time": "2022-08-18T12:14:29.492Z"
   },
   {
    "duration": 15,
    "start_time": "2022-08-18T12:14:29.525Z"
   },
   {
    "duration": 5,
    "start_time": "2022-08-18T12:14:29.543Z"
   },
   {
    "duration": 39,
    "start_time": "2022-08-18T12:14:29.550Z"
   },
   {
    "duration": 317,
    "start_time": "2022-08-18T12:14:29.591Z"
   },
   {
    "duration": 326,
    "start_time": "2022-08-18T12:14:29.910Z"
   },
   {
    "duration": 307,
    "start_time": "2022-08-18T12:14:30.237Z"
   },
   {
    "duration": 300,
    "start_time": "2022-08-18T12:14:30.546Z"
   },
   {
    "duration": 12,
    "start_time": "2022-08-18T12:14:30.848Z"
   },
   {
    "duration": 336,
    "start_time": "2022-08-18T12:14:30.862Z"
   },
   {
    "duration": 246,
    "start_time": "2022-08-18T12:14:31.199Z"
   },
   {
    "duration": 9,
    "start_time": "2022-08-18T12:14:31.447Z"
   },
   {
    "duration": 93,
    "start_time": "2022-08-18T12:14:31.458Z"
   },
   {
    "duration": 11,
    "start_time": "2022-08-18T12:14:31.553Z"
   },
   {
    "duration": 105,
    "start_time": "2022-08-18T12:14:31.565Z"
   },
   {
    "duration": 229,
    "start_time": "2022-08-18T12:14:31.672Z"
   },
   {
    "duration": 325,
    "start_time": "2022-08-18T12:14:31.903Z"
   },
   {
    "duration": 11,
    "start_time": "2022-08-18T12:14:32.229Z"
   },
   {
    "duration": 166,
    "start_time": "2022-08-18T12:14:32.242Z"
   },
   {
    "duration": 164,
    "start_time": "2022-08-18T12:14:32.409Z"
   },
   {
    "duration": 264,
    "start_time": "2022-08-18T12:14:32.575Z"
   },
   {
    "duration": 171,
    "start_time": "2022-08-18T12:14:32.841Z"
   },
   {
    "duration": 135,
    "start_time": "2022-08-18T12:14:33.014Z"
   },
   {
    "duration": 166,
    "start_time": "2022-08-18T12:14:33.151Z"
   },
   {
    "duration": 156,
    "start_time": "2022-08-18T12:14:33.319Z"
   },
   {
    "duration": 150,
    "start_time": "2022-08-18T12:14:33.477Z"
   },
   {
    "duration": 36,
    "start_time": "2022-08-18T12:14:33.630Z"
   },
   {
    "duration": 167,
    "start_time": "2022-08-18T12:14:33.668Z"
   },
   {
    "duration": 1311,
    "start_time": "2022-08-18T12:20:08.131Z"
   },
   {
    "duration": 83,
    "start_time": "2022-08-18T12:20:37.247Z"
   },
   {
    "duration": 77,
    "start_time": "2022-08-18T12:21:11.098Z"
   },
   {
    "duration": 97,
    "start_time": "2022-08-18T12:21:19.066Z"
   },
   {
    "duration": 89,
    "start_time": "2022-08-18T12:22:05.910Z"
   },
   {
    "duration": 85,
    "start_time": "2022-08-18T12:22:17.950Z"
   },
   {
    "duration": 9,
    "start_time": "2022-08-18T12:30:25.836Z"
   },
   {
    "duration": 83,
    "start_time": "2022-08-18T12:31:16.342Z"
   },
   {
    "duration": 97,
    "start_time": "2022-08-18T12:33:04.837Z"
   },
   {
    "duration": 15,
    "start_time": "2022-08-18T12:34:02.538Z"
   },
   {
    "duration": 12,
    "start_time": "2022-08-18T12:34:10.718Z"
   },
   {
    "duration": 12,
    "start_time": "2022-08-18T12:35:07.678Z"
   },
   {
    "duration": 97,
    "start_time": "2022-08-18T12:35:50.676Z"
   },
   {
    "duration": 104,
    "start_time": "2022-08-18T12:36:38.191Z"
   },
   {
    "duration": 108,
    "start_time": "2022-08-18T12:36:55.786Z"
   },
   {
    "duration": 96,
    "start_time": "2022-08-18T12:37:03.350Z"
   },
   {
    "duration": 93,
    "start_time": "2022-08-18T12:37:13.453Z"
   },
   {
    "duration": 93,
    "start_time": "2022-08-18T12:37:23.433Z"
   },
   {
    "duration": 86,
    "start_time": "2022-08-18T12:37:37.881Z"
   },
   {
    "duration": 66,
    "start_time": "2022-08-18T12:40:07.334Z"
   },
   {
    "duration": 131,
    "start_time": "2022-08-18T12:40:11.535Z"
   },
   {
    "duration": 28,
    "start_time": "2022-08-18T12:40:16.378Z"
   },
   {
    "duration": 54,
    "start_time": "2022-08-18T12:40:20.935Z"
   },
   {
    "duration": 152,
    "start_time": "2022-08-18T12:40:44.238Z"
   },
   {
    "duration": 8,
    "start_time": "2022-08-18T12:40:55.592Z"
   },
   {
    "duration": 6,
    "start_time": "2022-08-18T12:41:04.685Z"
   },
   {
    "duration": 2366,
    "start_time": "2022-08-18T12:51:40.237Z"
   },
   {
    "duration": 5,
    "start_time": "2022-08-18T12:51:56.774Z"
   },
   {
    "duration": 5,
    "start_time": "2022-08-18T12:52:22.002Z"
   },
   {
    "duration": 81,
    "start_time": "2022-08-18T12:52:26.680Z"
   },
   {
    "duration": 5,
    "start_time": "2022-08-18T12:52:35.882Z"
   },
   {
    "duration": 124,
    "start_time": "2022-08-18T12:53:05.170Z"
   },
   {
    "duration": 12,
    "start_time": "2022-08-18T12:53:10.976Z"
   },
   {
    "duration": 6,
    "start_time": "2022-08-18T12:53:27.705Z"
   },
   {
    "duration": 8,
    "start_time": "2022-08-18T12:54:29.064Z"
   },
   {
    "duration": 4,
    "start_time": "2022-08-18T12:56:20.627Z"
   },
   {
    "duration": 7,
    "start_time": "2022-08-18T12:57:43.110Z"
   },
   {
    "duration": 92,
    "start_time": "2022-08-18T13:01:30.141Z"
   },
   {
    "duration": 94,
    "start_time": "2022-08-18T13:02:27.128Z"
   },
   {
    "duration": 86,
    "start_time": "2022-08-18T13:02:33.847Z"
   },
   {
    "duration": 93,
    "start_time": "2022-08-18T13:03:07.334Z"
   },
   {
    "duration": 9,
    "start_time": "2022-08-18T13:04:39.608Z"
   },
   {
    "duration": 8,
    "start_time": "2022-08-18T13:07:17.633Z"
   },
   {
    "duration": 485,
    "start_time": "2022-08-18T13:07:37.543Z"
   },
   {
    "duration": 2179,
    "start_time": "2022-08-18T13:07:38.029Z"
   },
   {
    "duration": 15,
    "start_time": "2022-08-18T13:07:40.209Z"
   },
   {
    "duration": 6,
    "start_time": "2022-08-18T13:07:40.225Z"
   },
   {
    "duration": 9,
    "start_time": "2022-08-18T13:07:40.232Z"
   },
   {
    "duration": 185,
    "start_time": "2022-08-18T13:07:40.243Z"
   },
   {
    "duration": 6,
    "start_time": "2022-08-18T13:07:40.429Z"
   },
   {
    "duration": 10,
    "start_time": "2022-08-18T13:07:40.437Z"
   },
   {
    "duration": 29,
    "start_time": "2022-08-18T13:07:40.448Z"
   },
   {
    "duration": 11,
    "start_time": "2022-08-18T13:07:40.485Z"
   },
   {
    "duration": 7,
    "start_time": "2022-08-18T13:07:40.497Z"
   },
   {
    "duration": 11,
    "start_time": "2022-08-18T13:07:40.505Z"
   },
   {
    "duration": 1121,
    "start_time": "2022-08-18T13:07:40.517Z"
   },
   {
    "duration": 4,
    "start_time": "2022-08-18T13:07:41.640Z"
   },
   {
    "duration": 6,
    "start_time": "2022-08-18T13:07:41.645Z"
   },
   {
    "duration": 6,
    "start_time": "2022-08-18T13:07:41.653Z"
   },
   {
    "duration": 29,
    "start_time": "2022-08-18T13:07:41.660Z"
   },
   {
    "duration": 7,
    "start_time": "2022-08-18T13:07:41.690Z"
   },
   {
    "duration": 30,
    "start_time": "2022-08-18T13:07:41.698Z"
   },
   {
    "duration": 109,
    "start_time": "2022-08-18T13:07:41.730Z"
   },
   {
    "duration": 19,
    "start_time": "2022-08-18T13:07:41.841Z"
   },
   {
    "duration": 25,
    "start_time": "2022-08-18T13:07:41.862Z"
   },
   {
    "duration": 83,
    "start_time": "2022-08-18T13:07:41.889Z"
   },
   {
    "duration": 10,
    "start_time": "2022-08-18T13:07:41.985Z"
   },
   {
    "duration": 7,
    "start_time": "2022-08-18T13:07:41.997Z"
   },
   {
    "duration": 125,
    "start_time": "2022-08-18T13:07:42.006Z"
   },
   {
    "duration": 10,
    "start_time": "2022-08-18T13:07:42.133Z"
   },
   {
    "duration": 112,
    "start_time": "2022-08-18T13:07:42.149Z"
   },
   {
    "duration": 23,
    "start_time": "2022-08-18T13:07:42.262Z"
   },
   {
    "duration": 8,
    "start_time": "2022-08-18T13:07:42.287Z"
   },
   {
    "duration": 103,
    "start_time": "2022-08-18T13:07:42.296Z"
   },
   {
    "duration": 8,
    "start_time": "2022-08-18T13:07:42.400Z"
   },
   {
    "duration": 176,
    "start_time": "2022-08-18T13:07:42.409Z"
   },
   {
    "duration": 7,
    "start_time": "2022-08-18T13:07:42.586Z"
   },
   {
    "duration": 10,
    "start_time": "2022-08-18T13:07:42.594Z"
   },
   {
    "duration": 20,
    "start_time": "2022-08-18T13:07:42.606Z"
   },
   {
    "duration": 6,
    "start_time": "2022-08-18T13:07:42.627Z"
   },
   {
    "duration": 22,
    "start_time": "2022-08-18T13:07:42.634Z"
   },
   {
    "duration": 354,
    "start_time": "2022-08-18T13:07:42.658Z"
   },
   {
    "duration": 9,
    "start_time": "2022-08-18T13:07:43.013Z"
   },
   {
    "duration": 29,
    "start_time": "2022-08-18T13:07:43.023Z"
   },
   {
    "duration": 58,
    "start_time": "2022-08-18T13:07:43.054Z"
   },
   {
    "duration": 27,
    "start_time": "2022-08-18T13:07:43.114Z"
   },
   {
    "duration": 16,
    "start_time": "2022-08-18T13:07:43.143Z"
   },
   {
    "duration": 12,
    "start_time": "2022-08-18T13:07:43.185Z"
   },
   {
    "duration": 10,
    "start_time": "2022-08-18T13:07:43.198Z"
   },
   {
    "duration": 322,
    "start_time": "2022-08-18T13:07:43.210Z"
   },
   {
    "duration": 305,
    "start_time": "2022-08-18T13:07:43.533Z"
   },
   {
    "duration": 308,
    "start_time": "2022-08-18T13:07:43.839Z"
   },
   {
    "duration": 393,
    "start_time": "2022-08-18T13:07:44.148Z"
   },
   {
    "duration": 14,
    "start_time": "2022-08-18T13:07:44.543Z"
   },
   {
    "duration": 271,
    "start_time": "2022-08-18T13:07:44.559Z"
   },
   {
    "duration": 260,
    "start_time": "2022-08-18T13:07:44.832Z"
   },
   {
    "duration": 9,
    "start_time": "2022-08-18T13:07:45.094Z"
   },
   {
    "duration": 97,
    "start_time": "2022-08-18T13:07:45.105Z"
   },
   {
    "duration": 10,
    "start_time": "2022-08-18T13:07:45.204Z"
   },
   {
    "duration": 94,
    "start_time": "2022-08-18T13:07:45.215Z"
   },
   {
    "duration": 190,
    "start_time": "2022-08-18T13:07:45.310Z"
   },
   {
    "duration": 295,
    "start_time": "2022-08-18T13:07:45.501Z"
   },
   {
    "duration": 12,
    "start_time": "2022-08-18T13:07:45.797Z"
   },
   {
    "duration": 163,
    "start_time": "2022-08-18T13:07:45.811Z"
   },
   {
    "duration": 269,
    "start_time": "2022-08-18T13:07:45.975Z"
   },
   {
    "duration": 140,
    "start_time": "2022-08-18T13:07:46.246Z"
   },
   {
    "duration": 141,
    "start_time": "2022-08-18T13:07:46.388Z"
   },
   {
    "duration": 137,
    "start_time": "2022-08-18T13:07:46.530Z"
   },
   {
    "duration": 164,
    "start_time": "2022-08-18T13:07:46.669Z"
   },
   {
    "duration": 162,
    "start_time": "2022-08-18T13:07:46.834Z"
   },
   {
    "duration": 161,
    "start_time": "2022-08-18T13:07:46.997Z"
   },
   {
    "duration": 37,
    "start_time": "2022-08-18T13:07:47.160Z"
   },
   {
    "duration": 162,
    "start_time": "2022-08-18T13:07:47.199Z"
   },
   {
    "duration": 142,
    "start_time": "2022-08-18T13:31:23.770Z"
   },
   {
    "duration": 153,
    "start_time": "2022-08-18T13:34:51.551Z"
   },
   {
    "duration": 905,
    "start_time": "2022-08-18T14:30:35.944Z"
   },
   {
    "duration": 901,
    "start_time": "2022-08-18T14:30:40.089Z"
   },
   {
    "duration": 913,
    "start_time": "2022-08-18T14:32:37.549Z"
   },
   {
    "duration": 12,
    "start_time": "2022-08-18T14:33:35.372Z"
   },
   {
    "duration": 994,
    "start_time": "2022-08-18T14:35:38.428Z"
   },
   {
    "duration": 921,
    "start_time": "2022-08-18T14:36:00.699Z"
   },
   {
    "duration": 866,
    "start_time": "2022-08-18T14:36:11.404Z"
   },
   {
    "duration": 1026,
    "start_time": "2022-08-18T14:37:14.342Z"
   },
   {
    "duration": 11,
    "start_time": "2022-08-18T14:37:27.920Z"
   },
   {
    "duration": 991,
    "start_time": "2022-08-18T14:38:55.400Z"
   },
   {
    "duration": 950,
    "start_time": "2022-08-18T14:38:59.774Z"
   },
   {
    "duration": 73,
    "start_time": "2022-08-18T14:43:20.646Z"
   },
   {
    "duration": 487,
    "start_time": "2022-08-18T14:43:57.931Z"
   },
   {
    "duration": 2224,
    "start_time": "2022-08-18T14:43:58.420Z"
   },
   {
    "duration": 12,
    "start_time": "2022-08-18T14:44:00.645Z"
   },
   {
    "duration": 9,
    "start_time": "2022-08-18T14:44:00.659Z"
   },
   {
    "duration": 10,
    "start_time": "2022-08-18T14:44:00.669Z"
   },
   {
    "duration": 167,
    "start_time": "2022-08-18T14:44:00.681Z"
   },
   {
    "duration": 6,
    "start_time": "2022-08-18T14:44:00.849Z"
   },
   {
    "duration": 14,
    "start_time": "2022-08-18T14:44:00.856Z"
   },
   {
    "duration": 23,
    "start_time": "2022-08-18T14:44:00.871Z"
   },
   {
    "duration": 16,
    "start_time": "2022-08-18T14:44:00.896Z"
   },
   {
    "duration": 17,
    "start_time": "2022-08-18T14:44:00.914Z"
   },
   {
    "duration": 6,
    "start_time": "2022-08-18T14:44:00.933Z"
   },
   {
    "duration": 1075,
    "start_time": "2022-08-18T14:44:00.940Z"
   },
   {
    "duration": 82,
    "start_time": "2022-08-18T14:44:02.016Z"
   },
   {
    "duration": 0,
    "start_time": "2022-08-18T14:44:02.100Z"
   },
   {
    "duration": 0,
    "start_time": "2022-08-18T14:44:02.102Z"
   },
   {
    "duration": 0,
    "start_time": "2022-08-18T14:44:02.103Z"
   },
   {
    "duration": 0,
    "start_time": "2022-08-18T14:44:02.104Z"
   },
   {
    "duration": 0,
    "start_time": "2022-08-18T14:44:02.105Z"
   },
   {
    "duration": 0,
    "start_time": "2022-08-18T14:44:02.106Z"
   },
   {
    "duration": 0,
    "start_time": "2022-08-18T14:44:02.108Z"
   },
   {
    "duration": 0,
    "start_time": "2022-08-18T14:44:02.109Z"
   },
   {
    "duration": 0,
    "start_time": "2022-08-18T14:44:02.111Z"
   },
   {
    "duration": 0,
    "start_time": "2022-08-18T14:44:02.122Z"
   },
   {
    "duration": 0,
    "start_time": "2022-08-18T14:44:02.123Z"
   },
   {
    "duration": 0,
    "start_time": "2022-08-18T14:44:02.124Z"
   },
   {
    "duration": 0,
    "start_time": "2022-08-18T14:44:02.125Z"
   },
   {
    "duration": 0,
    "start_time": "2022-08-18T14:44:02.127Z"
   },
   {
    "duration": 0,
    "start_time": "2022-08-18T14:44:02.128Z"
   },
   {
    "duration": 0,
    "start_time": "2022-08-18T14:44:02.129Z"
   },
   {
    "duration": 0,
    "start_time": "2022-08-18T14:44:02.130Z"
   },
   {
    "duration": 0,
    "start_time": "2022-08-18T14:44:02.132Z"
   },
   {
    "duration": 0,
    "start_time": "2022-08-18T14:44:02.133Z"
   },
   {
    "duration": 0,
    "start_time": "2022-08-18T14:44:02.135Z"
   },
   {
    "duration": 0,
    "start_time": "2022-08-18T14:44:02.136Z"
   },
   {
    "duration": 0,
    "start_time": "2022-08-18T14:44:02.138Z"
   },
   {
    "duration": 0,
    "start_time": "2022-08-18T14:44:02.185Z"
   },
   {
    "duration": 0,
    "start_time": "2022-08-18T14:44:02.186Z"
   },
   {
    "duration": 0,
    "start_time": "2022-08-18T14:44:02.187Z"
   },
   {
    "duration": 0,
    "start_time": "2022-08-18T14:44:02.189Z"
   },
   {
    "duration": 0,
    "start_time": "2022-08-18T14:44:02.190Z"
   },
   {
    "duration": 0,
    "start_time": "2022-08-18T14:44:02.191Z"
   },
   {
    "duration": 0,
    "start_time": "2022-08-18T14:44:02.193Z"
   },
   {
    "duration": 0,
    "start_time": "2022-08-18T14:44:02.194Z"
   },
   {
    "duration": 0,
    "start_time": "2022-08-18T14:44:02.195Z"
   },
   {
    "duration": 0,
    "start_time": "2022-08-18T14:44:02.196Z"
   },
   {
    "duration": 0,
    "start_time": "2022-08-18T14:44:02.197Z"
   },
   {
    "duration": 0,
    "start_time": "2022-08-18T14:44:02.198Z"
   },
   {
    "duration": 0,
    "start_time": "2022-08-18T14:44:02.199Z"
   },
   {
    "duration": 0,
    "start_time": "2022-08-18T14:44:02.200Z"
   },
   {
    "duration": 0,
    "start_time": "2022-08-18T14:44:02.202Z"
   },
   {
    "duration": 0,
    "start_time": "2022-08-18T14:44:02.203Z"
   },
   {
    "duration": 0,
    "start_time": "2022-08-18T14:44:02.205Z"
   },
   {
    "duration": 0,
    "start_time": "2022-08-18T14:44:02.206Z"
   },
   {
    "duration": 0,
    "start_time": "2022-08-18T14:44:02.207Z"
   },
   {
    "duration": 0,
    "start_time": "2022-08-18T14:44:02.208Z"
   },
   {
    "duration": 0,
    "start_time": "2022-08-18T14:44:02.210Z"
   },
   {
    "duration": 0,
    "start_time": "2022-08-18T14:44:02.211Z"
   },
   {
    "duration": 0,
    "start_time": "2022-08-18T14:44:02.212Z"
   },
   {
    "duration": 0,
    "start_time": "2022-08-18T14:44:02.214Z"
   },
   {
    "duration": 0,
    "start_time": "2022-08-18T14:44:02.215Z"
   },
   {
    "duration": 0,
    "start_time": "2022-08-18T14:44:02.217Z"
   },
   {
    "duration": 0,
    "start_time": "2022-08-18T14:44:02.218Z"
   },
   {
    "duration": 0,
    "start_time": "2022-08-18T14:44:02.219Z"
   },
   {
    "duration": 0,
    "start_time": "2022-08-18T14:44:02.220Z"
   },
   {
    "duration": 0,
    "start_time": "2022-08-18T14:44:02.222Z"
   },
   {
    "duration": 0,
    "start_time": "2022-08-18T14:44:02.223Z"
   },
   {
    "duration": 0,
    "start_time": "2022-08-18T14:44:02.224Z"
   },
   {
    "duration": 0,
    "start_time": "2022-08-18T14:44:02.284Z"
   },
   {
    "duration": 0,
    "start_time": "2022-08-18T14:44:02.286Z"
   },
   {
    "duration": 0,
    "start_time": "2022-08-18T14:44:02.288Z"
   },
   {
    "duration": 0,
    "start_time": "2022-08-18T14:44:02.289Z"
   },
   {
    "duration": 0,
    "start_time": "2022-08-18T14:44:02.290Z"
   },
   {
    "duration": 13,
    "start_time": "2022-08-18T14:44:40.660Z"
   },
   {
    "duration": 11,
    "start_time": "2022-08-18T14:45:26.404Z"
   },
   {
    "duration": 33,
    "start_time": "2022-08-18T14:46:27.880Z"
   },
   {
    "duration": 5,
    "start_time": "2022-08-18T14:46:31.983Z"
   },
   {
    "duration": 133,
    "start_time": "2022-08-18T14:48:34.532Z"
   },
   {
    "duration": 2034,
    "start_time": "2022-08-18T14:48:34.667Z"
   },
   {
    "duration": 10,
    "start_time": "2022-08-18T14:48:36.703Z"
   },
   {
    "duration": 4,
    "start_time": "2022-08-18T14:48:36.715Z"
   },
   {
    "duration": 9,
    "start_time": "2022-08-18T14:48:36.722Z"
   },
   {
    "duration": 190,
    "start_time": "2022-08-18T14:48:36.732Z"
   },
   {
    "duration": 6,
    "start_time": "2022-08-18T14:48:36.924Z"
   },
   {
    "duration": 10,
    "start_time": "2022-08-18T14:48:36.931Z"
   },
   {
    "duration": 14,
    "start_time": "2022-08-18T14:48:36.942Z"
   },
   {
    "duration": 34,
    "start_time": "2022-08-18T14:48:36.957Z"
   },
   {
    "duration": 6,
    "start_time": "2022-08-18T14:48:36.993Z"
   },
   {
    "duration": 10,
    "start_time": "2022-08-18T14:48:37.001Z"
   },
   {
    "duration": 1128,
    "start_time": "2022-08-18T14:48:37.013Z"
   },
   {
    "duration": 9,
    "start_time": "2022-08-18T14:48:38.144Z"
   },
   {
    "duration": 0,
    "start_time": "2022-08-18T14:48:38.156Z"
   },
   {
    "duration": 0,
    "start_time": "2022-08-18T14:48:38.157Z"
   },
   {
    "duration": 0,
    "start_time": "2022-08-18T14:48:38.159Z"
   },
   {
    "duration": 0,
    "start_time": "2022-08-18T14:48:38.161Z"
   },
   {
    "duration": 0,
    "start_time": "2022-08-18T14:48:38.184Z"
   },
   {
    "duration": 0,
    "start_time": "2022-08-18T14:48:38.185Z"
   },
   {
    "duration": 0,
    "start_time": "2022-08-18T14:48:38.186Z"
   },
   {
    "duration": 0,
    "start_time": "2022-08-18T14:48:38.187Z"
   },
   {
    "duration": 0,
    "start_time": "2022-08-18T14:48:38.188Z"
   },
   {
    "duration": 0,
    "start_time": "2022-08-18T14:48:38.189Z"
   },
   {
    "duration": 0,
    "start_time": "2022-08-18T14:48:38.190Z"
   },
   {
    "duration": 0,
    "start_time": "2022-08-18T14:48:38.191Z"
   },
   {
    "duration": 0,
    "start_time": "2022-08-18T14:48:38.192Z"
   },
   {
    "duration": 0,
    "start_time": "2022-08-18T14:48:38.193Z"
   },
   {
    "duration": 0,
    "start_time": "2022-08-18T14:48:38.194Z"
   },
   {
    "duration": 0,
    "start_time": "2022-08-18T14:48:38.195Z"
   },
   {
    "duration": 0,
    "start_time": "2022-08-18T14:48:38.196Z"
   },
   {
    "duration": 0,
    "start_time": "2022-08-18T14:48:38.197Z"
   },
   {
    "duration": 0,
    "start_time": "2022-08-18T14:48:38.198Z"
   },
   {
    "duration": 0,
    "start_time": "2022-08-18T14:48:38.199Z"
   },
   {
    "duration": 0,
    "start_time": "2022-08-18T14:48:38.200Z"
   },
   {
    "duration": 0,
    "start_time": "2022-08-18T14:48:38.201Z"
   },
   {
    "duration": 0,
    "start_time": "2022-08-18T14:48:38.202Z"
   },
   {
    "duration": 0,
    "start_time": "2022-08-18T14:48:38.203Z"
   },
   {
    "duration": 0,
    "start_time": "2022-08-18T14:48:38.204Z"
   },
   {
    "duration": 0,
    "start_time": "2022-08-18T14:48:38.205Z"
   },
   {
    "duration": 0,
    "start_time": "2022-08-18T14:48:38.207Z"
   },
   {
    "duration": 0,
    "start_time": "2022-08-18T14:48:38.208Z"
   },
   {
    "duration": 0,
    "start_time": "2022-08-18T14:48:38.209Z"
   },
   {
    "duration": 0,
    "start_time": "2022-08-18T14:48:38.210Z"
   },
   {
    "duration": 0,
    "start_time": "2022-08-18T14:48:38.211Z"
   },
   {
    "duration": 0,
    "start_time": "2022-08-18T14:48:38.212Z"
   },
   {
    "duration": 0,
    "start_time": "2022-08-18T14:48:38.213Z"
   },
   {
    "duration": 0,
    "start_time": "2022-08-18T14:48:38.214Z"
   },
   {
    "duration": 0,
    "start_time": "2022-08-18T14:48:38.215Z"
   },
   {
    "duration": 0,
    "start_time": "2022-08-18T14:48:38.215Z"
   },
   {
    "duration": 0,
    "start_time": "2022-08-18T14:48:38.216Z"
   },
   {
    "duration": 0,
    "start_time": "2022-08-18T14:48:38.218Z"
   },
   {
    "duration": 0,
    "start_time": "2022-08-18T14:48:38.219Z"
   },
   {
    "duration": 0,
    "start_time": "2022-08-18T14:48:38.220Z"
   },
   {
    "duration": 0,
    "start_time": "2022-08-18T14:48:38.221Z"
   },
   {
    "duration": 0,
    "start_time": "2022-08-18T14:48:38.222Z"
   },
   {
    "duration": 0,
    "start_time": "2022-08-18T14:48:38.223Z"
   },
   {
    "duration": 0,
    "start_time": "2022-08-18T14:48:38.286Z"
   },
   {
    "duration": 0,
    "start_time": "2022-08-18T14:48:38.287Z"
   },
   {
    "duration": 0,
    "start_time": "2022-08-18T14:48:38.289Z"
   },
   {
    "duration": 0,
    "start_time": "2022-08-18T14:48:38.290Z"
   },
   {
    "duration": 0,
    "start_time": "2022-08-18T14:48:38.291Z"
   },
   {
    "duration": 0,
    "start_time": "2022-08-18T14:48:38.293Z"
   },
   {
    "duration": 0,
    "start_time": "2022-08-18T14:48:38.294Z"
   },
   {
    "duration": 0,
    "start_time": "2022-08-18T14:48:38.296Z"
   },
   {
    "duration": 0,
    "start_time": "2022-08-18T14:48:38.297Z"
   },
   {
    "duration": 0,
    "start_time": "2022-08-18T14:48:38.299Z"
   },
   {
    "duration": 0,
    "start_time": "2022-08-18T14:48:38.300Z"
   },
   {
    "duration": 0,
    "start_time": "2022-08-18T14:48:38.301Z"
   },
   {
    "duration": 0,
    "start_time": "2022-08-18T14:48:38.303Z"
   },
   {
    "duration": 0,
    "start_time": "2022-08-18T14:48:38.304Z"
   },
   {
    "duration": 0,
    "start_time": "2022-08-18T14:48:38.305Z"
   },
   {
    "duration": 1,
    "start_time": "2022-08-18T14:48:38.306Z"
   },
   {
    "duration": 14,
    "start_time": "2022-08-18T14:49:15.135Z"
   },
   {
    "duration": 17,
    "start_time": "2022-08-18T14:49:46.143Z"
   },
   {
    "duration": 103,
    "start_time": "2022-08-18T14:49:53.428Z"
   },
   {
    "duration": 2074,
    "start_time": "2022-08-18T14:49:53.532Z"
   },
   {
    "duration": 12,
    "start_time": "2022-08-18T14:49:55.608Z"
   },
   {
    "duration": 5,
    "start_time": "2022-08-18T14:49:55.621Z"
   },
   {
    "duration": 9,
    "start_time": "2022-08-18T14:49:55.628Z"
   },
   {
    "duration": 196,
    "start_time": "2022-08-18T14:49:55.638Z"
   },
   {
    "duration": 5,
    "start_time": "2022-08-18T14:49:55.835Z"
   },
   {
    "duration": 40,
    "start_time": "2022-08-18T14:49:55.841Z"
   },
   {
    "duration": 15,
    "start_time": "2022-08-18T14:49:55.882Z"
   },
   {
    "duration": 11,
    "start_time": "2022-08-18T14:49:55.898Z"
   },
   {
    "duration": 5,
    "start_time": "2022-08-18T14:49:55.911Z"
   },
   {
    "duration": 13,
    "start_time": "2022-08-18T14:49:55.917Z"
   },
   {
    "duration": 1061,
    "start_time": "2022-08-18T14:49:55.931Z"
   },
   {
    "duration": 8,
    "start_time": "2022-08-18T14:49:56.995Z"
   },
   {
    "duration": 0,
    "start_time": "2022-08-18T14:49:57.006Z"
   },
   {
    "duration": 0,
    "start_time": "2022-08-18T14:49:57.007Z"
   },
   {
    "duration": 0,
    "start_time": "2022-08-18T14:49:57.008Z"
   },
   {
    "duration": 0,
    "start_time": "2022-08-18T14:49:57.009Z"
   },
   {
    "duration": 0,
    "start_time": "2022-08-18T14:49:57.010Z"
   },
   {
    "duration": 0,
    "start_time": "2022-08-18T14:49:57.011Z"
   },
   {
    "duration": 0,
    "start_time": "2022-08-18T14:49:57.012Z"
   },
   {
    "duration": 0,
    "start_time": "2022-08-18T14:49:57.013Z"
   },
   {
    "duration": 0,
    "start_time": "2022-08-18T14:49:57.014Z"
   },
   {
    "duration": 0,
    "start_time": "2022-08-18T14:49:57.015Z"
   },
   {
    "duration": 0,
    "start_time": "2022-08-18T14:49:57.016Z"
   },
   {
    "duration": 0,
    "start_time": "2022-08-18T14:49:57.017Z"
   },
   {
    "duration": 0,
    "start_time": "2022-08-18T14:49:57.018Z"
   },
   {
    "duration": 0,
    "start_time": "2022-08-18T14:49:57.019Z"
   },
   {
    "duration": 0,
    "start_time": "2022-08-18T14:49:57.020Z"
   },
   {
    "duration": 0,
    "start_time": "2022-08-18T14:49:57.021Z"
   },
   {
    "duration": 0,
    "start_time": "2022-08-18T14:49:57.022Z"
   },
   {
    "duration": 0,
    "start_time": "2022-08-18T14:49:57.023Z"
   },
   {
    "duration": 0,
    "start_time": "2022-08-18T14:49:57.024Z"
   },
   {
    "duration": 0,
    "start_time": "2022-08-18T14:49:57.025Z"
   },
   {
    "duration": 0,
    "start_time": "2022-08-18T14:49:57.026Z"
   },
   {
    "duration": 0,
    "start_time": "2022-08-18T14:49:57.027Z"
   },
   {
    "duration": 0,
    "start_time": "2022-08-18T14:49:57.028Z"
   },
   {
    "duration": 0,
    "start_time": "2022-08-18T14:49:57.029Z"
   },
   {
    "duration": 0,
    "start_time": "2022-08-18T14:49:57.030Z"
   },
   {
    "duration": 0,
    "start_time": "2022-08-18T14:49:57.031Z"
   },
   {
    "duration": 0,
    "start_time": "2022-08-18T14:49:57.031Z"
   },
   {
    "duration": 0,
    "start_time": "2022-08-18T14:49:57.032Z"
   },
   {
    "duration": 0,
    "start_time": "2022-08-18T14:49:57.033Z"
   },
   {
    "duration": 0,
    "start_time": "2022-08-18T14:49:57.034Z"
   },
   {
    "duration": 0,
    "start_time": "2022-08-18T14:49:57.085Z"
   },
   {
    "duration": 0,
    "start_time": "2022-08-18T14:49:57.086Z"
   },
   {
    "duration": 0,
    "start_time": "2022-08-18T14:49:57.087Z"
   },
   {
    "duration": 0,
    "start_time": "2022-08-18T14:49:57.088Z"
   },
   {
    "duration": 0,
    "start_time": "2022-08-18T14:49:57.089Z"
   },
   {
    "duration": 0,
    "start_time": "2022-08-18T14:49:57.090Z"
   },
   {
    "duration": 0,
    "start_time": "2022-08-18T14:49:57.091Z"
   },
   {
    "duration": 0,
    "start_time": "2022-08-18T14:49:57.092Z"
   },
   {
    "duration": 1,
    "start_time": "2022-08-18T14:49:57.093Z"
   },
   {
    "duration": 1,
    "start_time": "2022-08-18T14:49:57.094Z"
   },
   {
    "duration": 0,
    "start_time": "2022-08-18T14:49:57.096Z"
   },
   {
    "duration": 0,
    "start_time": "2022-08-18T14:49:57.097Z"
   },
   {
    "duration": 0,
    "start_time": "2022-08-18T14:49:57.098Z"
   },
   {
    "duration": 0,
    "start_time": "2022-08-18T14:49:57.099Z"
   },
   {
    "duration": 0,
    "start_time": "2022-08-18T14:49:57.100Z"
   },
   {
    "duration": 0,
    "start_time": "2022-08-18T14:49:57.102Z"
   },
   {
    "duration": 0,
    "start_time": "2022-08-18T14:49:57.103Z"
   },
   {
    "duration": 0,
    "start_time": "2022-08-18T14:49:57.104Z"
   },
   {
    "duration": 0,
    "start_time": "2022-08-18T14:49:57.105Z"
   },
   {
    "duration": 0,
    "start_time": "2022-08-18T14:49:57.106Z"
   },
   {
    "duration": 0,
    "start_time": "2022-08-18T14:49:57.107Z"
   },
   {
    "duration": 0,
    "start_time": "2022-08-18T14:49:57.108Z"
   },
   {
    "duration": 0,
    "start_time": "2022-08-18T14:49:57.109Z"
   },
   {
    "duration": 0,
    "start_time": "2022-08-18T14:49:57.109Z"
   },
   {
    "duration": 0,
    "start_time": "2022-08-18T14:49:57.110Z"
   },
   {
    "duration": 0,
    "start_time": "2022-08-18T14:49:57.111Z"
   },
   {
    "duration": 0,
    "start_time": "2022-08-18T14:49:57.112Z"
   },
   {
    "duration": 0,
    "start_time": "2022-08-18T14:49:57.113Z"
   },
   {
    "duration": 0,
    "start_time": "2022-08-18T14:49:57.114Z"
   },
   {
    "duration": 105,
    "start_time": "2022-08-18T14:53:15.327Z"
   },
   {
    "duration": 2061,
    "start_time": "2022-08-18T14:53:15.434Z"
   },
   {
    "duration": 11,
    "start_time": "2022-08-18T14:53:17.498Z"
   },
   {
    "duration": 4,
    "start_time": "2022-08-18T14:53:17.511Z"
   },
   {
    "duration": 7,
    "start_time": "2022-08-18T14:53:17.517Z"
   },
   {
    "duration": 186,
    "start_time": "2022-08-18T14:53:17.525Z"
   },
   {
    "duration": 5,
    "start_time": "2022-08-18T14:53:17.714Z"
   },
   {
    "duration": 36,
    "start_time": "2022-08-18T14:53:17.721Z"
   },
   {
    "duration": 23,
    "start_time": "2022-08-18T14:53:17.759Z"
   },
   {
    "duration": 16,
    "start_time": "2022-08-18T14:53:17.783Z"
   },
   {
    "duration": 15,
    "start_time": "2022-08-18T14:53:17.801Z"
   },
   {
    "duration": 8,
    "start_time": "2022-08-18T14:53:17.818Z"
   },
   {
    "duration": 1127,
    "start_time": "2022-08-18T14:53:17.827Z"
   },
   {
    "duration": 6,
    "start_time": "2022-08-18T14:53:18.957Z"
   },
   {
    "duration": 21,
    "start_time": "2022-08-18T14:53:18.964Z"
   },
   {
    "duration": 5,
    "start_time": "2022-08-18T14:53:18.987Z"
   },
   {
    "duration": 8,
    "start_time": "2022-08-18T14:53:18.993Z"
   },
   {
    "duration": 6,
    "start_time": "2022-08-18T14:53:19.003Z"
   },
   {
    "duration": 37,
    "start_time": "2022-08-18T14:53:19.010Z"
   },
   {
    "duration": 151,
    "start_time": "2022-08-18T14:53:19.048Z"
   },
   {
    "duration": 24,
    "start_time": "2022-08-18T14:53:19.201Z"
   },
   {
    "duration": 11,
    "start_time": "2022-08-18T14:53:19.227Z"
   },
   {
    "duration": 115,
    "start_time": "2022-08-18T14:53:19.240Z"
   },
   {
    "duration": 9,
    "start_time": "2022-08-18T14:53:19.357Z"
   },
   {
    "duration": 19,
    "start_time": "2022-08-18T14:53:19.368Z"
   },
   {
    "duration": 112,
    "start_time": "2022-08-18T14:53:19.389Z"
   },
   {
    "duration": 10,
    "start_time": "2022-08-18T14:53:19.503Z"
   },
   {
    "duration": 117,
    "start_time": "2022-08-18T14:53:19.515Z"
   },
   {
    "duration": 12,
    "start_time": "2022-08-18T14:53:19.634Z"
   },
   {
    "duration": 8,
    "start_time": "2022-08-18T14:53:19.647Z"
   },
   {
    "duration": 133,
    "start_time": "2022-08-18T14:53:19.657Z"
   },
   {
    "duration": 9,
    "start_time": "2022-08-18T14:53:19.791Z"
   },
   {
    "duration": 113,
    "start_time": "2022-08-18T14:53:19.801Z"
   },
   {
    "duration": 7,
    "start_time": "2022-08-18T14:53:19.916Z"
   },
   {
    "duration": 11,
    "start_time": "2022-08-18T14:53:19.925Z"
   },
   {
    "duration": 19,
    "start_time": "2022-08-18T14:53:19.937Z"
   },
   {
    "duration": 27,
    "start_time": "2022-08-18T14:53:19.958Z"
   },
   {
    "duration": 31,
    "start_time": "2022-08-18T14:53:19.987Z"
   },
   {
    "duration": 464,
    "start_time": "2022-08-18T14:53:20.020Z"
   },
   {
    "duration": 8,
    "start_time": "2022-08-18T14:53:20.486Z"
   },
   {
    "duration": 32,
    "start_time": "2022-08-18T14:53:20.498Z"
   },
   {
    "duration": 40,
    "start_time": "2022-08-18T14:53:20.532Z"
   },
   {
    "duration": 28,
    "start_time": "2022-08-18T14:53:20.585Z"
   },
   {
    "duration": 15,
    "start_time": "2022-08-18T14:53:20.615Z"
   },
   {
    "duration": 11,
    "start_time": "2022-08-18T14:53:20.632Z"
   },
   {
    "duration": 10,
    "start_time": "2022-08-18T14:53:20.644Z"
   },
   {
    "duration": 377,
    "start_time": "2022-08-18T14:53:20.655Z"
   },
   {
    "duration": 306,
    "start_time": "2022-08-18T14:53:21.034Z"
   },
   {
    "duration": 305,
    "start_time": "2022-08-18T14:53:21.341Z"
   },
   {
    "duration": 294,
    "start_time": "2022-08-18T14:53:21.647Z"
   },
   {
    "duration": 11,
    "start_time": "2022-08-18T14:53:21.943Z"
   },
   {
    "duration": 268,
    "start_time": "2022-08-18T14:53:21.955Z"
   },
   {
    "duration": 249,
    "start_time": "2022-08-18T14:53:22.225Z"
   },
   {
    "duration": 11,
    "start_time": "2022-08-18T14:53:22.476Z"
   },
   {
    "duration": 75,
    "start_time": "2022-08-18T14:53:22.489Z"
   },
   {
    "duration": 24,
    "start_time": "2022-08-18T14:53:22.565Z"
   },
   {
    "duration": 101,
    "start_time": "2022-08-18T14:53:22.590Z"
   },
   {
    "duration": 395,
    "start_time": "2022-08-18T14:53:22.692Z"
   },
   {
    "duration": 298,
    "start_time": "2022-08-18T14:53:23.088Z"
   },
   {
    "duration": 10,
    "start_time": "2022-08-18T14:53:23.388Z"
   },
   {
    "duration": 148,
    "start_time": "2022-08-18T14:53:23.399Z"
   },
   {
    "duration": 156,
    "start_time": "2022-08-18T14:53:23.549Z"
   },
   {
    "duration": 148,
    "start_time": "2022-08-18T14:53:23.707Z"
   },
   {
    "duration": 161,
    "start_time": "2022-08-18T14:53:23.857Z"
   },
   {
    "duration": 139,
    "start_time": "2022-08-18T14:53:24.019Z"
   },
   {
    "duration": 161,
    "start_time": "2022-08-18T14:53:24.160Z"
   },
   {
    "duration": 184,
    "start_time": "2022-08-18T14:53:24.323Z"
   },
   {
    "duration": 176,
    "start_time": "2022-08-18T14:53:24.510Z"
   },
   {
    "duration": 144,
    "start_time": "2022-08-18T14:53:24.688Z"
   },
   {
    "duration": 146,
    "start_time": "2022-08-18T14:53:24.834Z"
   },
   {
    "duration": 24,
    "start_time": "2022-08-18T14:53:24.984Z"
   },
   {
    "duration": 158,
    "start_time": "2022-08-18T14:53:25.010Z"
   },
   {
    "duration": 972,
    "start_time": "2022-08-18T14:55:44.059Z"
   },
   {
    "duration": 12,
    "start_time": "2022-08-18T14:56:28.843Z"
   },
   {
    "duration": 1056,
    "start_time": "2022-08-18T14:57:10.569Z"
   },
   {
    "duration": 1019,
    "start_time": "2022-08-18T15:01:56.511Z"
   },
   {
    "duration": 523,
    "start_time": "2022-08-18T18:45:38.183Z"
   },
   {
    "duration": 2162,
    "start_time": "2022-08-18T18:45:38.708Z"
   },
   {
    "duration": 11,
    "start_time": "2022-08-18T18:45:40.872Z"
   },
   {
    "duration": 7,
    "start_time": "2022-08-18T18:45:40.885Z"
   },
   {
    "duration": 10,
    "start_time": "2022-08-18T18:45:40.893Z"
   },
   {
    "duration": 164,
    "start_time": "2022-08-18T18:45:40.905Z"
   },
   {
    "duration": 5,
    "start_time": "2022-08-18T18:45:41.071Z"
   },
   {
    "duration": 11,
    "start_time": "2022-08-18T18:45:41.077Z"
   },
   {
    "duration": 14,
    "start_time": "2022-08-18T18:45:41.099Z"
   },
   {
    "duration": 15,
    "start_time": "2022-08-18T18:45:41.115Z"
   },
   {
    "duration": 5,
    "start_time": "2022-08-18T18:45:41.132Z"
   },
   {
    "duration": 5,
    "start_time": "2022-08-18T18:45:41.138Z"
   },
   {
    "duration": 1096,
    "start_time": "2022-08-18T18:45:41.144Z"
   },
   {
    "duration": 1134,
    "start_time": "2022-08-18T18:45:42.242Z"
   },
   {
    "duration": 5,
    "start_time": "2022-08-18T18:45:43.378Z"
   },
   {
    "duration": 5,
    "start_time": "2022-08-18T18:45:43.399Z"
   },
   {
    "duration": 6,
    "start_time": "2022-08-18T18:45:43.406Z"
   },
   {
    "duration": 7,
    "start_time": "2022-08-18T18:45:43.414Z"
   },
   {
    "duration": 10,
    "start_time": "2022-08-18T18:45:43.422Z"
   },
   {
    "duration": 32,
    "start_time": "2022-08-18T18:45:43.433Z"
   },
   {
    "duration": 109,
    "start_time": "2022-08-18T18:45:43.466Z"
   },
   {
    "duration": 35,
    "start_time": "2022-08-18T18:45:43.577Z"
   },
   {
    "duration": 9,
    "start_time": "2022-08-18T18:45:43.614Z"
   },
   {
    "duration": 114,
    "start_time": "2022-08-18T18:45:43.624Z"
   },
   {
    "duration": 11,
    "start_time": "2022-08-18T18:45:43.740Z"
   },
   {
    "duration": 8,
    "start_time": "2022-08-18T18:45:43.753Z"
   },
   {
    "duration": 122,
    "start_time": "2022-08-18T18:45:43.762Z"
   },
   {
    "duration": 21,
    "start_time": "2022-08-18T18:45:43.888Z"
   },
   {
    "duration": 113,
    "start_time": "2022-08-18T18:45:43.911Z"
   },
   {
    "duration": 10,
    "start_time": "2022-08-18T18:45:44.026Z"
   },
   {
    "duration": 9,
    "start_time": "2022-08-18T18:45:44.038Z"
   },
   {
    "duration": 98,
    "start_time": "2022-08-18T18:45:44.049Z"
   },
   {
    "duration": 8,
    "start_time": "2022-08-18T18:45:44.149Z"
   },
   {
    "duration": 188,
    "start_time": "2022-08-18T18:45:44.159Z"
   },
   {
    "duration": 7,
    "start_time": "2022-08-18T18:45:44.348Z"
   },
   {
    "duration": 30,
    "start_time": "2022-08-18T18:45:44.357Z"
   },
   {
    "duration": 21,
    "start_time": "2022-08-18T18:45:44.389Z"
   },
   {
    "duration": 4,
    "start_time": "2022-08-18T18:45:44.412Z"
   },
   {
    "duration": 21,
    "start_time": "2022-08-18T18:45:44.418Z"
   },
   {
    "duration": 286,
    "start_time": "2022-08-18T18:45:44.440Z"
   },
   {
    "duration": 7,
    "start_time": "2022-08-18T18:45:44.728Z"
   },
   {
    "duration": 28,
    "start_time": "2022-08-18T18:45:44.736Z"
   },
   {
    "duration": 45,
    "start_time": "2022-08-18T18:45:44.766Z"
   },
   {
    "duration": 22,
    "start_time": "2022-08-18T18:45:44.813Z"
   },
   {
    "duration": 13,
    "start_time": "2022-08-18T18:45:44.837Z"
   },
   {
    "duration": 7,
    "start_time": "2022-08-18T18:45:44.851Z"
   },
   {
    "duration": 6,
    "start_time": "2022-08-18T18:45:44.860Z"
   },
   {
    "duration": 314,
    "start_time": "2022-08-18T18:45:44.868Z"
   },
   {
    "duration": 291,
    "start_time": "2022-08-18T18:45:45.184Z"
   },
   {
    "duration": 294,
    "start_time": "2022-08-18T18:45:45.477Z"
   },
   {
    "duration": 369,
    "start_time": "2022-08-18T18:45:45.773Z"
   },
   {
    "duration": 12,
    "start_time": "2022-08-18T18:45:46.144Z"
   },
   {
    "duration": 263,
    "start_time": "2022-08-18T18:45:46.158Z"
   },
   {
    "duration": 251,
    "start_time": "2022-08-18T18:45:46.423Z"
   },
   {
    "duration": 10,
    "start_time": "2022-08-18T18:45:46.675Z"
   },
   {
    "duration": 79,
    "start_time": "2022-08-18T18:45:46.699Z"
   },
   {
    "duration": 26,
    "start_time": "2022-08-18T18:45:46.779Z"
   },
   {
    "duration": 81,
    "start_time": "2022-08-18T18:45:46.807Z"
   },
   {
    "duration": 217,
    "start_time": "2022-08-18T18:45:46.899Z"
   },
   {
    "duration": 364,
    "start_time": "2022-08-18T18:45:47.117Z"
   },
   {
    "duration": 18,
    "start_time": "2022-08-18T18:45:47.483Z"
   },
   {
    "duration": 157,
    "start_time": "2022-08-18T18:45:47.502Z"
   },
   {
    "duration": 255,
    "start_time": "2022-08-18T18:45:47.661Z"
   },
   {
    "duration": 138,
    "start_time": "2022-08-18T18:45:47.918Z"
   },
   {
    "duration": 151,
    "start_time": "2022-08-18T18:45:48.058Z"
   },
   {
    "duration": 136,
    "start_time": "2022-08-18T18:45:48.210Z"
   },
   {
    "duration": 162,
    "start_time": "2022-08-18T18:45:48.348Z"
   },
   {
    "duration": 158,
    "start_time": "2022-08-18T18:45:48.512Z"
   },
   {
    "duration": 146,
    "start_time": "2022-08-18T18:45:48.671Z"
   },
   {
    "duration": 138,
    "start_time": "2022-08-18T18:45:48.818Z"
   },
   {
    "duration": 163,
    "start_time": "2022-08-18T18:45:48.958Z"
   },
   {
    "duration": 27,
    "start_time": "2022-08-18T18:45:49.123Z"
   },
   {
    "duration": 153,
    "start_time": "2022-08-18T18:45:49.152Z"
   },
   {
    "duration": 7,
    "start_time": "2023-02-14T14:48:12.937Z"
   },
   {
    "duration": 9,
    "start_time": "2023-02-14T14:48:18.614Z"
   },
   {
    "duration": 606,
    "start_time": "2023-02-14T14:48:18.625Z"
   },
   {
    "duration": 2595,
    "start_time": "2023-02-14T14:48:19.233Z"
   },
   {
    "duration": 13,
    "start_time": "2023-02-14T14:48:21.830Z"
   },
   {
    "duration": 6,
    "start_time": "2023-02-14T14:48:21.845Z"
   },
   {
    "duration": 17,
    "start_time": "2023-02-14T14:48:21.853Z"
   },
   {
    "duration": 184,
    "start_time": "2023-02-14T14:48:21.872Z"
   },
   {
    "duration": 6,
    "start_time": "2023-02-14T14:48:22.057Z"
   },
   {
    "duration": 12,
    "start_time": "2023-02-14T14:48:22.065Z"
   },
   {
    "duration": 33,
    "start_time": "2023-02-14T14:48:22.079Z"
   },
   {
    "duration": 12,
    "start_time": "2023-02-14T14:48:22.114Z"
   },
   {
    "duration": 5,
    "start_time": "2023-02-14T14:48:22.128Z"
   },
   {
    "duration": 8,
    "start_time": "2023-02-14T14:48:22.135Z"
   },
   {
    "duration": 1167,
    "start_time": "2023-02-14T14:48:22.146Z"
   },
   {
    "duration": 1217,
    "start_time": "2023-02-14T14:48:23.315Z"
   },
   {
    "duration": 6,
    "start_time": "2023-02-14T14:48:24.534Z"
   },
   {
    "duration": 9,
    "start_time": "2023-02-14T14:48:24.542Z"
   },
   {
    "duration": 8,
    "start_time": "2023-02-14T14:48:24.553Z"
   },
   {
    "duration": 6,
    "start_time": "2023-02-14T14:48:24.563Z"
   },
   {
    "duration": 32,
    "start_time": "2023-02-14T14:48:24.571Z"
   },
   {
    "duration": 36,
    "start_time": "2023-02-14T14:48:24.605Z"
   },
   {
    "duration": 126,
    "start_time": "2023-02-14T14:48:24.643Z"
   },
   {
    "duration": 31,
    "start_time": "2023-02-14T14:48:24.772Z"
   },
   {
    "duration": 9,
    "start_time": "2023-02-14T14:48:24.805Z"
   },
   {
    "duration": 126,
    "start_time": "2023-02-14T14:48:24.816Z"
   },
   {
    "duration": 12,
    "start_time": "2023-02-14T14:48:24.945Z"
   },
   {
    "duration": 11,
    "start_time": "2023-02-14T14:48:24.959Z"
   },
   {
    "duration": 133,
    "start_time": "2023-02-14T14:48:24.972Z"
   },
   {
    "duration": 11,
    "start_time": "2023-02-14T14:48:25.107Z"
   },
   {
    "duration": 131,
    "start_time": "2023-02-14T14:48:25.120Z"
   },
   {
    "duration": 13,
    "start_time": "2023-02-14T14:48:25.253Z"
   },
   {
    "duration": 7,
    "start_time": "2023-02-14T14:48:25.268Z"
   },
   {
    "duration": 201,
    "start_time": "2023-02-14T14:48:25.277Z"
   },
   {
    "duration": 24,
    "start_time": "2023-02-14T14:48:25.480Z"
   },
   {
    "duration": 118,
    "start_time": "2023-02-14T14:48:25.506Z"
   },
   {
    "duration": 8,
    "start_time": "2023-02-14T14:48:25.625Z"
   },
   {
    "duration": 10,
    "start_time": "2023-02-14T14:48:25.635Z"
   },
   {
    "duration": 24,
    "start_time": "2023-02-14T14:48:25.646Z"
   },
   {
    "duration": 5,
    "start_time": "2023-02-14T14:48:25.671Z"
   },
   {
    "duration": 45,
    "start_time": "2023-02-14T14:48:25.678Z"
   },
   {
    "duration": 327,
    "start_time": "2023-02-14T14:48:25.727Z"
   },
   {
    "duration": 8,
    "start_time": "2023-02-14T14:48:26.055Z"
   },
   {
    "duration": 48,
    "start_time": "2023-02-14T14:48:26.065Z"
   },
   {
    "duration": 47,
    "start_time": "2023-02-14T14:48:26.115Z"
   },
   {
    "duration": 41,
    "start_time": "2023-02-14T14:48:26.163Z"
   },
   {
    "duration": 19,
    "start_time": "2023-02-14T14:48:26.206Z"
   },
   {
    "duration": 7,
    "start_time": "2023-02-14T14:48:26.226Z"
   },
   {
    "duration": 35,
    "start_time": "2023-02-14T14:48:26.235Z"
   },
   {
    "duration": 356,
    "start_time": "2023-02-14T14:48:26.272Z"
   },
   {
    "duration": 343,
    "start_time": "2023-02-14T14:48:26.630Z"
   },
   {
    "duration": 372,
    "start_time": "2023-02-14T14:48:26.975Z"
   },
   {
    "duration": 424,
    "start_time": "2023-02-14T14:48:27.348Z"
   },
   {
    "duration": 19,
    "start_time": "2023-02-14T14:48:27.774Z"
   },
   {
    "duration": 280,
    "start_time": "2023-02-14T14:48:27.803Z"
   },
   {
    "duration": 280,
    "start_time": "2023-02-14T14:48:28.084Z"
   },
   {
    "duration": 11,
    "start_time": "2023-02-14T14:48:28.365Z"
   },
   {
    "duration": 100,
    "start_time": "2023-02-14T14:48:28.378Z"
   },
   {
    "duration": 10,
    "start_time": "2023-02-14T14:48:28.480Z"
   },
   {
    "duration": 102,
    "start_time": "2023-02-14T14:48:28.503Z"
   },
   {
    "duration": 223,
    "start_time": "2023-02-14T14:48:28.606Z"
   },
   {
    "duration": 352,
    "start_time": "2023-02-14T14:48:28.831Z"
   },
   {
    "duration": 20,
    "start_time": "2023-02-14T14:48:29.185Z"
   },
   {
    "duration": 296,
    "start_time": "2023-02-14T14:48:29.207Z"
   },
   {
    "duration": 173,
    "start_time": "2023-02-14T14:48:29.505Z"
   },
   {
    "duration": 154,
    "start_time": "2023-02-14T14:48:29.681Z"
   },
   {
    "duration": 168,
    "start_time": "2023-02-14T14:48:29.837Z"
   },
   {
    "duration": 161,
    "start_time": "2023-02-14T14:48:30.006Z"
   },
   {
    "duration": 185,
    "start_time": "2023-02-14T14:48:30.169Z"
   },
   {
    "duration": 179,
    "start_time": "2023-02-14T14:48:30.356Z"
   },
   {
    "duration": 169,
    "start_time": "2023-02-14T14:48:30.536Z"
   },
   {
    "duration": 170,
    "start_time": "2023-02-14T14:48:30.709Z"
   },
   {
    "duration": 206,
    "start_time": "2023-02-14T14:48:30.881Z"
   },
   {
    "duration": 43,
    "start_time": "2023-02-14T14:48:31.089Z"
   },
   {
    "duration": 194,
    "start_time": "2023-02-14T14:48:31.134Z"
   },
   {
    "duration": 2901,
    "start_time": "2023-02-14T14:48:51.283Z"
   }
  ],
  "kernelspec": {
   "display_name": "Python 3 (ipykernel)",
   "language": "python",
   "name": "python3"
  },
  "language_info": {
   "codemirror_mode": {
    "name": "ipython",
    "version": 3
   },
   "file_extension": ".py",
   "mimetype": "text/x-python",
   "name": "python",
   "nbconvert_exporter": "python",
   "pygments_lexer": "ipython3",
   "version": "3.9.13"
  },
  "toc": {
   "base_numbering": 1,
   "nav_menu": {},
   "number_sections": true,
   "sideBar": true,
   "skip_h1_title": true,
   "title_cell": "Table of Contents",
   "title_sidebar": "Contents",
   "toc_cell": false,
   "toc_position": {},
   "toc_section_display": true,
   "toc_window_display": true
  }
 },
 "nbformat": 4,
 "nbformat_minor": 2
}
