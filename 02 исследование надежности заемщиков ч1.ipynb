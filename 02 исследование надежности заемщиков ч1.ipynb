{
 "cells": [
  {
   "cell_type": "markdown",
   "id": "5bc99f62",
   "metadata": {
    "deletable": false,
    "editable": false,
    "id": "c81daeeb"
   },
   "source": [
    "# Исследование надежности заемщиков"
   ]
  },
  {
   "cell_type": "markdown",
   "id": "77fa9128",
   "metadata": {
    "deletable": false,
    "editable": false,
    "id": "-G3EJWzf62s6"
   },
   "source": [
    "Это первая часть проекта, она будет проверена автоматически. Вторую часть проверит ревьюер. "
   ]
  },
  {
   "cell_type": "markdown",
   "id": "99ced0d3",
   "metadata": {
    "deletable": false,
    "editable": false,
    "id": "744d7639"
   },
   "source": [
    "## Откройте таблицу и изучите общую информацию о данных"
   ]
  },
  {
   "cell_type": "markdown",
   "id": "bf11996a",
   "metadata": {
    "deletable": false,
    "editable": false,
    "id": "e7a14c31",
    "tags": [
     "start_task"
    ]
   },
   "source": [
    "**Задание 1. Импортируйте библиотеку pandas. Считайте данные из csv-файла в датафрейм и сохраните в переменную `data`. Путь к файлу:**\n",
    "\n",
    "`/datasets/data.csv`"
   ]
  },
  {
   "cell_type": "code",
   "execution_count": 1,
   "id": "c4a83fa7",
   "metadata": {
    "id": "7bcf75c9"
   },
   "outputs": [],
   "source": [
    "import pandas as pd # импортируйте библиотеку pandas"
   ]
  },
  {
   "cell_type": "code",
   "execution_count": 2,
   "id": "e583acef",
   "metadata": {
    "id": "4d240ee2"
   },
   "outputs": [],
   "source": [
    "data = pd.read_csv('/datasets/data.csv') # прочитайте csv-файл"
   ]
  },
  {
   "cell_type": "markdown",
   "id": "20644c07",
   "metadata": {
    "deletable": false,
    "editable": false,
    "id": "b8038fe3",
    "tags": [
     "start_task"
    ]
   },
   "source": [
    "**Задание 2. Выведите первые 20 строчек датафрейма `data` на экран.**"
   ]
  },
  {
   "cell_type": "code",
   "execution_count": 3,
   "id": "b02c21ca",
   "metadata": {
    "id": "2a7cab99"
   },
   "outputs": [
    {
     "name": "stdout",
     "output_type": "stream",
     "text": [
      "    children  days_employed  dob_years            education  education_id  \\\n",
      "0          1   -8437.673028         42               высшее             0   \n",
      "1          1   -4024.803754         36              среднее             1   \n",
      "2          0   -5623.422610         33              Среднее             1   \n",
      "3          3   -4124.747207         32              среднее             1   \n",
      "4          0  340266.072047         53              среднее             1   \n",
      "5          0    -926.185831         27               высшее             0   \n",
      "6          0   -2879.202052         43               высшее             0   \n",
      "7          0    -152.779569         50              СРЕДНЕЕ             1   \n",
      "8          2   -6929.865299         35               ВЫСШЕЕ             0   \n",
      "9          0   -2188.756445         41              среднее             1   \n",
      "10         2   -4171.483647         36               высшее             0   \n",
      "11         0    -792.701887         40              среднее             1   \n",
      "12         0            NaN         65              среднее             1   \n",
      "13         0   -1846.641941         54  неоконченное высшее             2   \n",
      "14         0   -1844.956182         56               высшее             0   \n",
      "15         1    -972.364419         26              среднее             1   \n",
      "16         0   -1719.934226         35              среднее             1   \n",
      "17         0   -2369.999720         33               высшее             0   \n",
      "18         0  400281.136913         53              среднее             1   \n",
      "19         0  -10038.818549         48              СРЕДНЕЕ             1   \n",
      "\n",
      "       family_status  family_status_id gender income_type  debt  \\\n",
      "0    женат / замужем                 0      F   сотрудник     0   \n",
      "1    женат / замужем                 0      F   сотрудник     0   \n",
      "2    женат / замужем                 0      M   сотрудник     0   \n",
      "3    женат / замужем                 0      M   сотрудник     0   \n",
      "4   гражданский брак                 1      F   пенсионер     0   \n",
      "5   гражданский брак                 1      M   компаньон     0   \n",
      "6    женат / замужем                 0      F   компаньон     0   \n",
      "7    женат / замужем                 0      M   сотрудник     0   \n",
      "8   гражданский брак                 1      F   сотрудник     0   \n",
      "9    женат / замужем                 0      M   сотрудник     0   \n",
      "10   женат / замужем                 0      M   компаньон     0   \n",
      "11   женат / замужем                 0      F   сотрудник     0   \n",
      "12  гражданский брак                 1      M   пенсионер     0   \n",
      "13   женат / замужем                 0      F   сотрудник     0   \n",
      "14  гражданский брак                 1      F   компаньон     1   \n",
      "15   женат / замужем                 0      F   сотрудник     0   \n",
      "16   женат / замужем                 0      F   сотрудник     0   \n",
      "17  гражданский брак                 1      M   сотрудник     0   \n",
      "18    вдовец / вдова                 2      F   пенсионер     0   \n",
      "19         в разводе                 3      F   сотрудник     0   \n",
      "\n",
      "     total_income                                 purpose  \n",
      "0   253875.639453                           покупка жилья  \n",
      "1   112080.014102                 приобретение автомобиля  \n",
      "2   145885.952297                           покупка жилья  \n",
      "3   267628.550329              дополнительное образование  \n",
      "4   158616.077870                         сыграть свадьбу  \n",
      "5   255763.565419                           покупка жилья  \n",
      "6   240525.971920                       операции с жильем  \n",
      "7   135823.934197                             образование  \n",
      "8    95856.832424                   на проведение свадьбы  \n",
      "9   144425.938277                 покупка жилья для семьи  \n",
      "10  113943.491460                    покупка недвижимости  \n",
      "11   77069.234271       покупка коммерческой недвижимости  \n",
      "12            NaN                         сыграть свадьбу  \n",
      "13  130458.228857                 приобретение автомобиля  \n",
      "14  165127.911772              покупка жилой недвижимости  \n",
      "15  116820.904450  строительство собственной недвижимости  \n",
      "16  289202.704229                            недвижимость  \n",
      "17   90410.586745              строительство недвижимости  \n",
      "18   56823.777243      на покупку подержанного автомобиля  \n",
      "19  242831.107982            на покупку своего автомобиля  \n"
     ]
    }
   ],
   "source": [
    "print(data.head(20)) # ваш код здесь"
   ]
  },
  {
   "cell_type": "markdown",
   "id": "03522b7b",
   "metadata": {
    "deletable": false,
    "editable": false,
    "id": "1c12e233",
    "tags": [
     "start_task"
    ]
   },
   "source": [
    "**Задание 3. Выведите основную информацию о датафрейме с помощью метода `info()`.**"
   ]
  },
  {
   "cell_type": "code",
   "execution_count": 4,
   "id": "6d9297a2",
   "metadata": {
    "id": "2b757bca"
   },
   "outputs": [
    {
     "name": "stdout",
     "output_type": "stream",
     "text": [
      "<class 'pandas.core.frame.DataFrame'>\n",
      "RangeIndex: 21525 entries, 0 to 21524\n",
      "Data columns (total 12 columns):\n",
      " #   Column            Non-Null Count  Dtype  \n",
      "---  ------            --------------  -----  \n",
      " 0   children          21525 non-null  int64  \n",
      " 1   days_employed     19351 non-null  float64\n",
      " 2   dob_years         21525 non-null  int64  \n",
      " 3   education         21525 non-null  object \n",
      " 4   education_id      21525 non-null  int64  \n",
      " 5   family_status     21525 non-null  object \n",
      " 6   family_status_id  21525 non-null  int64  \n",
      " 7   gender            21525 non-null  object \n",
      " 8   income_type       21525 non-null  object \n",
      " 9   debt              21525 non-null  int64  \n",
      " 10  total_income      19351 non-null  float64\n",
      " 11  purpose           21525 non-null  object \n",
      "dtypes: float64(2), int64(5), object(5)\n",
      "memory usage: 2.0+ MB\n"
     ]
    }
   ],
   "source": [
    "data.info() # ваш код здесь"
   ]
  },
  {
   "cell_type": "markdown",
   "id": "a21463ee",
   "metadata": {
    "deletable": false,
    "editable": false,
    "id": "333ec665"
   },
   "source": [
    "## Предобработка данных"
   ]
  },
  {
   "cell_type": "markdown",
   "id": "8df1f41e",
   "metadata": {
    "deletable": false,
    "editable": false,
    "id": "02d92d53"
   },
   "source": [
    "### Удаление пропусков"
   ]
  },
  {
   "cell_type": "markdown",
   "id": "2d49e568",
   "metadata": {
    "deletable": false,
    "editable": false,
    "id": "cd84967c",
    "tags": [
     "start_task"
    ]
   },
   "source": [
    "**Задание 4. Выведите количество пропущенных значений для каждого столбца. Используйте комбинацию двух методов.**"
   ]
  },
  {
   "cell_type": "code",
   "execution_count": 5,
   "id": "d411d900",
   "metadata": {
    "id": "7f9b2309"
   },
   "outputs": [
    {
     "data": {
      "text/plain": [
       "children               0\n",
       "days_employed       2174\n",
       "dob_years              0\n",
       "education              0\n",
       "education_id           0\n",
       "family_status          0\n",
       "family_status_id       0\n",
       "gender                 0\n",
       "income_type            0\n",
       "debt                   0\n",
       "total_income        2174\n",
       "purpose                0\n",
       "dtype: int64"
      ]
     },
     "execution_count": 5,
     "metadata": {},
     "output_type": "execute_result"
    }
   ],
   "source": [
    "data.isna().sum() # ваш код здесь"
   ]
  },
  {
   "cell_type": "markdown",
   "id": "14facde6",
   "metadata": {
    "deletable": false,
    "editable": false,
    "id": "db86e27b",
    "tags": [
     "start_task"
    ]
   },
   "source": [
    "**Задание 5. В двух столбцах есть пропущенные значения. Один из них — `days_employed`. Пропуски в этом столбце вы обработаете на следующем этапе. Другой столбец с пропущенными значениями — `total_income` — хранит данные о доходах. На сумму дохода сильнее всего влияет тип занятости, поэтому заполнить пропуски в этом столбце нужно медианным значением по каждому типу из столбца `income_type`. Например, у человека с типом занятости `сотрудник` пропуск в столбце `total_income` должен быть заполнен медианным доходом среди всех записей с тем же типом.**"
   ]
  },
  {
   "cell_type": "code",
   "execution_count": 6,
   "id": "7e300142",
   "metadata": {
    "id": "42006a93"
   },
   "outputs": [],
   "source": [
    "for income_peace in data['income_type'].unique():\n",
    "    median_type = data[data['income_type'] == income_peace]['total_income'].median()\n",
    "    data.loc[data['income_type'] == income_peace,'total_income'] = data.loc[data['income_type'] == income_peace, 'total_income'].fillna(median_type)\n",
    "   \n",
    "\n",
    "    \n",
    "                                                  \n",
    "        \n"
   ]
  },
  {
   "cell_type": "markdown",
   "id": "a19d8661",
   "metadata": {
    "deletable": false,
    "editable": false,
    "id": "89da5ece"
   },
   "source": [
    "### Обработка аномальных значений"
   ]
  },
  {
   "cell_type": "markdown",
   "id": "f094d338",
   "metadata": {
    "deletable": false,
    "editable": false,
    "id": "57964554",
    "tags": [
     "start_task"
    ]
   },
   "source": [
    "**Задание 6. В данных могут встречаться артефакты (аномалии) — значения, которые не отражают действительность и появились по какой-то ошибке. Таким артефактом будет отрицательное количество дней трудового стажа в столбце `days_employed`. Для реальных данных это нормально. Обработайте значения в этом столбце: замените все отрицательные значения положительными с помощью метода `abs()`.**"
   ]
  },
  {
   "cell_type": "code",
   "execution_count": 7,
   "id": "ce5b252f",
   "metadata": {
    "id": "f6f055bf"
   },
   "outputs": [],
   "source": [
    "data['days_employed'] = data['days_employed'].abs() # ваш код здесь"
   ]
  },
  {
   "cell_type": "markdown",
   "id": "fa1d3bb6",
   "metadata": {
    "deletable": false,
    "editable": false,
    "id": "6107dd2f",
    "tags": [
     "start_task"
    ]
   },
   "source": [
    "**Задание 7. Для каждого типа занятости выведите медианное значение трудового стажа `days_employed` в днях.**"
   ]
  },
  {
   "cell_type": "code",
   "execution_count": 8,
   "id": "627ff38c",
   "metadata": {
    "id": "85a5faf6"
   },
   "outputs": [
    {
     "name": "stdout",
     "output_type": "stream",
     "text": [
      "income_type\n",
      "безработный        366413.652744\n",
      "в декрете            3296.759962\n",
      "госслужащий          2689.368353\n",
      "компаньон            1547.382223\n",
      "пенсионер          365213.306266\n",
      "предприниматель       520.848083\n",
      "сотрудник            1574.202821\n",
      "студент               578.751554\n",
      "Name: days_employed, dtype: float64\n"
     ]
    }
   ],
   "source": [
    "print(data.groupby('income_type')['days_employed'].median()) # ваш код здесь"
   ]
  },
  {
   "cell_type": "markdown",
   "id": "52ed5ec5",
   "metadata": {
    "deletable": false,
    "editable": false,
    "id": "38d1a030"
   },
   "source": [
    "У двух типов (безработные и пенсионеры) получатся аномально большие значения. Исправить такие значения сложно, поэтому оставьте их как есть. Тем более этот столбец не понадобится вам для исследования."
   ]
  },
  {
   "cell_type": "markdown",
   "id": "322efabe",
   "metadata": {
    "deletable": false,
    "editable": false,
    "id": "d8a9f147",
    "tags": [
     "start_task"
    ]
   },
   "source": [
    "**Задание 8. Выведите перечень уникальных значений столбца `children`.**"
   ]
  },
  {
   "cell_type": "code",
   "execution_count": 9,
   "id": "5703f115",
   "metadata": {
    "id": "ef5056eb"
   },
   "outputs": [
    {
     "name": "stdout",
     "output_type": "stream",
     "text": [
      "[ 1  0  3  2 -1  4 20  5]\n"
     ]
    }
   ],
   "source": [
    "print(data['children'].unique()) # ваш код здесь"
   ]
  },
  {
   "cell_type": "markdown",
   "id": "d51b1f75",
   "metadata": {
    "deletable": false,
    "editable": false,
    "id": "40b9ebf2",
    "tags": [
     "start_task"
    ]
   },
   "source": [
    "**Задание 9. В столбце `children` есть два аномальных значения. Удалите строки, в которых встречаются такие аномальные значения из датафрейма `data`.**"
   ]
  },
  {
   "cell_type": "code",
   "execution_count": 10,
   "id": "0df42f48",
   "metadata": {
    "id": "3ff9801d"
   },
   "outputs": [
    {
     "name": "stdout",
     "output_type": "stream",
     "text": [
      "[1 0 3 2 4 5]\n"
     ]
    }
   ],
   "source": [
    "data = data.loc[data['children'] != -1]\n",
    "data = data.loc[data['children'] != 20]\n",
    "print(data['children'].unique()) # ваш код здесь"
   ]
  },
  {
   "cell_type": "markdown",
   "id": "3e4c744d",
   "metadata": {
    "deletable": false,
    "editable": false,
    "id": "bbc4d0ce",
    "tags": [
     "start_task"
    ]
   },
   "source": [
    "**Задание 10. Ещё раз выведите перечень уникальных значений столбца `children`, чтобы убедиться, что артефакты удалены.**"
   ]
  },
  {
   "cell_type": "code",
   "execution_count": 11,
   "id": "b6175a10",
   "metadata": {
    "id": "ad4fa8b7"
   },
   "outputs": [
    {
     "name": "stdout",
     "output_type": "stream",
     "text": [
      "[1 0 3 2 4 5]\n"
     ]
    }
   ],
   "source": [
    "print(data['children'].unique())# ваш код здесь"
   ]
  },
  {
   "cell_type": "markdown",
   "id": "bbdaab9d",
   "metadata": {
    "deletable": false,
    "editable": false,
    "id": "75440b63"
   },
   "source": [
    "### Удаление пропусков (продолжение)"
   ]
  },
  {
   "cell_type": "markdown",
   "id": "2c2d8ab8",
   "metadata": {
    "deletable": false,
    "editable": false,
    "id": "f4ea573f",
    "tags": [
     "start_task"
    ]
   },
   "source": [
    "**Задание 11. Заполните пропуски в столбце `days_employed` медианными значениями по каждому типу занятости `income_type`.**"
   ]
  },
  {
   "cell_type": "code",
   "execution_count": 12,
   "id": "3a310e38",
   "metadata": {
    "id": "af6b1a7e"
   },
   "outputs": [],
   "source": [
    "#print(data.groupby('income_type')['days_employed'].median()) \n",
    "# ваш код здесь\n",
    "for income_peace in data['income_type'].unique():\n",
    "    median_type = data[data['income_type'] == income_peace]['days_employed'].median()\n",
    "    data.loc[data['income_type'] == income_peace,'days_employed'] = data.loc[data['income_type'] == income_peace, 'days_employed'].fillna(median_type)\n",
    "   "
   ]
  },
  {
   "cell_type": "markdown",
   "id": "f856156d",
   "metadata": {
    "deletable": false,
    "editable": false,
    "id": "2753f40d",
    "tags": [
     "start_task"
    ]
   },
   "source": [
    "**Задание 12. Убедитесь, что все пропуски заполнены. Проверьте себя и ещё раз выведите количество пропущенных значений для каждого столбца с помощью двух методов.**"
   ]
  },
  {
   "cell_type": "code",
   "execution_count": 13,
   "id": "32df161d",
   "metadata": {
    "id": "55f78bc2"
   },
   "outputs": [
    {
     "data": {
      "text/plain": [
       "children            0\n",
       "days_employed       0\n",
       "dob_years           0\n",
       "education           0\n",
       "education_id        0\n",
       "family_status       0\n",
       "family_status_id    0\n",
       "gender              0\n",
       "income_type         0\n",
       "debt                0\n",
       "total_income        0\n",
       "purpose             0\n",
       "dtype: int64"
      ]
     },
     "execution_count": 13,
     "metadata": {},
     "output_type": "execute_result"
    }
   ],
   "source": [
    "data.isna().sum() # ваш код здесь"
   ]
  },
  {
   "cell_type": "markdown",
   "id": "fb42fd9a",
   "metadata": {
    "deletable": false,
    "editable": false,
    "id": "ddc81e43"
   },
   "source": [
    "### Изменение типов данных"
   ]
  },
  {
   "cell_type": "markdown",
   "id": "05a2d806",
   "metadata": {
    "deletable": false,
    "editable": false,
    "id": "42d19d24",
    "tags": [
     "start_task"
    ]
   },
   "source": [
    "**Задание 13. Замените вещественный тип данных в столбце `total_income` на целочисленный с помощью метода `astype()`.**"
   ]
  },
  {
   "cell_type": "code",
   "execution_count": 14,
   "id": "48f8f8e5",
   "metadata": {
    "id": "920b65ad"
   },
   "outputs": [],
   "source": [
    "data['total_income'] = data['total_income'].astype('int') # ваш код здесь"
   ]
  },
  {
   "cell_type": "markdown",
   "id": "ea81b7c7",
   "metadata": {
    "deletable": false,
    "editable": false,
    "id": "80c420ba"
   },
   "source": [
    "### Обработка дубликатов"
   ]
  },
  {
   "cell_type": "markdown",
   "id": "947d84ce",
   "metadata": {
    "deletable": false,
    "editable": false,
    "tags": [
     "start_task"
    ]
   },
   "source": [
    "**Задание 14. Обработайте неявные дубликаты в столбце `education`. В этом столбце есть одни и те же значения, но записанные по-разному: с использованием заглавных и строчных букв. Приведите их к нижнему регистру. Проверьте остальные столбцы.**"
   ]
  },
  {
   "cell_type": "code",
   "execution_count": 15,
   "id": "b8817878",
   "metadata": {},
   "outputs": [
    {
     "name": "stdout",
     "output_type": "stream",
     "text": [
      "['высшее' 'среднее' 'неоконченное высшее' 'начальное' 'ученая степень']\n",
      "['женат / замужем' 'гражданский брак' 'вдовец / вдова' 'в разводе'\n",
      " 'Не женат / не замужем']\n",
      "['сотрудник' 'пенсионер' 'компаньон' 'госслужащий' 'безработный'\n",
      " 'предприниматель' 'студент' 'в декрете']\n",
      "['покупка жилья' 'приобретение автомобиля' 'дополнительное образование'\n",
      " 'сыграть свадьбу' 'операции с жильем' 'образование'\n",
      " 'на проведение свадьбы' 'покупка жилья для семьи' 'покупка недвижимости'\n",
      " 'покупка коммерческой недвижимости' 'покупка жилой недвижимости'\n",
      " 'строительство собственной недвижимости' 'недвижимость'\n",
      " 'строительство недвижимости' 'на покупку подержанного автомобиля'\n",
      " 'на покупку своего автомобиля' 'операции с коммерческой недвижимостью'\n",
      " 'строительство жилой недвижимости' 'жилье'\n",
      " 'операции со своей недвижимостью' 'автомобили' 'заняться образованием'\n",
      " 'сделка с подержанным автомобилем' 'получение образования' 'автомобиль'\n",
      " 'свадьба' 'получение дополнительного образования' 'покупка своего жилья'\n",
      " 'операции с недвижимостью' 'получение высшего образования'\n",
      " 'свой автомобиль' 'сделка с автомобилем' 'профильное образование'\n",
      " 'высшее образование' 'покупка жилья для сдачи' 'на покупку автомобиля'\n",
      " 'ремонт жилью' 'заняться высшим образованием']\n"
     ]
    }
   ],
   "source": [
    "data['education'] = data['education'].str.lower()\n",
    "print(data['education'].unique()) # ваш код здесь\n",
    "print(data['family_status'].unique())\n",
    "print(data['income_type'].unique())\n",
    "print(data['purpose'].unique())"
   ]
  },
  {
   "cell_type": "markdown",
   "id": "4a524cef",
   "metadata": {
    "deletable": false,
    "editable": false,
    "id": "dc587695",
    "tags": [
     "start_task"
    ]
   },
   "source": [
    "**Задание 15. Выведите на экран количество строк-дубликатов в данных. Если такие строки присутствуют, удалите их.**"
   ]
  },
  {
   "cell_type": "code",
   "execution_count": 16,
   "id": "1c9fb737",
   "metadata": {
    "id": "3ee445e4"
   },
   "outputs": [
    {
     "data": {
      "text/plain": [
       "71"
      ]
     },
     "execution_count": 16,
     "metadata": {},
     "output_type": "execute_result"
    }
   ],
   "source": [
    "data.duplicated().sum() # посчитайте дубликаты"
   ]
  },
  {
   "cell_type": "code",
   "execution_count": 17,
   "id": "e9556cd6",
   "metadata": {
    "id": "8575fe05"
   },
   "outputs": [],
   "source": [
    "data = data.drop_duplicates().reset_index(drop=True) # удалите дубликаты"
   ]
  },
  {
   "cell_type": "markdown",
   "id": "0a99a201",
   "metadata": {
    "deletable": false,
    "editable": false,
    "id": "9904cf55"
   },
   "source": [
    "### Категоризация данных"
   ]
  },
  {
   "cell_type": "markdown",
   "id": "e7ff0c2d",
   "metadata": {
    "deletable": false,
    "editable": false,
    "id": "72fcc8a2",
    "tags": [
     "start_task"
    ]
   },
   "source": [
    "**Задание 16. На основании диапазонов, указанных ниже, создайте в датафрейме `data` столбец `total_income_category` с категориями:**\n",
    "\n",
    "- 0–30000 — `'E'`;\n",
    "- 30001–50000 — `'D'`;\n",
    "- 50001–200000 — `'C'`;\n",
    "- 200001–1000000 — `'B'`;\n",
    "- 1000001 и выше — `'A'`.\n",
    "\n",
    "\n",
    "**Например, кредитополучателю с доходом 25000 нужно назначить категорию `'E'`, а клиенту, получающему 235000, — `'B'`. Используйте собственную функцию с именем `categorize_income()` и метод `apply()`.**"
   ]
  },
  {
   "cell_type": "code",
   "execution_count": 18,
   "id": "ff23dd7b",
   "metadata": {
    "id": "e1771346"
   },
   "outputs": [],
   "source": [
    "def categorize_income(row):\n",
    "    total_income = row['total_income']\n",
    "    if 0<row['total_income']<=30000:\n",
    "        return 'E'\n",
    "    if 30001<=row['total_income']<=50000:\n",
    "        return 'D'\n",
    "    if 50001<=row['total_income']<=200000:\n",
    "        return 'C'\n",
    "    if 200001<=row['total_income']<=1000000:\n",
    "        return 'B'\n",
    "    if row['total_income']>=1000001:\n",
    "        return 'A'\n",
    "# создайте функцию categorize_income()"
   ]
  },
  {
   "cell_type": "code",
   "execution_count": 19,
   "id": "911ba673",
   "metadata": {
    "id": "d5f3586d"
   },
   "outputs": [],
   "source": [
    "data['total_income_category'] = data.apply(categorize_income, axis=1)"
   ]
  },
  {
   "cell_type": "markdown",
   "id": "6c622b1a",
   "metadata": {
    "deletable": false,
    "editable": false,
    "id": "dde49b5c",
    "tags": [
     "start_task"
    ]
   },
   "source": [
    "**Задание 17. Выведите на экран перечень уникальных целей взятия кредита из столбца `purpose`.**"
   ]
  },
  {
   "cell_type": "code",
   "execution_count": 20,
   "id": "f32862e9",
   "metadata": {
    "id": "f67ce9b3"
   },
   "outputs": [
    {
     "data": {
      "text/plain": [
       "array(['покупка жилья', 'приобретение автомобиля',\n",
       "       'дополнительное образование', 'сыграть свадьбу',\n",
       "       'операции с жильем', 'образование', 'на проведение свадьбы',\n",
       "       'покупка жилья для семьи', 'покупка недвижимости',\n",
       "       'покупка коммерческой недвижимости', 'покупка жилой недвижимости',\n",
       "       'строительство собственной недвижимости', 'недвижимость',\n",
       "       'строительство недвижимости', 'на покупку подержанного автомобиля',\n",
       "       'на покупку своего автомобиля',\n",
       "       'операции с коммерческой недвижимостью',\n",
       "       'строительство жилой недвижимости', 'жилье',\n",
       "       'операции со своей недвижимостью', 'автомобили',\n",
       "       'заняться образованием', 'сделка с подержанным автомобилем',\n",
       "       'получение образования', 'автомобиль', 'свадьба',\n",
       "       'получение дополнительного образования', 'покупка своего жилья',\n",
       "       'операции с недвижимостью', 'получение высшего образования',\n",
       "       'свой автомобиль', 'сделка с автомобилем',\n",
       "       'профильное образование', 'высшее образование',\n",
       "       'покупка жилья для сдачи', 'на покупку автомобиля', 'ремонт жилью',\n",
       "       'заняться высшим образованием'], dtype=object)"
      ]
     },
     "execution_count": 20,
     "metadata": {},
     "output_type": "execute_result"
    }
   ],
   "source": [
    "data['purpose'].unique() # ваш код здесь"
   ]
  },
  {
   "cell_type": "markdown",
   "id": "badd6920",
   "metadata": {
    "deletable": false,
    "editable": false,
    "id": "85d0aef0",
    "tags": [
     "start_task"
    ]
   },
   "source": [
    "**Задание 18. Создайте функцию, которая на основании данных из столбца `purpose` сформирует новый столбец `purpose_category`, в который войдут следующие категории:**\n",
    "\n",
    "- `'операции с автомобилем'`,\n",
    "- `'операции с недвижимостью'`,\n",
    "- `'проведение свадьбы'`,\n",
    "- `'получение образования'`.\n",
    "\n",
    "**Например, если в столбце `purpose` находится подстрока `'на покупку автомобиля'`, то в столбце `purpose_category` должна появиться строка `'операции с автомобилем'`.**\n",
    "\n",
    "**Используйте собственную функцию с именем `categorize_purpose()` и метод `apply()`. Изучите данные в столбце `purpose` и определите, какие подстроки помогут вам правильно определить категорию.**"
   ]
  },
  {
   "cell_type": "code",
   "execution_count": 38,
   "id": "7c396a76",
   "metadata": {
    "id": "e149fab4"
   },
   "outputs": [
    {
     "name": "stdout",
     "output_type": "stream",
     "text": [
      "    children  days_employed  dob_years            education  education_id  \\\n",
      "0          1    8437.673028         42               высшее             0   \n",
      "1          1    4024.803754         36              среднее             1   \n",
      "2          0    5623.422610         33              среднее             1   \n",
      "3          3    4124.747207         32              среднее             1   \n",
      "4          0  340266.072047         53              среднее             1   \n",
      "5          0     926.185831         27               высшее             0   \n",
      "6          0    2879.202052         43               высшее             0   \n",
      "7          0     152.779569         50              среднее             1   \n",
      "8          2    6929.865299         35               высшее             0   \n",
      "9          0    2188.756445         41              среднее             1   \n",
      "10         2    4171.483647         36               высшее             0   \n",
      "11         0     792.701887         40              среднее             1   \n",
      "12         0  365286.622650         65              среднее             1   \n",
      "13         0    1846.641941         54  неоконченное высшее             2   \n",
      "14         0    1844.956182         56               высшее             0   \n",
      "15         1     972.364419         26              среднее             1   \n",
      "16         0    1719.934226         35              среднее             1   \n",
      "17         0    2369.999720         33               высшее             0   \n",
      "18         0  400281.136913         53              среднее             1   \n",
      "19         0   10038.818549         48              среднее             1   \n",
      "\n",
      "       family_status  family_status_id gender income_type  debt  total_income  \\\n",
      "0    женат / замужем                 0      F   сотрудник     0        253875   \n",
      "1    женат / замужем                 0      F   сотрудник     0        112080   \n",
      "2    женат / замужем                 0      M   сотрудник     0        145885   \n",
      "3    женат / замужем                 0      M   сотрудник     0        267628   \n",
      "4   гражданский брак                 1      F   пенсионер     0        158616   \n",
      "5   гражданский брак                 1      M   компаньон     0        255763   \n",
      "6    женат / замужем                 0      F   компаньон     0        240525   \n",
      "7    женат / замужем                 0      M   сотрудник     0        135823   \n",
      "8   гражданский брак                 1      F   сотрудник     0         95856   \n",
      "9    женат / замужем                 0      M   сотрудник     0        144425   \n",
      "10   женат / замужем                 0      M   компаньон     0        113943   \n",
      "11   женат / замужем                 0      F   сотрудник     0         77069   \n",
      "12  гражданский брак                 1      M   пенсионер     0        118514   \n",
      "13   женат / замужем                 0      F   сотрудник     0        130458   \n",
      "14  гражданский брак                 1      F   компаньон     1        165127   \n",
      "15   женат / замужем                 0      F   сотрудник     0        116820   \n",
      "16   женат / замужем                 0      F   сотрудник     0        289202   \n",
      "17  гражданский брак                 1      M   сотрудник     0         90410   \n",
      "18    вдовец / вдова                 2      F   пенсионер     0         56823   \n",
      "19         в разводе                 3      F   сотрудник     0        242831   \n",
      "\n",
      "                                   purpose total_income_cat  \\\n",
      "0                            покупка жилья                B   \n",
      "1                  приобретение автомобиля                C   \n",
      "2                            покупка жилья                C   \n",
      "3               дополнительное образование                B   \n",
      "4                          сыграть свадьбу                C   \n",
      "5                            покупка жилья                B   \n",
      "6                        операции с жильем                B   \n",
      "7                              образование                C   \n",
      "8                    на проведение свадьбы                C   \n",
      "9                  покупка жилья для семьи                C   \n",
      "10                    покупка недвижимости                C   \n",
      "11       покупка коммерческой недвижимости                C   \n",
      "12                         сыграть свадьбу                C   \n",
      "13                 приобретение автомобиля                C   \n",
      "14              покупка жилой недвижимости                C   \n",
      "15  строительство собственной недвижимости                C   \n",
      "16                            недвижимость                B   \n",
      "17              строительство недвижимости                C   \n",
      "18      на покупку подержанного автомобиля                C   \n",
      "19            на покупку своего автомобиля                B   \n",
      "\n",
      "            purpose_category  \n",
      "0   операции с недвижимостью  \n",
      "1     операции с автомобилем  \n",
      "2   операции с недвижимостью  \n",
      "3      получение образования  \n",
      "4         проведение свадьбы  \n",
      "5   операции с недвижимостью  \n",
      "6   операции с недвижимостью  \n",
      "7      получение образования  \n",
      "8         проведение свадьбы  \n",
      "9   операции с недвижимостью  \n",
      "10  операции с недвижимостью  \n",
      "11  операции с недвижимостью  \n",
      "12        проведение свадьбы  \n",
      "13    операции с автомобилем  \n",
      "14  операции с недвижимостью  \n",
      "15  операции с недвижимостью  \n",
      "16  операции с недвижимостью  \n",
      "17  операции с недвижимостью  \n",
      "18    операции с автомобилем  \n",
      "19    операции с автомобилем  \n"
     ]
    }
   ],
   "source": [
    "def categorize_purpose(row):\n",
    "    purpose = row['purpose']\n",
    "    if 'образовани' in purpose:\n",
    "        return 'получение образования'\n",
    "    if 'свадьб' in purpose:\n",
    "        return 'проведение свадьбы'\n",
    "    if 'автомобил' in purpose:\n",
    "        return 'операции с автомобилем'\n",
    "    if 'недвижимость' or 'жиль' in purpose:\n",
    "        return 'операции с недвижимостью'\n",
    "data['purpose_category'] = data.apply(categorize_purpose, axis=1)\n",
    "print(data.head(20))\n",
    "\n"
   ]
  },
  {
   "cell_type": "code",
   "execution_count": null,
   "id": "57a11127",
   "metadata": {
    "id": "bf36e69b"
   },
   "outputs": [],
   "source": []
  },
  {
   "cell_type": "code",
   "execution_count": null,
   "id": "5b843094",
   "metadata": {},
   "outputs": [],
   "source": []
  },
  {
   "cell_type": "code",
   "execution_count": null,
   "id": "6e0b1062",
   "metadata": {},
   "outputs": [],
   "source": []
  }
 ],
 "metadata": {
  "ExecuteTimeLog": [
   {
    "duration": 42,
    "start_time": "2022-07-31T10:30:15.349Z"
   },
   {
    "duration": 331,
    "start_time": "2022-07-31T10:30:25.582Z"
   },
   {
    "duration": 123,
    "start_time": "2022-07-31T10:30:25.915Z"
   },
   {
    "duration": 9,
    "start_time": "2022-07-31T10:30:26.039Z"
   },
   {
    "duration": 14,
    "start_time": "2022-07-31T10:30:26.050Z"
   },
   {
    "duration": 2,
    "start_time": "2022-07-31T10:30:26.065Z"
   },
   {
    "duration": 4,
    "start_time": "2022-07-31T10:30:26.069Z"
   },
   {
    "duration": 4,
    "start_time": "2022-07-31T10:30:26.074Z"
   },
   {
    "duration": 4,
    "start_time": "2022-07-31T10:30:26.079Z"
   },
   {
    "duration": 5,
    "start_time": "2022-07-31T10:30:26.084Z"
   },
   {
    "duration": 3,
    "start_time": "2022-07-31T10:30:26.091Z"
   },
   {
    "duration": 6,
    "start_time": "2022-07-31T10:30:26.096Z"
   },
   {
    "duration": 4,
    "start_time": "2022-07-31T10:30:26.103Z"
   },
   {
    "duration": 9,
    "start_time": "2022-07-31T10:30:26.108Z"
   },
   {
    "duration": 6,
    "start_time": "2022-07-31T10:30:26.118Z"
   },
   {
    "duration": 2,
    "start_time": "2022-07-31T10:30:26.131Z"
   },
   {
    "duration": 4,
    "start_time": "2022-07-31T10:30:26.134Z"
   },
   {
    "duration": 5,
    "start_time": "2022-07-31T10:30:26.139Z"
   },
   {
    "duration": 4,
    "start_time": "2022-07-31T10:30:26.145Z"
   },
   {
    "duration": 4,
    "start_time": "2022-07-31T10:30:26.151Z"
   },
   {
    "duration": 4,
    "start_time": "2022-07-31T10:30:26.156Z"
   },
   {
    "duration": 5,
    "start_time": "2022-07-31T10:30:26.161Z"
   },
   {
    "duration": 4,
    "start_time": "2022-07-31T10:30:26.167Z"
   },
   {
    "duration": 12,
    "start_time": "2022-07-31T10:34:15.052Z"
   },
   {
    "duration": 54,
    "start_time": "2022-07-31T10:40:22.539Z"
   },
   {
    "duration": 7,
    "start_time": "2022-07-31T10:40:45.543Z"
   },
   {
    "duration": 5,
    "start_time": "2022-07-31T10:41:42.679Z"
   },
   {
    "duration": 6,
    "start_time": "2022-07-31T10:46:24.862Z"
   },
   {
    "duration": 75,
    "start_time": "2022-07-31T10:55:51.738Z"
   },
   {
    "duration": 71,
    "start_time": "2022-07-31T10:56:32.771Z"
   },
   {
    "duration": 71,
    "start_time": "2022-07-31T10:56:47.453Z"
   },
   {
    "duration": 92,
    "start_time": "2022-07-31T10:57:53.906Z"
   },
   {
    "duration": 85,
    "start_time": "2022-07-31T10:58:24.513Z"
   },
   {
    "duration": 371,
    "start_time": "2022-07-31T10:58:53.428Z"
   },
   {
    "duration": 69,
    "start_time": "2022-07-31T10:58:53.801Z"
   },
   {
    "duration": 10,
    "start_time": "2022-07-31T10:58:53.871Z"
   },
   {
    "duration": 13,
    "start_time": "2022-07-31T10:58:53.883Z"
   },
   {
    "duration": 12,
    "start_time": "2022-07-31T10:58:53.898Z"
   },
   {
    "duration": 149,
    "start_time": "2022-07-31T10:58:53.912Z"
   },
   {
    "duration": 0,
    "start_time": "2022-07-31T10:58:54.063Z"
   },
   {
    "duration": 0,
    "start_time": "2022-07-31T10:58:54.064Z"
   },
   {
    "duration": 0,
    "start_time": "2022-07-31T10:58:54.065Z"
   },
   {
    "duration": 0,
    "start_time": "2022-07-31T10:58:54.066Z"
   },
   {
    "duration": 0,
    "start_time": "2022-07-31T10:58:54.066Z"
   },
   {
    "duration": 0,
    "start_time": "2022-07-31T10:58:54.067Z"
   },
   {
    "duration": 0,
    "start_time": "2022-07-31T10:58:54.068Z"
   },
   {
    "duration": 0,
    "start_time": "2022-07-31T10:58:54.069Z"
   },
   {
    "duration": 0,
    "start_time": "2022-07-31T10:58:54.070Z"
   },
   {
    "duration": 0,
    "start_time": "2022-07-31T10:58:54.071Z"
   },
   {
    "duration": 0,
    "start_time": "2022-07-31T10:58:54.072Z"
   },
   {
    "duration": 0,
    "start_time": "2022-07-31T10:58:54.072Z"
   },
   {
    "duration": 0,
    "start_time": "2022-07-31T10:58:54.073Z"
   },
   {
    "duration": 0,
    "start_time": "2022-07-31T10:58:54.074Z"
   },
   {
    "duration": 0,
    "start_time": "2022-07-31T10:58:54.075Z"
   },
   {
    "duration": 0,
    "start_time": "2022-07-31T10:58:54.077Z"
   },
   {
    "duration": 74,
    "start_time": "2022-07-31T10:59:11.336Z"
   },
   {
    "duration": 8,
    "start_time": "2022-07-31T11:00:04.470Z"
   },
   {
    "duration": 6,
    "start_time": "2022-07-31T11:00:33.938Z"
   },
   {
    "duration": 6,
    "start_time": "2022-07-31T11:12:31.773Z"
   },
   {
    "duration": 369,
    "start_time": "2022-07-31T11:26:43.243Z"
   },
   {
    "duration": 66,
    "start_time": "2022-07-31T11:26:43.614Z"
   },
   {
    "duration": 9,
    "start_time": "2022-07-31T11:26:43.682Z"
   },
   {
    "duration": 13,
    "start_time": "2022-07-31T11:26:43.693Z"
   },
   {
    "duration": 11,
    "start_time": "2022-07-31T11:26:43.707Z"
   },
   {
    "duration": 50,
    "start_time": "2022-07-31T11:26:43.720Z"
   },
   {
    "duration": 2,
    "start_time": "2022-07-31T11:26:43.772Z"
   },
   {
    "duration": 4,
    "start_time": "2022-07-31T11:26:43.775Z"
   },
   {
    "duration": 4,
    "start_time": "2022-07-31T11:26:43.781Z"
   },
   {
    "duration": 4,
    "start_time": "2022-07-31T11:26:43.787Z"
   },
   {
    "duration": 5,
    "start_time": "2022-07-31T11:26:43.792Z"
   },
   {
    "duration": 5,
    "start_time": "2022-07-31T11:26:43.798Z"
   },
   {
    "duration": 4,
    "start_time": "2022-07-31T11:26:43.804Z"
   },
   {
    "duration": 4,
    "start_time": "2022-07-31T11:26:43.810Z"
   },
   {
    "duration": 2,
    "start_time": "2022-07-31T11:26:43.831Z"
   },
   {
    "duration": 6,
    "start_time": "2022-07-31T11:26:43.835Z"
   },
   {
    "duration": 5,
    "start_time": "2022-07-31T11:26:43.842Z"
   },
   {
    "duration": 5,
    "start_time": "2022-07-31T11:26:43.848Z"
   },
   {
    "duration": 5,
    "start_time": "2022-07-31T11:26:43.854Z"
   },
   {
    "duration": 6,
    "start_time": "2022-07-31T11:26:43.860Z"
   },
   {
    "duration": 4,
    "start_time": "2022-07-31T11:26:43.868Z"
   },
   {
    "duration": 3,
    "start_time": "2022-07-31T11:26:43.874Z"
   },
   {
    "duration": 46,
    "start_time": "2022-07-31T11:27:44.474Z"
   },
   {
    "duration": 56,
    "start_time": "2022-07-31T11:31:14.451Z"
   },
   {
    "duration": 67,
    "start_time": "2022-07-31T11:31:57.521Z"
   },
   {
    "duration": 404,
    "start_time": "2022-07-31T12:50:55.548Z"
   },
   {
    "duration": 260,
    "start_time": "2022-07-31T12:50:55.955Z"
   },
   {
    "duration": 11,
    "start_time": "2022-07-31T12:50:56.217Z"
   },
   {
    "duration": 21,
    "start_time": "2022-07-31T12:50:56.230Z"
   },
   {
    "duration": 20,
    "start_time": "2022-07-31T12:50:56.253Z"
   },
   {
    "duration": 68,
    "start_time": "2022-07-31T12:50:56.275Z"
   },
   {
    "duration": 3,
    "start_time": "2022-07-31T12:50:56.344Z"
   },
   {
    "duration": 5,
    "start_time": "2022-07-31T12:50:56.349Z"
   },
   {
    "duration": 5,
    "start_time": "2022-07-31T12:50:56.356Z"
   },
   {
    "duration": 7,
    "start_time": "2022-07-31T12:50:56.363Z"
   },
   {
    "duration": 5,
    "start_time": "2022-07-31T12:50:56.371Z"
   },
   {
    "duration": 9,
    "start_time": "2022-07-31T12:50:56.378Z"
   },
   {
    "duration": 9,
    "start_time": "2022-07-31T12:50:56.388Z"
   },
   {
    "duration": 5,
    "start_time": "2022-07-31T12:50:56.399Z"
   },
   {
    "duration": 5,
    "start_time": "2022-07-31T12:50:56.405Z"
   },
   {
    "duration": 6,
    "start_time": "2022-07-31T12:50:56.411Z"
   },
   {
    "duration": 18,
    "start_time": "2022-07-31T12:50:56.419Z"
   },
   {
    "duration": 4,
    "start_time": "2022-07-31T12:50:56.438Z"
   },
   {
    "duration": 4,
    "start_time": "2022-07-31T12:50:56.443Z"
   },
   {
    "duration": 6,
    "start_time": "2022-07-31T12:50:56.449Z"
   },
   {
    "duration": 7,
    "start_time": "2022-07-31T12:50:56.457Z"
   },
   {
    "duration": 6,
    "start_time": "2022-07-31T12:50:56.465Z"
   },
   {
    "duration": 404,
    "start_time": "2022-07-31T14:16:00.846Z"
   },
   {
    "duration": 73,
    "start_time": "2022-07-31T14:16:01.252Z"
   },
   {
    "duration": 10,
    "start_time": "2022-07-31T14:16:01.327Z"
   },
   {
    "duration": 29,
    "start_time": "2022-07-31T14:16:01.339Z"
   },
   {
    "duration": 23,
    "start_time": "2022-07-31T14:16:01.370Z"
   },
   {
    "duration": 48,
    "start_time": "2022-07-31T14:16:01.395Z"
   },
   {
    "duration": 4,
    "start_time": "2022-07-31T14:16:01.444Z"
   },
   {
    "duration": 40,
    "start_time": "2022-07-31T14:16:01.449Z"
   },
   {
    "duration": 4,
    "start_time": "2022-07-31T14:16:01.493Z"
   },
   {
    "duration": 12,
    "start_time": "2022-07-31T14:16:01.500Z"
   },
   {
    "duration": 30,
    "start_time": "2022-07-31T14:16:01.514Z"
   },
   {
    "duration": 7,
    "start_time": "2022-07-31T14:16:01.546Z"
   },
   {
    "duration": 10,
    "start_time": "2022-07-31T14:16:01.554Z"
   },
   {
    "duration": 8,
    "start_time": "2022-07-31T14:16:01.566Z"
   },
   {
    "duration": 12,
    "start_time": "2022-07-31T14:16:01.575Z"
   },
   {
    "duration": 11,
    "start_time": "2022-07-31T14:16:01.588Z"
   },
   {
    "duration": 11,
    "start_time": "2022-07-31T14:16:01.600Z"
   },
   {
    "duration": 7,
    "start_time": "2022-07-31T14:16:01.613Z"
   },
   {
    "duration": 5,
    "start_time": "2022-07-31T14:16:01.621Z"
   },
   {
    "duration": 10,
    "start_time": "2022-07-31T14:16:01.628Z"
   },
   {
    "duration": 10,
    "start_time": "2022-07-31T14:16:01.639Z"
   },
   {
    "duration": 7,
    "start_time": "2022-07-31T14:16:01.651Z"
   },
   {
    "duration": 9,
    "start_time": "2022-07-31T14:17:54.002Z"
   },
   {
    "duration": 9,
    "start_time": "2022-07-31T14:19:06.823Z"
   },
   {
    "duration": 6,
    "start_time": "2022-07-31T14:19:54.979Z"
   },
   {
    "duration": 59,
    "start_time": "2022-07-31T14:20:08.051Z"
   },
   {
    "duration": 4,
    "start_time": "2022-07-31T14:20:20.736Z"
   },
   {
    "duration": 413,
    "start_time": "2022-07-31T14:35:02.112Z"
   },
   {
    "duration": 71,
    "start_time": "2022-07-31T14:35:02.527Z"
   },
   {
    "duration": 11,
    "start_time": "2022-07-31T14:35:02.600Z"
   },
   {
    "duration": 20,
    "start_time": "2022-07-31T14:35:02.613Z"
   },
   {
    "duration": 14,
    "start_time": "2022-07-31T14:35:02.634Z"
   },
   {
    "duration": 46,
    "start_time": "2022-07-31T14:35:02.650Z"
   },
   {
    "duration": 3,
    "start_time": "2022-07-31T14:35:02.697Z"
   },
   {
    "duration": 8,
    "start_time": "2022-07-31T14:35:02.702Z"
   },
   {
    "duration": 27,
    "start_time": "2022-07-31T14:35:02.712Z"
   },
   {
    "duration": 66,
    "start_time": "2022-07-31T14:35:02.741Z"
   },
   {
    "duration": 0,
    "start_time": "2022-07-31T14:35:02.809Z"
   },
   {
    "duration": 0,
    "start_time": "2022-07-31T14:35:02.811Z"
   },
   {
    "duration": 0,
    "start_time": "2022-07-31T14:35:02.812Z"
   },
   {
    "duration": 0,
    "start_time": "2022-07-31T14:35:02.813Z"
   },
   {
    "duration": 0,
    "start_time": "2022-07-31T14:35:02.814Z"
   },
   {
    "duration": 0,
    "start_time": "2022-07-31T14:35:02.815Z"
   },
   {
    "duration": 0,
    "start_time": "2022-07-31T14:35:02.837Z"
   },
   {
    "duration": 0,
    "start_time": "2022-07-31T14:35:02.838Z"
   },
   {
    "duration": 0,
    "start_time": "2022-07-31T14:35:02.838Z"
   },
   {
    "duration": 0,
    "start_time": "2022-07-31T14:35:02.839Z"
   },
   {
    "duration": 0,
    "start_time": "2022-07-31T14:35:02.840Z"
   },
   {
    "duration": 0,
    "start_time": "2022-07-31T14:35:02.841Z"
   },
   {
    "duration": 7,
    "start_time": "2022-07-31T14:38:06.359Z"
   },
   {
    "duration": 9,
    "start_time": "2022-07-31T14:38:31.847Z"
   },
   {
    "duration": 8,
    "start_time": "2022-07-31T14:38:37.968Z"
   },
   {
    "duration": 406,
    "start_time": "2022-07-31T18:08:35.752Z"
   },
   {
    "duration": 137,
    "start_time": "2022-07-31T18:08:36.160Z"
   },
   {
    "duration": 11,
    "start_time": "2022-07-31T18:08:36.299Z"
   },
   {
    "duration": 16,
    "start_time": "2022-07-31T18:08:36.312Z"
   },
   {
    "duration": 17,
    "start_time": "2022-07-31T18:08:36.330Z"
   },
   {
    "duration": 79,
    "start_time": "2022-07-31T18:08:36.349Z"
   },
   {
    "duration": 4,
    "start_time": "2022-07-31T18:08:36.431Z"
   },
   {
    "duration": 16,
    "start_time": "2022-07-31T18:08:36.437Z"
   },
   {
    "duration": 5,
    "start_time": "2022-07-31T18:08:36.455Z"
   },
   {
    "duration": 11,
    "start_time": "2022-07-31T18:08:36.462Z"
   },
   {
    "duration": 4,
    "start_time": "2022-07-31T18:08:36.475Z"
   },
   {
    "duration": 30,
    "start_time": "2022-07-31T18:08:36.481Z"
   },
   {
    "duration": 6,
    "start_time": "2022-07-31T18:08:36.513Z"
   },
   {
    "duration": 5,
    "start_time": "2022-07-31T18:08:36.521Z"
   },
   {
    "duration": 5,
    "start_time": "2022-07-31T18:08:36.527Z"
   },
   {
    "duration": 7,
    "start_time": "2022-07-31T18:08:36.533Z"
   },
   {
    "duration": 6,
    "start_time": "2022-07-31T18:08:36.541Z"
   },
   {
    "duration": 4,
    "start_time": "2022-07-31T18:08:36.549Z"
   },
   {
    "duration": 5,
    "start_time": "2022-07-31T18:08:36.555Z"
   },
   {
    "duration": 6,
    "start_time": "2022-07-31T18:08:36.563Z"
   },
   {
    "duration": 6,
    "start_time": "2022-07-31T18:08:36.570Z"
   },
   {
    "duration": 4,
    "start_time": "2022-07-31T18:08:36.578Z"
   },
   {
    "duration": 8,
    "start_time": "2022-07-31T18:09:39.013Z"
   },
   {
    "duration": 11,
    "start_time": "2022-07-31T18:13:46.879Z"
   },
   {
    "duration": 431,
    "start_time": "2022-07-31T18:14:03.625Z"
   },
   {
    "duration": 89,
    "start_time": "2022-07-31T18:14:04.058Z"
   },
   {
    "duration": 10,
    "start_time": "2022-07-31T18:14:04.149Z"
   },
   {
    "duration": 21,
    "start_time": "2022-07-31T18:14:04.161Z"
   },
   {
    "duration": 33,
    "start_time": "2022-07-31T18:14:04.184Z"
   },
   {
    "duration": 57,
    "start_time": "2022-07-31T18:14:04.220Z"
   },
   {
    "duration": 3,
    "start_time": "2022-07-31T18:14:04.279Z"
   },
   {
    "duration": 28,
    "start_time": "2022-07-31T18:14:04.284Z"
   },
   {
    "duration": 5,
    "start_time": "2022-07-31T18:14:04.315Z"
   },
   {
    "duration": 22,
    "start_time": "2022-07-31T18:14:04.322Z"
   },
   {
    "duration": 4,
    "start_time": "2022-07-31T18:14:04.346Z"
   },
   {
    "duration": 78,
    "start_time": "2022-07-31T18:14:04.351Z"
   },
   {
    "duration": 13,
    "start_time": "2022-07-31T18:14:04.430Z"
   },
   {
    "duration": 2,
    "start_time": "2022-07-31T18:14:04.447Z"
   },
   {
    "duration": 13,
    "start_time": "2022-07-31T18:14:04.451Z"
   },
   {
    "duration": 8,
    "start_time": "2022-07-31T18:14:04.466Z"
   },
   {
    "duration": 9,
    "start_time": "2022-07-31T18:14:04.475Z"
   },
   {
    "duration": 19,
    "start_time": "2022-07-31T18:14:04.485Z"
   },
   {
    "duration": 17,
    "start_time": "2022-07-31T18:14:04.506Z"
   },
   {
    "duration": 11,
    "start_time": "2022-07-31T18:14:04.525Z"
   },
   {
    "duration": 5,
    "start_time": "2022-07-31T18:14:04.538Z"
   },
   {
    "duration": 7,
    "start_time": "2022-07-31T18:14:04.545Z"
   },
   {
    "duration": 3,
    "start_time": "2022-07-31T18:20:35.026Z"
   },
   {
    "duration": 105,
    "start_time": "2022-07-31T18:21:21.733Z"
   },
   {
    "duration": 20,
    "start_time": "2022-07-31T18:25:04.077Z"
   },
   {
    "duration": 22,
    "start_time": "2022-07-31T18:25:41.230Z"
   },
   {
    "duration": 25,
    "start_time": "2022-07-31T18:26:41.147Z"
   },
   {
    "duration": 21,
    "start_time": "2022-07-31T18:28:08.765Z"
   },
   {
    "duration": 22,
    "start_time": "2022-07-31T18:28:44.581Z"
   },
   {
    "duration": 38,
    "start_time": "2022-07-31T18:29:09.007Z"
   },
   {
    "duration": 495,
    "start_time": "2022-07-31T18:29:50.708Z"
   },
   {
    "duration": 82,
    "start_time": "2022-07-31T18:29:51.205Z"
   },
   {
    "duration": 10,
    "start_time": "2022-07-31T18:29:51.289Z"
   },
   {
    "duration": 25,
    "start_time": "2022-07-31T18:29:51.302Z"
   },
   {
    "duration": 15,
    "start_time": "2022-07-31T18:29:51.329Z"
   },
   {
    "duration": 72,
    "start_time": "2022-07-31T18:29:51.346Z"
   },
   {
    "duration": 4,
    "start_time": "2022-07-31T18:29:51.421Z"
   },
   {
    "duration": 13,
    "start_time": "2022-07-31T18:29:51.427Z"
   },
   {
    "duration": 5,
    "start_time": "2022-07-31T18:29:51.442Z"
   },
   {
    "duration": 13,
    "start_time": "2022-07-31T18:29:51.450Z"
   },
   {
    "duration": 4,
    "start_time": "2022-07-31T18:29:51.464Z"
   },
   {
    "duration": 85,
    "start_time": "2022-07-31T18:29:51.470Z"
   },
   {
    "duration": 12,
    "start_time": "2022-07-31T18:29:51.557Z"
   },
   {
    "duration": 10,
    "start_time": "2022-07-31T18:29:51.570Z"
   },
   {
    "duration": 42,
    "start_time": "2022-07-31T18:29:51.582Z"
   },
   {
    "duration": 2,
    "start_time": "2022-07-31T18:29:51.626Z"
   },
   {
    "duration": 10,
    "start_time": "2022-07-31T18:29:51.630Z"
   },
   {
    "duration": 13,
    "start_time": "2022-07-31T18:29:51.642Z"
   },
   {
    "duration": 12,
    "start_time": "2022-07-31T18:29:51.658Z"
   },
   {
    "duration": 11,
    "start_time": "2022-07-31T18:29:51.672Z"
   },
   {
    "duration": 5,
    "start_time": "2022-07-31T18:29:51.685Z"
   },
   {
    "duration": 14,
    "start_time": "2022-07-31T18:29:51.692Z"
   },
   {
    "duration": 29,
    "start_time": "2022-07-31T18:31:07.530Z"
   },
   {
    "duration": 405,
    "start_time": "2022-07-31T18:34:22.926Z"
   },
   {
    "duration": 90,
    "start_time": "2022-07-31T18:34:23.333Z"
   },
   {
    "duration": 12,
    "start_time": "2022-07-31T18:34:23.425Z"
   },
   {
    "duration": 20,
    "start_time": "2022-07-31T18:34:23.440Z"
   },
   {
    "duration": 18,
    "start_time": "2022-07-31T18:34:23.462Z"
   },
   {
    "duration": 78,
    "start_time": "2022-07-31T18:34:23.482Z"
   },
   {
    "duration": 3,
    "start_time": "2022-07-31T18:34:23.562Z"
   },
   {
    "duration": 10,
    "start_time": "2022-07-31T18:34:23.567Z"
   },
   {
    "duration": 6,
    "start_time": "2022-07-31T18:34:23.578Z"
   },
   {
    "duration": 31,
    "start_time": "2022-07-31T18:34:23.587Z"
   },
   {
    "duration": 4,
    "start_time": "2022-07-31T18:34:23.619Z"
   },
   {
    "duration": 57,
    "start_time": "2022-07-31T18:34:23.625Z"
   },
   {
    "duration": 29,
    "start_time": "2022-07-31T18:34:23.684Z"
   },
   {
    "duration": 5,
    "start_time": "2022-07-31T18:34:23.715Z"
   },
   {
    "duration": 37,
    "start_time": "2022-07-31T18:34:23.722Z"
   },
   {
    "duration": 31,
    "start_time": "2022-07-31T18:34:23.761Z"
   },
   {
    "duration": 31,
    "start_time": "2022-07-31T18:34:23.794Z"
   },
   {
    "duration": 3,
    "start_time": "2022-07-31T18:34:23.827Z"
   },
   {
    "duration": 5,
    "start_time": "2022-07-31T18:34:23.832Z"
   },
   {
    "duration": 10,
    "start_time": "2022-07-31T18:34:23.839Z"
   },
   {
    "duration": 5,
    "start_time": "2022-07-31T18:34:23.850Z"
   },
   {
    "duration": 6,
    "start_time": "2022-07-31T18:34:23.858Z"
   },
   {
    "duration": 4,
    "start_time": "2022-07-31T18:44:21.683Z"
   },
   {
    "duration": 72,
    "start_time": "2022-07-31T18:44:25.410Z"
   },
   {
    "duration": 324,
    "start_time": "2022-07-31T18:44:42.268Z"
   },
   {
    "duration": 325,
    "start_time": "2022-07-31T18:46:00.998Z"
   },
   {
    "duration": 489,
    "start_time": "2022-07-31T18:46:31.674Z"
   },
   {
    "duration": 81,
    "start_time": "2022-07-31T18:46:32.165Z"
   },
   {
    "duration": 12,
    "start_time": "2022-07-31T18:46:32.249Z"
   },
   {
    "duration": 17,
    "start_time": "2022-07-31T18:46:32.263Z"
   },
   {
    "duration": 37,
    "start_time": "2022-07-31T18:46:32.282Z"
   },
   {
    "duration": 54,
    "start_time": "2022-07-31T18:46:32.321Z"
   },
   {
    "duration": 4,
    "start_time": "2022-07-31T18:46:32.378Z"
   },
   {
    "duration": 32,
    "start_time": "2022-07-31T18:46:32.384Z"
   },
   {
    "duration": 5,
    "start_time": "2022-07-31T18:46:32.417Z"
   },
   {
    "duration": 13,
    "start_time": "2022-07-31T18:46:32.425Z"
   },
   {
    "duration": 4,
    "start_time": "2022-07-31T18:46:32.439Z"
   },
   {
    "duration": 92,
    "start_time": "2022-07-31T18:46:32.444Z"
   },
   {
    "duration": 11,
    "start_time": "2022-07-31T18:46:32.538Z"
   },
   {
    "duration": 4,
    "start_time": "2022-07-31T18:46:32.550Z"
   },
   {
    "duration": 22,
    "start_time": "2022-07-31T18:46:32.556Z"
   },
   {
    "duration": 47,
    "start_time": "2022-07-31T18:46:32.580Z"
   },
   {
    "duration": 23,
    "start_time": "2022-07-31T18:46:32.628Z"
   },
   {
    "duration": 3,
    "start_time": "2022-07-31T18:46:32.652Z"
   },
   {
    "duration": 5,
    "start_time": "2022-07-31T18:46:32.656Z"
   },
   {
    "duration": 5,
    "start_time": "2022-07-31T18:46:32.663Z"
   },
   {
    "duration": 4,
    "start_time": "2022-07-31T18:46:32.670Z"
   },
   {
    "duration": 359,
    "start_time": "2022-07-31T18:46:32.676Z"
   },
   {
    "duration": 407,
    "start_time": "2022-07-31T18:46:45.733Z"
   },
   {
    "duration": 82,
    "start_time": "2022-07-31T18:46:46.142Z"
   },
   {
    "duration": 11,
    "start_time": "2022-07-31T18:46:46.226Z"
   },
   {
    "duration": 19,
    "start_time": "2022-07-31T18:46:46.239Z"
   },
   {
    "duration": 16,
    "start_time": "2022-07-31T18:46:46.260Z"
   },
   {
    "duration": 77,
    "start_time": "2022-07-31T18:46:46.277Z"
   },
   {
    "duration": 4,
    "start_time": "2022-07-31T18:46:46.355Z"
   },
   {
    "duration": 25,
    "start_time": "2022-07-31T18:46:46.361Z"
   },
   {
    "duration": 20,
    "start_time": "2022-07-31T18:46:46.388Z"
   },
   {
    "duration": 22,
    "start_time": "2022-07-31T18:46:46.412Z"
   },
   {
    "duration": 15,
    "start_time": "2022-07-31T18:46:46.436Z"
   },
   {
    "duration": 66,
    "start_time": "2022-07-31T18:46:46.452Z"
   },
   {
    "duration": 12,
    "start_time": "2022-07-31T18:46:46.519Z"
   },
   {
    "duration": 10,
    "start_time": "2022-07-31T18:46:46.532Z"
   },
   {
    "duration": 25,
    "start_time": "2022-07-31T18:46:46.543Z"
   },
   {
    "duration": 19,
    "start_time": "2022-07-31T18:46:46.570Z"
   },
   {
    "duration": 21,
    "start_time": "2022-07-31T18:46:46.611Z"
   },
   {
    "duration": 3,
    "start_time": "2022-07-31T18:46:46.634Z"
   },
   {
    "duration": 6,
    "start_time": "2022-07-31T18:46:46.638Z"
   },
   {
    "duration": 6,
    "start_time": "2022-07-31T18:46:46.646Z"
   },
   {
    "duration": 6,
    "start_time": "2022-07-31T18:46:46.653Z"
   },
   {
    "duration": 360,
    "start_time": "2022-07-31T18:46:46.661Z"
   },
   {
    "duration": 431,
    "start_time": "2022-07-31T18:48:35.475Z"
   },
   {
    "duration": 80,
    "start_time": "2022-07-31T18:48:35.908Z"
   },
   {
    "duration": 14,
    "start_time": "2022-07-31T18:48:35.990Z"
   },
   {
    "duration": 33,
    "start_time": "2022-07-31T18:48:36.007Z"
   },
   {
    "duration": 24,
    "start_time": "2022-07-31T18:48:36.042Z"
   },
   {
    "duration": 64,
    "start_time": "2022-07-31T18:48:36.069Z"
   },
   {
    "duration": 4,
    "start_time": "2022-07-31T18:48:36.135Z"
   },
   {
    "duration": 11,
    "start_time": "2022-07-31T18:48:36.140Z"
   },
   {
    "duration": 14,
    "start_time": "2022-07-31T18:48:36.153Z"
   },
   {
    "duration": 14,
    "start_time": "2022-07-31T18:48:36.170Z"
   },
   {
    "duration": 4,
    "start_time": "2022-07-31T18:48:36.187Z"
   },
   {
    "duration": 72,
    "start_time": "2022-07-31T18:48:36.209Z"
   },
   {
    "duration": 13,
    "start_time": "2022-07-31T18:48:36.283Z"
   },
   {
    "duration": 5,
    "start_time": "2022-07-31T18:48:36.298Z"
   },
   {
    "duration": 35,
    "start_time": "2022-07-31T18:48:36.305Z"
   },
   {
    "duration": 19,
    "start_time": "2022-07-31T18:48:36.343Z"
   },
   {
    "duration": 26,
    "start_time": "2022-07-31T18:48:36.364Z"
   },
   {
    "duration": 4,
    "start_time": "2022-07-31T18:48:36.409Z"
   },
   {
    "duration": 339,
    "start_time": "2022-07-31T18:48:36.415Z"
   },
   {
    "duration": 3,
    "start_time": "2022-07-31T18:48:36.756Z"
   },
   {
    "duration": 329,
    "start_time": "2022-07-31T18:49:53.753Z"
   },
   {
    "duration": 424,
    "start_time": "2022-07-31T18:51:24.712Z"
   },
   {
    "duration": 82,
    "start_time": "2022-07-31T18:51:25.138Z"
   },
   {
    "duration": 13,
    "start_time": "2022-07-31T18:51:25.222Z"
   },
   {
    "duration": 23,
    "start_time": "2022-07-31T18:51:25.238Z"
   },
   {
    "duration": 22,
    "start_time": "2022-07-31T18:51:25.263Z"
   },
   {
    "duration": 85,
    "start_time": "2022-07-31T18:51:25.287Z"
   },
   {
    "duration": 5,
    "start_time": "2022-07-31T18:51:25.374Z"
   },
   {
    "duration": 9,
    "start_time": "2022-07-31T18:51:25.381Z"
   },
   {
    "duration": 4,
    "start_time": "2022-07-31T18:51:25.410Z"
   },
   {
    "duration": 13,
    "start_time": "2022-07-31T18:51:25.417Z"
   },
   {
    "duration": 4,
    "start_time": "2022-07-31T18:51:25.432Z"
   },
   {
    "duration": 78,
    "start_time": "2022-07-31T18:51:25.437Z"
   },
   {
    "duration": 12,
    "start_time": "2022-07-31T18:51:25.517Z"
   },
   {
    "duration": 4,
    "start_time": "2022-07-31T18:51:25.531Z"
   },
   {
    "duration": 24,
    "start_time": "2022-07-31T18:51:25.537Z"
   },
   {
    "duration": 52,
    "start_time": "2022-07-31T18:51:25.563Z"
   },
   {
    "duration": 22,
    "start_time": "2022-07-31T18:51:25.617Z"
   },
   {
    "duration": 5,
    "start_time": "2022-07-31T18:51:25.641Z"
   },
   {
    "duration": 337,
    "start_time": "2022-07-31T18:51:25.648Z"
   },
   {
    "duration": 3,
    "start_time": "2022-07-31T18:51:25.987Z"
   },
   {
    "duration": 336,
    "start_time": "2022-07-31T18:51:55.051Z"
   },
   {
    "duration": 331,
    "start_time": "2022-07-31T19:01:05.988Z"
   },
   {
    "duration": 324,
    "start_time": "2022-07-31T19:05:47.546Z"
   },
   {
    "duration": 456,
    "start_time": "2022-07-31T19:06:38.129Z"
   },
   {
    "duration": 80,
    "start_time": "2022-07-31T19:06:38.587Z"
   },
   {
    "duration": 12,
    "start_time": "2022-07-31T19:06:38.668Z"
   },
   {
    "duration": 29,
    "start_time": "2022-07-31T19:06:38.682Z"
   },
   {
    "duration": 24,
    "start_time": "2022-07-31T19:06:38.713Z"
   },
   {
    "duration": 80,
    "start_time": "2022-07-31T19:06:38.739Z"
   },
   {
    "duration": 4,
    "start_time": "2022-07-31T19:06:38.821Z"
   },
   {
    "duration": 12,
    "start_time": "2022-07-31T19:06:38.827Z"
   },
   {
    "duration": 5,
    "start_time": "2022-07-31T19:06:38.841Z"
   },
   {
    "duration": 17,
    "start_time": "2022-07-31T19:06:38.848Z"
   },
   {
    "duration": 3,
    "start_time": "2022-07-31T19:06:38.867Z"
   },
   {
    "duration": 101,
    "start_time": "2022-07-31T19:06:38.872Z"
   },
   {
    "duration": 14,
    "start_time": "2022-07-31T19:06:38.975Z"
   },
   {
    "duration": 5,
    "start_time": "2022-07-31T19:06:38.991Z"
   },
   {
    "duration": 34,
    "start_time": "2022-07-31T19:06:38.998Z"
   },
   {
    "duration": 22,
    "start_time": "2022-07-31T19:06:39.034Z"
   },
   {
    "duration": 21,
    "start_time": "2022-07-31T19:06:39.058Z"
   },
   {
    "duration": 30,
    "start_time": "2022-07-31T19:06:39.081Z"
   },
   {
    "duration": 342,
    "start_time": "2022-07-31T19:06:39.113Z"
   },
   {
    "duration": 2,
    "start_time": "2022-07-31T19:06:39.457Z"
   },
   {
    "duration": 340,
    "start_time": "2022-07-31T19:07:21.225Z"
   },
   {
    "duration": 326,
    "start_time": "2022-07-31T19:07:42.904Z"
   },
   {
    "duration": 328,
    "start_time": "2022-07-31T19:25:32.827Z"
   },
   {
    "duration": 4,
    "start_time": "2022-07-31T19:38:50.382Z"
   },
   {
    "duration": 358,
    "start_time": "2022-07-31T19:42:32.000Z"
   },
   {
    "duration": 21,
    "start_time": "2022-07-31T19:53:18.014Z"
   },
   {
    "duration": 466,
    "start_time": "2022-07-31T19:53:46.978Z"
   },
   {
    "duration": 78,
    "start_time": "2022-07-31T19:53:47.446Z"
   },
   {
    "duration": 11,
    "start_time": "2022-07-31T19:53:47.525Z"
   },
   {
    "duration": 19,
    "start_time": "2022-07-31T19:53:47.538Z"
   },
   {
    "duration": 32,
    "start_time": "2022-07-31T19:53:47.559Z"
   },
   {
    "duration": 63,
    "start_time": "2022-07-31T19:53:47.593Z"
   },
   {
    "duration": 4,
    "start_time": "2022-07-31T19:53:47.657Z"
   },
   {
    "duration": 12,
    "start_time": "2022-07-31T19:53:47.663Z"
   },
   {
    "duration": 3,
    "start_time": "2022-07-31T19:53:47.677Z"
   },
   {
    "duration": 14,
    "start_time": "2022-07-31T19:53:47.682Z"
   },
   {
    "duration": 4,
    "start_time": "2022-07-31T19:53:47.710Z"
   },
   {
    "duration": 66,
    "start_time": "2022-07-31T19:53:47.715Z"
   },
   {
    "duration": 12,
    "start_time": "2022-07-31T19:53:47.783Z"
   },
   {
    "duration": 5,
    "start_time": "2022-07-31T19:53:47.813Z"
   },
   {
    "duration": 39,
    "start_time": "2022-07-31T19:53:47.820Z"
   },
   {
    "duration": 21,
    "start_time": "2022-07-31T19:53:47.861Z"
   },
   {
    "duration": 22,
    "start_time": "2022-07-31T19:53:47.911Z"
   },
   {
    "duration": 4,
    "start_time": "2022-07-31T19:53:47.935Z"
   },
   {
    "duration": 367,
    "start_time": "2022-07-31T19:53:47.941Z"
   },
   {
    "duration": 8,
    "start_time": "2022-07-31T19:53:48.310Z"
   },
   {
    "duration": 8,
    "start_time": "2022-07-31T20:16:41.469Z"
   },
   {
    "duration": 148,
    "start_time": "2022-07-31T20:19:59.717Z"
   },
   {
    "duration": 153,
    "start_time": "2022-07-31T20:20:33.803Z"
   },
   {
    "duration": 144,
    "start_time": "2022-07-31T20:20:45.751Z"
   },
   {
    "duration": 175,
    "start_time": "2022-07-31T20:21:34.098Z"
   },
   {
    "duration": 5,
    "start_time": "2022-07-31T20:22:27.098Z"
   },
   {
    "duration": 77,
    "start_time": "2022-07-31T20:22:32.717Z"
   },
   {
    "duration": 79,
    "start_time": "2022-07-31T20:22:43.194Z"
   },
   {
    "duration": 159,
    "start_time": "2022-07-31T20:22:49.080Z"
   },
   {
    "duration": 183,
    "start_time": "2022-07-31T20:24:02.007Z"
   },
   {
    "duration": 145,
    "start_time": "2022-07-31T20:24:21.182Z"
   },
   {
    "duration": 151,
    "start_time": "2022-07-31T20:24:38.053Z"
   },
   {
    "duration": 151,
    "start_time": "2022-07-31T20:28:18.724Z"
   },
   {
    "duration": 147,
    "start_time": "2022-07-31T20:32:53.318Z"
   },
   {
    "duration": 154,
    "start_time": "2022-07-31T20:35:56.061Z"
   },
   {
    "duration": 156,
    "start_time": "2022-07-31T20:40:00.813Z"
   },
   {
    "duration": 158,
    "start_time": "2022-07-31T20:44:29.617Z"
   },
   {
    "duration": 150,
    "start_time": "2022-07-31T20:44:59.581Z"
   }
  ],
  "colab": {
   "name": "dpp_template_part1.ipynb",
   "provenance": []
  },
  "kernelspec": {
   "display_name": "Python 3 (ipykernel)",
   "language": "python",
   "name": "python3"
  },
  "language_info": {
   "codemirror_mode": {
    "name": "ipython",
    "version": 3
   },
   "file_extension": ".py",
   "mimetype": "text/x-python",
   "name": "python",
   "nbconvert_exporter": "python",
   "pygments_lexer": "ipython3",
   "version": "3.9.5"
  },
  "toc": {
   "base_numbering": 1,
   "nav_menu": {},
   "number_sections": true,
   "sideBar": true,
   "skip_h1_title": true,
   "title_cell": "Table of Contents",
   "title_sidebar": "Contents",
   "toc_cell": false,
   "toc_position": {},
   "toc_section_display": true,
   "toc_window_display": false
  }
 },
 "nbformat": 4,
 "nbformat_minor": 5
}
