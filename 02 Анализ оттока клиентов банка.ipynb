{
 "cells": [
  {
   "cell_type": "markdown",
   "metadata": {},
   "source": [
    "Новая презентация\n",
    "\n",
    "https://disk.yandex.ru/i/CDsLohkY3AzvNA"
   ]
  },
  {
   "cell_type": "markdown",
   "metadata": {},
   "source": [
    "## Описание данных"
   ]
  },
  {
   "cell_type": "markdown",
   "metadata": {},
   "source": [
    "Цель исследования - выявить характеристики клиентов, которые склонны к уходу из банка. Дать рекомендации отделу маркетинга, нацеленные на снижение оттока клиентов, исходя из проведенного анализа.\n",
    "\n",
    "Датасет содержит данные о клиентах банка «Метанпром». Банк располагается в Ярославле и областных городах: Ростов Великий и Рыбинск.\n",
    "\n",
    "Колонки:\n",
    "\n",
    "- `userid` — идентификатор пользователя,\n",
    "- `score` — баллы кредитного скоринга,\n",
    "- `City` — город,\n",
    "- `Gender` — пол,\n",
    "- `Age` — возраст,\n",
    "- `Objects` — количество объектов в собственности,\n",
    "- `Balance` — баланс на счёте,\n",
    "- `Products` — количество продуктов, которыми пользуется клиент,\n",
    "- `CreditCard` — есть ли кредитная карта,\n",
    "- `Loyalty` — активный клиент,\n",
    "- `estimated_salary` — заработная плата клиента,\n",
    "- `Churn` — ушёл или нет."
   ]
  },
  {
   "cell_type": "markdown",
   "metadata": {},
   "source": [
    "## Подготовка данных"
   ]
  },
  {
   "cell_type": "code",
   "execution_count": 1,
   "metadata": {},
   "outputs": [],
   "source": [
    "import warnings\n",
    "warnings.filterwarnings('ignore')"
   ]
  },
  {
   "cell_type": "code",
   "execution_count": 2,
   "metadata": {},
   "outputs": [],
   "source": [
    "import pandas as pd\n",
    "import seaborn as sns\n",
    "import matplotlib.pyplot as plt\n",
    "import numpy as np\n",
    "import scipy.stats as st\n",
    "import math\n",
    "\n",
    "pd.options.mode.chained_assignment = None  "
   ]
  },
  {
   "cell_type": "code",
   "execution_count": 3,
   "metadata": {},
   "outputs": [],
   "source": [
    "df = pd.read_csv('/datasets/bank_dataset.csv')"
   ]
  },
  {
   "cell_type": "code",
   "execution_count": 4,
   "metadata": {},
   "outputs": [
    {
     "data": {
      "text/html": [
       "<div>\n",
       "<style scoped>\n",
       "    .dataframe tbody tr th:only-of-type {\n",
       "        vertical-align: middle;\n",
       "    }\n",
       "\n",
       "    .dataframe tbody tr th {\n",
       "        vertical-align: top;\n",
       "    }\n",
       "\n",
       "    .dataframe thead th {\n",
       "        text-align: right;\n",
       "    }\n",
       "</style>\n",
       "<table border=\"1\" class=\"dataframe\">\n",
       "  <thead>\n",
       "    <tr style=\"text-align: right;\">\n",
       "      <th></th>\n",
       "      <th>userid</th>\n",
       "      <th>score</th>\n",
       "      <th>City</th>\n",
       "      <th>Gender</th>\n",
       "      <th>Age</th>\n",
       "      <th>Objects</th>\n",
       "      <th>Balance</th>\n",
       "      <th>Products</th>\n",
       "      <th>CreditCard</th>\n",
       "      <th>Loyalty</th>\n",
       "      <th>estimated_salary</th>\n",
       "      <th>Churn</th>\n",
       "    </tr>\n",
       "  </thead>\n",
       "  <tbody>\n",
       "    <tr>\n",
       "      <th>0</th>\n",
       "      <td>15677338</td>\n",
       "      <td>619</td>\n",
       "      <td>Ярославль</td>\n",
       "      <td>Ж</td>\n",
       "      <td>42</td>\n",
       "      <td>2</td>\n",
       "      <td>NaN</td>\n",
       "      <td>1</td>\n",
       "      <td>1</td>\n",
       "      <td>1</td>\n",
       "      <td>101348.88</td>\n",
       "      <td>1</td>\n",
       "    </tr>\n",
       "    <tr>\n",
       "      <th>1</th>\n",
       "      <td>15690047</td>\n",
       "      <td>608</td>\n",
       "      <td>Рыбинск</td>\n",
       "      <td>Ж</td>\n",
       "      <td>41</td>\n",
       "      <td>1</td>\n",
       "      <td>83807.86</td>\n",
       "      <td>1</td>\n",
       "      <td>0</td>\n",
       "      <td>1</td>\n",
       "      <td>112542.58</td>\n",
       "      <td>0</td>\n",
       "    </tr>\n",
       "    <tr>\n",
       "      <th>2</th>\n",
       "      <td>15662040</td>\n",
       "      <td>502</td>\n",
       "      <td>Ярославль</td>\n",
       "      <td>Ж</td>\n",
       "      <td>42</td>\n",
       "      <td>8</td>\n",
       "      <td>159660.80</td>\n",
       "      <td>3</td>\n",
       "      <td>1</td>\n",
       "      <td>0</td>\n",
       "      <td>113931.57</td>\n",
       "      <td>1</td>\n",
       "    </tr>\n",
       "    <tr>\n",
       "      <th>3</th>\n",
       "      <td>15744090</td>\n",
       "      <td>699</td>\n",
       "      <td>Ярославль</td>\n",
       "      <td>Ж</td>\n",
       "      <td>39</td>\n",
       "      <td>1</td>\n",
       "      <td>NaN</td>\n",
       "      <td>2</td>\n",
       "      <td>0</td>\n",
       "      <td>0</td>\n",
       "      <td>93826.63</td>\n",
       "      <td>0</td>\n",
       "    </tr>\n",
       "    <tr>\n",
       "      <th>4</th>\n",
       "      <td>15780624</td>\n",
       "      <td>850</td>\n",
       "      <td>Рыбинск</td>\n",
       "      <td>Ж</td>\n",
       "      <td>43</td>\n",
       "      <td>2</td>\n",
       "      <td>125510.82</td>\n",
       "      <td>1</td>\n",
       "      <td>1</td>\n",
       "      <td>1</td>\n",
       "      <td>79084.10</td>\n",
       "      <td>0</td>\n",
       "    </tr>\n",
       "    <tr>\n",
       "      <th>5</th>\n",
       "      <td>15616748</td>\n",
       "      <td>645</td>\n",
       "      <td>Рыбинск</td>\n",
       "      <td>М</td>\n",
       "      <td>44</td>\n",
       "      <td>8</td>\n",
       "      <td>113755.78</td>\n",
       "      <td>2</td>\n",
       "      <td>1</td>\n",
       "      <td>0</td>\n",
       "      <td>149756.71</td>\n",
       "      <td>1</td>\n",
       "    </tr>\n",
       "    <tr>\n",
       "      <th>6</th>\n",
       "      <td>15635267</td>\n",
       "      <td>822</td>\n",
       "      <td>Ярославль</td>\n",
       "      <td>М</td>\n",
       "      <td>50</td>\n",
       "      <td>7</td>\n",
       "      <td>NaN</td>\n",
       "      <td>2</td>\n",
       "      <td>1</td>\n",
       "      <td>1</td>\n",
       "      <td>10062.80</td>\n",
       "      <td>0</td>\n",
       "    </tr>\n",
       "    <tr>\n",
       "      <th>7</th>\n",
       "      <td>15698884</td>\n",
       "      <td>376</td>\n",
       "      <td>Ростов Великий</td>\n",
       "      <td>Ж</td>\n",
       "      <td>29</td>\n",
       "      <td>4</td>\n",
       "      <td>115046.74</td>\n",
       "      <td>4</td>\n",
       "      <td>1</td>\n",
       "      <td>0</td>\n",
       "      <td>119346.88</td>\n",
       "      <td>1</td>\n",
       "    </tr>\n",
       "    <tr>\n",
       "      <th>8</th>\n",
       "      <td>15835101</td>\n",
       "      <td>501</td>\n",
       "      <td>Ярославль</td>\n",
       "      <td>М</td>\n",
       "      <td>44</td>\n",
       "      <td>4</td>\n",
       "      <td>142051.07</td>\n",
       "      <td>2</td>\n",
       "      <td>0</td>\n",
       "      <td>1</td>\n",
       "      <td>74940.50</td>\n",
       "      <td>0</td>\n",
       "    </tr>\n",
       "    <tr>\n",
       "      <th>9</th>\n",
       "      <td>15635125</td>\n",
       "      <td>684</td>\n",
       "      <td>Ярославль</td>\n",
       "      <td>М</td>\n",
       "      <td>27</td>\n",
       "      <td>2</td>\n",
       "      <td>134603.88</td>\n",
       "      <td>1</td>\n",
       "      <td>1</td>\n",
       "      <td>1</td>\n",
       "      <td>71725.73</td>\n",
       "      <td>0</td>\n",
       "    </tr>\n",
       "  </tbody>\n",
       "</table>\n",
       "</div>"
      ],
      "text/plain": [
       "     userid  score            City Gender  Age  Objects    Balance  Products  \\\n",
       "0  15677338    619       Ярославль      Ж   42        2        NaN         1   \n",
       "1  15690047    608         Рыбинск      Ж   41        1   83807.86         1   \n",
       "2  15662040    502       Ярославль      Ж   42        8  159660.80         3   \n",
       "3  15744090    699       Ярославль      Ж   39        1        NaN         2   \n",
       "4  15780624    850         Рыбинск      Ж   43        2  125510.82         1   \n",
       "5  15616748    645         Рыбинск      М   44        8  113755.78         2   \n",
       "6  15635267    822       Ярославль      М   50        7        NaN         2   \n",
       "7  15698884    376  Ростов Великий      Ж   29        4  115046.74         4   \n",
       "8  15835101    501       Ярославль      М   44        4  142051.07         2   \n",
       "9  15635125    684       Ярославль      М   27        2  134603.88         1   \n",
       "\n",
       "   CreditCard  Loyalty  estimated_salary  Churn  \n",
       "0           1        1         101348.88      1  \n",
       "1           0        1         112542.58      0  \n",
       "2           1        0         113931.57      1  \n",
       "3           0        0          93826.63      0  \n",
       "4           1        1          79084.10      0  \n",
       "5           1        0         149756.71      1  \n",
       "6           1        1          10062.80      0  \n",
       "7           1        0         119346.88      1  \n",
       "8           0        1          74940.50      0  \n",
       "9           1        1          71725.73      0  "
      ]
     },
     "execution_count": 4,
     "metadata": {},
     "output_type": "execute_result"
    }
   ],
   "source": [
    "df.head(10)"
   ]
  },
  {
   "cell_type": "code",
   "execution_count": 5,
   "metadata": {
    "scrolled": false
   },
   "outputs": [
    {
     "name": "stdout",
     "output_type": "stream",
     "text": [
      "<class 'pandas.core.frame.DataFrame'>\n",
      "RangeIndex: 10000 entries, 0 to 9999\n",
      "Data columns (total 12 columns):\n",
      " #   Column            Non-Null Count  Dtype  \n",
      "---  ------            --------------  -----  \n",
      " 0   userid            10000 non-null  int64  \n",
      " 1   score             10000 non-null  int64  \n",
      " 2   City              10000 non-null  object \n",
      " 3   Gender            10000 non-null  object \n",
      " 4   Age               10000 non-null  int64  \n",
      " 5   Objects           10000 non-null  int64  \n",
      " 6   Balance           6383 non-null   float64\n",
      " 7   Products          10000 non-null  int64  \n",
      " 8   CreditCard        10000 non-null  int64  \n",
      " 9   Loyalty           10000 non-null  int64  \n",
      " 10  estimated_salary  10000 non-null  float64\n",
      " 11  Churn             10000 non-null  int64  \n",
      "dtypes: float64(2), int64(8), object(2)\n",
      "memory usage: 937.6+ KB\n"
     ]
    }
   ],
   "source": [
    "df.info()"
   ]
  },
  {
   "cell_type": "markdown",
   "metadata": {},
   "source": [
    "### Предобработка данных"
   ]
  },
  {
   "cell_type": "markdown",
   "metadata": {},
   "source": [
    "В датасете 10000 строк и 12 столбцов.\n",
    "\n",
    "Названия некоторых столбцов содержат заглавные буквы, это можно исправить. Также названия некоторых столбцов для красоты можно привести к змеиному регистру.\n",
    "\n",
    "Пропуски в данных есть только в столбце с балансом."
   ]
  },
  {
   "cell_type": "code",
   "execution_count": 6,
   "metadata": {},
   "outputs": [],
   "source": [
    "#уберем из названия столбцов заглавные буквы\n",
    "df.columns = df.columns.str.lower()"
   ]
  },
  {
   "cell_type": "code",
   "execution_count": 7,
   "metadata": {},
   "outputs": [],
   "source": [
    "#приведем названия некоторые столбцов к змеиному регистру\n",
    "df.rename(columns = {'userid':'user_id', 'creditcard':'credit_card'}, inplace = True)"
   ]
  },
  {
   "cell_type": "code",
   "execution_count": 8,
   "metadata": {},
   "outputs": [
    {
     "data": {
      "text/plain": [
       "Index(['user_id', 'score', 'city', 'gender', 'age', 'objects', 'balance',\n",
       "       'products', 'credit_card', 'loyalty', 'estimated_salary', 'churn'],\n",
       "      dtype='object')"
      ]
     },
     "execution_count": 8,
     "metadata": {},
     "output_type": "execute_result"
    }
   ],
   "source": [
    "df.columns"
   ]
  },
  {
   "cell_type": "code",
   "execution_count": 9,
   "metadata": {},
   "outputs": [
    {
     "data": {
      "text/plain": [
       "0"
      ]
     },
     "execution_count": 9,
     "metadata": {},
     "output_type": "execute_result"
    }
   ],
   "source": [
    "#проверим данные на явные дубликаты\n",
    "df.duplicated().sum()"
   ]
  },
  {
   "cell_type": "markdown",
   "metadata": {},
   "source": [
    "Явных дубликатов нет."
   ]
  },
  {
   "cell_type": "code",
   "execution_count": 10,
   "metadata": {},
   "outputs": [
    {
     "data": {
      "text/plain": [
       "3617"
      ]
     },
     "execution_count": 10,
     "metadata": {},
     "output_type": "execute_result"
    }
   ],
   "source": [
    "len(df[df['balance'].isna()])"
   ]
  },
  {
   "cell_type": "markdown",
   "metadata": {},
   "source": [
    "В столбце с балансом 3617 пропусков, то есть в 36% случаев в данном столбце отсутствует информация."
   ]
  },
  {
   "cell_type": "code",
   "execution_count": 11,
   "metadata": {
    "scrolled": true
   },
   "outputs": [
    {
     "data": {
      "text/plain": [
       "city\n",
       "Рыбинск      1199\n",
       "Ярославль    2418\n",
       "Name: city, dtype: int64"
      ]
     },
     "execution_count": 11,
     "metadata": {},
     "output_type": "execute_result"
    }
   ],
   "source": [
    "#посмотрим на распределение пропусков в столбце с балансом по городам\n",
    "df[df['balance'].isna()].groupby('city')['city'].count()"
   ]
  },
  {
   "cell_type": "code",
   "execution_count": 12,
   "metadata": {},
   "outputs": [
    {
     "data": {
      "text/plain": [
       "city\n",
       "Ростов Великий    2509\n",
       "Рыбинск           2477\n",
       "Ярославль         5014\n",
       "Name: city, dtype: int64"
      ]
     },
     "execution_count": 12,
     "metadata": {},
     "output_type": "execute_result"
    }
   ],
   "source": [
    "df.groupby('city')['city'].count()"
   ]
  },
  {
   "cell_type": "markdown",
   "metadata": {},
   "source": [
    "Примечательно, что у клиентов из Ростова Великого нет ни одного пропуска в столбце с балансом, хотя их доля составляет 25% от общего числа клиентов.\n",
    "В Ярославле и Рыбинске нет данных о балансе примерно у каждого второго клиента."
   ]
  },
  {
   "cell_type": "code",
   "execution_count": 13,
   "metadata": {},
   "outputs": [
    {
     "data": {
      "text/plain": [
       "count      6383.000000\n",
       "mean     119827.493793\n",
       "std       30095.056462\n",
       "min        3768.690000\n",
       "25%      100181.975000\n",
       "50%      119839.690000\n",
       "75%      139512.290000\n",
       "max      250898.090000\n",
       "Name: balance, dtype: float64"
      ]
     },
     "execution_count": 13,
     "metadata": {},
     "output_type": "execute_result"
    }
   ],
   "source": [
    "df['balance'].describe()"
   ]
  },
  {
   "cell_type": "markdown",
   "metadata": {},
   "source": [
    "Т.к. пропуски в балансе распространяются не на весь датасет, а на 2 города, то можно предположить, что причина их появления в техническом сбое применительно к филиалам конкретно в этих 2 городах. Можно также предположить, что пропуск в столбце соответствует клиенту без дебетовой карты/вклада/накопительного счета, но почему-то актуально это только для Рыбинска и Ярославля.\n",
    "\n",
    "Пропуски в данных не должны помешать анализу, поэтому избавляться от них не будем."
   ]
  },
  {
   "cell_type": "markdown",
   "metadata": {},
   "source": [
    "### Проверка данных на реалистичность"
   ]
  },
  {
   "cell_type": "code",
   "execution_count": 14,
   "metadata": {},
   "outputs": [
    {
     "data": {
      "text/html": [
       "<div>\n",
       "<style scoped>\n",
       "    .dataframe tbody tr th:only-of-type {\n",
       "        vertical-align: middle;\n",
       "    }\n",
       "\n",
       "    .dataframe tbody tr th {\n",
       "        vertical-align: top;\n",
       "    }\n",
       "\n",
       "    .dataframe thead th {\n",
       "        text-align: right;\n",
       "    }\n",
       "</style>\n",
       "<table border=\"1\" class=\"dataframe\">\n",
       "  <thead>\n",
       "    <tr style=\"text-align: right;\">\n",
       "      <th></th>\n",
       "      <th>user_id</th>\n",
       "      <th>score</th>\n",
       "      <th>age</th>\n",
       "      <th>objects</th>\n",
       "      <th>balance</th>\n",
       "      <th>products</th>\n",
       "      <th>credit_card</th>\n",
       "      <th>loyalty</th>\n",
       "      <th>estimated_salary</th>\n",
       "      <th>churn</th>\n",
       "    </tr>\n",
       "  </thead>\n",
       "  <tbody>\n",
       "    <tr>\n",
       "      <th>count</th>\n",
       "      <td>1.000000e+04</td>\n",
       "      <td>10000.000000</td>\n",
       "      <td>10000.000000</td>\n",
       "      <td>10000.000000</td>\n",
       "      <td>6383.000000</td>\n",
       "      <td>10000.000000</td>\n",
       "      <td>10000.00000</td>\n",
       "      <td>10000.000000</td>\n",
       "      <td>10000.000000</td>\n",
       "      <td>10000.000000</td>\n",
       "    </tr>\n",
       "    <tr>\n",
       "      <th>mean</th>\n",
       "      <td>1.573368e+07</td>\n",
       "      <td>650.528800</td>\n",
       "      <td>38.921800</td>\n",
       "      <td>5.012800</td>\n",
       "      <td>119827.493793</td>\n",
       "      <td>1.530200</td>\n",
       "      <td>0.70550</td>\n",
       "      <td>0.515100</td>\n",
       "      <td>100090.239881</td>\n",
       "      <td>0.203700</td>\n",
       "    </tr>\n",
       "    <tr>\n",
       "      <th>std</th>\n",
       "      <td>7.193619e+04</td>\n",
       "      <td>96.653299</td>\n",
       "      <td>10.487806</td>\n",
       "      <td>2.892174</td>\n",
       "      <td>30095.056462</td>\n",
       "      <td>0.581654</td>\n",
       "      <td>0.45584</td>\n",
       "      <td>0.499797</td>\n",
       "      <td>57510.492818</td>\n",
       "      <td>0.402769</td>\n",
       "    </tr>\n",
       "    <tr>\n",
       "      <th>min</th>\n",
       "      <td>1.560844e+07</td>\n",
       "      <td>350.000000</td>\n",
       "      <td>18.000000</td>\n",
       "      <td>0.000000</td>\n",
       "      <td>3768.690000</td>\n",
       "      <td>1.000000</td>\n",
       "      <td>0.00000</td>\n",
       "      <td>0.000000</td>\n",
       "      <td>11.580000</td>\n",
       "      <td>0.000000</td>\n",
       "    </tr>\n",
       "    <tr>\n",
       "      <th>25%</th>\n",
       "      <td>1.567126e+07</td>\n",
       "      <td>584.000000</td>\n",
       "      <td>32.000000</td>\n",
       "      <td>3.000000</td>\n",
       "      <td>100181.975000</td>\n",
       "      <td>1.000000</td>\n",
       "      <td>0.00000</td>\n",
       "      <td>0.000000</td>\n",
       "      <td>51002.110000</td>\n",
       "      <td>0.000000</td>\n",
       "    </tr>\n",
       "    <tr>\n",
       "      <th>50%</th>\n",
       "      <td>1.573347e+07</td>\n",
       "      <td>652.000000</td>\n",
       "      <td>37.000000</td>\n",
       "      <td>5.000000</td>\n",
       "      <td>119839.690000</td>\n",
       "      <td>1.000000</td>\n",
       "      <td>1.00000</td>\n",
       "      <td>1.000000</td>\n",
       "      <td>100193.915000</td>\n",
       "      <td>0.000000</td>\n",
       "    </tr>\n",
       "    <tr>\n",
       "      <th>75%</th>\n",
       "      <td>1.579597e+07</td>\n",
       "      <td>718.000000</td>\n",
       "      <td>44.000000</td>\n",
       "      <td>7.000000</td>\n",
       "      <td>139512.290000</td>\n",
       "      <td>2.000000</td>\n",
       "      <td>1.00000</td>\n",
       "      <td>1.000000</td>\n",
       "      <td>149388.247500</td>\n",
       "      <td>0.000000</td>\n",
       "    </tr>\n",
       "    <tr>\n",
       "      <th>max</th>\n",
       "      <td>1.585843e+07</td>\n",
       "      <td>850.000000</td>\n",
       "      <td>92.000000</td>\n",
       "      <td>10.000000</td>\n",
       "      <td>250898.090000</td>\n",
       "      <td>4.000000</td>\n",
       "      <td>1.00000</td>\n",
       "      <td>1.000000</td>\n",
       "      <td>199992.480000</td>\n",
       "      <td>1.000000</td>\n",
       "    </tr>\n",
       "  </tbody>\n",
       "</table>\n",
       "</div>"
      ],
      "text/plain": [
       "            user_id         score           age       objects        balance  \\\n",
       "count  1.000000e+04  10000.000000  10000.000000  10000.000000    6383.000000   \n",
       "mean   1.573368e+07    650.528800     38.921800      5.012800  119827.493793   \n",
       "std    7.193619e+04     96.653299     10.487806      2.892174   30095.056462   \n",
       "min    1.560844e+07    350.000000     18.000000      0.000000    3768.690000   \n",
       "25%    1.567126e+07    584.000000     32.000000      3.000000  100181.975000   \n",
       "50%    1.573347e+07    652.000000     37.000000      5.000000  119839.690000   \n",
       "75%    1.579597e+07    718.000000     44.000000      7.000000  139512.290000   \n",
       "max    1.585843e+07    850.000000     92.000000     10.000000  250898.090000   \n",
       "\n",
       "           products  credit_card       loyalty  estimated_salary         churn  \n",
       "count  10000.000000  10000.00000  10000.000000      10000.000000  10000.000000  \n",
       "mean       1.530200      0.70550      0.515100     100090.239881      0.203700  \n",
       "std        0.581654      0.45584      0.499797      57510.492818      0.402769  \n",
       "min        1.000000      0.00000      0.000000         11.580000      0.000000  \n",
       "25%        1.000000      0.00000      0.000000      51002.110000      0.000000  \n",
       "50%        1.000000      1.00000      1.000000     100193.915000      0.000000  \n",
       "75%        2.000000      1.00000      1.000000     149388.247500      0.000000  \n",
       "max        4.000000      1.00000      1.000000     199992.480000      1.000000  "
      ]
     },
     "execution_count": 14,
     "metadata": {},
     "output_type": "execute_result"
    }
   ],
   "source": [
    "df.describe()"
   ]
  },
  {
   "cell_type": "markdown",
   "metadata": {},
   "source": [
    "Проверим данные на реалистичность:\n",
    "\n",
    "1. Минимальное значение кредитного скоринга в датасете - 350, максимальное - 850. Согласно ресурсу sravni.ru (https://www.sravni.ru/enciklopediya/info/skoringovyi-ball/), шансы получить кредит есть при кредитном рейтинге от 600 баллов, поэтому аномалий нет.\n",
    "\n",
    "2. Значения возраста распределены от 18 до 92 лет. Аномалий нет, т.к. в датасете представлены не только заемщики, а пользователи банка в целом, поэтому в 92 года кто-то может получить пенсию на карту банка.\n",
    "\n",
    "3. \n",
    "    * Значения заработной платы варьируются от 11 рублей до 200000 рублей. С верхним пределом - все нормально. Нижний предел вызывает подозрения. Здесь, скорее всего, в качестве заработной платы может выступать и пособие. Минимальное пособие по безработице в 21-22 гг составляло 1500 руб. в месяц. Клиентов с ежемесячным доходом ниже 1500 руб. - 83 человека. \n",
    "\n",
    "    * При этом среди этих 83 человек баланс на счете в среднем составляет 115 тыс, что не мало.\n",
    "\n",
    "    * Возможно также было бы предположить, что в категорию заработной платы могла попадать стипендия, тогда минимальный размер стипендии для колледжей в 638 руб мог бы объяснить нахождение среди 83 человек большого количества людей возраста 18-20. Но гистограмма ниже показывает, что в основном среди этих 83 человек люди в возрастной категории 30-40.\n",
    "    \n",
    "    * Также причина могла быть в невнимательном операторе, забивающим данные, но распределение людей с низкой заработной платой равномерно среди трех городов, поэтому данная версия также не подходит под объяснение.\n",
    "\n",
    "4. В целом можно заметить, что в датасете завышенная средняя заработная плата по Ярославской области и заниженный средний уровень баланса на счете клиентов. Так, средняя заработная плата в Ярославской области по последний данным Росстата (https://bankiros.ru/wiki/term/crednaa-zarplata-v-aroslavle) составляла 40307 рублей в месяц. \n",
    "\n",
    "5. Также можно отметить подозрительно большое кол-во объектов в собственности у клиентов - 5 шт.\n",
    "\n",
    "6. Остальные столбцы не вызывают вопросов."
   ]
  },
  {
   "cell_type": "code",
   "execution_count": 15,
   "metadata": {
    "scrolled": true
   },
   "outputs": [
    {
     "data": {
      "text/plain": [
       "83"
      ]
     },
     "execution_count": 15,
     "metadata": {},
     "output_type": "execute_result"
    }
   ],
   "source": [
    "len(df.query('estimated_salary < 1500'))"
   ]
  },
  {
   "cell_type": "code",
   "execution_count": 16,
   "metadata": {
    "scrolled": true
   },
   "outputs": [
    {
     "data": {
      "text/html": [
       "<div>\n",
       "<style scoped>\n",
       "    .dataframe tbody tr th:only-of-type {\n",
       "        vertical-align: middle;\n",
       "    }\n",
       "\n",
       "    .dataframe tbody tr th {\n",
       "        vertical-align: top;\n",
       "    }\n",
       "\n",
       "    .dataframe thead th {\n",
       "        text-align: right;\n",
       "    }\n",
       "</style>\n",
       "<table border=\"1\" class=\"dataframe\">\n",
       "  <thead>\n",
       "    <tr style=\"text-align: right;\">\n",
       "      <th></th>\n",
       "      <th>user_id</th>\n",
       "      <th>score</th>\n",
       "      <th>age</th>\n",
       "      <th>objects</th>\n",
       "      <th>balance</th>\n",
       "      <th>products</th>\n",
       "      <th>credit_card</th>\n",
       "      <th>loyalty</th>\n",
       "      <th>estimated_salary</th>\n",
       "      <th>churn</th>\n",
       "    </tr>\n",
       "  </thead>\n",
       "  <tbody>\n",
       "    <tr>\n",
       "      <th>count</th>\n",
       "      <td>8.300000e+01</td>\n",
       "      <td>83.000000</td>\n",
       "      <td>83.000000</td>\n",
       "      <td>83.000000</td>\n",
       "      <td>45.000000</td>\n",
       "      <td>83.000000</td>\n",
       "      <td>83.000000</td>\n",
       "      <td>83.000000</td>\n",
       "      <td>83.00000</td>\n",
       "      <td>83.000000</td>\n",
       "    </tr>\n",
       "    <tr>\n",
       "      <th>mean</th>\n",
       "      <td>1.572269e+07</td>\n",
       "      <td>661.566265</td>\n",
       "      <td>40.144578</td>\n",
       "      <td>5.216867</td>\n",
       "      <td>115875.300222</td>\n",
       "      <td>1.506024</td>\n",
       "      <td>0.686747</td>\n",
       "      <td>0.530120</td>\n",
       "      <td>759.97759</td>\n",
       "      <td>0.204819</td>\n",
       "    </tr>\n",
       "    <tr>\n",
       "      <th>std</th>\n",
       "      <td>7.092034e+04</td>\n",
       "      <td>96.197738</td>\n",
       "      <td>10.632592</td>\n",
       "      <td>3.056573</td>\n",
       "      <td>31309.673497</td>\n",
       "      <td>0.503003</td>\n",
       "      <td>0.466636</td>\n",
       "      <td>0.502126</td>\n",
       "      <td>393.91806</td>\n",
       "      <td>0.406023</td>\n",
       "    </tr>\n",
       "    <tr>\n",
       "      <th>min</th>\n",
       "      <td>1.560895e+07</td>\n",
       "      <td>416.000000</td>\n",
       "      <td>21.000000</td>\n",
       "      <td>0.000000</td>\n",
       "      <td>54503.550000</td>\n",
       "      <td>1.000000</td>\n",
       "      <td>0.000000</td>\n",
       "      <td>0.000000</td>\n",
       "      <td>11.58000</td>\n",
       "      <td>0.000000</td>\n",
       "    </tr>\n",
       "    <tr>\n",
       "      <th>25%</th>\n",
       "      <td>1.566183e+07</td>\n",
       "      <td>600.500000</td>\n",
       "      <td>33.500000</td>\n",
       "      <td>3.000000</td>\n",
       "      <td>96110.220000</td>\n",
       "      <td>1.000000</td>\n",
       "      <td>0.000000</td>\n",
       "      <td>0.000000</td>\n",
       "      <td>474.24000</td>\n",
       "      <td>0.000000</td>\n",
       "    </tr>\n",
       "    <tr>\n",
       "      <th>50%</th>\n",
       "      <td>1.571931e+07</td>\n",
       "      <td>663.000000</td>\n",
       "      <td>38.000000</td>\n",
       "      <td>5.000000</td>\n",
       "      <td>109679.720000</td>\n",
       "      <td>2.000000</td>\n",
       "      <td>1.000000</td>\n",
       "      <td>1.000000</td>\n",
       "      <td>747.88000</td>\n",
       "      <td>0.000000</td>\n",
       "    </tr>\n",
       "    <tr>\n",
       "      <th>75%</th>\n",
       "      <td>1.578302e+07</td>\n",
       "      <td>719.500000</td>\n",
       "      <td>45.000000</td>\n",
       "      <td>8.000000</td>\n",
       "      <td>129753.690000</td>\n",
       "      <td>2.000000</td>\n",
       "      <td>1.000000</td>\n",
       "      <td>1.000000</td>\n",
       "      <td>1077.80500</td>\n",
       "      <td>0.000000</td>\n",
       "    </tr>\n",
       "    <tr>\n",
       "      <th>max</th>\n",
       "      <td>1.585557e+07</td>\n",
       "      <td>850.000000</td>\n",
       "      <td>75.000000</td>\n",
       "      <td>10.000000</td>\n",
       "      <td>204510.940000</td>\n",
       "      <td>2.000000</td>\n",
       "      <td>1.000000</td>\n",
       "      <td>1.000000</td>\n",
       "      <td>1485.27000</td>\n",
       "      <td>1.000000</td>\n",
       "    </tr>\n",
       "  </tbody>\n",
       "</table>\n",
       "</div>"
      ],
      "text/plain": [
       "            user_id       score        age    objects        balance  \\\n",
       "count  8.300000e+01   83.000000  83.000000  83.000000      45.000000   \n",
       "mean   1.572269e+07  661.566265  40.144578   5.216867  115875.300222   \n",
       "std    7.092034e+04   96.197738  10.632592   3.056573   31309.673497   \n",
       "min    1.560895e+07  416.000000  21.000000   0.000000   54503.550000   \n",
       "25%    1.566183e+07  600.500000  33.500000   3.000000   96110.220000   \n",
       "50%    1.571931e+07  663.000000  38.000000   5.000000  109679.720000   \n",
       "75%    1.578302e+07  719.500000  45.000000   8.000000  129753.690000   \n",
       "max    1.585557e+07  850.000000  75.000000  10.000000  204510.940000   \n",
       "\n",
       "        products  credit_card    loyalty  estimated_salary      churn  \n",
       "count  83.000000    83.000000  83.000000          83.00000  83.000000  \n",
       "mean    1.506024     0.686747   0.530120         759.97759   0.204819  \n",
       "std     0.503003     0.466636   0.502126         393.91806   0.406023  \n",
       "min     1.000000     0.000000   0.000000          11.58000   0.000000  \n",
       "25%     1.000000     0.000000   0.000000         474.24000   0.000000  \n",
       "50%     2.000000     1.000000   1.000000         747.88000   0.000000  \n",
       "75%     2.000000     1.000000   1.000000        1077.80500   0.000000  \n",
       "max     2.000000     1.000000   1.000000        1485.27000   1.000000  "
      ]
     },
     "execution_count": 16,
     "metadata": {},
     "output_type": "execute_result"
    }
   ],
   "source": [
    "df.query('estimated_salary < 1500').describe()"
   ]
  },
  {
   "cell_type": "code",
   "execution_count": 17,
   "metadata": {
    "scrolled": false
   },
   "outputs": [
    {
     "data": {
      "image/png": "[encoded data removed]",
      "text/plain": [
       "<Figure size 432x288 with 1 Axes>"
      ]
     },
     "metadata": {
      "needs_background": "light"
     },
     "output_type": "display_data"
    }
   ],
   "source": [
    "df.query('estimated_salary < 1500')['age'].hist(bins=30);"
   ]
  },
  {
   "cell_type": "code",
   "execution_count": 18,
   "metadata": {
    "scrolled": true
   },
   "outputs": [
    {
     "data": {
      "text/plain": [
       "Ярославль         49\n",
       "Ростов Великий    22\n",
       "Рыбинск           12\n",
       "Name: city, dtype: int64"
      ]
     },
     "execution_count": 18,
     "metadata": {},
     "output_type": "execute_result"
    }
   ],
   "source": [
    "df.query('estimated_salary < 1500')['city'].value_counts()"
   ]
  },
  {
   "cell_type": "markdown",
   "metadata": {},
   "source": [
    "Вывод 1\n",
    "\n",
    "1. В данных 10000 уникальных клиентов, проверена реалистичность данных, наличие дубликатов, корректность названий столбцов.\n",
    "\n",
    "2. Пропуски имеются только в столбце с балансом. Примечательно, что пропуски есть только у клиентов из Рыбинска и Ярославля, при этом ни одного пропуска нет у клиентов из Ростова Великого, что может говорить о техническом сбое в первых двух городах. Пропуски оставлены. \n",
    "\n",
    "3. В столбце с заработной платой есть значения ниже пособия по безработице, не говоря уже о минимальной ставке заработной платы. Причина неизвестна, возможно, с определенной частотой во всех городах менеджеры отеделений забывают добавить к числу два или три нуля. Аномальные значения оставлены."
   ]
  },
  {
   "cell_type": "markdown",
   "metadata": {},
   "source": [
    "\n",
    "<div class=\"alert alert-success\">\n",
    "<b>Комментарий тимлида:</b> Супер !\n",
    "</div>"
   ]
  },
  {
   "cell_type": "markdown",
   "metadata": {},
   "source": [
    "### Категоризация данных"
   ]
  },
  {
   "cell_type": "code",
   "execution_count": 19,
   "metadata": {
    "scrolled": true
   },
   "outputs": [
    {
     "data": {
      "text/html": [
       "<div>\n",
       "<style scoped>\n",
       "    .dataframe tbody tr th:only-of-type {\n",
       "        vertical-align: middle;\n",
       "    }\n",
       "\n",
       "    .dataframe tbody tr th {\n",
       "        vertical-align: top;\n",
       "    }\n",
       "\n",
       "    .dataframe thead th {\n",
       "        text-align: right;\n",
       "    }\n",
       "</style>\n",
       "<table border=\"1\" class=\"dataframe\">\n",
       "  <thead>\n",
       "    <tr style=\"text-align: right;\">\n",
       "      <th></th>\n",
       "      <th>user_id</th>\n",
       "      <th>score</th>\n",
       "      <th>age</th>\n",
       "      <th>objects</th>\n",
       "      <th>balance</th>\n",
       "      <th>products</th>\n",
       "      <th>credit_card</th>\n",
       "      <th>loyalty</th>\n",
       "      <th>estimated_salary</th>\n",
       "      <th>churn</th>\n",
       "    </tr>\n",
       "  </thead>\n",
       "  <tbody>\n",
       "    <tr>\n",
       "      <th>count</th>\n",
       "      <td>1.000000e+04</td>\n",
       "      <td>10000.000000</td>\n",
       "      <td>10000.000000</td>\n",
       "      <td>10000.000000</td>\n",
       "      <td>6383.000000</td>\n",
       "      <td>10000.000000</td>\n",
       "      <td>10000.00000</td>\n",
       "      <td>10000.000000</td>\n",
       "      <td>10000.000000</td>\n",
       "      <td>10000.000000</td>\n",
       "    </tr>\n",
       "    <tr>\n",
       "      <th>mean</th>\n",
       "      <td>1.573368e+07</td>\n",
       "      <td>650.528800</td>\n",
       "      <td>38.921800</td>\n",
       "      <td>5.012800</td>\n",
       "      <td>119827.493793</td>\n",
       "      <td>1.530200</td>\n",
       "      <td>0.70550</td>\n",
       "      <td>0.515100</td>\n",
       "      <td>100090.239881</td>\n",
       "      <td>0.203700</td>\n",
       "    </tr>\n",
       "    <tr>\n",
       "      <th>std</th>\n",
       "      <td>7.193619e+04</td>\n",
       "      <td>96.653299</td>\n",
       "      <td>10.487806</td>\n",
       "      <td>2.892174</td>\n",
       "      <td>30095.056462</td>\n",
       "      <td>0.581654</td>\n",
       "      <td>0.45584</td>\n",
       "      <td>0.499797</td>\n",
       "      <td>57510.492818</td>\n",
       "      <td>0.402769</td>\n",
       "    </tr>\n",
       "    <tr>\n",
       "      <th>min</th>\n",
       "      <td>1.560844e+07</td>\n",
       "      <td>350.000000</td>\n",
       "      <td>18.000000</td>\n",
       "      <td>0.000000</td>\n",
       "      <td>3768.690000</td>\n",
       "      <td>1.000000</td>\n",
       "      <td>0.00000</td>\n",
       "      <td>0.000000</td>\n",
       "      <td>11.580000</td>\n",
       "      <td>0.000000</td>\n",
       "    </tr>\n",
       "    <tr>\n",
       "      <th>25%</th>\n",
       "      <td>1.567126e+07</td>\n",
       "      <td>584.000000</td>\n",
       "      <td>32.000000</td>\n",
       "      <td>3.000000</td>\n",
       "      <td>100181.975000</td>\n",
       "      <td>1.000000</td>\n",
       "      <td>0.00000</td>\n",
       "      <td>0.000000</td>\n",
       "      <td>51002.110000</td>\n",
       "      <td>0.000000</td>\n",
       "    </tr>\n",
       "    <tr>\n",
       "      <th>50%</th>\n",
       "      <td>1.573347e+07</td>\n",
       "      <td>652.000000</td>\n",
       "      <td>37.000000</td>\n",
       "      <td>5.000000</td>\n",
       "      <td>119839.690000</td>\n",
       "      <td>1.000000</td>\n",
       "      <td>1.00000</td>\n",
       "      <td>1.000000</td>\n",
       "      <td>100193.915000</td>\n",
       "      <td>0.000000</td>\n",
       "    </tr>\n",
       "    <tr>\n",
       "      <th>75%</th>\n",
       "      <td>1.579597e+07</td>\n",
       "      <td>718.000000</td>\n",
       "      <td>44.000000</td>\n",
       "      <td>7.000000</td>\n",
       "      <td>139512.290000</td>\n",
       "      <td>2.000000</td>\n",
       "      <td>1.00000</td>\n",
       "      <td>1.000000</td>\n",
       "      <td>149388.247500</td>\n",
       "      <td>0.000000</td>\n",
       "    </tr>\n",
       "    <tr>\n",
       "      <th>max</th>\n",
       "      <td>1.585843e+07</td>\n",
       "      <td>850.000000</td>\n",
       "      <td>92.000000</td>\n",
       "      <td>10.000000</td>\n",
       "      <td>250898.090000</td>\n",
       "      <td>4.000000</td>\n",
       "      <td>1.00000</td>\n",
       "      <td>1.000000</td>\n",
       "      <td>199992.480000</td>\n",
       "      <td>1.000000</td>\n",
       "    </tr>\n",
       "  </tbody>\n",
       "</table>\n",
       "</div>"
      ],
      "text/plain": [
       "            user_id         score           age       objects        balance  \\\n",
       "count  1.000000e+04  10000.000000  10000.000000  10000.000000    6383.000000   \n",
       "mean   1.573368e+07    650.528800     38.921800      5.012800  119827.493793   \n",
       "std    7.193619e+04     96.653299     10.487806      2.892174   30095.056462   \n",
       "min    1.560844e+07    350.000000     18.000000      0.000000    3768.690000   \n",
       "25%    1.567126e+07    584.000000     32.000000      3.000000  100181.975000   \n",
       "50%    1.573347e+07    652.000000     37.000000      5.000000  119839.690000   \n",
       "75%    1.579597e+07    718.000000     44.000000      7.000000  139512.290000   \n",
       "max    1.585843e+07    850.000000     92.000000     10.000000  250898.090000   \n",
       "\n",
       "           products  credit_card       loyalty  estimated_salary         churn  \n",
       "count  10000.000000  10000.00000  10000.000000      10000.000000  10000.000000  \n",
       "mean       1.530200      0.70550      0.515100     100090.239881      0.203700  \n",
       "std        0.581654      0.45584      0.499797      57510.492818      0.402769  \n",
       "min        1.000000      0.00000      0.000000         11.580000      0.000000  \n",
       "25%        1.000000      0.00000      0.000000      51002.110000      0.000000  \n",
       "50%        1.000000      1.00000      1.000000     100193.915000      0.000000  \n",
       "75%        2.000000      1.00000      1.000000     149388.247500      0.000000  \n",
       "max        4.000000      1.00000      1.000000     199992.480000      1.000000  "
      ]
     },
     "execution_count": 19,
     "metadata": {},
     "output_type": "execute_result"
    }
   ],
   "source": [
    "df.describe()"
   ]
  },
  {
   "cell_type": "markdown",
   "metadata": {},
   "source": [
    "Для начала проведем категоризацию клиентов по уровню дохода.\n",
    "\n",
    "МРОТ для Ярославской области на 1 января 2023 года составляет 16242 рубля, округлим до 16000. Средняя зарплата для Ярославской области в 2021 году составляла 40307 рублей, округлим до 40000. \n",
    "\n",
    "Установим следующие границы для категоризации клиентов по уровню дохода:\n",
    "\n",
    "1. ниже 16000 рублей - ниже МРОТ\n",
    "2. 16000 - 40000 - низкий \n",
    "3. 40000 - 100000 - средний\n",
    "4. 100000 и более - высокий"
   ]
  },
  {
   "cell_type": "code",
   "execution_count": 20,
   "metadata": {},
   "outputs": [],
   "source": [
    "def category_by_estimated_salary(df):\n",
    "    \n",
    "    if df['estimated_salary'] <= 16000:\n",
    "        return 'крайне низкий'\n",
    "    \n",
    "    elif df['estimated_salary'] <= 40000:\n",
    "        return 'низкий'\n",
    "    \n",
    "    elif df['estimated_salary'] <= 100000:\n",
    "        return 'средний'\n",
    "    \n",
    "    else:\n",
    "        return 'высокий'\n",
    "\n",
    "df['salary_level'] = df.apply(category_by_estimated_salary, axis=1)"
   ]
  },
  {
   "cell_type": "code",
   "execution_count": 21,
   "metadata": {},
   "outputs": [
    {
     "data": {
      "text/plain": [
       "высокий          5010\n",
       "средний          3035\n",
       "низкий           1161\n",
       "крайне низкий     794\n",
       "Name: salary_level, dtype: int64"
      ]
     },
     "execution_count": 21,
     "metadata": {},
     "output_type": "execute_result"
    }
   ],
   "source": [
    "df['salary_level'].value_counts()"
   ]
  },
  {
   "cell_type": "code",
   "execution_count": 22,
   "metadata": {},
   "outputs": [
    {
     "data": {
      "image/png": "[encoded data removed]",
      "text/plain": [
       "<Figure size 432x288 with 1 Axes>"
      ]
     },
     "metadata": {
      "needs_background": "light"
     },
     "output_type": "display_data"
    }
   ],
   "source": [
    "df['salary_level'].value_counts().sort_values(ascending=False).plot(kind='bar')\n",
    "plt.xticks(rotation=45)\n",
    "plt.ylabel('кол-во клиентов')\n",
    "plt.xlabel('уровень дохода')\n",
    "plt.title('Распределение клиентов по уровню дохода');"
   ]
  },
  {
   "cell_type": "markdown",
   "metadata": {},
   "source": [
    "Проведем категоризацию клиентов банка по возрасту:\n",
    "\n",
    "Выделим следующие возрастные группы:\n",
    "\n",
    "1. 18-24 - молодежь, иногда распологающая собственными источниками заработка\n",
    "\n",
    "2. 25-44 - экономически активное население с маленькими детьми и собственными источниками заработка\n",
    "\n",
    "3. 45-64 - экономически активное население со взрослыми детьми и собственными источниками заработка\n",
    "\n",
    "4. 65 и старшие - люди пенсионного возраста без собственных источников заработка"
   ]
  },
  {
   "cell_type": "code",
   "execution_count": 23,
   "metadata": {},
   "outputs": [],
   "source": [
    "def category_by_age(df):\n",
    "    \n",
    "    if 18 <= df['age'] <= 24:\n",
    "        return '18-24'\n",
    "    \n",
    "    elif 25 <= df['age'] <= 44:\n",
    "        return '25-44'\n",
    "    \n",
    "    elif 45 <= df['age'] <= 64:\n",
    "        return '45-64'\n",
    "    \n",
    "    else:\n",
    "        return '65 и старше'\n",
    "\n",
    "df['age_category'] = df.apply(category_by_age, axis=1)"
   ]
  },
  {
   "cell_type": "code",
   "execution_count": 24,
   "metadata": {},
   "outputs": [
    {
     "data": {
      "text/plain": [
       "25-44          7203\n",
       "45-64          2058\n",
       "18-24           457\n",
       "65 и старше     282\n",
       "Name: age_category, dtype: int64"
      ]
     },
     "execution_count": 24,
     "metadata": {},
     "output_type": "execute_result"
    }
   ],
   "source": [
    "df['age_category'].value_counts()"
   ]
  },
  {
   "cell_type": "code",
   "execution_count": 25,
   "metadata": {},
   "outputs": [
    {
     "data": {
      "image/png": "[encoded data removed]",
      "text/plain": [
       "<Figure size 432x288 with 1 Axes>"
      ]
     },
     "metadata": {
      "needs_background": "light"
     },
     "output_type": "display_data"
    }
   ],
   "source": [
    "df['age_category'].value_counts().sort_values(ascending=False).plot(kind='bar')\n",
    "plt.xticks(rotation=45)\n",
    "plt.ylabel('кол-во клиентов')\n",
    "plt.xlabel('возрастная категория')\n",
    "plt.title('Распределение клиентов по возрасту');"
   ]
  },
  {
   "cell_type": "markdown",
   "metadata": {},
   "source": [
    "Добавим категоризация клиентов по уровню кредитного скоринга.\n",
    "\n",
    "Ресурс банки.ру предлагает следующую шкалу кредитного рейтинга заемщиков. Воспользуемся ею:\n",
    "    \n",
    "1. 0-399 - вероятность получения кредита отсутствует, крайне низкий уровень\n",
    "\n",
    "2. 400-599 - вероятность получения кредита мала, низкий уровень\n",
    "\n",
    "3. 600-799 - вероятность получения кредита выше среднего, средний уровень\n",
    "\n",
    "4. 800 и более - вероятность получения кредита 100%, высокий уровень"
   ]
  },
  {
   "cell_type": "markdown",
   "metadata": {},
   "source": [
    "\n",
    "<div class=\"alert alert-success\">\n",
    "<b>Комментарий тимлида:</b>  Очень круто, что ты обосновываешь \n",
    "    метод категоризации данных, в будущем тебе это точно пригодитя\n",
    "</div>"
   ]
  },
  {
   "cell_type": "code",
   "execution_count": 26,
   "metadata": {},
   "outputs": [],
   "source": [
    "def category_by_score(df):\n",
    "    \n",
    "    if df['score'] < 400:\n",
    "        return 'крайне низкий'\n",
    "    \n",
    "    elif 400 <= df['score'] < 600:\n",
    "        return 'низкий'\n",
    "    \n",
    "    elif 600 <= df['score'] < 800:\n",
    "        return 'средний'\n",
    "    \n",
    "    else:\n",
    "        return 'высокий'\n",
    "\n",
    "\n",
    "df['score_level'] = df.apply(category_by_score, axis=1)"
   ]
  },
  {
   "cell_type": "code",
   "execution_count": 27,
   "metadata": {},
   "outputs": [
    {
     "data": {
      "text/plain": [
       "средний          6311\n",
       "низкий           3015\n",
       "высокий           655\n",
       "крайне низкий      19\n",
       "Name: score_level, dtype: int64"
      ]
     },
     "execution_count": 27,
     "metadata": {},
     "output_type": "execute_result"
    }
   ],
   "source": [
    "df['score_level'].value_counts()"
   ]
  },
  {
   "cell_type": "code",
   "execution_count": 28,
   "metadata": {},
   "outputs": [
    {
     "data": {
      "image/png": "[encoded data removed]",
      "text/plain": [
       "<Figure size 432x288 with 1 Axes>"
      ]
     },
     "metadata": {
      "needs_background": "light"
     },
     "output_type": "display_data"
    }
   ],
   "source": [
    "df['score_level'].value_counts().sort_values(ascending=False).plot(kind='bar')\n",
    "plt.xticks(rotation=45)\n",
    "plt.ylabel('кол-во клиентов')\n",
    "plt.xlabel('уровень кредитного скоринга')\n",
    "plt.title('Распределение клиентов по уровню кредитного скоринга');"
   ]
  },
  {
   "cell_type": "markdown",
   "metadata": {},
   "source": [
    "Также добавим категоризацию клиентов банка по уровню баланса на счете.\n",
    "\n",
    "Установим следующие, не очень реалистичные, но подходящие для датасета границы групп клиентов в разрезе уровня баланса на счете:\n",
    "\n",
    "1. До 100000 - крайне низкий уровень баланса\n",
    "\n",
    "2. 100000-300000 - низкий уровень баланса\n",
    "\n",
    "3. 300000-1000000 - средний уровень баланса\n",
    "\n",
    "4. 1000000 и выше - высокий уроень баланса"
   ]
  },
  {
   "cell_type": "code",
   "execution_count": 29,
   "metadata": {},
   "outputs": [],
   "source": [
    "def category_by_balance(df):\n",
    "    \n",
    "    if df['balance'] < 50000:\n",
    "        return 'крайне низкий'\n",
    "    \n",
    "    elif 50000 <= df['balance'] < 100000:\n",
    "        return 'низкий'\n",
    "    \n",
    "    elif 100000 <= df['balance'] < 150000:\n",
    "        return 'средний'\n",
    "    \n",
    "    elif df['balance'] >= 150000:\n",
    "        return 'высокий'\n",
    "\n",
    "df['balance_level'] = df.apply(category_by_balance, axis=1)"
   ]
  },
  {
   "cell_type": "code",
   "execution_count": 30,
   "metadata": {},
   "outputs": [
    {
     "data": {
      "text/plain": [
       "средний          3830\n",
       "низкий           1509\n",
       "высокий           969\n",
       "крайне низкий      75\n",
       "Name: balance_level, dtype: int64"
      ]
     },
     "execution_count": 30,
     "metadata": {},
     "output_type": "execute_result"
    }
   ],
   "source": [
    "df['balance_level'].value_counts()"
   ]
  },
  {
   "cell_type": "code",
   "execution_count": 31,
   "metadata": {},
   "outputs": [
    {
     "data": {
      "image/png": "[encoded data removed]",
      "text/plain": [
       "<Figure size 432x288 with 1 Axes>"
      ]
     },
     "metadata": {
      "needs_background": "light"
     },
     "output_type": "display_data"
    }
   ],
   "source": [
    "df['balance_level'].value_counts().sort_values(ascending=False).plot(kind='bar')\n",
    "plt.xticks(rotation=45)\n",
    "plt.ylabel('кол-во клиентов')\n",
    "plt.xlabel('уровень баланса')\n",
    "plt.title('Распределение клиентов по уровню баланса на счете');"
   ]
  },
  {
   "cell_type": "code",
   "execution_count": 32,
   "metadata": {},
   "outputs": [
    {
     "data": {
      "text/html": [
       "<div>\n",
       "<style scoped>\n",
       "    .dataframe tbody tr th:only-of-type {\n",
       "        vertical-align: middle;\n",
       "    }\n",
       "\n",
       "    .dataframe tbody tr th {\n",
       "        vertical-align: top;\n",
       "    }\n",
       "\n",
       "    .dataframe thead th {\n",
       "        text-align: right;\n",
       "    }\n",
       "</style>\n",
       "<table border=\"1\" class=\"dataframe\">\n",
       "  <thead>\n",
       "    <tr style=\"text-align: right;\">\n",
       "      <th></th>\n",
       "      <th>user_id</th>\n",
       "      <th>score</th>\n",
       "      <th>city</th>\n",
       "      <th>gender</th>\n",
       "      <th>age</th>\n",
       "      <th>objects</th>\n",
       "      <th>balance</th>\n",
       "      <th>products</th>\n",
       "      <th>credit_card</th>\n",
       "      <th>loyalty</th>\n",
       "      <th>estimated_salary</th>\n",
       "      <th>churn</th>\n",
       "      <th>salary_level</th>\n",
       "      <th>age_category</th>\n",
       "      <th>score_level</th>\n",
       "      <th>balance_level</th>\n",
       "    </tr>\n",
       "  </thead>\n",
       "  <tbody>\n",
       "    <tr>\n",
       "      <th>0</th>\n",
       "      <td>15677338</td>\n",
       "      <td>619</td>\n",
       "      <td>Ярославль</td>\n",
       "      <td>Ж</td>\n",
       "      <td>42</td>\n",
       "      <td>2</td>\n",
       "      <td>NaN</td>\n",
       "      <td>1</td>\n",
       "      <td>1</td>\n",
       "      <td>1</td>\n",
       "      <td>101348.88</td>\n",
       "      <td>1</td>\n",
       "      <td>высокий</td>\n",
       "      <td>25-44</td>\n",
       "      <td>средний</td>\n",
       "      <td>None</td>\n",
       "    </tr>\n",
       "    <tr>\n",
       "      <th>1</th>\n",
       "      <td>15690047</td>\n",
       "      <td>608</td>\n",
       "      <td>Рыбинск</td>\n",
       "      <td>Ж</td>\n",
       "      <td>41</td>\n",
       "      <td>1</td>\n",
       "      <td>83807.86</td>\n",
       "      <td>1</td>\n",
       "      <td>0</td>\n",
       "      <td>1</td>\n",
       "      <td>112542.58</td>\n",
       "      <td>0</td>\n",
       "      <td>высокий</td>\n",
       "      <td>25-44</td>\n",
       "      <td>средний</td>\n",
       "      <td>низкий</td>\n",
       "    </tr>\n",
       "    <tr>\n",
       "      <th>2</th>\n",
       "      <td>15662040</td>\n",
       "      <td>502</td>\n",
       "      <td>Ярославль</td>\n",
       "      <td>Ж</td>\n",
       "      <td>42</td>\n",
       "      <td>8</td>\n",
       "      <td>159660.80</td>\n",
       "      <td>3</td>\n",
       "      <td>1</td>\n",
       "      <td>0</td>\n",
       "      <td>113931.57</td>\n",
       "      <td>1</td>\n",
       "      <td>высокий</td>\n",
       "      <td>25-44</td>\n",
       "      <td>низкий</td>\n",
       "      <td>высокий</td>\n",
       "    </tr>\n",
       "    <tr>\n",
       "      <th>3</th>\n",
       "      <td>15744090</td>\n",
       "      <td>699</td>\n",
       "      <td>Ярославль</td>\n",
       "      <td>Ж</td>\n",
       "      <td>39</td>\n",
       "      <td>1</td>\n",
       "      <td>NaN</td>\n",
       "      <td>2</td>\n",
       "      <td>0</td>\n",
       "      <td>0</td>\n",
       "      <td>93826.63</td>\n",
       "      <td>0</td>\n",
       "      <td>средний</td>\n",
       "      <td>25-44</td>\n",
       "      <td>средний</td>\n",
       "      <td>None</td>\n",
       "    </tr>\n",
       "    <tr>\n",
       "      <th>4</th>\n",
       "      <td>15780624</td>\n",
       "      <td>850</td>\n",
       "      <td>Рыбинск</td>\n",
       "      <td>Ж</td>\n",
       "      <td>43</td>\n",
       "      <td>2</td>\n",
       "      <td>125510.82</td>\n",
       "      <td>1</td>\n",
       "      <td>1</td>\n",
       "      <td>1</td>\n",
       "      <td>79084.10</td>\n",
       "      <td>0</td>\n",
       "      <td>средний</td>\n",
       "      <td>25-44</td>\n",
       "      <td>высокий</td>\n",
       "      <td>средний</td>\n",
       "    </tr>\n",
       "  </tbody>\n",
       "</table>\n",
       "</div>"
      ],
      "text/plain": [
       "    user_id  score       city gender  age  objects    balance  products  \\\n",
       "0  15677338    619  Ярославль      Ж   42        2        NaN         1   \n",
       "1  15690047    608    Рыбинск      Ж   41        1   83807.86         1   \n",
       "2  15662040    502  Ярославль      Ж   42        8  159660.80         3   \n",
       "3  15744090    699  Ярославль      Ж   39        1        NaN         2   \n",
       "4  15780624    850    Рыбинск      Ж   43        2  125510.82         1   \n",
       "\n",
       "   credit_card  loyalty  estimated_salary  churn salary_level age_category  \\\n",
       "0            1        1         101348.88      1      высокий        25-44   \n",
       "1            0        1         112542.58      0      высокий        25-44   \n",
       "2            1        0         113931.57      1      высокий        25-44   \n",
       "3            0        0          93826.63      0      средний        25-44   \n",
       "4            1        1          79084.10      0      средний        25-44   \n",
       "\n",
       "  score_level balance_level  \n",
       "0     средний          None  \n",
       "1     средний        низкий  \n",
       "2      низкий       высокий  \n",
       "3     средний          None  \n",
       "4     высокий       средний  "
      ]
     },
     "execution_count": 32,
     "metadata": {},
     "output_type": "execute_result"
    }
   ],
   "source": [
    "df.head()"
   ]
  },
  {
   "cell_type": "markdown",
   "metadata": {},
   "source": [
    "Вывод 2\n",
    "\n",
    "Проведена категоризация клиентов банка по следующим характеристикам: уровень дохода, возраст, уровень кредитного скоринга и уровень баланса на счете. \n",
    "\n",
    "1. В разрезе возраста в датасете преобладают клиента 25-44 лет.\n",
    "\n",
    "2. По уровню дохода в датасете преимущественно люди с высокой заработной платой (более 100000 рублей).\n",
    "\n",
    "3. Больше всего клиентов со средним уровнем кредитного скоринга (600-800 баллов).\n",
    "\n",
    "4. В разрезе баланса на счете преобладают клиенты со средним уровнем баланса (100000-150000 рублей)."
   ]
  },
  {
   "cell_type": "markdown",
   "metadata": {},
   "source": [
    "Сделаем кодировку данных для столбца с полом клиента.\n",
    "Обозначим за 0 женский пол и за 1 мужской пол."
   ]
  },
  {
   "cell_type": "code",
   "execution_count": 33,
   "metadata": {},
   "outputs": [],
   "source": [
    "df['gender'] = df['gender'].replace({'Ж':0, 'М': 1})"
   ]
  },
  {
   "cell_type": "markdown",
   "metadata": {},
   "source": [
    "## Исследовательский анализ данных"
   ]
  },
  {
   "cell_type": "markdown",
   "metadata": {},
   "source": [
    "### Анализ средних значений признаков и их распределений"
   ]
  },
  {
   "cell_type": "code",
   "execution_count": 36,
   "metadata": {},
   "outputs": [
    {
     "data": {
      "text/html": [
       "<div>\n",
       "<style scoped>\n",
       "    .dataframe tbody tr th:only-of-type {\n",
       "        vertical-align: middle;\n",
       "    }\n",
       "\n",
       "    .dataframe tbody tr th {\n",
       "        vertical-align: top;\n",
       "    }\n",
       "\n",
       "    .dataframe thead th {\n",
       "        text-align: right;\n",
       "    }\n",
       "</style>\n",
       "<table border=\"1\" class=\"dataframe\">\n",
       "  <thead>\n",
       "    <tr style=\"text-align: right;\">\n",
       "      <th></th>\n",
       "      <th>user_id</th>\n",
       "      <th>score</th>\n",
       "      <th>gender</th>\n",
       "      <th>age</th>\n",
       "      <th>objects</th>\n",
       "      <th>balance</th>\n",
       "      <th>products</th>\n",
       "      <th>credit_card</th>\n",
       "      <th>loyalty</th>\n",
       "      <th>estimated_salary</th>\n",
       "      <th>churn</th>\n",
       "    </tr>\n",
       "  </thead>\n",
       "  <tbody>\n",
       "    <tr>\n",
       "      <th>count</th>\n",
       "      <td>1.000000e+04</td>\n",
       "      <td>10000.000000</td>\n",
       "      <td>10000.000000</td>\n",
       "      <td>10000.000000</td>\n",
       "      <td>10000.000000</td>\n",
       "      <td>6383.000000</td>\n",
       "      <td>10000.000000</td>\n",
       "      <td>10000.00000</td>\n",
       "      <td>10000.000000</td>\n",
       "      <td>10000.000000</td>\n",
       "      <td>10000.000000</td>\n",
       "    </tr>\n",
       "    <tr>\n",
       "      <th>mean</th>\n",
       "      <td>1.573368e+07</td>\n",
       "      <td>650.528800</td>\n",
       "      <td>0.545700</td>\n",
       "      <td>38.921800</td>\n",
       "      <td>5.012800</td>\n",
       "      <td>119827.493793</td>\n",
       "      <td>1.530200</td>\n",
       "      <td>0.70550</td>\n",
       "      <td>0.515100</td>\n",
       "      <td>100090.239881</td>\n",
       "      <td>0.203700</td>\n",
       "    </tr>\n",
       "    <tr>\n",
       "      <th>std</th>\n",
       "      <td>7.193619e+04</td>\n",
       "      <td>96.653299</td>\n",
       "      <td>0.497932</td>\n",
       "      <td>10.487806</td>\n",
       "      <td>2.892174</td>\n",
       "      <td>30095.056462</td>\n",
       "      <td>0.581654</td>\n",
       "      <td>0.45584</td>\n",
       "      <td>0.499797</td>\n",
       "      <td>57510.492818</td>\n",
       "      <td>0.402769</td>\n",
       "    </tr>\n",
       "    <tr>\n",
       "      <th>min</th>\n",
       "      <td>1.560844e+07</td>\n",
       "      <td>350.000000</td>\n",
       "      <td>0.000000</td>\n",
       "      <td>18.000000</td>\n",
       "      <td>0.000000</td>\n",
       "      <td>3768.690000</td>\n",
       "      <td>1.000000</td>\n",
       "      <td>0.00000</td>\n",
       "      <td>0.000000</td>\n",
       "      <td>11.580000</td>\n",
       "      <td>0.000000</td>\n",
       "    </tr>\n",
       "    <tr>\n",
       "      <th>25%</th>\n",
       "      <td>1.567126e+07</td>\n",
       "      <td>584.000000</td>\n",
       "      <td>0.000000</td>\n",
       "      <td>32.000000</td>\n",
       "      <td>3.000000</td>\n",
       "      <td>100181.975000</td>\n",
       "      <td>1.000000</td>\n",
       "      <td>0.00000</td>\n",
       "      <td>0.000000</td>\n",
       "      <td>51002.110000</td>\n",
       "      <td>0.000000</td>\n",
       "    </tr>\n",
       "    <tr>\n",
       "      <th>50%</th>\n",
       "      <td>1.573347e+07</td>\n",
       "      <td>652.000000</td>\n",
       "      <td>1.000000</td>\n",
       "      <td>37.000000</td>\n",
       "      <td>5.000000</td>\n",
       "      <td>119839.690000</td>\n",
       "      <td>1.000000</td>\n",
       "      <td>1.00000</td>\n",
       "      <td>1.000000</td>\n",
       "      <td>100193.915000</td>\n",
       "      <td>0.000000</td>\n",
       "    </tr>\n",
       "    <tr>\n",
       "      <th>75%</th>\n",
       "      <td>1.579597e+07</td>\n",
       "      <td>718.000000</td>\n",
       "      <td>1.000000</td>\n",
       "      <td>44.000000</td>\n",
       "      <td>7.000000</td>\n",
       "      <td>139512.290000</td>\n",
       "      <td>2.000000</td>\n",
       "      <td>1.00000</td>\n",
       "      <td>1.000000</td>\n",
       "      <td>149388.247500</td>\n",
       "      <td>0.000000</td>\n",
       "    </tr>\n",
       "    <tr>\n",
       "      <th>max</th>\n",
       "      <td>1.585843e+07</td>\n",
       "      <td>850.000000</td>\n",
       "      <td>1.000000</td>\n",
       "      <td>92.000000</td>\n",
       "      <td>10.000000</td>\n",
       "      <td>250898.090000</td>\n",
       "      <td>4.000000</td>\n",
       "      <td>1.00000</td>\n",
       "      <td>1.000000</td>\n",
       "      <td>199992.480000</td>\n",
       "      <td>1.000000</td>\n",
       "    </tr>\n",
       "  </tbody>\n",
       "</table>\n",
       "</div>"
      ],
      "text/plain": [
       "            user_id         score        gender           age       objects  \\\n",
       "count  1.000000e+04  10000.000000  10000.000000  10000.000000  10000.000000   \n",
       "mean   1.573368e+07    650.528800      0.545700     38.921800      5.012800   \n",
       "std    7.193619e+04     96.653299      0.497932     10.487806      2.892174   \n",
       "min    1.560844e+07    350.000000      0.000000     18.000000      0.000000   \n",
       "25%    1.567126e+07    584.000000      0.000000     32.000000      3.000000   \n",
       "50%    1.573347e+07    652.000000      1.000000     37.000000      5.000000   \n",
       "75%    1.579597e+07    718.000000      1.000000     44.000000      7.000000   \n",
       "max    1.585843e+07    850.000000      1.000000     92.000000     10.000000   \n",
       "\n",
       "             balance      products  credit_card       loyalty  \\\n",
       "count    6383.000000  10000.000000  10000.00000  10000.000000   \n",
       "mean   119827.493793      1.530200      0.70550      0.515100   \n",
       "std     30095.056462      0.581654      0.45584      0.499797   \n",
       "min      3768.690000      1.000000      0.00000      0.000000   \n",
       "25%    100181.975000      1.000000      0.00000      0.000000   \n",
       "50%    119839.690000      1.000000      1.00000      1.000000   \n",
       "75%    139512.290000      2.000000      1.00000      1.000000   \n",
       "max    250898.090000      4.000000      1.00000      1.000000   \n",
       "\n",
       "       estimated_salary         churn  \n",
       "count      10000.000000  10000.000000  \n",
       "mean      100090.239881      0.203700  \n",
       "std        57510.492818      0.402769  \n",
       "min           11.580000      0.000000  \n",
       "25%        51002.110000      0.000000  \n",
       "50%       100193.915000      0.000000  \n",
       "75%       149388.247500      0.000000  \n",
       "max       199992.480000      1.000000  "
      ]
     },
     "execution_count": 36,
     "metadata": {},
     "output_type": "execute_result"
    }
   ],
   "source": [
    "df.describe()"
   ]
  },
  {
   "cell_type": "markdown",
   "metadata": {},
   "source": [
    "Среднестатистический клиент банка имеет следующие характеристики:\n",
    "    \n",
    "* Имеет кредитный рейтинг в 650 баллов\n",
    "\n",
    "* С бОльшей вероятностью мужчина, хотя распределение клиентов по полу примерно равное\n",
    "\n",
    "* Его возраст 39 лет\n",
    "\n",
    "* Имеет в собственности 5 объектов \n",
    "\n",
    "* Имеет на счету 120000 рублей\n",
    "\n",
    "* Пользуется 1 или 2 продуктами банка\n",
    "\n",
    "* Скорее всего, имеет кредитную карту банка (с вероятностью в 70%)\n",
    "\n",
    "* Имеет заработную плату в 100000 рублей\n",
    "\n",
    "Также можно сказать, что половина клиентов из датасета активны, а отток составляет 20%.\n"
   ]
  },
  {
   "cell_type": "code",
   "execution_count": 37,
   "metadata": {
    "scrolled": true
   },
   "outputs": [
    {
     "data": {
      "image/png": "[encoded data removed]",
      "text/plain": [
       "<Figure size 432x288 with 1 Axes>"
      ]
     },
     "metadata": {
      "needs_background": "light"
     },
     "output_type": "display_data"
    },
    {
     "data": {
      "image/png": "[encoded data removed]",
      "text/plain": [
       "<Figure size 432x288 with 1 Axes>"
      ]
     },
     "metadata": {
      "needs_background": "light"
     },
     "output_type": "display_data"
    },
    {
     "data": {
      "image/png": "[encoded data removed]",
      "text/plain": [
       "<Figure size 432x288 with 1 Axes>"
      ]
     },
     "metadata": {
      "needs_background": "light"
     },
     "output_type": "display_data"
    },
    {
     "data": {
      "image/png": "[encoded data removed]",
      "text/plain": [
       "<Figure size 432x288 with 1 Axes>"
      ]
     },
     "metadata": {
      "needs_background": "light"
     },
     "output_type": "display_data"
    },
    {
     "data": {
      "image/png": "[encoded data removed]",
      "text/plain": [
       "<Figure size 432x288 with 1 Axes>"
      ]
     },
     "metadata": {
      "needs_background": "light"
     },
     "output_type": "display_data"
    },
    {
     "data": {
      "image/png": "[encoded data removed]",
      "text/plain": [
       "<Figure size 432x288 with 1 Axes>"
      ]
     },
     "metadata": {
      "needs_background": "light"
     },
     "output_type": "display_data"
    }
   ],
   "source": [
    "#посмотрим на распределение признаков с дискретными значениями\n",
    "for column in df[['city', 'gender', 'objects', 'products', 'credit_card', 'loyalty']].columns:\n",
    "    ax = sns.countplot(x = column, data = df)\n",
    "    plt.title('Распределение клиентов по ' + column)\n",
    "    plt.ylabel('Количество клиентов')\n",
    "    plt.show();"
   ]
  },
  {
   "cell_type": "code",
   "execution_count": 38,
   "metadata": {
    "scrolled": true
   },
   "outputs": [
    {
     "data": {
      "image/png": "[encoded data removed]",
      "text/plain": [
       "<Figure size 432x288 with 1 Axes>"
      ]
     },
     "metadata": {
      "needs_background": "light"
     },
     "output_type": "display_data"
    },
    {
     "data": {
      "image/png": "[encoded data removed]",
      "text/plain": [
       "<Figure size 432x288 with 1 Axes>"
      ]
     },
     "metadata": {
      "needs_background": "light"
     },
     "output_type": "display_data"
    },
    {
     "data": {
      "image/png": "[encoded data removed]",
      "text/plain": [
       "<Figure size 432x288 with 1 Axes>"
      ]
     },
     "metadata": {
      "needs_background": "light"
     },
     "output_type": "display_data"
    },
    {
     "data": {
      "image/png": "[encoded data removed]",
      "text/plain": [
       "<Figure size 432x288 with 1 Axes>"
      ]
     },
     "metadata": {
      "needs_background": "light"
     },
     "output_type": "display_data"
    }
   ],
   "source": [
    "#посмотрим на распределение признаков с непрерывнми значениями (возраст отнесем в эту категорию)\n",
    "for column in df[['score', 'age', 'estimated_salary', 'balance']].columns:\n",
    "    sns.distplot(df[column], bins=100)\n",
    "    plt.xticks(rotation=45)\n",
    "    plt.title('Распределение клиентов по ' + column)\n",
    "    plt.ylabel('Плотность распределения')\n",
    "    plt.xlabel('Значение')\n",
    "    plt.show();"
   ]
  },
  {
   "cell_type": "code",
   "execution_count": 39,
   "metadata": {},
   "outputs": [
    {
     "data": {
      "image/png": "[encoded data removed]",
      "text/plain": [
       "<Figure size 432x288 with 1 Axes>"
      ]
     },
     "metadata": {
      "needs_background": "light"
     },
     "output_type": "display_data"
    },
    {
     "data": {
      "image/png": "[encoded data removed]",
      "text/plain": [
       "<Figure size 432x288 with 1 Axes>"
      ]
     },
     "metadata": {
      "needs_background": "light"
     },
     "output_type": "display_data"
    },
    {
     "data": {
      "image/png": "[encoded data removed]",
      "text/plain": [
       "<Figure size 432x288 with 1 Axes>"
      ]
     },
     "metadata": {
      "needs_background": "light"
     },
     "output_type": "display_data"
    },
    {
     "data": {
      "image/png": "[encoded data removed]",
      "text/plain": [
       "<Figure size 432x288 with 1 Axes>"
      ]
     },
     "metadata": {
      "needs_background": "light"
     },
     "output_type": "display_data"
    }
   ],
   "source": [
    "#посмотрим на диаграммы размахов признаков с непрерывными значениями (в т.ч. возраст)\n",
    "for column in df[['score', 'age', 'estimated_salary', 'balance']]:\n",
    "    ax = sns.boxplot(x=df[column])\n",
    "    plt.xticks(rotation=45)\n",
    "    plt.title('Распределение ' + column)\n",
    "    plt.show();"
   ]
  },
  {
   "cell_type": "markdown",
   "metadata": {},
   "source": [
    "Говоря о распределении значения признаков клиентов можно отметить следующее:\n",
    "\n",
    "1. Странно распределены значения в столбце с кол-вом объектов в собственности клиентов. Так, от 1 до 9 объектов имеют одинаковое количество клиентов, примерно по 1000 человек.\n",
    "\n",
    "2. На гистограмме распределения уровня баланс есть выброс на значении в 850 баллов - 233 человека. По всей видимости, шкала оценки кредитного рейтинга в банке ограничено 850 баллами, при этом клиенты могут иметь рейтинг выше, все кто, имеют рейтинг выше получают рейтинг в 850 баллов.\n",
    "\n",
    "3. В датасете также подозрительно равномерно клиенты распределены по уровню заработной платы."
   ]
  },
  {
   "cell_type": "code",
   "execution_count": 40,
   "metadata": {},
   "outputs": [
    {
     "data": {
      "text/plain": [
       "850    233\n",
       "678     63\n",
       "655     54\n",
       "667     53\n",
       "705     53\n",
       "Name: score, dtype: int64"
      ]
     },
     "execution_count": 40,
     "metadata": {},
     "output_type": "execute_result"
    }
   ],
   "source": [
    "df['score'].value_counts().head()"
   ]
  },
  {
   "cell_type": "markdown",
   "metadata": {},
   "source": [
    "### Матрица корреляции"
   ]
  },
  {
   "cell_type": "code",
   "execution_count": 41,
   "metadata": {},
   "outputs": [
    {
     "data": {
      "image/png": "[encoded data removed]",
      "text/plain": [
       "<Figure size 864x864 with 2 Axes>"
      ]
     },
     "metadata": {
      "needs_background": "light"
     },
     "output_type": "display_data"
    }
   ],
   "source": [
    "#построим матрицу корреляции для признаков клиентов банка\n",
    "plt.figure(figsize=(12, 12))\n",
    "sns.heatmap(df.corr() , annot = True, fmt = '0.2f', linewidths=1)\n",
    "plt.show();"
   ]
  },
  {
   "cell_type": "markdown",
   "metadata": {},
   "source": [
    "Матрица корреляции демонстрирует почти полное отсутствие влияния характеристик клиентов на отток. Только влияние возраста на отток (коэф. корреляции = 0.29) можно считать слабым, остальные же признаки вовсе не влияют на отток. Исходя из этого, можно сделать вывод, что очевидного признака, объясняющего склонность клиента к уходу из банка нет."
   ]
  },
  {
   "cell_type": "markdown",
   "metadata": {},
   "source": [
    "### Анализ распределения характеристик клиентов в разрезе ухода или лояльности банку"
   ]
  },
  {
   "cell_type": "code",
   "execution_count": 43,
   "metadata": {
    "scrolled": true
   },
   "outputs": [
    {
     "data": {
      "text/html": [
       "<div>\n",
       "<style scoped>\n",
       "    .dataframe tbody tr th:only-of-type {\n",
       "        vertical-align: middle;\n",
       "    }\n",
       "\n",
       "    .dataframe tbody tr th {\n",
       "        vertical-align: top;\n",
       "    }\n",
       "\n",
       "    .dataframe thead th {\n",
       "        text-align: right;\n",
       "    }\n",
       "</style>\n",
       "<table border=\"1\" class=\"dataframe\">\n",
       "  <thead>\n",
       "    <tr style=\"text-align: right;\">\n",
       "      <th>churn</th>\n",
       "      <th>0</th>\n",
       "      <th>1</th>\n",
       "    </tr>\n",
       "  </thead>\n",
       "  <tbody>\n",
       "    <tr>\n",
       "      <th>user_id</th>\n",
       "      <td>1.573390e+07</td>\n",
       "      <td>1.573279e+07</td>\n",
       "    </tr>\n",
       "    <tr>\n",
       "      <th>score</th>\n",
       "      <td>6.518532e+02</td>\n",
       "      <td>6.453515e+02</td>\n",
       "    </tr>\n",
       "    <tr>\n",
       "      <th>gender</th>\n",
       "      <td>5.725229e-01</td>\n",
       "      <td>4.408444e-01</td>\n",
       "    </tr>\n",
       "    <tr>\n",
       "      <th>age</th>\n",
       "      <td>3.740839e+01</td>\n",
       "      <td>4.483800e+01</td>\n",
       "    </tr>\n",
       "    <tr>\n",
       "      <th>objects</th>\n",
       "      <td>5.033279e+00</td>\n",
       "      <td>4.932744e+00</td>\n",
       "    </tr>\n",
       "    <tr>\n",
       "      <th>balance</th>\n",
       "      <td>1.195359e+05</td>\n",
       "      <td>1.207470e+05</td>\n",
       "    </tr>\n",
       "    <tr>\n",
       "      <th>products</th>\n",
       "      <td>1.544267e+00</td>\n",
       "      <td>1.475209e+00</td>\n",
       "    </tr>\n",
       "    <tr>\n",
       "      <th>credit_card</th>\n",
       "      <td>7.071455e-01</td>\n",
       "      <td>6.990673e-01</td>\n",
       "    </tr>\n",
       "    <tr>\n",
       "      <th>loyalty</th>\n",
       "      <td>5.545649e-01</td>\n",
       "      <td>3.608247e-01</td>\n",
       "    </tr>\n",
       "    <tr>\n",
       "      <th>estimated_salary</th>\n",
       "      <td>9.973839e+04</td>\n",
       "      <td>1.014657e+05</td>\n",
       "    </tr>\n",
       "  </tbody>\n",
       "</table>\n",
       "</div>"
      ],
      "text/plain": [
       "churn                        0             1\n",
       "user_id           1.573390e+07  1.573279e+07\n",
       "score             6.518532e+02  6.453515e+02\n",
       "gender            5.725229e-01  4.408444e-01\n",
       "age               3.740839e+01  4.483800e+01\n",
       "objects           5.033279e+00  4.932744e+00\n",
       "balance           1.195359e+05  1.207470e+05\n",
       "products          1.544267e+00  1.475209e+00\n",
       "credit_card       7.071455e-01  6.990673e-01\n",
       "loyalty           5.545649e-01  3.608247e-01\n",
       "estimated_salary  9.973839e+04  1.014657e+05"
      ]
     },
     "execution_count": 43,
     "metadata": {},
     "output_type": "execute_result"
    }
   ],
   "source": [
    "df.groupby('churn').mean().T"
   ]
  },
  {
   "cell_type": "markdown",
   "metadata": {},
   "source": [
    "На первый взгляд кажется, что ушедшие и лояльные банку клиенты по характеристикам отличаются несильно. Очевидными различиями являются только возраст, попадающие в отток клиенты в среднем более старше, чем лояльные (45 лет против 37 лет), и бОльший процент активных клиентов среди лояльных клиентов, нежели отточных (55% против 36% против). Также можно заметить, что в отток чаще попадают клиенты женского пола."
   ]
  },
  {
   "cell_type": "code",
   "execution_count": 44,
   "metadata": {
    "scrolled": true
   },
   "outputs": [
    {
     "data": {
      "image/png": "[encoded data removed]",
      "text/plain": [
       "<Figure size 432x288 with 1 Axes>"
      ]
     },
     "metadata": {
      "needs_background": "light"
     },
     "output_type": "display_data"
    },
    {
     "data": {
      "image/png": "[encoded data removed]",
      "text/plain": [
       "<Figure size 432x288 with 1 Axes>"
      ]
     },
     "metadata": {
      "needs_background": "light"
     },
     "output_type": "display_data"
    },
    {
     "data": {
      "image/png": "[encoded data removed]",
      "text/plain": [
       "<Figure size 432x288 with 1 Axes>"
      ]
     },
     "metadata": {
      "needs_background": "light"
     },
     "output_type": "display_data"
    },
    {
     "data": {
      "image/png": "[encoded data removed]",
      "text/plain": [
       "<Figure size 432x288 with 1 Axes>"
      ]
     },
     "metadata": {
      "needs_background": "light"
     },
     "output_type": "display_data"
    },
    {
     "data": {
      "image/png": "[encoded data removed]",
      "text/plain": [
       "<Figure size 432x288 with 1 Axes>"
      ]
     },
     "metadata": {
      "needs_background": "light"
     },
     "output_type": "display_data"
    },
    {
     "data": {
      "image/png": "[encoded data removed]",
      "text/plain": [
       "<Figure size 432x288 with 1 Axes>"
      ]
     },
     "metadata": {
      "needs_background": "light"
     },
     "output_type": "display_data"
    }
   ],
   "source": [
    "#посмотрим на распределение признаков с дискретными значениями\n",
    "for column in df[['city', 'gender', 'objects', 'products', 'credit_card', 'loyalty']].columns:\n",
    "    ax = sns.countplot(x = column, hue = 'churn', data = df)\n",
    "    plt.title('Количества лояльных и ушедших клиентов в зависимости от ' + column)\n",
    "    plt.legend(['Лояльные', 'Ушедшие'])\n",
    "    plt.show();"
   ]
  },
  {
   "cell_type": "code",
   "execution_count": 45,
   "metadata": {
    "scrolled": true
   },
   "outputs": [
    {
     "data": {
      "text/html": [
       "<div>\n",
       "<style scoped>\n",
       "    .dataframe tbody tr th:only-of-type {\n",
       "        vertical-align: middle;\n",
       "    }\n",
       "\n",
       "    .dataframe tbody tr th {\n",
       "        vertical-align: top;\n",
       "    }\n",
       "\n",
       "    .dataframe thead th {\n",
       "        text-align: right;\n",
       "    }\n",
       "</style>\n",
       "<table border=\"1\" class=\"dataframe\">\n",
       "  <thead>\n",
       "    <tr style=\"text-align: right;\">\n",
       "      <th></th>\n",
       "      <th>churn</th>\n",
       "    </tr>\n",
       "    <tr>\n",
       "      <th>city</th>\n",
       "      <th></th>\n",
       "    </tr>\n",
       "  </thead>\n",
       "  <tbody>\n",
       "    <tr>\n",
       "      <th>Ростов Великий</th>\n",
       "      <td>0.32</td>\n",
       "    </tr>\n",
       "    <tr>\n",
       "      <th>Рыбинск</th>\n",
       "      <td>0.17</td>\n",
       "    </tr>\n",
       "    <tr>\n",
       "      <th>Ярославль</th>\n",
       "      <td>0.16</td>\n",
       "    </tr>\n",
       "  </tbody>\n",
       "</table>\n",
       "</div>"
      ],
      "text/plain": [
       "                churn\n",
       "city                 \n",
       "Ростов Великий   0.32\n",
       "Рыбинск          0.17\n",
       "Ярославль        0.16"
      ]
     },
     "execution_count": 45,
     "metadata": {},
     "output_type": "execute_result"
    }
   ],
   "source": [
    "churn_by_city = df.pivot_table(\n",
    "        columns='city',\n",
    "        values='churn',\n",
    "        aggfunc='mean'\n",
    "    ).round(2).T\n",
    "churn_by_city"
   ]
  },
  {
   "cell_type": "code",
   "execution_count": 46,
   "metadata": {
    "scrolled": false
   },
   "outputs": [
    {
     "data": {
      "image/png": "[encoded data removed]",
      "text/plain": [
       "<Figure size 432x288 with 1 Axes>"
      ]
     },
     "metadata": {
      "needs_background": "light"
     },
     "output_type": "display_data"
    },
    {
     "data": {
      "image/png": "[encoded data removed]",
      "text/plain": [
       "<Figure size 432x288 with 1 Axes>"
      ]
     },
     "metadata": {
      "needs_background": "light"
     },
     "output_type": "display_data"
    },
    {
     "data": {
      "image/png": "[encoded data removed]",
      "text/plain": [
       "<Figure size 432x288 with 1 Axes>"
      ]
     },
     "metadata": {
      "needs_background": "light"
     },
     "output_type": "display_data"
    },
    {
     "data": {
      "image/png": "[encoded data removed]",
      "text/plain": [
       "<Figure size 432x288 with 1 Axes>"
      ]
     },
     "metadata": {
      "needs_background": "light"
     },
     "output_type": "display_data"
    }
   ],
   "source": [
    "#посмотрим на распределение признаков с непрерывнми значениями (возраст отнесем в эту категорию)\n",
    "for column in df[['score', 'age', 'estimated_salary', 'balance']].columns:\n",
    "    sns.distplot(df.query('churn == 0')[column], bins = 100)\n",
    "    sns.distplot(df.query('churn == 1')[column], bins = 100)\n",
    "    plt.title('Распределение лояльных и ушедших клиентов по ' + column)\n",
    "    plt.ylabel('Плотность распределения')\n",
    "    plt.xlabel('Значение')\n",
    "    plt.legend(['Лояльные', 'Ушедшие'])\n",
    "    plt.show();"
   ]
  },
  {
   "cell_type": "markdown",
   "metadata": {},
   "source": [
    "В разрезе городов очевидным лидером по доле отточных клиентов является Ростов Великий (32%). Доля ушедших клиентов в Рыбинске и Ярославле почти равна и в 2 раза ниже, чем в Ростове (16%-17%).\n",
    "\n",
    "Заметно превышение доли ушедших среди клиентов, пользующихся 3-4 продуктами банка, нежели среди клиентов, пользующихся 1-2 продуктами.\n",
    "\n",
    "Также видно преобладание отточников среди клиентов с рейтингом кредитного скоринга примерно до 410 баллов. Вероятность оттока в данной группе составляет 92%, но ее численность всего 26 человек, поэтому не будем уделять ей внимание."
   ]
  },
  {
   "cell_type": "code",
   "execution_count": 47,
   "metadata": {
    "scrolled": true
   },
   "outputs": [
    {
     "data": {
      "text/plain": [
       "0.9230769230769231"
      ]
     },
     "execution_count": 47,
     "metadata": {},
     "output_type": "execute_result"
    }
   ],
   "source": [
    "df.query('score < 410')['churn'].mean()"
   ]
  },
  {
   "cell_type": "code",
   "execution_count": 48,
   "metadata": {},
   "outputs": [
    {
     "data": {
      "text/plain": [
       "26"
      ]
     },
     "execution_count": 48,
     "metadata": {},
     "output_type": "execute_result"
    }
   ],
   "source": [
    "df.query('score < 410')['churn'].count()"
   ]
  },
  {
   "cell_type": "markdown",
   "metadata": {},
   "source": [
    "Исходя из того, что характеристиками, демонстрирующими различия между лояльными и отточными клиентами являются город, возраст, активность, пол и количество продуктов, которыми пользуется клиент, выделять более склонные к оттоку сегменты клиентов будем на основе данных признаков."
   ]
  },
  {
   "cell_type": "code",
   "execution_count": 49,
   "metadata": {
    "scrolled": false
   },
   "outputs": [
    {
     "data": {
      "image/png": "[encoded data removed]",
      "text/plain": [
       "<Figure size 864x432 with 2 Axes>"
      ]
     },
     "metadata": {
      "needs_background": "light"
     },
     "output_type": "display_data"
    }
   ],
   "source": [
    "#построим тепловую карту уровня оттока по городу и активности\n",
    "churn_by_city_loyalty = df.pivot_table(\n",
    "        index='loyalty',\n",
    "        columns='city',\n",
    "        values='churn',\n",
    "        aggfunc='mean'\n",
    "    )\n",
    "plt.figure(figsize=(12, 6))\n",
    "sns.heatmap(churn_by_city_loyalty, annot=True, fmt='.1%')\n",
    "plt.title('Уровень оттока по городу и активности')\n",
    "plt.show();"
   ]
  },
  {
   "cell_type": "markdown",
   "metadata": {},
   "source": [
    "Наибольшая доля ушедших - из Ростова Великого и неактивны."
   ]
  },
  {
   "cell_type": "code",
   "execution_count": 50,
   "metadata": {},
   "outputs": [
    {
     "data": {
      "image/png": "[encoded data removed]",
      "text/plain": [
       "<Figure size 864x432 with 2 Axes>"
      ]
     },
     "metadata": {
      "needs_background": "light"
     },
     "output_type": "display_data"
    }
   ],
   "source": [
    "#построим тепловую карту уровня оттока по городу и возрасту\n",
    "churn_by_city_age = df.pivot_table(\n",
    "        index='age_category',\n",
    "        columns='city',\n",
    "        values='churn',\n",
    "        aggfunc='mean'\n",
    "    )\n",
    "plt.figure(figsize=(12, 6))\n",
    "sns.heatmap(churn_by_city_age, annot=True, fmt='.1%')\n",
    "plt.title('Уровень оттока по городу и возрасту')\n",
    "plt.show();"
   ]
  },
  {
   "cell_type": "markdown",
   "metadata": {},
   "source": [
    "Очень четко выделяется склонность возрастной группы 45-64 к оттоку."
   ]
  },
  {
   "cell_type": "code",
   "execution_count": 51,
   "metadata": {},
   "outputs": [
    {
     "data": {
      "image/png": "[encoded data removed]",
      "text/plain": [
       "<Figure size 864x432 with 2 Axes>"
      ]
     },
     "metadata": {
      "needs_background": "light"
     },
     "output_type": "display_data"
    }
   ],
   "source": [
    "#построим тепловую карту уровня оттока по возрасту и полу\n",
    "churn_by_gender_age = df.pivot_table(\n",
    "        index='age_category',\n",
    "        columns='gender',\n",
    "        values='churn',\n",
    "        aggfunc='mean'\n",
    "    )\n",
    "plt.figure(figsize=(12, 6))\n",
    "sns.heatmap(churn_by_gender_age, annot=True, fmt='.1%')\n",
    "plt.title('Уровень оттока по полу и возрасту')\n",
    "plt.show();"
   ]
  },
  {
   "cell_type": "code",
   "execution_count": 52,
   "metadata": {
    "scrolled": false
   },
   "outputs": [
    {
     "data": {
      "image/png": "[encoded data removed]",
      "text/plain": [
       "<Figure size 864x432 with 2 Axes>"
      ]
     },
     "metadata": {
      "needs_background": "light"
     },
     "output_type": "display_data"
    }
   ],
   "source": [
    "#построим тепловую карту уровня оттока по городу и полу\n",
    "churn_by_city_gender = df.pivot_table(\n",
    "        index='city',\n",
    "        columns='gender',\n",
    "        values='churn',\n",
    "        aggfunc='mean'\n",
    "    )\n",
    "plt.figure(figsize=(12, 6))\n",
    "sns.heatmap(churn_by_city_gender, annot=True, fmt='.1%')\n",
    "plt.title('Уровень оттока по городу и полу')\n",
    "plt.show();"
   ]
  },
  {
   "cell_type": "code",
   "execution_count": 53,
   "metadata": {},
   "outputs": [
    {
     "data": {
      "image/png": "[encoded data removed]",
      "text/plain": [
       "<Figure size 864x432 with 2 Axes>"
      ]
     },
     "metadata": {
      "needs_background": "light"
     },
     "output_type": "display_data"
    }
   ],
   "source": [
    "#построим тепловую карту уровня оттока по городу и кол-ву продуктов\n",
    "churn_by_city_products = df.pivot_table(\n",
    "        index='products',\n",
    "        columns='city',\n",
    "        values='churn',\n",
    "        aggfunc='mean'\n",
    "    )\n",
    "plt.figure(figsize=(12, 6))\n",
    "sns.heatmap(churn_by_city_products, annot=True, fmt='.1%')\n",
    "plt.title('Уровень оттока по городу и кол-ву продуктов')\n",
    "plt.show();"
   ]
  },
  {
   "cell_type": "markdown",
   "metadata": {},
   "source": [
    "Выделим следующие сегменты клиентов, склонных к оттоку:\n",
    "\n",
    "1. Все клиенты, пользующиеся 3 или 4 продуктами банка.\n",
    "\n",
    "2. Клиенты из Ростова Великого, женщины, возраста 45-64, неактивные пользователи с 1-2 продуктами.\n",
    "\n",
    "3. Клиенты из Ростова Великого, мужчины, возраста 45-64, неактивные пользователи с 1-2 продуктами.\n",
    "\n",
    "4. Клиенты из Ярославля, женщины, возраста 45-64, неактивные пользователи с 1-2 продуктами.\n",
    "\n",
    "5. Клиенты из Рыбинска, женщины, возраста 45-64, неактивные пользователи с 1-2 продуктами."
   ]
  },
  {
   "cell_type": "code",
   "execution_count": 54,
   "metadata": {
    "scrolled": false
   },
   "outputs": [
    {
     "data": {
      "text/html": [
       "<div>\n",
       "<style scoped>\n",
       "    .dataframe tbody tr th:only-of-type {\n",
       "        vertical-align: middle;\n",
       "    }\n",
       "\n",
       "    .dataframe tbody tr th {\n",
       "        vertical-align: top;\n",
       "    }\n",
       "\n",
       "    .dataframe thead th {\n",
       "        text-align: right;\n",
       "    }\n",
       "</style>\n",
       "<table border=\"1\" class=\"dataframe\">\n",
       "  <thead>\n",
       "    <tr style=\"text-align: right;\">\n",
       "      <th></th>\n",
       "      <th>count</th>\n",
       "      <th>churn_mean</th>\n",
       "      <th>churn_surplus</th>\n",
       "    </tr>\n",
       "  </thead>\n",
       "  <tbody>\n",
       "    <tr>\n",
       "      <th>все клиенты с 3-4 продуктами</th>\n",
       "      <td>326.0</td>\n",
       "      <td>0.86</td>\n",
       "      <td>0.66</td>\n",
       "    </tr>\n",
       "    <tr>\n",
       "      <th>ростовчане мужчины 45-64 неактивные 1-2 продукта</th>\n",
       "      <td>137.0</td>\n",
       "      <td>0.78</td>\n",
       "      <td>0.58</td>\n",
       "    </tr>\n",
       "    <tr>\n",
       "      <th>ростовчане женщины 45-64 неактивные 1-2 продукта</th>\n",
       "      <td>166.0</td>\n",
       "      <td>0.77</td>\n",
       "      <td>0.57</td>\n",
       "    </tr>\n",
       "    <tr>\n",
       "      <th>ростовчане женщины страше 65 неактивные 1-2 продукта</th>\n",
       "      <td>7.0</td>\n",
       "      <td>0.71</td>\n",
       "      <td>0.51</td>\n",
       "    </tr>\n",
       "    <tr>\n",
       "      <th>ярославцы женщины 45-64 неактивные 1-2 продукта</th>\n",
       "      <td>186.0</td>\n",
       "      <td>0.67</td>\n",
       "      <td>0.47</td>\n",
       "    </tr>\n",
       "    <tr>\n",
       "      <th>рыбинцы женщины 45-64 неактивные 1-2 продукта</th>\n",
       "      <td>101.0</td>\n",
       "      <td>0.62</td>\n",
       "      <td>0.42</td>\n",
       "    </tr>\n",
       "  </tbody>\n",
       "</table>\n",
       "</div>"
      ],
      "text/plain": [
       "                                                    count  churn_mean  \\\n",
       "все клиенты с 3-4 продуктами                        326.0        0.86   \n",
       "ростовчане мужчины 45-64 неактивные 1-2 продукта    137.0        0.78   \n",
       "ростовчане женщины 45-64 неактивные 1-2 продукта    166.0        0.77   \n",
       "ростовчане женщины страше 65 неактивные 1-2 про...    7.0        0.71   \n",
       "ярославцы женщины 45-64 неактивные 1-2 продукта     186.0        0.67   \n",
       "рыбинцы женщины 45-64 неактивные 1-2 продукта       101.0        0.62   \n",
       "\n",
       "                                                    churn_surplus  \n",
       "все клиенты с 3-4 продуктами                                 0.66  \n",
       "ростовчане мужчины 45-64 неактивные 1-2 продукта             0.58  \n",
       "ростовчане женщины 45-64 неактивные 1-2 продукта             0.57  \n",
       "ростовчане женщины страше 65 неактивные 1-2 про...           0.51  \n",
       "ярославцы женщины 45-64 неактивные 1-2 продукта              0.47  \n",
       "рыбинцы женщины 45-64 неактивные 1-2 продукта                0.42  "
      ]
     },
     "execution_count": 54,
     "metadata": {},
     "output_type": "execute_result"
    }
   ],
   "source": [
    "#посмотрим на доли отточных в выделенных сегментах и превышение долей над средней долей оттока\n",
    "segments = [\n",
    "    (\"все клиенты с 3-4 продуктами\", 'products > 2'),\n",
    "    (\"ростовчане женщины 45-64 неактивные 1-2 продукта\", 'city == \"Ростов Великий\" & gender == 0 & age_category == \"45-64\" & loyalty == 0 & products <= 2'),\n",
    "    (\"ростовчане мужчины 45-64 неактивные 1-2 продукта\", 'city == \"Ростов Великий\" & gender == 1 & age_category == \"45-64\" & loyalty == 0 & products <= 2'),\n",
    "    (\"ярославцы женщины 45-64 неактивные 1-2 продукта\", 'city == \"Ярославль\" & gender == 0 & age_category == \"45-64\" & loyalty == 0 & products <= 2'),\n",
    "    (\"рыбинцы женщины 45-64 неактивные 1-2 продукта\", 'city == \"Рыбинск\" & gender == 0 & age_category == \"45-64\" & loyalty == 0 & products <= 2'),\n",
    "    (\"ростовчане женщины страше 65 неактивные 1-2 продукта\",'city == \"Ростов Великий\" & gender == 0 & age_category == \"65 и старше\" & loyalty == 0 & products <= 2')\n",
    "]\n",
    "seg = []\n",
    "for text, query in segments:\n",
    "    result = df.query(query)\\\n",
    "              .agg({\"churn\":['count','mean']}).round(2).T\n",
    "    result.index = [text]\n",
    "    seg.append(result)\n",
    "segments_data = pd.concat(seg)\n",
    "segments_data['churn_surplus'] = (segments_data['mean'] - df.churn.mean()).round(2)\n",
    "segments_data.sort_values(by='churn_surplus', ascending=False).rename(columns={'mean':'churn_mean'})"
   ]
  },
  {
   "cell_type": "markdown",
   "metadata": {},
   "source": [
    "Вывод 3\n",
    "\n",
    "1. Корреляционный анализ показал, что очевидного признака, объясняющего склонность клиента к уходу из банка нет. Только такой признак как возраст имеет слабое влияние на отток (коэф. корреляции = 0.29), остальные признаки вовсе не объясняют склонность клиента к оттоку.\n",
    "\n",
    "2. В общем, клиент, склонный к уходу в отток, имеет следующий портрет:\n",
    "\n",
    "* скорее проживает в Ростове Великом\n",
    "\n",
    "* с бОльшей вероятностью женского пола\n",
    "\n",
    "* состоит в возрастной категории 45-64 года\n",
    "\n",
    "* неактивен\n",
    "\n",
    "* пользуется 3-4 продуктами банка\n",
    "\n",
    "3. На основании признаков клиентов, отображающих различия между лояльными и отточными клиентами, такими как город, возраст, активность, пол и количество продуктов, были выделены следующие сегменты отточников численностью более 10 человек:\n",
    "\n",
    "* Сегмент 1. Клиенты с 3-4 продуктами вне зависимости от других признаков. 326 человек. Попадают в отток в 86% случаев.\n",
    "\n",
    "* Сегмент 2. Ростовчане мужчины в возрасте 45-64 года, неактивные, с 1-2 продуктами. 137 человек. Попадают в отток в 78% случаев.\n",
    "\n",
    "* Сегмент 3. Ростовчанки женщины в возрасте 45-64 года, неактивные, с 1-2 продуктами. 166 человек. Попадают в отток в 77% случаев.\n",
    "\n",
    "* Сегмент 4. Ярославки женщины в возрасте 45-64 года, неактивные, с 1-2 продуктами. 186 человек. Попадают в отток в 67% случаев.\n",
    "\n",
    "* Сегмент 5. Рыбинчанки женщины в возрасте 45-64 года, неактивные, с 1-2 продуктами. 101 человек. Попадают в отток в 62% случаев."
   ]
  },
  {
   "cell_type": "markdown",
   "metadata": {},
   "source": [
    "##  Проверка статистических гипотез"
   ]
  },
  {
   "cell_type": "markdown",
   "metadata": {},
   "source": [
    "### Проверка гипотезы о различии дохода между ушедшими и лояльными клиентами банка"
   ]
  },
  {
   "cell_type": "code",
   "execution_count": 55,
   "metadata": {},
   "outputs": [],
   "source": [
    "#Разделим датасет на ушедших и лояльных\n",
    "df_churn_0 = df.query('churn == 0')\n",
    "df_churn_1 = df.query('churn == 1')"
   ]
  },
  {
   "cell_type": "markdown",
   "metadata": {},
   "source": [
    "Для применения t-теста для проверки гипотезы убедимся, что данные распределены нормально и дисперсии двух выборок не сильно отличаются."
   ]
  },
  {
   "cell_type": "code",
   "execution_count": 56,
   "metadata": {
    "scrolled": true
   },
   "outputs": [
    {
     "data": {
      "image/png": "[encoded data removed]",
      "text/plain": [
       "<Figure size 432x288 with 1 Axes>"
      ]
     },
     "metadata": {
      "needs_background": "light"
     },
     "output_type": "display_data"
    }
   ],
   "source": [
    "sns.distplot(df_churn_0['estimated_salary'], bins=100)\n",
    "sns.distplot(df_churn_1['estimated_salary'], bins=100)\n",
    "plt.title('Распределение по доходу в разрезе оттока')\n",
    "plt.legend(['Лояльные', 'Ушедшие'])\n",
    "plt.show();"
   ]
  },
  {
   "cell_type": "code",
   "execution_count": 57,
   "metadata": {},
   "outputs": [
    {
     "name": "stdout",
     "output_type": "stream",
     "text": [
      "Кол-во ушедших:  2037\n",
      "Кол-во лояльных:  7963\n",
      "Дисперсия ушедших: 3353848166.8070116\n",
      "Дисперсия лояльных: 3295401414.9183965\n"
     ]
    }
   ],
   "source": [
    "print('Кол-во ушедших: ', len(df_churn_1['estimated_salary']))\n",
    "print('Кол-во лояльных: ', len(df_churn_0['estimated_salary']))\n",
    "\n",
    "print('Дисперсия ушедших:',df_churn_1['estimated_salary'].var())\n",
    "print('Дисперсия лояльных:',df_churn_0['estimated_salary'].var())"
   ]
  },
  {
   "cell_type": "markdown",
   "metadata": {},
   "source": [
    "Дисперсии почти равны, но распределение не похоже на нормальное, поэтому для проверки гипотезы воспользуемся U-критерием Манна — Уитни. Используем уровень стат. значимости в 5%.\n",
    "\n",
    "Гипотеза H0: доход среди тех клиентов, которые ушли и тех, которые остались, не различаются\n",
    "\n",
    "Гипотеза H1: доход среди тех клиентов, которые ушли и тех, которые остались, различаются"
   ]
  },
  {
   "cell_type": "code",
   "execution_count": 58,
   "metadata": {},
   "outputs": [
    {
     "name": "stdout",
     "output_type": "stream",
     "text": [
      "p-значение: 0.22705150930153783\n",
      "Не получилось отвергнуть нулевую гипотезу\n"
     ]
    }
   ],
   "source": [
    "alpha = 0.05 \n",
    "\n",
    "results = st.mannwhitneyu(\n",
    "    df_churn_0['estimated_salary'], \n",
    "    df_churn_1['estimated_salary'])\n",
    "\n",
    "print('p-значение:', results.pvalue)\n",
    "\n",
    "if (results.pvalue < alpha):\n",
    "    print(\"Отвергаем нулевую гипотезу\")\n",
    "else:\n",
    "    print(\"Не получилось отвергнуть нулевую гипотезу\")"
   ]
  },
  {
   "cell_type": "markdown",
   "metadata": {},
   "source": [
    "### Проверка гипотезы о различии уровня кредитного скоринга между ушедшими и лояльными клиентами банка"
   ]
  },
  {
   "cell_type": "markdown",
   "metadata": {},
   "source": [
    "Для применения t-теста для проверки гипотезы убедимся, что данные распределены нормально и дисперсии двух выборок не сильно отличаются."
   ]
  },
  {
   "cell_type": "code",
   "execution_count": 59,
   "metadata": {},
   "outputs": [
    {
     "data": {
      "image/png": "[encoded data removed]",
      "text/plain": [
       "<Figure size 432x288 with 1 Axes>"
      ]
     },
     "metadata": {
      "needs_background": "light"
     },
     "output_type": "display_data"
    }
   ],
   "source": [
    "sns.distplot(df_churn_0['score'], bins=100)\n",
    "sns.distplot(df_churn_1['score'], bins=100)\n",
    "plt.title('Распределение по уровню кредитного скоринга в разрезе оттока')\n",
    "plt.legend(['Лояльные', 'Ушедшие'])\n",
    "plt.show();"
   ]
  },
  {
   "cell_type": "code",
   "execution_count": 60,
   "metadata": {},
   "outputs": [
    {
     "name": "stdout",
     "output_type": "stream",
     "text": [
      "Кол-во ушедших:  2037\n",
      "Кол-во лояльных:  7963\n",
      "Дисперсия ушедших: 10064.403893876835\n",
      "Дисперсия лояльных: 9149.656541843884\n"
     ]
    }
   ],
   "source": [
    "print('Кол-во ушедших: ', len(df_churn_1['estimated_salary']))\n",
    "print('Кол-во лояльных: ', len(df_churn_0['estimated_salary']))\n",
    "\n",
    "print('Дисперсия ушедших:',df_churn_1['score'].var())\n",
    "print('Дисперсия лояльных:',df_churn_0['score'].var())"
   ]
  },
  {
   "cell_type": "markdown",
   "metadata": {},
   "source": [
    "Дисперсии различаются в пределах 10%, но распределение опять не является нормальных из-за того, что хвост справа скошен, и есть выброс на отметке в 850 баллов. Поэтому опять применим U-критерий Манна — Уитни для проверки гипотезы. Уровень стат. значимости - 5%.\n",
    "\n",
    "Гипотеза H0: уровень кредитного скоринга среди тех клиентов, которые ушли и тех, которые остались, не различаются\n",
    "\n",
    "Гипотеза H1: уровень кредитного скоринга среди тех клиентов, которые ушли и тех, которые остались, различаются"
   ]
  },
  {
   "cell_type": "code",
   "execution_count": 61,
   "metadata": {
    "scrolled": true
   },
   "outputs": [
    {
     "name": "stdout",
     "output_type": "stream",
     "text": [
      "p-значение: 0.01986866117272834\n",
      "Отвергаем нулевую гипотезу\n"
     ]
    }
   ],
   "source": [
    "alpha = 0.05 \n",
    "\n",
    "results = st.mannwhitneyu(\n",
    "    df_churn_0['score'], \n",
    "    df_churn_1['score'])\n",
    "\n",
    "print('p-значение:', results.pvalue)\n",
    "\n",
    "if (results.pvalue < alpha):\n",
    "    print(\"Отвергаем нулевую гипотезу\")\n",
    "else:\n",
    "    print(\"Не получилось отвергнуть нулевую гипотезу\")"
   ]
  },
  {
   "cell_type": "markdown",
   "metadata": {},
   "source": [
    "### Проверка гипотезы о различии уровня баланса на счете между ушедшими и лояльными клиентами банка"
   ]
  },
  {
   "cell_type": "code",
   "execution_count": 62,
   "metadata": {},
   "outputs": [],
   "source": [
    "#создадим копию датасета без пропусков в столбце с балансом\n",
    "new_df = df[~np.isnan (df['balance'])]"
   ]
  },
  {
   "cell_type": "code",
   "execution_count": 63,
   "metadata": {},
   "outputs": [],
   "source": [
    "#Разделим новый датасет на ушедших и лояльных\n",
    "new_df_churn_0 = new_df.query('churn == 0')\n",
    "new_df_churn_1 = new_df.query('churn == 1')"
   ]
  },
  {
   "cell_type": "markdown",
   "metadata": {},
   "source": [
    "Для применения t-теста для проверки гипотезы убедимся, что данные распределены нормально и дисперсии двух выборок не сильно отличаются."
   ]
  },
  {
   "cell_type": "code",
   "execution_count": 64,
   "metadata": {
    "scrolled": true
   },
   "outputs": [
    {
     "data": {
      "image/png": "[encoded data removed]",
      "text/plain": [
       "<Figure size 432x288 with 1 Axes>"
      ]
     },
     "metadata": {
      "needs_background": "light"
     },
     "output_type": "display_data"
    }
   ],
   "source": [
    "sns.distplot(new_df_churn_0['balance'], bins=100)\n",
    "sns.distplot(new_df_churn_1['balance'], bins=100)\n",
    "plt.title('Распределение по уровню ,баланса на счете в разрезе оттока')\n",
    "plt.legend(['Лояльные', 'Ушедшие'])\n",
    "plt.show();"
   ]
  },
  {
   "cell_type": "code",
   "execution_count": 65,
   "metadata": {
    "scrolled": false
   },
   "outputs": [
    {
     "name": "stdout",
     "output_type": "stream",
     "text": [
      "Кол-во ушедших:  1537\n",
      "Кол-во лояльных:  4846\n",
      "Дисперсия ушедших: 933619807.1817832\n",
      "Дисперсия лояльных: 896698675.3393947\n"
     ]
    }
   ],
   "source": [
    "print('Кол-во ушедших: ', len(new_df_churn_1['balance']))\n",
    "print('Кол-во лояльных: ', len(new_df_churn_0['balance']))\n",
    "\n",
    "print('Дисперсия ушедших:', new_df_churn_1['balance'].var())\n",
    "print('Дисперсия лояльных:', new_df_churn_0['balance'].var())"
   ]
  },
  {
   "cell_type": "markdown",
   "metadata": {},
   "source": [
    "Данные распределены нормально, дисперсии различаются в пределах 10%, поэтому для проверки гипотезы можно вспользоваться t-тестом.\n",
    "\n",
    "Гипотеза H0: уровень баланса на счете среди тех клиентов, которые ушли и тех, которые остались, не различаются\n",
    "\n",
    "Гипотеза H1: уровень баланса на счете среди тех клиентов, которые ушли и тех, которые остались, различаются"
   ]
  },
  {
   "cell_type": "code",
   "execution_count": 66,
   "metadata": {},
   "outputs": [
    {
     "name": "stdout",
     "output_type": "stream",
     "text": [
      "p-значение: 0.16924734893322796\n",
      "Не получилось отвергнуть нулевую гипотезу\n"
     ]
    }
   ],
   "source": [
    "alpha = 0.05 \n",
    "\n",
    "results = st.ttest_ind(\n",
    "    new_df_churn_0['balance'], \n",
    "    new_df_churn_1['balance'])\n",
    "\n",
    "print('p-значение:', results.pvalue)\n",
    "\n",
    "if (results.pvalue < alpha):\n",
    "    print(\"Отвергаем нулевую гипотезу\")\n",
    "else:\n",
    "    print(\"Не получилось отвергнуть нулевую гипотезу\")"
   ]
  },
  {
   "cell_type": "markdown",
   "metadata": {},
   "source": [
    "Вывод 4\n",
    "\n",
    "Проведены проверки 3 статистических гипотез о влиянии признаков клиентов на их склонность к оттоку. Получены следующие результаты:\n",
    "\n",
    "1. Средние доход и баланс на счете между отточными и лояльными банку клиентами не различаются.\n",
    "\n",
    "2. Средний уровень крединтного скоринга между отточными и лояльными банку клиентами разлчаются. В среднем у лояльных клиентов уровень кредитного скоринга немного выше, чем у склонных к оттоку. Тем не менее, данный признак для сегментации отточных клиентов использовать не будем. "
   ]
  },
  {
   "cell_type": "markdown",
   "metadata": {},
   "source": [
    "## Общие выводы исследования"
   ]
  },
  {
   "cell_type": "markdown",
   "metadata": {},
   "source": [
    "1. В выборке представлена информация о 10000 уникальных клиентах банках. О портрете рядового клиента банка можно сказать следующее:\n",
    "\n",
    "* Выборка по полу распределена равномерно\n",
    "\n",
    "* 50% - клиенты из Ярославля, 25% - из Ростова Великого, 25% - из Рыбинска\n",
    "\n",
    "* В разрезе возраста в датасете преобладают клиенты 25-44 лет\n",
    "\n",
    "* По уровню дохода в датасете преимущественно люди с высокой заработной платой (более 100000 рублей)\n",
    "\n",
    "* Больше всего клиентов со средним уровнем кредитного скоринга (600-800 баллов)\n",
    "\n",
    "* В разрезе баланса на счете преобладают клиенты со средним уровнем баланса (100000-150000 рублей)\n",
    "\n",
    "* В подавляющем большинстве клиенты пользуются 1-2 продуктами банка\n",
    "\n",
    "* В среднем клиент имеет в собственности 5 объектов\n",
    "\n",
    "* В 70% случаев клиенты имеют кредитную карту банка\n",
    "\n",
    "* Примерно 50% клиентов - активные пользователи банка\n",
    "\n",
    "* В 80% случаев клиент лоялен банку и не склонен к уходу\n",
    "\n",
    "\n",
    "2. Отток клиентов в банке на данный момент составляет 20%. Корреляционный анализ не показал сильного влияния ни одного из признаков клиентов на склонность к оттоку.\n",
    "\n",
    "В общем, клиент, склонный к уходу в отток, имеет следующий портрет:\n",
    "\n",
    "* скорее проживает в Ростове Великом\n",
    "\n",
    "* с бОльшей вероятностью женского пола\n",
    "\n",
    "* состоит в возрастной категории 45-64 года\n",
    "\n",
    "* неактивен\n",
    "\n",
    "* пользуется 3-4 продуктами банка\n",
    "\n",
    "\n",
    "3. Проверка статистических гипотез показала, что средние доход и баланс на счете между отточными и лояльными банку клиентами не различаются. \n",
    "\n",
    "4. На основании признаков клиентов, отображающих различия между лояльными и отточными клиентами, такими как город, возраст, активность, пол и количество продуктов, были выделены следующие сегменты отточников численностью более 100 человек:\n",
    "\n",
    "* Сегмент 1. Клиенты с 3-4 продуктами вне зависимости от других признаков. 326 человек. Попадают в отток в 86% случаев.\n",
    "\n",
    "* Сегмент 2. Ростовчане мужчины в возрасте 45-64 года, неактивные, с 1-2 продуктами. 137 человек. Попадают в отток в 78% случаев.\n",
    "\n",
    "* Сегмент 3. Ростовчанки женщины в возрасте 45-64 года, неактивные, с 1-2 продуктами. 166 человек. Попадают в отток в 77% случаев.\n",
    "\n",
    "* Сегмент 4. Ярославки женщины в возрасте 45-64 года, неактивные, с 1-2 продуктами. 186 человек. Попадают в отток в 67% случаев.\n",
    "\n",
    "* Сегмент 5. Рыбинчанки женщины в возрасте 45-64 года, неактивные, с 1-2 продуктами. 101 человек. Попадают в отток в 62% случаев."
   ]
  },
  {
   "cell_type": "markdown",
   "metadata": {},
   "source": [
    "## Рекомендации отделу маркетинга по минимазации оттока"
   ]
  },
  {
   "cell_type": "markdown",
   "metadata": {},
   "source": [
    "1. Повсеместно провести мониторинг активности клиентов с 3-4 продуктами. Провести мероприятия по улучшению клиентского опыта взаимодействия с банком, например, закреплять за клиентом с 3 продуктами и более персонального менеджера. Сформировать пакетное предложение для клиентов с 3-4 продуктами (например, карта+вклад+страхование) с условиями, выгоднее, чем при отдельном использовании продуктов.\n",
    "\n",
    "2. Провести анализ качества обслуживания клиентов банка в Ростове Великом. Провести анализ конкурентной среды в этом городе, возможно конкуренты предлагают клиентам более выгодные условия по банковским продуктам.\n",
    "\n",
    "3. Повсеместно провести разработку выгодных предложений для людей в возрасте 45-64 года. Проанализировать, какие категории трат преобладают в структуре трат у этой возрастной группы, и предложить на эти категории повышенный кэшбек. Разработать вклад с выгодными условиями конкретно для этой возрастной группы, но не очень дискриминирующий другие возрастные группы. Привлечь к сотрудничеству по программе лояльности партнеров, услугами которых склонны пользоваться люди в возрастной группе 45-64. Предложить выгодные условия по кредиту для целей, характерных этой возрастной группе.\n",
    "\n",
    "4. Повсеместно принять меры по повышению процента активных пользователей. Например, сохранять для клиентов привлекательные условия по начислению процентов на остаток по счету, получению кэшбека и льготной цене на обслужвание карты при осуществлении минимум 2-3 покупок по карте в месяц."
   ]
  }
 ],
 "metadata": {
  "ExecuteTimeLog": [
   {
    "duration": 1267,
    "start_time": "2023-01-13T10:44:10.963Z"
   },
   {
    "duration": 152,
    "start_time": "2023-01-13T10:44:47.349Z"
   },
   {
    "duration": 17,
    "start_time": "2023-01-13T10:45:04.042Z"
   },
   {
    "duration": 12,
    "start_time": "2023-01-13T10:46:46.620Z"
   },
   {
    "duration": 102,
    "start_time": "2023-01-13T10:47:38.372Z"
   },
   {
    "duration": 3,
    "start_time": "2023-01-13T10:50:05.156Z"
   },
   {
    "duration": 4,
    "start_time": "2023-01-13T10:51:04.952Z"
   },
   {
    "duration": 4,
    "start_time": "2023-01-13T10:51:15.777Z"
   },
   {
    "duration": 16,
    "start_time": "2023-01-13T10:55:36.048Z"
   },
   {
    "duration": 12,
    "start_time": "2023-01-13T11:04:22.879Z"
   },
   {
    "duration": 9,
    "start_time": "2023-01-13T11:04:40.506Z"
   },
   {
    "duration": 8,
    "start_time": "2023-01-13T11:06:43.741Z"
   },
   {
    "duration": 21,
    "start_time": "2023-01-13T11:06:56.762Z"
   },
   {
    "duration": 6,
    "start_time": "2023-01-13T11:07:17.170Z"
   },
   {
    "duration": 74,
    "start_time": "2023-01-13T11:07:34.722Z"
   },
   {
    "duration": 78,
    "start_time": "2023-01-13T11:07:40.613Z"
   },
   {
    "duration": 8,
    "start_time": "2023-01-13T11:07:49.787Z"
   },
   {
    "duration": 5,
    "start_time": "2023-01-13T11:08:14.032Z"
   },
   {
    "duration": 8,
    "start_time": "2023-01-13T11:11:56.961Z"
   },
   {
    "duration": 6,
    "start_time": "2023-01-13T11:13:17.227Z"
   },
   {
    "duration": 9,
    "start_time": "2023-01-13T11:19:14.183Z"
   },
   {
    "duration": 5,
    "start_time": "2023-01-13T11:19:26.075Z"
   },
   {
    "duration": 71,
    "start_time": "2023-01-13T11:19:32.081Z"
   },
   {
    "duration": 9,
    "start_time": "2023-01-13T11:19:39.438Z"
   },
   {
    "duration": 10,
    "start_time": "2023-01-13T11:19:57.794Z"
   },
   {
    "duration": 8,
    "start_time": "2023-01-13T11:20:07.562Z"
   },
   {
    "duration": 9,
    "start_time": "2023-01-13T11:20:42.320Z"
   },
   {
    "duration": 44,
    "start_time": "2023-01-13T12:02:25.454Z"
   },
   {
    "duration": 5,
    "start_time": "2023-01-13T12:15:59.670Z"
   },
   {
    "duration": 30,
    "start_time": "2023-01-13T12:21:24.276Z"
   },
   {
    "duration": 9,
    "start_time": "2023-01-13T12:21:35.557Z"
   },
   {
    "duration": 69,
    "start_time": "2023-01-13T12:42:41.083Z"
   },
   {
    "duration": 4,
    "start_time": "2023-01-13T12:42:52.798Z"
   },
   {
    "duration": 8,
    "start_time": "2023-01-13T12:45:33.427Z"
   },
   {
    "duration": 8,
    "start_time": "2023-01-13T12:45:43.339Z"
   },
   {
    "duration": 6,
    "start_time": "2023-01-13T12:46:16.739Z"
   },
   {
    "duration": 37,
    "start_time": "2023-01-13T12:46:34.965Z"
   },
   {
    "duration": 7,
    "start_time": "2023-01-13T12:51:36.286Z"
   },
   {
    "duration": 7,
    "start_time": "2023-01-13T12:58:02.757Z"
   },
   {
    "duration": 136,
    "start_time": "2023-01-13T12:58:41.852Z"
   },
   {
    "duration": 117,
    "start_time": "2023-01-13T12:59:06.559Z"
   },
   {
    "duration": 142,
    "start_time": "2023-01-13T12:59:16.889Z"
   },
   {
    "duration": 8,
    "start_time": "2023-01-13T13:14:35.932Z"
   },
   {
    "duration": 30,
    "start_time": "2023-01-13T13:16:00.548Z"
   },
   {
    "duration": 34,
    "start_time": "2023-01-13T13:16:16.592Z"
   },
   {
    "duration": 137,
    "start_time": "2023-01-13T13:16:33.394Z"
   },
   {
    "duration": 924,
    "start_time": "2023-01-13T13:21:44.537Z"
   },
   {
    "duration": 45,
    "start_time": "2023-01-14T10:54:49.636Z"
   },
   {
    "duration": 1375,
    "start_time": "2023-01-14T10:54:54.333Z"
   },
   {
    "duration": 146,
    "start_time": "2023-01-14T10:54:55.709Z"
   },
   {
    "duration": 17,
    "start_time": "2023-01-14T10:54:55.857Z"
   },
   {
    "duration": 13,
    "start_time": "2023-01-14T10:54:55.875Z"
   },
   {
    "duration": 3,
    "start_time": "2023-01-14T10:54:55.890Z"
   },
   {
    "duration": 8,
    "start_time": "2023-01-14T10:54:55.894Z"
   },
   {
    "duration": 11,
    "start_time": "2023-01-14T10:54:55.904Z"
   },
   {
    "duration": 18,
    "start_time": "2023-01-14T10:54:55.916Z"
   },
   {
    "duration": 6,
    "start_time": "2023-01-14T10:54:55.935Z"
   },
   {
    "duration": 13,
    "start_time": "2023-01-14T10:54:55.942Z"
   },
   {
    "duration": 12,
    "start_time": "2023-01-14T10:54:55.957Z"
   },
   {
    "duration": 33,
    "start_time": "2023-01-14T10:54:55.970Z"
   },
   {
    "duration": 45,
    "start_time": "2023-01-14T10:54:56.004Z"
   },
   {
    "duration": 7,
    "start_time": "2023-01-14T10:54:56.052Z"
   },
   {
    "duration": 34,
    "start_time": "2023-01-14T10:54:56.061Z"
   },
   {
    "duration": 173,
    "start_time": "2023-01-14T10:54:56.096Z"
   },
   {
    "duration": 8,
    "start_time": "2023-01-14T10:54:56.270Z"
   },
   {
    "duration": 47,
    "start_time": "2023-01-14T10:54:56.279Z"
   },
   {
    "duration": 115,
    "start_time": "2023-01-14T11:07:37.498Z"
   },
   {
    "duration": 116,
    "start_time": "2023-01-14T11:08:00.065Z"
   },
   {
    "duration": 12,
    "start_time": "2023-01-14T11:08:05.651Z"
   },
   {
    "duration": 122,
    "start_time": "2023-01-14T11:09:13.911Z"
   },
   {
    "duration": 149,
    "start_time": "2023-01-14T11:09:34.266Z"
   },
   {
    "duration": 118,
    "start_time": "2023-01-14T11:12:39.137Z"
   },
   {
    "duration": 115,
    "start_time": "2023-01-14T11:13:05.055Z"
   },
   {
    "duration": 7,
    "start_time": "2023-01-14T11:13:13.116Z"
   },
   {
    "duration": 111,
    "start_time": "2023-01-14T11:13:15.136Z"
   },
   {
    "duration": 6,
    "start_time": "2023-01-14T11:14:41.694Z"
   },
   {
    "duration": 70,
    "start_time": "2023-01-14T11:15:39.395Z"
   },
   {
    "duration": 87,
    "start_time": "2023-01-14T11:15:49.708Z"
   },
   {
    "duration": 11,
    "start_time": "2023-01-14T11:15:57.496Z"
   },
   {
    "duration": 7,
    "start_time": "2023-01-14T11:16:09.241Z"
   },
   {
    "duration": 5,
    "start_time": "2023-01-14T11:17:16.154Z"
   },
   {
    "duration": 14,
    "start_time": "2023-01-14T11:17:23.495Z"
   },
   {
    "duration": 6,
    "start_time": "2023-01-14T11:17:49.509Z"
   },
   {
    "duration": 8,
    "start_time": "2023-01-14T11:18:12.698Z"
   },
   {
    "duration": 117,
    "start_time": "2023-01-14T11:18:21.242Z"
   },
   {
    "duration": 3,
    "start_time": "2023-01-14T11:18:28.609Z"
   },
   {
    "duration": 42,
    "start_time": "2023-01-14T11:18:28.614Z"
   },
   {
    "duration": 12,
    "start_time": "2023-01-14T11:18:28.658Z"
   },
   {
    "duration": 15,
    "start_time": "2023-01-14T11:18:28.672Z"
   },
   {
    "duration": 3,
    "start_time": "2023-01-14T11:18:28.689Z"
   },
   {
    "duration": 9,
    "start_time": "2023-01-14T11:18:28.693Z"
   },
   {
    "duration": 28,
    "start_time": "2023-01-14T11:18:28.704Z"
   },
   {
    "duration": 19,
    "start_time": "2023-01-14T11:18:28.734Z"
   },
   {
    "duration": 6,
    "start_time": "2023-01-14T11:18:28.754Z"
   },
   {
    "duration": 13,
    "start_time": "2023-01-14T11:18:28.761Z"
   },
   {
    "duration": 9,
    "start_time": "2023-01-14T11:18:28.776Z"
   },
   {
    "duration": 13,
    "start_time": "2023-01-14T11:18:28.786Z"
   },
   {
    "duration": 37,
    "start_time": "2023-01-14T11:18:28.801Z"
   },
   {
    "duration": 7,
    "start_time": "2023-01-14T11:18:28.840Z"
   },
   {
    "duration": 42,
    "start_time": "2023-01-14T11:18:28.849Z"
   },
   {
    "duration": 170,
    "start_time": "2023-01-14T11:18:28.892Z"
   },
   {
    "duration": 8,
    "start_time": "2023-01-14T11:18:29.064Z"
   },
   {
    "duration": 53,
    "start_time": "2023-01-14T11:18:29.073Z"
   },
   {
    "duration": 128,
    "start_time": "2023-01-14T11:18:29.128Z"
   },
   {
    "duration": 13,
    "start_time": "2023-01-14T11:18:29.258Z"
   },
   {
    "duration": 12,
    "start_time": "2023-01-14T11:18:29.272Z"
   },
   {
    "duration": 137,
    "start_time": "2023-01-14T11:18:29.286Z"
   },
   {
    "duration": 15,
    "start_time": "2023-01-14T11:19:51.689Z"
   },
   {
    "duration": 186,
    "start_time": "2023-01-14T11:20:05.150Z"
   },
   {
    "duration": 10,
    "start_time": "2023-01-14T11:23:11.055Z"
   },
   {
    "duration": 10,
    "start_time": "2023-01-14T11:24:47.771Z"
   },
   {
    "duration": 12,
    "start_time": "2023-01-14T11:25:25.318Z"
   },
   {
    "duration": 7,
    "start_time": "2023-01-14T11:25:58.294Z"
   },
   {
    "duration": 109,
    "start_time": "2023-01-14T11:25:59.440Z"
   },
   {
    "duration": 108,
    "start_time": "2023-01-14T11:26:18.264Z"
   },
   {
    "duration": 7,
    "start_time": "2023-01-14T11:26:28.600Z"
   },
   {
    "duration": 12,
    "start_time": "2023-01-14T11:26:48.574Z"
   },
   {
    "duration": 103,
    "start_time": "2023-01-14T11:27:02.551Z"
   },
   {
    "duration": 6,
    "start_time": "2023-01-14T11:27:16.521Z"
   },
   {
    "duration": 116,
    "start_time": "2023-01-14T11:27:43.150Z"
   },
   {
    "duration": 121,
    "start_time": "2023-01-14T11:27:50.063Z"
   },
   {
    "duration": 116,
    "start_time": "2023-01-14T11:28:58.026Z"
   },
   {
    "duration": 6,
    "start_time": "2023-01-14T11:29:33.473Z"
   },
   {
    "duration": 9,
    "start_time": "2023-01-14T11:29:37.542Z"
   },
   {
    "duration": 110,
    "start_time": "2023-01-14T11:30:53.145Z"
   },
   {
    "duration": 103,
    "start_time": "2023-01-14T11:31:12.599Z"
   },
   {
    "duration": 115,
    "start_time": "2023-01-14T11:31:51.599Z"
   },
   {
    "duration": 110,
    "start_time": "2023-01-14T11:36:05.057Z"
   },
   {
    "duration": 6,
    "start_time": "2023-01-14T11:37:39.006Z"
   },
   {
    "duration": 108,
    "start_time": "2023-01-14T11:38:27.769Z"
   },
   {
    "duration": 12,
    "start_time": "2023-01-14T11:38:30.183Z"
   },
   {
    "duration": 6,
    "start_time": "2023-01-14T11:38:40.962Z"
   },
   {
    "duration": 111,
    "start_time": "2023-01-14T11:38:48.402Z"
   },
   {
    "duration": 122,
    "start_time": "2023-01-14T11:40:06.153Z"
   },
   {
    "duration": 10,
    "start_time": "2023-01-14T11:45:09.473Z"
   },
   {
    "duration": 102,
    "start_time": "2023-01-14T11:45:27.889Z"
   },
   {
    "duration": 13,
    "start_time": "2023-01-14T11:45:34.886Z"
   },
   {
    "duration": 52,
    "start_time": "2023-01-14T12:57:57.049Z"
   },
   {
    "duration": 1282,
    "start_time": "2023-01-14T12:58:00.754Z"
   },
   {
    "duration": 79,
    "start_time": "2023-01-14T12:58:02.038Z"
   },
   {
    "duration": 17,
    "start_time": "2023-01-14T12:58:02.118Z"
   },
   {
    "duration": 18,
    "start_time": "2023-01-14T12:58:02.137Z"
   },
   {
    "duration": 20,
    "start_time": "2023-01-14T12:58:02.158Z"
   },
   {
    "duration": 17,
    "start_time": "2023-01-14T12:58:02.180Z"
   },
   {
    "duration": 32,
    "start_time": "2023-01-14T12:58:02.199Z"
   },
   {
    "duration": 33,
    "start_time": "2023-01-14T12:58:02.233Z"
   },
   {
    "duration": 15,
    "start_time": "2023-01-14T12:58:02.267Z"
   },
   {
    "duration": 28,
    "start_time": "2023-01-14T12:58:02.284Z"
   },
   {
    "duration": 17,
    "start_time": "2023-01-14T12:58:02.313Z"
   },
   {
    "duration": 22,
    "start_time": "2023-01-14T12:58:02.331Z"
   },
   {
    "duration": 60,
    "start_time": "2023-01-14T12:58:02.355Z"
   },
   {
    "duration": 9,
    "start_time": "2023-01-14T12:58:02.418Z"
   },
   {
    "duration": 140,
    "start_time": "2023-01-14T12:58:02.429Z"
   },
   {
    "duration": 193,
    "start_time": "2023-01-14T12:58:02.571Z"
   },
   {
    "duration": 8,
    "start_time": "2023-01-14T12:58:02.765Z"
   },
   {
    "duration": 42,
    "start_time": "2023-01-14T12:58:02.775Z"
   },
   {
    "duration": 135,
    "start_time": "2023-01-14T12:58:02.819Z"
   },
   {
    "duration": 13,
    "start_time": "2023-01-14T12:58:02.955Z"
   },
   {
    "duration": 17,
    "start_time": "2023-01-14T12:58:02.969Z"
   },
   {
    "duration": 131,
    "start_time": "2023-01-14T12:58:02.988Z"
   },
   {
    "duration": 103,
    "start_time": "2023-01-14T12:58:03.121Z"
   },
   {
    "duration": 27,
    "start_time": "2023-01-14T12:58:03.226Z"
   },
   {
    "duration": 151,
    "start_time": "2023-01-14T12:58:03.255Z"
   },
   {
    "duration": 137,
    "start_time": "2023-01-14T12:58:36.776Z"
   },
   {
    "duration": 125,
    "start_time": "2023-01-14T13:20:16.613Z"
   },
   {
    "duration": 15,
    "start_time": "2023-01-14T13:20:23.754Z"
   },
   {
    "duration": 148,
    "start_time": "2023-01-14T13:21:02.406Z"
   },
   {
    "duration": 13,
    "start_time": "2023-01-14T13:21:04.694Z"
   },
   {
    "duration": 6,
    "start_time": "2023-01-14T13:21:09.940Z"
   },
   {
    "duration": 127,
    "start_time": "2023-01-14T13:21:14.367Z"
   },
   {
    "duration": 4,
    "start_time": "2023-01-14T13:21:36.767Z"
   },
   {
    "duration": 58,
    "start_time": "2023-01-14T13:21:36.774Z"
   },
   {
    "duration": 12,
    "start_time": "2023-01-14T13:21:36.834Z"
   },
   {
    "duration": 19,
    "start_time": "2023-01-14T13:21:36.848Z"
   },
   {
    "duration": 5,
    "start_time": "2023-01-14T13:21:36.869Z"
   },
   {
    "duration": 21,
    "start_time": "2023-01-14T13:21:36.875Z"
   },
   {
    "duration": 8,
    "start_time": "2023-01-14T13:21:36.898Z"
   },
   {
    "duration": 20,
    "start_time": "2023-01-14T13:21:36.908Z"
   },
   {
    "duration": 5,
    "start_time": "2023-01-14T13:21:36.930Z"
   },
   {
    "duration": 20,
    "start_time": "2023-01-14T13:21:36.937Z"
   },
   {
    "duration": 9,
    "start_time": "2023-01-14T13:21:36.960Z"
   },
   {
    "duration": 16,
    "start_time": "2023-01-14T13:21:36.971Z"
   },
   {
    "duration": 44,
    "start_time": "2023-01-14T13:21:36.989Z"
   },
   {
    "duration": 6,
    "start_time": "2023-01-14T13:21:37.035Z"
   },
   {
    "duration": 46,
    "start_time": "2023-01-14T13:21:37.042Z"
   },
   {
    "duration": 174,
    "start_time": "2023-01-14T13:21:37.090Z"
   },
   {
    "duration": 8,
    "start_time": "2023-01-14T13:21:37.266Z"
   },
   {
    "duration": 40,
    "start_time": "2023-01-14T13:21:37.276Z"
   },
   {
    "duration": 147,
    "start_time": "2023-01-14T13:21:37.318Z"
   },
   {
    "duration": 13,
    "start_time": "2023-01-14T13:21:37.467Z"
   },
   {
    "duration": 13,
    "start_time": "2023-01-14T13:21:37.482Z"
   },
   {
    "duration": 154,
    "start_time": "2023-01-14T13:21:37.497Z"
   },
   {
    "duration": 106,
    "start_time": "2023-01-14T13:21:37.653Z"
   },
   {
    "duration": 12,
    "start_time": "2023-01-14T13:21:37.761Z"
   },
   {
    "duration": 153,
    "start_time": "2023-01-14T13:21:37.775Z"
   },
   {
    "duration": 125,
    "start_time": "2023-01-14T13:21:37.930Z"
   },
   {
    "duration": 14,
    "start_time": "2023-01-14T13:21:38.057Z"
   },
   {
    "duration": 139,
    "start_time": "2023-01-14T13:22:46.539Z"
   },
   {
    "duration": 6,
    "start_time": "2023-01-14T13:24:19.480Z"
   },
   {
    "duration": 6,
    "start_time": "2023-01-14T13:25:06.753Z"
   },
   {
    "duration": 50,
    "start_time": "2023-01-15T12:13:33.557Z"
   },
   {
    "duration": 1361,
    "start_time": "2023-01-15T12:13:37.158Z"
   },
   {
    "duration": 81,
    "start_time": "2023-01-15T12:13:38.522Z"
   },
   {
    "duration": 18,
    "start_time": "2023-01-15T12:13:38.605Z"
   },
   {
    "duration": 17,
    "start_time": "2023-01-15T12:13:38.625Z"
   },
   {
    "duration": 4,
    "start_time": "2023-01-15T12:13:38.644Z"
   },
   {
    "duration": 14,
    "start_time": "2023-01-15T12:13:38.650Z"
   },
   {
    "duration": 7,
    "start_time": "2023-01-15T12:13:38.666Z"
   },
   {
    "duration": 17,
    "start_time": "2023-01-15T12:13:38.675Z"
   },
   {
    "duration": 20,
    "start_time": "2023-01-15T12:13:38.694Z"
   },
   {
    "duration": 10,
    "start_time": "2023-01-15T12:13:38.717Z"
   },
   {
    "duration": 8,
    "start_time": "2023-01-15T12:13:38.729Z"
   },
   {
    "duration": 12,
    "start_time": "2023-01-15T12:13:38.739Z"
   },
   {
    "duration": 88,
    "start_time": "2023-01-15T12:13:38.753Z"
   },
   {
    "duration": 8,
    "start_time": "2023-01-15T12:13:38.842Z"
   },
   {
    "duration": 37,
    "start_time": "2023-01-15T12:13:38.852Z"
   },
   {
    "duration": 174,
    "start_time": "2023-01-15T12:13:38.913Z"
   },
   {
    "duration": 10,
    "start_time": "2023-01-15T12:13:39.091Z"
   },
   {
    "duration": 39,
    "start_time": "2023-01-15T12:13:39.112Z"
   },
   {
    "duration": 131,
    "start_time": "2023-01-15T12:13:39.153Z"
   },
   {
    "duration": 14,
    "start_time": "2023-01-15T12:13:39.286Z"
   },
   {
    "duration": 9,
    "start_time": "2023-01-15T12:13:39.312Z"
   },
   {
    "duration": 161,
    "start_time": "2023-01-15T12:13:39.323Z"
   },
   {
    "duration": 137,
    "start_time": "2023-01-15T12:13:39.486Z"
   },
   {
    "duration": 14,
    "start_time": "2023-01-15T12:13:39.625Z"
   },
   {
    "duration": 7,
    "start_time": "2023-01-15T12:13:39.641Z"
   },
   {
    "duration": 164,
    "start_time": "2023-01-15T12:13:39.650Z"
   },
   {
    "duration": 124,
    "start_time": "2023-01-15T12:13:39.816Z"
   },
   {
    "duration": 13,
    "start_time": "2023-01-15T12:13:39.944Z"
   },
   {
    "duration": 8,
    "start_time": "2023-01-15T12:13:39.959Z"
   },
   {
    "duration": 164,
    "start_time": "2023-01-15T12:13:39.969Z"
   },
   {
    "duration": 92,
    "start_time": "2023-01-15T12:13:40.135Z"
   },
   {
    "duration": 101,
    "start_time": "2023-01-15T12:13:54.888Z"
   },
   {
    "duration": 19,
    "start_time": "2023-01-15T12:14:19.741Z"
   },
   {
    "duration": 113,
    "start_time": "2023-01-15T12:15:17.440Z"
   },
   {
    "duration": 95,
    "start_time": "2023-01-15T12:15:59.458Z"
   },
   {
    "duration": 14,
    "start_time": "2023-01-15T12:16:00.591Z"
   },
   {
    "duration": 121,
    "start_time": "2023-01-15T12:16:01.390Z"
   },
   {
    "duration": 3,
    "start_time": "2023-01-15T12:17:00.672Z"
   },
   {
    "duration": 60,
    "start_time": "2023-01-15T12:17:00.677Z"
   },
   {
    "duration": 15,
    "start_time": "2023-01-15T12:17:00.740Z"
   },
   {
    "duration": 17,
    "start_time": "2023-01-15T12:17:00.757Z"
   },
   {
    "duration": 4,
    "start_time": "2023-01-15T12:17:00.776Z"
   },
   {
    "duration": 32,
    "start_time": "2023-01-15T12:17:00.781Z"
   },
   {
    "duration": 15,
    "start_time": "2023-01-15T12:17:00.815Z"
   },
   {
    "duration": 20,
    "start_time": "2023-01-15T12:17:00.832Z"
   },
   {
    "duration": 6,
    "start_time": "2023-01-15T12:17:00.854Z"
   },
   {
    "duration": 17,
    "start_time": "2023-01-15T12:17:00.862Z"
   },
   {
    "duration": 9,
    "start_time": "2023-01-15T12:17:00.882Z"
   },
   {
    "duration": 26,
    "start_time": "2023-01-15T12:17:00.893Z"
   },
   {
    "duration": 59,
    "start_time": "2023-01-15T12:17:00.921Z"
   },
   {
    "duration": 7,
    "start_time": "2023-01-15T12:17:00.982Z"
   },
   {
    "duration": 47,
    "start_time": "2023-01-15T12:17:00.990Z"
   },
   {
    "duration": 151,
    "start_time": "2023-01-15T12:17:01.039Z"
   },
   {
    "duration": 9,
    "start_time": "2023-01-15T12:17:01.192Z"
   },
   {
    "duration": 37,
    "start_time": "2023-01-15T12:17:01.212Z"
   },
   {
    "duration": 121,
    "start_time": "2023-01-15T12:17:01.251Z"
   },
   {
    "duration": 11,
    "start_time": "2023-01-15T12:17:01.374Z"
   },
   {
    "duration": 15,
    "start_time": "2023-01-15T12:17:01.386Z"
   },
   {
    "duration": 236,
    "start_time": "2023-01-15T12:17:01.403Z"
   },
   {
    "duration": 119,
    "start_time": "2023-01-15T12:17:01.641Z"
   },
   {
    "duration": 13,
    "start_time": "2023-01-15T12:17:01.761Z"
   },
   {
    "duration": 14,
    "start_time": "2023-01-15T12:17:01.776Z"
   },
   {
    "duration": 145,
    "start_time": "2023-01-15T12:17:01.792Z"
   },
   {
    "duration": 116,
    "start_time": "2023-01-15T12:17:01.938Z"
   },
   {
    "duration": 14,
    "start_time": "2023-01-15T12:17:02.056Z"
   },
   {
    "duration": 14,
    "start_time": "2023-01-15T12:17:02.073Z"
   },
   {
    "duration": 153,
    "start_time": "2023-01-15T12:17:02.088Z"
   },
   {
    "duration": 95,
    "start_time": "2023-01-15T12:17:02.242Z"
   },
   {
    "duration": 14,
    "start_time": "2023-01-15T12:17:02.339Z"
   },
   {
    "duration": 134,
    "start_time": "2023-01-15T12:17:02.354Z"
   },
   {
    "duration": 102,
    "start_time": "2023-01-15T12:18:38.101Z"
   },
   {
    "duration": 14,
    "start_time": "2023-01-15T12:18:38.752Z"
   },
   {
    "duration": 134,
    "start_time": "2023-01-15T12:18:39.478Z"
   },
   {
    "duration": 93,
    "start_time": "2023-01-15T12:19:20.275Z"
   },
   {
    "duration": 13,
    "start_time": "2023-01-15T12:19:21.084Z"
   },
   {
    "duration": 121,
    "start_time": "2023-01-15T12:19:21.900Z"
   },
   {
    "duration": 96,
    "start_time": "2023-01-15T12:19:32.139Z"
   },
   {
    "duration": 14,
    "start_time": "2023-01-15T12:19:32.898Z"
   },
   {
    "duration": 133,
    "start_time": "2023-01-15T12:19:33.528Z"
   },
   {
    "duration": 4,
    "start_time": "2023-01-15T12:21:14.356Z"
   },
   {
    "duration": 110,
    "start_time": "2023-01-15T12:21:24.926Z"
   },
   {
    "duration": 16,
    "start_time": "2023-01-15T12:21:26.208Z"
   },
   {
    "duration": 133,
    "start_time": "2023-01-15T12:21:27.710Z"
   },
   {
    "duration": 48,
    "start_time": "2023-01-15T12:25:50.551Z"
   },
   {
    "duration": 97,
    "start_time": "2023-01-15T12:25:58.730Z"
   },
   {
    "duration": 17,
    "start_time": "2023-01-15T12:25:59.836Z"
   },
   {
    "duration": 138,
    "start_time": "2023-01-15T12:26:01.344Z"
   },
   {
    "duration": 126,
    "start_time": "2023-01-15T12:26:46.179Z"
   },
   {
    "duration": 15,
    "start_time": "2023-01-15T12:26:46.797Z"
   },
   {
    "duration": 122,
    "start_time": "2023-01-15T12:27:27.168Z"
   },
   {
    "duration": 15,
    "start_time": "2023-01-15T12:27:29.497Z"
   },
   {
    "duration": 138,
    "start_time": "2023-01-15T12:27:31.959Z"
   },
   {
    "duration": 137,
    "start_time": "2023-01-15T12:29:15.456Z"
   },
   {
    "duration": 18,
    "start_time": "2023-01-15T12:29:16.568Z"
   },
   {
    "duration": 129,
    "start_time": "2023-01-15T12:29:31.137Z"
   },
   {
    "duration": 13,
    "start_time": "2023-01-15T12:59:54.744Z"
   },
   {
    "duration": 6,
    "start_time": "2023-01-15T13:00:20.292Z"
   },
   {
    "duration": 46,
    "start_time": "2023-01-15T16:38:31.384Z"
   },
   {
    "duration": 1404,
    "start_time": "2023-01-15T16:38:35.178Z"
   },
   {
    "duration": 74,
    "start_time": "2023-01-15T16:38:36.584Z"
   },
   {
    "duration": 16,
    "start_time": "2023-01-15T16:38:36.660Z"
   },
   {
    "duration": 12,
    "start_time": "2023-01-15T16:38:36.678Z"
   },
   {
    "duration": 3,
    "start_time": "2023-01-15T16:38:36.691Z"
   },
   {
    "duration": 6,
    "start_time": "2023-01-15T16:38:36.695Z"
   },
   {
    "duration": 12,
    "start_time": "2023-01-15T16:38:36.702Z"
   },
   {
    "duration": 12,
    "start_time": "2023-01-15T16:38:36.716Z"
   },
   {
    "duration": 5,
    "start_time": "2023-01-15T16:38:36.729Z"
   },
   {
    "duration": 10,
    "start_time": "2023-01-15T16:38:36.737Z"
   },
   {
    "duration": 10,
    "start_time": "2023-01-15T16:38:36.749Z"
   },
   {
    "duration": 11,
    "start_time": "2023-01-15T16:38:36.761Z"
   },
   {
    "duration": 58,
    "start_time": "2023-01-15T16:38:36.774Z"
   },
   {
    "duration": 9,
    "start_time": "2023-01-15T16:38:36.834Z"
   },
   {
    "duration": 59,
    "start_time": "2023-01-15T16:38:36.844Z"
   },
   {
    "duration": 163,
    "start_time": "2023-01-15T16:38:36.904Z"
   },
   {
    "duration": 8,
    "start_time": "2023-01-15T16:38:37.069Z"
   },
   {
    "duration": 50,
    "start_time": "2023-01-15T16:38:37.079Z"
   },
   {
    "duration": 115,
    "start_time": "2023-01-15T16:38:37.130Z"
   },
   {
    "duration": 6,
    "start_time": "2023-01-15T16:38:37.247Z"
   },
   {
    "duration": 131,
    "start_time": "2023-01-15T16:38:37.254Z"
   },
   {
    "duration": 96,
    "start_time": "2023-01-15T16:38:37.387Z"
   },
   {
    "duration": 13,
    "start_time": "2023-01-15T16:38:37.484Z"
   },
   {
    "duration": 142,
    "start_time": "2023-01-15T16:38:37.499Z"
   },
   {
    "duration": 117,
    "start_time": "2023-01-15T16:38:37.643Z"
   },
   {
    "duration": 7,
    "start_time": "2023-01-15T16:38:37.762Z"
   },
   {
    "duration": 165,
    "start_time": "2023-01-15T16:38:37.771Z"
   },
   {
    "duration": 160,
    "start_time": "2023-01-15T16:38:37.939Z"
   },
   {
    "duration": 6,
    "start_time": "2023-01-15T16:38:38.101Z"
   },
   {
    "duration": 144,
    "start_time": "2023-01-15T16:38:38.109Z"
   },
   {
    "duration": 14,
    "start_time": "2023-01-15T16:38:38.255Z"
   },
   {
    "duration": 9,
    "start_time": "2023-01-15T16:38:38.271Z"
   },
   {
    "duration": 27,
    "start_time": "2023-01-15T16:40:33.353Z"
   },
   {
    "duration": 27,
    "start_time": "2023-01-15T16:41:09.762Z"
   },
   {
    "duration": 4,
    "start_time": "2023-01-15T16:42:44.217Z"
   },
   {
    "duration": 3,
    "start_time": "2023-01-15T16:42:47.597Z"
   },
   {
    "duration": 58,
    "start_time": "2023-01-15T16:42:47.603Z"
   },
   {
    "duration": 12,
    "start_time": "2023-01-15T16:42:47.663Z"
   },
   {
    "duration": 38,
    "start_time": "2023-01-15T16:42:47.676Z"
   },
   {
    "duration": 3,
    "start_time": "2023-01-15T16:42:47.716Z"
   },
   {
    "duration": 5,
    "start_time": "2023-01-15T16:42:47.721Z"
   },
   {
    "duration": 6,
    "start_time": "2023-01-15T16:42:47.727Z"
   },
   {
    "duration": 12,
    "start_time": "2023-01-15T16:42:47.735Z"
   },
   {
    "duration": 4,
    "start_time": "2023-01-15T16:42:47.749Z"
   },
   {
    "duration": 9,
    "start_time": "2023-01-15T16:42:47.755Z"
   },
   {
    "duration": 6,
    "start_time": "2023-01-15T16:42:47.767Z"
   },
   {
    "duration": 10,
    "start_time": "2023-01-15T16:42:47.797Z"
   },
   {
    "duration": 40,
    "start_time": "2023-01-15T16:42:47.809Z"
   },
   {
    "duration": 7,
    "start_time": "2023-01-15T16:42:47.850Z"
   },
   {
    "duration": 72,
    "start_time": "2023-01-15T16:42:47.858Z"
   },
   {
    "duration": 148,
    "start_time": "2023-01-15T16:42:47.932Z"
   },
   {
    "duration": 16,
    "start_time": "2023-01-15T16:42:48.081Z"
   },
   {
    "duration": 36,
    "start_time": "2023-01-15T16:42:48.099Z"
   },
   {
    "duration": 117,
    "start_time": "2023-01-15T16:42:48.137Z"
   },
   {
    "duration": 6,
    "start_time": "2023-01-15T16:42:48.256Z"
   },
   {
    "duration": 137,
    "start_time": "2023-01-15T16:42:48.264Z"
   },
   {
    "duration": 94,
    "start_time": "2023-01-15T16:42:48.403Z"
   },
   {
    "duration": 6,
    "start_time": "2023-01-15T16:42:48.499Z"
   },
   {
    "duration": 146,
    "start_time": "2023-01-15T16:42:48.507Z"
   },
   {
    "duration": 115,
    "start_time": "2023-01-15T16:42:48.655Z"
   },
   {
    "duration": 6,
    "start_time": "2023-01-15T16:42:48.772Z"
   },
   {
    "duration": 136,
    "start_time": "2023-01-15T16:42:48.779Z"
   },
   {
    "duration": 128,
    "start_time": "2023-01-15T16:42:48.917Z"
   },
   {
    "duration": 6,
    "start_time": "2023-01-15T16:42:49.048Z"
   },
   {
    "duration": 235,
    "start_time": "2023-01-15T16:42:49.055Z"
   },
   {
    "duration": 15,
    "start_time": "2023-01-15T16:42:49.292Z"
   },
   {
    "duration": 8,
    "start_time": "2023-01-15T16:42:49.308Z"
   },
   {
    "duration": 20,
    "start_time": "2023-01-15T16:42:52.212Z"
   },
   {
    "duration": 43,
    "start_time": "2023-01-15T16:48:36.858Z"
   },
   {
    "duration": 39,
    "start_time": "2023-01-15T16:48:48.851Z"
   },
   {
    "duration": 37,
    "start_time": "2023-01-15T16:49:34.410Z"
   },
   {
    "duration": 49,
    "start_time": "2023-01-15T17:01:20.261Z"
   },
   {
    "duration": 1057,
    "start_time": "2023-01-15T17:02:33.569Z"
   },
   {
    "duration": 991,
    "start_time": "2023-01-15T17:02:48.678Z"
   },
   {
    "duration": 1004,
    "start_time": "2023-01-15T17:03:04.385Z"
   },
   {
    "duration": 977,
    "start_time": "2023-01-15T17:03:20.452Z"
   },
   {
    "duration": 1056,
    "start_time": "2023-01-15T17:03:32.598Z"
   },
   {
    "duration": 1011,
    "start_time": "2023-01-15T17:03:42.720Z"
   },
   {
    "duration": 972,
    "start_time": "2023-01-15T17:03:49.866Z"
   },
   {
    "duration": 983,
    "start_time": "2023-01-15T17:03:56.948Z"
   },
   {
    "duration": 952,
    "start_time": "2023-01-15T17:04:09.338Z"
   },
   {
    "duration": 1036,
    "start_time": "2023-01-15T17:04:20.214Z"
   },
   {
    "duration": 1125,
    "start_time": "2023-01-15T17:04:44.190Z"
   },
   {
    "duration": 988,
    "start_time": "2023-01-15T17:12:40.401Z"
   },
   {
    "duration": 167,
    "start_time": "2023-01-15T17:27:52.208Z"
   },
   {
    "duration": 574,
    "start_time": "2023-01-15T17:28:03.370Z"
   },
   {
    "duration": 108,
    "start_time": "2023-01-15T17:30:28.463Z"
   },
   {
    "duration": 44,
    "start_time": "2023-01-15T17:31:25.378Z"
   },
   {
    "duration": 182,
    "start_time": "2023-01-15T17:31:39.300Z"
   },
   {
    "duration": 653,
    "start_time": "2023-01-15T17:32:43.413Z"
   },
   {
    "duration": 621,
    "start_time": "2023-01-15T17:32:54.175Z"
   },
   {
    "duration": 689,
    "start_time": "2023-01-15T17:34:08.192Z"
   },
   {
    "duration": 19,
    "start_time": "2023-01-15T17:36:06.095Z"
   },
   {
    "duration": 611,
    "start_time": "2023-01-15T17:36:18.003Z"
   },
   {
    "duration": 609,
    "start_time": "2023-01-15T17:37:00.807Z"
   },
   {
    "duration": 3,
    "start_time": "2023-01-15T17:40:34.638Z"
   },
   {
    "duration": 4,
    "start_time": "2023-01-15T17:40:38.175Z"
   },
   {
    "duration": 44,
    "start_time": "2023-01-15T17:40:38.182Z"
   },
   {
    "duration": 19,
    "start_time": "2023-01-15T17:40:38.228Z"
   },
   {
    "duration": 17,
    "start_time": "2023-01-15T17:40:38.250Z"
   },
   {
    "duration": 4,
    "start_time": "2023-01-15T17:40:38.269Z"
   },
   {
    "duration": 23,
    "start_time": "2023-01-15T17:40:38.274Z"
   },
   {
    "duration": 7,
    "start_time": "2023-01-15T17:40:38.299Z"
   },
   {
    "duration": 13,
    "start_time": "2023-01-15T17:40:38.308Z"
   },
   {
    "duration": 6,
    "start_time": "2023-01-15T17:40:38.426Z"
   },
   {
    "duration": 12,
    "start_time": "2023-01-15T17:40:38.433Z"
   },
   {
    "duration": 11,
    "start_time": "2023-01-15T17:40:38.446Z"
   },
   {
    "duration": 9,
    "start_time": "2023-01-15T17:40:38.459Z"
   },
   {
    "duration": 60,
    "start_time": "2023-01-15T17:40:38.470Z"
   },
   {
    "duration": 6,
    "start_time": "2023-01-15T17:40:38.531Z"
   },
   {
    "duration": 35,
    "start_time": "2023-01-15T17:40:38.539Z"
   },
   {
    "duration": 157,
    "start_time": "2023-01-15T17:40:38.576Z"
   },
   {
    "duration": 8,
    "start_time": "2023-01-15T17:40:38.735Z"
   },
   {
    "duration": 55,
    "start_time": "2023-01-15T17:40:38.745Z"
   },
   {
    "duration": 121,
    "start_time": "2023-01-15T17:40:38.801Z"
   },
   {
    "duration": 7,
    "start_time": "2023-01-15T17:40:38.924Z"
   },
   {
    "duration": 133,
    "start_time": "2023-01-15T17:40:38.933Z"
   },
   {
    "duration": 101,
    "start_time": "2023-01-15T17:40:39.068Z"
   },
   {
    "duration": 5,
    "start_time": "2023-01-15T17:40:39.171Z"
   },
   {
    "duration": 143,
    "start_time": "2023-01-15T17:40:39.179Z"
   },
   {
    "duration": 109,
    "start_time": "2023-01-15T17:40:39.324Z"
   },
   {
    "duration": 6,
    "start_time": "2023-01-15T17:40:39.435Z"
   },
   {
    "duration": 139,
    "start_time": "2023-01-15T17:40:39.443Z"
   },
   {
    "duration": 129,
    "start_time": "2023-01-15T17:40:39.585Z"
   },
   {
    "duration": 6,
    "start_time": "2023-01-15T17:40:39.716Z"
   },
   {
    "duration": 156,
    "start_time": "2023-01-15T17:40:39.723Z"
   },
   {
    "duration": 23,
    "start_time": "2023-01-15T17:40:39.881Z"
   },
   {
    "duration": 16,
    "start_time": "2023-01-15T17:40:39.906Z"
   },
   {
    "duration": 52,
    "start_time": "2023-01-15T17:40:39.924Z"
   },
   {
    "duration": 677,
    "start_time": "2023-01-15T17:40:39.978Z"
   },
   {
    "duration": 1090,
    "start_time": "2023-01-15T17:40:40.657Z"
   },
   {
    "duration": 699,
    "start_time": "2023-01-15T17:40:41.749Z"
   },
   {
    "duration": 440,
    "start_time": "2023-01-15T17:41:36.530Z"
   },
   {
    "duration": 662,
    "start_time": "2023-01-15T17:42:11.852Z"
   },
   {
    "duration": 920,
    "start_time": "2023-01-15T17:43:36.062Z"
   },
   {
    "duration": 570,
    "start_time": "2023-01-15T17:43:52.985Z"
   },
   {
    "duration": 674,
    "start_time": "2023-01-15T17:45:23.376Z"
   },
   {
    "duration": 1028,
    "start_time": "2023-01-15T17:48:03.261Z"
   },
   {
    "duration": 6,
    "start_time": "2023-01-15T18:28:32.172Z"
   },
   {
    "duration": 6,
    "start_time": "2023-01-15T18:29:54.846Z"
   },
   {
    "duration": 846,
    "start_time": "2023-01-15T18:33:16.433Z"
   },
   {
    "duration": 586,
    "start_time": "2023-01-15T18:33:37.635Z"
   },
   {
    "duration": 677,
    "start_time": "2023-01-15T18:33:49.161Z"
   },
   {
    "duration": 5,
    "start_time": "2023-01-15T18:37:38.211Z"
   },
   {
    "duration": 868,
    "start_time": "2023-01-15T18:39:34.464Z"
   },
   {
    "duration": 293,
    "start_time": "2023-01-15T18:47:59.727Z"
   },
   {
    "duration": 283,
    "start_time": "2023-01-15T18:48:34.093Z"
   },
   {
    "duration": 1033,
    "start_time": "2023-01-15T18:49:50.781Z"
   },
   {
    "duration": 477,
    "start_time": "2023-01-15T18:50:13.584Z"
   },
   {
    "duration": 19,
    "start_time": "2023-01-15T18:51:54.482Z"
   },
   {
    "duration": 1193,
    "start_time": "2023-01-15T19:00:00.938Z"
   },
   {
    "duration": 12,
    "start_time": "2023-01-15T19:09:59.072Z"
   },
   {
    "duration": 12,
    "start_time": "2023-01-15T19:10:08.626Z"
   },
   {
    "duration": 41,
    "start_time": "2023-01-15T19:18:23.834Z"
   },
   {
    "duration": 43,
    "start_time": "2023-01-15T19:18:28.158Z"
   },
   {
    "duration": 151,
    "start_time": "2023-01-15T19:19:02.500Z"
   },
   {
    "duration": 148,
    "start_time": "2023-01-15T19:19:36.354Z"
   },
   {
    "duration": 228,
    "start_time": "2023-01-15T19:19:48.321Z"
   },
   {
    "duration": 11,
    "start_time": "2023-01-15T19:22:34.702Z"
   },
   {
    "duration": 7,
    "start_time": "2023-01-15T19:22:39.703Z"
   },
   {
    "duration": 11,
    "start_time": "2023-01-15T19:23:28.653Z"
   },
   {
    "duration": 7,
    "start_time": "2023-01-15T19:23:30.045Z"
   },
   {
    "duration": 14,
    "start_time": "2023-01-15T19:23:41.082Z"
   },
   {
    "duration": 18,
    "start_time": "2023-01-15T19:24:06.406Z"
   },
   {
    "duration": 12,
    "start_time": "2023-01-15T19:28:12.913Z"
   },
   {
    "duration": 14,
    "start_time": "2023-01-15T19:28:17.682Z"
   },
   {
    "duration": 16,
    "start_time": "2023-01-15T19:28:37.395Z"
   },
   {
    "duration": 55,
    "start_time": "2023-01-16T10:23:49.316Z"
   },
   {
    "duration": 1343,
    "start_time": "2023-01-16T10:23:52.533Z"
   },
   {
    "duration": 154,
    "start_time": "2023-01-16T10:23:53.878Z"
   },
   {
    "duration": 18,
    "start_time": "2023-01-16T10:23:54.034Z"
   },
   {
    "duration": 14,
    "start_time": "2023-01-16T10:23:54.054Z"
   },
   {
    "duration": 3,
    "start_time": "2023-01-16T10:23:54.070Z"
   },
   {
    "duration": 7,
    "start_time": "2023-01-16T10:23:54.075Z"
   },
   {
    "duration": 7,
    "start_time": "2023-01-16T10:23:54.084Z"
   },
   {
    "duration": 14,
    "start_time": "2023-01-16T10:23:54.113Z"
   },
   {
    "duration": 6,
    "start_time": "2023-01-16T10:23:54.128Z"
   },
   {
    "duration": 8,
    "start_time": "2023-01-16T10:23:54.137Z"
   },
   {
    "duration": 11,
    "start_time": "2023-01-16T10:23:54.146Z"
   },
   {
    "duration": 10,
    "start_time": "2023-01-16T10:23:54.158Z"
   },
   {
    "duration": 75,
    "start_time": "2023-01-16T10:23:54.171Z"
   },
   {
    "duration": 7,
    "start_time": "2023-01-16T10:23:54.248Z"
   },
   {
    "duration": 38,
    "start_time": "2023-01-16T10:23:54.257Z"
   },
   {
    "duration": 180,
    "start_time": "2023-01-16T10:23:54.297Z"
   },
   {
    "duration": 8,
    "start_time": "2023-01-16T10:23:54.478Z"
   },
   {
    "duration": 51,
    "start_time": "2023-01-16T10:23:54.488Z"
   },
   {
    "duration": 142,
    "start_time": "2023-01-16T10:23:54.541Z"
   },
   {
    "duration": 6,
    "start_time": "2023-01-16T10:23:54.684Z"
   },
   {
    "duration": 146,
    "start_time": "2023-01-16T10:23:54.692Z"
   },
   {
    "duration": 125,
    "start_time": "2023-01-16T10:23:54.840Z"
   },
   {
    "duration": 6,
    "start_time": "2023-01-16T10:23:54.967Z"
   },
   {
    "duration": 159,
    "start_time": "2023-01-16T10:23:54.975Z"
   },
   {
    "duration": 140,
    "start_time": "2023-01-16T10:23:55.136Z"
   },
   {
    "duration": 6,
    "start_time": "2023-01-16T10:23:55.278Z"
   },
   {
    "duration": 150,
    "start_time": "2023-01-16T10:23:55.285Z"
   },
   {
    "duration": 149,
    "start_time": "2023-01-16T10:23:55.438Z"
   },
   {
    "duration": 6,
    "start_time": "2023-01-16T10:23:55.589Z"
   },
   {
    "duration": 156,
    "start_time": "2023-01-16T10:23:55.596Z"
   },
   {
    "duration": 13,
    "start_time": "2023-01-16T10:23:55.754Z"
   },
   {
    "duration": 8,
    "start_time": "2023-01-16T10:23:55.769Z"
   },
   {
    "duration": 55,
    "start_time": "2023-01-16T10:23:55.779Z"
   },
   {
    "duration": 846,
    "start_time": "2023-01-16T10:23:55.835Z"
   },
   {
    "duration": 1204,
    "start_time": "2023-01-16T10:23:56.683Z"
   },
   {
    "duration": 514,
    "start_time": "2023-01-16T10:23:57.889Z"
   },
   {
    "duration": 10,
    "start_time": "2023-01-16T10:23:58.405Z"
   },
   {
    "duration": 1191,
    "start_time": "2023-01-16T10:23:58.417Z"
   },
   {
    "duration": 14,
    "start_time": "2023-01-16T10:23:59.610Z"
   },
   {
    "duration": 178,
    "start_time": "2023-01-16T10:23:59.625Z"
   },
   {
    "duration": 19,
    "start_time": "2023-01-16T10:23:59.805Z"
   },
   {
    "duration": 295,
    "start_time": "2023-01-16T10:23:59.826Z"
   },
   {
    "duration": 313,
    "start_time": "2023-01-16T10:24:18.855Z"
   },
   {
    "duration": 300,
    "start_time": "2023-01-16T10:24:51.878Z"
   },
   {
    "duration": 321,
    "start_time": "2023-01-16T10:25:01.185Z"
   },
   {
    "duration": 388,
    "start_time": "2023-01-16T10:25:08.002Z"
   },
   {
    "duration": 279,
    "start_time": "2023-01-16T10:25:23.236Z"
   },
   {
    "duration": 299,
    "start_time": "2023-01-16T10:25:40.919Z"
   },
   {
    "duration": 294,
    "start_time": "2023-01-16T10:25:46.655Z"
   },
   {
    "duration": 318,
    "start_time": "2023-01-16T10:26:08.264Z"
   },
   {
    "duration": 77,
    "start_time": "2023-01-16T10:28:04.646Z"
   },
   {
    "duration": 1021,
    "start_time": "2023-01-16T10:28:18.226Z"
   },
   {
    "duration": 352,
    "start_time": "2023-01-16T10:30:44.660Z"
   },
   {
    "duration": 279,
    "start_time": "2023-01-16T10:32:11.548Z"
   },
   {
    "duration": 398,
    "start_time": "2023-01-16T10:32:30.725Z"
   },
   {
    "duration": 307,
    "start_time": "2023-01-16T10:32:46.855Z"
   },
   {
    "duration": 306,
    "start_time": "2023-01-16T10:33:48.392Z"
   },
   {
    "duration": 330,
    "start_time": "2023-01-16T10:36:59.098Z"
   },
   {
    "duration": 354,
    "start_time": "2023-01-16T10:39:24.864Z"
   },
   {
    "duration": 350,
    "start_time": "2023-01-16T10:40:32.573Z"
   },
   {
    "duration": 329,
    "start_time": "2023-01-16T10:41:26.319Z"
   },
   {
    "duration": 311,
    "start_time": "2023-01-16T10:53:15.885Z"
   },
   {
    "duration": 65,
    "start_time": "2023-01-16T10:58:53.391Z"
   },
   {
    "duration": 1134,
    "start_time": "2023-01-16T10:59:22.189Z"
   },
   {
    "duration": 1248,
    "start_time": "2023-01-16T10:59:41.558Z"
   },
   {
    "duration": 65,
    "start_time": "2023-01-16T11:00:33.336Z"
   },
   {
    "duration": 28,
    "start_time": "2023-01-16T11:00:54.309Z"
   },
   {
    "duration": 332,
    "start_time": "2023-01-16T11:01:03.435Z"
   },
   {
    "duration": 361,
    "start_time": "2023-01-16T11:01:17.669Z"
   },
   {
    "duration": 331,
    "start_time": "2023-01-16T11:01:57.747Z"
   },
   {
    "duration": 409,
    "start_time": "2023-01-16T11:02:17.799Z"
   },
   {
    "duration": 328,
    "start_time": "2023-01-16T11:02:33.489Z"
   },
   {
    "duration": 344,
    "start_time": "2023-01-16T11:03:39.153Z"
   },
   {
    "duration": 1281,
    "start_time": "2023-01-16T11:05:56.708Z"
   },
   {
    "duration": 335,
    "start_time": "2023-01-16T11:06:10.523Z"
   },
   {
    "duration": 297,
    "start_time": "2023-01-16T11:14:33.189Z"
   },
   {
    "duration": 298,
    "start_time": "2023-01-16T11:15:16.814Z"
   },
   {
    "duration": 74,
    "start_time": "2023-01-16T11:36:17.395Z"
   },
   {
    "duration": 9,
    "start_time": "2023-01-16T11:42:57.703Z"
   },
   {
    "duration": 39,
    "start_time": "2023-01-16T11:45:07.236Z"
   },
   {
    "duration": 41,
    "start_time": "2023-01-16T11:46:02.265Z"
   },
   {
    "duration": 48,
    "start_time": "2023-01-16T11:47:16.900Z"
   },
   {
    "duration": 36,
    "start_time": "2023-01-16T11:47:26.110Z"
   },
   {
    "duration": 51,
    "start_time": "2023-01-16T11:47:35.022Z"
   },
   {
    "duration": 63,
    "start_time": "2023-01-16T11:48:18.285Z"
   },
   {
    "duration": 84,
    "start_time": "2023-01-16T11:48:23.525Z"
   },
   {
    "duration": 19,
    "start_time": "2023-01-16T11:48:42.313Z"
   },
   {
    "duration": 50,
    "start_time": "2023-01-16T11:48:51.424Z"
   },
   {
    "duration": 43,
    "start_time": "2023-01-16T11:49:06.379Z"
   },
   {
    "duration": 44,
    "start_time": "2023-01-16T11:49:21.569Z"
   },
   {
    "duration": 25,
    "start_time": "2023-01-16T11:50:16.481Z"
   },
   {
    "duration": 19,
    "start_time": "2023-01-16T11:50:26.023Z"
   },
   {
    "duration": 857,
    "start_time": "2023-01-16T11:51:24.907Z"
   },
   {
    "duration": 46,
    "start_time": "2023-01-16T11:51:41.550Z"
   },
   {
    "duration": 46,
    "start_time": "2023-01-16T11:52:30.675Z"
   },
   {
    "duration": 63,
    "start_time": "2023-01-16T11:53:35.266Z"
   },
   {
    "duration": 58,
    "start_time": "2023-01-16T11:54:09.413Z"
   },
   {
    "duration": 44,
    "start_time": "2023-01-16T11:55:13.394Z"
   },
   {
    "duration": 794,
    "start_time": "2023-01-16T11:55:28.244Z"
   },
   {
    "duration": 54,
    "start_time": "2023-01-16T11:55:52.101Z"
   },
   {
    "duration": 45,
    "start_time": "2023-01-16T11:56:02.502Z"
   },
   {
    "duration": 48,
    "start_time": "2023-01-16T11:56:12.822Z"
   },
   {
    "duration": 47,
    "start_time": "2023-01-16T11:57:01.890Z"
   },
   {
    "duration": 45,
    "start_time": "2023-01-16T11:57:13.823Z"
   },
   {
    "duration": 50,
    "start_time": "2023-01-16T11:57:32.759Z"
   },
   {
    "duration": 55,
    "start_time": "2023-01-16T11:58:04.847Z"
   },
   {
    "duration": 49,
    "start_time": "2023-01-16T11:59:38.404Z"
   },
   {
    "duration": 43,
    "start_time": "2023-01-16T11:59:52.602Z"
   },
   {
    "duration": 38,
    "start_time": "2023-01-16T12:00:24.072Z"
   },
   {
    "duration": 49,
    "start_time": "2023-01-16T12:01:01.093Z"
   },
   {
    "duration": 51,
    "start_time": "2023-01-16T12:01:07.699Z"
   },
   {
    "duration": 49,
    "start_time": "2023-01-16T12:01:52.016Z"
   },
   {
    "duration": 44,
    "start_time": "2023-01-16T12:02:24.901Z"
   },
   {
    "duration": 40,
    "start_time": "2023-01-16T12:02:35.157Z"
   },
   {
    "duration": 49,
    "start_time": "2023-01-16T12:02:52.590Z"
   },
   {
    "duration": 3,
    "start_time": "2023-01-16T12:04:09.671Z"
   },
   {
    "duration": 45,
    "start_time": "2023-01-16T12:04:09.676Z"
   },
   {
    "duration": 14,
    "start_time": "2023-01-16T12:04:09.723Z"
   },
   {
    "duration": 27,
    "start_time": "2023-01-16T12:04:09.739Z"
   },
   {
    "duration": 4,
    "start_time": "2023-01-16T12:04:09.769Z"
   },
   {
    "duration": 5,
    "start_time": "2023-01-16T12:04:09.775Z"
   },
   {
    "duration": 32,
    "start_time": "2023-01-16T12:04:09.782Z"
   },
   {
    "duration": 12,
    "start_time": "2023-01-16T12:04:09.816Z"
   },
   {
    "duration": 6,
    "start_time": "2023-01-16T12:04:09.830Z"
   },
   {
    "duration": 7,
    "start_time": "2023-01-16T12:04:09.839Z"
   },
   {
    "duration": 6,
    "start_time": "2023-01-16T12:04:09.850Z"
   },
   {
    "duration": 11,
    "start_time": "2023-01-16T12:04:09.858Z"
   },
   {
    "duration": 84,
    "start_time": "2023-01-16T12:04:09.871Z"
   },
   {
    "duration": 7,
    "start_time": "2023-01-16T12:04:09.958Z"
   },
   {
    "duration": 60,
    "start_time": "2023-01-16T12:04:09.967Z"
   },
   {
    "duration": 183,
    "start_time": "2023-01-16T12:04:10.030Z"
   },
   {
    "duration": 9,
    "start_time": "2023-01-16T12:04:10.216Z"
   },
   {
    "duration": 52,
    "start_time": "2023-01-16T12:04:10.227Z"
   },
   {
    "duration": 150,
    "start_time": "2023-01-16T12:04:10.281Z"
   },
   {
    "duration": 6,
    "start_time": "2023-01-16T12:04:10.433Z"
   },
   {
    "duration": 154,
    "start_time": "2023-01-16T12:04:10.440Z"
   },
   {
    "duration": 120,
    "start_time": "2023-01-16T12:04:10.595Z"
   },
   {
    "duration": 7,
    "start_time": "2023-01-16T12:04:10.716Z"
   },
   {
    "duration": 160,
    "start_time": "2023-01-16T12:04:10.724Z"
   },
   {
    "duration": 134,
    "start_time": "2023-01-16T12:04:10.886Z"
   },
   {
    "duration": 7,
    "start_time": "2023-01-16T12:04:11.021Z"
   },
   {
    "duration": 248,
    "start_time": "2023-01-16T12:04:11.029Z"
   },
   {
    "duration": 157,
    "start_time": "2023-01-16T12:04:11.279Z"
   },
   {
    "duration": 6,
    "start_time": "2023-01-16T12:04:11.439Z"
   },
   {
    "duration": 158,
    "start_time": "2023-01-16T12:04:11.447Z"
   },
   {
    "duration": 17,
    "start_time": "2023-01-16T12:04:11.607Z"
   },
   {
    "duration": 11,
    "start_time": "2023-01-16T12:04:11.626Z"
   },
   {
    "duration": 45,
    "start_time": "2023-01-16T12:04:11.639Z"
   },
   {
    "duration": 693,
    "start_time": "2023-01-16T12:04:11.685Z"
   },
   {
    "duration": 1287,
    "start_time": "2023-01-16T12:04:12.380Z"
   },
   {
    "duration": 398,
    "start_time": "2023-01-16T12:04:13.669Z"
   },
   {
    "duration": 6,
    "start_time": "2023-01-16T12:04:14.069Z"
   },
   {
    "duration": 1100,
    "start_time": "2023-01-16T12:04:14.076Z"
   },
   {
    "duration": 14,
    "start_time": "2023-01-16T12:04:15.177Z"
   },
   {
    "duration": 280,
    "start_time": "2023-01-16T12:04:15.193Z"
   },
   {
    "duration": 17,
    "start_time": "2023-01-16T12:04:15.475Z"
   },
   {
    "duration": 331,
    "start_time": "2023-01-16T12:04:15.494Z"
   },
   {
    "duration": 332,
    "start_time": "2023-01-16T12:04:15.827Z"
   },
   {
    "duration": 435,
    "start_time": "2023-01-16T12:04:16.162Z"
   },
   {
    "duration": 351,
    "start_time": "2023-01-16T12:04:16.600Z"
   },
   {
    "duration": 352,
    "start_time": "2023-01-16T12:04:16.953Z"
   },
   {
    "duration": 43,
    "start_time": "2023-01-16T12:04:17.306Z"
   },
   {
    "duration": 9,
    "start_time": "2023-01-16T12:04:17.351Z"
   },
   {
    "duration": 78,
    "start_time": "2023-01-16T12:04:17.362Z"
   },
   {
    "duration": 49,
    "start_time": "2023-01-16T12:04:26.624Z"
   },
   {
    "duration": 45,
    "start_time": "2023-01-16T12:05:48.744Z"
   },
   {
    "duration": 47,
    "start_time": "2023-01-16T12:55:23.184Z"
   },
   {
    "duration": 47,
    "start_time": "2023-01-16T12:55:58.972Z"
   },
   {
    "duration": 3,
    "start_time": "2023-01-16T12:56:09.553Z"
   },
   {
    "duration": 54,
    "start_time": "2023-01-16T12:56:09.558Z"
   },
   {
    "duration": 13,
    "start_time": "2023-01-16T12:56:09.614Z"
   },
   {
    "duration": 30,
    "start_time": "2023-01-16T12:56:09.629Z"
   },
   {
    "duration": 11,
    "start_time": "2023-01-16T12:56:09.660Z"
   },
   {
    "duration": 10,
    "start_time": "2023-01-16T12:56:09.672Z"
   },
   {
    "duration": 12,
    "start_time": "2023-01-16T12:56:09.683Z"
   },
   {
    "duration": 20,
    "start_time": "2023-01-16T12:56:09.696Z"
   },
   {
    "duration": 12,
    "start_time": "2023-01-16T12:56:09.717Z"
   },
   {
    "duration": 18,
    "start_time": "2023-01-16T12:56:09.730Z"
   },
   {
    "duration": 18,
    "start_time": "2023-01-16T12:56:09.750Z"
   },
   {
    "duration": 14,
    "start_time": "2023-01-16T12:56:09.769Z"
   },
   {
    "duration": 47,
    "start_time": "2023-01-16T12:56:09.785Z"
   },
   {
    "duration": 6,
    "start_time": "2023-01-16T12:56:09.834Z"
   },
   {
    "duration": 57,
    "start_time": "2023-01-16T12:56:09.841Z"
   },
   {
    "duration": 162,
    "start_time": "2023-01-16T12:56:09.899Z"
   },
   {
    "duration": 8,
    "start_time": "2023-01-16T12:56:10.063Z"
   },
   {
    "duration": 50,
    "start_time": "2023-01-16T12:56:10.073Z"
   },
   {
    "duration": 138,
    "start_time": "2023-01-16T12:56:10.125Z"
   },
   {
    "duration": 7,
    "start_time": "2023-01-16T12:56:10.265Z"
   },
   {
    "duration": 148,
    "start_time": "2023-01-16T12:56:10.273Z"
   },
   {
    "duration": 117,
    "start_time": "2023-01-16T12:56:10.422Z"
   },
   {
    "duration": 8,
    "start_time": "2023-01-16T12:56:10.541Z"
   },
   {
    "duration": 175,
    "start_time": "2023-01-16T12:56:10.551Z"
   },
   {
    "duration": 133,
    "start_time": "2023-01-16T12:56:10.728Z"
   },
   {
    "duration": 6,
    "start_time": "2023-01-16T12:56:10.864Z"
   },
   {
    "duration": 157,
    "start_time": "2023-01-16T12:56:10.872Z"
   },
   {
    "duration": 147,
    "start_time": "2023-01-16T12:56:11.031Z"
   },
   {
    "duration": 7,
    "start_time": "2023-01-16T12:56:11.182Z"
   },
   {
    "duration": 262,
    "start_time": "2023-01-16T12:56:11.191Z"
   },
   {
    "duration": 16,
    "start_time": "2023-01-16T12:56:11.455Z"
   },
   {
    "duration": 26,
    "start_time": "2023-01-16T12:56:11.472Z"
   },
   {
    "duration": 54,
    "start_time": "2023-01-16T12:56:11.500Z"
   },
   {
    "duration": 738,
    "start_time": "2023-01-16T12:56:11.555Z"
   },
   {
    "duration": 1364,
    "start_time": "2023-01-16T12:56:12.295Z"
   },
   {
    "duration": 474,
    "start_time": "2023-01-16T12:56:13.661Z"
   },
   {
    "duration": 6,
    "start_time": "2023-01-16T12:56:14.137Z"
   },
   {
    "duration": 1070,
    "start_time": "2023-01-16T12:56:14.144Z"
   },
   {
    "duration": 13,
    "start_time": "2023-01-16T12:56:15.216Z"
   },
   {
    "duration": 182,
    "start_time": "2023-01-16T12:56:15.231Z"
   },
   {
    "duration": 17,
    "start_time": "2023-01-16T12:56:15.415Z"
   },
   {
    "duration": 435,
    "start_time": "2023-01-16T12:56:15.435Z"
   },
   {
    "duration": 368,
    "start_time": "2023-01-16T12:56:15.872Z"
   },
   {
    "duration": 462,
    "start_time": "2023-01-16T12:56:16.243Z"
   },
   {
    "duration": 323,
    "start_time": "2023-01-16T12:56:16.712Z"
   },
   {
    "duration": 310,
    "start_time": "2023-01-16T12:56:17.037Z"
   },
   {
    "duration": 46,
    "start_time": "2023-01-16T12:56:17.350Z"
   },
   {
    "duration": 46,
    "start_time": "2023-01-16T12:56:32.671Z"
   },
   {
    "duration": 49,
    "start_time": "2023-01-16T12:57:17.213Z"
   },
   {
    "duration": 161,
    "start_time": "2023-01-16T13:08:43.157Z"
   },
   {
    "duration": 984,
    "start_time": "2023-01-16T13:08:50.711Z"
   },
   {
    "duration": 936,
    "start_time": "2023-01-16T13:10:54.659Z"
   },
   {
    "duration": 1053,
    "start_time": "2023-01-16T13:15:22.201Z"
   },
   {
    "duration": 32,
    "start_time": "2023-01-16T13:18:40.321Z"
   },
   {
    "duration": 1230,
    "start_time": "2023-01-16T13:18:53.307Z"
   },
   {
    "duration": 2293,
    "start_time": "2023-01-16T13:20:37.204Z"
   },
   {
    "duration": 347,
    "start_time": "2023-01-16T13:23:36.165Z"
   },
   {
    "duration": 491,
    "start_time": "2023-01-16T13:24:49.431Z"
   },
   {
    "duration": 54,
    "start_time": "2023-01-16T13:26:44.180Z"
   },
   {
    "duration": 12,
    "start_time": "2023-01-16T13:39:28.006Z"
   },
   {
    "duration": 13,
    "start_time": "2023-01-16T13:40:13.972Z"
   },
   {
    "duration": 52,
    "start_time": "2023-01-16T13:41:23.500Z"
   },
   {
    "duration": 52,
    "start_time": "2023-01-16T13:42:02.166Z"
   },
   {
    "duration": 50,
    "start_time": "2023-01-16T13:42:41.418Z"
   },
   {
    "duration": 1252,
    "start_time": "2023-01-16T14:45:36.016Z"
   },
   {
    "duration": 38,
    "start_time": "2023-01-16T14:45:37.270Z"
   },
   {
    "duration": 16,
    "start_time": "2023-01-16T14:45:37.310Z"
   },
   {
    "duration": 14,
    "start_time": "2023-01-16T14:45:37.328Z"
   },
   {
    "duration": 3,
    "start_time": "2023-01-16T14:45:37.344Z"
   },
   {
    "duration": 7,
    "start_time": "2023-01-16T14:45:37.349Z"
   },
   {
    "duration": 12,
    "start_time": "2023-01-16T14:45:37.357Z"
   },
   {
    "duration": 12,
    "start_time": "2023-01-16T14:45:37.371Z"
   },
   {
    "duration": 32,
    "start_time": "2023-01-16T14:45:37.384Z"
   },
   {
    "duration": 8,
    "start_time": "2023-01-16T14:45:37.420Z"
   },
   {
    "duration": 7,
    "start_time": "2023-01-16T14:45:37.430Z"
   },
   {
    "duration": 9,
    "start_time": "2023-01-16T14:45:37.439Z"
   },
   {
    "duration": 76,
    "start_time": "2023-01-16T14:45:37.449Z"
   },
   {
    "duration": 9,
    "start_time": "2023-01-16T14:45:37.527Z"
   },
   {
    "duration": 37,
    "start_time": "2023-01-16T14:45:37.538Z"
   },
   {
    "duration": 187,
    "start_time": "2023-01-16T14:45:37.576Z"
   },
   {
    "duration": 8,
    "start_time": "2023-01-16T14:45:37.765Z"
   },
   {
    "duration": 48,
    "start_time": "2023-01-16T14:45:37.775Z"
   },
   {
    "duration": 122,
    "start_time": "2023-01-16T14:45:37.824Z"
   },
   {
    "duration": 7,
    "start_time": "2023-01-16T14:45:37.948Z"
   },
   {
    "duration": 146,
    "start_time": "2023-01-16T14:45:37.956Z"
   },
   {
    "duration": 125,
    "start_time": "2023-01-16T14:45:38.104Z"
   },
   {
    "duration": 5,
    "start_time": "2023-01-16T14:45:38.231Z"
   },
   {
    "duration": 151,
    "start_time": "2023-01-16T14:45:38.239Z"
   },
   {
    "duration": 120,
    "start_time": "2023-01-16T14:45:38.392Z"
   },
   {
    "duration": 6,
    "start_time": "2023-01-16T14:45:38.514Z"
   },
   {
    "duration": 154,
    "start_time": "2023-01-16T14:45:38.522Z"
   },
   {
    "duration": 133,
    "start_time": "2023-01-16T14:45:38.679Z"
   },
   {
    "duration": 6,
    "start_time": "2023-01-16T14:45:38.813Z"
   },
   {
    "duration": 158,
    "start_time": "2023-01-16T14:45:38.821Z"
   },
   {
    "duration": 15,
    "start_time": "2023-01-16T14:45:38.981Z"
   },
   {
    "duration": 21,
    "start_time": "2023-01-16T14:45:38.998Z"
   },
   {
    "duration": 48,
    "start_time": "2023-01-16T14:45:39.021Z"
   },
   {
    "duration": 765,
    "start_time": "2023-01-16T14:45:39.071Z"
   },
   {
    "duration": 1149,
    "start_time": "2023-01-16T14:45:39.838Z"
   },
   {
    "duration": 502,
    "start_time": "2023-01-16T14:45:40.988Z"
   },
   {
    "duration": 6,
    "start_time": "2023-01-16T14:45:41.492Z"
   },
   {
    "duration": 1065,
    "start_time": "2023-01-16T14:45:41.499Z"
   },
   {
    "duration": 14,
    "start_time": "2023-01-16T14:45:42.566Z"
   },
   {
    "duration": 1002,
    "start_time": "2023-01-16T14:45:42.582Z"
   },
   {
    "duration": 27,
    "start_time": "2023-01-16T14:45:43.586Z"
   },
   {
    "duration": 2247,
    "start_time": "2023-01-16T14:45:43.615Z"
   },
   {
    "duration": 353,
    "start_time": "2023-01-16T14:45:45.863Z"
   },
   {
    "duration": 370,
    "start_time": "2023-01-16T14:45:46.217Z"
   },
   {
    "duration": 325,
    "start_time": "2023-01-16T14:45:46.590Z"
   },
   {
    "duration": 295,
    "start_time": "2023-01-16T14:45:46.917Z"
   },
   {
    "duration": 317,
    "start_time": "2023-01-16T14:45:47.214Z"
   },
   {
    "duration": 52,
    "start_time": "2023-01-16T14:45:47.533Z"
   },
   {
    "duration": 3,
    "start_time": "2023-01-16T14:58:13.911Z"
   },
   {
    "duration": 121,
    "start_time": "2023-01-16T15:00:17.470Z"
   },
   {
    "duration": 31,
    "start_time": "2023-01-16T15:00:46.384Z"
   },
   {
    "duration": 3,
    "start_time": "2023-01-16T15:01:11.463Z"
   },
   {
    "duration": 62,
    "start_time": "2023-01-16T15:01:11.468Z"
   },
   {
    "duration": 13,
    "start_time": "2023-01-16T15:01:11.533Z"
   },
   {
    "duration": 35,
    "start_time": "2023-01-16T15:01:11.548Z"
   },
   {
    "duration": 25,
    "start_time": "2023-01-16T15:01:11.585Z"
   },
   {
    "duration": 40,
    "start_time": "2023-01-16T15:01:11.612Z"
   },
   {
    "duration": 49,
    "start_time": "2023-01-16T15:01:11.654Z"
   },
   {
    "duration": 47,
    "start_time": "2023-01-16T15:01:11.704Z"
   },
   {
    "duration": 12,
    "start_time": "2023-01-16T15:01:11.753Z"
   },
   {
    "duration": 15,
    "start_time": "2023-01-16T15:01:11.767Z"
   },
   {
    "duration": 28,
    "start_time": "2023-01-16T15:01:11.785Z"
   },
   {
    "duration": 40,
    "start_time": "2023-01-16T15:01:11.815Z"
   },
   {
    "duration": 51,
    "start_time": "2023-01-16T15:01:11.857Z"
   },
   {
    "duration": 6,
    "start_time": "2023-01-16T15:01:11.910Z"
   },
   {
    "duration": 57,
    "start_time": "2023-01-16T15:01:11.918Z"
   },
   {
    "duration": 150,
    "start_time": "2023-01-16T15:01:11.977Z"
   },
   {
    "duration": 9,
    "start_time": "2023-01-16T15:01:12.130Z"
   },
   {
    "duration": 56,
    "start_time": "2023-01-16T15:01:12.141Z"
   },
   {
    "duration": 164,
    "start_time": "2023-01-16T15:01:12.200Z"
   },
   {
    "duration": 7,
    "start_time": "2023-01-16T15:01:12.366Z"
   },
   {
    "duration": 142,
    "start_time": "2023-01-16T15:01:12.375Z"
   },
   {
    "duration": 112,
    "start_time": "2023-01-16T15:01:12.519Z"
   },
   {
    "duration": 6,
    "start_time": "2023-01-16T15:01:12.632Z"
   },
   {
    "duration": 155,
    "start_time": "2023-01-16T15:01:12.640Z"
   },
   {
    "duration": 123,
    "start_time": "2023-01-16T15:01:12.797Z"
   },
   {
    "duration": 8,
    "start_time": "2023-01-16T15:01:12.922Z"
   },
   {
    "duration": 174,
    "start_time": "2023-01-16T15:01:12.932Z"
   },
   {
    "duration": 147,
    "start_time": "2023-01-16T15:01:13.109Z"
   },
   {
    "duration": 9,
    "start_time": "2023-01-16T15:01:13.261Z"
   },
   {
    "duration": 321,
    "start_time": "2023-01-16T15:01:13.272Z"
   },
   {
    "duration": 20,
    "start_time": "2023-01-16T15:01:13.596Z"
   },
   {
    "duration": 26,
    "start_time": "2023-01-16T15:01:13.617Z"
   },
   {
    "duration": 69,
    "start_time": "2023-01-16T15:01:13.645Z"
   },
   {
    "duration": 710,
    "start_time": "2023-01-16T15:01:13.716Z"
   },
   {
    "duration": 1464,
    "start_time": "2023-01-16T15:01:14.429Z"
   },
   {
    "duration": 428,
    "start_time": "2023-01-16T15:01:15.895Z"
   },
   {
    "duration": 6,
    "start_time": "2023-01-16T15:01:16.325Z"
   },
   {
    "duration": 1110,
    "start_time": "2023-01-16T15:01:16.333Z"
   },
   {
    "duration": 15,
    "start_time": "2023-01-16T15:01:17.445Z"
   },
   {
    "duration": 1144,
    "start_time": "2023-01-16T15:01:17.463Z"
   },
   {
    "duration": 20,
    "start_time": "2023-01-16T15:01:18.609Z"
   },
   {
    "duration": 2407,
    "start_time": "2023-01-16T15:01:18.631Z"
   },
   {
    "duration": 318,
    "start_time": "2023-01-16T15:01:21.040Z"
   },
   {
    "duration": 384,
    "start_time": "2023-01-16T15:01:21.360Z"
   },
   {
    "duration": 323,
    "start_time": "2023-01-16T15:01:21.746Z"
   },
   {
    "duration": 341,
    "start_time": "2023-01-16T15:01:22.071Z"
   },
   {
    "duration": 332,
    "start_time": "2023-01-16T15:01:22.414Z"
   },
   {
    "duration": 190,
    "start_time": "2023-01-16T15:01:22.750Z"
   },
   {
    "duration": 30,
    "start_time": "2023-01-16T15:01:22.941Z"
   },
   {
    "duration": 24,
    "start_time": "2023-01-16T15:02:07.313Z"
   },
   {
    "duration": 1233,
    "start_time": "2023-01-16T15:02:36.144Z"
   },
   {
    "duration": 40,
    "start_time": "2023-01-16T15:02:37.379Z"
   },
   {
    "duration": 18,
    "start_time": "2023-01-16T15:02:37.421Z"
   },
   {
    "duration": 14,
    "start_time": "2023-01-16T15:02:37.440Z"
   },
   {
    "duration": 4,
    "start_time": "2023-01-16T15:02:37.457Z"
   },
   {
    "duration": 13,
    "start_time": "2023-01-16T15:02:37.462Z"
   },
   {
    "duration": 7,
    "start_time": "2023-01-16T15:02:37.477Z"
   },
   {
    "duration": 34,
    "start_time": "2023-01-16T15:02:37.486Z"
   },
   {
    "duration": 6,
    "start_time": "2023-01-16T15:02:37.522Z"
   },
   {
    "duration": 11,
    "start_time": "2023-01-16T15:02:37.529Z"
   },
   {
    "duration": 18,
    "start_time": "2023-01-16T15:02:37.541Z"
   },
   {
    "duration": 11,
    "start_time": "2023-01-16T15:02:37.561Z"
   },
   {
    "duration": 62,
    "start_time": "2023-01-16T15:02:37.573Z"
   },
   {
    "duration": 10,
    "start_time": "2023-01-16T15:02:37.638Z"
   },
   {
    "duration": 39,
    "start_time": "2023-01-16T15:02:37.649Z"
   },
   {
    "duration": 182,
    "start_time": "2023-01-16T15:02:37.690Z"
   },
   {
    "duration": 8,
    "start_time": "2023-01-16T15:02:37.874Z"
   },
   {
    "duration": 54,
    "start_time": "2023-01-16T15:02:37.884Z"
   },
   {
    "duration": 122,
    "start_time": "2023-01-16T15:02:37.941Z"
   },
   {
    "duration": 8,
    "start_time": "2023-01-16T15:02:38.064Z"
   },
   {
    "duration": 150,
    "start_time": "2023-01-16T15:02:38.074Z"
   },
   {
    "duration": 104,
    "start_time": "2023-01-16T15:02:38.226Z"
   },
   {
    "duration": 6,
    "start_time": "2023-01-16T15:02:38.332Z"
   },
   {
    "duration": 160,
    "start_time": "2023-01-16T15:02:38.340Z"
   },
   {
    "duration": 118,
    "start_time": "2023-01-16T15:02:38.502Z"
   },
   {
    "duration": 7,
    "start_time": "2023-01-16T15:02:38.622Z"
   },
   {
    "duration": 153,
    "start_time": "2023-01-16T15:02:38.631Z"
   },
   {
    "duration": 137,
    "start_time": "2023-01-16T15:02:38.785Z"
   },
   {
    "duration": 6,
    "start_time": "2023-01-16T15:02:38.924Z"
   },
   {
    "duration": 158,
    "start_time": "2023-01-16T15:02:38.932Z"
   },
   {
    "duration": 22,
    "start_time": "2023-01-16T15:02:39.091Z"
   },
   {
    "duration": 13,
    "start_time": "2023-01-16T15:02:39.115Z"
   },
   {
    "duration": 48,
    "start_time": "2023-01-16T15:02:39.129Z"
   },
   {
    "duration": 802,
    "start_time": "2023-01-16T15:02:39.179Z"
   },
   {
    "duration": 1249,
    "start_time": "2023-01-16T15:02:39.983Z"
   },
   {
    "duration": 531,
    "start_time": "2023-01-16T15:02:41.233Z"
   },
   {
    "duration": 7,
    "start_time": "2023-01-16T15:02:41.766Z"
   },
   {
    "duration": 1190,
    "start_time": "2023-01-16T15:02:41.774Z"
   },
   {
    "duration": 17,
    "start_time": "2023-01-16T15:02:42.967Z"
   },
   {
    "duration": 1117,
    "start_time": "2023-01-16T15:02:42.987Z"
   },
   {
    "duration": 17,
    "start_time": "2023-01-16T15:02:44.111Z"
   },
   {
    "duration": 2425,
    "start_time": "2023-01-16T15:02:44.130Z"
   },
   {
    "duration": 382,
    "start_time": "2023-01-16T15:02:46.557Z"
   },
   {
    "duration": 407,
    "start_time": "2023-01-16T15:02:46.942Z"
   },
   {
    "duration": 307,
    "start_time": "2023-01-16T15:02:47.350Z"
   },
   {
    "duration": 335,
    "start_time": "2023-01-16T15:02:47.659Z"
   },
   {
    "duration": 337,
    "start_time": "2023-01-16T15:02:47.996Z"
   },
   {
    "duration": 53,
    "start_time": "2023-01-16T15:02:48.335Z"
   },
   {
    "duration": 148,
    "start_time": "2023-01-16T15:02:48.390Z"
   },
   {
    "duration": 0,
    "start_time": "2023-01-16T15:02:48.540Z"
   },
   {
    "duration": 8,
    "start_time": "2023-01-16T15:03:25.069Z"
   },
   {
    "duration": 22,
    "start_time": "2023-01-16T15:03:31.596Z"
   },
   {
    "duration": 9,
    "start_time": "2023-01-16T15:03:55.248Z"
   },
   {
    "duration": 273,
    "start_time": "2023-01-16T15:08:52.477Z"
   },
   {
    "duration": 579,
    "start_time": "2023-01-16T15:09:32.278Z"
   },
   {
    "duration": 1067,
    "start_time": "2023-01-16T15:10:18.040Z"
   },
   {
    "duration": 2300,
    "start_time": "2023-01-16T15:10:56.539Z"
   },
   {
    "duration": 1373,
    "start_time": "2023-01-16T15:11:15.443Z"
   },
   {
    "duration": 1421,
    "start_time": "2023-01-16T15:11:28.013Z"
   },
   {
    "duration": 6,
    "start_time": "2023-01-16T15:13:29.682Z"
   },
   {
    "duration": 6,
    "start_time": "2023-01-16T15:14:30.718Z"
   },
   {
    "duration": 7,
    "start_time": "2023-01-16T15:15:35.367Z"
   },
   {
    "duration": 12,
    "start_time": "2023-01-16T15:22:05.615Z"
   },
   {
    "duration": 6,
    "start_time": "2023-01-16T15:24:48.434Z"
   },
   {
    "duration": 12,
    "start_time": "2023-01-16T15:25:02.437Z"
   },
   {
    "duration": 3,
    "start_time": "2023-01-16T15:26:38.897Z"
   },
   {
    "duration": 583,
    "start_time": "2023-01-16T15:28:47.187Z"
   },
   {
    "duration": 547,
    "start_time": "2023-01-16T15:29:20.077Z"
   },
   {
    "duration": 6,
    "start_time": "2023-01-16T15:32:10.831Z"
   },
   {
    "duration": 11,
    "start_time": "2023-01-16T15:35:16.413Z"
   },
   {
    "duration": 39,
    "start_time": "2023-01-16T15:37:38.201Z"
   },
   {
    "duration": 536,
    "start_time": "2023-01-16T15:39:55.159Z"
   },
   {
    "duration": 6,
    "start_time": "2023-01-16T15:41:08.617Z"
   },
   {
    "duration": 6,
    "start_time": "2023-01-16T15:43:17.279Z"
   },
   {
    "duration": 4,
    "start_time": "2023-01-16T15:54:38.473Z"
   },
   {
    "duration": 52,
    "start_time": "2023-01-16T15:55:46.293Z"
   },
   {
    "duration": 5,
    "start_time": "2023-01-16T15:58:30.412Z"
   },
   {
    "duration": 24,
    "start_time": "2023-01-16T15:58:37.576Z"
   },
   {
    "duration": 16,
    "start_time": "2023-01-16T15:58:45.329Z"
   },
   {
    "duration": 47,
    "start_time": "2023-01-16T18:38:13.191Z"
   },
   {
    "duration": 1360,
    "start_time": "2023-01-16T18:38:17.564Z"
   },
   {
    "duration": 155,
    "start_time": "2023-01-16T18:38:18.926Z"
   },
   {
    "duration": 22,
    "start_time": "2023-01-16T18:38:19.083Z"
   },
   {
    "duration": 15,
    "start_time": "2023-01-16T18:38:19.107Z"
   },
   {
    "duration": 3,
    "start_time": "2023-01-16T18:38:19.124Z"
   },
   {
    "duration": 13,
    "start_time": "2023-01-16T18:38:19.129Z"
   },
   {
    "duration": 7,
    "start_time": "2023-01-16T18:38:19.144Z"
   },
   {
    "duration": 34,
    "start_time": "2023-01-16T18:38:19.153Z"
   },
   {
    "duration": 7,
    "start_time": "2023-01-16T18:38:19.189Z"
   },
   {
    "duration": 10,
    "start_time": "2023-01-16T18:38:19.198Z"
   },
   {
    "duration": 9,
    "start_time": "2023-01-16T18:38:19.210Z"
   },
   {
    "duration": 15,
    "start_time": "2023-01-16T18:38:19.221Z"
   },
   {
    "duration": 66,
    "start_time": "2023-01-16T18:38:19.238Z"
   },
   {
    "duration": 7,
    "start_time": "2023-01-16T18:38:19.306Z"
   },
   {
    "duration": 45,
    "start_time": "2023-01-16T18:38:19.315Z"
   },
   {
    "duration": 161,
    "start_time": "2023-01-16T18:38:19.362Z"
   },
   {
    "duration": 8,
    "start_time": "2023-01-16T18:38:19.524Z"
   },
   {
    "duration": 55,
    "start_time": "2023-01-16T18:38:19.534Z"
   },
   {
    "duration": 117,
    "start_time": "2023-01-16T18:38:19.591Z"
   },
   {
    "duration": 6,
    "start_time": "2023-01-16T18:38:19.710Z"
   },
   {
    "duration": 137,
    "start_time": "2023-01-16T18:38:19.717Z"
   },
   {
    "duration": 104,
    "start_time": "2023-01-16T18:38:19.856Z"
   },
   {
    "duration": 6,
    "start_time": "2023-01-16T18:38:19.961Z"
   },
   {
    "duration": 146,
    "start_time": "2023-01-16T18:38:19.978Z"
   },
   {
    "duration": 120,
    "start_time": "2023-01-16T18:38:20.126Z"
   },
   {
    "duration": 7,
    "start_time": "2023-01-16T18:38:20.248Z"
   },
   {
    "duration": 147,
    "start_time": "2023-01-16T18:38:20.256Z"
   },
   {
    "duration": 138,
    "start_time": "2023-01-16T18:38:20.406Z"
   },
   {
    "duration": 6,
    "start_time": "2023-01-16T18:38:20.545Z"
   },
   {
    "duration": 154,
    "start_time": "2023-01-16T18:38:20.553Z"
   },
   {
    "duration": 25,
    "start_time": "2023-01-16T18:38:20.709Z"
   },
   {
    "duration": 25,
    "start_time": "2023-01-16T18:38:20.736Z"
   },
   {
    "duration": 51,
    "start_time": "2023-01-16T18:38:20.763Z"
   },
   {
    "duration": 871,
    "start_time": "2023-01-16T18:38:20.817Z"
   },
   {
    "duration": 1249,
    "start_time": "2023-01-16T18:38:21.690Z"
   },
   {
    "duration": 523,
    "start_time": "2023-01-16T18:38:22.940Z"
   },
   {
    "duration": 13,
    "start_time": "2023-01-16T18:38:23.465Z"
   },
   {
    "duration": 1080,
    "start_time": "2023-01-16T18:38:23.480Z"
   },
   {
    "duration": 14,
    "start_time": "2023-01-16T18:38:24.562Z"
   },
   {
    "duration": 988,
    "start_time": "2023-01-16T18:38:24.578Z"
   },
   {
    "duration": 23,
    "start_time": "2023-01-16T18:38:25.568Z"
   },
   {
    "duration": 2321,
    "start_time": "2023-01-16T18:38:25.593Z"
   },
   {
    "duration": 307,
    "start_time": "2023-01-16T18:38:27.916Z"
   },
   {
    "duration": 393,
    "start_time": "2023-01-16T18:38:28.225Z"
   },
   {
    "duration": 345,
    "start_time": "2023-01-16T18:38:28.620Z"
   },
   {
    "duration": 291,
    "start_time": "2023-01-16T18:38:28.977Z"
   },
   {
    "duration": 334,
    "start_time": "2023-01-16T18:38:29.277Z"
   },
   {
    "duration": 48,
    "start_time": "2023-01-16T18:38:29.613Z"
   },
   {
    "duration": 20,
    "start_time": "2023-01-16T18:38:29.662Z"
   },
   {
    "duration": 599,
    "start_time": "2023-01-16T18:38:29.684Z"
   },
   {
    "duration": 7,
    "start_time": "2023-01-16T18:38:30.284Z"
   },
   {
    "duration": 44,
    "start_time": "2023-01-16T18:38:30.292Z"
   },
   {
    "duration": 676,
    "start_time": "2023-01-16T18:38:30.339Z"
   },
   {
    "duration": 6,
    "start_time": "2023-01-16T18:38:31.017Z"
   },
   {
    "duration": 26,
    "start_time": "2023-01-16T18:38:31.025Z"
   },
   {
    "duration": 5,
    "start_time": "2023-01-16T18:38:31.053Z"
   },
   {
    "duration": 10,
    "start_time": "2023-01-16T18:40:03.032Z"
   },
   {
    "duration": 517,
    "start_time": "2023-01-16T18:40:34.453Z"
   },
   {
    "duration": 505,
    "start_time": "2023-01-16T18:40:56.538Z"
   },
   {
    "duration": 6,
    "start_time": "2023-01-16T18:41:57.575Z"
   },
   {
    "duration": 6,
    "start_time": "2023-01-16T18:44:15.299Z"
   },
   {
    "duration": 9,
    "start_time": "2023-01-16T18:44:38.393Z"
   },
   {
    "duration": 10,
    "start_time": "2023-01-16T18:54:38.137Z"
   },
   {
    "duration": 2,
    "start_time": "2023-01-16T19:15:04.419Z"
   },
   {
    "duration": 4,
    "start_time": "2023-01-16T19:59:34.928Z"
   },
   {
    "duration": 11,
    "start_time": "2023-01-16T20:04:26.242Z"
   },
   {
    "duration": 33,
    "start_time": "2023-01-16T20:07:22.588Z"
   },
   {
    "duration": 9,
    "start_time": "2023-01-16T20:07:44.168Z"
   },
   {
    "duration": 7,
    "start_time": "2023-01-16T20:07:59.038Z"
   },
   {
    "duration": 9,
    "start_time": "2023-01-16T20:08:06.717Z"
   },
   {
    "duration": 7,
    "start_time": "2023-01-16T20:12:10.079Z"
   },
   {
    "duration": 9,
    "start_time": "2023-01-16T20:12:14.590Z"
   },
   {
    "duration": 7,
    "start_time": "2023-01-16T20:12:19.312Z"
   },
   {
    "duration": 7,
    "start_time": "2023-01-16T20:12:25.105Z"
   },
   {
    "duration": 7,
    "start_time": "2023-01-16T20:12:30.212Z"
   },
   {
    "duration": 7,
    "start_time": "2023-01-16T20:12:35.392Z"
   },
   {
    "duration": 8,
    "start_time": "2023-01-16T20:13:13.883Z"
   },
   {
    "duration": 1254,
    "start_time": "2023-01-16T20:19:45.018Z"
   },
   {
    "duration": 42,
    "start_time": "2023-01-16T20:19:46.274Z"
   },
   {
    "duration": 16,
    "start_time": "2023-01-16T20:19:46.318Z"
   },
   {
    "duration": 12,
    "start_time": "2023-01-16T20:19:46.336Z"
   },
   {
    "duration": 3,
    "start_time": "2023-01-16T20:19:46.350Z"
   },
   {
    "duration": 6,
    "start_time": "2023-01-16T20:19:46.354Z"
   },
   {
    "duration": 7,
    "start_time": "2023-01-16T20:19:46.361Z"
   },
   {
    "duration": 13,
    "start_time": "2023-01-16T20:19:46.370Z"
   },
   {
    "duration": 5,
    "start_time": "2023-01-16T20:19:46.384Z"
   },
   {
    "duration": 7,
    "start_time": "2023-01-16T20:19:46.391Z"
   },
   {
    "duration": 5,
    "start_time": "2023-01-16T20:19:46.400Z"
   },
   {
    "duration": 8,
    "start_time": "2023-01-16T20:19:46.407Z"
   },
   {
    "duration": 73,
    "start_time": "2023-01-16T20:19:46.417Z"
   },
   {
    "duration": 7,
    "start_time": "2023-01-16T20:19:46.491Z"
   },
   {
    "duration": 48,
    "start_time": "2023-01-16T20:19:46.500Z"
   },
   {
    "duration": 176,
    "start_time": "2023-01-16T20:19:46.550Z"
   },
   {
    "duration": 8,
    "start_time": "2023-01-16T20:19:46.727Z"
   },
   {
    "duration": 60,
    "start_time": "2023-01-16T20:19:46.736Z"
   },
   {
    "duration": 114,
    "start_time": "2023-01-16T20:19:46.797Z"
   },
   {
    "duration": 7,
    "start_time": "2023-01-16T20:19:46.913Z"
   },
   {
    "duration": 143,
    "start_time": "2023-01-16T20:19:46.922Z"
   },
   {
    "duration": 112,
    "start_time": "2023-01-16T20:19:47.067Z"
   },
   {
    "duration": 7,
    "start_time": "2023-01-16T20:19:47.181Z"
   },
   {
    "duration": 153,
    "start_time": "2023-01-16T20:19:47.189Z"
   },
   {
    "duration": 119,
    "start_time": "2023-01-16T20:19:47.344Z"
   },
   {
    "duration": 12,
    "start_time": "2023-01-16T20:19:47.465Z"
   },
   {
    "duration": 156,
    "start_time": "2023-01-16T20:19:47.479Z"
   },
   {
    "duration": 147,
    "start_time": "2023-01-16T20:19:47.638Z"
   },
   {
    "duration": 6,
    "start_time": "2023-01-16T20:19:47.787Z"
   },
   {
    "duration": 186,
    "start_time": "2023-01-16T20:19:47.794Z"
   },
   {
    "duration": 15,
    "start_time": "2023-01-16T20:19:47.981Z"
   },
   {
    "duration": 17,
    "start_time": "2023-01-16T20:19:47.998Z"
   },
   {
    "duration": 97,
    "start_time": "2023-01-16T20:19:48.017Z"
   },
   {
    "duration": 864,
    "start_time": "2023-01-16T20:19:48.116Z"
   },
   {
    "duration": 1229,
    "start_time": "2023-01-16T20:19:48.982Z"
   },
   {
    "duration": 507,
    "start_time": "2023-01-16T20:19:50.213Z"
   },
   {
    "duration": 5,
    "start_time": "2023-01-16T20:19:50.722Z"
   },
   {
    "duration": 1080,
    "start_time": "2023-01-16T20:19:50.729Z"
   },
   {
    "duration": 14,
    "start_time": "2023-01-16T20:19:51.811Z"
   },
   {
    "duration": 1048,
    "start_time": "2023-01-16T20:19:51.829Z"
   },
   {
    "duration": 17,
    "start_time": "2023-01-16T20:19:52.880Z"
   },
   {
    "duration": 2382,
    "start_time": "2023-01-16T20:19:52.899Z"
   },
   {
    "duration": 7,
    "start_time": "2023-01-16T20:19:55.282Z"
   },
   {
    "duration": 21,
    "start_time": "2023-01-16T20:19:55.291Z"
   },
   {
    "duration": 364,
    "start_time": "2023-01-16T20:19:55.313Z"
   },
   {
    "duration": 347,
    "start_time": "2023-01-16T20:19:55.679Z"
   },
   {
    "duration": 343,
    "start_time": "2023-01-16T20:19:56.028Z"
   },
   {
    "duration": 294,
    "start_time": "2023-01-16T20:19:56.373Z"
   },
   {
    "duration": 327,
    "start_time": "2023-01-16T20:19:56.669Z"
   },
   {
    "duration": 51,
    "start_time": "2023-01-16T20:19:56.998Z"
   },
   {
    "duration": 15,
    "start_time": "2023-01-16T20:19:57.051Z"
   },
   {
    "duration": 606,
    "start_time": "2023-01-16T20:19:57.077Z"
   },
   {
    "duration": 6,
    "start_time": "2023-01-16T20:19:57.685Z"
   },
   {
    "duration": 28,
    "start_time": "2023-01-16T20:19:57.693Z"
   },
   {
    "duration": 722,
    "start_time": "2023-01-16T20:19:57.723Z"
   },
   {
    "duration": 6,
    "start_time": "2023-01-16T20:19:58.447Z"
   },
   {
    "duration": 25,
    "start_time": "2023-01-16T20:19:58.454Z"
   },
   {
    "duration": 27,
    "start_time": "2023-01-16T20:19:58.481Z"
   },
   {
    "duration": 15,
    "start_time": "2023-01-16T20:19:58.510Z"
   },
   {
    "duration": 505,
    "start_time": "2023-01-16T20:19:58.527Z"
   },
   {
    "duration": 6,
    "start_time": "2023-01-16T20:19:59.033Z"
   },
   {
    "duration": 7,
    "start_time": "2023-01-16T20:19:59.041Z"
   },
   {
    "duration": 14,
    "start_time": "2023-01-16T20:50:02.459Z"
   },
   {
    "duration": 1257,
    "start_time": "2023-01-16T21:01:22.547Z"
   },
   {
    "duration": 41,
    "start_time": "2023-01-16T21:01:23.806Z"
   },
   {
    "duration": 18,
    "start_time": "2023-01-16T21:01:23.849Z"
   },
   {
    "duration": 12,
    "start_time": "2023-01-16T21:01:23.870Z"
   },
   {
    "duration": 5,
    "start_time": "2023-01-16T21:01:23.884Z"
   },
   {
    "duration": 16,
    "start_time": "2023-01-16T21:01:23.890Z"
   },
   {
    "duration": 7,
    "start_time": "2023-01-16T21:01:23.908Z"
   },
   {
    "duration": 23,
    "start_time": "2023-01-16T21:01:23.917Z"
   },
   {
    "duration": 24,
    "start_time": "2023-01-16T21:01:23.942Z"
   },
   {
    "duration": 18,
    "start_time": "2023-01-16T21:01:23.969Z"
   },
   {
    "duration": 15,
    "start_time": "2023-01-16T21:01:23.988Z"
   },
   {
    "duration": 13,
    "start_time": "2023-01-16T21:01:24.005Z"
   },
   {
    "duration": 40,
    "start_time": "2023-01-16T21:01:24.020Z"
   },
   {
    "duration": 8,
    "start_time": "2023-01-16T21:01:24.062Z"
   },
   {
    "duration": 36,
    "start_time": "2023-01-16T21:01:24.071Z"
   },
   {
    "duration": 181,
    "start_time": "2023-01-16T21:01:24.108Z"
   },
   {
    "duration": 8,
    "start_time": "2023-01-16T21:01:24.291Z"
   },
   {
    "duration": 54,
    "start_time": "2023-01-16T21:01:24.301Z"
   },
   {
    "duration": 129,
    "start_time": "2023-01-16T21:01:24.356Z"
   },
   {
    "duration": 6,
    "start_time": "2023-01-16T21:01:24.487Z"
   },
   {
    "duration": 147,
    "start_time": "2023-01-16T21:01:24.495Z"
   },
   {
    "duration": 105,
    "start_time": "2023-01-16T21:01:24.644Z"
   },
   {
    "duration": 7,
    "start_time": "2023-01-16T21:01:24.751Z"
   },
   {
    "duration": 146,
    "start_time": "2023-01-16T21:01:24.760Z"
   },
   {
    "duration": 120,
    "start_time": "2023-01-16T21:01:24.908Z"
   },
   {
    "duration": 9,
    "start_time": "2023-01-16T21:01:25.030Z"
   },
   {
    "duration": 149,
    "start_time": "2023-01-16T21:01:25.041Z"
   },
   {
    "duration": 142,
    "start_time": "2023-01-16T21:01:25.194Z"
   },
   {
    "duration": 10,
    "start_time": "2023-01-16T21:01:25.338Z"
   },
   {
    "duration": 170,
    "start_time": "2023-01-16T21:01:25.349Z"
   },
   {
    "duration": 16,
    "start_time": "2023-01-16T21:01:25.521Z"
   },
   {
    "duration": 19,
    "start_time": "2023-01-16T21:01:25.539Z"
   },
   {
    "duration": 61,
    "start_time": "2023-01-16T21:01:25.559Z"
   },
   {
    "duration": 819,
    "start_time": "2023-01-16T21:01:25.622Z"
   },
   {
    "duration": 1186,
    "start_time": "2023-01-16T21:01:26.443Z"
   },
   {
    "duration": 521,
    "start_time": "2023-01-16T21:01:27.636Z"
   },
   {
    "duration": 6,
    "start_time": "2023-01-16T21:01:28.160Z"
   },
   {
    "duration": 1091,
    "start_time": "2023-01-16T21:01:28.168Z"
   },
   {
    "duration": 14,
    "start_time": "2023-01-16T21:01:29.261Z"
   },
   {
    "duration": 1048,
    "start_time": "2023-01-16T21:01:29.277Z"
   },
   {
    "duration": 24,
    "start_time": "2023-01-16T21:01:30.327Z"
   },
   {
    "duration": 2364,
    "start_time": "2023-01-16T21:01:30.353Z"
   },
   {
    "duration": 18,
    "start_time": "2023-01-16T21:01:32.719Z"
   },
   {
    "duration": 36,
    "start_time": "2023-01-16T21:01:32.739Z"
   },
   {
    "duration": 319,
    "start_time": "2023-01-16T21:01:32.777Z"
   },
   {
    "duration": 373,
    "start_time": "2023-01-16T21:01:33.098Z"
   },
   {
    "duration": 325,
    "start_time": "2023-01-16T21:01:33.473Z"
   },
   {
    "duration": 328,
    "start_time": "2023-01-16T21:01:33.800Z"
   },
   {
    "duration": 327,
    "start_time": "2023-01-16T21:01:34.136Z"
   },
   {
    "duration": 51,
    "start_time": "2023-01-16T21:01:34.465Z"
   },
   {
    "duration": 24,
    "start_time": "2023-01-16T21:01:34.518Z"
   },
   {
    "duration": 580,
    "start_time": "2023-01-16T21:01:34.544Z"
   },
   {
    "duration": 14,
    "start_time": "2023-01-16T21:01:35.126Z"
   },
   {
    "duration": 40,
    "start_time": "2023-01-16T21:01:35.142Z"
   },
   {
    "duration": 666,
    "start_time": "2023-01-16T21:01:35.184Z"
   },
   {
    "duration": 7,
    "start_time": "2023-01-16T21:01:35.852Z"
   },
   {
    "duration": 28,
    "start_time": "2023-01-16T21:01:35.861Z"
   },
   {
    "duration": 10,
    "start_time": "2023-01-16T21:01:35.891Z"
   },
   {
    "duration": 22,
    "start_time": "2023-01-16T21:01:35.903Z"
   },
   {
    "duration": 603,
    "start_time": "2023-01-16T21:01:35.926Z"
   },
   {
    "duration": 7,
    "start_time": "2023-01-16T21:01:36.531Z"
   },
   {
    "duration": 13,
    "start_time": "2023-01-16T21:01:36.541Z"
   },
   {
    "duration": 27,
    "start_time": "2023-01-16T21:01:36.556Z"
   },
   {
    "duration": 1175,
    "start_time": "2023-01-16T21:56:25.525Z"
   },
   {
    "duration": 40,
    "start_time": "2023-01-16T21:56:26.702Z"
   },
   {
    "duration": 17,
    "start_time": "2023-01-16T21:56:26.744Z"
   },
   {
    "duration": 15,
    "start_time": "2023-01-16T21:56:26.764Z"
   },
   {
    "duration": 3,
    "start_time": "2023-01-16T21:56:26.780Z"
   },
   {
    "duration": 5,
    "start_time": "2023-01-16T21:56:26.786Z"
   },
   {
    "duration": 14,
    "start_time": "2023-01-16T21:56:26.792Z"
   },
   {
    "duration": 37,
    "start_time": "2023-01-16T21:56:26.808Z"
   },
   {
    "duration": 6,
    "start_time": "2023-01-16T21:56:26.847Z"
   },
   {
    "duration": 8,
    "start_time": "2023-01-16T21:56:26.857Z"
   },
   {
    "duration": 6,
    "start_time": "2023-01-16T21:56:26.867Z"
   },
   {
    "duration": 9,
    "start_time": "2023-01-16T21:56:26.875Z"
   },
   {
    "duration": 73,
    "start_time": "2023-01-16T21:56:26.885Z"
   },
   {
    "duration": 8,
    "start_time": "2023-01-16T21:56:26.959Z"
   },
   {
    "duration": 34,
    "start_time": "2023-01-16T21:56:26.969Z"
   },
   {
    "duration": 189,
    "start_time": "2023-01-16T21:56:27.005Z"
   },
   {
    "duration": 8,
    "start_time": "2023-01-16T21:56:27.195Z"
   },
   {
    "duration": 52,
    "start_time": "2023-01-16T21:56:27.205Z"
   },
   {
    "duration": 124,
    "start_time": "2023-01-16T21:56:27.259Z"
   },
   {
    "duration": 7,
    "start_time": "2023-01-16T21:56:27.384Z"
   },
   {
    "duration": 148,
    "start_time": "2023-01-16T21:56:27.392Z"
   },
   {
    "duration": 105,
    "start_time": "2023-01-16T21:56:27.541Z"
   },
   {
    "duration": 7,
    "start_time": "2023-01-16T21:56:27.648Z"
   },
   {
    "duration": 148,
    "start_time": "2023-01-16T21:56:27.656Z"
   },
   {
    "duration": 119,
    "start_time": "2023-01-16T21:56:27.806Z"
   },
   {
    "duration": 11,
    "start_time": "2023-01-16T21:56:27.926Z"
   },
   {
    "duration": 148,
    "start_time": "2023-01-16T21:56:27.939Z"
   },
   {
    "duration": 151,
    "start_time": "2023-01-16T21:56:28.090Z"
   },
   {
    "duration": 8,
    "start_time": "2023-01-16T21:56:28.243Z"
   },
   {
    "duration": 186,
    "start_time": "2023-01-16T21:56:28.253Z"
   },
   {
    "duration": 15,
    "start_time": "2023-01-16T21:56:28.441Z"
   },
   {
    "duration": 9,
    "start_time": "2023-01-16T21:56:28.457Z"
   },
   {
    "duration": 41,
    "start_time": "2023-01-16T21:56:28.468Z"
   },
   {
    "duration": 798,
    "start_time": "2023-01-16T21:56:28.511Z"
   },
   {
    "duration": 1173,
    "start_time": "2023-01-16T21:56:29.311Z"
   },
   {
    "duration": 515,
    "start_time": "2023-01-16T21:56:30.486Z"
   },
   {
    "duration": 6,
    "start_time": "2023-01-16T21:56:31.003Z"
   },
   {
    "duration": 1060,
    "start_time": "2023-01-16T21:56:31.011Z"
   },
   {
    "duration": 14,
    "start_time": "2023-01-16T21:56:32.073Z"
   },
   {
    "duration": 1002,
    "start_time": "2023-01-16T21:56:32.089Z"
   },
   {
    "duration": 16,
    "start_time": "2023-01-16T21:56:33.092Z"
   },
   {
    "duration": 2334,
    "start_time": "2023-01-16T21:56:33.110Z"
   },
   {
    "duration": 8,
    "start_time": "2023-01-16T21:56:35.445Z"
   },
   {
    "duration": 11,
    "start_time": "2023-01-16T21:56:35.454Z"
   },
   {
    "duration": 296,
    "start_time": "2023-01-16T21:56:35.467Z"
   },
   {
    "duration": 329,
    "start_time": "2023-01-16T21:56:35.765Z"
   },
   {
    "duration": 333,
    "start_time": "2023-01-16T21:56:36.096Z"
   },
   {
    "duration": 302,
    "start_time": "2023-01-16T21:56:36.437Z"
   },
   {
    "duration": 316,
    "start_time": "2023-01-16T21:56:36.741Z"
   },
   {
    "duration": 49,
    "start_time": "2023-01-16T21:56:37.059Z"
   },
   {
    "duration": 7,
    "start_time": "2023-01-16T21:56:37.110Z"
   },
   {
    "duration": 580,
    "start_time": "2023-01-16T21:56:37.119Z"
   },
   {
    "duration": 6,
    "start_time": "2023-01-16T21:56:37.701Z"
   },
   {
    "duration": 34,
    "start_time": "2023-01-16T21:56:37.709Z"
   },
   {
    "duration": 708,
    "start_time": "2023-01-16T21:56:37.745Z"
   },
   {
    "duration": 6,
    "start_time": "2023-01-16T21:56:38.455Z"
   },
   {
    "duration": 12,
    "start_time": "2023-01-16T21:56:38.463Z"
   },
   {
    "duration": 4,
    "start_time": "2023-01-16T21:56:38.477Z"
   },
   {
    "duration": 11,
    "start_time": "2023-01-16T21:56:38.483Z"
   },
   {
    "duration": 550,
    "start_time": "2023-01-16T21:56:38.496Z"
   },
   {
    "duration": 6,
    "start_time": "2023-01-16T21:56:39.048Z"
   },
   {
    "duration": 7,
    "start_time": "2023-01-16T21:56:39.055Z"
   },
   {
    "duration": 319,
    "start_time": "2023-01-16T22:02:44.402Z"
   },
   {
    "duration": 50,
    "start_time": "2023-01-16T22:04:53.507Z"
   },
   {
    "duration": 363,
    "start_time": "2023-01-16T22:28:06.283Z"
   },
   {
    "duration": 370,
    "start_time": "2023-01-16T22:28:16.906Z"
   },
   {
    "duration": 321,
    "start_time": "2023-01-16T22:29:05.464Z"
   },
   {
    "duration": 1124,
    "start_time": "2023-01-16T23:02:07.660Z"
   },
   {
    "duration": 39,
    "start_time": "2023-01-16T23:02:08.786Z"
   },
   {
    "duration": 16,
    "start_time": "2023-01-16T23:02:08.827Z"
   },
   {
    "duration": 12,
    "start_time": "2023-01-16T23:02:08.845Z"
   },
   {
    "duration": 3,
    "start_time": "2023-01-16T23:02:08.859Z"
   },
   {
    "duration": 5,
    "start_time": "2023-01-16T23:02:08.863Z"
   },
   {
    "duration": 10,
    "start_time": "2023-01-16T23:02:08.869Z"
   },
   {
    "duration": 12,
    "start_time": "2023-01-16T23:02:08.881Z"
   },
   {
    "duration": 5,
    "start_time": "2023-01-16T23:02:08.894Z"
   },
   {
    "duration": 38,
    "start_time": "2023-01-16T23:02:08.901Z"
   },
   {
    "duration": 7,
    "start_time": "2023-01-16T23:02:08.941Z"
   },
   {
    "duration": 8,
    "start_time": "2023-01-16T23:02:08.950Z"
   },
   {
    "duration": 38,
    "start_time": "2023-01-16T23:02:08.959Z"
   },
   {
    "duration": 7,
    "start_time": "2023-01-16T23:02:08.999Z"
   },
   {
    "duration": 35,
    "start_time": "2023-01-16T23:02:09.037Z"
   },
   {
    "duration": 167,
    "start_time": "2023-01-16T23:02:09.073Z"
   },
   {
    "duration": 9,
    "start_time": "2023-01-16T23:02:09.241Z"
   },
   {
    "duration": 55,
    "start_time": "2023-01-16T23:02:09.252Z"
   },
   {
    "duration": 139,
    "start_time": "2023-01-16T23:02:09.309Z"
   },
   {
    "duration": 7,
    "start_time": "2023-01-16T23:02:09.449Z"
   },
   {
    "duration": 137,
    "start_time": "2023-01-16T23:02:09.458Z"
   },
   {
    "duration": 104,
    "start_time": "2023-01-16T23:02:09.597Z"
   },
   {
    "duration": 6,
    "start_time": "2023-01-16T23:02:09.702Z"
   },
   {
    "duration": 145,
    "start_time": "2023-01-16T23:02:09.711Z"
   },
   {
    "duration": 122,
    "start_time": "2023-01-16T23:02:09.858Z"
   },
   {
    "duration": 7,
    "start_time": "2023-01-16T23:02:09.981Z"
   },
   {
    "duration": 143,
    "start_time": "2023-01-16T23:02:09.990Z"
   },
   {
    "duration": 134,
    "start_time": "2023-01-16T23:02:10.139Z"
   },
   {
    "duration": 7,
    "start_time": "2023-01-16T23:02:10.275Z"
   },
   {
    "duration": 157,
    "start_time": "2023-01-16T23:02:10.284Z"
   },
   {
    "duration": 14,
    "start_time": "2023-01-16T23:02:10.444Z"
   },
   {
    "duration": 27,
    "start_time": "2023-01-16T23:02:10.460Z"
   },
   {
    "duration": 59,
    "start_time": "2023-01-16T23:02:10.489Z"
   },
   {
    "duration": 765,
    "start_time": "2023-01-16T23:02:10.550Z"
   },
   {
    "duration": 1137,
    "start_time": "2023-01-16T23:02:11.317Z"
   },
   {
    "duration": 483,
    "start_time": "2023-01-16T23:02:12.455Z"
   },
   {
    "duration": 5,
    "start_time": "2023-01-16T23:02:12.940Z"
   },
   {
    "duration": 1016,
    "start_time": "2023-01-16T23:02:12.947Z"
   },
   {
    "duration": 14,
    "start_time": "2023-01-16T23:02:13.965Z"
   },
   {
    "duration": 999,
    "start_time": "2023-01-16T23:02:13.981Z"
   },
   {
    "duration": 19,
    "start_time": "2023-01-16T23:02:14.982Z"
   },
   {
    "duration": 2229,
    "start_time": "2023-01-16T23:02:15.003Z"
   },
   {
    "duration": 9,
    "start_time": "2023-01-16T23:02:17.234Z"
   },
   {
    "duration": 10,
    "start_time": "2023-01-16T23:02:17.244Z"
   },
   {
    "duration": 310,
    "start_time": "2023-01-16T23:02:17.256Z"
   },
   {
    "duration": 326,
    "start_time": "2023-01-16T23:02:17.567Z"
   },
   {
    "duration": 327,
    "start_time": "2023-01-16T23:02:17.895Z"
   },
   {
    "duration": 312,
    "start_time": "2023-01-16T23:02:18.224Z"
   },
   {
    "duration": 313,
    "start_time": "2023-01-16T23:02:18.538Z"
   },
   {
    "duration": 48,
    "start_time": "2023-01-16T23:02:18.853Z"
   },
   {
    "duration": 7,
    "start_time": "2023-01-16T23:02:18.903Z"
   },
   {
    "duration": 587,
    "start_time": "2023-01-16T23:02:18.912Z"
   },
   {
    "duration": 6,
    "start_time": "2023-01-16T23:02:19.501Z"
   },
   {
    "duration": 13,
    "start_time": "2023-01-16T23:02:19.509Z"
   },
   {
    "duration": 625,
    "start_time": "2023-01-16T23:02:19.537Z"
   },
   {
    "duration": 5,
    "start_time": "2023-01-16T23:02:20.163Z"
   },
   {
    "duration": 13,
    "start_time": "2023-01-16T23:02:20.170Z"
   },
   {
    "duration": 4,
    "start_time": "2023-01-16T23:02:20.185Z"
   },
   {
    "duration": 13,
    "start_time": "2023-01-16T23:02:20.190Z"
   },
   {
    "duration": 516,
    "start_time": "2023-01-16T23:02:20.204Z"
   },
   {
    "duration": 5,
    "start_time": "2023-01-16T23:02:20.722Z"
   },
   {
    "duration": 9,
    "start_time": "2023-01-16T23:02:20.736Z"
   },
   {
    "duration": 1168,
    "start_time": "2023-01-16T23:32:23.527Z"
   },
   {
    "duration": 38,
    "start_time": "2023-01-16T23:32:24.697Z"
   },
   {
    "duration": 18,
    "start_time": "2023-01-16T23:32:24.737Z"
   },
   {
    "duration": 25,
    "start_time": "2023-01-16T23:32:24.758Z"
   },
   {
    "duration": 16,
    "start_time": "2023-01-16T23:32:24.785Z"
   },
   {
    "duration": 22,
    "start_time": "2023-01-16T23:32:24.802Z"
   },
   {
    "duration": 19,
    "start_time": "2023-01-16T23:32:24.826Z"
   },
   {
    "duration": 30,
    "start_time": "2023-01-16T23:32:24.847Z"
   },
   {
    "duration": 12,
    "start_time": "2023-01-16T23:32:24.878Z"
   },
   {
    "duration": 21,
    "start_time": "2023-01-16T23:32:24.892Z"
   },
   {
    "duration": 41,
    "start_time": "2023-01-16T23:32:24.915Z"
   },
   {
    "duration": 17,
    "start_time": "2023-01-16T23:32:24.958Z"
   },
   {
    "duration": 58,
    "start_time": "2023-01-16T23:32:24.977Z"
   },
   {
    "duration": 8,
    "start_time": "2023-01-16T23:32:25.037Z"
   },
   {
    "duration": 57,
    "start_time": "2023-01-16T23:32:25.046Z"
   },
   {
    "duration": 148,
    "start_time": "2023-01-16T23:32:25.105Z"
   },
   {
    "duration": 8,
    "start_time": "2023-01-16T23:32:25.255Z"
   },
   {
    "duration": 63,
    "start_time": "2023-01-16T23:32:25.264Z"
   },
   {
    "duration": 109,
    "start_time": "2023-01-16T23:32:25.328Z"
   },
   {
    "duration": 6,
    "start_time": "2023-01-16T23:32:25.439Z"
   },
   {
    "duration": 136,
    "start_time": "2023-01-16T23:32:25.447Z"
   },
   {
    "duration": 105,
    "start_time": "2023-01-16T23:32:25.585Z"
   },
   {
    "duration": 6,
    "start_time": "2023-01-16T23:32:25.692Z"
   },
   {
    "duration": 138,
    "start_time": "2023-01-16T23:32:25.700Z"
   },
   {
    "duration": 112,
    "start_time": "2023-01-16T23:32:25.840Z"
   },
   {
    "duration": 7,
    "start_time": "2023-01-16T23:32:25.953Z"
   },
   {
    "duration": 150,
    "start_time": "2023-01-16T23:32:25.961Z"
   },
   {
    "duration": 137,
    "start_time": "2023-01-16T23:32:26.115Z"
   },
   {
    "duration": 6,
    "start_time": "2023-01-16T23:32:26.254Z"
   },
   {
    "duration": 153,
    "start_time": "2023-01-16T23:32:26.262Z"
   },
   {
    "duration": 14,
    "start_time": "2023-01-16T23:32:26.417Z"
   },
   {
    "duration": 14,
    "start_time": "2023-01-16T23:32:26.436Z"
   },
   {
    "duration": 43,
    "start_time": "2023-01-16T23:32:26.452Z"
   },
   {
    "duration": 723,
    "start_time": "2023-01-16T23:32:26.497Z"
   },
   {
    "duration": 1167,
    "start_time": "2023-01-16T23:32:27.221Z"
   },
   {
    "duration": 491,
    "start_time": "2023-01-16T23:32:28.390Z"
   },
   {
    "duration": 7,
    "start_time": "2023-01-16T23:32:28.883Z"
   },
   {
    "duration": 1064,
    "start_time": "2023-01-16T23:32:28.891Z"
   },
   {
    "duration": 13,
    "start_time": "2023-01-16T23:32:29.957Z"
   },
   {
    "duration": 976,
    "start_time": "2023-01-16T23:32:29.972Z"
   },
   {
    "duration": 17,
    "start_time": "2023-01-16T23:32:30.949Z"
   },
   {
    "duration": 2156,
    "start_time": "2023-01-16T23:32:30.967Z"
   },
   {
    "duration": 14,
    "start_time": "2023-01-16T23:32:33.125Z"
   },
   {
    "duration": 7,
    "start_time": "2023-01-16T23:32:33.141Z"
   },
   {
    "duration": 291,
    "start_time": "2023-01-16T23:32:33.150Z"
   },
   {
    "duration": 322,
    "start_time": "2023-01-16T23:32:33.443Z"
   },
   {
    "duration": 311,
    "start_time": "2023-01-16T23:32:33.767Z"
   },
   {
    "duration": 307,
    "start_time": "2023-01-16T23:32:34.080Z"
   },
   {
    "duration": 354,
    "start_time": "2023-01-16T23:32:34.390Z"
   },
   {
    "duration": 48,
    "start_time": "2023-01-16T23:32:34.746Z"
   },
   {
    "duration": 7,
    "start_time": "2023-01-16T23:32:34.796Z"
   },
   {
    "duration": 574,
    "start_time": "2023-01-16T23:32:34.804Z"
   },
   {
    "duration": 6,
    "start_time": "2023-01-16T23:32:35.380Z"
   },
   {
    "duration": 13,
    "start_time": "2023-01-16T23:32:35.388Z"
   },
   {
    "duration": 650,
    "start_time": "2023-01-16T23:32:35.403Z"
   },
   {
    "duration": 5,
    "start_time": "2023-01-16T23:32:36.056Z"
   },
   {
    "duration": 12,
    "start_time": "2023-01-16T23:32:36.063Z"
   },
   {
    "duration": 5,
    "start_time": "2023-01-16T23:32:36.076Z"
   },
   {
    "duration": 11,
    "start_time": "2023-01-16T23:32:36.083Z"
   },
   {
    "duration": 509,
    "start_time": "2023-01-16T23:32:36.096Z"
   },
   {
    "duration": 6,
    "start_time": "2023-01-16T23:32:36.607Z"
   },
   {
    "duration": 21,
    "start_time": "2023-01-16T23:32:36.615Z"
   },
   {
    "duration": 1496,
    "start_time": "2023-01-17T18:50:51.914Z"
   },
   {
    "duration": 75,
    "start_time": "2023-01-17T18:50:53.413Z"
   },
   {
    "duration": 21,
    "start_time": "2023-01-17T18:50:53.490Z"
   },
   {
    "duration": 18,
    "start_time": "2023-01-17T18:50:53.513Z"
   },
   {
    "duration": 3,
    "start_time": "2023-01-17T18:50:53.533Z"
   },
   {
    "duration": 14,
    "start_time": "2023-01-17T18:50:53.538Z"
   },
   {
    "duration": 10,
    "start_time": "2023-01-17T18:50:53.553Z"
   },
   {
    "duration": 15,
    "start_time": "2023-01-17T18:50:53.565Z"
   },
   {
    "duration": 6,
    "start_time": "2023-01-17T18:50:53.582Z"
   },
   {
    "duration": 7,
    "start_time": "2023-01-17T18:50:53.591Z"
   },
   {
    "duration": 11,
    "start_time": "2023-01-17T18:50:53.599Z"
   },
   {
    "duration": 27,
    "start_time": "2023-01-17T18:50:53.611Z"
   },
   {
    "duration": 57,
    "start_time": "2023-01-17T18:50:53.640Z"
   },
   {
    "duration": 8,
    "start_time": "2023-01-17T18:50:53.699Z"
   },
   {
    "duration": 39,
    "start_time": "2023-01-17T18:50:53.708Z"
   },
   {
    "duration": 176,
    "start_time": "2023-01-17T18:50:53.749Z"
   },
   {
    "duration": 15,
    "start_time": "2023-01-17T18:50:53.927Z"
   },
   {
    "duration": 48,
    "start_time": "2023-01-17T18:50:53.944Z"
   },
   {
    "duration": 128,
    "start_time": "2023-01-17T18:50:53.994Z"
   },
   {
    "duration": 14,
    "start_time": "2023-01-17T18:50:54.124Z"
   },
   {
    "duration": 158,
    "start_time": "2023-01-17T18:50:54.139Z"
   },
   {
    "duration": 109,
    "start_time": "2023-01-17T18:50:54.299Z"
   },
   {
    "duration": 7,
    "start_time": "2023-01-17T18:50:54.410Z"
   },
   {
    "duration": 148,
    "start_time": "2023-01-17T18:50:54.418Z"
   },
   {
    "duration": 128,
    "start_time": "2023-01-17T18:50:54.567Z"
   },
   {
    "duration": 7,
    "start_time": "2023-01-17T18:50:54.697Z"
   },
   {
    "duration": 152,
    "start_time": "2023-01-17T18:50:54.706Z"
   },
   {
    "duration": 134,
    "start_time": "2023-01-17T18:50:54.862Z"
   },
   {
    "duration": 5,
    "start_time": "2023-01-17T18:50:54.998Z"
   },
   {
    "duration": 165,
    "start_time": "2023-01-17T18:50:55.005Z"
   },
   {
    "duration": 21,
    "start_time": "2023-01-17T18:50:55.172Z"
   },
   {
    "duration": 10,
    "start_time": "2023-01-17T18:50:55.194Z"
   },
   {
    "duration": 63,
    "start_time": "2023-01-17T18:50:55.206Z"
   },
   {
    "duration": 826,
    "start_time": "2023-01-17T18:50:55.271Z"
   },
   {
    "duration": 1222,
    "start_time": "2023-01-17T18:50:56.099Z"
   },
   {
    "duration": 534,
    "start_time": "2023-01-17T18:50:57.323Z"
   },
   {
    "duration": 10,
    "start_time": "2023-01-17T18:50:57.859Z"
   },
   {
    "duration": 1184,
    "start_time": "2023-01-17T18:50:57.870Z"
   },
   {
    "duration": 15,
    "start_time": "2023-01-17T18:50:59.057Z"
   },
   {
    "duration": 994,
    "start_time": "2023-01-17T18:50:59.074Z"
   },
   {
    "duration": 16,
    "start_time": "2023-01-17T18:51:00.069Z"
   },
   {
    "duration": 2309,
    "start_time": "2023-01-17T18:51:00.087Z"
   },
   {
    "duration": 8,
    "start_time": "2023-01-17T18:51:02.397Z"
   },
   {
    "duration": 33,
    "start_time": "2023-01-17T18:51:02.406Z"
   },
   {
    "duration": 342,
    "start_time": "2023-01-17T18:51:02.441Z"
   },
   {
    "duration": 364,
    "start_time": "2023-01-17T18:51:02.785Z"
   },
   {
    "duration": 308,
    "start_time": "2023-01-17T18:51:03.150Z"
   },
   {
    "duration": 284,
    "start_time": "2023-01-17T18:51:03.460Z"
   },
   {
    "duration": 326,
    "start_time": "2023-01-17T18:51:03.746Z"
   },
   {
    "duration": 63,
    "start_time": "2023-01-17T18:51:04.074Z"
   },
   {
    "duration": 11,
    "start_time": "2023-01-17T18:51:04.139Z"
   },
   {
    "duration": 605,
    "start_time": "2023-01-17T18:51:04.152Z"
   },
   {
    "duration": 7,
    "start_time": "2023-01-17T18:51:04.760Z"
   },
   {
    "duration": 28,
    "start_time": "2023-01-17T18:51:04.768Z"
   },
   {
    "duration": 690,
    "start_time": "2023-01-17T18:51:04.798Z"
   },
   {
    "duration": 6,
    "start_time": "2023-01-17T18:51:05.490Z"
   },
   {
    "duration": 35,
    "start_time": "2023-01-17T18:51:05.498Z"
   },
   {
    "duration": 24,
    "start_time": "2023-01-17T18:51:05.535Z"
   },
   {
    "duration": 46,
    "start_time": "2023-01-17T18:51:05.561Z"
   },
   {
    "duration": 598,
    "start_time": "2023-01-17T18:51:05.610Z"
   },
   {
    "duration": 7,
    "start_time": "2023-01-17T18:51:06.210Z"
   },
   {
    "duration": 20,
    "start_time": "2023-01-17T18:51:06.219Z"
   },
   {
    "duration": 1453,
    "start_time": "2023-01-17T19:51:57.257Z"
   },
   {
    "duration": 86,
    "start_time": "2023-01-17T19:51:58.712Z"
   },
   {
    "duration": 27,
    "start_time": "2023-01-17T19:51:58.800Z"
   },
   {
    "duration": 34,
    "start_time": "2023-01-17T19:51:58.831Z"
   },
   {
    "duration": 3,
    "start_time": "2023-01-17T19:51:58.867Z"
   },
   {
    "duration": 8,
    "start_time": "2023-01-17T19:51:58.872Z"
   },
   {
    "duration": 9,
    "start_time": "2023-01-17T19:51:58.881Z"
   },
   {
    "duration": 44,
    "start_time": "2023-01-17T19:51:58.892Z"
   },
   {
    "duration": 14,
    "start_time": "2023-01-17T19:51:58.938Z"
   },
   {
    "duration": 19,
    "start_time": "2023-01-17T19:51:58.958Z"
   },
   {
    "duration": 8,
    "start_time": "2023-01-17T19:51:58.979Z"
   },
   {
    "duration": 18,
    "start_time": "2023-01-17T19:51:58.989Z"
   },
   {
    "duration": 58,
    "start_time": "2023-01-17T19:51:59.009Z"
   },
   {
    "duration": 8,
    "start_time": "2023-01-17T19:51:59.069Z"
   },
   {
    "duration": 62,
    "start_time": "2023-01-17T19:51:59.079Z"
   },
   {
    "duration": 199,
    "start_time": "2023-01-17T19:51:59.145Z"
   },
   {
    "duration": 8,
    "start_time": "2023-01-17T19:51:59.351Z"
   },
   {
    "duration": 84,
    "start_time": "2023-01-17T19:51:59.361Z"
   },
   {
    "duration": 125,
    "start_time": "2023-01-17T19:51:59.447Z"
   },
   {
    "duration": 7,
    "start_time": "2023-01-17T19:51:59.573Z"
   },
   {
    "duration": 164,
    "start_time": "2023-01-17T19:51:59.582Z"
   },
   {
    "duration": 110,
    "start_time": "2023-01-17T19:51:59.749Z"
   },
   {
    "duration": 7,
    "start_time": "2023-01-17T19:51:59.861Z"
   },
   {
    "duration": 158,
    "start_time": "2023-01-17T19:51:59.870Z"
   },
   {
    "duration": 126,
    "start_time": "2023-01-17T19:52:00.036Z"
   },
   {
    "duration": 6,
    "start_time": "2023-01-17T19:52:00.164Z"
   },
   {
    "duration": 168,
    "start_time": "2023-01-17T19:52:00.171Z"
   },
   {
    "duration": 148,
    "start_time": "2023-01-17T19:52:00.350Z"
   },
   {
    "duration": 6,
    "start_time": "2023-01-17T19:52:00.500Z"
   },
   {
    "duration": 233,
    "start_time": "2023-01-17T19:52:00.507Z"
   },
   {
    "duration": 22,
    "start_time": "2023-01-17T19:52:00.741Z"
   },
   {
    "duration": 27,
    "start_time": "2023-01-17T19:52:00.766Z"
   },
   {
    "duration": 53,
    "start_time": "2023-01-17T19:52:00.795Z"
   },
   {
    "duration": 67,
    "start_time": "2023-01-17T19:52:00.850Z"
   },
   {
    "duration": 884,
    "start_time": "2023-01-17T19:52:00.919Z"
   },
   {
    "duration": 1362,
    "start_time": "2023-01-17T19:52:01.805Z"
   },
   {
    "duration": 524,
    "start_time": "2023-01-17T19:52:03.169Z"
   },
   {
    "duration": 5,
    "start_time": "2023-01-17T19:52:03.695Z"
   },
   {
    "duration": 1183,
    "start_time": "2023-01-17T19:52:03.702Z"
   },
   {
    "duration": 13,
    "start_time": "2023-01-17T19:52:04.887Z"
   },
   {
    "duration": 1122,
    "start_time": "2023-01-17T19:52:04.902Z"
   },
   {
    "duration": 19,
    "start_time": "2023-01-17T19:52:06.027Z"
   },
   {
    "duration": 2617,
    "start_time": "2023-01-17T19:52:06.050Z"
   },
   {
    "duration": 11,
    "start_time": "2023-01-17T19:52:08.669Z"
   },
   {
    "duration": 20,
    "start_time": "2023-01-17T19:52:08.682Z"
   },
   {
    "duration": 342,
    "start_time": "2023-01-17T19:52:08.704Z"
   },
   {
    "duration": 344,
    "start_time": "2023-01-17T19:52:09.048Z"
   },
   {
    "duration": 354,
    "start_time": "2023-01-17T19:52:09.394Z"
   },
   {
    "duration": 308,
    "start_time": "2023-01-17T19:52:09.750Z"
   },
   {
    "duration": 391,
    "start_time": "2023-01-17T19:52:10.060Z"
   },
   {
    "duration": 92,
    "start_time": "2023-01-17T19:52:10.456Z"
   },
   {
    "duration": 11,
    "start_time": "2023-01-17T19:52:10.550Z"
   },
   {
    "duration": 695,
    "start_time": "2023-01-17T19:52:10.564Z"
   },
   {
    "duration": 6,
    "start_time": "2023-01-17T19:52:11.261Z"
   },
   {
    "duration": 17,
    "start_time": "2023-01-17T19:52:11.270Z"
   },
   {
    "duration": 767,
    "start_time": "2023-01-17T19:52:11.289Z"
   },
   {
    "duration": 6,
    "start_time": "2023-01-17T19:52:12.058Z"
   },
   {
    "duration": 13,
    "start_time": "2023-01-17T19:52:12.066Z"
   },
   {
    "duration": 7,
    "start_time": "2023-01-17T19:52:12.081Z"
   },
   {
    "duration": 39,
    "start_time": "2023-01-17T19:52:12.090Z"
   },
   {
    "duration": 649,
    "start_time": "2023-01-17T19:52:12.136Z"
   },
   {
    "duration": 7,
    "start_time": "2023-01-17T19:52:12.787Z"
   },
   {
    "duration": 23,
    "start_time": "2023-01-17T19:52:12.796Z"
   },
   {
    "duration": 1370,
    "start_time": "2023-01-17T19:56:59.879Z"
   },
   {
    "duration": 37,
    "start_time": "2023-01-17T19:57:01.250Z"
   },
   {
    "duration": 64,
    "start_time": "2023-01-17T19:57:01.289Z"
   },
   {
    "duration": 50,
    "start_time": "2023-01-17T19:57:01.355Z"
   },
   {
    "duration": 69,
    "start_time": "2023-01-17T19:57:01.407Z"
   },
   {
    "duration": 34,
    "start_time": "2023-01-17T19:57:01.478Z"
   },
   {
    "duration": 35,
    "start_time": "2023-01-17T19:57:01.514Z"
   },
   {
    "duration": 42,
    "start_time": "2023-01-17T19:57:01.551Z"
   },
   {
    "duration": 21,
    "start_time": "2023-01-17T19:57:01.595Z"
   },
   {
    "duration": 35,
    "start_time": "2023-01-17T19:57:01.620Z"
   },
   {
    "duration": 101,
    "start_time": "2023-01-17T19:57:01.657Z"
   },
   {
    "duration": 85,
    "start_time": "2023-01-17T19:57:01.760Z"
   },
   {
    "duration": 58,
    "start_time": "2023-01-17T19:57:01.847Z"
   },
   {
    "duration": 12,
    "start_time": "2023-01-17T19:57:01.907Z"
   },
   {
    "duration": 62,
    "start_time": "2023-01-17T19:57:01.926Z"
   },
   {
    "duration": 184,
    "start_time": "2023-01-17T19:57:01.989Z"
   },
   {
    "duration": 8,
    "start_time": "2023-01-17T19:57:02.175Z"
   },
   {
    "duration": 179,
    "start_time": "2023-01-17T19:57:02.185Z"
   },
   {
    "duration": 137,
    "start_time": "2023-01-17T19:57:02.366Z"
   },
   {
    "duration": 7,
    "start_time": "2023-01-17T19:57:02.505Z"
   },
   {
    "duration": 176,
    "start_time": "2023-01-17T19:57:02.514Z"
   },
   {
    "duration": 121,
    "start_time": "2023-01-17T19:57:02.693Z"
   },
   {
    "duration": 16,
    "start_time": "2023-01-17T19:57:02.816Z"
   },
   {
    "duration": 177,
    "start_time": "2023-01-17T19:57:02.834Z"
   },
   {
    "duration": 148,
    "start_time": "2023-01-17T19:57:03.015Z"
   },
   {
    "duration": 8,
    "start_time": "2023-01-17T19:57:03.165Z"
   },
   {
    "duration": 169,
    "start_time": "2023-01-17T19:57:03.174Z"
   },
   {
    "duration": 144,
    "start_time": "2023-01-17T19:57:03.347Z"
   },
   {
    "duration": 6,
    "start_time": "2023-01-17T19:57:03.493Z"
   },
   {
    "duration": 180,
    "start_time": "2023-01-17T19:57:03.500Z"
   },
   {
    "duration": 15,
    "start_time": "2023-01-17T19:57:03.681Z"
   },
   {
    "duration": 22,
    "start_time": "2023-01-17T19:57:03.698Z"
   },
   {
    "duration": 58,
    "start_time": "2023-01-17T19:57:03.722Z"
   },
   {
    "duration": 53,
    "start_time": "2023-01-17T19:57:03.782Z"
   },
   {
    "duration": 850,
    "start_time": "2023-01-17T19:57:03.837Z"
   },
   {
    "duration": 1413,
    "start_time": "2023-01-17T19:57:04.689Z"
   },
   {
    "duration": 626,
    "start_time": "2023-01-17T19:57:06.104Z"
   },
   {
    "duration": 8,
    "start_time": "2023-01-17T19:57:06.732Z"
   },
   {
    "duration": 1132,
    "start_time": "2023-01-17T19:57:06.742Z"
   },
   {
    "duration": 15,
    "start_time": "2023-01-17T19:57:07.876Z"
   },
   {
    "duration": 1244,
    "start_time": "2023-01-17T19:57:07.893Z"
   },
   {
    "duration": 18,
    "start_time": "2023-01-17T19:57:09.139Z"
   },
   {
    "duration": 2478,
    "start_time": "2023-01-17T19:57:09.159Z"
   },
   {
    "duration": 7,
    "start_time": "2023-01-17T19:57:11.640Z"
   },
   {
    "duration": 14,
    "start_time": "2023-01-17T19:57:11.649Z"
   },
   {
    "duration": 395,
    "start_time": "2023-01-17T19:57:11.665Z"
   },
   {
    "duration": 391,
    "start_time": "2023-01-17T19:57:12.062Z"
   },
   {
    "duration": 477,
    "start_time": "2023-01-17T19:57:12.455Z"
   },
   {
    "duration": 292,
    "start_time": "2023-01-17T19:57:12.934Z"
   },
   {
    "duration": 325,
    "start_time": "2023-01-17T19:57:13.230Z"
   },
   {
    "duration": 62,
    "start_time": "2023-01-17T19:57:13.557Z"
   },
   {
    "duration": 13,
    "start_time": "2023-01-17T19:57:13.626Z"
   },
   {
    "duration": 616,
    "start_time": "2023-01-17T19:57:13.642Z"
   },
   {
    "duration": 6,
    "start_time": "2023-01-17T19:57:14.260Z"
   },
   {
    "duration": 17,
    "start_time": "2023-01-17T19:57:14.268Z"
   },
   {
    "duration": 728,
    "start_time": "2023-01-17T19:57:14.287Z"
   },
   {
    "duration": 8,
    "start_time": "2023-01-17T19:57:15.016Z"
   },
   {
    "duration": 34,
    "start_time": "2023-01-17T19:57:15.025Z"
   },
   {
    "duration": 4,
    "start_time": "2023-01-17T19:57:15.061Z"
   },
   {
    "duration": 16,
    "start_time": "2023-01-17T19:57:15.067Z"
   },
   {
    "duration": 543,
    "start_time": "2023-01-17T19:57:15.085Z"
   },
   {
    "duration": 5,
    "start_time": "2023-01-17T19:57:15.630Z"
   },
   {
    "duration": 14,
    "start_time": "2023-01-17T19:57:15.636Z"
   },
   {
    "duration": 1298,
    "start_time": "2023-01-17T20:01:59.761Z"
   },
   {
    "duration": 37,
    "start_time": "2023-01-17T20:02:01.061Z"
   },
   {
    "duration": 29,
    "start_time": "2023-01-17T20:02:01.100Z"
   },
   {
    "duration": 30,
    "start_time": "2023-01-17T20:02:01.132Z"
   },
   {
    "duration": 12,
    "start_time": "2023-01-17T20:02:01.164Z"
   },
   {
    "duration": 18,
    "start_time": "2023-01-17T20:02:01.178Z"
   },
   {
    "duration": 9,
    "start_time": "2023-01-17T20:02:01.198Z"
   },
   {
    "duration": 30,
    "start_time": "2023-01-17T20:02:01.209Z"
   },
   {
    "duration": 6,
    "start_time": "2023-01-17T20:02:01.241Z"
   },
   {
    "duration": 7,
    "start_time": "2023-01-17T20:02:01.250Z"
   },
   {
    "duration": 23,
    "start_time": "2023-01-17T20:02:01.259Z"
   },
   {
    "duration": 19,
    "start_time": "2023-01-17T20:02:01.284Z"
   },
   {
    "duration": 41,
    "start_time": "2023-01-17T20:02:01.304Z"
   },
   {
    "duration": 7,
    "start_time": "2023-01-17T20:02:01.347Z"
   },
   {
    "duration": 48,
    "start_time": "2023-01-17T20:02:01.355Z"
   },
   {
    "duration": 184,
    "start_time": "2023-01-17T20:02:01.405Z"
   },
   {
    "duration": 8,
    "start_time": "2023-01-17T20:02:01.590Z"
   },
   {
    "duration": 75,
    "start_time": "2023-01-17T20:02:01.600Z"
   },
   {
    "duration": 119,
    "start_time": "2023-01-17T20:02:01.678Z"
   },
   {
    "duration": 6,
    "start_time": "2023-01-17T20:02:01.799Z"
   },
   {
    "duration": 152,
    "start_time": "2023-01-17T20:02:01.814Z"
   },
   {
    "duration": 108,
    "start_time": "2023-01-17T20:02:01.968Z"
   },
   {
    "duration": 8,
    "start_time": "2023-01-17T20:02:02.077Z"
   },
   {
    "duration": 155,
    "start_time": "2023-01-17T20:02:02.087Z"
   },
   {
    "duration": 126,
    "start_time": "2023-01-17T20:02:02.244Z"
   },
   {
    "duration": 7,
    "start_time": "2023-01-17T20:02:02.372Z"
   },
   {
    "duration": 158,
    "start_time": "2023-01-17T20:02:02.380Z"
   },
   {
    "duration": 141,
    "start_time": "2023-01-17T20:02:02.543Z"
   },
   {
    "duration": 7,
    "start_time": "2023-01-17T20:02:02.686Z"
   },
   {
    "duration": 163,
    "start_time": "2023-01-17T20:02:02.694Z"
   },
   {
    "duration": 15,
    "start_time": "2023-01-17T20:02:02.859Z"
   },
   {
    "duration": 47,
    "start_time": "2023-01-17T20:02:02.876Z"
   },
   {
    "duration": 45,
    "start_time": "2023-01-17T20:02:02.925Z"
   },
   {
    "duration": 799,
    "start_time": "2023-01-17T20:02:02.972Z"
   },
   {
    "duration": 1256,
    "start_time": "2023-01-17T20:02:03.772Z"
   },
   {
    "duration": 511,
    "start_time": "2023-01-17T20:02:05.030Z"
   },
   {
    "duration": 6,
    "start_time": "2023-01-17T20:02:05.543Z"
   },
   {
    "duration": 1022,
    "start_time": "2023-01-17T20:02:05.551Z"
   },
   {
    "duration": 16,
    "start_time": "2023-01-17T20:02:06.575Z"
   },
   {
    "duration": 981,
    "start_time": "2023-01-17T20:02:06.593Z"
   },
   {
    "duration": 17,
    "start_time": "2023-01-17T20:02:07.576Z"
   },
   {
    "duration": 2501,
    "start_time": "2023-01-17T20:02:07.594Z"
   },
   {
    "duration": 7,
    "start_time": "2023-01-17T20:02:10.097Z"
   },
   {
    "duration": 13,
    "start_time": "2023-01-17T20:02:10.113Z"
   },
   {
    "duration": 341,
    "start_time": "2023-01-17T20:02:10.128Z"
   },
   {
    "duration": 419,
    "start_time": "2023-01-17T20:02:10.471Z"
   },
   {
    "duration": 370,
    "start_time": "2023-01-17T20:02:10.892Z"
   },
   {
    "duration": 362,
    "start_time": "2023-01-17T20:02:11.264Z"
   },
   {
    "duration": 367,
    "start_time": "2023-01-17T20:02:11.629Z"
   },
   {
    "duration": 68,
    "start_time": "2023-01-17T20:02:11.997Z"
   },
   {
    "duration": 8,
    "start_time": "2023-01-17T20:02:12.066Z"
   },
   {
    "duration": 585,
    "start_time": "2023-01-17T20:02:12.075Z"
   },
   {
    "duration": 6,
    "start_time": "2023-01-17T20:02:12.662Z"
   },
   {
    "duration": 15,
    "start_time": "2023-01-17T20:02:12.669Z"
   },
   {
    "duration": 704,
    "start_time": "2023-01-17T20:02:12.686Z"
   },
   {
    "duration": 7,
    "start_time": "2023-01-17T20:02:13.392Z"
   },
   {
    "duration": 25,
    "start_time": "2023-01-17T20:02:13.401Z"
   },
   {
    "duration": 13,
    "start_time": "2023-01-17T20:02:13.432Z"
   },
   {
    "duration": 11,
    "start_time": "2023-01-17T20:02:13.447Z"
   },
   {
    "duration": 572,
    "start_time": "2023-01-17T20:02:13.460Z"
   },
   {
    "duration": 6,
    "start_time": "2023-01-17T20:02:14.034Z"
   },
   {
    "duration": 10,
    "start_time": "2023-01-17T20:02:14.042Z"
   },
   {
    "duration": 8,
    "start_time": "2023-01-17T20:03:57.182Z"
   },
   {
    "duration": 1286,
    "start_time": "2023-01-17T20:04:03.601Z"
   },
   {
    "duration": 45,
    "start_time": "2023-01-17T20:04:04.890Z"
   },
   {
    "duration": 25,
    "start_time": "2023-01-17T20:04:04.938Z"
   },
   {
    "duration": 45,
    "start_time": "2023-01-17T20:04:04.967Z"
   },
   {
    "duration": 22,
    "start_time": "2023-01-17T20:04:05.015Z"
   },
   {
    "duration": 49,
    "start_time": "2023-01-17T20:04:05.040Z"
   },
   {
    "duration": 28,
    "start_time": "2023-01-17T20:04:05.091Z"
   },
   {
    "duration": 30,
    "start_time": "2023-01-17T20:04:05.122Z"
   },
   {
    "duration": 31,
    "start_time": "2023-01-17T20:04:05.154Z"
   },
   {
    "duration": 32,
    "start_time": "2023-01-17T20:04:05.188Z"
   },
   {
    "duration": 39,
    "start_time": "2023-01-17T20:04:05.221Z"
   },
   {
    "duration": 23,
    "start_time": "2023-01-17T20:04:05.262Z"
   },
   {
    "duration": 51,
    "start_time": "2023-01-17T20:04:05.287Z"
   },
   {
    "duration": 9,
    "start_time": "2023-01-17T20:04:05.339Z"
   },
   {
    "duration": 76,
    "start_time": "2023-01-17T20:04:05.350Z"
   },
   {
    "duration": 171,
    "start_time": "2023-01-17T20:04:05.429Z"
   },
   {
    "duration": 15,
    "start_time": "2023-01-17T20:04:05.601Z"
   },
   {
    "duration": 46,
    "start_time": "2023-01-17T20:04:05.618Z"
   },
   {
    "duration": 119,
    "start_time": "2023-01-17T20:04:05.666Z"
   },
   {
    "duration": 7,
    "start_time": "2023-01-17T20:04:05.786Z"
   },
   {
    "duration": 141,
    "start_time": "2023-01-17T20:04:05.795Z"
   },
   {
    "duration": 103,
    "start_time": "2023-01-17T20:04:05.937Z"
   },
   {
    "duration": 6,
    "start_time": "2023-01-17T20:04:06.042Z"
   },
   {
    "duration": 167,
    "start_time": "2023-01-17T20:04:06.050Z"
   },
   {
    "duration": 114,
    "start_time": "2023-01-17T20:04:06.218Z"
   },
   {
    "duration": 6,
    "start_time": "2023-01-17T20:04:06.334Z"
   },
   {
    "duration": 181,
    "start_time": "2023-01-17T20:04:06.342Z"
   },
   {
    "duration": 138,
    "start_time": "2023-01-17T20:04:06.526Z"
   },
   {
    "duration": 7,
    "start_time": "2023-01-17T20:04:06.665Z"
   },
   {
    "duration": 163,
    "start_time": "2023-01-17T20:04:06.673Z"
   },
   {
    "duration": 16,
    "start_time": "2023-01-17T20:04:06.838Z"
   },
   {
    "duration": 33,
    "start_time": "2023-01-17T20:04:06.855Z"
   },
   {
    "duration": 60,
    "start_time": "2023-01-17T20:04:06.889Z"
   },
   {
    "duration": 45,
    "start_time": "2023-01-17T20:04:06.951Z"
   },
   {
    "duration": 788,
    "start_time": "2023-01-17T20:04:06.998Z"
   },
   {
    "duration": 1195,
    "start_time": "2023-01-17T20:04:07.788Z"
   },
   {
    "duration": 494,
    "start_time": "2023-01-17T20:04:08.986Z"
   },
   {
    "duration": 5,
    "start_time": "2023-01-17T20:04:09.482Z"
   },
   {
    "duration": 1115,
    "start_time": "2023-01-17T20:04:09.489Z"
   },
   {
    "duration": 14,
    "start_time": "2023-01-17T20:04:10.605Z"
   },
   {
    "duration": 1064,
    "start_time": "2023-01-17T20:04:10.621Z"
   },
   {
    "duration": 27,
    "start_time": "2023-01-17T20:04:11.687Z"
   },
   {
    "duration": 2388,
    "start_time": "2023-01-17T20:04:11.716Z"
   },
   {
    "duration": 12,
    "start_time": "2023-01-17T20:04:14.106Z"
   },
   {
    "duration": 23,
    "start_time": "2023-01-17T20:04:14.120Z"
   },
   {
    "duration": 346,
    "start_time": "2023-01-17T20:04:14.145Z"
   },
   {
    "duration": 363,
    "start_time": "2023-01-17T20:04:14.492Z"
   },
   {
    "duration": 332,
    "start_time": "2023-01-17T20:04:14.857Z"
   },
   {
    "duration": 347,
    "start_time": "2023-01-17T20:04:15.191Z"
   },
   {
    "duration": 351,
    "start_time": "2023-01-17T20:04:15.540Z"
   },
   {
    "duration": 64,
    "start_time": "2023-01-17T20:04:15.893Z"
   },
   {
    "duration": 8,
    "start_time": "2023-01-17T20:04:15.959Z"
   },
   {
    "duration": 635,
    "start_time": "2023-01-17T20:04:15.968Z"
   },
   {
    "duration": 12,
    "start_time": "2023-01-17T20:04:16.605Z"
   },
   {
    "duration": 35,
    "start_time": "2023-01-17T20:04:16.619Z"
   },
   {
    "duration": 687,
    "start_time": "2023-01-17T20:04:16.656Z"
   },
   {
    "duration": 6,
    "start_time": "2023-01-17T20:04:17.345Z"
   },
   {
    "duration": 24,
    "start_time": "2023-01-17T20:04:17.353Z"
   },
   {
    "duration": 15,
    "start_time": "2023-01-17T20:04:17.379Z"
   },
   {
    "duration": 43,
    "start_time": "2023-01-17T20:04:17.396Z"
   },
   {
    "duration": 646,
    "start_time": "2023-01-17T20:04:17.441Z"
   },
   {
    "duration": 7,
    "start_time": "2023-01-17T20:04:18.089Z"
   },
   {
    "duration": 20,
    "start_time": "2023-01-17T20:04:18.098Z"
   },
   {
    "duration": 1107,
    "start_time": "2023-01-17T20:12:27.012Z"
   },
   {
    "duration": 1179,
    "start_time": "2023-01-17T20:15:46.509Z"
   },
   {
    "duration": 34,
    "start_time": "2023-01-17T20:15:47.690Z"
   },
   {
    "duration": 17,
    "start_time": "2023-01-17T20:15:47.726Z"
   },
   {
    "duration": 13,
    "start_time": "2023-01-17T20:15:47.744Z"
   },
   {
    "duration": 8,
    "start_time": "2023-01-17T20:15:47.759Z"
   },
   {
    "duration": 8,
    "start_time": "2023-01-17T20:15:47.769Z"
   },
   {
    "duration": 9,
    "start_time": "2023-01-17T20:15:47.778Z"
   },
   {
    "duration": 30,
    "start_time": "2023-01-17T20:15:47.788Z"
   },
   {
    "duration": 5,
    "start_time": "2023-01-17T20:15:47.820Z"
   },
   {
    "duration": 13,
    "start_time": "2023-01-17T20:15:47.826Z"
   },
   {
    "duration": 6,
    "start_time": "2023-01-17T20:15:47.841Z"
   },
   {
    "duration": 12,
    "start_time": "2023-01-17T20:15:47.848Z"
   },
   {
    "duration": 59,
    "start_time": "2023-01-17T20:15:47.862Z"
   },
   {
    "duration": 7,
    "start_time": "2023-01-17T20:15:47.924Z"
   },
   {
    "duration": 38,
    "start_time": "2023-01-17T20:15:47.932Z"
   },
   {
    "duration": 183,
    "start_time": "2023-01-17T20:15:47.972Z"
   },
   {
    "duration": 7,
    "start_time": "2023-01-17T20:15:48.156Z"
   },
   {
    "duration": 49,
    "start_time": "2023-01-17T20:15:48.165Z"
   },
   {
    "duration": 118,
    "start_time": "2023-01-17T20:15:48.215Z"
   },
   {
    "duration": 7,
    "start_time": "2023-01-17T20:15:48.335Z"
   },
   {
    "duration": 142,
    "start_time": "2023-01-17T20:15:48.343Z"
   },
   {
    "duration": 103,
    "start_time": "2023-01-17T20:15:48.487Z"
   },
   {
    "duration": 7,
    "start_time": "2023-01-17T20:15:48.592Z"
   },
   {
    "duration": 139,
    "start_time": "2023-01-17T20:15:48.613Z"
   },
   {
    "duration": 125,
    "start_time": "2023-01-17T20:15:48.754Z"
   },
   {
    "duration": 6,
    "start_time": "2023-01-17T20:15:48.881Z"
   },
   {
    "duration": 187,
    "start_time": "2023-01-17T20:15:48.889Z"
   },
   {
    "duration": 150,
    "start_time": "2023-01-17T20:15:49.078Z"
   },
   {
    "duration": 7,
    "start_time": "2023-01-17T20:15:49.229Z"
   },
   {
    "duration": 157,
    "start_time": "2023-01-17T20:15:49.237Z"
   },
   {
    "duration": 22,
    "start_time": "2023-01-17T20:15:49.396Z"
   },
   {
    "duration": 11,
    "start_time": "2023-01-17T20:15:49.421Z"
   },
   {
    "duration": 28,
    "start_time": "2023-01-17T20:15:49.433Z"
   },
   {
    "duration": 56,
    "start_time": "2023-01-17T20:15:49.463Z"
   },
   {
    "duration": 763,
    "start_time": "2023-01-17T20:15:49.521Z"
   },
   {
    "duration": 1231,
    "start_time": "2023-01-17T20:15:50.286Z"
   },
   {
    "duration": 509,
    "start_time": "2023-01-17T20:15:51.519Z"
   },
   {
    "duration": 7,
    "start_time": "2023-01-17T20:15:52.030Z"
   },
   {
    "duration": 1046,
    "start_time": "2023-01-17T20:15:52.039Z"
   },
   {
    "duration": 18,
    "start_time": "2023-01-17T20:15:53.087Z"
   },
   {
    "duration": 1023,
    "start_time": "2023-01-17T20:15:53.110Z"
   },
   {
    "duration": 17,
    "start_time": "2023-01-17T20:15:54.135Z"
   },
   {
    "duration": 2334,
    "start_time": "2023-01-17T20:15:54.153Z"
   },
   {
    "duration": 8,
    "start_time": "2023-01-17T20:15:56.488Z"
   },
   {
    "duration": 28,
    "start_time": "2023-01-17T20:15:56.497Z"
   },
   {
    "duration": 376,
    "start_time": "2023-01-17T20:15:56.527Z"
   },
   {
    "duration": 340,
    "start_time": "2023-01-17T20:15:56.905Z"
   },
   {
    "duration": 368,
    "start_time": "2023-01-17T20:15:57.247Z"
   },
   {
    "duration": 313,
    "start_time": "2023-01-17T20:15:57.617Z"
   },
   {
    "duration": 318,
    "start_time": "2023-01-17T20:15:57.932Z"
   },
   {
    "duration": 49,
    "start_time": "2023-01-17T20:15:58.252Z"
   },
   {
    "duration": 17,
    "start_time": "2023-01-17T20:15:58.303Z"
   },
   {
    "duration": 592,
    "start_time": "2023-01-17T20:15:58.321Z"
   },
   {
    "duration": 7,
    "start_time": "2023-01-17T20:15:58.914Z"
   },
   {
    "duration": 26,
    "start_time": "2023-01-17T20:15:58.923Z"
   },
   {
    "duration": 666,
    "start_time": "2023-01-17T20:15:58.952Z"
   },
   {
    "duration": 6,
    "start_time": "2023-01-17T20:15:59.620Z"
   },
   {
    "duration": 15,
    "start_time": "2023-01-17T20:15:59.628Z"
   },
   {
    "duration": 6,
    "start_time": "2023-01-17T20:15:59.644Z"
   },
   {
    "duration": 11,
    "start_time": "2023-01-17T20:15:59.652Z"
   },
   {
    "duration": 542,
    "start_time": "2023-01-17T20:15:59.666Z"
   },
   {
    "duration": 9,
    "start_time": "2023-01-17T20:16:00.209Z"
   },
   {
    "duration": 46,
    "start_time": "2023-01-17T20:16:00.220Z"
   },
   {
    "duration": 74,
    "start_time": "2023-01-17T21:47:21.675Z"
   },
   {
    "duration": 1189,
    "start_time": "2023-01-17T21:49:42.131Z"
   },
   {
    "duration": 34,
    "start_time": "2023-01-17T21:49:43.322Z"
   },
   {
    "duration": 25,
    "start_time": "2023-01-17T21:49:43.358Z"
   },
   {
    "duration": 20,
    "start_time": "2023-01-17T21:49:43.386Z"
   },
   {
    "duration": 4,
    "start_time": "2023-01-17T21:49:43.414Z"
   },
   {
    "duration": 8,
    "start_time": "2023-01-17T21:49:43.420Z"
   },
   {
    "duration": 12,
    "start_time": "2023-01-17T21:49:43.430Z"
   },
   {
    "duration": 19,
    "start_time": "2023-01-17T21:49:43.444Z"
   },
   {
    "duration": 6,
    "start_time": "2023-01-17T21:49:43.465Z"
   },
   {
    "duration": 10,
    "start_time": "2023-01-17T21:49:43.475Z"
   },
   {
    "duration": 9,
    "start_time": "2023-01-17T21:49:43.514Z"
   },
   {
    "duration": 13,
    "start_time": "2023-01-17T21:49:43.524Z"
   },
   {
    "duration": 74,
    "start_time": "2023-01-17T21:49:43.540Z"
   },
   {
    "duration": 9,
    "start_time": "2023-01-17T21:49:43.615Z"
   },
   {
    "duration": 38,
    "start_time": "2023-01-17T21:49:43.625Z"
   },
   {
    "duration": 178,
    "start_time": "2023-01-17T21:49:43.665Z"
   },
   {
    "duration": 9,
    "start_time": "2023-01-17T21:49:43.844Z"
   },
   {
    "duration": 43,
    "start_time": "2023-01-17T21:49:43.854Z"
   },
   {
    "duration": 115,
    "start_time": "2023-01-17T21:49:43.913Z"
   },
   {
    "duration": 7,
    "start_time": "2023-01-17T21:49:44.030Z"
   },
   {
    "duration": 144,
    "start_time": "2023-01-17T21:49:44.038Z"
   },
   {
    "duration": 109,
    "start_time": "2023-01-17T21:49:44.184Z"
   },
   {
    "duration": 6,
    "start_time": "2023-01-17T21:49:44.295Z"
   },
   {
    "duration": 155,
    "start_time": "2023-01-17T21:49:44.303Z"
   },
   {
    "duration": 121,
    "start_time": "2023-01-17T21:49:44.460Z"
   },
   {
    "duration": 6,
    "start_time": "2023-01-17T21:49:44.583Z"
   },
   {
    "duration": 161,
    "start_time": "2023-01-17T21:49:44.591Z"
   },
   {
    "duration": 156,
    "start_time": "2023-01-17T21:49:44.758Z"
   },
   {
    "duration": 7,
    "start_time": "2023-01-17T21:49:44.916Z"
   },
   {
    "duration": 160,
    "start_time": "2023-01-17T21:49:44.925Z"
   },
   {
    "duration": 14,
    "start_time": "2023-01-17T21:49:45.087Z"
   },
   {
    "duration": 19,
    "start_time": "2023-01-17T21:49:45.103Z"
   },
   {
    "duration": 37,
    "start_time": "2023-01-17T21:49:45.125Z"
   },
   {
    "duration": 69,
    "start_time": "2023-01-17T21:49:45.163Z"
   },
   {
    "duration": 744,
    "start_time": "2023-01-17T21:49:45.234Z"
   },
   {
    "duration": 1275,
    "start_time": "2023-01-17T21:49:45.979Z"
   },
   {
    "duration": 521,
    "start_time": "2023-01-17T21:49:47.256Z"
   },
   {
    "duration": 6,
    "start_time": "2023-01-17T21:49:47.779Z"
   },
   {
    "duration": 1055,
    "start_time": "2023-01-17T21:49:47.786Z"
   },
   {
    "duration": 15,
    "start_time": "2023-01-17T21:49:48.843Z"
   },
   {
    "duration": 1110,
    "start_time": "2023-01-17T21:49:48.860Z"
   },
   {
    "duration": 17,
    "start_time": "2023-01-17T21:49:49.971Z"
   },
   {
    "duration": 2349,
    "start_time": "2023-01-17T21:49:49.990Z"
   },
   {
    "duration": 7,
    "start_time": "2023-01-17T21:49:52.341Z"
   },
   {
    "duration": 34,
    "start_time": "2023-01-17T21:49:52.349Z"
   },
   {
    "duration": 338,
    "start_time": "2023-01-17T21:49:52.384Z"
   },
   {
    "duration": 348,
    "start_time": "2023-01-17T21:49:52.723Z"
   },
   {
    "duration": 352,
    "start_time": "2023-01-17T21:49:53.073Z"
   },
   {
    "duration": 347,
    "start_time": "2023-01-17T21:49:53.428Z"
   },
   {
    "duration": 336,
    "start_time": "2023-01-17T21:49:53.777Z"
   },
   {
    "duration": 49,
    "start_time": "2023-01-17T21:49:54.116Z"
   },
   {
    "duration": 8,
    "start_time": "2023-01-17T21:49:54.167Z"
   },
   {
    "duration": 614,
    "start_time": "2023-01-17T21:49:54.177Z"
   },
   {
    "duration": 5,
    "start_time": "2023-01-17T21:49:54.793Z"
   },
   {
    "duration": 23,
    "start_time": "2023-01-17T21:49:54.800Z"
   },
   {
    "duration": 649,
    "start_time": "2023-01-17T21:49:54.825Z"
   },
   {
    "duration": 8,
    "start_time": "2023-01-17T21:49:55.476Z"
   },
   {
    "duration": 28,
    "start_time": "2023-01-17T21:49:55.486Z"
   },
   {
    "duration": 5,
    "start_time": "2023-01-17T21:49:55.516Z"
   },
   {
    "duration": 25,
    "start_time": "2023-01-17T21:49:55.523Z"
   },
   {
    "duration": 528,
    "start_time": "2023-01-17T21:49:55.550Z"
   },
   {
    "duration": 6,
    "start_time": "2023-01-17T21:49:56.080Z"
   },
   {
    "duration": 35,
    "start_time": "2023-01-17T21:49:56.088Z"
   },
   {
    "duration": 1267,
    "start_time": "2023-01-17T21:58:43.265Z"
   },
   {
    "duration": 35,
    "start_time": "2023-01-17T21:58:44.534Z"
   },
   {
    "duration": 18,
    "start_time": "2023-01-17T21:58:44.571Z"
   },
   {
    "duration": 17,
    "start_time": "2023-01-17T21:58:44.591Z"
   },
   {
    "duration": 14,
    "start_time": "2023-01-17T21:58:44.613Z"
   },
   {
    "duration": 16,
    "start_time": "2023-01-17T21:58:44.628Z"
   },
   {
    "duration": 12,
    "start_time": "2023-01-17T21:58:44.647Z"
   },
   {
    "duration": 33,
    "start_time": "2023-01-17T21:58:44.661Z"
   },
   {
    "duration": 19,
    "start_time": "2023-01-17T21:58:44.696Z"
   },
   {
    "duration": 24,
    "start_time": "2023-01-17T21:58:44.720Z"
   },
   {
    "duration": 21,
    "start_time": "2023-01-17T21:58:44.749Z"
   },
   {
    "duration": 11,
    "start_time": "2023-01-17T21:58:44.772Z"
   },
   {
    "duration": 40,
    "start_time": "2023-01-17T21:58:44.785Z"
   },
   {
    "duration": 8,
    "start_time": "2023-01-17T21:58:44.826Z"
   },
   {
    "duration": 44,
    "start_time": "2023-01-17T21:58:44.836Z"
   },
   {
    "duration": 186,
    "start_time": "2023-01-17T21:58:44.881Z"
   },
   {
    "duration": 7,
    "start_time": "2023-01-17T21:58:45.069Z"
   },
   {
    "duration": 71,
    "start_time": "2023-01-17T21:58:45.078Z"
   },
   {
    "duration": 120,
    "start_time": "2023-01-17T21:58:45.151Z"
   },
   {
    "duration": 7,
    "start_time": "2023-01-17T21:58:45.272Z"
   },
   {
    "duration": 153,
    "start_time": "2023-01-17T21:58:45.280Z"
   },
   {
    "duration": 105,
    "start_time": "2023-01-17T21:58:45.435Z"
   },
   {
    "duration": 6,
    "start_time": "2023-01-17T21:58:45.542Z"
   },
   {
    "duration": 151,
    "start_time": "2023-01-17T21:58:45.550Z"
   },
   {
    "duration": 129,
    "start_time": "2023-01-17T21:58:45.703Z"
   },
   {
    "duration": 7,
    "start_time": "2023-01-17T21:58:45.834Z"
   },
   {
    "duration": 146,
    "start_time": "2023-01-17T21:58:45.843Z"
   },
   {
    "duration": 138,
    "start_time": "2023-01-17T21:58:45.993Z"
   },
   {
    "duration": 6,
    "start_time": "2023-01-17T21:58:46.133Z"
   },
   {
    "duration": 155,
    "start_time": "2023-01-17T21:58:46.141Z"
   },
   {
    "duration": 33,
    "start_time": "2023-01-17T21:58:46.298Z"
   },
   {
    "duration": 19,
    "start_time": "2023-01-17T21:58:46.332Z"
   },
   {
    "duration": 32,
    "start_time": "2023-01-17T21:58:46.353Z"
   },
   {
    "duration": 54,
    "start_time": "2023-01-17T21:58:46.387Z"
   },
   {
    "duration": 789,
    "start_time": "2023-01-17T21:58:46.443Z"
   },
   {
    "duration": 1183,
    "start_time": "2023-01-17T21:58:47.234Z"
   },
   {
    "duration": 524,
    "start_time": "2023-01-17T21:58:48.419Z"
   },
   {
    "duration": 7,
    "start_time": "2023-01-17T21:58:48.945Z"
   },
   {
    "duration": 1070,
    "start_time": "2023-01-17T21:58:48.955Z"
   },
   {
    "duration": 20,
    "start_time": "2023-01-17T21:58:50.028Z"
   },
   {
    "duration": 1177,
    "start_time": "2023-01-17T21:58:50.051Z"
   },
   {
    "duration": 18,
    "start_time": "2023-01-17T21:58:51.230Z"
   },
   {
    "duration": 2332,
    "start_time": "2023-01-17T21:58:51.249Z"
   },
   {
    "duration": 8,
    "start_time": "2023-01-17T21:58:53.583Z"
   },
   {
    "duration": 50,
    "start_time": "2023-01-17T21:58:53.593Z"
   },
   {
    "duration": 408,
    "start_time": "2023-01-17T21:58:53.646Z"
   },
   {
    "duration": 378,
    "start_time": "2023-01-17T21:58:54.056Z"
   },
   {
    "duration": 350,
    "start_time": "2023-01-17T21:58:54.435Z"
   },
   {
    "duration": 331,
    "start_time": "2023-01-17T21:58:54.786Z"
   },
   {
    "duration": 340,
    "start_time": "2023-01-17T21:58:55.120Z"
   },
   {
    "duration": 69,
    "start_time": "2023-01-17T21:58:55.462Z"
   },
   {
    "duration": 8,
    "start_time": "2023-01-17T21:58:55.533Z"
   },
   {
    "duration": 636,
    "start_time": "2023-01-17T21:58:55.543Z"
   },
   {
    "duration": 7,
    "start_time": "2023-01-17T21:58:56.181Z"
   },
   {
    "duration": 28,
    "start_time": "2023-01-17T21:58:56.190Z"
   },
   {
    "duration": 643,
    "start_time": "2023-01-17T21:58:56.220Z"
   },
   {
    "duration": 6,
    "start_time": "2023-01-17T21:58:56.865Z"
   },
   {
    "duration": 18,
    "start_time": "2023-01-17T21:58:56.872Z"
   },
   {
    "duration": 21,
    "start_time": "2023-01-17T21:58:56.892Z"
   },
   {
    "duration": 10,
    "start_time": "2023-01-17T21:58:56.915Z"
   },
   {
    "duration": 521,
    "start_time": "2023-01-17T21:58:56.928Z"
   },
   {
    "duration": 6,
    "start_time": "2023-01-17T21:58:57.451Z"
   },
   {
    "duration": 15,
    "start_time": "2023-01-17T21:58:57.459Z"
   },
   {
    "duration": 1451,
    "start_time": "2023-01-18T12:46:31.460Z"
   },
   {
    "duration": 176,
    "start_time": "2023-01-18T12:46:32.914Z"
   },
   {
    "duration": 18,
    "start_time": "2023-01-18T12:46:33.092Z"
   },
   {
    "duration": 17,
    "start_time": "2023-01-18T12:46:33.112Z"
   },
   {
    "duration": 4,
    "start_time": "2023-01-18T12:46:33.135Z"
   },
   {
    "duration": 36,
    "start_time": "2023-01-18T12:46:33.141Z"
   },
   {
    "duration": 12,
    "start_time": "2023-01-18T12:46:33.179Z"
   },
   {
    "duration": 23,
    "start_time": "2023-01-18T12:46:33.194Z"
   },
   {
    "duration": 7,
    "start_time": "2023-01-18T12:46:33.219Z"
   },
   {
    "duration": 19,
    "start_time": "2023-01-18T12:46:33.228Z"
   },
   {
    "duration": 22,
    "start_time": "2023-01-18T12:46:33.253Z"
   },
   {
    "duration": 10,
    "start_time": "2023-01-18T12:46:33.278Z"
   },
   {
    "duration": 83,
    "start_time": "2023-01-18T12:46:33.291Z"
   },
   {
    "duration": 9,
    "start_time": "2023-01-18T12:46:33.378Z"
   },
   {
    "duration": 50,
    "start_time": "2023-01-18T12:46:33.390Z"
   },
   {
    "duration": 176,
    "start_time": "2023-01-18T12:46:33.441Z"
   },
   {
    "duration": 8,
    "start_time": "2023-01-18T12:46:33.619Z"
   },
   {
    "duration": 49,
    "start_time": "2023-01-18T12:46:33.628Z"
   },
   {
    "duration": 187,
    "start_time": "2023-01-18T12:46:33.679Z"
   },
   {
    "duration": 8,
    "start_time": "2023-01-18T12:46:33.869Z"
   },
   {
    "duration": 144,
    "start_time": "2023-01-18T12:46:33.879Z"
   },
   {
    "duration": 145,
    "start_time": "2023-01-18T12:46:34.024Z"
   },
   {
    "duration": 8,
    "start_time": "2023-01-18T12:46:34.171Z"
   },
   {
    "duration": 154,
    "start_time": "2023-01-18T12:46:34.181Z"
   },
   {
    "duration": 156,
    "start_time": "2023-01-18T12:46:34.337Z"
   },
   {
    "duration": 7,
    "start_time": "2023-01-18T12:46:34.494Z"
   },
   {
    "duration": 213,
    "start_time": "2023-01-18T12:46:34.503Z"
   },
   {
    "duration": 175,
    "start_time": "2023-01-18T12:46:34.719Z"
   },
   {
    "duration": 6,
    "start_time": "2023-01-18T12:46:34.896Z"
   },
   {
    "duration": 168,
    "start_time": "2023-01-18T12:46:34.904Z"
   },
   {
    "duration": 15,
    "start_time": "2023-01-18T12:46:35.074Z"
   },
   {
    "duration": 29,
    "start_time": "2023-01-18T12:46:35.091Z"
   },
   {
    "duration": 57,
    "start_time": "2023-01-18T12:46:35.122Z"
   },
   {
    "duration": 41,
    "start_time": "2023-01-18T12:46:35.181Z"
   },
   {
    "duration": 854,
    "start_time": "2023-01-18T12:46:35.224Z"
   },
   {
    "duration": 1336,
    "start_time": "2023-01-18T12:46:36.079Z"
   },
   {
    "duration": 523,
    "start_time": "2023-01-18T12:46:37.417Z"
   },
   {
    "duration": 18,
    "start_time": "2023-01-18T12:46:37.948Z"
   },
   {
    "duration": 1141,
    "start_time": "2023-01-18T12:46:37.968Z"
   },
   {
    "duration": 15,
    "start_time": "2023-01-18T12:46:39.110Z"
   },
   {
    "duration": 1105,
    "start_time": "2023-01-18T12:46:39.129Z"
   },
   {
    "duration": 37,
    "start_time": "2023-01-18T12:46:40.236Z"
   },
   {
    "duration": 2542,
    "start_time": "2023-01-18T12:46:40.275Z"
   },
   {
    "duration": 8,
    "start_time": "2023-01-18T12:46:42.819Z"
   },
   {
    "duration": 30,
    "start_time": "2023-01-18T12:46:42.828Z"
   },
   {
    "duration": 306,
    "start_time": "2023-01-18T12:46:42.859Z"
   },
   {
    "duration": 370,
    "start_time": "2023-01-18T12:46:43.169Z"
   },
   {
    "duration": 346,
    "start_time": "2023-01-18T12:46:43.541Z"
   },
   {
    "duration": 361,
    "start_time": "2023-01-18T12:46:43.889Z"
   },
   {
    "duration": 356,
    "start_time": "2023-01-18T12:46:44.253Z"
   },
   {
    "duration": 72,
    "start_time": "2023-01-18T12:46:44.611Z"
   },
   {
    "duration": 7,
    "start_time": "2023-01-18T12:46:44.685Z"
   },
   {
    "duration": 617,
    "start_time": "2023-01-18T12:46:44.693Z"
   },
   {
    "duration": 7,
    "start_time": "2023-01-18T12:46:45.312Z"
   },
   {
    "duration": 39,
    "start_time": "2023-01-18T12:46:45.321Z"
   },
   {
    "duration": 694,
    "start_time": "2023-01-18T12:46:45.365Z"
   },
   {
    "duration": 7,
    "start_time": "2023-01-18T12:46:46.061Z"
   },
   {
    "duration": 18,
    "start_time": "2023-01-18T12:46:46.070Z"
   },
   {
    "duration": 5,
    "start_time": "2023-01-18T12:46:46.090Z"
   },
   {
    "duration": 12,
    "start_time": "2023-01-18T12:46:46.096Z"
   },
   {
    "duration": 574,
    "start_time": "2023-01-18T12:46:46.109Z"
   },
   {
    "duration": 6,
    "start_time": "2023-01-18T12:46:46.685Z"
   },
   {
    "duration": 20,
    "start_time": "2023-01-18T12:46:46.694Z"
   },
   {
    "duration": 21,
    "start_time": "2023-01-18T12:48:16.349Z"
   },
   {
    "duration": 5552,
    "start_time": "2023-01-18T12:48:35.881Z"
   },
   {
    "duration": 1287,
    "start_time": "2023-01-18T17:02:27.883Z"
   },
   {
    "duration": 165,
    "start_time": "2023-01-18T17:02:29.172Z"
   },
   {
    "duration": 19,
    "start_time": "2023-01-18T17:02:29.338Z"
   },
   {
    "duration": 13,
    "start_time": "2023-01-18T17:02:29.359Z"
   },
   {
    "duration": 3,
    "start_time": "2023-01-18T17:02:29.374Z"
   },
   {
    "duration": 15,
    "start_time": "2023-01-18T17:02:29.379Z"
   },
   {
    "duration": 23,
    "start_time": "2023-01-18T17:02:29.396Z"
   },
   {
    "duration": 21,
    "start_time": "2023-01-18T17:02:29.420Z"
   },
   {
    "duration": 9,
    "start_time": "2023-01-18T17:02:29.443Z"
   },
   {
    "duration": 8,
    "start_time": "2023-01-18T17:02:29.455Z"
   },
   {
    "duration": 6,
    "start_time": "2023-01-18T17:02:29.465Z"
   },
   {
    "duration": 11,
    "start_time": "2023-01-18T17:02:29.473Z"
   },
   {
    "duration": 73,
    "start_time": "2023-01-18T17:02:29.486Z"
   },
   {
    "duration": 7,
    "start_time": "2023-01-18T17:02:29.561Z"
   },
   {
    "duration": 33,
    "start_time": "2023-01-18T17:02:29.570Z"
   },
   {
    "duration": 184,
    "start_time": "2023-01-18T17:02:29.604Z"
   },
   {
    "duration": 8,
    "start_time": "2023-01-18T17:02:29.789Z"
   },
   {
    "duration": 56,
    "start_time": "2023-01-18T17:02:29.799Z"
   },
   {
    "duration": 117,
    "start_time": "2023-01-18T17:02:29.857Z"
   },
   {
    "duration": 6,
    "start_time": "2023-01-18T17:02:29.976Z"
   },
   {
    "duration": 138,
    "start_time": "2023-01-18T17:02:29.984Z"
   },
   {
    "duration": 102,
    "start_time": "2023-01-18T17:02:30.124Z"
   },
   {
    "duration": 6,
    "start_time": "2023-01-18T17:02:30.228Z"
   },
   {
    "duration": 139,
    "start_time": "2023-01-18T17:02:30.248Z"
   },
   {
    "duration": 112,
    "start_time": "2023-01-18T17:02:30.389Z"
   },
   {
    "duration": 7,
    "start_time": "2023-01-18T17:02:30.503Z"
   },
   {
    "duration": 174,
    "start_time": "2023-01-18T17:02:30.512Z"
   },
   {
    "duration": 136,
    "start_time": "2023-01-18T17:02:30.690Z"
   },
   {
    "duration": 6,
    "start_time": "2023-01-18T17:02:30.828Z"
   },
   {
    "duration": 157,
    "start_time": "2023-01-18T17:02:30.836Z"
   },
   {
    "duration": 13,
    "start_time": "2023-01-18T17:02:30.995Z"
   },
   {
    "duration": 24,
    "start_time": "2023-01-18T17:02:31.010Z"
   },
   {
    "duration": 54,
    "start_time": "2023-01-18T17:02:31.036Z"
   },
   {
    "duration": 16,
    "start_time": "2023-01-18T17:02:31.091Z"
   },
   {
    "duration": 58,
    "start_time": "2023-01-18T17:02:31.109Z"
   },
   {
    "duration": 747,
    "start_time": "2023-01-18T17:02:31.168Z"
   },
   {
    "duration": 1202,
    "start_time": "2023-01-18T17:02:31.917Z"
   },
   {
    "duration": 549,
    "start_time": "2023-01-18T17:02:33.121Z"
   },
   {
    "duration": 5,
    "start_time": "2023-01-18T17:02:33.672Z"
   },
   {
    "duration": 1190,
    "start_time": "2023-01-18T17:02:33.679Z"
   },
   {
    "duration": 5216,
    "start_time": "2023-01-18T17:02:34.871Z"
   },
   {
    "duration": 13,
    "start_time": "2023-01-18T17:02:40.088Z"
   },
   {
    "duration": 933,
    "start_time": "2023-01-18T17:02:40.102Z"
   },
   {
    "duration": 22,
    "start_time": "2023-01-18T17:02:41.037Z"
   },
   {
    "duration": 2219,
    "start_time": "2023-01-18T17:02:41.060Z"
   },
   {
    "duration": 9,
    "start_time": "2023-01-18T17:02:43.281Z"
   },
   {
    "duration": 116,
    "start_time": "2023-01-18T17:02:43.292Z"
   },
   {
    "duration": 450,
    "start_time": "2023-01-18T17:02:43.411Z"
   },
   {
    "duration": 334,
    "start_time": "2023-01-18T17:02:43.862Z"
   },
   {
    "duration": 335,
    "start_time": "2023-01-18T17:02:44.199Z"
   },
   {
    "duration": 320,
    "start_time": "2023-01-18T17:02:44.536Z"
   },
   {
    "duration": 309,
    "start_time": "2023-01-18T17:02:44.858Z"
   },
   {
    "duration": 81,
    "start_time": "2023-01-18T17:02:45.169Z"
   },
   {
    "duration": 10,
    "start_time": "2023-01-18T17:02:45.251Z"
   },
   {
    "duration": 601,
    "start_time": "2023-01-18T17:02:45.263Z"
   },
   {
    "duration": 5,
    "start_time": "2023-01-18T17:02:45.866Z"
   },
   {
    "duration": 16,
    "start_time": "2023-01-18T17:02:45.873Z"
   },
   {
    "duration": 545,
    "start_time": "2023-01-18T17:02:45.891Z"
   },
   {
    "duration": 12,
    "start_time": "2023-01-18T17:02:46.438Z"
   },
   {
    "duration": 14,
    "start_time": "2023-01-18T17:02:46.452Z"
   },
   {
    "duration": 6,
    "start_time": "2023-01-18T17:02:46.468Z"
   },
   {
    "duration": 15,
    "start_time": "2023-01-18T17:02:46.476Z"
   },
   {
    "duration": 640,
    "start_time": "2023-01-18T17:02:46.493Z"
   },
   {
    "duration": 14,
    "start_time": "2023-01-18T17:02:47.135Z"
   },
   {
    "duration": 5,
    "start_time": "2023-01-18T17:02:47.151Z"
   },
   {
    "duration": 8,
    "start_time": "2023-02-14T16:55:25.514Z"
   },
   {
    "duration": 1267,
    "start_time": "2023-02-14T16:55:25.524Z"
   },
   {
    "duration": 85,
    "start_time": "2023-02-14T16:55:26.794Z"
   },
   {
    "duration": 19,
    "start_time": "2023-02-14T16:55:26.881Z"
   },
   {
    "duration": 18,
    "start_time": "2023-02-14T16:55:26.903Z"
   },
   {
    "duration": 16,
    "start_time": "2023-02-14T16:55:26.924Z"
   },
   {
    "duration": 13,
    "start_time": "2023-02-14T16:55:26.943Z"
   },
   {
    "duration": 26,
    "start_time": "2023-02-14T16:55:26.958Z"
   },
   {
    "duration": 22,
    "start_time": "2023-02-14T16:55:26.986Z"
   },
   {
    "duration": 21,
    "start_time": "2023-02-14T16:55:27.010Z"
   },
   {
    "duration": 31,
    "start_time": "2023-02-14T16:55:27.034Z"
   },
   {
    "duration": 17,
    "start_time": "2023-02-14T16:55:27.067Z"
   },
   {
    "duration": 17,
    "start_time": "2023-02-14T16:55:27.086Z"
   },
   {
    "duration": 80,
    "start_time": "2023-02-14T16:55:27.105Z"
   },
   {
    "duration": 11,
    "start_time": "2023-02-14T16:55:27.187Z"
   },
   {
    "duration": 78,
    "start_time": "2023-02-14T16:55:27.201Z"
   },
   {
    "duration": 220,
    "start_time": "2023-02-14T16:55:27.282Z"
   },
   {
    "duration": 12,
    "start_time": "2023-02-14T16:55:27.504Z"
   },
   {
    "duration": 44,
    "start_time": "2023-02-14T16:55:27.517Z"
   },
   {
    "duration": 130,
    "start_time": "2023-02-14T16:55:27.563Z"
   },
   {
    "duration": 12,
    "start_time": "2023-02-14T16:55:27.695Z"
   },
   {
    "duration": 140,
    "start_time": "2023-02-14T16:55:27.709Z"
   },
   {
    "duration": 114,
    "start_time": "2023-02-14T16:55:27.852Z"
   },
   {
    "duration": 8,
    "start_time": "2023-02-14T16:55:27.968Z"
   },
   {
    "duration": 155,
    "start_time": "2023-02-14T16:55:27.978Z"
   },
   {
    "duration": 141,
    "start_time": "2023-02-14T16:55:28.135Z"
   },
   {
    "duration": 9,
    "start_time": "2023-02-14T16:55:28.278Z"
   },
   {
    "duration": 141,
    "start_time": "2023-02-14T16:55:28.289Z"
   },
   {
    "duration": 134,
    "start_time": "2023-02-14T16:55:28.435Z"
   },
   {
    "duration": 6,
    "start_time": "2023-02-14T16:55:28.571Z"
   },
   {
    "duration": 151,
    "start_time": "2023-02-14T16:55:28.578Z"
   },
   {
    "duration": 21,
    "start_time": "2023-02-14T16:55:28.731Z"
   },
   {
    "duration": 10,
    "start_time": "2023-02-14T16:55:28.753Z"
   },
   {
    "duration": 51,
    "start_time": "2023-02-14T16:55:28.765Z"
   },
   {
    "duration": 15,
    "start_time": "2023-02-14T16:55:28.817Z"
   },
   {
    "duration": 48,
    "start_time": "2023-02-14T16:55:28.834Z"
   },
   {
    "duration": 810,
    "start_time": "2023-02-14T16:55:28.884Z"
   },
   {
    "duration": 1310,
    "start_time": "2023-02-14T16:55:29.696Z"
   },
   {
    "duration": 511,
    "start_time": "2023-02-14T16:55:31.008Z"
   },
   {
    "duration": 7,
    "start_time": "2023-02-14T16:55:31.522Z"
   },
   {
    "duration": 1015,
    "start_time": "2023-02-14T16:55:31.531Z"
   },
   {
    "duration": 5193,
    "start_time": "2023-02-14T16:55:32.548Z"
   },
   {
    "duration": 14,
    "start_time": "2023-02-14T16:55:37.743Z"
   },
   {
    "duration": 940,
    "start_time": "2023-02-14T16:55:37.759Z"
   },
   {
    "duration": 16,
    "start_time": "2023-02-14T16:55:38.703Z"
   },
   {
    "duration": 2269,
    "start_time": "2023-02-14T16:55:38.721Z"
   },
   {
    "duration": 13,
    "start_time": "2023-02-14T16:55:40.992Z"
   },
   {
    "duration": 14,
    "start_time": "2023-02-14T16:55:41.007Z"
   },
   {
    "duration": 463,
    "start_time": "2023-02-14T16:55:41.023Z"
   },
   {
    "duration": 345,
    "start_time": "2023-02-14T16:55:41.488Z"
   },
   {
    "duration": 310,
    "start_time": "2023-02-14T16:55:41.835Z"
   },
   {
    "duration": 309,
    "start_time": "2023-02-14T16:55:42.147Z"
   },
   {
    "duration": 353,
    "start_time": "2023-02-14T16:55:42.458Z"
   },
   {
    "duration": 52,
    "start_time": "2023-02-14T16:55:42.812Z"
   },
   {
    "duration": 8,
    "start_time": "2023-02-14T16:55:42.866Z"
   },
   {
    "duration": 620,
    "start_time": "2023-02-14T16:55:42.876Z"
   },
   {
    "duration": 10,
    "start_time": "2023-02-14T16:55:43.498Z"
   },
   {
    "duration": 21,
    "start_time": "2023-02-14T16:55:43.510Z"
   },
   {
    "duration": 563,
    "start_time": "2023-02-14T16:55:43.533Z"
   },
   {
    "duration": 9,
    "start_time": "2023-02-14T16:55:44.103Z"
   },
   {
    "duration": 20,
    "start_time": "2023-02-14T16:55:44.115Z"
   },
   {
    "duration": 12,
    "start_time": "2023-02-14T16:55:44.138Z"
   },
   {
    "duration": 31,
    "start_time": "2023-02-14T16:55:44.152Z"
   },
   {
    "duration": 650,
    "start_time": "2023-02-14T16:55:44.185Z"
   },
   {
    "duration": 6,
    "start_time": "2023-02-14T16:55:44.836Z"
   },
   {
    "duration": 6,
    "start_time": "2023-02-14T16:55:44.844Z"
   }
  ],
  "kernelspec": {
   "display_name": "Python 3 (ipykernel)",
   "language": "python",
   "name": "python3"
  },
  "language_info": {
   "codemirror_mode": {
    "name": "ipython",
    "version": 3
   },
   "file_extension": ".py",
   "mimetype": "text/x-python",
   "name": "python",
   "nbconvert_exporter": "python",
   "pygments_lexer": "ipython3",
   "version": "3.9.13"
  },
  "toc": {
   "base_numbering": 1,
   "nav_menu": {},
   "number_sections": true,
   "sideBar": true,
   "skip_h1_title": true,
   "title_cell": "Table of Contents",
   "title_sidebar": "Contents",
   "toc_cell": false,
   "toc_position": {},
   "toc_section_display": true,
   "toc_window_display": true
  }
 },
 "nbformat": 4,
 "nbformat_minor": 2
}
